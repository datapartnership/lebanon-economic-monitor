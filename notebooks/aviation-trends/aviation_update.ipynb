{
 "cells": [
  {
   "cell_type": "markdown",
   "metadata": {},
   "source": [
    "# Update on Aviation Trends\n",
    "\n",
    "The dataset used for this update is from [Aviation Stack](https://aviationstack.com/documentation). We used their API layer to extract arrivals and departures from BEY. We plan on validating this data with aviation data from OAG. The data has already been validated with a dataset from FlightRadar for the 16th of August 2024. The numbers on both datasets align. "
   ]
  },
  {
   "cell_type": "code",
   "execution_count": 4,
   "metadata": {
    "tags": [
     "remove-cell"
    ]
   },
   "outputs": [],
   "source": [
    "import pandas as pd\n",
    "import matplotlib.pyplot as plt"
   ]
  },
  {
   "cell_type": "markdown",
   "metadata": {},
   "source": [
    "Define a function to get a range of dates for the desirable date range"
   ]
  },
  {
   "cell_type": "code",
   "execution_count": 5,
   "metadata": {
    "tags": [
     "remove-cell"
    ]
   },
   "outputs": [],
   "source": [
    "from datetime import datetime, timedelta\n",
    "\n",
    "\n",
    "def daterange(start_date, end_date):\n",
    "    for n in range(int((end_date - start_date).days) + 1):\n",
    "        yield (start_date + timedelta(n)).strftime(\"%Y-%m-%d\")\n",
    "\n",
    "\n",
    "# Define the start and end dates\n",
    "start_date = datetime(2024, 8, 15)\n",
    "end_date = datetime(2024, 10, 7)"
   ]
  },
  {
   "cell_type": "code",
   "execution_count": 98,
   "metadata": {
    "tags": [
     "remove-cell"
    ]
   },
   "outputs": [],
   "source": [
    "# Define empty dataset to concat all the arrivals and departures\n",
    "departures = pd.DataFrame()\n",
    "arrivals = pd.DataFrame()"
   ]
  },
  {
   "cell_type": "code",
   "execution_count": 99,
   "metadata": {
    "tags": [
     "remove-cell"
    ]
   },
   "outputs": [
    {
     "name": "stderr",
     "output_type": "stream",
     "text": [
      "54it [03:03,  3.40s/it]\n"
     ]
    }
   ],
   "source": [
    "# run the API to collect arrivals and departures\n",
    "import requests\n",
    "import urllib3\n",
    "from tqdm import tqdm\n",
    "\n",
    "# Suppress only the InsecureRequestWarning from urllib3\n",
    "urllib3.disable_warnings(urllib3.exceptions.InsecureRequestWarning)\n",
    "\n",
    "# arr_iata_values = ['LOS', 'KWI', 'SHJ']\n",
    "# arr_iata_values = ','.join(arr_iata_values)\n",
    "\n",
    "for one_day in tqdm(daterange(start_date, end_date)):\n",
    "    params = {\n",
    "        \"access_key\": \"\",\n",
    "        \"dep_iata\": \"BEY\",\n",
    "        #'arr_iata': 'BEY',\n",
    "        \"limit\": \"100\",\n",
    "        # To get the next 100 flights we need to change the offset\n",
    "        \"offset\": \"100\",\n",
    "        \"flight_date\": one_day,\n",
    "    }\n",
    "\n",
    "    api_result = requests.get(\n",
    "        \"https://api.aviationstack.com/v1/flights\", params, verify=False\n",
    "    )\n",
    "\n",
    "    api_response = api_result.json()\n",
    "\n",
    "    df = pd.DataFrame(api_response[\"data\"])\n",
    "\n",
    "    departures = pd.concat([departures, df])"
   ]
  },
  {
   "cell_type": "code",
   "execution_count": 100,
   "metadata": {
    "tags": [
     "remove-cell"
    ]
   },
   "outputs": [],
   "source": [
    "departures.to_csv(\"../../data/aviation/aviationstack_bey_15082024_07102024_dep2.csv\")\n",
    "# arrivals.to_csv('../../data/aviation/aviationstack_bey_15082024_07102024_arr2.csv')\n",
    "\n",
    "# arrivals.to_csv('../../data/aviation/aviationstack_bey_26082024_01012024_arr.csv')"
   ]
  },
  {
   "cell_type": "markdown",
   "metadata": {
    "tags": [
     "remove-cell"
    ]
   },
   "source": [
    "Functions to clean the database and explode columns"
   ]
  },
  {
   "cell_type": "code",
   "execution_count": 6,
   "metadata": {
    "tags": [
     "remove-cell"
    ]
   },
   "outputs": [],
   "source": [
    "import ast\n",
    "\n",
    "\n",
    "def safe_literal_eval(value):\n",
    "    if isinstance(value, str):\n",
    "        try:\n",
    "            return ast.literal_eval(value)\n",
    "        except (ValueError, SyntaxError):\n",
    "            return value\n",
    "    return value\n",
    "\n",
    "\n",
    "def explode(flights):\n",
    "    flights[\"arrival\"] = flights[\"arrival\"].apply(safe_literal_eval)\n",
    "    flights[\"departure\"] = flights[\"departure\"].apply(safe_literal_eval)\n",
    "\n",
    "    fr1 = pd.json_normalize(flights[\"arrival\"]).add_suffix(\"_arr\")\n",
    "    fr2 = pd.json_normalize(flights[\"departure\"]).add_suffix(\"_dep\")\n",
    "\n",
    "    flights_exploded = pd.concat(\n",
    "        [flights.drop(columns=[\"arrival\", \"departure\"]), fr1, fr2], axis=1\n",
    "    )\n",
    "\n",
    "    return flights_exploded"
   ]
  },
  {
   "cell_type": "code",
   "execution_count": 2,
   "metadata": {
    "tags": [
     "remove-input"
    ]
   },
   "outputs": [],
   "source": [
    "from bokeh.plotting import figure, show\n",
    "from bokeh.io import output_notebook\n",
    "from bokeh.models import (\n",
    "    ColumnDataSource,\n",
    "    DatetimeTickFormatter,\n",
    "    FixedTicker,\n",
    "    HoverTool,\n",
    "    Label,\n",
    "    Span,\n",
    "    Panel,\n",
    "    Tabs,\n",
    "    TabPanel\n",
    ")\n",
    "from bokeh.palettes import Spectral6\n",
    "\n",
    "\n",
    "def get_area_plot(\n",
    "    df, title, source_text, acled_events_daily, reindex_freq=\"D\", events_dict={}\n",
    "):\n",
    "    complete_date_range = pd.date_range(\n",
    "        start=df[\"flight_date\"].min(), end=df[\"flight_date\"].max(), freq=reindex_freq\n",
    "    )\n",
    "    # Pivot the data to have flight_status as columns\n",
    "    df_pivot = df.pivot_table(\n",
    "        index=\"flight_date\", columns=\"flight_status\", values=\"iata_arr\", aggfunc=\"sum\"\n",
    "    )\n",
    "    df_reindexed = df_pivot.reindex(complete_date_range).fillna(0)\n",
    "    df_reindexed = df_reindexed.reset_index().rename(columns={\"index\": \"flight_date\"})\n",
    "\n",
    "    df[\"total_flights\"] = df.groupby(\"flight_date\")[\"iata_arr\"].transform(\"sum\")\n",
    "    if acled_events_daily['nrEvents'].max()<500:\n",
    "        max_flight = acled_events_daily[\"nrEvents\"].max() + 50\n",
    "    else:\n",
    "        max_flight = acled_events_daily[\"nrEvents\"].max() + 200\n",
    "\n",
    "    # Create a ColumnDataSource\n",
    "    source = ColumnDataSource(df_reindexed)\n",
    "\n",
    "    # Create a Bokeh figure\n",
    "    p = figure(\n",
    "        x_axis_type=\"datetime\",\n",
    "        height=600,\n",
    "        width=800,\n",
    "        title=title,\n",
    "        toolbar_location='above',\n",
    "        tools=\"pan,box_zoom,reset,save\",\n",
    "        x_axis_label=\"Flight Date\",\n",
    "        y_axis_label=\"Nr Flights\",\n",
    "    )\n",
    "\n",
    "    # Create a stacked area plot using varea_stack\n",
    "    status_list = list(df[\"flight_status\"].unique())\n",
    "    colors = Spectral6[\n",
    "        : len(status_list)\n",
    "    ]  # Adjust the color palette to the number of flight statuses\n",
    "\n",
    "    p.varea_stack(\n",
    "        stackers=status_list,\n",
    "        x=\"flight_date\",\n",
    "        color=colors,\n",
    "        source=source,\n",
    "        legend_label=status_list,\n",
    "    )\n",
    "    p.line(\n",
    "        x=acled_events_daily[\"event_date\"],\n",
    "        y=acled_events_daily[\"nrEvents\"],\n",
    "        line_width=2,\n",
    "        line_color=\"black\",\n",
    "        legend_label=\"Number of Conflict Events\",\n",
    "    )\n",
    "\n",
    "    # Customize the plot\n",
    "    p.y_range.start = 0\n",
    "    p.y_range.end = max_flight\n",
    "\n",
    "    # Format x-axis to show only the first day of each month\n",
    "    p.xaxis.formatter = DatetimeTickFormatter(months=\"%b %Y\", days=\"%d %b %Y\")\n",
    "\n",
    "    # Limit the number of ticks by using FixedTicker\n",
    "    date_range = pd.date_range(\n",
    "        start=df[\"flight_date\"].min(), end=df[\"flight_date\"].max(), freq=\"W\"\n",
    "    )\n",
    "    ticks = [pd.to_datetime(date).timestamp() * 1000 for date in date_range]\n",
    "\n",
    "    # complete_date_range = pd.date_range(start=df['flight_date'].min(), end=df['flight_date'].max())\n",
    "\n",
    "    # Only keep a few ticks for clarity\n",
    "    p.xaxis.ticker = FixedTicker(\n",
    "        ticks=ticks[::2]\n",
    "    )  # Adjust the slicing (e.g., [::2], [::3]) for more or fewer ticks\n",
    "\n",
    "    # Rotate x-axis labels for better readability\n",
    "    p.xaxis.major_label_orientation = 1.2\n",
    "\n",
    "    # Enable clickable legend\n",
    "    p.legend.click_policy = \"mute\"\n",
    "\n",
    "    hover = p.select(dict(type=HoverTool))\n",
    "    hover.tooltips = [\n",
    "        (\"Flight Date\", \"@flight_date{%F}\"),\n",
    "        (\"Status\", \"$name\"),\n",
    "        (\"Value\", \"@$name\"),\n",
    "    ]\n",
    "    hover.formatters = {\"@flight_date\": \"datetime\"}\n",
    "\n",
    "    # p.legend.title = 'Flight Status'\n",
    "    p.legend.location = \"top_left\"\n",
    "    p.legend.orientation = \"horizontal\"\n",
    "\n",
    "    source_label = Label(\n",
    "        x=0,\n",
    "        y=0,\n",
    "        x_units=\"screen\",\n",
    "        y_units=\"screen\",\n",
    "        text=source_text,\n",
    "        text_font_size=\"10pt\",\n",
    "        text_color=\"gray\",\n",
    "    )\n",
    "\n",
    "    # Add the label to the plot\n",
    "    p.add_layout(source_label, \"below\")\n",
    "\n",
    "    if events_dict:\n",
    "        used_y_positions = []\n",
    "\n",
    "        for index, (event_date, label) in enumerate(events_dict.items()):\n",
    "            # Convert event_date to a timestamp in milliseconds (as expected by Bokeh for datetime axes)\n",
    "            event_date_dt = pd.to_datetime(event_date)\n",
    "            event_timestamp = event_date_dt.timestamp() * 1000\n",
    "\n",
    "            # Create a vertical line (Span) at the event date\n",
    "            span = Span(\n",
    "                location=event_timestamp,\n",
    "                dimension=\"height\",\n",
    "                line_color='#C6C6C6',\n",
    "                line_width=2,\n",
    "                line_dash=(4, 4)\n",
    "            )\n",
    "            p.renderers.append(span)\n",
    "\n",
    "            # Determine a base y position for the label\n",
    "            base_y = max_flight - (max_flight/5)  # Adjust for visibility above the plot\n",
    "            y_position = base_y  # Default position\n",
    "\n",
    "            # Adjust y_position if it overlaps with previous labels\n",
    "            while y_position in used_y_positions:\n",
    "                y_position -= base_y / 10  # Move down until it's free\n",
    "\n",
    "            used_y_positions.append(y_position)  # Store the used position\n",
    "\n",
    "            # Add a label near the vertical line, aligned to the left\n",
    "            event_label = Label(\n",
    "                x=event_timestamp,\n",
    "                y=y_position,\n",
    "                x_offset=-5,  # Offset to move the label to the left of the line\n",
    "                text=label,\n",
    "                text_align=\"right\",  # Align the text to the right so it stays to the left of the line\n",
    "                text_color=\"black\",\n",
    "                text_font_size=\"10pt\",\n",
    "                background_fill_color=\"grey\",\n",
    "                background_fill_alpha=0.2,\n",
    "            )\n",
    "            p.add_layout(event_label)\n",
    "\n",
    "    return p\n",
    "    # Show the plot\n",
    "    # show(p)"
   ]
  },
  {
   "cell_type": "code",
   "execution_count": 7,
   "metadata": {
    "tags": [
     "remove-cell"
    ]
   },
   "outputs": [],
   "source": [
    "departures = pd.concat(\n",
    "    [\n",
    "        pd.read_csv(\"../../data/aviation/aviationstack_bey_14082024_01012024_dep.csv\"),\n",
    "        pd.read_csv(\"../../data/aviation/aviationstack_bey_25082024_15082024_dep.csv\"),\n",
    "        pd.read_csv(\"../../data/aviation/aviationstack_bey_25082024_01012024_dep2.csv\"),\n",
    "        pd.read_csv(\"../../data/aviation/aviationstack_bey_15082024_07102024_dep.csv\"),\n",
    "        pd.read_csv(\"../../data/aviation/aviationstack_bey_15082024_07102024_dep2.csv\"),\n",
    "    ]\n",
    ")\n",
    "departures.drop(columns=\"Unnamed: 0\", inplace=True)\n",
    "departures.drop_duplicates(inplace=True)\n",
    "departures.reset_index(drop=True, inplace=True)"
   ]
  },
  {
   "cell_type": "code",
   "execution_count": 8,
   "metadata": {
    "tags": [
     "remove-cell"
    ]
   },
   "outputs": [
    {
     "name": "stdout",
     "output_type": "stream",
     "text": [
      "Removing the flights which take off and land from Beirut\n"
     ]
    }
   ],
   "source": [
    "print(\"Removing the flights which take off and land from Beirut\")\n",
    "departures_exploded = explode(departures)\n",
    "# departures_exploded = departures_exploded[~(departures_exploded['airport_arr']==departures_exploded['airport_dep'])]"
   ]
  },
  {
   "cell_type": "code",
   "execution_count": 9,
   "metadata": {
    "tags": [
     "remove-input"
    ]
   },
   "outputs": [
    {
     "name": "stdout",
     "output_type": "stream",
     "text": [
      "The following dates are not available in the data. The reasons are unknown.: DatetimeIndex(['2024-01-29', '2024-01-30', '2024-04-29', '2024-04-30',\n",
      "               '2024-06-07', '2024-06-08', '2024-06-09', '2024-09-02'],\n",
      "              dtype='datetime64[ns]', freq=None)\n"
     ]
    }
   ],
   "source": [
    "import pandas as pd\n",
    "\n",
    "df = departures\n",
    "# Assuming df is your DataFrame and 'flight_date' is the column with the dates\n",
    "df[\"flight_date\"] = pd.to_datetime(\n",
    "    df[\"flight_date\"]\n",
    ")  # Ensure 'flight_date' is in datetime format\n",
    "\n",
    "# Generate the complete date range from the minimum to the maximum date\n",
    "complete_date_range = pd.date_range(\n",
    "    start=df[\"flight_date\"].min(), end=df[\"flight_date\"].max()\n",
    ")\n",
    "\n",
    "# Find missing dates by comparing the complete date range with the dates in the DataFrame\n",
    "missing_dates = complete_date_range.difference(df[\"flight_date\"])\n",
    "\n",
    "if missing_dates.empty:\n",
    "    print(\"All dates are present.\")\n",
    "else:\n",
    "    print(\n",
    "        f\"The following dates are not available in the data. The reasons are unknown.: {missing_dates}\"\n",
    "    )"
   ]
  },
  {
   "cell_type": "markdown",
   "metadata": {},
   "source": [
    "## Analysing Number of Departures from Beirut International Airport in 2024"
   ]
  },
  {
   "cell_type": "code",
   "execution_count": 10,
   "metadata": {
    "tags": [
     "remove-input"
    ]
   },
   "outputs": [
    {
     "name": "stdout",
     "output_type": "stream",
     "text": [
      "Data is available from 2024-01-01 00:00:00 to 2024-10-07 00:00:00\n"
     ]
    }
   ],
   "source": [
    "beginning = departures[\"flight_date\"].min()\n",
    "end = departures[\"flight_date\"].max()\n",
    "print(f\"Data is available from {beginning} to {end}\")"
   ]
  },
  {
   "cell_type": "markdown",
   "metadata": {
    "tags": [
     "remove-cell"
    ]
   },
   "source": [
    "Conduct a duplication check for flights. If the flight is taking off from the same place, to the same place at the same time and has two entries, it is a duplicate flight"
   ]
  },
  {
   "cell_type": "code",
   "execution_count": 21,
   "metadata": {},
   "outputs": [],
   "source": [
    "# departures_exploded[departures_exploded['airport_arr']=='Beirut Rafic Hariri Airport']"
   ]
  },
  {
   "cell_type": "code",
   "execution_count": 11,
   "metadata": {
    "tags": [
     "remove-cell"
    ]
   },
   "outputs": [
    {
     "name": "stdout",
     "output_type": "stream",
     "text": [
      "There were 31195 flights before duplication check\n",
      "There are 18418 flights after duplication check. 12777 flights were duplicated\n"
     ]
    }
   ],
   "source": [
    "before = departures_exploded.shape[0]\n",
    "print(f\"There were {before} flights before duplication check\")\n",
    "# check for duplicate flights i.e., flights scheduled to take off at the exact same time from the same place to the same destination\n",
    "departures_exploded = departures_exploded.drop_duplicates(\n",
    "    subset=[\"flight_date\", \"scheduled_arr\", \"iata_arr\", \"iata_dep\", \"scheduled_dep\"]\n",
    ")\n",
    "\n",
    "after = departures_exploded.shape[0]\n",
    "print(\n",
    "    f\"There are {after} flights after duplication check. {before-after} flights were duplicated\"\n",
    ")"
   ]
  },
  {
   "cell_type": "markdown",
   "metadata": {},
   "source": [
    "### Flight Status Legend\n",
    "- Scheduled: A flight that we have a schedule or flight plan for that hasn’t departed or has been canceled.\n",
    "- Active: A flight that either left the gate or the runway and is on its way to its destination.\n",
    "- Landed or Arrived: A flight that landed on the runway or arrived at the gate at the destination.\n",
    "- Canceled: A flight that one or more data sources have indicated is canceled.\n",
    "- Redirected: The flight is being redirected to another airport.\n",
    "- Diverted: A flight that has landed or arrived at the gate of an airport where it wasn’t scheduled to arrive.\n",
    "- Unknown: We were unable to detect the final arrival status."
   ]
  },
  {
   "cell_type": "code",
   "execution_count": 12,
   "metadata": {
    "tags": [
     "remove-cell"
    ]
   },
   "outputs": [],
   "source": [
    "acled_events_daily = pd.read_csv(\n",
    "    \"../../data/conflict/acled_events_without_protests_20120101_20241007.csv\"\n",
    ")\n",
    "acled_events_daily[\"event_date\"] = acled_events_daily[\"event_date\"].apply(\n",
    "    lambda x: pd.to_datetime(x)\n",
    ")\n",
    "acled_events_daily = acled_events_daily[acled_events_daily[\"event_date\"] > \"2024-01-01\"]\n",
    "acled_events_daily.drop(columns=[\"Unnamed: 0\"], inplace=True)"
   ]
  },
  {
   "cell_type": "code",
   "execution_count": 13,
   "metadata": {
    "tags": [
     "remove-cell"
    ]
   },
   "outputs": [],
   "source": [
    "acled_events_daily = (\n",
    "    acled_events_daily.groupby([pd.Grouper(key=\"event_date\", freq=\"D\")])[\n",
    "        [\"nrFatalities\", \"nrEvents\"]\n",
    "    ]\n",
    "    .sum()\n",
    "    .reset_index()\n",
    ")\n",
    "acled_events_weekly = (\n",
    "    acled_events_daily.groupby([pd.Grouper(key=\"event_date\", freq=\"W\")])[\n",
    "        [\"nrFatalities\", \"nrEvents\"]\n",
    "    ]\n",
    "    .sum()\n",
    "    .reset_index()\n",
    ")"
   ]
  },
  {
   "cell_type": "code",
   "execution_count": 14,
   "metadata": {
    "tags": [
     "remove-cell"
    ]
   },
   "outputs": [
    {
     "data": {
      "text/html": [
       "<div>\n",
       "<style scoped>\n",
       "    .dataframe tbody tr th:only-of-type {\n",
       "        vertical-align: middle;\n",
       "    }\n",
       "\n",
       "    .dataframe tbody tr th {\n",
       "        vertical-align: top;\n",
       "    }\n",
       "\n",
       "    .dataframe thead th {\n",
       "        text-align: right;\n",
       "    }\n",
       "</style>\n",
       "<table border=\"1\" class=\"dataframe\">\n",
       "  <thead>\n",
       "    <tr style=\"text-align: right;\">\n",
       "      <th></th>\n",
       "      <th>flight_date</th>\n",
       "      <th>scheduled_arr</th>\n",
       "      <th>iata_arr</th>\n",
       "      <th>iata_dep</th>\n",
       "      <th>scheduled_dep</th>\n",
       "      <th>flight_status</th>\n",
       "    </tr>\n",
       "  </thead>\n",
       "  <tbody>\n",
       "  </tbody>\n",
       "</table>\n",
       "</div>"
      ],
      "text/plain": [
       "Empty DataFrame\n",
       "Columns: [flight_date, scheduled_arr, iata_arr, iata_dep, scheduled_dep, flight_status]\n",
       "Index: []"
      ]
     },
     "execution_count": 14,
     "metadata": {},
     "output_type": "execute_result"
    }
   ],
   "source": [
    "# Test to see if any flight has more than one flight status assoctaed with it.\n",
    "duplicate_status_test = (\n",
    "    departures_exploded.groupby(\n",
    "        [\"flight_date\", \"scheduled_arr\", \"iata_arr\", \"iata_dep\", \"scheduled_dep\"]\n",
    "    )[[\"flight_status\"]]\n",
    "    .count()\n",
    "    .reset_index()\n",
    ")\n",
    "duplicate_status_test[duplicate_status_test[\"flight_status\"] > 1]"
   ]
  },
  {
   "cell_type": "code",
   "execution_count": 17,
   "metadata": {
    "tags": [
     "remove-cell"
    ]
   },
   "outputs": [],
   "source": [
    "# ['2024-01-29', '2024-01-30', '2024-04-29', '2024-04-30',\n",
    "#                '2024-06-07', '2024-06-08', '2024-06-09', '2024-09-02']\n",
    "\n",
    "events = {\n",
    "      #\"2024-06-09\":\"Airline data\\nnot available\",\n",
    "      \"2024-04-14\": \"Temporary shutdown of\\nLebanese airspace between\\n7AM and 1PM\",\n",
    "      \"2024-08-25\":\"Israeli strikes in\\nSouthern Lebanon\",\n",
    "      \"2024-09-23\":\"Start of the full blown conflict\"\n",
    "          }"
   ]
  },
  {
   "cell_type": "code",
   "execution_count": 18,
   "metadata": {
    "tags": [
     "remove-input"
    ]
   },
   "outputs": [
    {
     "data": {
      "text/html": [
       "    <style>\n",
       "        .bk-notebook-logo {\n",
       "            display: block;\n",
       "            width: 20px;\n",
       "            height: 20px;\n",
       "            background-image: url(data:image/png;base64,iVBORw0KGgoAAAANSUhEUgAAABQAAAAUCAYAAACNiR0NAAAABHNCSVQICAgIfAhkiAAAAAlwSFlzAAALEgAACxIB0t1+/AAAABx0RVh0U29mdHdhcmUAQWRvYmUgRmlyZXdvcmtzIENTNui8sowAAAOkSURBVDiNjZRtaJVlGMd/1/08zzln5zjP1LWcU9N0NkN8m2CYjpgQYQXqSs0I84OLIC0hkEKoPtiH3gmKoiJDU7QpLgoLjLIQCpEsNJ1vqUOdO7ppbuec5+V+rj4ctwzd8IIbbi6u+8f1539dt3A78eXC7QizUF7gyV1fD1Yqg4JWz84yffhm0qkFqBogB9rM8tZdtwVsPUhWhGcFJngGeWrPzHm5oaMmkfEg1usvLFyc8jLRqDOMru7AyC8saQr7GG7f5fvDeH7Ej8CM66nIF+8yngt6HWaKh7k49Soy9nXurCi1o3qUbS3zWfrYeQDTB/Qj6kX6Ybhw4B+bOYoLKCC9H3Nu/leUTZ1JdRWkkn2ldcCamzrcf47KKXdAJllSlxAOkRgyHsGC/zRday5Qld9DyoM4/q/rUoy/CXh3jzOu3bHUVZeU+DEn8FInkPBFlu3+nW3Nw0mk6vCDiWg8CeJaxEwuHS3+z5RgY+YBR6V1Z1nxSOfoaPa4LASWxxdNp+VWTk7+4vzaou8v8PN+xo+KY2xsw6une2frhw05CTYOmQvsEhjhWjn0bmXPjpE1+kplmmkP3suftwTubK9Vq22qKmrBhpY4jvd5afdRA3wGjFAgcnTK2s4hY0/GPNIb0nErGMCRxWOOX64Z8RAC4oCXdklmEvcL8o0BfkNK4lUg9HTl+oPlQxdNo3Mg4Nv175e/1LDGzZen30MEjRUtmXSfiTVu1kK8W4txyV6BMKlbgk3lMwYCiusNy9fVfvvwMxv8Ynl6vxoByANLTWplvuj/nF9m2+PDtt1eiHPBr1oIfhCChQMBw6Aw0UulqTKZdfVvfG7VcfIqLG9bcldL/+pdWTLxLUy8Qq38heUIjh4XlzZxzQm19lLFlr8vdQ97rjZVOLf8nclzckbcD4wxXMidpX30sFd37Fv/GtwwhzhxGVAprjbg0gCAEeIgwCZyTV2Z1REEW8O4py0wsjeloKoMr6iCY6dP92H6Vw/oTyICIthibxjm/DfN9lVz8IqtqKYLUXfoKVMVQVVJOElGjrnnUt9T9wbgp8AyYKaGlqingHZU/uG2NTZSVqwHQTWkx9hxjkpWDaCg6Ckj5qebgBVbT3V3NNXMSiWSDdGV3hrtzla7J+duwPOToIg42ChPQOQjspnSlp1V+Gjdged7+8UN5CRAV7a5EdFNwCjEaBR27b3W890TE7g24NAP/mMDXRWrGoFPQI9ls/MWO2dWFAar/xcOIImbbpA3zgAAAABJRU5ErkJggg==);\n",
       "        }\n",
       "    </style>\n",
       "    <div>\n",
       "        <a href=\"https://bokeh.org\" target=\"_blank\" class=\"bk-notebook-logo\"></a>\n",
       "        <span id=\"cf76d0b6-5532-4ba5-94b9-d6c202e4f1ea\">Loading BokehJS ...</span>\n",
       "    </div>\n"
      ]
     },
     "metadata": {},
     "output_type": "display_data"
    },
    {
     "data": {
      "application/javascript": "'use strict';\n(function(root) {\n  function now() {\n    return new Date();\n  }\n\n  const force = true;\n\n  if (typeof root._bokeh_onload_callbacks === \"undefined\" || force === true) {\n    root._bokeh_onload_callbacks = [];\n    root._bokeh_is_loading = undefined;\n  }\n\nconst JS_MIME_TYPE = 'application/javascript';\n  const HTML_MIME_TYPE = 'text/html';\n  const EXEC_MIME_TYPE = 'application/vnd.bokehjs_exec.v0+json';\n  const CLASS_NAME = 'output_bokeh rendered_html';\n\n  /**\n   * Render data to the DOM node\n   */\n  function render(props, node) {\n    const script = document.createElement(\"script\");\n    node.appendChild(script);\n  }\n\n  /**\n   * Handle when an output is cleared or removed\n   */\n  function handleClearOutput(event, handle) {\n    function drop(id) {\n      const view = Bokeh.index.get_by_id(id)\n      if (view != null) {\n        view.model.document.clear()\n        Bokeh.index.delete(view)\n      }\n    }\n\n    const cell = handle.cell;\n\n    const id = cell.output_area._bokeh_element_id;\n    const server_id = cell.output_area._bokeh_server_id;\n\n    // Clean up Bokeh references\n    if (id != null) {\n      drop(id)\n    }\n\n    if (server_id !== undefined) {\n      // Clean up Bokeh references\n      const cmd_clean = \"from bokeh.io.state import curstate; print(curstate().uuid_to_server['\" + server_id + \"'].get_sessions()[0].document.roots[0]._id)\";\n      cell.notebook.kernel.execute(cmd_clean, {\n        iopub: {\n          output: function(msg) {\n            const id = msg.content.text.trim()\n            drop(id)\n          }\n        }\n      });\n      // Destroy server and session\n      const cmd_destroy = \"import bokeh.io.notebook as ion; ion.destroy_server('\" + server_id + \"')\";\n      cell.notebook.kernel.execute(cmd_destroy);\n    }\n  }\n\n  /**\n   * Handle when a new output is added\n   */\n  function handleAddOutput(event, handle) {\n    const output_area = handle.output_area;\n    const output = handle.output;\n\n    // limit handleAddOutput to display_data with EXEC_MIME_TYPE content only\n    if ((output.output_type != \"display_data\") || (!Object.prototype.hasOwnProperty.call(output.data, EXEC_MIME_TYPE))) {\n      return\n    }\n\n    const toinsert = output_area.element.find(\".\" + CLASS_NAME.split(' ')[0]);\n\n    if (output.metadata[EXEC_MIME_TYPE][\"id\"] !== undefined) {\n      toinsert[toinsert.length - 1].firstChild.textContent = output.data[JS_MIME_TYPE];\n      // store reference to embed id on output_area\n      output_area._bokeh_element_id = output.metadata[EXEC_MIME_TYPE][\"id\"];\n    }\n    if (output.metadata[EXEC_MIME_TYPE][\"server_id\"] !== undefined) {\n      const bk_div = document.createElement(\"div\");\n      bk_div.innerHTML = output.data[HTML_MIME_TYPE];\n      const script_attrs = bk_div.children[0].attributes;\n      for (let i = 0; i < script_attrs.length; i++) {\n        toinsert[toinsert.length - 1].firstChild.setAttribute(script_attrs[i].name, script_attrs[i].value);\n        toinsert[toinsert.length - 1].firstChild.textContent = bk_div.children[0].textContent\n      }\n      // store reference to server id on output_area\n      output_area._bokeh_server_id = output.metadata[EXEC_MIME_TYPE][\"server_id\"];\n    }\n  }\n\n  function register_renderer(events, OutputArea) {\n\n    function append_mime(data, metadata, element) {\n      // create a DOM node to render to\n      const toinsert = this.create_output_subarea(\n        metadata,\n        CLASS_NAME,\n        EXEC_MIME_TYPE\n      );\n      this.keyboard_manager.register_events(toinsert);\n      // Render to node\n      const props = {data: data, metadata: metadata[EXEC_MIME_TYPE]};\n      render(props, toinsert[toinsert.length - 1]);\n      element.append(toinsert);\n      return toinsert\n    }\n\n    /* Handle when an output is cleared or removed */\n    events.on('clear_output.CodeCell', handleClearOutput);\n    events.on('delete.Cell', handleClearOutput);\n\n    /* Handle when a new output is added */\n    events.on('output_added.OutputArea', handleAddOutput);\n\n    /**\n     * Register the mime type and append_mime function with output_area\n     */\n    OutputArea.prototype.register_mime_type(EXEC_MIME_TYPE, append_mime, {\n      /* Is output safe? */\n      safe: true,\n      /* Index of renderer in `output_area.display_order` */\n      index: 0\n    });\n  }\n\n  // register the mime type if in Jupyter Notebook environment and previously unregistered\n  if (root.Jupyter !== undefined) {\n    const events = require('base/js/events');\n    const OutputArea = require('notebook/js/outputarea').OutputArea;\n\n    if (OutputArea.prototype.mime_types().indexOf(EXEC_MIME_TYPE) == -1) {\n      register_renderer(events, OutputArea);\n    }\n  }\n  if (typeof (root._bokeh_timeout) === \"undefined\" || force === true) {\n    root._bokeh_timeout = Date.now() + 5000;\n    root._bokeh_failed_load = false;\n  }\n\n  const NB_LOAD_WARNING = {'data': {'text/html':\n     \"<div style='background-color: #fdd'>\\n\"+\n     \"<p>\\n\"+\n     \"BokehJS does not appear to have successfully loaded. If loading BokehJS from CDN, this \\n\"+\n     \"may be due to a slow or bad network connection. Possible fixes:\\n\"+\n     \"</p>\\n\"+\n     \"<ul>\\n\"+\n     \"<li>re-rerun `output_notebook()` to attempt to load from CDN again, or</li>\\n\"+\n     \"<li>use INLINE resources instead, as so:</li>\\n\"+\n     \"</ul>\\n\"+\n     \"<code>\\n\"+\n     \"from bokeh.resources import INLINE\\n\"+\n     \"output_notebook(resources=INLINE)\\n\"+\n     \"</code>\\n\"+\n     \"</div>\"}};\n\n  function display_loaded(error = null) {\n    const el = document.getElementById(\"cf76d0b6-5532-4ba5-94b9-d6c202e4f1ea\");\n    if (el != null) {\n      const html = (() => {\n        if (typeof root.Bokeh === \"undefined\") {\n          if (error == null) {\n            return \"BokehJS is loading ...\";\n          } else {\n            return \"BokehJS failed to load.\";\n          }\n        } else {\n          const prefix = `BokehJS ${root.Bokeh.version}`;\n          if (error == null) {\n            return `${prefix} successfully loaded.`;\n          } else {\n            return `${prefix} <b>encountered errors</b> while loading and may not function as expected.`;\n          }\n        }\n      })();\n      el.innerHTML = html;\n\n      if (error != null) {\n        const wrapper = document.createElement(\"div\");\n        wrapper.style.overflow = \"auto\";\n        wrapper.style.height = \"5em\";\n        wrapper.style.resize = \"vertical\";\n        const content = document.createElement(\"div\");\n        content.style.fontFamily = \"monospace\";\n        content.style.whiteSpace = \"pre-wrap\";\n        content.style.backgroundColor = \"rgb(255, 221, 221)\";\n        content.textContent = error.stack ?? error.toString();\n        wrapper.append(content);\n        el.append(wrapper);\n      }\n    } else if (Date.now() < root._bokeh_timeout) {\n      setTimeout(() => display_loaded(error), 100);\n    }\n  }\n\n  function run_callbacks() {\n    try {\n      root._bokeh_onload_callbacks.forEach(function(callback) {\n        if (callback != null)\n          callback();\n      });\n    } finally {\n      delete root._bokeh_onload_callbacks\n    }\n    console.debug(\"Bokeh: all callbacks have finished\");\n  }\n\n  function load_libs(css_urls, js_urls, callback) {\n    if (css_urls == null) css_urls = [];\n    if (js_urls == null) js_urls = [];\n\n    root._bokeh_onload_callbacks.push(callback);\n    if (root._bokeh_is_loading > 0) {\n      console.debug(\"Bokeh: BokehJS is being loaded, scheduling callback at\", now());\n      return null;\n    }\n    if (js_urls == null || js_urls.length === 0) {\n      run_callbacks();\n      return null;\n    }\n    console.debug(\"Bokeh: BokehJS not loaded, scheduling load and callback at\", now());\n    root._bokeh_is_loading = css_urls.length + js_urls.length;\n\n    function on_load() {\n      root._bokeh_is_loading--;\n      if (root._bokeh_is_loading === 0) {\n        console.debug(\"Bokeh: all BokehJS libraries/stylesheets loaded\");\n        run_callbacks()\n      }\n    }\n\n    function on_error(url) {\n      console.error(\"failed to load \" + url);\n    }\n\n    for (let i = 0; i < css_urls.length; i++) {\n      const url = css_urls[i];\n      const element = document.createElement(\"link\");\n      element.onload = on_load;\n      element.onerror = on_error.bind(null, url);\n      element.rel = \"stylesheet\";\n      element.type = \"text/css\";\n      element.href = url;\n      console.debug(\"Bokeh: injecting link tag for BokehJS stylesheet: \", url);\n      document.body.appendChild(element);\n    }\n\n    for (let i = 0; i < js_urls.length; i++) {\n      const url = js_urls[i];\n      const element = document.createElement('script');\n      element.onload = on_load;\n      element.onerror = on_error.bind(null, url);\n      element.async = false;\n      element.src = url;\n      console.debug(\"Bokeh: injecting script tag for BokehJS library: \", url);\n      document.head.appendChild(element);\n    }\n  };\n\n  function inject_raw_css(css) {\n    const element = document.createElement(\"style\");\n    element.appendChild(document.createTextNode(css));\n    document.body.appendChild(element);\n  }\n\n  const js_urls = [\"https://cdn.bokeh.org/bokeh/release/bokeh-3.4.1.min.js\", \"https://cdn.bokeh.org/bokeh/release/bokeh-gl-3.4.1.min.js\", \"https://cdn.bokeh.org/bokeh/release/bokeh-widgets-3.4.1.min.js\", \"https://cdn.bokeh.org/bokeh/release/bokeh-tables-3.4.1.min.js\", \"https://cdn.bokeh.org/bokeh/release/bokeh-mathjax-3.4.1.min.js\"];\n  const css_urls = [];\n\n  const inline_js = [    function(Bokeh) {\n      Bokeh.set_log_level(\"info\");\n    },\nfunction(Bokeh) {\n    }\n  ];\n\n  function run_inline_js() {\n    if (root.Bokeh !== undefined || force === true) {\n      try {\n            for (let i = 0; i < inline_js.length; i++) {\n      inline_js[i].call(root, root.Bokeh);\n    }\n\n      } catch (error) {display_loaded(error);throw error;\n      }if (force === true) {\n        display_loaded();\n      }} else if (Date.now() < root._bokeh_timeout) {\n      setTimeout(run_inline_js, 100);\n    } else if (!root._bokeh_failed_load) {\n      console.log(\"Bokeh: BokehJS failed to load within specified timeout.\");\n      root._bokeh_failed_load = true;\n    } else if (force !== true) {\n      const cell = $(document.getElementById(\"cf76d0b6-5532-4ba5-94b9-d6c202e4f1ea\")).parents('.cell').data().cell;\n      cell.output_area.append_execute_result(NB_LOAD_WARNING)\n    }\n  }\n\n  if (root._bokeh_is_loading === 0) {\n    console.debug(\"Bokeh: BokehJS loaded, going straight to plotting\");\n    run_inline_js();\n  } else {\n    load_libs(css_urls, js_urls, function() {\n      console.debug(\"Bokeh: BokehJS plotting callback run at\", now());\n      run_inline_js();\n    });\n  }\n}(window));",
      "application/vnd.bokehjs_load.v0+json": ""
     },
     "metadata": {},
     "output_type": "display_data"
    },
    {
     "data": {
      "text/html": [
       "\n",
       "  <div id=\"e1cd1d24-793f-44f7-8971-040bd282d6db\" data-root-id=\"p1154\" style=\"display: contents;\"></div>\n"
      ]
     },
     "metadata": {},
     "output_type": "display_data"
    },
    {
     "data": {
      "application/javascript": "(function(root) {\n  function embed_document(root) {\n  const docs_json = {\"175f49cc-fc60-4e0f-b102-02b6f55db707\":{\"version\":\"3.4.1\",\"title\":\"Bokeh Application\",\"roots\":[{\"type\":\"object\",\"name\":\"Figure\",\"id\":\"p1154\",\"attributes\":{\"width\":800,\"x_range\":{\"type\":\"object\",\"name\":\"DataRange1d\",\"id\":\"p1155\"},\"y_range\":{\"type\":\"object\",\"name\":\"DataRange1d\",\"id\":\"p1156\",\"attributes\":{\"start\":0,\"end\":250}},\"x_scale\":{\"type\":\"object\",\"name\":\"LinearScale\",\"id\":\"p1164\"},\"y_scale\":{\"type\":\"object\",\"name\":\"LinearScale\",\"id\":\"p1165\"},\"title\":{\"type\":\"object\",\"name\":\"Title\",\"id\":\"p1157\",\"attributes\":{\"text\":\"Daily Departures from BEY\"}},\"renderers\":[{\"type\":\"object\",\"name\":\"GlyphRenderer\",\"id\":\"p1215\",\"attributes\":{\"name\":\"active\",\"data_source\":{\"type\":\"object\",\"name\":\"ColumnDataSource\",\"id\":\"p1151\",\"attributes\":{\"selected\":{\"type\":\"object\",\"name\":\"Selection\",\"id\":\"p1152\",\"attributes\":{\"indices\":[],\"line_indices\":[]}},\"selection_policy\":{\"type\":\"object\",\"name\":\"UnionRenderers\",\"id\":\"p1153\"},\"data\":{\"type\":\"map\",\"entries\":[[\"index\",{\"type\":\"ndarray\",\"array\":{\"type\":\"bytes\",\"data\":\"AAAAAAEAAAACAAAAAwAAAAQAAAAFAAAABgAAAAcAAAAIAAAACQAAAAoAAAALAAAADAAAAA0AAAAOAAAADwAAABAAAAARAAAAEgAAABMAAAAUAAAAFQAAABYAAAAXAAAAGAAAABkAAAAaAAAAGwAAABwAAAAdAAAAHgAAAB8AAAAgAAAAIQAAACIAAAAjAAAAJAAAACUAAAAmAAAAJwAAACgAAAApAAAAKgAAACsAAAAsAAAALQAAAC4AAAAvAAAAMAAAADEAAAAyAAAAMwAAADQAAAA1AAAANgAAADcAAAA4AAAAOQAAADoAAAA7AAAAPAAAAD0AAAA+AAAAPwAAAEAAAABBAAAAQgAAAEMAAABEAAAARQAAAEYAAABHAAAASAAAAEkAAABKAAAASwAAAEwAAABNAAAATgAAAE8AAABQAAAAUQAAAFIAAABTAAAAVAAAAFUAAABWAAAAVwAAAFgAAABZAAAAWgAAAFsAAABcAAAAXQAAAF4AAABfAAAAYAAAAGEAAABiAAAAYwAAAGQAAABlAAAAZgAAAGcAAABoAAAAaQAAAGoAAABrAAAAbAAAAG0AAABuAAAAbwAAAHAAAABxAAAAcgAAAHMAAAB0AAAAdQAAAHYAAAB3AAAAeAAAAHkAAAB6AAAAewAAAHwAAAB9AAAAfgAAAH8AAACAAAAAgQAAAIIAAACDAAAAhAAAAIUAAACGAAAAhwAAAIgAAACJAAAAigAAAIsAAACMAAAAjQAAAI4AAACPAAAAkAAAAJEAAACSAAAAkwAAAJQAAACVAAAAlgAAAJcAAACYAAAAmQAAAJoAAACbAAAAnAAAAJ0AAACeAAAAnwAAAKAAAAChAAAAogAAAKMAAACkAAAApQAAAKYAAACnAAAAqAAAAKkAAACqAAAAqwAAAKwAAACtAAAArgAAAK8AAACwAAAAsQAAALIAAACzAAAAtAAAALUAAAC2AAAAtwAAALgAAAC5AAAAugAAALsAAAC8AAAAvQAAAL4AAAC/AAAAwAAAAMEAAADCAAAAwwAAAMQAAADFAAAAxgAAAMcAAADIAAAAyQAAAMoAAADLAAAAzAAAAM0AAADOAAAAzwAAANAAAADRAAAA0gAAANMAAADUAAAA1QAAANYAAADXAAAA2AAAANkAAADaAAAA2wAAANwAAADdAAAA3gAAAN8AAADgAAAA4QAAAOIAAADjAAAA5AAAAOUAAADmAAAA5wAAAOgAAADpAAAA6gAAAOsAAADsAAAA7QAAAO4AAADvAAAA8AAAAPEAAADyAAAA8wAAAPQAAAD1AAAA9gAAAPcAAAD4AAAA+QAAAPoAAAD7AAAA/AAAAP0AAAD+AAAA/wAAAAABAAABAQAAAgEAAAMBAAAEAQAABQEAAAYBAAAHAQAACAEAAAkBAAAKAQAACwEAAAwBAAANAQAADgEAAA8BAAAQAQAAEQEAABIBAAATAQAAFAEAABUBAAAWAQAAFwEAABgBAAA=\"},\"shape\":[281],\"dtype\":\"int32\",\"order\":\"little\"}],[\"flight_date\",{\"type\":\"ndarray\",\"array\":{\"type\":\"bytes\",\"data\":\"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\"},\"shape\":[281],\"dtype\":\"float64\",\"order\":\"little\"}],[\"active\",{\"type\":\"ndarray\",\"array\":{\"type\":\"bytes\",\"data\":\"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\"},\"shape\":[281],\"dtype\":\"float64\",\"order\":\"little\"}],[\"cancelled\",{\"type\":\"ndarray\",\"array\":{\"type\":\"bytes\",\"data\":\"AAAAAAAAAAAAAAAAAAAAAAAAAAAAAABAAAAAAAAAAAAAAAAAAAAAAAAAAAAAAPA/AAAAAAAAAAAAAAAAAADwPwAAAAAAAAAAAAAAAAAAAAAAAAAAAAAAAAAAAAAAAAAAAAAAAAAAAAAAAAAAAAAAAAAAAAAAAAAAAAAAAAAAAAAAAAAAAAAAAAAAAAAAAAAAAAAAAAAAAAAAAAAAAAAAAAAAAAAAAPA/AAAAAAAA8D8AAAAAAAAAAAAAAAAAAPA/AAAAAAAAAAAAAAAAAAAAAAAAAAAAAAAAAAAAAAAAAAAAAAAAAAAAAAAAAAAAAAAAAAAAAAAAAAAAAAAAAAAIQAAAAAAAAAAAAAAAAAAAAAAAAAAAAAAAAAAAAAAAAAAAAAAAAAAA8D8AAAAAAADwPwAAAAAAAAAAAAAAAAAAAAAAAAAAAAAAAAAAAAAAAAAAAAAAAAAAAAAAAAAAAAAAAAAAAAAAAABAAAAAAAAAAAAAAAAAAAAAAAAAAAAAAAAAAAAAAAAAAAAAAAAAAAAAAAAAAAAAAAAAAAAAAAAAAAAAAAAAAAAAAAAAAAAAAPA/AAAAAAAAAAAAAAAAAAAAAAAAAAAAAAAAAAAAAAAAAAAAAAAAAAAAAAAAAAAAAAAAAAAAAAAAAAAAAAAAAAAAAAAAAAAAAAAAAAAAAAAAAAAAAAAAAADwPwAAAAAAAPA/AAAAAAAAAEAAAAAAAAAAAAAAAAAAAPA/AAAAAAAAAAAAAAAAAAAAAAAAAAAAAPA/AAAAAAAAAAAAAAAAAAAIQAAAAAAAAAAAAAAAAAAAAAAAAAAAAAAAAAAAAAAAAAAAAAAAAAAA8D8AAAAAAAAAAAAAAAAAAPA/AAAAAAAAAAAAAAAAAAAAAAAAAAAAAPA/AAAAAAAAAAAAAAAAAAAAAAAAAAAAAAAAAAAAAAAAAAAAAAAAAADwPwAAAAAAAPA/AAAAAAAAAAAAAAAAAAAAAAAAAAAAAPA/AAAAAAAA8D8AAAAAAADwPwAAAAAAAABAAAAAAAAAAAAAAAAAAAAAAAAAAAAAAAAAAAAAAAAAAAAAAAAAAAAAAAAAAAAAAAAAAAAAAAAAAAAAAAAAAADwPwAAAAAAADVAAAAAAAAAHEAAAAAAAAAkQAAAAAAAABhAAAAAAAAAAEAAAAAAAAAcQAAAAAAAAABAAAAAAAAAAEAAAAAAAAAQQAAAAAAAAAhAAAAAAAAA8D8AAAAAAAAUQAAAAAAAAAAAAAAAAAAAAAAAAAAAAADwPwAAAAAAAAAAAAAAAAAAAAAAAAAAAADwPwAAAAAAAPA/AAAAAAAAAAAAAAAAAAAIQAAAAAAAAPA/AAAAAAAAAAAAAAAAAAAAAAAAAAAAAAAAAAAAAAAAAAAAAAAAAADwPwAAAAAAAAhAAAAAAAAA8D8AAAAAAAAAQAAAAAAAAAhAAAAAAAAA8D8AAAAAAAAAAAAAAAAAAAAAAAAAAAAAAAAAAAAAAAAAAAAAAAAAAPA/AAAAAAAAAEAAAAAAAAAAAAAAAAAAAAAAAAAAAAAA8D8AAAAAAADwPwAAAAAAAPA/AAAAAAAAAAAAAAAAAAAAQAAAAAAAAAAAAAAAAAAAAAAAAAAAAAAAAAAAAAAAAPA/AAAAAAAAAAAAAAAAAAAAAAAAAAAAAAAAAAAAAAAAAAAAAAAAAAAAAAAAAAAAAAAAAAAAAAAAAAAAAAAAAAAAAAAAAAAAAPA/AAAAAAAAAAAAAAAAAAAAAAAAAAAAAAAAAAAAAAAAAAAAAAAAAAAIQAAAAAAAAPA/AAAAAAAACEAAAAAAAADwPwAAAAAAAAAAAAAAAAAAAAAAAAAAAAAAQAAAAAAAAAAAAAAAAAAAAAAAAAAAAAAAAAAAAAAAAAAAAAAAAAAA8D8AAAAAAADwPwAAAAAAAAAAAAAAAAAA8D8AAAAAAAAAQAAAAAAAAABAAAAAAAAACEAAAAAAAAAAAAAAAAAAAABAAAAAAAAAAEAAAAAAAADwPwAAAAAAAPA/AAAAAAAAAEAAAAAAAADwPwAAAAAAAAAAAAAAAAAA8D8AAAAAAAAAAAAAAAAAAAAAAAAAAAAAAEAAAAAAAAAAAAAAAAAAAAAAAAAAAAAA8D8AAAAAAADwPwAAAAAAAAAAAAAAAAAAAAAAAAAAAADwPwAAAAAAAABAAAAAAAAAAAAAAAAAAAAAAAAAAAAAAPA/AAAAAAAAAAAAAAAAAAAAAAAAAAAAAABAAAAAAAAAKkAAAAAAAAAyQAAAAAAAADJAAAAAAAAALkAAAAAAAAAkQAAAAAAAADFAAAAAAAAAJkAAAAAAAAAUQAAAAAAAABhAAAAAAAAAFEAAAAAAAAAIQAAAAAAAACJAAAAAAAAAGEAAAAAAAAAUQAAAAAAAAAhAAAAAAAAAEEAAAAAAAAAUQAAAAAAAABBAAAAAAAAA8D8AAAAAAAAAQAAAAAAAAABAAAAAAAAAAEAAAAAAAAAIQAAAAAAAABRAAAAAAAAAFEAAAAAAAAAIQAAAAAAAAABAAAAAAAAALkAAAAAAAADwPwAAAAAAAPA/AAAAAAAA8D8AAAAAAADwPwAAAAAAAAAAAAAAAAAAAAAAAAAAAAAAAAAAAAAAAAAAAAAAAAAAAAAAAAAAAAAAQAAAAAAAAABAAAAAAAAAAAAAAAAAAAAAAAAAAAAAAAAAAAAAAAAAAAAAAAAAAAAAAAAAAAAAAAAAAAAAAAAAAAAAAAAAAAAAAAAAAAAAAAAAAAAAAAAAAAAAAAAAAAAAAAAAAAAAAAAAAAAAAAAAAEAAAAAAAAAAAAAAAAAAAAAAAAAAAAAA8D8AAAAAAAAAQAAAAAAAAAAAAAAAAAAACEAAAAAAAAAQQAAAAAAAAAhAAAAAAAAACEAAAAAAAAAQQAAAAAAAAABAAAAAAAAACEAAAAAAAAAQQAAAAAAAABBAAAAAAAAAAEAAAAAAAAAAQAAAAAAAAAAAAAAAAAAAAAAAAAAAAAAAQA==\"},\"shape\":[281],\"dtype\":\"float64\",\"order\":\"little\"}],[\"diverted\",{\"type\":\"ndarray\",\"array\":{\"type\":\"bytes\",\"data\":\"AAAAAAAAAAAAAAAAAAAAQAAAAAAAAAAAAAAAAAAAAAAAAAAAAAAAAAAAAAAAAABAAAAAAAAAAAAAAAAAAADwPwAAAAAAAPA/AAAAAAAAAAAAAAAAAAAAAAAAAAAAAAAAAAAAAAAA8D8AAAAAAAAAAAAAAAAAAPA/AAAAAAAAAAAAAAAAAAAAAAAAAAAAAAAAAAAAAAAAAAAAAAAAAAAAAAAAAAAAAAAAAAAAAAAAAAAAAAAAAADwPwAAAAAAAAAAAAAAAAAAAAAAAAAAAAAAAAAAAAAAAAAAAAAAAAAAAAAAAAAAAAAAAAAAAAAAAAAAAAAAAAAAAAAAAAAAAADwPwAAAAAAAAAAAAAAAAAA8D8AAAAAAAAAAAAAAAAAAAAAAAAAAAAAAAAAAAAAAADwPwAAAAAAAAAAAAAAAAAAAAAAAAAAAAAAAAAAAAAAAAAAAAAAAAAAAAAAAAAAAAAAAAAAAAAAAAAAAAAAAAAAAEAAAAAAAAAAAAAAAAAAAABAAAAAAAAAAAAAAAAAAAAAAAAAAAAAAAAAAAAAAAAAAEAAAAAAAAAAAAAAAAAAAAAAAAAAAAAAAAAAAAAAAAAAAAAAAAAAAPA/AAAAAAAAAAAAAAAAAADwPwAAAAAAAABAAAAAAAAAAEAAAAAAAAAAQAAAAAAAAABAAAAAAAAAAEAAAAAAAAAAAAAAAAAAAAAAAAAAAAAAAAAAAAAAAADwPwAAAAAAAABAAAAAAAAA8D8AAAAAAADwPwAAAAAAAPA/AAAAAAAAAEAAAAAAAAAAAAAAAAAAAAAAAAAAAAAAAAAAAAAAAADwPwAAAAAAAPA/AAAAAAAAAAAAAAAAAAAAAAAAAAAAAAAAAAAAAAAA8D8AAAAAAAAUQAAAAAAAAAhAAAAAAAAAAAAAAAAAAAAAQAAAAAAAAAAAAAAAAAAAAEAAAAAAAADwPwAAAAAAAPA/AAAAAAAAAEAAAAAAAADwPwAAAAAAAPA/AAAAAAAA8D8AAAAAAAAAQAAAAAAAABBAAAAAAAAAAAAAAAAAAADwPwAAAAAAAABAAAAAAAAAAEAAAAAAAAAIQAAAAAAAAPA/AAAAAAAAHEAAAAAAAAAcQAAAAAAAAPA/AAAAAAAAAEAAAAAAAAAAQAAAAAAAABBAAAAAAAAAAEAAAAAAAAAQQAAAAAAAABRAAAAAAAAAFEAAAAAAAAAUQAAAAAAAABRAAAAAAAAAEEAAAAAAAAAYQAAAAAAAACJAAAAAAAAAHEAAAAAAAAAAQAAAAAAAAAAAAAAAAAAAAAAAAAAAAAAiQAAAAAAAAABAAAAAAAAAFEAAAAAAAAAUQAAAAAAAABBAAAAAAAAAFEAAAAAAAAAIQAAAAAAAABhAAAAAAAAAEEAAAAAAAAAYQAAAAAAAABhAAAAAAAAAAEAAAAAAAAAYQAAAAAAAAPA/AAAAAAAAEEAAAAAAAAAQQAAAAAAAABhAAAAAAAAACEAAAAAAAAAQQAAAAAAAABxAAAAAAAAA8D8AAAAAAAAiQAAAAAAAACBAAAAAAAAACEAAAAAAAAAYQAAAAAAAAAhAAAAAAAAAGEAAAAAAAADwPwAAAAAAACBAAAAAAAAACEAAAAAAAAAAQAAAAAAAABhAAAAAAAAAAEAAAAAAAAAQQAAAAAAAAAAAAAAAAAAACEAAAAAAAAAAAAAAAAAAAAAAAAAAAAAAAAAAAAAAAAAAAAAAAAAAAAhAAAAAAAAACEAAAAAAAAAQQAAAAAAAABRAAAAAAAAAEEAAAAAAAADwPwAAAAAAAAhAAAAAAAAAEEAAAAAAAAAYQAAAAAAAABRAAAAAAAAAFEAAAAAAAAAQQAAAAAAAABhAAAAAAAAAHEAAAAAAAAAgQAAAAAAAAAhAAAAAAAAAGEAAAAAAAADwPwAAAAAAABBAAAAAAAAAGEAAAAAAAAAAQAAAAAAAAAhAAAAAAAAAAAAAAAAAAAAAQAAAAAAAABRAAAAAAAAAFEAAAAAAAAAUQAAAAAAAABBAAAAAAAAAFEAAAAAAAAAUQAAAAAAAABhAAAAAAAAAGEAAAAAAAAAQQAAAAAAAABRAAAAAAAAAIEAAAAAAAAAcQAAAAAAAABxAAAAAAAAAAEAAAAAAAAAcQAAAAAAAABhAAAAAAAAAFEAAAAAAAAAQQAAAAAAAABxAAAAAAAAAGEAAAAAAAAAQQAAAAAAAABBAAAAAAAAAFEAAAAAAAAAcQAAAAAAAAAhAAAAAAAAAEEAAAAAAAAAQQAAAAAAAAAhAAAAAAAAAFEAAAAAAAAAAQAAAAAAAAAhAAAAAAAAAFEAAAAAAAAAYQAAAAAAAABhAAAAAAAAAAEAAAAAAAAAAQAAAAAAAAPA/AAAAAAAAEEAAAAAAAAAgQAAAAAAAABhAAAAAAAAAEEAAAAAAAAAAQAAAAAAAABBAAAAAAAAAGEAAAAAAAAAQQAAAAAAAABRAAAAAAAAAHEAAAAAAAAAAQAAAAAAAAAhAAAAAAAAAGEAAAAAAAAAcQAAAAAAAAAAAAAAAAAAAAAAAAAAAAADwPwAAAAAAAAAAAAAAAAAA8D8AAAAAAAAIQAAAAAAAAABAAAAAAAAAAEAAAAAAAADwPwAAAAAAAAAAAAAAAAAACEAAAAAAAAAIQAAAAAAAAAAAAAAAAAAA8D8AAAAAAAAAQAAAAAAAAABAAAAAAAAA8D8AAAAAAADwPwAAAAAAAPA/AAAAAAAA8D8AAAAAAAAAAAAAAAAAAPA/AAAAAAAA8D8AAAAAAAAAAAAAAAAAAAAAAAAAAAAA8D8AAAAAAADwPwAAAAAAAAAAAAAAAAAA8D8AAAAAAAAAAAAAAAAAAAAAAAAAAAAAAAAAAAAAAAAAAAAAAAAAAAAAAAAAAAAAAAAAAAAAAAAAAAAAAAAAAAAAAAAAAAAAAAAAAAAAAAAAAAAAAAAAAAAAAAAAAAAAAAAAAAAAAAAAAAAAAAAAAAAAAAAAAAAAAAAAAAAAAAAAAA==\"},\"shape\":[281],\"dtype\":\"float64\",\"order\":\"little\"}],[\"landed\",{\"type\":\"ndarray\",\"array\":{\"type\":\"bytes\",\"data\":\"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\"},\"shape\":[281],\"dtype\":\"float64\",\"order\":\"little\"}],[\"scheduled\",{\"type\":\"ndarray\",\"array\":{\"type\":\"bytes\",\"data\":\"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\"},\"shape\":[281],\"dtype\":\"float64\",\"order\":\"little\"}],[\"unknown\",{\"type\":\"ndarray\",\"array\":{\"type\":\"bytes\",\"data\":\"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\"},\"shape\":[281],\"dtype\":\"float64\",\"order\":\"little\"}]]}}},\"view\":{\"type\":\"object\",\"name\":\"CDSView\",\"id\":\"p1216\",\"attributes\":{\"filter\":{\"type\":\"object\",\"name\":\"AllIndices\",\"id\":\"p1217\"}}},\"glyph\":{\"type\":\"object\",\"name\":\"VArea\",\"id\":\"p1212\",\"attributes\":{\"x\":{\"type\":\"field\",\"field\":\"flight_date\"},\"y1\":{\"type\":\"expr\",\"expr\":{\"type\":\"object\",\"name\":\"Stack\",\"id\":\"p1197\",\"attributes\":{\"fields\":[]}}},\"y2\":{\"type\":\"expr\",\"expr\":{\"type\":\"object\",\"name\":\"Stack\",\"id\":\"p1198\",\"attributes\":{\"fields\":[\"active\"]}}},\"fill_color\":\"#3288bd\",\"hatch_color\":{\"type\":\"value\",\"value\":\"#3288bd\"}}},\"nonselection_glyph\":{\"type\":\"object\",\"name\":\"VArea\",\"id\":\"p1213\",\"attributes\":{\"x\":{\"type\":\"field\",\"field\":\"flight_date\"},\"y1\":{\"type\":\"expr\",\"expr\":{\"id\":\"p1197\"}},\"y2\":{\"type\":\"expr\",\"expr\":{\"id\":\"p1198\"}},\"fill_color\":\"#3288bd\",\"fill_alpha\":0.1,\"hatch_color\":{\"type\":\"value\",\"value\":\"#3288bd\"},\"hatch_alpha\":{\"type\":\"value\",\"value\":0.1}}},\"muted_glyph\":{\"type\":\"object\",\"name\":\"VArea\",\"id\":\"p1214\",\"attributes\":{\"x\":{\"type\":\"field\",\"field\":\"flight_date\"},\"y1\":{\"type\":\"expr\",\"expr\":{\"id\":\"p1197\"}},\"y2\":{\"type\":\"expr\",\"expr\":{\"id\":\"p1198\"}},\"fill_color\":\"#3288bd\",\"fill_alpha\":0.2,\"hatch_color\":{\"type\":\"value\",\"value\":\"#3288bd\"},\"hatch_alpha\":{\"type\":\"value\",\"value\":0.2}}}}},{\"type\":\"object\",\"name\":\"GlyphRenderer\",\"id\":\"p1226\",\"attributes\":{\"name\":\"landed\",\"data_source\":{\"id\":\"p1151\"},\"view\":{\"type\":\"object\",\"name\":\"CDSView\",\"id\":\"p1227\",\"attributes\":{\"filter\":{\"type\":\"object\",\"name\":\"AllIndices\",\"id\":\"p1228\"}}},\"glyph\":{\"type\":\"object\",\"name\":\"VArea\",\"id\":\"p1223\",\"attributes\":{\"x\":{\"type\":\"field\",\"field\":\"flight_date\"},\"y1\":{\"type\":\"expr\",\"expr\":{\"type\":\"object\",\"name\":\"Stack\",\"id\":\"p1199\",\"attributes\":{\"fields\":[\"active\"]}}},\"y2\":{\"type\":\"expr\",\"expr\":{\"type\":\"object\",\"name\":\"Stack\",\"id\":\"p1200\",\"attributes\":{\"fields\":[\"active\",\"landed\"]}}},\"fill_color\":\"#99d594\",\"hatch_color\":{\"type\":\"value\",\"value\":\"#99d594\"}}},\"nonselection_glyph\":{\"type\":\"object\",\"name\":\"VArea\",\"id\":\"p1224\",\"attributes\":{\"x\":{\"type\":\"field\",\"field\":\"flight_date\"},\"y1\":{\"type\":\"expr\",\"expr\":{\"id\":\"p1199\"}},\"y2\":{\"type\":\"expr\",\"expr\":{\"id\":\"p1200\"}},\"fill_color\":\"#99d594\",\"fill_alpha\":0.1,\"hatch_color\":{\"type\":\"value\",\"value\":\"#99d594\"},\"hatch_alpha\":{\"type\":\"value\",\"value\":0.1}}},\"muted_glyph\":{\"type\":\"object\",\"name\":\"VArea\",\"id\":\"p1225\",\"attributes\":{\"x\":{\"type\":\"field\",\"field\":\"flight_date\"},\"y1\":{\"type\":\"expr\",\"expr\":{\"id\":\"p1199\"}},\"y2\":{\"type\":\"expr\",\"expr\":{\"id\":\"p1200\"}},\"fill_color\":\"#99d594\",\"fill_alpha\":0.2,\"hatch_color\":{\"type\":\"value\",\"value\":\"#99d594\"},\"hatch_alpha\":{\"type\":\"value\",\"value\":0.2}}}}},{\"type\":\"object\",\"name\":\"GlyphRenderer\",\"id\":\"p1236\",\"attributes\":{\"name\":\"scheduled\",\"data_source\":{\"id\":\"p1151\"},\"view\":{\"type\":\"object\",\"name\":\"CDSView\",\"id\":\"p1237\",\"attributes\":{\"filter\":{\"type\":\"object\",\"name\":\"AllIndices\",\"id\":\"p1238\"}}},\"glyph\":{\"type\":\"object\",\"name\":\"VArea\",\"id\":\"p1233\",\"attributes\":{\"x\":{\"type\":\"field\",\"field\":\"flight_date\"},\"y1\":{\"type\":\"expr\",\"expr\":{\"type\":\"object\",\"name\":\"Stack\",\"id\":\"p1201\",\"attributes\":{\"fields\":[\"active\",\"landed\"]}}},\"y2\":{\"type\":\"expr\",\"expr\":{\"type\":\"object\",\"name\":\"Stack\",\"id\":\"p1202\",\"attributes\":{\"fields\":[\"active\",\"landed\",\"scheduled\"]}}},\"fill_color\":\"#e6f598\",\"hatch_color\":{\"type\":\"value\",\"value\":\"#e6f598\"}}},\"nonselection_glyph\":{\"type\":\"object\",\"name\":\"VArea\",\"id\":\"p1234\",\"attributes\":{\"x\":{\"type\":\"field\",\"field\":\"flight_date\"},\"y1\":{\"type\":\"expr\",\"expr\":{\"id\":\"p1201\"}},\"y2\":{\"type\":\"expr\",\"expr\":{\"id\":\"p1202\"}},\"fill_color\":\"#e6f598\",\"fill_alpha\":0.1,\"hatch_color\":{\"type\":\"value\",\"value\":\"#e6f598\"},\"hatch_alpha\":{\"type\":\"value\",\"value\":0.1}}},\"muted_glyph\":{\"type\":\"object\",\"name\":\"VArea\",\"id\":\"p1235\",\"attributes\":{\"x\":{\"type\":\"field\",\"field\":\"flight_date\"},\"y1\":{\"type\":\"expr\",\"expr\":{\"id\":\"p1201\"}},\"y2\":{\"type\":\"expr\",\"expr\":{\"id\":\"p1202\"}},\"fill_color\":\"#e6f598\",\"fill_alpha\":0.2,\"hatch_color\":{\"type\":\"value\",\"value\":\"#e6f598\"},\"hatch_alpha\":{\"type\":\"value\",\"value\":0.2}}}}},{\"type\":\"object\",\"name\":\"GlyphRenderer\",\"id\":\"p1246\",\"attributes\":{\"name\":\"diverted\",\"data_source\":{\"id\":\"p1151\"},\"view\":{\"type\":\"object\",\"name\":\"CDSView\",\"id\":\"p1247\",\"attributes\":{\"filter\":{\"type\":\"object\",\"name\":\"AllIndices\",\"id\":\"p1248\"}}},\"glyph\":{\"type\":\"object\",\"name\":\"VArea\",\"id\":\"p1243\",\"attributes\":{\"x\":{\"type\":\"field\",\"field\":\"flight_date\"},\"y1\":{\"type\":\"expr\",\"expr\":{\"type\":\"object\",\"name\":\"Stack\",\"id\":\"p1203\",\"attributes\":{\"fields\":[\"active\",\"landed\",\"scheduled\"]}}},\"y2\":{\"type\":\"expr\",\"expr\":{\"type\":\"object\",\"name\":\"Stack\",\"id\":\"p1204\",\"attributes\":{\"fields\":[\"active\",\"landed\",\"scheduled\",\"diverted\"]}}},\"fill_color\":\"#fee08b\",\"hatch_color\":{\"type\":\"value\",\"value\":\"#fee08b\"}}},\"nonselection_glyph\":{\"type\":\"object\",\"name\":\"VArea\",\"id\":\"p1244\",\"attributes\":{\"x\":{\"type\":\"field\",\"field\":\"flight_date\"},\"y1\":{\"type\":\"expr\",\"expr\":{\"id\":\"p1203\"}},\"y2\":{\"type\":\"expr\",\"expr\":{\"id\":\"p1204\"}},\"fill_color\":\"#fee08b\",\"fill_alpha\":0.1,\"hatch_color\":{\"type\":\"value\",\"value\":\"#fee08b\"},\"hatch_alpha\":{\"type\":\"value\",\"value\":0.1}}},\"muted_glyph\":{\"type\":\"object\",\"name\":\"VArea\",\"id\":\"p1245\",\"attributes\":{\"x\":{\"type\":\"field\",\"field\":\"flight_date\"},\"y1\":{\"type\":\"expr\",\"expr\":{\"id\":\"p1203\"}},\"y2\":{\"type\":\"expr\",\"expr\":{\"id\":\"p1204\"}},\"fill_color\":\"#fee08b\",\"fill_alpha\":0.2,\"hatch_color\":{\"type\":\"value\",\"value\":\"#fee08b\"},\"hatch_alpha\":{\"type\":\"value\",\"value\":0.2}}}}},{\"type\":\"object\",\"name\":\"GlyphRenderer\",\"id\":\"p1256\",\"attributes\":{\"name\":\"unknown\",\"data_source\":{\"id\":\"p1151\"},\"view\":{\"type\":\"object\",\"name\":\"CDSView\",\"id\":\"p1257\",\"attributes\":{\"filter\":{\"type\":\"object\",\"name\":\"AllIndices\",\"id\":\"p1258\"}}},\"glyph\":{\"type\":\"object\",\"name\":\"VArea\",\"id\":\"p1253\",\"attributes\":{\"x\":{\"type\":\"field\",\"field\":\"flight_date\"},\"y1\":{\"type\":\"expr\",\"expr\":{\"type\":\"object\",\"name\":\"Stack\",\"id\":\"p1205\",\"attributes\":{\"fields\":[\"active\",\"landed\",\"scheduled\",\"diverted\"]}}},\"y2\":{\"type\":\"expr\",\"expr\":{\"type\":\"object\",\"name\":\"Stack\",\"id\":\"p1206\",\"attributes\":{\"fields\":[\"active\",\"landed\",\"scheduled\",\"diverted\",\"unknown\"]}}},\"fill_color\":\"#fc8d59\",\"hatch_color\":{\"type\":\"value\",\"value\":\"#fc8d59\"}}},\"nonselection_glyph\":{\"type\":\"object\",\"name\":\"VArea\",\"id\":\"p1254\",\"attributes\":{\"x\":{\"type\":\"field\",\"field\":\"flight_date\"},\"y1\":{\"type\":\"expr\",\"expr\":{\"id\":\"p1205\"}},\"y2\":{\"type\":\"expr\",\"expr\":{\"id\":\"p1206\"}},\"fill_color\":\"#fc8d59\",\"fill_alpha\":0.1,\"hatch_color\":{\"type\":\"value\",\"value\":\"#fc8d59\"},\"hatch_alpha\":{\"type\":\"value\",\"value\":0.1}}},\"muted_glyph\":{\"type\":\"object\",\"name\":\"VArea\",\"id\":\"p1255\",\"attributes\":{\"x\":{\"type\":\"field\",\"field\":\"flight_date\"},\"y1\":{\"type\":\"expr\",\"expr\":{\"id\":\"p1205\"}},\"y2\":{\"type\":\"expr\",\"expr\":{\"id\":\"p1206\"}},\"fill_color\":\"#fc8d59\",\"fill_alpha\":0.2,\"hatch_color\":{\"type\":\"value\",\"value\":\"#fc8d59\"},\"hatch_alpha\":{\"type\":\"value\",\"value\":0.2}}}}},{\"type\":\"object\",\"name\":\"GlyphRenderer\",\"id\":\"p1266\",\"attributes\":{\"name\":\"cancelled\",\"data_source\":{\"id\":\"p1151\"},\"view\":{\"type\":\"object\",\"name\":\"CDSView\",\"id\":\"p1267\",\"attributes\":{\"filter\":{\"type\":\"object\",\"name\":\"AllIndices\",\"id\":\"p1268\"}}},\"glyph\":{\"type\":\"object\",\"name\":\"VArea\",\"id\":\"p1263\",\"attributes\":{\"x\":{\"type\":\"field\",\"field\":\"flight_date\"},\"y1\":{\"type\":\"expr\",\"expr\":{\"type\":\"object\",\"name\":\"Stack\",\"id\":\"p1207\",\"attributes\":{\"fields\":[\"active\",\"landed\",\"scheduled\",\"diverted\",\"unknown\"]}}},\"y2\":{\"type\":\"expr\",\"expr\":{\"type\":\"object\",\"name\":\"Stack\",\"id\":\"p1208\",\"attributes\":{\"fields\":[\"active\",\"landed\",\"scheduled\",\"diverted\",\"unknown\",\"cancelled\"]}}},\"fill_color\":\"#d53e4f\",\"hatch_color\":{\"type\":\"value\",\"value\":\"#d53e4f\"}}},\"nonselection_glyph\":{\"type\":\"object\",\"name\":\"VArea\",\"id\":\"p1264\",\"attributes\":{\"x\":{\"type\":\"field\",\"field\":\"flight_date\"},\"y1\":{\"type\":\"expr\",\"expr\":{\"id\":\"p1207\"}},\"y2\":{\"type\":\"expr\",\"expr\":{\"id\":\"p1208\"}},\"fill_color\":\"#d53e4f\",\"fill_alpha\":0.1,\"hatch_color\":{\"type\":\"value\",\"value\":\"#d53e4f\"},\"hatch_alpha\":{\"type\":\"value\",\"value\":0.1}}},\"muted_glyph\":{\"type\":\"object\",\"name\":\"VArea\",\"id\":\"p1265\",\"attributes\":{\"x\":{\"type\":\"field\",\"field\":\"flight_date\"},\"y1\":{\"type\":\"expr\",\"expr\":{\"id\":\"p1207\"}},\"y2\":{\"type\":\"expr\",\"expr\":{\"id\":\"p1208\"}},\"fill_color\":\"#d53e4f\",\"fill_alpha\":0.2,\"hatch_color\":{\"type\":\"value\",\"value\":\"#d53e4f\"},\"hatch_alpha\":{\"type\":\"value\",\"value\":0.2}}}}},{\"type\":\"object\",\"name\":\"GlyphRenderer\",\"id\":\"p1276\",\"attributes\":{\"data_source\":{\"type\":\"object\",\"name\":\"ColumnDataSource\",\"id\":\"p1270\",\"attributes\":{\"selected\":{\"type\":\"object\",\"name\":\"Selection\",\"id\":\"p1271\",\"attributes\":{\"indices\":[],\"line_indices\":[]}},\"selection_policy\":{\"type\":\"object\",\"name\":\"UnionRenderers\",\"id\":\"p1272\"},\"data\":{\"type\":\"map\",\"entries\":[[\"x\",{\"type\":\"ndarray\",\"array\":{\"type\":\"bytes\",\"data\":\"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\"},\"shape\":[277],\"dtype\":\"float64\",\"order\":\"little\"}],[\"y\",{\"type\":\"ndarray\",\"array\":{\"type\":\"bytes\",\"data\":\"FQAAAAgAAAAZAAAAGwAAACoAAAAWAAAAGQAAABQAAAATAAAAEgAAABEAAAATAAAAIwAAABMAAAASAAAAGwAAABwAAAAYAAAAEAAAAB8AAAAiAAAAFAAAABAAAAATAAAAIgAAAB4AAAAhAAAAIAAAABEAAAAXAAAAHAAAABoAAAAhAAAAIAAAAB0AAAAWAAAAIgAAACQAAAAnAAAAIwAAABcAAAAlAAAAHwAAABwAAAAqAAAAHQAAABwAAAAUAAAAEgAAABgAAAAhAAAAIAAAABgAAAAXAAAAFAAAABoAAAArAAAAHAAAACQAAAAUAAAAIAAAABIAAAAXAAAAIQAAABIAAAAjAAAAHwAAABcAAAATAAAAFwAAABoAAAAeAAAAEwAAABkAAAAhAAAAGgAAABMAAAAaAAAAEgAAACQAAAASAAAADgAAABwAAAAMAAAAKAAAABEAAAARAAAAHwAAABsAAAAUAAAAFwAAABAAAAAXAAAACAAAABEAAAAkAAAAFgAAABcAAAAMAAAAEgAAABEAAAASAAAALQAAABkAAAAbAAAAHQAAACMAAAATAAAADAAAABAAAAAVAAAAFwAAABoAAAAbAAAAEQAAABsAAAAUAAAAEgAAABwAAAAVAAAAEgAAAAsAAAAYAAAAEgAAABYAAAAZAAAAFQAAACMAAAAOAAAAIgAAAA0AAAALAAAACQAAABcAAAASAAAAIwAAABAAAAAWAAAAEgAAABQAAAAXAAAAFgAAABUAAAARAAAAGgAAACAAAAAaAAAAGAAAABMAAAALAAAAEQAAACQAAAAaAAAAHwAAAB8AAAAfAAAAFgAAAA4AAAAXAAAAFgAAAA0AAAATAAAAIQAAABMAAAAbAAAAEQAAABoAAAAaAAAADwAAABcAAAAPAAAAEgAAABkAAAARAAAAEgAAABUAAAAmAAAAEgAAABAAAAAUAAAADAAAABIAAAAQAAAAGgAAACIAAAAiAAAAEgAAACUAAAAYAAAAIAAAABIAAAAfAAAAGQAAABkAAAARAAAAEAAAAB8AAAALAAAAHwAAABsAAAAbAAAAFAAAABYAAAAWAAAAEAAAABcAAAAKAAAAEwAAABUAAAAYAAAAFgAAAA0AAAAOAAAAFAAAABYAAAAWAAAAGgAAABkAAAAUAAAAFgAAABkAAAAVAAAAFAAAABUAAAAgAAAADwAAABIAAAAZAAAAHQAAABEAAAAoAAAAHgAAACcAAAAbAAAAHAAAABYAAABLAAAAJgAAABoAAAAOAAAAFQAAABwAAAAYAAAAEwAAABkAAAAPAAAAJAAAABoAAAAbAAAAGAAAABIAAAATAAAAIwAAACoAAAAaAAAAHwAAABYAAAAZAAAAGgAAACYAAABIAAAAOgAAABYAAABTAAAAQAAAAMgAAAB9AAAAjgAAAHMAAABpAAAAaQAAAIwAAAB1AAAAVwAAAGYAAABcAAAAfQAAAA==\"},\"shape\":[277],\"dtype\":\"int32\",\"order\":\"little\"}]]}}},\"view\":{\"type\":\"object\",\"name\":\"CDSView\",\"id\":\"p1277\",\"attributes\":{\"filter\":{\"type\":\"object\",\"name\":\"AllIndices\",\"id\":\"p1278\"}}},\"glyph\":{\"type\":\"object\",\"name\":\"Line\",\"id\":\"p1273\",\"attributes\":{\"x\":{\"type\":\"field\",\"field\":\"x\"},\"y\":{\"type\":\"field\",\"field\":\"y\"},\"line_width\":2}},\"nonselection_glyph\":{\"type\":\"object\",\"name\":\"Line\",\"id\":\"p1274\",\"attributes\":{\"x\":{\"type\":\"field\",\"field\":\"x\"},\"y\":{\"type\":\"field\",\"field\":\"y\"},\"line_alpha\":0.1,\"line_width\":2}},\"muted_glyph\":{\"type\":\"object\",\"name\":\"Line\",\"id\":\"p1275\",\"attributes\":{\"x\":{\"type\":\"field\",\"field\":\"x\"},\"y\":{\"type\":\"field\",\"field\":\"y\"},\"line_alpha\":0.2,\"line_width\":2}}}},{\"type\":\"object\",\"name\":\"Span\",\"id\":\"p1283\",\"attributes\":{\"location\":1713052800000.0,\"dimension\":\"height\",\"line_color\":\"#C6C6C6\",\"line_width\":2,\"line_dash\":[4,4]}},{\"type\":\"object\",\"name\":\"Span\",\"id\":\"p1285\",\"attributes\":{\"location\":1724544000000.0,\"dimension\":\"height\",\"line_color\":\"#C6C6C6\",\"line_width\":2,\"line_dash\":[4,4]}},{\"type\":\"object\",\"name\":\"Span\",\"id\":\"p1287\",\"attributes\":{\"location\":1727049600000.0,\"dimension\":\"height\",\"line_color\":\"#C6C6C6\",\"line_width\":2,\"line_dash\":[4,4]}}],\"toolbar\":{\"type\":\"object\",\"name\":\"Toolbar\",\"id\":\"p1163\",\"attributes\":{\"tools\":[{\"type\":\"object\",\"name\":\"PanTool\",\"id\":\"p1188\"},{\"type\":\"object\",\"name\":\"BoxZoomTool\",\"id\":\"p1189\",\"attributes\":{\"overlay\":{\"type\":\"object\",\"name\":\"BoxAnnotation\",\"id\":\"p1190\",\"attributes\":{\"syncable\":false,\"level\":\"overlay\",\"visible\":false,\"left\":{\"type\":\"number\",\"value\":\"nan\"},\"right\":{\"type\":\"number\",\"value\":\"nan\"},\"top\":{\"type\":\"number\",\"value\":\"nan\"},\"bottom\":{\"type\":\"number\",\"value\":\"nan\"},\"left_units\":\"canvas\",\"right_units\":\"canvas\",\"top_units\":\"canvas\",\"bottom_units\":\"canvas\",\"line_color\":\"black\",\"line_alpha\":1.0,\"line_width\":2,\"line_dash\":[4,4],\"fill_color\":\"lightgrey\",\"fill_alpha\":0.5}}}},{\"type\":\"object\",\"name\":\"ResetTool\",\"id\":\"p1195\"},{\"type\":\"object\",\"name\":\"SaveTool\",\"id\":\"p1196\"}]}},\"toolbar_location\":\"above\",\"left\":[{\"type\":\"object\",\"name\":\"LinearAxis\",\"id\":\"p1183\",\"attributes\":{\"ticker\":{\"type\":\"object\",\"name\":\"BasicTicker\",\"id\":\"p1184\",\"attributes\":{\"mantissas\":[1,2,5]}},\"formatter\":{\"type\":\"object\",\"name\":\"BasicTickFormatter\",\"id\":\"p1185\"},\"axis_label\":\"Nr Flights\",\"major_label_policy\":{\"type\":\"object\",\"name\":\"AllLabels\",\"id\":\"p1186\"}}}],\"below\":[{\"type\":\"object\",\"name\":\"DatetimeAxis\",\"id\":\"p1166\",\"attributes\":{\"ticker\":{\"type\":\"object\",\"name\":\"FixedTicker\",\"id\":\"p1281\",\"attributes\":{\"ticks\":[1704585600000.0,1705795200000.0,1707004800000.0,1708214400000.0,1709424000000.0,1710633600000.0,1711843200000.0,1713052800000.0,1714262400000.0,1715472000000.0,1716681600000.0,1717891200000.0,1719100800000.0,1720310400000.0,1721520000000.0,1722729600000.0,1723939200000.0,1725148800000.0,1726358400000.0,1727568000000.0],\"minor_ticks\":[]}},\"formatter\":{\"type\":\"object\",\"name\":\"DatetimeTickFormatter\",\"id\":\"p1280\",\"attributes\":{\"days\":\"%d %b %Y\",\"months\":\"%b %Y\"}},\"axis_label\":\"Flight Date\",\"major_label_orientation\":1.2,\"major_label_policy\":{\"type\":\"object\",\"name\":\"AllLabels\",\"id\":\"p1181\"}}},{\"type\":\"object\",\"name\":\"Label\",\"id\":\"p1282\",\"attributes\":{\"text\":\"Source: Flight data from AviationStack and conflict events from ACLED. ACLED conflicts exclude protest events.\",\"text_color\":\"gray\",\"text_font_size\":\"10pt\",\"x\":0,\"y\":0,\"x_units\":\"screen\",\"y_units\":\"screen\"}}],\"center\":[{\"type\":\"object\",\"name\":\"Grid\",\"id\":\"p1182\",\"attributes\":{\"axis\":{\"id\":\"p1166\"}}},{\"type\":\"object\",\"name\":\"Grid\",\"id\":\"p1187\",\"attributes\":{\"dimension\":1,\"axis\":{\"id\":\"p1183\"}}},{\"type\":\"object\",\"name\":\"Legend\",\"id\":\"p1218\",\"attributes\":{\"location\":\"top_left\",\"orientation\":\"horizontal\",\"click_policy\":\"mute\",\"items\":[{\"type\":\"object\",\"name\":\"LegendItem\",\"id\":\"p1219\",\"attributes\":{\"label\":{\"type\":\"value\",\"value\":\"active\"},\"renderers\":[{\"id\":\"p1215\"}]}},{\"type\":\"object\",\"name\":\"LegendItem\",\"id\":\"p1229\",\"attributes\":{\"label\":{\"type\":\"value\",\"value\":\"landed\"},\"renderers\":[{\"id\":\"p1226\"}]}},{\"type\":\"object\",\"name\":\"LegendItem\",\"id\":\"p1239\",\"attributes\":{\"label\":{\"type\":\"value\",\"value\":\"scheduled\"},\"renderers\":[{\"id\":\"p1236\"}]}},{\"type\":\"object\",\"name\":\"LegendItem\",\"id\":\"p1249\",\"attributes\":{\"label\":{\"type\":\"value\",\"value\":\"diverted\"},\"renderers\":[{\"id\":\"p1246\"}]}},{\"type\":\"object\",\"name\":\"LegendItem\",\"id\":\"p1259\",\"attributes\":{\"label\":{\"type\":\"value\",\"value\":\"unknown\"},\"renderers\":[{\"id\":\"p1256\"}]}},{\"type\":\"object\",\"name\":\"LegendItem\",\"id\":\"p1269\",\"attributes\":{\"label\":{\"type\":\"value\",\"value\":\"cancelled\"},\"renderers\":[{\"id\":\"p1266\"}]}},{\"type\":\"object\",\"name\":\"LegendItem\",\"id\":\"p1279\",\"attributes\":{\"label\":{\"type\":\"value\",\"value\":\"Number of Conflict Events\"},\"renderers\":[{\"id\":\"p1276\"}]}}]}},{\"type\":\"object\",\"name\":\"Label\",\"id\":\"p1284\",\"attributes\":{\"text\":\"Temporary shutdown of\\nLebanese airspace between\\n7AM and 1PM\",\"text_color\":\"black\",\"text_font_size\":\"10pt\",\"text_align\":\"right\",\"background_fill_color\":\"grey\",\"background_fill_alpha\":0.2,\"x\":1713052800000.0,\"y\":200.0,\"x_offset\":-5}},{\"type\":\"object\",\"name\":\"Label\",\"id\":\"p1286\",\"attributes\":{\"text\":\"Israeli strikes in\\nSouthern Lebanon\",\"text_color\":\"black\",\"text_font_size\":\"10pt\",\"text_align\":\"right\",\"background_fill_color\":\"grey\",\"background_fill_alpha\":0.2,\"x\":1724544000000.0,\"y\":180.0,\"x_offset\":-5}},{\"type\":\"object\",\"name\":\"Label\",\"id\":\"p1288\",\"attributes\":{\"text\":\"Start of the full blown conflict\",\"text_color\":\"black\",\"text_font_size\":\"10pt\",\"text_align\":\"right\",\"background_fill_color\":\"grey\",\"background_fill_alpha\":0.2,\"x\":1727049600000.0,\"y\":160.0,\"x_offset\":-5}}]}}]}};\n  const render_items = [{\"docid\":\"175f49cc-fc60-4e0f-b102-02b6f55db707\",\"roots\":{\"p1154\":\"e1cd1d24-793f-44f7-8971-040bd282d6db\"},\"root_ids\":[\"p1154\"]}];\n  void root.Bokeh.embed.embed_items_notebook(docs_json, render_items);\n  }\n  if (root.Bokeh !== undefined) {\n    embed_document(root);\n  } else {\n    let attempts = 0;\n    const timer = setInterval(function(root) {\n      if (root.Bokeh !== undefined) {\n        clearInterval(timer);\n        embed_document(root);\n      } else {\n        attempts++;\n        if (attempts > 100) {\n          clearInterval(timer);\n          console.log(\"Bokeh: ERROR: Unable to run BokehJS code because BokehJS library is missing\");\n        }\n      }\n    }, 10, root)\n  }\n})(window);",
      "application/vnd.bokehjs_exec.v0+json": ""
     },
     "metadata": {
      "application/vnd.bokehjs_exec.v0+json": {
       "id": "p1154"
      }
     },
     "output_type": "display_data"
    }
   ],
   "source": [
    "output_notebook()  # Display plots inline in a Jupyter notebook\n",
    "\n",
    "complete_date_range = pd.date_range(\n",
    "    start=df[\"flight_date\"].min(), end=df[\"flight_date\"].max()\n",
    ")\n",
    "df = (\n",
    "    departures_exploded.groupby([\"flight_date\", \"flight_status\"])\n",
    "    .count()[[\"iata_arr\"]]\n",
    "    .reset_index()\n",
    ")\n",
    "df[\"flight_date\"] = df[\"flight_date\"].apply(lambda x: pd.to_datetime(x))\n",
    "\n",
    "show(\n",
    "    get_area_plot(\n",
    "        df,\n",
    "        \"Daily Departures from BEY\",\n",
    "        \"Source: Flight data from AviationStack and conflict events from ACLED. ACLED conflicts exclude protest events.\",\n",
    "        acled_events_daily,\n",
    "        events_dict=events,\n",
    "    )\n",
    ")"
   ]
  },
  {
   "cell_type": "markdown",
   "metadata": {},
   "source": [
    "### Findings\n",
    "\n",
    "- On 14th April 2024, there was a temporary shutdown on Lebanese airspace between 7AM and 1PM. On that day, there were 17 flights that reported as landed. All the flights in the 'Active' status also donot have an 'actual departure time' recorded which could lead us to assume that some of them were either cancelled or never took off. \n",
    "- There is no flight data on 29th and 30th of January, 29th and 30th of April and 7th to 9th of June 2024. "
   ]
  },
  {
   "cell_type": "code",
   "execution_count": 19,
   "metadata": {
    "tags": [
     "remove-cell"
    ]
   },
   "outputs": [],
   "source": [
    "iata_mapping = {\n",
    "    \"BEY\": \"Beirut\",\n",
    "    \"ADA\": \"Adana\",\n",
    "    \"ADD\": \"Addis Ababa\",\n",
    "    \"AMM\": \"Amman\",\n",
    "    \"AUH\": \"Abu Dhabi\",\n",
    "    \"BAH\": \"Bahrain\",\n",
    "    \"BER\": \"Berlin\",\n",
    "    \"BGW\": \"Baghdad\",\n",
    "    \"CAI\": \"Cairo\",\n",
    "    \"CDG\": \"Paris (Charles de Gaulle)\",\n",
    "    \"DOH\": \"Doha\",\n",
    "    \"DUS\": \"Düsseldorf\",\n",
    "    \"DXB\": \"Dubai\",\n",
    "    \"FCO\": \"Rome (Fiumicino)\",\n",
    "    \"FRA\": \"Frankfurt\",\n",
    "    \"GVA\": \"Geneva\",\n",
    "    \"IST\": \"Istanbul\",\n",
    "    \"JED\": \"Jeddah\",\n",
    "    \"KAC\": \"Kuwait City\",\n",
    "    \"KWI\": \"Kuwait City\",\n",
    "    \"LCA\": \"Larnaca\",\n",
    "    \"LHR\": \"London (Heathrow)\",\n",
    "    \"LXR\": \"Luxor\",\n",
    "    \"MAD\": \"Madrid\",\n",
    "    \"NJF\": \"Najaf\",\n",
    "    \"ORY\": \"Paris (Orly)\",\n",
    "    \"ATH\": \"Athens\",\n",
    "    \"AYT\": \"Antalya\",\n",
    "    \"BRU\": \"Brussels\",\n",
    "    \"BSR\": \"Basra\",\n",
    "    \"CMF\": \"Chambéry\",\n",
    "    \"CPH\": \"Copenhagen\",\n",
    "    \"DMM\": \"Dammam\",\n",
    "    \"EBL\": \"Erbil\",\n",
    "    \"ESB\": \"Ankara\",\n",
    "    \"IKA\": \"Tehran\",\n",
    "    \"ACC\": \"Accra\",\n",
    "    \"ADJ\": \"Amman\",\n",
    "    \"ALP\": \"Aleppo\",\n",
    "    \"BRE\": \"Bremen\",\n",
    "    \"DAM\": \"Damascus\",\n",
    "    \"ISU\": \"Sulaymaniyah\",\n",
    "    \"AKT\": \"Akrotiri\",\n",
    "    \"EVN\": \"Yerevan\",\n",
    "    \"ARN\": \"Stockholm\",\n",
    "    \"BZZ\": \"Brize Norton\",\n",
    "    \"AZI\": \"Abu Dhabi (Al Bateen)\",\n",
    "    \"ADB\": \"Izmir\",\n",
    "    \"HAM\": \"Hamburg\",\n",
    "    \"HKG\": \"Hong Kong\",\n",
    "    \"FIH\": \"Kinshasa\",\n",
    "    \"CMB\": \"Colombo\",\n",
    "    \"NCE\": \"Nice\",\n",
    "    \"MFM\": \"Macau\",\n",
    "    \"MNL\": \"Manila\",\n",
    "    \"OTP\": \"Bucharest\",\n",
    "    \"RUH\": \"Riyadh\",\n",
    "    \"LOS\": \"Lagos\",\n",
    "    \"MLA\": \"Malta\",\n",
    "    \"MRS\": \"Marseille\",\n",
    "    \"PSA\": \"Pisa\",\n",
    "    \"ISL\": \"Istanbul (Sabiha Gökçen)\",\n",
    "    \"ALG\": \"Algiers\",\n",
    "    \"SAW\": \"Istanbul (Sabiha Gökçen)\",\n",
    "    \"SHJ\": \"Sharjah\",\n",
    "    \"SSH\": \"Sharm El Sheikh\",\n",
    "    \"DWC\": \"Dubai (Al Maktoum)\",\n",
    "    \"PFO\": \"Paphos\",\n",
    "    \"MCT\": \"Muscat\",\n",
    "    \"CIA\": \"Rome (Ciampino)\",\n",
    "    \"LBG\": \"Paris (Le Bourget)\",\n",
    "    \"LEJ\": \"Leipzig\",\n",
    "    \"BIA\": \"Bastia\",\n",
    "    \"BUD\": \"Budapest\",\n",
    "    \"CHQ\": \"Chania\",\n",
    "    \"HAN\": \"Hanoi\",\n",
    "    \"AMS\": \"Amsterdam\",\n",
    "    \"VIY\": \"Vigo\",\n",
    "    \"PNH\": \"Phnom Penh\",\n",
    "    \"BRI\": \"Bari\",\n",
    "    \"EIN\": \"Eindhoven\",\n",
    "    \"NBO\": \"Nairobi\",\n",
    "    \"CEQ\": \"Cannes\",\n",
    "    \"LYS\": \"Lyon\",\n",
    "    \"KTM\": \"Kathmandu\",\n",
    "    \"SIR\": \"Sion\",\n",
    "    \"BEG\": \"Belgrade\",\n",
    "    \"INI\": \"Niš\",\n",
    "    \"RMS\": \"Ramstein\",\n",
    "    \"ISB\": \"Islamabad\",\n",
    "    \"ZAZ\": \"Zaragoza\",\n",
    "    \"HRG\": \"Hurghada\",\n",
    "    \"KGS\": \"Kos\",\n",
    "    \"MED\": \"Medina\",\n",
    "    \"MHD\": \"Mashhad\",\n",
    "    \"HER\": \"Heraklion\",\n",
    "    \"ASW\": \"Aswan\",\n",
    "    \"DUB\": \"Dublin\",\n",
    "    \"HBE\": \"Alexandria\",\n",
    "    \"ABJ\": \"Abidjan\",\n",
    "    \"CTA\": \"Catania\",\n",
    "    \"BOJ\": \"Burgas\",\n",
    "    \"LDE\": \"Lourdes\",\n",
    "    \"DEL\": \"Delhi\",\n",
    "    \"LAD\": \"Luanda\",\n",
    "    \"BJZ\": \"Badajoz\",\n",
    "    \"MIR\": \"Monastir\",\n",
    "    \"MXP\": \"Milan (Malpensa)\",\n",
    "    \"HYD\": \"Hyderabad\",\n",
    "    \"KRK\": \"Krakow\",\n",
    "    \"BJV\": \"Bodrum\",\n",
    "    \"GYD\": \"Baku\",\n",
    "    \"TLV\": \"Tel Aviv\",\n",
    "    \"WAW\": \"Warsaw\",\n",
    "    \"DLM\": \"Dalaman\",\n",
    "    \"IBZ\": \"Ibiza\",\n",
    "    \"BLQ\": \"Bologna\",\n",
    "    \"FAB\": \"Farnborough\",\n",
    "    \"FLR\": \"Florence\",\n",
    "    \"BRQ\": \"Brno\",\n",
    "    \"BJY\": \"Belgrade (Batajnica)\",\n",
    "    \"GOT\": \"Gothenburg\",\n",
    "    \"DBB\": \"Dabaa\",\n",
    "    \"CGN\": \"Cologne\",\n",
    "    \"FOG\": \"Foggia\",\n",
    "    \"FJR\": \"Fujairah\",\n",
    "    \"CFU\": \"Corfu\",\n",
    "    \"ABV\": \"Abuja\",\n",
    "    \"COV\": \"Coventry\",\n",
    "    \"BUS\": \"Batumi\",\n",
    "    \"ZRH\": \"Zurich\",\n",
    "    \"UAB\": \"Incirlik\",\n",
    "    \"ULH\": \"Al Ula\",\n",
    "    \"TBS\": \"Tbilisi\",\n",
    "    \"STN\": \"London (Stansted)\",\n",
    "    \"XJD\": \"Al Udeid\",\n",
    "    \"TEB\": \"Teterboro\",\n",
    "    \"SPX\": \"Spangdahlem\",\n",
    "    \"VAR\": \"Varna\",\n",
    "    \"LIN\": \"Milan (Linate)\",\n",
    "    \"TMP\": \"Tampere\",\n",
    "    \"VCE\": \"Venice\",\n",
    "    \"LTN\": \"London (Luton)\",\n",
    "    \"SKG\": \"Thessaloniki\",\n",
    "    \"TRN\": \"Turin\",\n",
    "    \"TUN\": \"Tunis\",\n",
    "    \"THR\": \"Tehran\",\n",
    "    \"OSR\": \"Ostrava\",\n",
    "    \"SOF\": \"Sofia\",\n",
    "    \"TRS\": \"Trieste\",\n",
    "    \"LIS\": \"Lisbon\",\n",
    "    \"JMK\": \"Mykonos\",\n",
    "    \"RHO\": \"Rhodes\",\n",
    "    \"KYE\": \"Kiryat Shmona\",\n",
    "    \"RKE\": \"Roskilde\",\n",
    "    \"RIX\": \"Riga\",\n",
    "    \"TIV\": \"Tivat\",\n",
    "    \"NAP\": \"Naples\",\n",
    "    \"OLB\": \"Olbia\",\n",
    "    \"MUH\": \"Marsa Matruh\",\n",
    "    \"VIE\": \"Vienna\",\n",
    "    \"SZX\": \"Shenzhen\",\n",
    "}"
   ]
  },
  {
   "cell_type": "code",
   "execution_count": 20,
   "metadata": {
    "tags": [
     "remove-cell"
    ]
   },
   "outputs": [],
   "source": [
    "departures_exploded[\"airportcity\"] = departures_exploded[\"iata_arr\"].map(iata_mapping)\n",
    "most_changed_departures = (\n",
    "    pd.DataFrame(\n",
    "        departures_exploded[\n",
    "            departures_exploded[\"flight_status\"].isin(\n",
    "                [\"scheduled\", \"cancelled\", \"diverted\"]\n",
    "            )\n",
    "        ][\"airportcity\"]\n",
    "        .value_counts()\n",
    "        .head(10)\n",
    "    )\n",
    "    .reset_index()\n",
    "    .sort_values(by=\"count\", ascending=True)\n",
    ")\n",
    "most_cancelled_departures = (\n",
    "    pd.DataFrame(\n",
    "        departures_exploded[departures_exploded[\"flight_status\"].isin([\"cancelled\"])][\n",
    "            \"airportcity\"\n",
    "        ]\n",
    "        .value_counts()\n",
    "        .head(10)\n",
    "    )\n",
    "    .reset_index()\n",
    "    .sort_values(by=\"count\", ascending=True)\n",
    ")\n",
    "most_scheduled_departures = (\n",
    "    pd.DataFrame(\n",
    "        departures_exploded[departures_exploded[\"flight_status\"].isin([\"scheduled\"])][\n",
    "            \"airportcity\"\n",
    "        ]\n",
    "        .value_counts()\n",
    "        .head(10)\n",
    "    )\n",
    "    .reset_index()\n",
    "    .sort_values(by=\"count\", ascending=True)\n",
    ")\n",
    "most_diverted_departures = (\n",
    "    pd.DataFrame(\n",
    "        departures_exploded[departures_exploded[\"flight_status\"].isin([\"diverted\"])][\n",
    "            \"airportcity\"\n",
    "        ]\n",
    "        .value_counts()\n",
    "        .head(10)\n",
    "    )\n",
    "    .reset_index()\n",
    "    .sort_values(by=\"count\", ascending=True)\n",
    ")"
   ]
  },
  {
   "cell_type": "code",
   "execution_count": 21,
   "metadata": {
    "tags": [
     "remove-input"
    ]
   },
   "outputs": [
    {
     "data": {
      "text/html": [
       "    <style>\n",
       "        .bk-notebook-logo {\n",
       "            display: block;\n",
       "            width: 20px;\n",
       "            height: 20px;\n",
       "            background-image: url(data:image/png;base64,iVBORw0KGgoAAAANSUhEUgAAABQAAAAUCAYAAACNiR0NAAAABHNCSVQICAgIfAhkiAAAAAlwSFlzAAALEgAACxIB0t1+/AAAABx0RVh0U29mdHdhcmUAQWRvYmUgRmlyZXdvcmtzIENTNui8sowAAAOkSURBVDiNjZRtaJVlGMd/1/08zzln5zjP1LWcU9N0NkN8m2CYjpgQYQXqSs0I84OLIC0hkEKoPtiH3gmKoiJDU7QpLgoLjLIQCpEsNJ1vqUOdO7ppbuec5+V+rj4ctwzd8IIbbi6u+8f1539dt3A78eXC7QizUF7gyV1fD1Yqg4JWz84yffhm0qkFqBogB9rM8tZdtwVsPUhWhGcFJngGeWrPzHm5oaMmkfEg1usvLFyc8jLRqDOMru7AyC8saQr7GG7f5fvDeH7Ej8CM66nIF+8yngt6HWaKh7k49Soy9nXurCi1o3qUbS3zWfrYeQDTB/Qj6kX6Ybhw4B+bOYoLKCC9H3Nu/leUTZ1JdRWkkn2ldcCamzrcf47KKXdAJllSlxAOkRgyHsGC/zRday5Qld9DyoM4/q/rUoy/CXh3jzOu3bHUVZeU+DEn8FInkPBFlu3+nW3Nw0mk6vCDiWg8CeJaxEwuHS3+z5RgY+YBR6V1Z1nxSOfoaPa4LASWxxdNp+VWTk7+4vzaou8v8PN+xo+KY2xsw6une2frhw05CTYOmQvsEhjhWjn0bmXPjpE1+kplmmkP3suftwTubK9Vq22qKmrBhpY4jvd5afdRA3wGjFAgcnTK2s4hY0/GPNIb0nErGMCRxWOOX64Z8RAC4oCXdklmEvcL8o0BfkNK4lUg9HTl+oPlQxdNo3Mg4Nv175e/1LDGzZen30MEjRUtmXSfiTVu1kK8W4txyV6BMKlbgk3lMwYCiusNy9fVfvvwMxv8Ynl6vxoByANLTWplvuj/nF9m2+PDtt1eiHPBr1oIfhCChQMBw6Aw0UulqTKZdfVvfG7VcfIqLG9bcldL/+pdWTLxLUy8Qq38heUIjh4XlzZxzQm19lLFlr8vdQ97rjZVOLf8nclzckbcD4wxXMidpX30sFd37Fv/GtwwhzhxGVAprjbg0gCAEeIgwCZyTV2Z1REEW8O4py0wsjeloKoMr6iCY6dP92H6Vw/oTyICIthibxjm/DfN9lVz8IqtqKYLUXfoKVMVQVVJOElGjrnnUt9T9wbgp8AyYKaGlqingHZU/uG2NTZSVqwHQTWkx9hxjkpWDaCg6Ckj5qebgBVbT3V3NNXMSiWSDdGV3hrtzla7J+duwPOToIg42ChPQOQjspnSlp1V+Gjdged7+8UN5CRAV7a5EdFNwCjEaBR27b3W890TE7g24NAP/mMDXRWrGoFPQI9ls/MWO2dWFAar/xcOIImbbpA3zgAAAABJRU5ErkJggg==);\n",
       "        }\n",
       "    </style>\n",
       "    <div>\n",
       "        <a href=\"https://bokeh.org\" target=\"_blank\" class=\"bk-notebook-logo\"></a>\n",
       "        <span id=\"d81fec78-a321-4f10-bc48-3e997cd7ce89\">Loading BokehJS ...</span>\n",
       "    </div>\n"
      ]
     },
     "metadata": {},
     "output_type": "display_data"
    },
    {
     "data": {
      "application/javascript": "'use strict';\n(function(root) {\n  function now() {\n    return new Date();\n  }\n\n  const force = true;\n\n  if (typeof root._bokeh_onload_callbacks === \"undefined\" || force === true) {\n    root._bokeh_onload_callbacks = [];\n    root._bokeh_is_loading = undefined;\n  }\n\nconst JS_MIME_TYPE = 'application/javascript';\n  const HTML_MIME_TYPE = 'text/html';\n  const EXEC_MIME_TYPE = 'application/vnd.bokehjs_exec.v0+json';\n  const CLASS_NAME = 'output_bokeh rendered_html';\n\n  /**\n   * Render data to the DOM node\n   */\n  function render(props, node) {\n    const script = document.createElement(\"script\");\n    node.appendChild(script);\n  }\n\n  /**\n   * Handle when an output is cleared or removed\n   */\n  function handleClearOutput(event, handle) {\n    function drop(id) {\n      const view = Bokeh.index.get_by_id(id)\n      if (view != null) {\n        view.model.document.clear()\n        Bokeh.index.delete(view)\n      }\n    }\n\n    const cell = handle.cell;\n\n    const id = cell.output_area._bokeh_element_id;\n    const server_id = cell.output_area._bokeh_server_id;\n\n    // Clean up Bokeh references\n    if (id != null) {\n      drop(id)\n    }\n\n    if (server_id !== undefined) {\n      // Clean up Bokeh references\n      const cmd_clean = \"from bokeh.io.state import curstate; print(curstate().uuid_to_server['\" + server_id + \"'].get_sessions()[0].document.roots[0]._id)\";\n      cell.notebook.kernel.execute(cmd_clean, {\n        iopub: {\n          output: function(msg) {\n            const id = msg.content.text.trim()\n            drop(id)\n          }\n        }\n      });\n      // Destroy server and session\n      const cmd_destroy = \"import bokeh.io.notebook as ion; ion.destroy_server('\" + server_id + \"')\";\n      cell.notebook.kernel.execute(cmd_destroy);\n    }\n  }\n\n  /**\n   * Handle when a new output is added\n   */\n  function handleAddOutput(event, handle) {\n    const output_area = handle.output_area;\n    const output = handle.output;\n\n    // limit handleAddOutput to display_data with EXEC_MIME_TYPE content only\n    if ((output.output_type != \"display_data\") || (!Object.prototype.hasOwnProperty.call(output.data, EXEC_MIME_TYPE))) {\n      return\n    }\n\n    const toinsert = output_area.element.find(\".\" + CLASS_NAME.split(' ')[0]);\n\n    if (output.metadata[EXEC_MIME_TYPE][\"id\"] !== undefined) {\n      toinsert[toinsert.length - 1].firstChild.textContent = output.data[JS_MIME_TYPE];\n      // store reference to embed id on output_area\n      output_area._bokeh_element_id = output.metadata[EXEC_MIME_TYPE][\"id\"];\n    }\n    if (output.metadata[EXEC_MIME_TYPE][\"server_id\"] !== undefined) {\n      const bk_div = document.createElement(\"div\");\n      bk_div.innerHTML = output.data[HTML_MIME_TYPE];\n      const script_attrs = bk_div.children[0].attributes;\n      for (let i = 0; i < script_attrs.length; i++) {\n        toinsert[toinsert.length - 1].firstChild.setAttribute(script_attrs[i].name, script_attrs[i].value);\n        toinsert[toinsert.length - 1].firstChild.textContent = bk_div.children[0].textContent\n      }\n      // store reference to server id on output_area\n      output_area._bokeh_server_id = output.metadata[EXEC_MIME_TYPE][\"server_id\"];\n    }\n  }\n\n  function register_renderer(events, OutputArea) {\n\n    function append_mime(data, metadata, element) {\n      // create a DOM node to render to\n      const toinsert = this.create_output_subarea(\n        metadata,\n        CLASS_NAME,\n        EXEC_MIME_TYPE\n      );\n      this.keyboard_manager.register_events(toinsert);\n      // Render to node\n      const props = {data: data, metadata: metadata[EXEC_MIME_TYPE]};\n      render(props, toinsert[toinsert.length - 1]);\n      element.append(toinsert);\n      return toinsert\n    }\n\n    /* Handle when an output is cleared or removed */\n    events.on('clear_output.CodeCell', handleClearOutput);\n    events.on('delete.Cell', handleClearOutput);\n\n    /* Handle when a new output is added */\n    events.on('output_added.OutputArea', handleAddOutput);\n\n    /**\n     * Register the mime type and append_mime function with output_area\n     */\n    OutputArea.prototype.register_mime_type(EXEC_MIME_TYPE, append_mime, {\n      /* Is output safe? */\n      safe: true,\n      /* Index of renderer in `output_area.display_order` */\n      index: 0\n    });\n  }\n\n  // register the mime type if in Jupyter Notebook environment and previously unregistered\n  if (root.Jupyter !== undefined) {\n    const events = require('base/js/events');\n    const OutputArea = require('notebook/js/outputarea').OutputArea;\n\n    if (OutputArea.prototype.mime_types().indexOf(EXEC_MIME_TYPE) == -1) {\n      register_renderer(events, OutputArea);\n    }\n  }\n  if (typeof (root._bokeh_timeout) === \"undefined\" || force === true) {\n    root._bokeh_timeout = Date.now() + 5000;\n    root._bokeh_failed_load = false;\n  }\n\n  const NB_LOAD_WARNING = {'data': {'text/html':\n     \"<div style='background-color: #fdd'>\\n\"+\n     \"<p>\\n\"+\n     \"BokehJS does not appear to have successfully loaded. If loading BokehJS from CDN, this \\n\"+\n     \"may be due to a slow or bad network connection. Possible fixes:\\n\"+\n     \"</p>\\n\"+\n     \"<ul>\\n\"+\n     \"<li>re-rerun `output_notebook()` to attempt to load from CDN again, or</li>\\n\"+\n     \"<li>use INLINE resources instead, as so:</li>\\n\"+\n     \"</ul>\\n\"+\n     \"<code>\\n\"+\n     \"from bokeh.resources import INLINE\\n\"+\n     \"output_notebook(resources=INLINE)\\n\"+\n     \"</code>\\n\"+\n     \"</div>\"}};\n\n  function display_loaded(error = null) {\n    const el = document.getElementById(\"d81fec78-a321-4f10-bc48-3e997cd7ce89\");\n    if (el != null) {\n      const html = (() => {\n        if (typeof root.Bokeh === \"undefined\") {\n          if (error == null) {\n            return \"BokehJS is loading ...\";\n          } else {\n            return \"BokehJS failed to load.\";\n          }\n        } else {\n          const prefix = `BokehJS ${root.Bokeh.version}`;\n          if (error == null) {\n            return `${prefix} successfully loaded.`;\n          } else {\n            return `${prefix} <b>encountered errors</b> while loading and may not function as expected.`;\n          }\n        }\n      })();\n      el.innerHTML = html;\n\n      if (error != null) {\n        const wrapper = document.createElement(\"div\");\n        wrapper.style.overflow = \"auto\";\n        wrapper.style.height = \"5em\";\n        wrapper.style.resize = \"vertical\";\n        const content = document.createElement(\"div\");\n        content.style.fontFamily = \"monospace\";\n        content.style.whiteSpace = \"pre-wrap\";\n        content.style.backgroundColor = \"rgb(255, 221, 221)\";\n        content.textContent = error.stack ?? error.toString();\n        wrapper.append(content);\n        el.append(wrapper);\n      }\n    } else if (Date.now() < root._bokeh_timeout) {\n      setTimeout(() => display_loaded(error), 100);\n    }\n  }\n\n  function run_callbacks() {\n    try {\n      root._bokeh_onload_callbacks.forEach(function(callback) {\n        if (callback != null)\n          callback();\n      });\n    } finally {\n      delete root._bokeh_onload_callbacks\n    }\n    console.debug(\"Bokeh: all callbacks have finished\");\n  }\n\n  function load_libs(css_urls, js_urls, callback) {\n    if (css_urls == null) css_urls = [];\n    if (js_urls == null) js_urls = [];\n\n    root._bokeh_onload_callbacks.push(callback);\n    if (root._bokeh_is_loading > 0) {\n      console.debug(\"Bokeh: BokehJS is being loaded, scheduling callback at\", now());\n      return null;\n    }\n    if (js_urls == null || js_urls.length === 0) {\n      run_callbacks();\n      return null;\n    }\n    console.debug(\"Bokeh: BokehJS not loaded, scheduling load and callback at\", now());\n    root._bokeh_is_loading = css_urls.length + js_urls.length;\n\n    function on_load() {\n      root._bokeh_is_loading--;\n      if (root._bokeh_is_loading === 0) {\n        console.debug(\"Bokeh: all BokehJS libraries/stylesheets loaded\");\n        run_callbacks()\n      }\n    }\n\n    function on_error(url) {\n      console.error(\"failed to load \" + url);\n    }\n\n    for (let i = 0; i < css_urls.length; i++) {\n      const url = css_urls[i];\n      const element = document.createElement(\"link\");\n      element.onload = on_load;\n      element.onerror = on_error.bind(null, url);\n      element.rel = \"stylesheet\";\n      element.type = \"text/css\";\n      element.href = url;\n      console.debug(\"Bokeh: injecting link tag for BokehJS stylesheet: \", url);\n      document.body.appendChild(element);\n    }\n\n    for (let i = 0; i < js_urls.length; i++) {\n      const url = js_urls[i];\n      const element = document.createElement('script');\n      element.onload = on_load;\n      element.onerror = on_error.bind(null, url);\n      element.async = false;\n      element.src = url;\n      console.debug(\"Bokeh: injecting script tag for BokehJS library: \", url);\n      document.head.appendChild(element);\n    }\n  };\n\n  function inject_raw_css(css) {\n    const element = document.createElement(\"style\");\n    element.appendChild(document.createTextNode(css));\n    document.body.appendChild(element);\n  }\n\n  const js_urls = [\"https://cdn.bokeh.org/bokeh/release/bokeh-3.4.1.min.js\", \"https://cdn.bokeh.org/bokeh/release/bokeh-gl-3.4.1.min.js\", \"https://cdn.bokeh.org/bokeh/release/bokeh-widgets-3.4.1.min.js\", \"https://cdn.bokeh.org/bokeh/release/bokeh-tables-3.4.1.min.js\", \"https://cdn.bokeh.org/bokeh/release/bokeh-mathjax-3.4.1.min.js\"];\n  const css_urls = [];\n\n  const inline_js = [    function(Bokeh) {\n      Bokeh.set_log_level(\"info\");\n    },\nfunction(Bokeh) {\n    }\n  ];\n\n  function run_inline_js() {\n    if (root.Bokeh !== undefined || force === true) {\n      try {\n            for (let i = 0; i < inline_js.length; i++) {\n      inline_js[i].call(root, root.Bokeh);\n    }\n\n      } catch (error) {display_loaded(error);throw error;\n      }if (force === true) {\n        display_loaded();\n      }} else if (Date.now() < root._bokeh_timeout) {\n      setTimeout(run_inline_js, 100);\n    } else if (!root._bokeh_failed_load) {\n      console.log(\"Bokeh: BokehJS failed to load within specified timeout.\");\n      root._bokeh_failed_load = true;\n    } else if (force !== true) {\n      const cell = $(document.getElementById(\"d81fec78-a321-4f10-bc48-3e997cd7ce89\")).parents('.cell').data().cell;\n      cell.output_area.append_execute_result(NB_LOAD_WARNING)\n    }\n  }\n\n  if (root._bokeh_is_loading === 0) {\n    console.debug(\"Bokeh: BokehJS loaded, going straight to plotting\");\n    run_inline_js();\n  } else {\n    load_libs(css_urls, js_urls, function() {\n      console.debug(\"Bokeh: BokehJS plotting callback run at\", now());\n      run_inline_js();\n    });\n  }\n}(window));",
      "application/vnd.bokehjs_load.v0+json": ""
     },
     "metadata": {},
     "output_type": "display_data"
    },
    {
     "data": {
      "text/html": [
       "\n",
       "  <div id=\"aad178ac-8347-457c-8d88-5ad4cfa6cb55\" data-root-id=\"p1493\" style=\"display: contents;\"></div>\n"
      ]
     },
     "metadata": {},
     "output_type": "display_data"
    },
    {
     "data": {
      "application/javascript": "(function(root) {\n  function embed_document(root) {\n  const docs_json = {\"ac7354cb-ebd3-4ab7-b9a4-ecba36a55a5b\":{\"version\":\"3.4.1\",\"title\":\"Bokeh Application\",\"roots\":[{\"type\":\"object\",\"name\":\"Column\",\"id\":\"p1493\",\"attributes\":{\"children\":[{\"type\":\"object\",\"name\":\"Div\",\"id\":\"p1492\",\"attributes\":{\"width\":800,\"text\":\"<h2>Top 10 Destinations with Changes in Departures from BEY in 2024</h2>\"}},{\"type\":\"object\",\"name\":\"Tabs\",\"id\":\"p1491\",\"attributes\":{\"tabs\":[{\"type\":\"object\",\"name\":\"TabPanel\",\"id\":\"p1346\",\"attributes\":{\"title\":\"Most Changed Departures\",\"child\":{\"type\":\"object\",\"name\":\"Column\",\"id\":\"p1345\",\"attributes\":{\"children\":[{\"type\":\"object\",\"name\":\"Figure\",\"id\":\"p1302\",\"attributes\":{\"height\":400,\"x_range\":{\"type\":\"object\",\"name\":\"DataRange1d\",\"id\":\"p1304\"},\"y_range\":{\"type\":\"object\",\"name\":\"FactorRange\",\"id\":\"p1312\",\"attributes\":{\"factors\":[\"Kuwait City\",\"Erbil\",\"Baghdad\",\"Dubai\",\"Sharm El Sheikh\",\"Istanbul\",\"Najaf\",\"Cairo\",\"Larnaca\",\"Amman\"]}},\"x_scale\":{\"type\":\"object\",\"name\":\"LinearScale\",\"id\":\"p1313\"},\"y_scale\":{\"type\":\"object\",\"name\":\"CategoricalScale\",\"id\":\"p1314\"},\"title\":{\"type\":\"object\",\"name\":\"Title\",\"id\":\"p1305\",\"attributes\":{\"text\":\"Most Changed Departures in 2024\"}},\"outline_line_color\":null,\"renderers\":[{\"type\":\"object\",\"name\":\"GlyphRenderer\",\"id\":\"p1332\",\"attributes\":{\"data_source\":{\"type\":\"object\",\"name\":\"ColumnDataSource\",\"id\":\"p1299\",\"attributes\":{\"selected\":{\"type\":\"object\",\"name\":\"Selection\",\"id\":\"p1300\",\"attributes\":{\"indices\":[],\"line_indices\":[]}},\"selection_policy\":{\"type\":\"object\",\"name\":\"UnionRenderers\",\"id\":\"p1301\"},\"data\":{\"type\":\"map\",\"entries\":[[\"index\",{\"type\":\"ndarray\",\"array\":{\"type\":\"bytes\",\"data\":\"CQAAAAgAAAAHAAAABgAAAAQAAAAFAAAAAwAAAAIAAAABAAAAAAAAAA==\"},\"shape\":[10],\"dtype\":\"int32\",\"order\":\"little\"}],[\"airportcity\",{\"type\":\"ndarray\",\"array\":[\"Kuwait City\",\"Erbil\",\"Baghdad\",\"Dubai\",\"Sharm El Sheikh\",\"Istanbul\",\"Najaf\",\"Cairo\",\"Larnaca\",\"Amman\"],\"shape\":[10],\"dtype\":\"object\",\"order\":\"little\"}],[\"count\",{\"type\":\"ndarray\",\"array\":{\"type\":\"bytes\",\"data\":\"UgAAAFoAAABmAAAAagAAAHAAAABwAAAAdwAAAMgAAAA+AQAARQEAAA==\"},\"shape\":[10],\"dtype\":\"int32\",\"order\":\"little\"}]]}}},\"view\":{\"type\":\"object\",\"name\":\"CDSView\",\"id\":\"p1333\",\"attributes\":{\"filter\":{\"type\":\"object\",\"name\":\"AllIndices\",\"id\":\"p1334\"}}},\"glyph\":{\"type\":\"object\",\"name\":\"HBar\",\"id\":\"p1329\",\"attributes\":{\"y\":{\"type\":\"field\",\"field\":\"airportcity\"},\"height\":{\"type\":\"value\",\"value\":0.5},\"right\":{\"type\":\"field\",\"field\":\"count\"},\"line_color\":{\"type\":\"value\",\"value\":\"lightblue\"},\"line_alpha\":{\"type\":\"value\",\"value\":0.7},\"fill_color\":{\"type\":\"value\",\"value\":\"lightblue\"},\"fill_alpha\":{\"type\":\"value\",\"value\":0.7},\"hatch_color\":{\"type\":\"value\",\"value\":\"lightblue\"},\"hatch_alpha\":{\"type\":\"value\",\"value\":0.7}}},\"nonselection_glyph\":{\"type\":\"object\",\"name\":\"HBar\",\"id\":\"p1330\",\"attributes\":{\"y\":{\"type\":\"field\",\"field\":\"airportcity\"},\"height\":{\"type\":\"value\",\"value\":0.5},\"right\":{\"type\":\"field\",\"field\":\"count\"},\"line_color\":{\"type\":\"value\",\"value\":\"lightblue\"},\"line_alpha\":{\"type\":\"value\",\"value\":0.1},\"fill_color\":{\"type\":\"value\",\"value\":\"lightblue\"},\"fill_alpha\":{\"type\":\"value\",\"value\":0.1},\"hatch_color\":{\"type\":\"value\",\"value\":\"lightblue\"},\"hatch_alpha\":{\"type\":\"value\",\"value\":0.1}}},\"muted_glyph\":{\"type\":\"object\",\"name\":\"HBar\",\"id\":\"p1331\",\"attributes\":{\"y\":{\"type\":\"field\",\"field\":\"airportcity\"},\"height\":{\"type\":\"value\",\"value\":0.5},\"right\":{\"type\":\"field\",\"field\":\"count\"},\"line_color\":{\"type\":\"value\",\"value\":\"lightblue\"},\"line_alpha\":{\"type\":\"value\",\"value\":0.2},\"fill_color\":{\"type\":\"value\",\"value\":\"lightblue\"},\"fill_alpha\":{\"type\":\"value\",\"value\":0.2},\"hatch_color\":{\"type\":\"value\",\"value\":\"lightblue\"},\"hatch_alpha\":{\"type\":\"value\",\"value\":0.2}}}}},{\"type\":\"object\",\"name\":\"GlyphRenderer\",\"id\":\"p1341\",\"attributes\":{\"data_source\":{\"id\":\"p1299\"},\"view\":{\"type\":\"object\",\"name\":\"CDSView\",\"id\":\"p1342\",\"attributes\":{\"filter\":{\"type\":\"object\",\"name\":\"AllIndices\",\"id\":\"p1343\"}}},\"glyph\":{\"type\":\"object\",\"name\":\"Text\",\"id\":\"p1338\",\"attributes\":{\"x\":{\"type\":\"field\",\"field\":\"count\"},\"y\":{\"type\":\"field\",\"field\":\"airportcity\"},\"text\":{\"type\":\"field\",\"field\":\"count\"},\"x_offset\":{\"type\":\"value\",\"value\":-5},\"y_offset\":{\"type\":\"value\",\"value\":-3},\"text_color\":{\"type\":\"value\",\"value\":\"black\"},\"text_font_size\":{\"type\":\"value\",\"value\":\"10pt\"},\"text_align\":{\"type\":\"value\",\"value\":\"right\"},\"text_baseline\":{\"type\":\"value\",\"value\":\"middle\"}}},\"nonselection_glyph\":{\"type\":\"object\",\"name\":\"Text\",\"id\":\"p1339\",\"attributes\":{\"x\":{\"type\":\"field\",\"field\":\"count\"},\"y\":{\"type\":\"field\",\"field\":\"airportcity\"},\"text\":{\"type\":\"field\",\"field\":\"count\"},\"x_offset\":{\"type\":\"value\",\"value\":-5},\"y_offset\":{\"type\":\"value\",\"value\":-3},\"text_color\":{\"type\":\"value\",\"value\":\"black\"},\"text_alpha\":{\"type\":\"value\",\"value\":0.1},\"text_font_size\":{\"type\":\"value\",\"value\":\"10pt\"},\"text_align\":{\"type\":\"value\",\"value\":\"right\"},\"text_baseline\":{\"type\":\"value\",\"value\":\"middle\"}}},\"muted_glyph\":{\"type\":\"object\",\"name\":\"Text\",\"id\":\"p1340\",\"attributes\":{\"x\":{\"type\":\"field\",\"field\":\"count\"},\"y\":{\"type\":\"field\",\"field\":\"airportcity\"},\"text\":{\"type\":\"field\",\"field\":\"count\"},\"x_offset\":{\"type\":\"value\",\"value\":-5},\"y_offset\":{\"type\":\"value\",\"value\":-3},\"text_color\":{\"type\":\"value\",\"value\":\"black\"},\"text_alpha\":{\"type\":\"value\",\"value\":0.2},\"text_font_size\":{\"type\":\"value\",\"value\":\"10pt\"},\"text_align\":{\"type\":\"value\",\"value\":\"right\"},\"text_baseline\":{\"type\":\"value\",\"value\":\"middle\"}}}}}],\"toolbar\":{\"type\":\"object\",\"name\":\"Toolbar\",\"id\":\"p1311\",\"attributes\":{\"tools\":[{\"type\":\"object\",\"name\":\"SaveTool\",\"id\":\"p1325\"}]}},\"toolbar_location\":\"above\",\"left\":[{\"type\":\"object\",\"name\":\"CategoricalAxis\",\"id\":\"p1320\",\"attributes\":{\"ticker\":{\"type\":\"object\",\"name\":\"CategoricalTicker\",\"id\":\"p1321\"},\"formatter\":{\"type\":\"object\",\"name\":\"CategoricalTickFormatter\",\"id\":\"p1322\"},\"major_label_policy\":{\"type\":\"object\",\"name\":\"AllLabels\",\"id\":\"p1323\"},\"axis_line_color\":null,\"major_tick_line_color\":null,\"minor_tick_line_color\":null}}],\"below\":[{\"type\":\"object\",\"name\":\"LinearAxis\",\"id\":\"p1315\",\"attributes\":{\"visible\":false,\"ticker\":{\"type\":\"object\",\"name\":\"BasicTicker\",\"id\":\"p1316\",\"attributes\":{\"mantissas\":[1,2,5]}},\"formatter\":{\"type\":\"object\",\"name\":\"BasicTickFormatter\",\"id\":\"p1317\"},\"major_label_policy\":{\"type\":\"object\",\"name\":\"AllLabels\",\"id\":\"p1318\"}}}],\"center\":[{\"type\":\"object\",\"name\":\"Grid\",\"id\":\"p1319\",\"attributes\":{\"visible\":false,\"axis\":{\"id\":\"p1315\"}}},{\"type\":\"object\",\"name\":\"Grid\",\"id\":\"p1324\",\"attributes\":{\"visible\":false,\"dimension\":1,\"axis\":{\"id\":\"p1320\"}}}]}},{\"type\":\"object\",\"name\":\"Div\",\"id\":\"p1344\",\"attributes\":{\"width\":600,\"text\":\"<p style='font-size:12px; color:gray;'>Source: AviationStack. Acessed October 7th 2024.</p>\"}}]}}}},{\"type\":\"object\",\"name\":\"TabPanel\",\"id\":\"p1394\",\"attributes\":{\"title\":\"Most Cancelled Departures\",\"child\":{\"type\":\"object\",\"name\":\"Column\",\"id\":\"p1393\",\"attributes\":{\"children\":[{\"type\":\"object\",\"name\":\"Figure\",\"id\":\"p1350\",\"attributes\":{\"height\":400,\"x_range\":{\"type\":\"object\",\"name\":\"DataRange1d\",\"id\":\"p1352\"},\"y_range\":{\"type\":\"object\",\"name\":\"FactorRange\",\"id\":\"p1360\",\"attributes\":{\"factors\":[\"Athens\",\"Bucharest\",\"Zurich\",\"Antalya\",\"Paris (Charles de Gaulle)\",\"Amman\",\"Dubai\",\"Istanbul\",\"Istanbul (Sabiha G\\u00f6k\\u00e7en)\",\"Frankfurt\"]}},\"x_scale\":{\"type\":\"object\",\"name\":\"LinearScale\",\"id\":\"p1361\"},\"y_scale\":{\"type\":\"object\",\"name\":\"CategoricalScale\",\"id\":\"p1362\"},\"title\":{\"type\":\"object\",\"name\":\"Title\",\"id\":\"p1353\",\"attributes\":{\"text\":\"Most Cancelled Departures in 2024\"}},\"outline_line_color\":null,\"renderers\":[{\"type\":\"object\",\"name\":\"GlyphRenderer\",\"id\":\"p1380\",\"attributes\":{\"data_source\":{\"type\":\"object\",\"name\":\"ColumnDataSource\",\"id\":\"p1347\",\"attributes\":{\"selected\":{\"type\":\"object\",\"name\":\"Selection\",\"id\":\"p1348\",\"attributes\":{\"indices\":[],\"line_indices\":[]}},\"selection_policy\":{\"type\":\"object\",\"name\":\"UnionRenderers\",\"id\":\"p1349\"},\"data\":{\"type\":\"map\",\"entries\":[[\"index\",{\"type\":\"ndarray\",\"array\":{\"type\":\"bytes\",\"data\":\"CQAAAAcAAAAIAAAABgAAAAUAAAADAAAABAAAAAIAAAABAAAAAAAAAA==\"},\"shape\":[10],\"dtype\":\"int32\",\"order\":\"little\"}],[\"airportcity\",{\"type\":\"ndarray\",\"array\":[\"Athens\",\"Bucharest\",\"Zurich\",\"Antalya\",\"Paris (Charles de Gaulle)\",\"Amman\",\"Dubai\",\"Istanbul\",\"Istanbul (Sabiha G\\u00f6k\\u00e7en)\",\"Frankfurt\"],\"shape\":[10],\"dtype\":\"object\",\"order\":\"little\"}],[\"count\",{\"type\":\"ndarray\",\"array\":{\"type\":\"bytes\",\"data\":\"EAAAABEAAAARAAAAEgAAABUAAAAXAAAAFwAAAB4AAAAfAAAAMgAAAA==\"},\"shape\":[10],\"dtype\":\"int32\",\"order\":\"little\"}]]}}},\"view\":{\"type\":\"object\",\"name\":\"CDSView\",\"id\":\"p1381\",\"attributes\":{\"filter\":{\"type\":\"object\",\"name\":\"AllIndices\",\"id\":\"p1382\"}}},\"glyph\":{\"type\":\"object\",\"name\":\"HBar\",\"id\":\"p1377\",\"attributes\":{\"y\":{\"type\":\"field\",\"field\":\"airportcity\"},\"height\":{\"type\":\"value\",\"value\":0.5},\"right\":{\"type\":\"field\",\"field\":\"count\"},\"line_color\":{\"type\":\"value\",\"value\":\"orange\"},\"line_alpha\":{\"type\":\"value\",\"value\":0.7},\"fill_color\":{\"type\":\"value\",\"value\":\"orange\"},\"fill_alpha\":{\"type\":\"value\",\"value\":0.7},\"hatch_color\":{\"type\":\"value\",\"value\":\"orange\"},\"hatch_alpha\":{\"type\":\"value\",\"value\":0.7}}},\"nonselection_glyph\":{\"type\":\"object\",\"name\":\"HBar\",\"id\":\"p1378\",\"attributes\":{\"y\":{\"type\":\"field\",\"field\":\"airportcity\"},\"height\":{\"type\":\"value\",\"value\":0.5},\"right\":{\"type\":\"field\",\"field\":\"count\"},\"line_color\":{\"type\":\"value\",\"value\":\"orange\"},\"line_alpha\":{\"type\":\"value\",\"value\":0.1},\"fill_color\":{\"type\":\"value\",\"value\":\"orange\"},\"fill_alpha\":{\"type\":\"value\",\"value\":0.1},\"hatch_color\":{\"type\":\"value\",\"value\":\"orange\"},\"hatch_alpha\":{\"type\":\"value\",\"value\":0.1}}},\"muted_glyph\":{\"type\":\"object\",\"name\":\"HBar\",\"id\":\"p1379\",\"attributes\":{\"y\":{\"type\":\"field\",\"field\":\"airportcity\"},\"height\":{\"type\":\"value\",\"value\":0.5},\"right\":{\"type\":\"field\",\"field\":\"count\"},\"line_color\":{\"type\":\"value\",\"value\":\"orange\"},\"line_alpha\":{\"type\":\"value\",\"value\":0.2},\"fill_color\":{\"type\":\"value\",\"value\":\"orange\"},\"fill_alpha\":{\"type\":\"value\",\"value\":0.2},\"hatch_color\":{\"type\":\"value\",\"value\":\"orange\"},\"hatch_alpha\":{\"type\":\"value\",\"value\":0.2}}}}},{\"type\":\"object\",\"name\":\"GlyphRenderer\",\"id\":\"p1389\",\"attributes\":{\"data_source\":{\"id\":\"p1347\"},\"view\":{\"type\":\"object\",\"name\":\"CDSView\",\"id\":\"p1390\",\"attributes\":{\"filter\":{\"type\":\"object\",\"name\":\"AllIndices\",\"id\":\"p1391\"}}},\"glyph\":{\"type\":\"object\",\"name\":\"Text\",\"id\":\"p1386\",\"attributes\":{\"x\":{\"type\":\"field\",\"field\":\"count\"},\"y\":{\"type\":\"field\",\"field\":\"airportcity\"},\"text\":{\"type\":\"field\",\"field\":\"count\"},\"x_offset\":{\"type\":\"value\",\"value\":-5},\"y_offset\":{\"type\":\"value\",\"value\":-3},\"text_color\":{\"type\":\"value\",\"value\":\"black\"},\"text_font_size\":{\"type\":\"value\",\"value\":\"10pt\"},\"text_align\":{\"type\":\"value\",\"value\":\"right\"},\"text_baseline\":{\"type\":\"value\",\"value\":\"middle\"}}},\"nonselection_glyph\":{\"type\":\"object\",\"name\":\"Text\",\"id\":\"p1387\",\"attributes\":{\"x\":{\"type\":\"field\",\"field\":\"count\"},\"y\":{\"type\":\"field\",\"field\":\"airportcity\"},\"text\":{\"type\":\"field\",\"field\":\"count\"},\"x_offset\":{\"type\":\"value\",\"value\":-5},\"y_offset\":{\"type\":\"value\",\"value\":-3},\"text_color\":{\"type\":\"value\",\"value\":\"black\"},\"text_alpha\":{\"type\":\"value\",\"value\":0.1},\"text_font_size\":{\"type\":\"value\",\"value\":\"10pt\"},\"text_align\":{\"type\":\"value\",\"value\":\"right\"},\"text_baseline\":{\"type\":\"value\",\"value\":\"middle\"}}},\"muted_glyph\":{\"type\":\"object\",\"name\":\"Text\",\"id\":\"p1388\",\"attributes\":{\"x\":{\"type\":\"field\",\"field\":\"count\"},\"y\":{\"type\":\"field\",\"field\":\"airportcity\"},\"text\":{\"type\":\"field\",\"field\":\"count\"},\"x_offset\":{\"type\":\"value\",\"value\":-5},\"y_offset\":{\"type\":\"value\",\"value\":-3},\"text_color\":{\"type\":\"value\",\"value\":\"black\"},\"text_alpha\":{\"type\":\"value\",\"value\":0.2},\"text_font_size\":{\"type\":\"value\",\"value\":\"10pt\"},\"text_align\":{\"type\":\"value\",\"value\":\"right\"},\"text_baseline\":{\"type\":\"value\",\"value\":\"middle\"}}}}}],\"toolbar\":{\"type\":\"object\",\"name\":\"Toolbar\",\"id\":\"p1359\",\"attributes\":{\"tools\":[{\"type\":\"object\",\"name\":\"SaveTool\",\"id\":\"p1373\"}]}},\"toolbar_location\":\"above\",\"left\":[{\"type\":\"object\",\"name\":\"CategoricalAxis\",\"id\":\"p1368\",\"attributes\":{\"ticker\":{\"type\":\"object\",\"name\":\"CategoricalTicker\",\"id\":\"p1369\"},\"formatter\":{\"type\":\"object\",\"name\":\"CategoricalTickFormatter\",\"id\":\"p1370\"},\"major_label_policy\":{\"type\":\"object\",\"name\":\"AllLabels\",\"id\":\"p1371\"},\"axis_line_color\":null,\"major_tick_line_color\":null,\"minor_tick_line_color\":null}}],\"below\":[{\"type\":\"object\",\"name\":\"LinearAxis\",\"id\":\"p1363\",\"attributes\":{\"visible\":false,\"ticker\":{\"type\":\"object\",\"name\":\"BasicTicker\",\"id\":\"p1364\",\"attributes\":{\"mantissas\":[1,2,5]}},\"formatter\":{\"type\":\"object\",\"name\":\"BasicTickFormatter\",\"id\":\"p1365\"},\"major_label_policy\":{\"type\":\"object\",\"name\":\"AllLabels\",\"id\":\"p1366\"}}}],\"center\":[{\"type\":\"object\",\"name\":\"Grid\",\"id\":\"p1367\",\"attributes\":{\"visible\":false,\"axis\":{\"id\":\"p1363\"}}},{\"type\":\"object\",\"name\":\"Grid\",\"id\":\"p1372\",\"attributes\":{\"visible\":false,\"dimension\":1,\"axis\":{\"id\":\"p1368\"}}}]}},{\"type\":\"object\",\"name\":\"Div\",\"id\":\"p1392\",\"attributes\":{\"width\":600,\"text\":\"<p style='font-size:12px; color:gray;'>Source: AviationStack. Acessed October 7th 2024.</p>\"}}]}}}},{\"type\":\"object\",\"name\":\"TabPanel\",\"id\":\"p1442\",\"attributes\":{\"title\":\"Most Scheduled Departures\",\"child\":{\"type\":\"object\",\"name\":\"Column\",\"id\":\"p1441\",\"attributes\":{\"children\":[{\"type\":\"object\",\"name\":\"Figure\",\"id\":\"p1398\",\"attributes\":{\"height\":400,\"x_range\":{\"type\":\"object\",\"name\":\"DataRange1d\",\"id\":\"p1400\"},\"y_range\":{\"type\":\"object\",\"name\":\"FactorRange\",\"id\":\"p1408\",\"attributes\":{\"factors\":[\"Sharm El Sheikh\",\"Baghdad\",\"Kuwait City\",\"Amman\",\"Istanbul\",\"Dubai\",\"Erbil\",\"Larnaca\",\"Cairo\",\"Najaf\"]}},\"x_scale\":{\"type\":\"object\",\"name\":\"LinearScale\",\"id\":\"p1409\"},\"y_scale\":{\"type\":\"object\",\"name\":\"CategoricalScale\",\"id\":\"p1410\"},\"title\":{\"type\":\"object\",\"name\":\"Title\",\"id\":\"p1401\",\"attributes\":{\"text\":\"Most Scheduled Departures in 2024\"}},\"outline_line_color\":null,\"renderers\":[{\"type\":\"object\",\"name\":\"GlyphRenderer\",\"id\":\"p1428\",\"attributes\":{\"data_source\":{\"type\":\"object\",\"name\":\"ColumnDataSource\",\"id\":\"p1395\",\"attributes\":{\"selected\":{\"type\":\"object\",\"name\":\"Selection\",\"id\":\"p1396\",\"attributes\":{\"indices\":[],\"line_indices\":[]}},\"selection_policy\":{\"type\":\"object\",\"name\":\"UnionRenderers\",\"id\":\"p1397\"},\"data\":{\"type\":\"map\",\"entries\":[[\"index\",{\"type\":\"ndarray\",\"array\":{\"type\":\"bytes\",\"data\":\"CQAAAAgAAAAHAAAABgAAAAUAAAAEAAAAAwAAAAIAAAABAAAAAAAAAA==\"},\"shape\":[10],\"dtype\":\"int32\",\"order\":\"little\"}],[\"airportcity\",{\"type\":\"ndarray\",\"array\":[\"Sharm El Sheikh\",\"Baghdad\",\"Kuwait City\",\"Amman\",\"Istanbul\",\"Dubai\",\"Erbil\",\"Larnaca\",\"Cairo\",\"Najaf\"],\"shape\":[10],\"dtype\":\"object\",\"order\":\"little\"}],[\"count\",{\"type\":\"ndarray\",\"array\":{\"type\":\"bytes\",\"data\":\"PQAAAEMAAABGAAAATgAAAFEAAABSAAAAVQAAAFcAAABnAAAAcAAAAA==\"},\"shape\":[10],\"dtype\":\"int32\",\"order\":\"little\"}]]}}},\"view\":{\"type\":\"object\",\"name\":\"CDSView\",\"id\":\"p1429\",\"attributes\":{\"filter\":{\"type\":\"object\",\"name\":\"AllIndices\",\"id\":\"p1430\"}}},\"glyph\":{\"type\":\"object\",\"name\":\"HBar\",\"id\":\"p1425\",\"attributes\":{\"y\":{\"type\":\"field\",\"field\":\"airportcity\"},\"height\":{\"type\":\"value\",\"value\":0.5},\"right\":{\"type\":\"field\",\"field\":\"count\"},\"line_color\":{\"type\":\"value\",\"value\":\"#023436\"},\"line_alpha\":{\"type\":\"value\",\"value\":0.7},\"fill_color\":{\"type\":\"value\",\"value\":\"#023436\"},\"fill_alpha\":{\"type\":\"value\",\"value\":0.7},\"hatch_color\":{\"type\":\"value\",\"value\":\"#023436\"},\"hatch_alpha\":{\"type\":\"value\",\"value\":0.7}}},\"nonselection_glyph\":{\"type\":\"object\",\"name\":\"HBar\",\"id\":\"p1426\",\"attributes\":{\"y\":{\"type\":\"field\",\"field\":\"airportcity\"},\"height\":{\"type\":\"value\",\"value\":0.5},\"right\":{\"type\":\"field\",\"field\":\"count\"},\"line_color\":{\"type\":\"value\",\"value\":\"#023436\"},\"line_alpha\":{\"type\":\"value\",\"value\":0.1},\"fill_color\":{\"type\":\"value\",\"value\":\"#023436\"},\"fill_alpha\":{\"type\":\"value\",\"value\":0.1},\"hatch_color\":{\"type\":\"value\",\"value\":\"#023436\"},\"hatch_alpha\":{\"type\":\"value\",\"value\":0.1}}},\"muted_glyph\":{\"type\":\"object\",\"name\":\"HBar\",\"id\":\"p1427\",\"attributes\":{\"y\":{\"type\":\"field\",\"field\":\"airportcity\"},\"height\":{\"type\":\"value\",\"value\":0.5},\"right\":{\"type\":\"field\",\"field\":\"count\"},\"line_color\":{\"type\":\"value\",\"value\":\"#023436\"},\"line_alpha\":{\"type\":\"value\",\"value\":0.2},\"fill_color\":{\"type\":\"value\",\"value\":\"#023436\"},\"fill_alpha\":{\"type\":\"value\",\"value\":0.2},\"hatch_color\":{\"type\":\"value\",\"value\":\"#023436\"},\"hatch_alpha\":{\"type\":\"value\",\"value\":0.2}}}}},{\"type\":\"object\",\"name\":\"GlyphRenderer\",\"id\":\"p1437\",\"attributes\":{\"data_source\":{\"id\":\"p1395\"},\"view\":{\"type\":\"object\",\"name\":\"CDSView\",\"id\":\"p1438\",\"attributes\":{\"filter\":{\"type\":\"object\",\"name\":\"AllIndices\",\"id\":\"p1439\"}}},\"glyph\":{\"type\":\"object\",\"name\":\"Text\",\"id\":\"p1434\",\"attributes\":{\"x\":{\"type\":\"field\",\"field\":\"count\"},\"y\":{\"type\":\"field\",\"field\":\"airportcity\"},\"text\":{\"type\":\"field\",\"field\":\"count\"},\"x_offset\":{\"type\":\"value\",\"value\":-5},\"y_offset\":{\"type\":\"value\",\"value\":-3},\"text_color\":{\"type\":\"value\",\"value\":\"black\"},\"text_font_size\":{\"type\":\"value\",\"value\":\"10pt\"},\"text_align\":{\"type\":\"value\",\"value\":\"right\"},\"text_baseline\":{\"type\":\"value\",\"value\":\"middle\"}}},\"nonselection_glyph\":{\"type\":\"object\",\"name\":\"Text\",\"id\":\"p1435\",\"attributes\":{\"x\":{\"type\":\"field\",\"field\":\"count\"},\"y\":{\"type\":\"field\",\"field\":\"airportcity\"},\"text\":{\"type\":\"field\",\"field\":\"count\"},\"x_offset\":{\"type\":\"value\",\"value\":-5},\"y_offset\":{\"type\":\"value\",\"value\":-3},\"text_color\":{\"type\":\"value\",\"value\":\"black\"},\"text_alpha\":{\"type\":\"value\",\"value\":0.1},\"text_font_size\":{\"type\":\"value\",\"value\":\"10pt\"},\"text_align\":{\"type\":\"value\",\"value\":\"right\"},\"text_baseline\":{\"type\":\"value\",\"value\":\"middle\"}}},\"muted_glyph\":{\"type\":\"object\",\"name\":\"Text\",\"id\":\"p1436\",\"attributes\":{\"x\":{\"type\":\"field\",\"field\":\"count\"},\"y\":{\"type\":\"field\",\"field\":\"airportcity\"},\"text\":{\"type\":\"field\",\"field\":\"count\"},\"x_offset\":{\"type\":\"value\",\"value\":-5},\"y_offset\":{\"type\":\"value\",\"value\":-3},\"text_color\":{\"type\":\"value\",\"value\":\"black\"},\"text_alpha\":{\"type\":\"value\",\"value\":0.2},\"text_font_size\":{\"type\":\"value\",\"value\":\"10pt\"},\"text_align\":{\"type\":\"value\",\"value\":\"right\"},\"text_baseline\":{\"type\":\"value\",\"value\":\"middle\"}}}}}],\"toolbar\":{\"type\":\"object\",\"name\":\"Toolbar\",\"id\":\"p1407\",\"attributes\":{\"tools\":[{\"type\":\"object\",\"name\":\"SaveTool\",\"id\":\"p1421\"}]}},\"toolbar_location\":\"above\",\"left\":[{\"type\":\"object\",\"name\":\"CategoricalAxis\",\"id\":\"p1416\",\"attributes\":{\"ticker\":{\"type\":\"object\",\"name\":\"CategoricalTicker\",\"id\":\"p1417\"},\"formatter\":{\"type\":\"object\",\"name\":\"CategoricalTickFormatter\",\"id\":\"p1418\"},\"major_label_policy\":{\"type\":\"object\",\"name\":\"AllLabels\",\"id\":\"p1419\"},\"axis_line_color\":null,\"major_tick_line_color\":null,\"minor_tick_line_color\":null}}],\"below\":[{\"type\":\"object\",\"name\":\"LinearAxis\",\"id\":\"p1411\",\"attributes\":{\"visible\":false,\"ticker\":{\"type\":\"object\",\"name\":\"BasicTicker\",\"id\":\"p1412\",\"attributes\":{\"mantissas\":[1,2,5]}},\"formatter\":{\"type\":\"object\",\"name\":\"BasicTickFormatter\",\"id\":\"p1413\"},\"major_label_policy\":{\"type\":\"object\",\"name\":\"AllLabels\",\"id\":\"p1414\"}}}],\"center\":[{\"type\":\"object\",\"name\":\"Grid\",\"id\":\"p1415\",\"attributes\":{\"visible\":false,\"axis\":{\"id\":\"p1411\"}}},{\"type\":\"object\",\"name\":\"Grid\",\"id\":\"p1420\",\"attributes\":{\"visible\":false,\"dimension\":1,\"axis\":{\"id\":\"p1416\"}}}]}},{\"type\":\"object\",\"name\":\"Div\",\"id\":\"p1440\",\"attributes\":{\"width\":600,\"text\":\"<p style='font-size:12px; color:gray;'>Source: AviationStack. Acessed October 7th 2024.</p>\"}}]}}}},{\"type\":\"object\",\"name\":\"TabPanel\",\"id\":\"p1490\",\"attributes\":{\"title\":\"Most Diverted Departures\",\"child\":{\"type\":\"object\",\"name\":\"Column\",\"id\":\"p1489\",\"attributes\":{\"children\":[{\"type\":\"object\",\"name\":\"Figure\",\"id\":\"p1446\",\"attributes\":{\"height\":400,\"x_range\":{\"type\":\"object\",\"name\":\"DataRange1d\",\"id\":\"p1448\"},\"y_range\":{\"type\":\"object\",\"name\":\"FactorRange\",\"id\":\"p1456\",\"attributes\":{\"factors\":[\"Doha\",\"Kuwait City\",\"Athens\",\"Dalaman\",\"Adana\",\"Baghdad\",\"Sharm El Sheikh\",\"Cairo\",\"Larnaca\",\"Amman\"]}},\"x_scale\":{\"type\":\"object\",\"name\":\"LinearScale\",\"id\":\"p1457\"},\"y_scale\":{\"type\":\"object\",\"name\":\"CategoricalScale\",\"id\":\"p1458\"},\"title\":{\"type\":\"object\",\"name\":\"Title\",\"id\":\"p1449\",\"attributes\":{\"text\":\"Most Diverted Departures in 2024\"}},\"outline_line_color\":null,\"renderers\":[{\"type\":\"object\",\"name\":\"GlyphRenderer\",\"id\":\"p1476\",\"attributes\":{\"data_source\":{\"type\":\"object\",\"name\":\"ColumnDataSource\",\"id\":\"p1443\",\"attributes\":{\"selected\":{\"type\":\"object\",\"name\":\"Selection\",\"id\":\"p1444\",\"attributes\":{\"indices\":[],\"line_indices\":[]}},\"selection_policy\":{\"type\":\"object\",\"name\":\"UnionRenderers\",\"id\":\"p1445\"},\"data\":{\"type\":\"map\",\"entries\":[[\"index\",{\"type\":\"ndarray\",\"array\":{\"type\":\"bytes\",\"data\":\"CQAAAAgAAAAHAAAABgAAAAUAAAAEAAAAAwAAAAIAAAABAAAAAAAAAA==\"},\"shape\":[10],\"dtype\":\"int32\",\"order\":\"little\"}],[\"airportcity\",{\"type\":\"ndarray\",\"array\":[\"Doha\",\"Kuwait City\",\"Athens\",\"Dalaman\",\"Adana\",\"Baghdad\",\"Sharm El Sheikh\",\"Cairo\",\"Larnaca\",\"Amman\"],\"shape\":[10],\"dtype\":\"object\",\"order\":\"little\"}],[\"count\",{\"type\":\"ndarray\",\"array\":{\"type\":\"bytes\",\"data\":\"AwAAAAUAAAAGAAAABwAAAAoAAAATAAAAMAAAAF0AAADbAAAA4AAAAA==\"},\"shape\":[10],\"dtype\":\"int32\",\"order\":\"little\"}]]}}},\"view\":{\"type\":\"object\",\"name\":\"CDSView\",\"id\":\"p1477\",\"attributes\":{\"filter\":{\"type\":\"object\",\"name\":\"AllIndices\",\"id\":\"p1478\"}}},\"glyph\":{\"type\":\"object\",\"name\":\"HBar\",\"id\":\"p1473\",\"attributes\":{\"y\":{\"type\":\"field\",\"field\":\"airportcity\"},\"height\":{\"type\":\"value\",\"value\":0.5},\"right\":{\"type\":\"field\",\"field\":\"count\"},\"line_color\":{\"type\":\"value\",\"value\":\"#00BFB3\"},\"line_alpha\":{\"type\":\"value\",\"value\":0.7},\"fill_color\":{\"type\":\"value\",\"value\":\"#00BFB3\"},\"fill_alpha\":{\"type\":\"value\",\"value\":0.7},\"hatch_color\":{\"type\":\"value\",\"value\":\"#00BFB3\"},\"hatch_alpha\":{\"type\":\"value\",\"value\":0.7}}},\"nonselection_glyph\":{\"type\":\"object\",\"name\":\"HBar\",\"id\":\"p1474\",\"attributes\":{\"y\":{\"type\":\"field\",\"field\":\"airportcity\"},\"height\":{\"type\":\"value\",\"value\":0.5},\"right\":{\"type\":\"field\",\"field\":\"count\"},\"line_color\":{\"type\":\"value\",\"value\":\"#00BFB3\"},\"line_alpha\":{\"type\":\"value\",\"value\":0.1},\"fill_color\":{\"type\":\"value\",\"value\":\"#00BFB3\"},\"fill_alpha\":{\"type\":\"value\",\"value\":0.1},\"hatch_color\":{\"type\":\"value\",\"value\":\"#00BFB3\"},\"hatch_alpha\":{\"type\":\"value\",\"value\":0.1}}},\"muted_glyph\":{\"type\":\"object\",\"name\":\"HBar\",\"id\":\"p1475\",\"attributes\":{\"y\":{\"type\":\"field\",\"field\":\"airportcity\"},\"height\":{\"type\":\"value\",\"value\":0.5},\"right\":{\"type\":\"field\",\"field\":\"count\"},\"line_color\":{\"type\":\"value\",\"value\":\"#00BFB3\"},\"line_alpha\":{\"type\":\"value\",\"value\":0.2},\"fill_color\":{\"type\":\"value\",\"value\":\"#00BFB3\"},\"fill_alpha\":{\"type\":\"value\",\"value\":0.2},\"hatch_color\":{\"type\":\"value\",\"value\":\"#00BFB3\"},\"hatch_alpha\":{\"type\":\"value\",\"value\":0.2}}}}},{\"type\":\"object\",\"name\":\"GlyphRenderer\",\"id\":\"p1485\",\"attributes\":{\"data_source\":{\"id\":\"p1443\"},\"view\":{\"type\":\"object\",\"name\":\"CDSView\",\"id\":\"p1486\",\"attributes\":{\"filter\":{\"type\":\"object\",\"name\":\"AllIndices\",\"id\":\"p1487\"}}},\"glyph\":{\"type\":\"object\",\"name\":\"Text\",\"id\":\"p1482\",\"attributes\":{\"x\":{\"type\":\"field\",\"field\":\"count\"},\"y\":{\"type\":\"field\",\"field\":\"airportcity\"},\"text\":{\"type\":\"field\",\"field\":\"count\"},\"x_offset\":{\"type\":\"value\",\"value\":-5},\"y_offset\":{\"type\":\"value\",\"value\":-3},\"text_color\":{\"type\":\"value\",\"value\":\"black\"},\"text_font_size\":{\"type\":\"value\",\"value\":\"10pt\"},\"text_align\":{\"type\":\"value\",\"value\":\"right\"},\"text_baseline\":{\"type\":\"value\",\"value\":\"middle\"}}},\"nonselection_glyph\":{\"type\":\"object\",\"name\":\"Text\",\"id\":\"p1483\",\"attributes\":{\"x\":{\"type\":\"field\",\"field\":\"count\"},\"y\":{\"type\":\"field\",\"field\":\"airportcity\"},\"text\":{\"type\":\"field\",\"field\":\"count\"},\"x_offset\":{\"type\":\"value\",\"value\":-5},\"y_offset\":{\"type\":\"value\",\"value\":-3},\"text_color\":{\"type\":\"value\",\"value\":\"black\"},\"text_alpha\":{\"type\":\"value\",\"value\":0.1},\"text_font_size\":{\"type\":\"value\",\"value\":\"10pt\"},\"text_align\":{\"type\":\"value\",\"value\":\"right\"},\"text_baseline\":{\"type\":\"value\",\"value\":\"middle\"}}},\"muted_glyph\":{\"type\":\"object\",\"name\":\"Text\",\"id\":\"p1484\",\"attributes\":{\"x\":{\"type\":\"field\",\"field\":\"count\"},\"y\":{\"type\":\"field\",\"field\":\"airportcity\"},\"text\":{\"type\":\"field\",\"field\":\"count\"},\"x_offset\":{\"type\":\"value\",\"value\":-5},\"y_offset\":{\"type\":\"value\",\"value\":-3},\"text_color\":{\"type\":\"value\",\"value\":\"black\"},\"text_alpha\":{\"type\":\"value\",\"value\":0.2},\"text_font_size\":{\"type\":\"value\",\"value\":\"10pt\"},\"text_align\":{\"type\":\"value\",\"value\":\"right\"},\"text_baseline\":{\"type\":\"value\",\"value\":\"middle\"}}}}}],\"toolbar\":{\"type\":\"object\",\"name\":\"Toolbar\",\"id\":\"p1455\",\"attributes\":{\"tools\":[{\"type\":\"object\",\"name\":\"SaveTool\",\"id\":\"p1469\"}]}},\"toolbar_location\":\"above\",\"left\":[{\"type\":\"object\",\"name\":\"CategoricalAxis\",\"id\":\"p1464\",\"attributes\":{\"ticker\":{\"type\":\"object\",\"name\":\"CategoricalTicker\",\"id\":\"p1465\"},\"formatter\":{\"type\":\"object\",\"name\":\"CategoricalTickFormatter\",\"id\":\"p1466\"},\"major_label_policy\":{\"type\":\"object\",\"name\":\"AllLabels\",\"id\":\"p1467\"},\"axis_line_color\":null,\"major_tick_line_color\":null,\"minor_tick_line_color\":null}}],\"below\":[{\"type\":\"object\",\"name\":\"LinearAxis\",\"id\":\"p1459\",\"attributes\":{\"visible\":false,\"ticker\":{\"type\":\"object\",\"name\":\"BasicTicker\",\"id\":\"p1460\",\"attributes\":{\"mantissas\":[1,2,5]}},\"formatter\":{\"type\":\"object\",\"name\":\"BasicTickFormatter\",\"id\":\"p1461\"},\"major_label_policy\":{\"type\":\"object\",\"name\":\"AllLabels\",\"id\":\"p1462\"}}}],\"center\":[{\"type\":\"object\",\"name\":\"Grid\",\"id\":\"p1463\",\"attributes\":{\"visible\":false,\"axis\":{\"id\":\"p1459\"}}},{\"type\":\"object\",\"name\":\"Grid\",\"id\":\"p1468\",\"attributes\":{\"visible\":false,\"dimension\":1,\"axis\":{\"id\":\"p1464\"}}}]}},{\"type\":\"object\",\"name\":\"Div\",\"id\":\"p1488\",\"attributes\":{\"width\":600,\"text\":\"<p style='font-size:12px; color:gray;'>Source: AviationStack. Acessed October 7th 2024.</p>\"}}]}}}}]}}]}}]}};\n  const render_items = [{\"docid\":\"ac7354cb-ebd3-4ab7-b9a4-ecba36a55a5b\",\"roots\":{\"p1493\":\"aad178ac-8347-457c-8d88-5ad4cfa6cb55\"},\"root_ids\":[\"p1493\"]}];\n  void root.Bokeh.embed.embed_items_notebook(docs_json, render_items);\n  }\n  if (root.Bokeh !== undefined) {\n    embed_document(root);\n  } else {\n    let attempts = 0;\n    const timer = setInterval(function(root) {\n      if (root.Bokeh !== undefined) {\n        clearInterval(timer);\n        embed_document(root);\n      } else {\n        attempts++;\n        if (attempts > 100) {\n          clearInterval(timer);\n          console.log(\"Bokeh: ERROR: Unable to run BokehJS code because BokehJS library is missing\");\n        }\n      }\n    }, 10, root)\n  }\n})(window);",
      "application/vnd.bokehjs_exec.v0+json": ""
     },
     "metadata": {
      "application/vnd.bokehjs_exec.v0+json": {
       "id": "p1493"
      }
     },
     "output_type": "display_data"
    }
   ],
   "source": [
    "output_notebook()\n",
    "from bokeh.layouts import column\n",
    "from bokeh.models import Div\n",
    "\n",
    "# Example datasets stored in a dictionary\n",
    "datasets = {\n",
    "    \"Most Changed Departures\": most_changed_departures,\n",
    "    \"Most Cancelled Departures\": most_cancelled_departures,\n",
    "    \"Most Scheduled Departures\": most_scheduled_departures,\n",
    "    \"Most Diverted Departures\": most_diverted_departures\n",
    "}\n",
    "\n",
    "# Initialize an empty list to store the tabs\n",
    "# List of colors to use for each dataset\n",
    "colors = [\"lightblue\", \"orange\", \"#023436\", \"#00BFB3\"]\n",
    "\n",
    "# Initialize an empty list to store the tabs\n",
    "tabs = []\n",
    "\n",
    "# Loop through each dataset and its corresponding color\n",
    "for (title, data), color in zip(datasets.items(), colors):\n",
    "    # Convert data to ColumnDataSource for Bokeh plotting\n",
    "    source = ColumnDataSource(data)\n",
    "\n",
    "    # Create a figure for each dataset\n",
    "    p = figure(y_range=data['airportcity'], width=600, height=400, title=title + \" in 2024\", tools=\"save\", toolbar_location=\"above\")\n",
    "    p.hbar(y='airportcity', right='count', height=0.5, color=color, alpha=0.7, source=source)\n",
    "\n",
    "    # Add text inside the bars (5 points inside the bar)\n",
    "    p.text(x='count', y='airportcity', text='count', source=source, \n",
    "           x_offset=-5,  # This places the text 5 units inside the bar\n",
    "           y_offset=-3,  # Vertical alignment\n",
    "           text_align='right', text_baseline='middle', text_color=\"black\", text_font_size=\"10pt\")\n",
    "\n",
    "    # Customize plot (optional)\n",
    "    p.xaxis.visible = False\n",
    "    p.ygrid.visible = False\n",
    "    p.xgrid.visible = False\n",
    "    p.yaxis.major_tick_line_color = None  # No major ticks\n",
    "    p.yaxis.minor_tick_line_color = None  # No minor ticks\n",
    "    p.yaxis.axis_line_color = None  \n",
    "    p.outline_line_color = None\n",
    "\n",
    "    subtitle = Div(text=f\"<p style='font-size:12px; color:gray;'>Source: AviationStack. Acessed October 7th 2024.</p>\", width=600)\n",
    "\n",
    "    layout = column(p, subtitle)\n",
    "\n",
    "    # Create a panel with the plot and the corresponding title\n",
    "    tab = TabPanel(child=layout, title=title)\n",
    "\n",
    "    # Append the panel to the list of tabs\n",
    "    tabs.append(tab)\n",
    "\n",
    "# Arrange the tabs in a Tabs layout\n",
    "tabs_layout = Tabs(tabs=tabs)\n",
    "\n",
    "main_title = Div(text=\"<h2>Top 10 Destinations with Changes in Departures from BEY in 2024</h2>\", width=800)\n",
    "\n",
    "# Use column layout to stack the title on top of the tabs\n",
    "layout = column(main_title, tabs_layout)\n",
    "\n",
    "# Show the tabs\n",
    "show(layout)"
   ]
  },
  {
   "cell_type": "markdown",
   "metadata": {},
   "source": [
    "### Findings \n",
    "\n",
    "- The airport with the most number of diversions is Amman. Flights to Cairo were scheduled but were either cancelled or diverted. \n",
    "- Flights to Frankfurt were cancelled the most. This could be because the Lufthansa group [suspended flight to Lebanon in July](https://www.al-monitor.com/originals/2024/07/lufthansa-cancels-night-flights-lebanon-us-others-issue-travel-warnings)."
   ]
  },
  {
   "cell_type": "code",
   "execution_count": 22,
   "metadata": {
    "tags": [
     "remove-input"
    ]
   },
   "outputs": [
    {
     "data": {
      "text/html": [
       "    <style>\n",
       "        .bk-notebook-logo {\n",
       "            display: block;\n",
       "            width: 20px;\n",
       "            height: 20px;\n",
       "            background-image: url(data:image/png;base64,iVBORw0KGgoAAAANSUhEUgAAABQAAAAUCAYAAACNiR0NAAAABHNCSVQICAgIfAhkiAAAAAlwSFlzAAALEgAACxIB0t1+/AAAABx0RVh0U29mdHdhcmUAQWRvYmUgRmlyZXdvcmtzIENTNui8sowAAAOkSURBVDiNjZRtaJVlGMd/1/08zzln5zjP1LWcU9N0NkN8m2CYjpgQYQXqSs0I84OLIC0hkEKoPtiH3gmKoiJDU7QpLgoLjLIQCpEsNJ1vqUOdO7ppbuec5+V+rj4ctwzd8IIbbi6u+8f1539dt3A78eXC7QizUF7gyV1fD1Yqg4JWz84yffhm0qkFqBogB9rM8tZdtwVsPUhWhGcFJngGeWrPzHm5oaMmkfEg1usvLFyc8jLRqDOMru7AyC8saQr7GG7f5fvDeH7Ej8CM66nIF+8yngt6HWaKh7k49Soy9nXurCi1o3qUbS3zWfrYeQDTB/Qj6kX6Ybhw4B+bOYoLKCC9H3Nu/leUTZ1JdRWkkn2ldcCamzrcf47KKXdAJllSlxAOkRgyHsGC/zRday5Qld9DyoM4/q/rUoy/CXh3jzOu3bHUVZeU+DEn8FInkPBFlu3+nW3Nw0mk6vCDiWg8CeJaxEwuHS3+z5RgY+YBR6V1Z1nxSOfoaPa4LASWxxdNp+VWTk7+4vzaou8v8PN+xo+KY2xsw6une2frhw05CTYOmQvsEhjhWjn0bmXPjpE1+kplmmkP3suftwTubK9Vq22qKmrBhpY4jvd5afdRA3wGjFAgcnTK2s4hY0/GPNIb0nErGMCRxWOOX64Z8RAC4oCXdklmEvcL8o0BfkNK4lUg9HTl+oPlQxdNo3Mg4Nv175e/1LDGzZen30MEjRUtmXSfiTVu1kK8W4txyV6BMKlbgk3lMwYCiusNy9fVfvvwMxv8Ynl6vxoByANLTWplvuj/nF9m2+PDtt1eiHPBr1oIfhCChQMBw6Aw0UulqTKZdfVvfG7VcfIqLG9bcldL/+pdWTLxLUy8Qq38heUIjh4XlzZxzQm19lLFlr8vdQ97rjZVOLf8nclzckbcD4wxXMidpX30sFd37Fv/GtwwhzhxGVAprjbg0gCAEeIgwCZyTV2Z1REEW8O4py0wsjeloKoMr6iCY6dP92H6Vw/oTyICIthibxjm/DfN9lVz8IqtqKYLUXfoKVMVQVVJOElGjrnnUt9T9wbgp8AyYKaGlqingHZU/uG2NTZSVqwHQTWkx9hxjkpWDaCg6Ckj5qebgBVbT3V3NNXMSiWSDdGV3hrtzla7J+duwPOToIg42ChPQOQjspnSlp1V+Gjdged7+8UN5CRAV7a5EdFNwCjEaBR27b3W890TE7g24NAP/mMDXRWrGoFPQI9ls/MWO2dWFAar/xcOIImbbpA3zgAAAABJRU5ErkJggg==);\n",
       "        }\n",
       "    </style>\n",
       "    <div>\n",
       "        <a href=\"https://bokeh.org\" target=\"_blank\" class=\"bk-notebook-logo\"></a>\n",
       "        <span id=\"e3394b40-ce22-4fc3-8b56-23f12748556a\">Loading BokehJS ...</span>\n",
       "    </div>\n"
      ]
     },
     "metadata": {},
     "output_type": "display_data"
    },
    {
     "data": {
      "application/javascript": "'use strict';\n(function(root) {\n  function now() {\n    return new Date();\n  }\n\n  const force = true;\n\n  if (typeof root._bokeh_onload_callbacks === \"undefined\" || force === true) {\n    root._bokeh_onload_callbacks = [];\n    root._bokeh_is_loading = undefined;\n  }\n\nconst JS_MIME_TYPE = 'application/javascript';\n  const HTML_MIME_TYPE = 'text/html';\n  const EXEC_MIME_TYPE = 'application/vnd.bokehjs_exec.v0+json';\n  const CLASS_NAME = 'output_bokeh rendered_html';\n\n  /**\n   * Render data to the DOM node\n   */\n  function render(props, node) {\n    const script = document.createElement(\"script\");\n    node.appendChild(script);\n  }\n\n  /**\n   * Handle when an output is cleared or removed\n   */\n  function handleClearOutput(event, handle) {\n    function drop(id) {\n      const view = Bokeh.index.get_by_id(id)\n      if (view != null) {\n        view.model.document.clear()\n        Bokeh.index.delete(view)\n      }\n    }\n\n    const cell = handle.cell;\n\n    const id = cell.output_area._bokeh_element_id;\n    const server_id = cell.output_area._bokeh_server_id;\n\n    // Clean up Bokeh references\n    if (id != null) {\n      drop(id)\n    }\n\n    if (server_id !== undefined) {\n      // Clean up Bokeh references\n      const cmd_clean = \"from bokeh.io.state import curstate; print(curstate().uuid_to_server['\" + server_id + \"'].get_sessions()[0].document.roots[0]._id)\";\n      cell.notebook.kernel.execute(cmd_clean, {\n        iopub: {\n          output: function(msg) {\n            const id = msg.content.text.trim()\n            drop(id)\n          }\n        }\n      });\n      // Destroy server and session\n      const cmd_destroy = \"import bokeh.io.notebook as ion; ion.destroy_server('\" + server_id + \"')\";\n      cell.notebook.kernel.execute(cmd_destroy);\n    }\n  }\n\n  /**\n   * Handle when a new output is added\n   */\n  function handleAddOutput(event, handle) {\n    const output_area = handle.output_area;\n    const output = handle.output;\n\n    // limit handleAddOutput to display_data with EXEC_MIME_TYPE content only\n    if ((output.output_type != \"display_data\") || (!Object.prototype.hasOwnProperty.call(output.data, EXEC_MIME_TYPE))) {\n      return\n    }\n\n    const toinsert = output_area.element.find(\".\" + CLASS_NAME.split(' ')[0]);\n\n    if (output.metadata[EXEC_MIME_TYPE][\"id\"] !== undefined) {\n      toinsert[toinsert.length - 1].firstChild.textContent = output.data[JS_MIME_TYPE];\n      // store reference to embed id on output_area\n      output_area._bokeh_element_id = output.metadata[EXEC_MIME_TYPE][\"id\"];\n    }\n    if (output.metadata[EXEC_MIME_TYPE][\"server_id\"] !== undefined) {\n      const bk_div = document.createElement(\"div\");\n      bk_div.innerHTML = output.data[HTML_MIME_TYPE];\n      const script_attrs = bk_div.children[0].attributes;\n      for (let i = 0; i < script_attrs.length; i++) {\n        toinsert[toinsert.length - 1].firstChild.setAttribute(script_attrs[i].name, script_attrs[i].value);\n        toinsert[toinsert.length - 1].firstChild.textContent = bk_div.children[0].textContent\n      }\n      // store reference to server id on output_area\n      output_area._bokeh_server_id = output.metadata[EXEC_MIME_TYPE][\"server_id\"];\n    }\n  }\n\n  function register_renderer(events, OutputArea) {\n\n    function append_mime(data, metadata, element) {\n      // create a DOM node to render to\n      const toinsert = this.create_output_subarea(\n        metadata,\n        CLASS_NAME,\n        EXEC_MIME_TYPE\n      );\n      this.keyboard_manager.register_events(toinsert);\n      // Render to node\n      const props = {data: data, metadata: metadata[EXEC_MIME_TYPE]};\n      render(props, toinsert[toinsert.length - 1]);\n      element.append(toinsert);\n      return toinsert\n    }\n\n    /* Handle when an output is cleared or removed */\n    events.on('clear_output.CodeCell', handleClearOutput);\n    events.on('delete.Cell', handleClearOutput);\n\n    /* Handle when a new output is added */\n    events.on('output_added.OutputArea', handleAddOutput);\n\n    /**\n     * Register the mime type and append_mime function with output_area\n     */\n    OutputArea.prototype.register_mime_type(EXEC_MIME_TYPE, append_mime, {\n      /* Is output safe? */\n      safe: true,\n      /* Index of renderer in `output_area.display_order` */\n      index: 0\n    });\n  }\n\n  // register the mime type if in Jupyter Notebook environment and previously unregistered\n  if (root.Jupyter !== undefined) {\n    const events = require('base/js/events');\n    const OutputArea = require('notebook/js/outputarea').OutputArea;\n\n    if (OutputArea.prototype.mime_types().indexOf(EXEC_MIME_TYPE) == -1) {\n      register_renderer(events, OutputArea);\n    }\n  }\n  if (typeof (root._bokeh_timeout) === \"undefined\" || force === true) {\n    root._bokeh_timeout = Date.now() + 5000;\n    root._bokeh_failed_load = false;\n  }\n\n  const NB_LOAD_WARNING = {'data': {'text/html':\n     \"<div style='background-color: #fdd'>\\n\"+\n     \"<p>\\n\"+\n     \"BokehJS does not appear to have successfully loaded. If loading BokehJS from CDN, this \\n\"+\n     \"may be due to a slow or bad network connection. Possible fixes:\\n\"+\n     \"</p>\\n\"+\n     \"<ul>\\n\"+\n     \"<li>re-rerun `output_notebook()` to attempt to load from CDN again, or</li>\\n\"+\n     \"<li>use INLINE resources instead, as so:</li>\\n\"+\n     \"</ul>\\n\"+\n     \"<code>\\n\"+\n     \"from bokeh.resources import INLINE\\n\"+\n     \"output_notebook(resources=INLINE)\\n\"+\n     \"</code>\\n\"+\n     \"</div>\"}};\n\n  function display_loaded(error = null) {\n    const el = document.getElementById(\"e3394b40-ce22-4fc3-8b56-23f12748556a\");\n    if (el != null) {\n      const html = (() => {\n        if (typeof root.Bokeh === \"undefined\") {\n          if (error == null) {\n            return \"BokehJS is loading ...\";\n          } else {\n            return \"BokehJS failed to load.\";\n          }\n        } else {\n          const prefix = `BokehJS ${root.Bokeh.version}`;\n          if (error == null) {\n            return `${prefix} successfully loaded.`;\n          } else {\n            return `${prefix} <b>encountered errors</b> while loading and may not function as expected.`;\n          }\n        }\n      })();\n      el.innerHTML = html;\n\n      if (error != null) {\n        const wrapper = document.createElement(\"div\");\n        wrapper.style.overflow = \"auto\";\n        wrapper.style.height = \"5em\";\n        wrapper.style.resize = \"vertical\";\n        const content = document.createElement(\"div\");\n        content.style.fontFamily = \"monospace\";\n        content.style.whiteSpace = \"pre-wrap\";\n        content.style.backgroundColor = \"rgb(255, 221, 221)\";\n        content.textContent = error.stack ?? error.toString();\n        wrapper.append(content);\n        el.append(wrapper);\n      }\n    } else if (Date.now() < root._bokeh_timeout) {\n      setTimeout(() => display_loaded(error), 100);\n    }\n  }\n\n  function run_callbacks() {\n    try {\n      root._bokeh_onload_callbacks.forEach(function(callback) {\n        if (callback != null)\n          callback();\n      });\n    } finally {\n      delete root._bokeh_onload_callbacks\n    }\n    console.debug(\"Bokeh: all callbacks have finished\");\n  }\n\n  function load_libs(css_urls, js_urls, callback) {\n    if (css_urls == null) css_urls = [];\n    if (js_urls == null) js_urls = [];\n\n    root._bokeh_onload_callbacks.push(callback);\n    if (root._bokeh_is_loading > 0) {\n      console.debug(\"Bokeh: BokehJS is being loaded, scheduling callback at\", now());\n      return null;\n    }\n    if (js_urls == null || js_urls.length === 0) {\n      run_callbacks();\n      return null;\n    }\n    console.debug(\"Bokeh: BokehJS not loaded, scheduling load and callback at\", now());\n    root._bokeh_is_loading = css_urls.length + js_urls.length;\n\n    function on_load() {\n      root._bokeh_is_loading--;\n      if (root._bokeh_is_loading === 0) {\n        console.debug(\"Bokeh: all BokehJS libraries/stylesheets loaded\");\n        run_callbacks()\n      }\n    }\n\n    function on_error(url) {\n      console.error(\"failed to load \" + url);\n    }\n\n    for (let i = 0; i < css_urls.length; i++) {\n      const url = css_urls[i];\n      const element = document.createElement(\"link\");\n      element.onload = on_load;\n      element.onerror = on_error.bind(null, url);\n      element.rel = \"stylesheet\";\n      element.type = \"text/css\";\n      element.href = url;\n      console.debug(\"Bokeh: injecting link tag for BokehJS stylesheet: \", url);\n      document.body.appendChild(element);\n    }\n\n    for (let i = 0; i < js_urls.length; i++) {\n      const url = js_urls[i];\n      const element = document.createElement('script');\n      element.onload = on_load;\n      element.onerror = on_error.bind(null, url);\n      element.async = false;\n      element.src = url;\n      console.debug(\"Bokeh: injecting script tag for BokehJS library: \", url);\n      document.head.appendChild(element);\n    }\n  };\n\n  function inject_raw_css(css) {\n    const element = document.createElement(\"style\");\n    element.appendChild(document.createTextNode(css));\n    document.body.appendChild(element);\n  }\n\n  const js_urls = [\"https://cdn.bokeh.org/bokeh/release/bokeh-3.4.1.min.js\", \"https://cdn.bokeh.org/bokeh/release/bokeh-gl-3.4.1.min.js\", \"https://cdn.bokeh.org/bokeh/release/bokeh-widgets-3.4.1.min.js\", \"https://cdn.bokeh.org/bokeh/release/bokeh-tables-3.4.1.min.js\", \"https://cdn.bokeh.org/bokeh/release/bokeh-mathjax-3.4.1.min.js\"];\n  const css_urls = [];\n\n  const inline_js = [    function(Bokeh) {\n      Bokeh.set_log_level(\"info\");\n    },\nfunction(Bokeh) {\n    }\n  ];\n\n  function run_inline_js() {\n    if (root.Bokeh !== undefined || force === true) {\n      try {\n            for (let i = 0; i < inline_js.length; i++) {\n      inline_js[i].call(root, root.Bokeh);\n    }\n\n      } catch (error) {display_loaded(error);throw error;\n      }if (force === true) {\n        display_loaded();\n      }} else if (Date.now() < root._bokeh_timeout) {\n      setTimeout(run_inline_js, 100);\n    } else if (!root._bokeh_failed_load) {\n      console.log(\"Bokeh: BokehJS failed to load within specified timeout.\");\n      root._bokeh_failed_load = true;\n    } else if (force !== true) {\n      const cell = $(document.getElementById(\"e3394b40-ce22-4fc3-8b56-23f12748556a\")).parents('.cell').data().cell;\n      cell.output_area.append_execute_result(NB_LOAD_WARNING)\n    }\n  }\n\n  if (root._bokeh_is_loading === 0) {\n    console.debug(\"Bokeh: BokehJS loaded, going straight to plotting\");\n    run_inline_js();\n  } else {\n    load_libs(css_urls, js_urls, function() {\n      console.debug(\"Bokeh: BokehJS plotting callback run at\", now());\n      run_inline_js();\n    });\n  }\n}(window));",
      "application/vnd.bokehjs_load.v0+json": ""
     },
     "metadata": {},
     "output_type": "display_data"
    },
    {
     "data": {
      "text/html": [
       "\n",
       "  <div id=\"a7a44f94-5557-4b07-9501-f800c687708f\" data-root-id=\"p1505\" style=\"display: contents;\"></div>\n"
      ]
     },
     "metadata": {},
     "output_type": "display_data"
    },
    {
     "data": {
      "application/javascript": "(function(root) {\n  function embed_document(root) {\n  const docs_json = {\"ffdf9df3-2f9b-4673-85c1-783dfaf488cd\":{\"version\":\"3.4.1\",\"title\":\"Bokeh Application\",\"roots\":[{\"type\":\"object\",\"name\":\"Figure\",\"id\":\"p1505\",\"attributes\":{\"width\":800,\"x_range\":{\"type\":\"object\",\"name\":\"DataRange1d\",\"id\":\"p1506\"},\"y_range\":{\"type\":\"object\",\"name\":\"DataRange1d\",\"id\":\"p1507\",\"attributes\":{\"start\":0,\"end\":1132}},\"x_scale\":{\"type\":\"object\",\"name\":\"LinearScale\",\"id\":\"p1515\"},\"y_scale\":{\"type\":\"object\",\"name\":\"LinearScale\",\"id\":\"p1516\"},\"title\":{\"type\":\"object\",\"name\":\"Title\",\"id\":\"p1508\",\"attributes\":{\"text\":\"Weekly Departures from BEY\"}},\"renderers\":[{\"type\":\"object\",\"name\":\"GlyphRenderer\",\"id\":\"p1566\",\"attributes\":{\"name\":\"active\",\"data_source\":{\"type\":\"object\",\"name\":\"ColumnDataSource\",\"id\":\"p1502\",\"attributes\":{\"selected\":{\"type\":\"object\",\"name\":\"Selection\",\"id\":\"p1503\",\"attributes\":{\"indices\":[],\"line_indices\":[]}},\"selection_policy\":{\"type\":\"object\",\"name\":\"UnionRenderers\",\"id\":\"p1504\"},\"data\":{\"type\":\"map\",\"entries\":[[\"index\",{\"type\":\"ndarray\",\"array\":{\"type\":\"bytes\",\"data\":\"AAAAAAEAAAACAAAAAwAAAAQAAAAFAAAABgAAAAcAAAAIAAAACQAAAAoAAAALAAAADAAAAA0AAAAOAAAADwAAABAAAAARAAAAEgAAABMAAAAUAAAAFQAAABYAAAAXAAAAGAAAABkAAAAaAAAAGwAAABwAAAAdAAAAHgAAAB8AAAAgAAAAIQAAACIAAAAjAAAAJAAAACUAAAAmAAAAJwAAACgAAAA=\"},\"shape\":[41],\"dtype\":\"int32\",\"order\":\"little\"}],[\"flight_date\",{\"type\":\"ndarray\",\"array\":{\"type\":\"bytes\",\"data\":\"AADAgRPOeEIAAABKVNB4QgAAQBKV0nhCAACA2tXUeEIAAMCiFtd4QgAAAGtX2XhCAABAM5jbeEIAAID72N14QgAAwMMZ4HhCAAAAjFrieEIAAEBUm+R4QgAAgBzc5nhCAADA5BzpeEIAAACtXet4QgAAQHWe7XhCAACAPd/veEIAAMAFIPJ4QgAAAM5g9HhCAABAlqH2eEIAAIBe4vh4QgAAwCYj+3hCAAAA72P9eEIAAEC3pP94QgAAgH/lAXlCAADARyYEeUIAAAAQZwZ5QgAAQNinCHlCAACAoOgKeUIAAMBoKQ15QgAAADFqD3lCAABA+aoReUIAAIDB6xN5QgAAwIksFnlCAAAAUm0YeUIAAEAarhp5QgAAgOLuHHlCAADAqi8feUIAAABzcCF5QgAAQDuxI3lCAACAA/IleUIAAMDLMih5Qg==\"},\"shape\":[41],\"dtype\":\"float64\",\"order\":\"little\"}],[\"active\",{\"type\":\"ndarray\",\"array\":{\"type\":\"bytes\",\"data\":\"AAAAAAAASkAAAAAAAAA+QAAAAAAAADlAAAAAAAAAOEAAAAAAAAAwQAAAAAAAADJAAAAAAAAAOkAAAAAAAIBJQAAAAAAAAEZAAAAAAAAAPEAAAAAAAIBEQAAAAAAAAD9AAAAAAAAAS0AAAAAAAIBOQAAAAAAAQFNAAAAAAAAATEAAAAAAAIBIQAAAAAAAAENAAAAAAACARkAAAAAAAABKQAAAAAAAAEVAAAAAAACATUAAAAAAAIBDQAAAAAAAQFBAAAAAAACATUAAAAAAAABSQAAAAAAAgFFAAAAAAACASUAAAAAAAIBQQAAAAAAAAFJAAAAAAACAVkAAAAAAAEBSQAAAAAAAgE5AAAAAAABAUUAAAAAAAAAzQAAAAAAAACZAAAAAAAAAM0AAAAAAAAAmQAAAAAAAABxAAAAAAAAAMEAAAAAAAAAiQA==\"},\"shape\":[41],\"dtype\":\"float64\",\"order\":\"little\"}],[\"cancelled\",{\"type\":\"ndarray\",\"array\":{\"type\":\"bytes\",\"data\":\"AAAAAAAACEAAAAAAAADwPwAAAAAAAPA/AAAAAAAAAEAAAAAAAAAIQAAAAAAAAABAAAAAAAAAAEAAAAAAAADwPwAAAAAAAAAAAAAAAAAAFEAAAAAAAAAQQAAAAAAAAAhAAAAAAAAAAEAAAAAAAAAUQAAAAAAAADZAAAAAAAAAQkAAAAAAAAAsQAAAAAAAABhAAAAAAAAAFEAAAAAAAAAYQAAAAAAAABhAAAAAAAAACEAAAAAAAAAAAAAAAAAAABRAAAAAAAAAGEAAAAAAAAAUQAAAAAAAACZAAAAAAAAAGEAAAAAAAAAIQAAAAAAAABRAAAAAAACAWUAAAAAAAIBDQAAAAAAAADVAAAAAAACAQUAAAAAAAAAQQAAAAAAAABBAAAAAAAAAAAAAAAAAAAAUQAAAAAAAADNAAAAAAAAALkAAAAAAAAAAQA==\"},\"shape\":[41],\"dtype\":\"float64\",\"order\":\"little\"}],[\"diverted\",{\"type\":\"ndarray\",\"array\":{\"type\":\"bytes\",\"data\":\"AAAAAAAAEEAAAAAAAAAIQAAAAAAAAPA/AAAAAAAA8D8AAAAAAAAAQAAAAAAAAPA/AAAAAAAAEEAAAAAAAAAAQAAAAAAAACRAAAAAAAAAGEAAAAAAAAAUQAAAAAAAACRAAAAAAAAAIEAAAAAAAAAkQAAAAAAAADdAAAAAAAAAOEAAAAAAAABDQAAAAAAAADlAAAAAAAAAQEAAAAAAAAA8QAAAAAAAgEJAAAAAAAAAPEAAAAAAAAAcQAAAAAAAADdAAAAAAACAQkAAAAAAAAA+QAAAAAAAADhAAAAAAACAQ0AAAAAAAABDQAAAAAAAAEJAAAAAAAAAOkAAAAAAAAA9QAAAAAAAAD9AAAAAAAAAOUAAAAAAAAAkQAAAAAAAACZAAAAAAAAAGEAAAAAAAAAIQAAAAAAAAAAAAAAAAAAAAAAAAAAAAAAAAA==\"},\"shape\":[41],\"dtype\":\"float64\",\"order\":\"little\"}],[\"landed\",{\"type\":\"ndarray\",\"array\":{\"type\":\"bytes\",\"data\":\"AAAAAAAgeEAAAAAAAGB1QAAAAAAAEHZAAAAAAACAcUAAAAAAAEBrQAAAAAAAYHVAAAAAAACwdEAAAAAAAKByQAAAAAAAYHNAAAAAAAAQdEAAAAAAAIBzQAAAAAAAkHRAAAAAAADwdUAAAAAAACB3QAAAAAAAcHVAAAAAAABAdEAAAAAAAOBzQAAAAAAAwHBAAAAAAACQd0AAAAAAAEB3QAAAAAAAsHZAAAAAAADQd0AAAAAAAMBaQAAAAAAAIH5AAAAAAABIgEAAAAAAAECAQAAAAAAAoH5AAAAAAADwgEAAAAAAAACAQAAAAAAAgH9AAAAAAAAQeUAAAAAAAIB5QAAAAAAAUH1AAAAAAADAfUAAAAAAAIBhQAAAAAAAgF1AAAAAAABAV0AAAAAAAABOQAAAAAAAAD1AAAAAAAAASUAAAAAAAIBAQA==\"},\"shape\":[41],\"dtype\":\"float64\",\"order\":\"little\"}],[\"scheduled\",{\"type\":\"ndarray\",\"array\":{\"type\":\"bytes\",\"data\":\"AAAAAAAAS0AAAAAAAIBIQAAAAAAAADlAAAAAAACAQEAAAAAAAAA3QAAAAAAAAEBAAAAAAACAQUAAAAAAAABHQAAAAAAAAEVAAAAAAAAARkAAAAAAAAA9QAAAAAAAgEFAAAAAAAAAP0AAAAAAAABLQAAAAAAAAEtAAAAAAAAAUUAAAAAAAEBQQAAAAAAAADxAAAAAAACAQUAAAAAAAIBDQAAAAAAAAEVAAAAAAAAAR0AAAAAAAIBTQAAAAAAAgFBAAAAAAAAARUAAAAAAAIBJQAAAAAAAgE5AAAAAAACARUAAAAAAAEBRQAAAAAAAAEdAAAAAAAAAVkAAAAAAAEBcQAAAAAAAgFRAAAAAAACATkAAAAAAAAA8QAAAAAAAADJAAAAAAAAAIkAAAAAAAAAUQAAAAAAAABhAAAAAAAAAKkAAAAAAAAAcQA==\"},\"shape\":[41],\"dtype\":\"float64\",\"order\":\"little\"}],[\"unknown\",{\"type\":\"ndarray\",\"array\":{\"type\":\"bytes\",\"data\":\"AAAAAAAAEEAAAAAAAAAkQAAAAAAAABxAAAAAAAAAKkAAAAAAAAAkQAAAAAAAACpAAAAAAAAAJkAAAAAAAAAqQAAAAAAAABhAAAAAAAAAEEAAAAAAAAAcQAAAAAAAACJAAAAAAAAAJkAAAAAAAAAIQAAAAAAAABxAAAAAAAAAGEAAAAAAAAAiQAAAAAAAABRAAAAAAAAAEEAAAAAAAAAUQAAAAAAAACBAAAAAAAAAJEAAAAAAAAAUQAAAAAAAACJAAAAAAAAAM0AAAAAAAAAyQAAAAAAAAAhAAAAAAAAAGEAAAAAAAAAcQAAAAAAAABhAAAAAAAAAM0AAAAAAAABHQAAAAAAAADtAAAAAAAAAPEAAAAAAAAAoQAAAAAAAACBAAAAAAAAAGEAAAAAAAAAcQAAAAAAAADNAAAAAAACAQUAAAAAAAAA4QA==\"},\"shape\":[41],\"dtype\":\"float64\",\"order\":\"little\"}]]}}},\"view\":{\"type\":\"object\",\"name\":\"CDSView\",\"id\":\"p1567\",\"attributes\":{\"filter\":{\"type\":\"object\",\"name\":\"AllIndices\",\"id\":\"p1568\"}}},\"glyph\":{\"type\":\"object\",\"name\":\"VArea\",\"id\":\"p1563\",\"attributes\":{\"x\":{\"type\":\"field\",\"field\":\"flight_date\"},\"y1\":{\"type\":\"expr\",\"expr\":{\"type\":\"object\",\"name\":\"Stack\",\"id\":\"p1548\",\"attributes\":{\"fields\":[]}}},\"y2\":{\"type\":\"expr\",\"expr\":{\"type\":\"object\",\"name\":\"Stack\",\"id\":\"p1549\",\"attributes\":{\"fields\":[\"active\"]}}},\"fill_color\":\"#3288bd\",\"hatch_color\":{\"type\":\"value\",\"value\":\"#3288bd\"}}},\"nonselection_glyph\":{\"type\":\"object\",\"name\":\"VArea\",\"id\":\"p1564\",\"attributes\":{\"x\":{\"type\":\"field\",\"field\":\"flight_date\"},\"y1\":{\"type\":\"expr\",\"expr\":{\"id\":\"p1548\"}},\"y2\":{\"type\":\"expr\",\"expr\":{\"id\":\"p1549\"}},\"fill_color\":\"#3288bd\",\"fill_alpha\":0.1,\"hatch_color\":{\"type\":\"value\",\"value\":\"#3288bd\"},\"hatch_alpha\":{\"type\":\"value\",\"value\":0.1}}},\"muted_glyph\":{\"type\":\"object\",\"name\":\"VArea\",\"id\":\"p1565\",\"attributes\":{\"x\":{\"type\":\"field\",\"field\":\"flight_date\"},\"y1\":{\"type\":\"expr\",\"expr\":{\"id\":\"p1548\"}},\"y2\":{\"type\":\"expr\",\"expr\":{\"id\":\"p1549\"}},\"fill_color\":\"#3288bd\",\"fill_alpha\":0.2,\"hatch_color\":{\"type\":\"value\",\"value\":\"#3288bd\"},\"hatch_alpha\":{\"type\":\"value\",\"value\":0.2}}}}},{\"type\":\"object\",\"name\":\"GlyphRenderer\",\"id\":\"p1577\",\"attributes\":{\"name\":\"cancelled\",\"data_source\":{\"id\":\"p1502\"},\"view\":{\"type\":\"object\",\"name\":\"CDSView\",\"id\":\"p1578\",\"attributes\":{\"filter\":{\"type\":\"object\",\"name\":\"AllIndices\",\"id\":\"p1579\"}}},\"glyph\":{\"type\":\"object\",\"name\":\"VArea\",\"id\":\"p1574\",\"attributes\":{\"x\":{\"type\":\"field\",\"field\":\"flight_date\"},\"y1\":{\"type\":\"expr\",\"expr\":{\"type\":\"object\",\"name\":\"Stack\",\"id\":\"p1550\",\"attributes\":{\"fields\":[\"active\"]}}},\"y2\":{\"type\":\"expr\",\"expr\":{\"type\":\"object\",\"name\":\"Stack\",\"id\":\"p1551\",\"attributes\":{\"fields\":[\"active\",\"cancelled\"]}}},\"fill_color\":\"#99d594\",\"hatch_color\":{\"type\":\"value\",\"value\":\"#99d594\"}}},\"nonselection_glyph\":{\"type\":\"object\",\"name\":\"VArea\",\"id\":\"p1575\",\"attributes\":{\"x\":{\"type\":\"field\",\"field\":\"flight_date\"},\"y1\":{\"type\":\"expr\",\"expr\":{\"id\":\"p1550\"}},\"y2\":{\"type\":\"expr\",\"expr\":{\"id\":\"p1551\"}},\"fill_color\":\"#99d594\",\"fill_alpha\":0.1,\"hatch_color\":{\"type\":\"value\",\"value\":\"#99d594\"},\"hatch_alpha\":{\"type\":\"value\",\"value\":0.1}}},\"muted_glyph\":{\"type\":\"object\",\"name\":\"VArea\",\"id\":\"p1576\",\"attributes\":{\"x\":{\"type\":\"field\",\"field\":\"flight_date\"},\"y1\":{\"type\":\"expr\",\"expr\":{\"id\":\"p1550\"}},\"y2\":{\"type\":\"expr\",\"expr\":{\"id\":\"p1551\"}},\"fill_color\":\"#99d594\",\"fill_alpha\":0.2,\"hatch_color\":{\"type\":\"value\",\"value\":\"#99d594\"},\"hatch_alpha\":{\"type\":\"value\",\"value\":0.2}}}}},{\"type\":\"object\",\"name\":\"GlyphRenderer\",\"id\":\"p1587\",\"attributes\":{\"name\":\"diverted\",\"data_source\":{\"id\":\"p1502\"},\"view\":{\"type\":\"object\",\"name\":\"CDSView\",\"id\":\"p1588\",\"attributes\":{\"filter\":{\"type\":\"object\",\"name\":\"AllIndices\",\"id\":\"p1589\"}}},\"glyph\":{\"type\":\"object\",\"name\":\"VArea\",\"id\":\"p1584\",\"attributes\":{\"x\":{\"type\":\"field\",\"field\":\"flight_date\"},\"y1\":{\"type\":\"expr\",\"expr\":{\"type\":\"object\",\"name\":\"Stack\",\"id\":\"p1552\",\"attributes\":{\"fields\":[\"active\",\"cancelled\"]}}},\"y2\":{\"type\":\"expr\",\"expr\":{\"type\":\"object\",\"name\":\"Stack\",\"id\":\"p1553\",\"attributes\":{\"fields\":[\"active\",\"cancelled\",\"diverted\"]}}},\"fill_color\":\"#e6f598\",\"hatch_color\":{\"type\":\"value\",\"value\":\"#e6f598\"}}},\"nonselection_glyph\":{\"type\":\"object\",\"name\":\"VArea\",\"id\":\"p1585\",\"attributes\":{\"x\":{\"type\":\"field\",\"field\":\"flight_date\"},\"y1\":{\"type\":\"expr\",\"expr\":{\"id\":\"p1552\"}},\"y2\":{\"type\":\"expr\",\"expr\":{\"id\":\"p1553\"}},\"fill_color\":\"#e6f598\",\"fill_alpha\":0.1,\"hatch_color\":{\"type\":\"value\",\"value\":\"#e6f598\"},\"hatch_alpha\":{\"type\":\"value\",\"value\":0.1}}},\"muted_glyph\":{\"type\":\"object\",\"name\":\"VArea\",\"id\":\"p1586\",\"attributes\":{\"x\":{\"type\":\"field\",\"field\":\"flight_date\"},\"y1\":{\"type\":\"expr\",\"expr\":{\"id\":\"p1552\"}},\"y2\":{\"type\":\"expr\",\"expr\":{\"id\":\"p1553\"}},\"fill_color\":\"#e6f598\",\"fill_alpha\":0.2,\"hatch_color\":{\"type\":\"value\",\"value\":\"#e6f598\"},\"hatch_alpha\":{\"type\":\"value\",\"value\":0.2}}}}},{\"type\":\"object\",\"name\":\"GlyphRenderer\",\"id\":\"p1597\",\"attributes\":{\"name\":\"landed\",\"data_source\":{\"id\":\"p1502\"},\"view\":{\"type\":\"object\",\"name\":\"CDSView\",\"id\":\"p1598\",\"attributes\":{\"filter\":{\"type\":\"object\",\"name\":\"AllIndices\",\"id\":\"p1599\"}}},\"glyph\":{\"type\":\"object\",\"name\":\"VArea\",\"id\":\"p1594\",\"attributes\":{\"x\":{\"type\":\"field\",\"field\":\"flight_date\"},\"y1\":{\"type\":\"expr\",\"expr\":{\"type\":\"object\",\"name\":\"Stack\",\"id\":\"p1554\",\"attributes\":{\"fields\":[\"active\",\"cancelled\",\"diverted\"]}}},\"y2\":{\"type\":\"expr\",\"expr\":{\"type\":\"object\",\"name\":\"Stack\",\"id\":\"p1555\",\"attributes\":{\"fields\":[\"active\",\"cancelled\",\"diverted\",\"landed\"]}}},\"fill_color\":\"#fee08b\",\"hatch_color\":{\"type\":\"value\",\"value\":\"#fee08b\"}}},\"nonselection_glyph\":{\"type\":\"object\",\"name\":\"VArea\",\"id\":\"p1595\",\"attributes\":{\"x\":{\"type\":\"field\",\"field\":\"flight_date\"},\"y1\":{\"type\":\"expr\",\"expr\":{\"id\":\"p1554\"}},\"y2\":{\"type\":\"expr\",\"expr\":{\"id\":\"p1555\"}},\"fill_color\":\"#fee08b\",\"fill_alpha\":0.1,\"hatch_color\":{\"type\":\"value\",\"value\":\"#fee08b\"},\"hatch_alpha\":{\"type\":\"value\",\"value\":0.1}}},\"muted_glyph\":{\"type\":\"object\",\"name\":\"VArea\",\"id\":\"p1596\",\"attributes\":{\"x\":{\"type\":\"field\",\"field\":\"flight_date\"},\"y1\":{\"type\":\"expr\",\"expr\":{\"id\":\"p1554\"}},\"y2\":{\"type\":\"expr\",\"expr\":{\"id\":\"p1555\"}},\"fill_color\":\"#fee08b\",\"fill_alpha\":0.2,\"hatch_color\":{\"type\":\"value\",\"value\":\"#fee08b\"},\"hatch_alpha\":{\"type\":\"value\",\"value\":0.2}}}}},{\"type\":\"object\",\"name\":\"GlyphRenderer\",\"id\":\"p1607\",\"attributes\":{\"name\":\"scheduled\",\"data_source\":{\"id\":\"p1502\"},\"view\":{\"type\":\"object\",\"name\":\"CDSView\",\"id\":\"p1608\",\"attributes\":{\"filter\":{\"type\":\"object\",\"name\":\"AllIndices\",\"id\":\"p1609\"}}},\"glyph\":{\"type\":\"object\",\"name\":\"VArea\",\"id\":\"p1604\",\"attributes\":{\"x\":{\"type\":\"field\",\"field\":\"flight_date\"},\"y1\":{\"type\":\"expr\",\"expr\":{\"type\":\"object\",\"name\":\"Stack\",\"id\":\"p1556\",\"attributes\":{\"fields\":[\"active\",\"cancelled\",\"diverted\",\"landed\"]}}},\"y2\":{\"type\":\"expr\",\"expr\":{\"type\":\"object\",\"name\":\"Stack\",\"id\":\"p1557\",\"attributes\":{\"fields\":[\"active\",\"cancelled\",\"diverted\",\"landed\",\"scheduled\"]}}},\"fill_color\":\"#fc8d59\",\"hatch_color\":{\"type\":\"value\",\"value\":\"#fc8d59\"}}},\"nonselection_glyph\":{\"type\":\"object\",\"name\":\"VArea\",\"id\":\"p1605\",\"attributes\":{\"x\":{\"type\":\"field\",\"field\":\"flight_date\"},\"y1\":{\"type\":\"expr\",\"expr\":{\"id\":\"p1556\"}},\"y2\":{\"type\":\"expr\",\"expr\":{\"id\":\"p1557\"}},\"fill_color\":\"#fc8d59\",\"fill_alpha\":0.1,\"hatch_color\":{\"type\":\"value\",\"value\":\"#fc8d59\"},\"hatch_alpha\":{\"type\":\"value\",\"value\":0.1}}},\"muted_glyph\":{\"type\":\"object\",\"name\":\"VArea\",\"id\":\"p1606\",\"attributes\":{\"x\":{\"type\":\"field\",\"field\":\"flight_date\"},\"y1\":{\"type\":\"expr\",\"expr\":{\"id\":\"p1556\"}},\"y2\":{\"type\":\"expr\",\"expr\":{\"id\":\"p1557\"}},\"fill_color\":\"#fc8d59\",\"fill_alpha\":0.2,\"hatch_color\":{\"type\":\"value\",\"value\":\"#fc8d59\"},\"hatch_alpha\":{\"type\":\"value\",\"value\":0.2}}}}},{\"type\":\"object\",\"name\":\"GlyphRenderer\",\"id\":\"p1617\",\"attributes\":{\"name\":\"unknown\",\"data_source\":{\"id\":\"p1502\"},\"view\":{\"type\":\"object\",\"name\":\"CDSView\",\"id\":\"p1618\",\"attributes\":{\"filter\":{\"type\":\"object\",\"name\":\"AllIndices\",\"id\":\"p1619\"}}},\"glyph\":{\"type\":\"object\",\"name\":\"VArea\",\"id\":\"p1614\",\"attributes\":{\"x\":{\"type\":\"field\",\"field\":\"flight_date\"},\"y1\":{\"type\":\"expr\",\"expr\":{\"type\":\"object\",\"name\":\"Stack\",\"id\":\"p1558\",\"attributes\":{\"fields\":[\"active\",\"cancelled\",\"diverted\",\"landed\",\"scheduled\"]}}},\"y2\":{\"type\":\"expr\",\"expr\":{\"type\":\"object\",\"name\":\"Stack\",\"id\":\"p1559\",\"attributes\":{\"fields\":[\"active\",\"cancelled\",\"diverted\",\"landed\",\"scheduled\",\"unknown\"]}}},\"fill_color\":\"#d53e4f\",\"hatch_color\":{\"type\":\"value\",\"value\":\"#d53e4f\"}}},\"nonselection_glyph\":{\"type\":\"object\",\"name\":\"VArea\",\"id\":\"p1615\",\"attributes\":{\"x\":{\"type\":\"field\",\"field\":\"flight_date\"},\"y1\":{\"type\":\"expr\",\"expr\":{\"id\":\"p1558\"}},\"y2\":{\"type\":\"expr\",\"expr\":{\"id\":\"p1559\"}},\"fill_color\":\"#d53e4f\",\"fill_alpha\":0.1,\"hatch_color\":{\"type\":\"value\",\"value\":\"#d53e4f\"},\"hatch_alpha\":{\"type\":\"value\",\"value\":0.1}}},\"muted_glyph\":{\"type\":\"object\",\"name\":\"VArea\",\"id\":\"p1616\",\"attributes\":{\"x\":{\"type\":\"field\",\"field\":\"flight_date\"},\"y1\":{\"type\":\"expr\",\"expr\":{\"id\":\"p1558\"}},\"y2\":{\"type\":\"expr\",\"expr\":{\"id\":\"p1559\"}},\"fill_color\":\"#d53e4f\",\"fill_alpha\":0.2,\"hatch_color\":{\"type\":\"value\",\"value\":\"#d53e4f\"},\"hatch_alpha\":{\"type\":\"value\",\"value\":0.2}}}}},{\"type\":\"object\",\"name\":\"GlyphRenderer\",\"id\":\"p1627\",\"attributes\":{\"data_source\":{\"type\":\"object\",\"name\":\"ColumnDataSource\",\"id\":\"p1621\",\"attributes\":{\"selected\":{\"type\":\"object\",\"name\":\"Selection\",\"id\":\"p1622\",\"attributes\":{\"indices\":[],\"line_indices\":[]}},\"selection_policy\":{\"type\":\"object\",\"name\":\"UnionRenderers\",\"id\":\"p1623\"},\"data\":{\"type\":\"map\",\"entries\":[[\"x\",{\"type\":\"ndarray\",\"array\":{\"type\":\"bytes\",\"data\":\"AADAgRPOeEIAAABKVNB4QgAAQBKV0nhCAACA2tXUeEIAAMCiFtd4QgAAAGtX2XhCAABAM5jbeEIAAID72N14QgAAwMMZ4HhCAAAAjFrieEIAAEBUm+R4QgAAgBzc5nhCAADA5BzpeEIAAACtXet4QgAAQHWe7XhCAACAPd/veEIAAMAFIPJ4QgAAAM5g9HhCAABAlqH2eEIAAIBe4vh4QgAAwCYj+3hCAAAA72P9eEIAAEC3pP94QgAAgH/lAXlCAADARyYEeUIAAAAQZwZ5QgAAQNinCHlCAACAoOgKeUIAAMBoKQ15QgAAADFqD3lCAABA+aoReUIAAIDB6xN5QgAAwIksFnlCAAAAUm0YeUIAAEAarhp5QgAAgOLuHHlCAADAqi8feUIAAABzcCF5QgAAQDuxI3lCAACAA/IleUI=\"},\"shape\":[40],\"dtype\":\"float64\",\"order\":\"little\"}],[\"y\",{\"type\":\"ndarray\",\"array\":{\"type\":\"bytes\",\"data\":\"kQAAAJkAAACjAAAAugAAAL8AAADaAAAA1wAAAK4AAADLAAAAtgAAALYAAACfAAAApAAAAJEAAACeAAAAnwAAAJ4AAACOAAAAmQAAAI0AAAChAAAAnwAAAK4AAACaAAAAiwAAAI8AAAC3AAAArAAAAKMAAACFAAAAiQAAAJ8AAACdAAAABQEAAKoAAACrAAAAyAAAAGsBAACkAwAACwIAAA==\"},\"shape\":[40],\"dtype\":\"int32\",\"order\":\"little\"}]]}}},\"view\":{\"type\":\"object\",\"name\":\"CDSView\",\"id\":\"p1628\",\"attributes\":{\"filter\":{\"type\":\"object\",\"name\":\"AllIndices\",\"id\":\"p1629\"}}},\"glyph\":{\"type\":\"object\",\"name\":\"Line\",\"id\":\"p1624\",\"attributes\":{\"x\":{\"type\":\"field\",\"field\":\"x\"},\"y\":{\"type\":\"field\",\"field\":\"y\"},\"line_width\":2}},\"nonselection_glyph\":{\"type\":\"object\",\"name\":\"Line\",\"id\":\"p1625\",\"attributes\":{\"x\":{\"type\":\"field\",\"field\":\"x\"},\"y\":{\"type\":\"field\",\"field\":\"y\"},\"line_alpha\":0.1,\"line_width\":2}},\"muted_glyph\":{\"type\":\"object\",\"name\":\"Line\",\"id\":\"p1626\",\"attributes\":{\"x\":{\"type\":\"field\",\"field\":\"x\"},\"y\":{\"type\":\"field\",\"field\":\"y\"},\"line_alpha\":0.2,\"line_width\":2}}}},{\"type\":\"object\",\"name\":\"Span\",\"id\":\"p1634\",\"attributes\":{\"location\":1713052800000.0,\"dimension\":\"height\",\"line_color\":\"#C6C6C6\",\"line_width\":2,\"line_dash\":[4,4]}},{\"type\":\"object\",\"name\":\"Span\",\"id\":\"p1636\",\"attributes\":{\"location\":1724544000000.0,\"dimension\":\"height\",\"line_color\":\"#C6C6C6\",\"line_width\":2,\"line_dash\":[4,4]}},{\"type\":\"object\",\"name\":\"Span\",\"id\":\"p1638\",\"attributes\":{\"location\":1727049600000.0,\"dimension\":\"height\",\"line_color\":\"#C6C6C6\",\"line_width\":2,\"line_dash\":[4,4]}}],\"toolbar\":{\"type\":\"object\",\"name\":\"Toolbar\",\"id\":\"p1514\",\"attributes\":{\"tools\":[{\"type\":\"object\",\"name\":\"PanTool\",\"id\":\"p1539\"},{\"type\":\"object\",\"name\":\"BoxZoomTool\",\"id\":\"p1540\",\"attributes\":{\"overlay\":{\"type\":\"object\",\"name\":\"BoxAnnotation\",\"id\":\"p1541\",\"attributes\":{\"syncable\":false,\"level\":\"overlay\",\"visible\":false,\"left\":{\"type\":\"number\",\"value\":\"nan\"},\"right\":{\"type\":\"number\",\"value\":\"nan\"},\"top\":{\"type\":\"number\",\"value\":\"nan\"},\"bottom\":{\"type\":\"number\",\"value\":\"nan\"},\"left_units\":\"canvas\",\"right_units\":\"canvas\",\"top_units\":\"canvas\",\"bottom_units\":\"canvas\",\"line_color\":\"black\",\"line_alpha\":1.0,\"line_width\":2,\"line_dash\":[4,4],\"fill_color\":\"lightgrey\",\"fill_alpha\":0.5}}}},{\"type\":\"object\",\"name\":\"ResetTool\",\"id\":\"p1546\"},{\"type\":\"object\",\"name\":\"SaveTool\",\"id\":\"p1547\"}]}},\"toolbar_location\":\"above\",\"left\":[{\"type\":\"object\",\"name\":\"LinearAxis\",\"id\":\"p1534\",\"attributes\":{\"ticker\":{\"type\":\"object\",\"name\":\"BasicTicker\",\"id\":\"p1535\",\"attributes\":{\"mantissas\":[1,2,5]}},\"formatter\":{\"type\":\"object\",\"name\":\"BasicTickFormatter\",\"id\":\"p1536\"},\"axis_label\":\"Nr Flights\",\"major_label_policy\":{\"type\":\"object\",\"name\":\"AllLabels\",\"id\":\"p1537\"}}}],\"below\":[{\"type\":\"object\",\"name\":\"DatetimeAxis\",\"id\":\"p1517\",\"attributes\":{\"ticker\":{\"type\":\"object\",\"name\":\"FixedTicker\",\"id\":\"p1632\",\"attributes\":{\"ticks\":[1704585600000.0,1705795200000.0,1707004800000.0,1708214400000.0,1709424000000.0,1710633600000.0,1711843200000.0,1713052800000.0,1714262400000.0,1715472000000.0,1716681600000.0,1717891200000.0,1719100800000.0,1720310400000.0,1721520000000.0,1722729600000.0,1723939200000.0,1725148800000.0,1726358400000.0,1727568000000.0,1728777600000.0],\"minor_ticks\":[]}},\"formatter\":{\"type\":\"object\",\"name\":\"DatetimeTickFormatter\",\"id\":\"p1631\",\"attributes\":{\"days\":\"%d %b %Y\",\"months\":\"%b %Y\"}},\"axis_label\":\"Flight Date\",\"major_label_orientation\":1.2,\"major_label_policy\":{\"type\":\"object\",\"name\":\"AllLabels\",\"id\":\"p1532\"}}},{\"type\":\"object\",\"name\":\"Label\",\"id\":\"p1633\",\"attributes\":{\"text\":\"Source: Flight data from AviationStack and conflict events from ACLED\",\"text_color\":\"gray\",\"text_font_size\":\"10pt\",\"x\":0,\"y\":0,\"x_units\":\"screen\",\"y_units\":\"screen\"}}],\"center\":[{\"type\":\"object\",\"name\":\"Grid\",\"id\":\"p1533\",\"attributes\":{\"axis\":{\"id\":\"p1517\"}}},{\"type\":\"object\",\"name\":\"Grid\",\"id\":\"p1538\",\"attributes\":{\"dimension\":1,\"axis\":{\"id\":\"p1534\"}}},{\"type\":\"object\",\"name\":\"Legend\",\"id\":\"p1569\",\"attributes\":{\"location\":\"top_left\",\"orientation\":\"horizontal\",\"click_policy\":\"mute\",\"items\":[{\"type\":\"object\",\"name\":\"LegendItem\",\"id\":\"p1570\",\"attributes\":{\"label\":{\"type\":\"value\",\"value\":\"active\"},\"renderers\":[{\"id\":\"p1566\"}]}},{\"type\":\"object\",\"name\":\"LegendItem\",\"id\":\"p1580\",\"attributes\":{\"label\":{\"type\":\"value\",\"value\":\"cancelled\"},\"renderers\":[{\"id\":\"p1577\"}]}},{\"type\":\"object\",\"name\":\"LegendItem\",\"id\":\"p1590\",\"attributes\":{\"label\":{\"type\":\"value\",\"value\":\"diverted\"},\"renderers\":[{\"id\":\"p1587\"}]}},{\"type\":\"object\",\"name\":\"LegendItem\",\"id\":\"p1600\",\"attributes\":{\"label\":{\"type\":\"value\",\"value\":\"landed\"},\"renderers\":[{\"id\":\"p1597\"}]}},{\"type\":\"object\",\"name\":\"LegendItem\",\"id\":\"p1610\",\"attributes\":{\"label\":{\"type\":\"value\",\"value\":\"scheduled\"},\"renderers\":[{\"id\":\"p1607\"}]}},{\"type\":\"object\",\"name\":\"LegendItem\",\"id\":\"p1620\",\"attributes\":{\"label\":{\"type\":\"value\",\"value\":\"unknown\"},\"renderers\":[{\"id\":\"p1617\"}]}},{\"type\":\"object\",\"name\":\"LegendItem\",\"id\":\"p1630\",\"attributes\":{\"label\":{\"type\":\"value\",\"value\":\"Number of Conflict Events\"},\"renderers\":[{\"id\":\"p1627\"}]}}]}},{\"type\":\"object\",\"name\":\"Label\",\"id\":\"p1635\",\"attributes\":{\"text\":\"Temporary shutdown of\\nLebanese airspace between\\n7AM and 1PM\",\"text_color\":\"black\",\"text_font_size\":\"10pt\",\"text_align\":\"right\",\"background_fill_color\":\"grey\",\"background_fill_alpha\":0.2,\"x\":1713052800000.0,\"y\":905.6,\"x_offset\":-5}},{\"type\":\"object\",\"name\":\"Label\",\"id\":\"p1637\",\"attributes\":{\"text\":\"Israeli strikes in\\nSouthern Lebanon\",\"text_color\":\"black\",\"text_font_size\":\"10pt\",\"text_align\":\"right\",\"background_fill_color\":\"grey\",\"background_fill_alpha\":0.2,\"x\":1724544000000.0,\"y\":815.04,\"x_offset\":-5}},{\"type\":\"object\",\"name\":\"Label\",\"id\":\"p1639\",\"attributes\":{\"text\":\"Start of the full blown conflict\",\"text_color\":\"black\",\"text_font_size\":\"10pt\",\"text_align\":\"right\",\"background_fill_color\":\"grey\",\"background_fill_alpha\":0.2,\"x\":1727049600000.0,\"y\":724.48,\"x_offset\":-5}}]}}]}};\n  const render_items = [{\"docid\":\"ffdf9df3-2f9b-4673-85c1-783dfaf488cd\",\"roots\":{\"p1505\":\"a7a44f94-5557-4b07-9501-f800c687708f\"},\"root_ids\":[\"p1505\"]}];\n  void root.Bokeh.embed.embed_items_notebook(docs_json, render_items);\n  }\n  if (root.Bokeh !== undefined) {\n    embed_document(root);\n  } else {\n    let attempts = 0;\n    const timer = setInterval(function(root) {\n      if (root.Bokeh !== undefined) {\n        clearInterval(timer);\n        embed_document(root);\n      } else {\n        attempts++;\n        if (attempts > 100) {\n          clearInterval(timer);\n          console.log(\"Bokeh: ERROR: Unable to run BokehJS code because BokehJS library is missing\");\n        }\n      }\n    }, 10, root)\n  }\n})(window);",
      "application/vnd.bokehjs_exec.v0+json": ""
     },
     "metadata": {
      "application/vnd.bokehjs_exec.v0+json": {
       "id": "p1505"
      }
     },
     "output_type": "display_data"
    }
   ],
   "source": [
    "output_notebook()  # Display plots inline in a Jupyter notebook\n",
    "\n",
    "departures_exploded[\"flight_date\"] = departures_exploded[\"flight_date\"].apply(\n",
    "    lambda x: pd.to_datetime(x)\n",
    ")\n",
    "df = (\n",
    "    departures_exploded.groupby(\n",
    "        [pd.Grouper(key=\"flight_date\", freq=\"W\"), \"flight_status\"]\n",
    "    )\n",
    "    .count()[[\"iata_arr\"]]\n",
    "    .reset_index()\n",
    ")\n",
    "\n",
    "show(\n",
    "    get_area_plot(\n",
    "        df,\n",
    "        \"Weekly Departures from BEY\",\n",
    "        \"Source: Flight data from AviationStack and conflict events from ACLED\",\n",
    "        acled_events_weekly,\n",
    "        reindex_freq=\"W\",\n",
    "        events_dict=events,\n",
    "    )\n",
    ")"
   ]
  },
  {
   "cell_type": "code",
   "execution_count": 23,
   "metadata": {
    "tags": [
     "remove-cell"
    ]
   },
   "outputs": [],
   "source": [
    "arrivals = pd.concat(\n",
    "    [\n",
    "        pd.read_csv(\"../../data/aviation/aviationstack_bey_25082024_01012024_arr2.csv\"),\n",
    "        pd.read_csv(\"../../data/aviation/aviationstack_bey_26082024_01012024_arr.csv\"),\n",
    "        pd.read_csv(\"../../data/aviation/aviationstack_bey_15082024_07102024_arr.csv\"),\n",
    "        pd.read_csv(\"../../data/aviation/aviationstack_bey_15082024_07102024_arr2.csv\"),\n",
    "    ]\n",
    ")\n",
    "arrivals.drop(columns=\"Unnamed: 0\", inplace=True)\n",
    "arrivals.drop_duplicates(inplace=True)\n",
    "arrivals.reset_index(drop=True, inplace=True)"
   ]
  },
  {
   "cell_type": "code",
   "execution_count": 24,
   "metadata": {
    "tags": [
     "remove-cell",
     "remove-input"
    ]
   },
   "outputs": [
    {
     "name": "stdout",
     "output_type": "stream",
     "text": [
      "Flights for the following dates are missing in the data, reasons are unknown.: DatetimeIndex(['2024-01-29', '2024-01-30', '2024-04-29', '2024-06-07',\n",
      "               '2024-06-08', '2024-06-09'],\n",
      "              dtype='datetime64[ns]', freq=None)\n"
     ]
    }
   ],
   "source": [
    "import pandas as pd\n",
    "\n",
    "df = arrivals\n",
    "# Assuming df is your DataFrame and 'flight_date' is the column with the dates\n",
    "df[\"flight_date\"] = pd.to_datetime(\n",
    "    df[\"flight_date\"]\n",
    ")  # Ensure 'flight_date' is in datetime format\n",
    "\n",
    "# Generate the complete date range from the minimum to the maximum date\n",
    "complete_date_range = pd.date_range(\n",
    "    start=df[\"flight_date\"].min(), end=df[\"flight_date\"].max()\n",
    ")\n",
    "\n",
    "# Find missing dates by comparing the complete date range with the dates in the DataFrame\n",
    "missing_dates = complete_date_range.difference(df[\"flight_date\"])\n",
    "\n",
    "if missing_dates.empty:\n",
    "    print(\"All dates are present.\")\n",
    "else:\n",
    "    print(\n",
    "        f\"Flights for the following dates are missing in the data, reasons are unknown.: {missing_dates}\"\n",
    "    )"
   ]
  },
  {
   "cell_type": "code",
   "execution_count": 25,
   "metadata": {
    "tags": [
     "remove-cell"
    ]
   },
   "outputs": [],
   "source": [
    "arrivals_exploded = explode(arrivals)"
   ]
  },
  {
   "cell_type": "code",
   "execution_count": 26,
   "metadata": {
    "tags": [
     "remove-cell"
    ]
   },
   "outputs": [
    {
     "name": "stdout",
     "output_type": "stream",
     "text": [
      "There were 34408 flights before duplication check\n",
      "There are 20474 flights after duplication check. 13934 flights were duplicated\n"
     ]
    }
   ],
   "source": [
    "before = arrivals_exploded.shape[0]\n",
    "print(f\"There were {before} flights before duplication check\")\n",
    "# check for duplicate flights i.e., flights scheduled to take off at the exact same time from the same place to the same destination\n",
    "arrivals_exploded = arrivals_exploded.drop_duplicates(\n",
    "    subset=[\"flight_date\", \"scheduled_arr\", \"iata_arr\", \"iata_dep\", \"scheduled_dep\"]\n",
    ")\n",
    "\n",
    "after = arrivals_exploded.shape[0]\n",
    "print(\n",
    "    f\"There are {after} flights after duplication check. {before-after} flights were duplicated\"\n",
    ")"
   ]
  },
  {
   "cell_type": "code",
   "execution_count": 27,
   "metadata": {
    "tags": [
     "remove-cell"
    ]
   },
   "outputs": [
    {
     "data": {
      "text/html": [
       "<div>\n",
       "<style scoped>\n",
       "    .dataframe tbody tr th:only-of-type {\n",
       "        vertical-align: middle;\n",
       "    }\n",
       "\n",
       "    .dataframe tbody tr th {\n",
       "        vertical-align: top;\n",
       "    }\n",
       "\n",
       "    .dataframe thead th {\n",
       "        text-align: right;\n",
       "    }\n",
       "</style>\n",
       "<table border=\"1\" class=\"dataframe\">\n",
       "  <thead>\n",
       "    <tr style=\"text-align: right;\">\n",
       "      <th></th>\n",
       "      <th>flight_date</th>\n",
       "      <th>scheduled_arr</th>\n",
       "      <th>iata_arr</th>\n",
       "      <th>iata_dep</th>\n",
       "      <th>scheduled_dep</th>\n",
       "      <th>flight_status</th>\n",
       "    </tr>\n",
       "  </thead>\n",
       "  <tbody>\n",
       "  </tbody>\n",
       "</table>\n",
       "</div>"
      ],
      "text/plain": [
       "Empty DataFrame\n",
       "Columns: [flight_date, scheduled_arr, iata_arr, iata_dep, scheduled_dep, flight_status]\n",
       "Index: []"
      ]
     },
     "execution_count": 27,
     "metadata": {},
     "output_type": "execute_result"
    }
   ],
   "source": [
    "# Test to see if any flight has more than one flight status assoctaed with it.\n",
    "duplicate_status_test = (\n",
    "    arrivals_exploded.groupby(\n",
    "        [\"flight_date\", \"scheduled_arr\", \"iata_arr\", \"iata_dep\", \"scheduled_dep\"]\n",
    "    )[[\"flight_status\"]]\n",
    "    .count()\n",
    "    .reset_index()\n",
    ")\n",
    "duplicate_status_test[duplicate_status_test[\"flight_status\"] > 1]"
   ]
  },
  {
   "cell_type": "code",
   "execution_count": 28,
   "metadata": {
    "tags": [
     "remove-cell"
    ]
   },
   "outputs": [
    {
     "data": {
      "text/plain": [
       "86"
      ]
     },
     "execution_count": 28,
     "metadata": {},
     "output_type": "execute_result"
    }
   ],
   "source": [
    "arrivals_exploded[arrivals_exploded[\"iata_dep\"] == \"BEY\"].shape[0]"
   ]
  },
  {
   "cell_type": "code",
   "execution_count": 29,
   "metadata": {
    "tags": [
     "remove-input"
    ]
   },
   "outputs": [
    {
     "data": {
      "text/html": [
       "    <style>\n",
       "        .bk-notebook-logo {\n",
       "            display: block;\n",
       "            width: 20px;\n",
       "            height: 20px;\n",
       "            background-image: url(data:image/png;base64,iVBORw0KGgoAAAANSUhEUgAAABQAAAAUCAYAAACNiR0NAAAABHNCSVQICAgIfAhkiAAAAAlwSFlzAAALEgAACxIB0t1+/AAAABx0RVh0U29mdHdhcmUAQWRvYmUgRmlyZXdvcmtzIENTNui8sowAAAOkSURBVDiNjZRtaJVlGMd/1/08zzln5zjP1LWcU9N0NkN8m2CYjpgQYQXqSs0I84OLIC0hkEKoPtiH3gmKoiJDU7QpLgoLjLIQCpEsNJ1vqUOdO7ppbuec5+V+rj4ctwzd8IIbbi6u+8f1539dt3A78eXC7QizUF7gyV1fD1Yqg4JWz84yffhm0qkFqBogB9rM8tZdtwVsPUhWhGcFJngGeWrPzHm5oaMmkfEg1usvLFyc8jLRqDOMru7AyC8saQr7GG7f5fvDeH7Ej8CM66nIF+8yngt6HWaKh7k49Soy9nXurCi1o3qUbS3zWfrYeQDTB/Qj6kX6Ybhw4B+bOYoLKCC9H3Nu/leUTZ1JdRWkkn2ldcCamzrcf47KKXdAJllSlxAOkRgyHsGC/zRday5Qld9DyoM4/q/rUoy/CXh3jzOu3bHUVZeU+DEn8FInkPBFlu3+nW3Nw0mk6vCDiWg8CeJaxEwuHS3+z5RgY+YBR6V1Z1nxSOfoaPa4LASWxxdNp+VWTk7+4vzaou8v8PN+xo+KY2xsw6une2frhw05CTYOmQvsEhjhWjn0bmXPjpE1+kplmmkP3suftwTubK9Vq22qKmrBhpY4jvd5afdRA3wGjFAgcnTK2s4hY0/GPNIb0nErGMCRxWOOX64Z8RAC4oCXdklmEvcL8o0BfkNK4lUg9HTl+oPlQxdNo3Mg4Nv175e/1LDGzZen30MEjRUtmXSfiTVu1kK8W4txyV6BMKlbgk3lMwYCiusNy9fVfvvwMxv8Ynl6vxoByANLTWplvuj/nF9m2+PDtt1eiHPBr1oIfhCChQMBw6Aw0UulqTKZdfVvfG7VcfIqLG9bcldL/+pdWTLxLUy8Qq38heUIjh4XlzZxzQm19lLFlr8vdQ97rjZVOLf8nclzckbcD4wxXMidpX30sFd37Fv/GtwwhzhxGVAprjbg0gCAEeIgwCZyTV2Z1REEW8O4py0wsjeloKoMr6iCY6dP92H6Vw/oTyICIthibxjm/DfN9lVz8IqtqKYLUXfoKVMVQVVJOElGjrnnUt9T9wbgp8AyYKaGlqingHZU/uG2NTZSVqwHQTWkx9hxjkpWDaCg6Ckj5qebgBVbT3V3NNXMSiWSDdGV3hrtzla7J+duwPOToIg42ChPQOQjspnSlp1V+Gjdged7+8UN5CRAV7a5EdFNwCjEaBR27b3W890TE7g24NAP/mMDXRWrGoFPQI9ls/MWO2dWFAar/xcOIImbbpA3zgAAAABJRU5ErkJggg==);\n",
       "        }\n",
       "    </style>\n",
       "    <div>\n",
       "        <a href=\"https://bokeh.org\" target=\"_blank\" class=\"bk-notebook-logo\"></a>\n",
       "        <span id=\"f1653e24-7d63-4020-8993-f43e4b30abea\">Loading BokehJS ...</span>\n",
       "    </div>\n"
      ]
     },
     "metadata": {},
     "output_type": "display_data"
    },
    {
     "data": {
      "application/javascript": "'use strict';\n(function(root) {\n  function now() {\n    return new Date();\n  }\n\n  const force = true;\n\n  if (typeof root._bokeh_onload_callbacks === \"undefined\" || force === true) {\n    root._bokeh_onload_callbacks = [];\n    root._bokeh_is_loading = undefined;\n  }\n\nconst JS_MIME_TYPE = 'application/javascript';\n  const HTML_MIME_TYPE = 'text/html';\n  const EXEC_MIME_TYPE = 'application/vnd.bokehjs_exec.v0+json';\n  const CLASS_NAME = 'output_bokeh rendered_html';\n\n  /**\n   * Render data to the DOM node\n   */\n  function render(props, node) {\n    const script = document.createElement(\"script\");\n    node.appendChild(script);\n  }\n\n  /**\n   * Handle when an output is cleared or removed\n   */\n  function handleClearOutput(event, handle) {\n    function drop(id) {\n      const view = Bokeh.index.get_by_id(id)\n      if (view != null) {\n        view.model.document.clear()\n        Bokeh.index.delete(view)\n      }\n    }\n\n    const cell = handle.cell;\n\n    const id = cell.output_area._bokeh_element_id;\n    const server_id = cell.output_area._bokeh_server_id;\n\n    // Clean up Bokeh references\n    if (id != null) {\n      drop(id)\n    }\n\n    if (server_id !== undefined) {\n      // Clean up Bokeh references\n      const cmd_clean = \"from bokeh.io.state import curstate; print(curstate().uuid_to_server['\" + server_id + \"'].get_sessions()[0].document.roots[0]._id)\";\n      cell.notebook.kernel.execute(cmd_clean, {\n        iopub: {\n          output: function(msg) {\n            const id = msg.content.text.trim()\n            drop(id)\n          }\n        }\n      });\n      // Destroy server and session\n      const cmd_destroy = \"import bokeh.io.notebook as ion; ion.destroy_server('\" + server_id + \"')\";\n      cell.notebook.kernel.execute(cmd_destroy);\n    }\n  }\n\n  /**\n   * Handle when a new output is added\n   */\n  function handleAddOutput(event, handle) {\n    const output_area = handle.output_area;\n    const output = handle.output;\n\n    // limit handleAddOutput to display_data with EXEC_MIME_TYPE content only\n    if ((output.output_type != \"display_data\") || (!Object.prototype.hasOwnProperty.call(output.data, EXEC_MIME_TYPE))) {\n      return\n    }\n\n    const toinsert = output_area.element.find(\".\" + CLASS_NAME.split(' ')[0]);\n\n    if (output.metadata[EXEC_MIME_TYPE][\"id\"] !== undefined) {\n      toinsert[toinsert.length - 1].firstChild.textContent = output.data[JS_MIME_TYPE];\n      // store reference to embed id on output_area\n      output_area._bokeh_element_id = output.metadata[EXEC_MIME_TYPE][\"id\"];\n    }\n    if (output.metadata[EXEC_MIME_TYPE][\"server_id\"] !== undefined) {\n      const bk_div = document.createElement(\"div\");\n      bk_div.innerHTML = output.data[HTML_MIME_TYPE];\n      const script_attrs = bk_div.children[0].attributes;\n      for (let i = 0; i < script_attrs.length; i++) {\n        toinsert[toinsert.length - 1].firstChild.setAttribute(script_attrs[i].name, script_attrs[i].value);\n        toinsert[toinsert.length - 1].firstChild.textContent = bk_div.children[0].textContent\n      }\n      // store reference to server id on output_area\n      output_area._bokeh_server_id = output.metadata[EXEC_MIME_TYPE][\"server_id\"];\n    }\n  }\n\n  function register_renderer(events, OutputArea) {\n\n    function append_mime(data, metadata, element) {\n      // create a DOM node to render to\n      const toinsert = this.create_output_subarea(\n        metadata,\n        CLASS_NAME,\n        EXEC_MIME_TYPE\n      );\n      this.keyboard_manager.register_events(toinsert);\n      // Render to node\n      const props = {data: data, metadata: metadata[EXEC_MIME_TYPE]};\n      render(props, toinsert[toinsert.length - 1]);\n      element.append(toinsert);\n      return toinsert\n    }\n\n    /* Handle when an output is cleared or removed */\n    events.on('clear_output.CodeCell', handleClearOutput);\n    events.on('delete.Cell', handleClearOutput);\n\n    /* Handle when a new output is added */\n    events.on('output_added.OutputArea', handleAddOutput);\n\n    /**\n     * Register the mime type and append_mime function with output_area\n     */\n    OutputArea.prototype.register_mime_type(EXEC_MIME_TYPE, append_mime, {\n      /* Is output safe? */\n      safe: true,\n      /* Index of renderer in `output_area.display_order` */\n      index: 0\n    });\n  }\n\n  // register the mime type if in Jupyter Notebook environment and previously unregistered\n  if (root.Jupyter !== undefined) {\n    const events = require('base/js/events');\n    const OutputArea = require('notebook/js/outputarea').OutputArea;\n\n    if (OutputArea.prototype.mime_types().indexOf(EXEC_MIME_TYPE) == -1) {\n      register_renderer(events, OutputArea);\n    }\n  }\n  if (typeof (root._bokeh_timeout) === \"undefined\" || force === true) {\n    root._bokeh_timeout = Date.now() + 5000;\n    root._bokeh_failed_load = false;\n  }\n\n  const NB_LOAD_WARNING = {'data': {'text/html':\n     \"<div style='background-color: #fdd'>\\n\"+\n     \"<p>\\n\"+\n     \"BokehJS does not appear to have successfully loaded. If loading BokehJS from CDN, this \\n\"+\n     \"may be due to a slow or bad network connection. Possible fixes:\\n\"+\n     \"</p>\\n\"+\n     \"<ul>\\n\"+\n     \"<li>re-rerun `output_notebook()` to attempt to load from CDN again, or</li>\\n\"+\n     \"<li>use INLINE resources instead, as so:</li>\\n\"+\n     \"</ul>\\n\"+\n     \"<code>\\n\"+\n     \"from bokeh.resources import INLINE\\n\"+\n     \"output_notebook(resources=INLINE)\\n\"+\n     \"</code>\\n\"+\n     \"</div>\"}};\n\n  function display_loaded(error = null) {\n    const el = document.getElementById(\"f1653e24-7d63-4020-8993-f43e4b30abea\");\n    if (el != null) {\n      const html = (() => {\n        if (typeof root.Bokeh === \"undefined\") {\n          if (error == null) {\n            return \"BokehJS is loading ...\";\n          } else {\n            return \"BokehJS failed to load.\";\n          }\n        } else {\n          const prefix = `BokehJS ${root.Bokeh.version}`;\n          if (error == null) {\n            return `${prefix} successfully loaded.`;\n          } else {\n            return `${prefix} <b>encountered errors</b> while loading and may not function as expected.`;\n          }\n        }\n      })();\n      el.innerHTML = html;\n\n      if (error != null) {\n        const wrapper = document.createElement(\"div\");\n        wrapper.style.overflow = \"auto\";\n        wrapper.style.height = \"5em\";\n        wrapper.style.resize = \"vertical\";\n        const content = document.createElement(\"div\");\n        content.style.fontFamily = \"monospace\";\n        content.style.whiteSpace = \"pre-wrap\";\n        content.style.backgroundColor = \"rgb(255, 221, 221)\";\n        content.textContent = error.stack ?? error.toString();\n        wrapper.append(content);\n        el.append(wrapper);\n      }\n    } else if (Date.now() < root._bokeh_timeout) {\n      setTimeout(() => display_loaded(error), 100);\n    }\n  }\n\n  function run_callbacks() {\n    try {\n      root._bokeh_onload_callbacks.forEach(function(callback) {\n        if (callback != null)\n          callback();\n      });\n    } finally {\n      delete root._bokeh_onload_callbacks\n    }\n    console.debug(\"Bokeh: all callbacks have finished\");\n  }\n\n  function load_libs(css_urls, js_urls, callback) {\n    if (css_urls == null) css_urls = [];\n    if (js_urls == null) js_urls = [];\n\n    root._bokeh_onload_callbacks.push(callback);\n    if (root._bokeh_is_loading > 0) {\n      console.debug(\"Bokeh: BokehJS is being loaded, scheduling callback at\", now());\n      return null;\n    }\n    if (js_urls == null || js_urls.length === 0) {\n      run_callbacks();\n      return null;\n    }\n    console.debug(\"Bokeh: BokehJS not loaded, scheduling load and callback at\", now());\n    root._bokeh_is_loading = css_urls.length + js_urls.length;\n\n    function on_load() {\n      root._bokeh_is_loading--;\n      if (root._bokeh_is_loading === 0) {\n        console.debug(\"Bokeh: all BokehJS libraries/stylesheets loaded\");\n        run_callbacks()\n      }\n    }\n\n    function on_error(url) {\n      console.error(\"failed to load \" + url);\n    }\n\n    for (let i = 0; i < css_urls.length; i++) {\n      const url = css_urls[i];\n      const element = document.createElement(\"link\");\n      element.onload = on_load;\n      element.onerror = on_error.bind(null, url);\n      element.rel = \"stylesheet\";\n      element.type = \"text/css\";\n      element.href = url;\n      console.debug(\"Bokeh: injecting link tag for BokehJS stylesheet: \", url);\n      document.body.appendChild(element);\n    }\n\n    for (let i = 0; i < js_urls.length; i++) {\n      const url = js_urls[i];\n      const element = document.createElement('script');\n      element.onload = on_load;\n      element.onerror = on_error.bind(null, url);\n      element.async = false;\n      element.src = url;\n      console.debug(\"Bokeh: injecting script tag for BokehJS library: \", url);\n      document.head.appendChild(element);\n    }\n  };\n\n  function inject_raw_css(css) {\n    const element = document.createElement(\"style\");\n    element.appendChild(document.createTextNode(css));\n    document.body.appendChild(element);\n  }\n\n  const js_urls = [\"https://cdn.bokeh.org/bokeh/release/bokeh-3.4.1.min.js\", \"https://cdn.bokeh.org/bokeh/release/bokeh-gl-3.4.1.min.js\", \"https://cdn.bokeh.org/bokeh/release/bokeh-widgets-3.4.1.min.js\", \"https://cdn.bokeh.org/bokeh/release/bokeh-tables-3.4.1.min.js\", \"https://cdn.bokeh.org/bokeh/release/bokeh-mathjax-3.4.1.min.js\"];\n  const css_urls = [];\n\n  const inline_js = [    function(Bokeh) {\n      Bokeh.set_log_level(\"info\");\n    },\nfunction(Bokeh) {\n    }\n  ];\n\n  function run_inline_js() {\n    if (root.Bokeh !== undefined || force === true) {\n      try {\n            for (let i = 0; i < inline_js.length; i++) {\n      inline_js[i].call(root, root.Bokeh);\n    }\n\n      } catch (error) {display_loaded(error);throw error;\n      }if (force === true) {\n        display_loaded();\n      }} else if (Date.now() < root._bokeh_timeout) {\n      setTimeout(run_inline_js, 100);\n    } else if (!root._bokeh_failed_load) {\n      console.log(\"Bokeh: BokehJS failed to load within specified timeout.\");\n      root._bokeh_failed_load = true;\n    } else if (force !== true) {\n      const cell = $(document.getElementById(\"f1653e24-7d63-4020-8993-f43e4b30abea\")).parents('.cell').data().cell;\n      cell.output_area.append_execute_result(NB_LOAD_WARNING)\n    }\n  }\n\n  if (root._bokeh_is_loading === 0) {\n    console.debug(\"Bokeh: BokehJS loaded, going straight to plotting\");\n    run_inline_js();\n  } else {\n    load_libs(css_urls, js_urls, function() {\n      console.debug(\"Bokeh: BokehJS plotting callback run at\", now());\n      run_inline_js();\n    });\n  }\n}(window));",
      "application/vnd.bokehjs_load.v0+json": ""
     },
     "metadata": {},
     "output_type": "display_data"
    },
    {
     "data": {
      "text/html": [
       "\n",
       "  <div id=\"c865affe-6bab-4709-b9bb-dba5052e85d1\" data-root-id=\"p1653\" style=\"display: contents;\"></div>\n"
      ]
     },
     "metadata": {},
     "output_type": "display_data"
    },
    {
     "data": {
      "application/javascript": "(function(root) {\n  function embed_document(root) {\n  const docs_json = {\"102ecad6-f8a3-448b-bcc3-01a1244542e0\":{\"version\":\"3.4.1\",\"title\":\"Bokeh Application\",\"roots\":[{\"type\":\"object\",\"name\":\"Figure\",\"id\":\"p1653\",\"attributes\":{\"width\":800,\"x_range\":{\"type\":\"object\",\"name\":\"DataRange1d\",\"id\":\"p1654\"},\"y_range\":{\"type\":\"object\",\"name\":\"DataRange1d\",\"id\":\"p1655\",\"attributes\":{\"start\":0,\"end\":250}},\"x_scale\":{\"type\":\"object\",\"name\":\"LinearScale\",\"id\":\"p1663\"},\"y_scale\":{\"type\":\"object\",\"name\":\"LinearScale\",\"id\":\"p1664\"},\"title\":{\"type\":\"object\",\"name\":\"Title\",\"id\":\"p1656\",\"attributes\":{\"text\":\"Daily Arrivals to BEY\"}},\"renderers\":[{\"type\":\"object\",\"name\":\"GlyphRenderer\",\"id\":\"p1714\",\"attributes\":{\"name\":\"active\",\"data_source\":{\"type\":\"object\",\"name\":\"ColumnDataSource\",\"id\":\"p1650\",\"attributes\":{\"selected\":{\"type\":\"object\",\"name\":\"Selection\",\"id\":\"p1651\",\"attributes\":{\"indices\":[],\"line_indices\":[]}},\"selection_policy\":{\"type\":\"object\",\"name\":\"UnionRenderers\",\"id\":\"p1652\"},\"data\":{\"type\":\"map\",\"entries\":[[\"index\",{\"type\":\"ndarray\",\"array\":{\"type\":\"bytes\",\"data\":\"AAAAAAEAAAACAAAAAwAAAAQAAAAFAAAABgAAAAcAAAAIAAAACQAAAAoAAAALAAAADAAAAA0AAAAOAAAADwAAABAAAAARAAAAEgAAABMAAAAUAAAAFQAAABYAAAAXAAAAGAAAABkAAAAaAAAAGwAAABwAAAAdAAAAHgAAAB8AAAAgAAAAIQAAACIAAAAjAAAAJAAAACUAAAAmAAAAJwAAACgAAAApAAAAKgAAACsAAAAsAAAALQAAAC4AAAAvAAAAMAAAADEAAAAyAAAAMwAAADQAAAA1AAAANgAAADcAAAA4AAAAOQAAADoAAAA7AAAAPAAAAD0AAAA+AAAAPwAAAEAAAABBAAAAQgAAAEMAAABEAAAARQAAAEYAAABHAAAASAAAAEkAAABKAAAASwAAAEwAAABNAAAATgAAAE8AAABQAAAAUQAAAFIAAABTAAAAVAAAAFUAAABWAAAAVwAAAFgAAABZAAAAWgAAAFsAAABcAAAAXQAAAF4AAABfAAAAYAAAAGEAAABiAAAAYwAAAGQAAABlAAAAZgAAAGcAAABoAAAAaQAAAGoAAABrAAAAbAAAAG0AAABuAAAAbwAAAHAAAABxAAAAcgAAAHMAAAB0AAAAdQAAAHYAAAB3AAAAeAAAAHkAAAB6AAAAewAAAHwAAAB9AAAAfgAAAH8AAACAAAAAgQAAAIIAAACDAAAAhAAAAIUAAACGAAAAhwAAAIgAAACJAAAAigAAAIsAAACMAAAAjQAAAI4AAACPAAAAkAAAAJEAAACSAAAAkwAAAJQAAACVAAAAlgAAAJcAAACYAAAAmQAAAJoAAACbAAAAnAAAAJ0AAACeAAAAnwAAAKAAAAChAAAAogAAAKMAAACkAAAApQAAAKYAAACnAAAAqAAAAKkAAACqAAAAqwAAAKwAAACtAAAArgAAAK8AAACwAAAAsQAAALIAAACzAAAAtAAAALUAAAC2AAAAtwAAALgAAAC5AAAAugAAALsAAAC8AAAAvQAAAL4AAAC/AAAAwAAAAMEAAADCAAAAwwAAAMQAAADFAAAAxgAAAMcAAADIAAAAyQAAAMoAAADLAAAAzAAAAM0AAADOAAAAzwAAANAAAADRAAAA0gAAANMAAADUAAAA1QAAANYAAADXAAAA2AAAANkAAADaAAAA2wAAANwAAADdAAAA3gAAAN8AAADgAAAA4QAAAOIAAADjAAAA5AAAAOUAAADmAAAA5wAAAOgAAADpAAAA6gAAAOsAAADsAAAA7QAAAO4AAADvAAAA8AAAAPEAAADyAAAA8wAAAPQAAAD1AAAA9gAAAPcAAAD4AAAA+QAAAPoAAAD7AAAA/AAAAP0AAAD+AAAA/wAAAAABAAABAQAAAgEAAAMBAAAEAQAABQEAAAYBAAAHAQAACAEAAAkBAAAKAQAACwEAAAwBAAANAQAADgEAAA8BAAAQAQAAEQEAABIBAAATAQAAFAEAABUBAAAWAQAAFwEAABgBAAA=\"},\"shape\":[281],\"dtype\":\"int32\",\"order\":\"little\"}],[\"flight_date\",{\"type\":\"ndarray\",\"array\":{\"type\":\"bytes\",\"data\":\"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\"},\"shape\":[281],\"dtype\":\"float64\",\"order\":\"little\"}],[\"active\",{\"type\":\"ndarray\",\"array\":{\"type\":\"bytes\",\"data\":\"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\"},\"shape\":[281],\"dtype\":\"float64\",\"order\":\"little\"}],[\"cancelled\",{\"type\":\"ndarray\",\"array\":{\"type\":\"bytes\",\"data\":\"AAAAAAAAAAAAAAAAAAAAAAAAAAAAAPA/AAAAAAAAAAAAAAAAAAAAAAAAAAAAAPA/AAAAAAAAAAAAAAAAAAAAAAAAAAAAAAAAAAAAAAAAAAAAAAAAAAAAAAAAAAAAAAAAAAAAAAAAAAAAAAAAAAAAAAAAAAAAAAAAAAAAAAAAAAAAAAAAAAAAAAAAAAAAAPA/AAAAAAAAAAAAAAAAAAAAAAAAAAAAAAAAAAAAAAAA8D8AAAAAAAAAAAAAAAAAAAAAAAAAAAAAAAAAAAAAAAAAAAAAAAAAAAAAAAAAAAAAAAAAAAAAAAAAAAAAAAAAAAAAAAAAAAAAAAAAAAAAAAAIQAAAAAAAAAAAAAAAAAAAAAAAAAAAAAAAAAAAAAAAAAAAAAAAAAAAAAAAAAAAAADwPwAAAAAAAAAAAAAAAAAAAAAAAAAAAAAAAAAAAAAAAAAAAAAAAAAAAAAAAAAAAAAAAAAAAAAAAPA/AAAAAAAAAAAAAAAAAAAAAAAAAAAAAAAAAAAAAAAAAAAAAAAAAAAAAAAAAAAAAAAAAAAAAAAAAAAAAAAAAAAAAAAAAAAAAPA/AAAAAAAAAAAAAAAAAAAAAAAAAAAAAAAAAAAAAAAAAAAAAAAAAAAAAAAAAAAAAAAAAAAAAAAAAAAAAAAAAAAAAAAAAAAAAAAAAAAAAAAAAAAAAAAAAADwPwAAAAAAAAAAAAAAAAAA8D8AAAAAAAAAAAAAAAAAAPA/AAAAAAAAAAAAAAAAAAAAAAAAAAAAAPA/AAAAAAAAAAAAAAAAAADwPwAAAAAAAAAAAAAAAAAA8D8AAAAAAADwPwAAAAAAAAAAAAAAAAAA8D8AAAAAAAAAAAAAAAAAAAAAAAAAAAAAAAAAAAAAAADwPwAAAAAAAAAAAAAAAAAAAAAAAAAAAAAAAAAAAAAAAAAAAAAAAAAAAAAAAAAAAAAAAAAAAAAAAPA/AAAAAAAAAAAAAAAAAAAAAAAAAAAAAAAAAAAAAAAAAAAAAAAAAAAAAAAAAAAAAAAAAAAAAAAA8D8AAAAAAAAAAAAAAAAAAAAAAAAAAAAA8D8AAAAAAAAAAAAAAAAAAAAAAAAAAAAAAAAAAAAAAADwPwAAAAAAADhAAAAAAAAAIEAAAAAAAAAiQAAAAAAAABhAAAAAAAAACEAAAAAAAAAgQAAAAAAAABRAAAAAAAAAEEAAAAAAAAAAQAAAAAAAAABAAAAAAAAA8D8AAAAAAAAIQAAAAAAAAAAAAAAAAAAAAAAAAAAAAAAAAAAAAAAAAAAAAAAAAAAAAAAAAAAAAAAAQAAAAAAAAAAAAAAAAAAAAAAAAAAAAAAAAAAAAAAAAAAAAAAAAAAAAAAAAAAAAAAAAAAAAAAAAAAAAAAAAAAA8D8AAAAAAADwPwAAAAAAAPA/AAAAAAAA8D8AAAAAAADwPwAAAAAAAPA/AAAAAAAAAEAAAAAAAAAAAAAAAAAAAAAAAAAAAAAAAAAAAAAAAAAAAAAAAAAAAAAAAAAAAAAAAAAAAAAAAAAAAAAAAAAAAAAAAAAAAAAAAAAAAAAAAADwPwAAAAAAAAAAAAAAAAAA8D8AAAAAAAAAAAAAAAAAAAAAAAAAAAAAAAAAAAAAAAAAAAAAAAAAAAAAAAAAAAAAAAAAAAAAAAAAAAAAAAAAAPA/AAAAAAAAAAAAAAAAAAAAAAAAAAAAAAAAAAAAAAAAAAAAAAAAAAAAAAAAAAAAAAAAAAAAAAAAAAAAAAAAAAAAAAAAAAAAAPA/AAAAAAAAAAAAAAAAAADwPwAAAAAAAABAAAAAAAAAAAAAAAAAAAAAAAAAAAAAAAAAAAAAAAAAAAAAAAAAAADwPwAAAAAAAAAAAAAAAAAA8D8AAAAAAAAAAAAAAAAAAAAAAAAAAAAAAAAAAAAAAAAAAAAAAAAAAAAAAAAAAAAA8D8AAAAAAAAAQAAAAAAAAABAAAAAAAAAAEAAAAAAAAAAAAAAAAAAAAhAAAAAAAAA8D8AAAAAAADwPwAAAAAAAPA/AAAAAAAAAEAAAAAAAADwPwAAAAAAAABAAAAAAAAAAEAAAAAAAAAAAAAAAAAAAAAAAAAAAAAA8D8AAAAAAAAAAAAAAAAAAAAAAAAAAAAA8D8AAAAAAADwPwAAAAAAAPA/AAAAAAAAAAAAAAAAAADwPwAAAAAAAAAAAAAAAAAAAAAAAAAAAAAAAAAAAAAAAAAAAAAAAAAAAAAAAAAAAAAAAAAAAAAAABBAAAAAAAAALEAAAAAAAAAyQAAAAAAAADZAAAAAAAAAMUAAAAAAAAAwQAAAAAAAAC5AAAAAAAAAKkAAAAAAAAAUQAAAAAAAABhAAAAAAAAAHEAAAAAAAAAcQAAAAAAAACRAAAAAAAAAFEAAAAAAAAAQQAAAAAAAAABAAAAAAAAAFEAAAAAAAAAYQAAAAAAAABRAAAAAAAAA8D8AAAAAAAAAQAAAAAAAAPA/AAAAAAAA8D8AAAAAAAAQQAAAAAAAABhAAAAAAAAAFEAAAAAAAAAIQAAAAAAAAABAAAAAAAAAKEAAAAAAAAAYQAAAAAAAAAhAAAAAAAAAAEAAAAAAAAAAQAAAAAAAAPA/AAAAAAAA8D8AAAAAAADwPwAAAAAAAAAAAAAAAAAA8D8AAAAAAAAAQAAAAAAAAPA/AAAAAAAA8D8AAAAAAAAAAAAAAAAAAPA/AAAAAAAAAAAAAAAAAADwPwAAAAAAAAAAAAAAAAAA8D8AAAAAAADwPwAAAAAAAAAAAAAAAAAAAAAAAAAAAADwPwAAAAAAAAAAAAAAAAAAFEAAAAAAAAAAQAAAAAAAABBAAAAAAAAAHEAAAAAAAAAgQAAAAAAAACBAAAAAAAAANUAAAAAAAAA5QAAAAAAAADRAAAAAAAAAOEAAAAAAAAAzQAAAAAAAAC5AAAAAAAAALkAAAAAAAAAzQAAAAAAAADZAAAAAAAAAHEAAAAAAAAAmQAAAAAAAACBAAAAAAAAAIEAAAAAAAAAQQA==\"},\"shape\":[281],\"dtype\":\"float64\",\"order\":\"little\"}],[\"diverted\",{\"type\":\"ndarray\",\"array\":{\"type\":\"bytes\",\"data\":\"AAAAAAAAAAAAAAAAAAAAAAAAAAAAAAAAAAAAAAAAAAAAAAAAAAAAAAAAAAAAAAAAAAAAAAAAAAAAAAAAAAAAAAAAAAAAAAAAAAAAAAAAAAAAAAAAAAAAAAAAAAAAAAAAAAAAAAAAAAAAAAAAAAAAAAAAAAAAAAAAAAAAAAAAAAAAAAAAAAAAAAAAAAAAAAAAAAAAAAAAAAAAAAAAAAAAAAAAAAAAAAAAAAAAAAAAAAAAAAAAAAAAAAAAAAAAAAAAAAAAAAAAAAAAAAAAAAAAAAAAAAAAAAAAAAAAAAAAAAAAAAAAAAAAAAAAAAAAAAAAAAAAAAAAAAAAAAAAAAAAAAAAAAAAAAAAAAAAAAAAAAAAAAAAAAAAAAAAAAAAAAAAAAAAAAAAAAAAAAAAAAAAAAAAAAAAAAAAAAAAAAAAAAAAAAAAAAAAAAAAAAAAAAAAAAAAAAAAAAAAAAAAAAAAAAAAAAAAAAAAAAAAAAAAAAAAAAAAAAAAAAAAAAAAAAAAAAAAAAAAAAAAAAAAAAAAAAAAAAAAAAAAAAAAAAAAAAAAAAAAAAAAAAAAAAAAAAAAAAAAAAAAAAAAAAAAAAAAAAAAAAAAAAAAAAAAAAAAAAAAAAAAAAAAAAAAAAAAAAAAAAAAAAAAAAAAAAAAAAAAAAAAAAAAAAAAAAAAAAAAAAAAAAAAAAAAAAAAAAAAAAAAAAAAAAAAAAAAAAAAAAAAAAAAAAAAAAAAAAAAAAAAAAAAAAAAAAAAAAAAAAAAAAAAAAAAAAAAAAAAAAAAAAAAAAAAAAAAAAAAAAAAAAAA8D8AAAAAAAAAAAAAAAAAAAAAAAAAAAAAAAAAAAAAAAAAAAAAAAAAAAAAAAAAAAAAAAAAAAAAAADwPwAAAAAAAAAAAAAAAAAAAAAAAAAAAADwPwAAAAAAAAAAAAAAAAAAAAAAAAAAAAAAAAAAAAAAAAAAAAAAAAAAAAAAAAAAAAAAAAAAAAAAAAAAAAAAAAAAAAAAAAAAAADwPwAAAAAAAAAAAAAAAAAAAAAAAAAAAAAAAAAAAAAAAAAAAAAAAAAAAAAAAAAAAAAAAAAAAAAAAAAAAAAAAAAAAAAAAAAAAAAIQAAAAAAAAAAAAAAAAAAAAAAAAAAAAAAAAAAAAAAAAAAAAAAAAAAA8D8AAAAAAADwPwAAAAAAAAAAAAAAAAAAAAAAAAAAAAAAAAAAAAAAAAAAAAAAAAAAAAAAAAAAAAAAAAAAAAAAAAAAAAAAAAAAAAAAAAAAAAAAAAAAAAAAAAAAAAAAAAAAAAAAAAAAAAAAAAAAAAAAAPA/AAAAAAAAAAAAAAAAAADwPwAAAAAAAAAAAAAAAAAAAAAAAAAAAAAAAAAAAAAAAPA/AAAAAAAAAAAAAAAAAAAIQAAAAAAAAPA/AAAAAAAAAAAAAAAAAADwPwAAAAAAAPA/AAAAAAAAAAAAAAAAAADwPwAAAAAAAAAAAAAAAAAA8D8AAAAAAADwPwAAAAAAAPA/AAAAAAAAAAAAAAAAAAAAAAAAAAAAAAAAAAAAAAAAAAAAAAAAAAAAAAAAAAAAAAAAAAAAAAAA8D8AAAAAAAAAAAAAAAAAAAAAAAAAAAAAAAAAAAAAAAAAAAAAAAAAAAAAAAAAAAAAAAAAAAAAAAAAAAAAAAAAAAAAAAAAAAAAAAAAAAAAAAAAAAAAAAAAAAAAAAAAAAAAAAAAAAAAAAAAAAAAAAAAAAAAAAAAAAAAAAAAAAAAAAAAAAAAAAAAAPA/AAAAAAAAAAAAAAAAAAAAAAAAAAAAAAAAAAAAAAAA8D8AAAAAAAAAAAAAAAAAAPA/AAAAAAAAAAAAAAAAAAAAAAAAAAAAAAAAAAAAAAAAAAAAAAAAAADwPwAAAAAAAAAAAAAAAAAAAAAAAAAAAAAAAAAAAAAAAAAAAAAAAAAAAAAAAAAAAAAAAAAAAAAAAAAAAAAAAAAAAAAAAAAAAADwPwAAAAAAAAAAAAAAAAAA8D8AAAAAAAAAAAAAAAAAAAAAAAAAAAAAAAAAAAAAAAAAAAAAAAAAAAAAAAAAAAAAAAAAAAAAAAAAAAAAAAAAAAAAAAAAAAAA8D8AAAAAAAAAQAAAAAAAAAAAAAAAAAAAAAAAAAAAAAAAQAAAAAAAAPA/AAAAAAAA8D8AAAAAAAAAAAAAAAAAAAAAAAAAAAAAAAAAAAAAAAAAAAAAAAAAAAAAAAAAAAAA8D8AAAAAAAAAAAAAAAAAAAAAAAAAAAAAAAAAAAAAAAAAAAAAAAAAAPA/AAAAAAAA8D8AAAAAAAAAAAAAAAAAAAAAAAAAAAAAAAAAAAAAAAAAAAAAAAAAAAAAAAAAAAAA8D8AAAAAAAAAQAAAAAAAAAAAAAAAAAAAAAAAAAAAAADwPwAAAAAAAAAAAAAAAAAA8D8AAAAAAAAAAAAAAAAAAAAAAAAAAAAA8D8AAAAAAAAAAAAAAAAAAAAAAAAAAAAAAAAAAAAAAADwPwAAAAAAAPA/AAAAAAAAAEAAAAAAAADwPwAAAAAAADlAAAAAAAAAOkAAAAAAAAA9QAAAAAAAgENAAAAAAACARkAAAAAAAIBBQAAAAAAAAENAAAAAAAAAREAAAAAAAAA+QAAAAAAAAAhAAAAAAAAAQEAAAAAAAAA5QAAAAAAAgEJAAAAAAACAQEAAAAAAAAA6QAAAAAAAADlAAAAAAAAAPEAAAAAAAAA9QAAAAAAAADRAAAAAAAAAQEAAAAAAAABBQAAAAAAAADxAAAAAAAAAPkAAAAAAAAA4QAAAAAAAACpAAAAAAAAAO0AAAAAAAAAzQAAAAAAAAD1AAAAAAAAAPUAAAAAAAAAwQAAAAAAAADBAAAAAAAAAJkAAAAAAAAAIQAAAAAAAACRAAAAAAAAA8D8AAAAAAAAIQAAAAAAAABBAAAAAAAAAAEAAAAAAAAAUQAAAAAAAABBAAAAAAAAAHEAAAAAAAAAgQAAAAAAAACRAAAAAAAAACEAAAAAAAAAIQA==\"},\"shape\":[281],\"dtype\":\"float64\",\"order\":\"little\"}],[\"landed\",{\"type\":\"ndarray\",\"array\":{\"type\":\"bytes\",\"data\":\"AAAAAACAREAAAAAAAIBHQAAAAAAAADlAAAAAAAAARUAAAAAAAAA+QAAAAAAAgEFAAAAAAAAAN0AAAAAAAABCQAAAAAAAAD9AAAAAAAAAN0AAAAAAAIBCQAAAAAAAAEdAAAAAAACAQUAAAAAAAABDQAAAAAAAAD1AAAAAAAAAPkAAAAAAAAA/QAAAAAAAAEBAAAAAAAAAQEAAAAAAAAA3QAAAAAAAgEFAAAAAAAAAP0AAAAAAAIBGQAAAAAAAADhAAAAAAAAAOEAAAAAAAABBQAAAAAAAgEFAAAAAAAAAAAAAAAAAAAAAAAAAAAAAAAAAAAAAAAAAOEAAAAAAAABBQAAAAAAAAERAAAAAAAAAQ0AAAAAAAABFQAAAAAAAgEFAAAAAAAAAQEAAAAAAAAA6QAAAAAAAgEJAAAAAAAAAPUAAAAAAAIBBQAAAAAAAAD9AAAAAAAAAN0AAAAAAAABAQAAAAAAAAERAAAAAAACARkAAAAAAAABDQAAAAAAAAENAAAAAAAAAQEAAAAAAAABEQAAAAAAAAD9AAAAAAAAAQ0AAAAAAAIBHQAAAAAAAgEJAAAAAAACAQEAAAAAAAAAqQAAAAAAAAD5AAAAAAACASEAAAAAAAABBQAAAAAAAgENAAAAAAAAAR0AAAAAAAIBEQAAAAAAAgERAAAAAAAAARUAAAAAAAABAQAAAAAAAgEBAAAAAAAAAPEAAAAAAAIBDQAAAAAAAADdAAAAAAAAAOUAAAAAAAAA6QAAAAAAAAEJAAAAAAAAAPEAAAAAAAAA1QAAAAAAAADxAAAAAAAAAPUAAAAAAAIBDQAAAAAAAAEBAAAAAAACARkAAAAAAAAA9QAAAAAAAAEBAAAAAAACARkAAAAAAAABJQAAAAAAAAEdAAAAAAACAQkAAAAAAAIBEQAAAAAAAAERAAAAAAAAATEAAAAAAAABMQAAAAAAAgEhAAAAAAACAR0AAAAAAAABJQAAAAAAAgEBAAAAAAACARkAAAAAAAIBHQAAAAAAAgExAAAAAAAAAQEAAAAAAAABEQAAAAAAAgEJAAAAAAAAANkAAAAAAAABCQAAAAAAAAEBAAAAAAACAS0AAAAAAAABFQAAAAAAAAC5AAAAAAACAQ0AAAAAAAABIQAAAAAAAAEVAAAAAAACAREAAAAAAAIBHQAAAAAAAgENAAAAAAACAR0AAAAAAAABIQAAAAAAAAElAAAAAAACAREAAAAAAAABIQAAAAAAAAElAAAAAAAAAQ0AAAAAAAAA/QAAAAAAAAAAAAAAAAAAACEAAAAAAAIBLQAAAAAAAAEVAAAAAAACASkAAAAAAAIBDQAAAAAAAgEVAAAAAAACAR0AAAAAAAABOQAAAAAAAgEdAAAAAAAAASUAAAAAAAIBKQAAAAAAAAEtAAAAAAACAT0AAAAAAAABJQAAAAAAAgEdAAAAAAAAASkAAAAAAAIBGQAAAAAAAAEdAAAAAAAAAREAAAAAAAIBLQAAAAAAAAEZAAAAAAACATUAAAAAAAIBKQAAAAAAAAE1AAAAAAACATEAAAAAAAIBLQAAAAAAAgERAAAAAAACATEAAAAAAAABOQAAAAAAAAEhAAAAAAACASkAAAAAAAIBHQAAAAAAAAERAAAAAAACATkAAAAAAAABNQAAAAAAAADpAAAAAAACAQEAAAAAAAAAcQAAAAAAAAAAAAAAAAAAAAAAAAAAAAAAAAAAAAAAAAEhAAAAAAABAUUAAAAAAAMBRQAAAAAAAwFVAAAAAAAAAVUAAAAAAAABUQAAAAAAAQFRAAAAAAADAUUAAAAAAAABSQAAAAAAAwFFAAAAAAACAU0AAAAAAAMBQQAAAAAAAAFFAAAAAAABAVEAAAAAAAIBQQAAAAAAAwFFAAAAAAACATEAAAAAAAMBQQAAAAAAAgFBAAAAAAAAAT0AAAAAAAABUQAAAAAAAQFFAAAAAAACARkAAAAAAAIBKQAAAAAAAgFNAAAAAAABAVUAAAAAAAIBTQAAAAAAAgFVAAAAAAADAU0AAAAAAAEBVQAAAAAAAAFJAAAAAAABAVUAAAAAAAABUQAAAAAAAwFBAAAAAAABAU0AAAAAAAEBRQAAAAAAAQFRAAAAAAACAUUAAAAAAAIBUQAAAAAAAQFBAAAAAAABAUEAAAAAAAIBRQAAAAAAAQFJAAAAAAACAU0AAAAAAAIBUQAAAAAAAQFJAAAAAAACAUUAAAAAAAMBRQAAAAAAAgFJAAAAAAAAAS0AAAAAAAIBMQAAAAAAAAEhAAAAAAACATkAAAAAAAIBLQAAAAAAAgExAAAAAAACATEAAAAAAAIBOQAAAAAAAAE5AAAAAAAAAT0AAAAAAAABNQAAAAAAAgE1AAAAAAAAAT0AAAAAAAEBQQAAAAAAAgE9AAAAAAAAAT0AAAAAAAIBQQAAAAAAAQFBAAAAAAADAUUAAAAAAAABQQAAAAAAAQFJAAAAAAACAT0AAAAAAAABKQAAAAAAAQFBAAAAAAACAUUAAAAAAAIBNQAAAAAAAADdAAAAAAAAAOUAAAAAAAAA3QAAAAAAAADZAAAAAAAAAOkAAAAAAAAA4QAAAAAAAADpAAAAAAAAAO0AAAAAAAAA5QAAAAAAAACBAAAAAAAAAOUAAAAAAAABDQAAAAAAAADVAAAAAAAAAO0AAAAAAAAA4QAAAAAAAAEFAAAAAAAAAQEAAAAAAAAA2QAAAAAAAADNAAAAAAAAAM0AAAAAAAAAzQAAAAAAAADdAAAAAAAAAPEAAAAAAAAA4QAAAAAAAAENAAAAAAAAALkAAAAAAAAA9QAAAAAAAADBAAAAAAAAALEAAAAAAAAAwQAAAAAAAACZAAAAAAAAAIEAAAAAAAAAsQAAAAAAAACpAAAAAAAAAJkAAAAAAAAAcQAAAAAAAAChAAAAAAAAALkAAAAAAAAA7QAAAAAAAADxAAAAAAAAANUAAAAAAAAA5QAAAAAAAADRAAAAAAAAAPUAAAAAAAAA2QA==\"},\"shape\":[281],\"dtype\":\"float64\",\"order\":\"little\"}],[\"scheduled\",{\"type\":\"ndarray\",\"array\":{\"type\":\"bytes\",\"data\":\"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\"},\"shape\":[281],\"dtype\":\"float64\",\"order\":\"little\"}],[\"unknown\",{\"type\":\"ndarray\",\"array\":{\"type\":\"bytes\",\"data\":\"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\"},\"shape\":[281],\"dtype\":\"float64\",\"order\":\"little\"}]]}}},\"view\":{\"type\":\"object\",\"name\":\"CDSView\",\"id\":\"p1715\",\"attributes\":{\"filter\":{\"type\":\"object\",\"name\":\"AllIndices\",\"id\":\"p1716\"}}},\"glyph\":{\"type\":\"object\",\"name\":\"VArea\",\"id\":\"p1711\",\"attributes\":{\"x\":{\"type\":\"field\",\"field\":\"flight_date\"},\"y1\":{\"type\":\"expr\",\"expr\":{\"type\":\"object\",\"name\":\"Stack\",\"id\":\"p1696\",\"attributes\":{\"fields\":[]}}},\"y2\":{\"type\":\"expr\",\"expr\":{\"type\":\"object\",\"name\":\"Stack\",\"id\":\"p1697\",\"attributes\":{\"fields\":[\"active\"]}}},\"fill_color\":\"#3288bd\",\"hatch_color\":{\"type\":\"value\",\"value\":\"#3288bd\"}}},\"nonselection_glyph\":{\"type\":\"object\",\"name\":\"VArea\",\"id\":\"p1712\",\"attributes\":{\"x\":{\"type\":\"field\",\"field\":\"flight_date\"},\"y1\":{\"type\":\"expr\",\"expr\":{\"id\":\"p1696\"}},\"y2\":{\"type\":\"expr\",\"expr\":{\"id\":\"p1697\"}},\"fill_color\":\"#3288bd\",\"fill_alpha\":0.1,\"hatch_color\":{\"type\":\"value\",\"value\":\"#3288bd\"},\"hatch_alpha\":{\"type\":\"value\",\"value\":0.1}}},\"muted_glyph\":{\"type\":\"object\",\"name\":\"VArea\",\"id\":\"p1713\",\"attributes\":{\"x\":{\"type\":\"field\",\"field\":\"flight_date\"},\"y1\":{\"type\":\"expr\",\"expr\":{\"id\":\"p1696\"}},\"y2\":{\"type\":\"expr\",\"expr\":{\"id\":\"p1697\"}},\"fill_color\":\"#3288bd\",\"fill_alpha\":0.2,\"hatch_color\":{\"type\":\"value\",\"value\":\"#3288bd\"},\"hatch_alpha\":{\"type\":\"value\",\"value\":0.2}}}}},{\"type\":\"object\",\"name\":\"GlyphRenderer\",\"id\":\"p1725\",\"attributes\":{\"name\":\"landed\",\"data_source\":{\"id\":\"p1650\"},\"view\":{\"type\":\"object\",\"name\":\"CDSView\",\"id\":\"p1726\",\"attributes\":{\"filter\":{\"type\":\"object\",\"name\":\"AllIndices\",\"id\":\"p1727\"}}},\"glyph\":{\"type\":\"object\",\"name\":\"VArea\",\"id\":\"p1722\",\"attributes\":{\"x\":{\"type\":\"field\",\"field\":\"flight_date\"},\"y1\":{\"type\":\"expr\",\"expr\":{\"type\":\"object\",\"name\":\"Stack\",\"id\":\"p1698\",\"attributes\":{\"fields\":[\"active\"]}}},\"y2\":{\"type\":\"expr\",\"expr\":{\"type\":\"object\",\"name\":\"Stack\",\"id\":\"p1699\",\"attributes\":{\"fields\":[\"active\",\"landed\"]}}},\"fill_color\":\"#99d594\",\"hatch_color\":{\"type\":\"value\",\"value\":\"#99d594\"}}},\"nonselection_glyph\":{\"type\":\"object\",\"name\":\"VArea\",\"id\":\"p1723\",\"attributes\":{\"x\":{\"type\":\"field\",\"field\":\"flight_date\"},\"y1\":{\"type\":\"expr\",\"expr\":{\"id\":\"p1698\"}},\"y2\":{\"type\":\"expr\",\"expr\":{\"id\":\"p1699\"}},\"fill_color\":\"#99d594\",\"fill_alpha\":0.1,\"hatch_color\":{\"type\":\"value\",\"value\":\"#99d594\"},\"hatch_alpha\":{\"type\":\"value\",\"value\":0.1}}},\"muted_glyph\":{\"type\":\"object\",\"name\":\"VArea\",\"id\":\"p1724\",\"attributes\":{\"x\":{\"type\":\"field\",\"field\":\"flight_date\"},\"y1\":{\"type\":\"expr\",\"expr\":{\"id\":\"p1698\"}},\"y2\":{\"type\":\"expr\",\"expr\":{\"id\":\"p1699\"}},\"fill_color\":\"#99d594\",\"fill_alpha\":0.2,\"hatch_color\":{\"type\":\"value\",\"value\":\"#99d594\"},\"hatch_alpha\":{\"type\":\"value\",\"value\":0.2}}}}},{\"type\":\"object\",\"name\":\"GlyphRenderer\",\"id\":\"p1735\",\"attributes\":{\"name\":\"scheduled\",\"data_source\":{\"id\":\"p1650\"},\"view\":{\"type\":\"object\",\"name\":\"CDSView\",\"id\":\"p1736\",\"attributes\":{\"filter\":{\"type\":\"object\",\"name\":\"AllIndices\",\"id\":\"p1737\"}}},\"glyph\":{\"type\":\"object\",\"name\":\"VArea\",\"id\":\"p1732\",\"attributes\":{\"x\":{\"type\":\"field\",\"field\":\"flight_date\"},\"y1\":{\"type\":\"expr\",\"expr\":{\"type\":\"object\",\"name\":\"Stack\",\"id\":\"p1700\",\"attributes\":{\"fields\":[\"active\",\"landed\"]}}},\"y2\":{\"type\":\"expr\",\"expr\":{\"type\":\"object\",\"name\":\"Stack\",\"id\":\"p1701\",\"attributes\":{\"fields\":[\"active\",\"landed\",\"scheduled\"]}}},\"fill_color\":\"#e6f598\",\"hatch_color\":{\"type\":\"value\",\"value\":\"#e6f598\"}}},\"nonselection_glyph\":{\"type\":\"object\",\"name\":\"VArea\",\"id\":\"p1733\",\"attributes\":{\"x\":{\"type\":\"field\",\"field\":\"flight_date\"},\"y1\":{\"type\":\"expr\",\"expr\":{\"id\":\"p1700\"}},\"y2\":{\"type\":\"expr\",\"expr\":{\"id\":\"p1701\"}},\"fill_color\":\"#e6f598\",\"fill_alpha\":0.1,\"hatch_color\":{\"type\":\"value\",\"value\":\"#e6f598\"},\"hatch_alpha\":{\"type\":\"value\",\"value\":0.1}}},\"muted_glyph\":{\"type\":\"object\",\"name\":\"VArea\",\"id\":\"p1734\",\"attributes\":{\"x\":{\"type\":\"field\",\"field\":\"flight_date\"},\"y1\":{\"type\":\"expr\",\"expr\":{\"id\":\"p1700\"}},\"y2\":{\"type\":\"expr\",\"expr\":{\"id\":\"p1701\"}},\"fill_color\":\"#e6f598\",\"fill_alpha\":0.2,\"hatch_color\":{\"type\":\"value\",\"value\":\"#e6f598\"},\"hatch_alpha\":{\"type\":\"value\",\"value\":0.2}}}}},{\"type\":\"object\",\"name\":\"GlyphRenderer\",\"id\":\"p1745\",\"attributes\":{\"name\":\"unknown\",\"data_source\":{\"id\":\"p1650\"},\"view\":{\"type\":\"object\",\"name\":\"CDSView\",\"id\":\"p1746\",\"attributes\":{\"filter\":{\"type\":\"object\",\"name\":\"AllIndices\",\"id\":\"p1747\"}}},\"glyph\":{\"type\":\"object\",\"name\":\"VArea\",\"id\":\"p1742\",\"attributes\":{\"x\":{\"type\":\"field\",\"field\":\"flight_date\"},\"y1\":{\"type\":\"expr\",\"expr\":{\"type\":\"object\",\"name\":\"Stack\",\"id\":\"p1702\",\"attributes\":{\"fields\":[\"active\",\"landed\",\"scheduled\"]}}},\"y2\":{\"type\":\"expr\",\"expr\":{\"type\":\"object\",\"name\":\"Stack\",\"id\":\"p1703\",\"attributes\":{\"fields\":[\"active\",\"landed\",\"scheduled\",\"unknown\"]}}},\"fill_color\":\"#fee08b\",\"hatch_color\":{\"type\":\"value\",\"value\":\"#fee08b\"}}},\"nonselection_glyph\":{\"type\":\"object\",\"name\":\"VArea\",\"id\":\"p1743\",\"attributes\":{\"x\":{\"type\":\"field\",\"field\":\"flight_date\"},\"y1\":{\"type\":\"expr\",\"expr\":{\"id\":\"p1702\"}},\"y2\":{\"type\":\"expr\",\"expr\":{\"id\":\"p1703\"}},\"fill_color\":\"#fee08b\",\"fill_alpha\":0.1,\"hatch_color\":{\"type\":\"value\",\"value\":\"#fee08b\"},\"hatch_alpha\":{\"type\":\"value\",\"value\":0.1}}},\"muted_glyph\":{\"type\":\"object\",\"name\":\"VArea\",\"id\":\"p1744\",\"attributes\":{\"x\":{\"type\":\"field\",\"field\":\"flight_date\"},\"y1\":{\"type\":\"expr\",\"expr\":{\"id\":\"p1702\"}},\"y2\":{\"type\":\"expr\",\"expr\":{\"id\":\"p1703\"}},\"fill_color\":\"#fee08b\",\"fill_alpha\":0.2,\"hatch_color\":{\"type\":\"value\",\"value\":\"#fee08b\"},\"hatch_alpha\":{\"type\":\"value\",\"value\":0.2}}}}},{\"type\":\"object\",\"name\":\"GlyphRenderer\",\"id\":\"p1755\",\"attributes\":{\"name\":\"cancelled\",\"data_source\":{\"id\":\"p1650\"},\"view\":{\"type\":\"object\",\"name\":\"CDSView\",\"id\":\"p1756\",\"attributes\":{\"filter\":{\"type\":\"object\",\"name\":\"AllIndices\",\"id\":\"p1757\"}}},\"glyph\":{\"type\":\"object\",\"name\":\"VArea\",\"id\":\"p1752\",\"attributes\":{\"x\":{\"type\":\"field\",\"field\":\"flight_date\"},\"y1\":{\"type\":\"expr\",\"expr\":{\"type\":\"object\",\"name\":\"Stack\",\"id\":\"p1704\",\"attributes\":{\"fields\":[\"active\",\"landed\",\"scheduled\",\"unknown\"]}}},\"y2\":{\"type\":\"expr\",\"expr\":{\"type\":\"object\",\"name\":\"Stack\",\"id\":\"p1705\",\"attributes\":{\"fields\":[\"active\",\"landed\",\"scheduled\",\"unknown\",\"cancelled\"]}}},\"fill_color\":\"#fc8d59\",\"hatch_color\":{\"type\":\"value\",\"value\":\"#fc8d59\"}}},\"nonselection_glyph\":{\"type\":\"object\",\"name\":\"VArea\",\"id\":\"p1753\",\"attributes\":{\"x\":{\"type\":\"field\",\"field\":\"flight_date\"},\"y1\":{\"type\":\"expr\",\"expr\":{\"id\":\"p1704\"}},\"y2\":{\"type\":\"expr\",\"expr\":{\"id\":\"p1705\"}},\"fill_color\":\"#fc8d59\",\"fill_alpha\":0.1,\"hatch_color\":{\"type\":\"value\",\"value\":\"#fc8d59\"},\"hatch_alpha\":{\"type\":\"value\",\"value\":0.1}}},\"muted_glyph\":{\"type\":\"object\",\"name\":\"VArea\",\"id\":\"p1754\",\"attributes\":{\"x\":{\"type\":\"field\",\"field\":\"flight_date\"},\"y1\":{\"type\":\"expr\",\"expr\":{\"id\":\"p1704\"}},\"y2\":{\"type\":\"expr\",\"expr\":{\"id\":\"p1705\"}},\"fill_color\":\"#fc8d59\",\"fill_alpha\":0.2,\"hatch_color\":{\"type\":\"value\",\"value\":\"#fc8d59\"},\"hatch_alpha\":{\"type\":\"value\",\"value\":0.2}}}}},{\"type\":\"object\",\"name\":\"GlyphRenderer\",\"id\":\"p1765\",\"attributes\":{\"name\":\"diverted\",\"data_source\":{\"id\":\"p1650\"},\"view\":{\"type\":\"object\",\"name\":\"CDSView\",\"id\":\"p1766\",\"attributes\":{\"filter\":{\"type\":\"object\",\"name\":\"AllIndices\",\"id\":\"p1767\"}}},\"glyph\":{\"type\":\"object\",\"name\":\"VArea\",\"id\":\"p1762\",\"attributes\":{\"x\":{\"type\":\"field\",\"field\":\"flight_date\"},\"y1\":{\"type\":\"expr\",\"expr\":{\"type\":\"object\",\"name\":\"Stack\",\"id\":\"p1706\",\"attributes\":{\"fields\":[\"active\",\"landed\",\"scheduled\",\"unknown\",\"cancelled\"]}}},\"y2\":{\"type\":\"expr\",\"expr\":{\"type\":\"object\",\"name\":\"Stack\",\"id\":\"p1707\",\"attributes\":{\"fields\":[\"active\",\"landed\",\"scheduled\",\"unknown\",\"cancelled\",\"diverted\"]}}},\"fill_color\":\"#d53e4f\",\"hatch_color\":{\"type\":\"value\",\"value\":\"#d53e4f\"}}},\"nonselection_glyph\":{\"type\":\"object\",\"name\":\"VArea\",\"id\":\"p1763\",\"attributes\":{\"x\":{\"type\":\"field\",\"field\":\"flight_date\"},\"y1\":{\"type\":\"expr\",\"expr\":{\"id\":\"p1706\"}},\"y2\":{\"type\":\"expr\",\"expr\":{\"id\":\"p1707\"}},\"fill_color\":\"#d53e4f\",\"fill_alpha\":0.1,\"hatch_color\":{\"type\":\"value\",\"value\":\"#d53e4f\"},\"hatch_alpha\":{\"type\":\"value\",\"value\":0.1}}},\"muted_glyph\":{\"type\":\"object\",\"name\":\"VArea\",\"id\":\"p1764\",\"attributes\":{\"x\":{\"type\":\"field\",\"field\":\"flight_date\"},\"y1\":{\"type\":\"expr\",\"expr\":{\"id\":\"p1706\"}},\"y2\":{\"type\":\"expr\",\"expr\":{\"id\":\"p1707\"}},\"fill_color\":\"#d53e4f\",\"fill_alpha\":0.2,\"hatch_color\":{\"type\":\"value\",\"value\":\"#d53e4f\"},\"hatch_alpha\":{\"type\":\"value\",\"value\":0.2}}}}},{\"type\":\"object\",\"name\":\"GlyphRenderer\",\"id\":\"p1775\",\"attributes\":{\"data_source\":{\"type\":\"object\",\"name\":\"ColumnDataSource\",\"id\":\"p1769\",\"attributes\":{\"selected\":{\"type\":\"object\",\"name\":\"Selection\",\"id\":\"p1770\",\"attributes\":{\"indices\":[],\"line_indices\":[]}},\"selection_policy\":{\"type\":\"object\",\"name\":\"UnionRenderers\",\"id\":\"p1771\"},\"data\":{\"type\":\"map\",\"entries\":[[\"x\",{\"type\":\"ndarray\",\"array\":{\"type\":\"bytes\",\"data\":\"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\"},\"shape\":[277],\"dtype\":\"float64\",\"order\":\"little\"}],[\"y\",{\"type\":\"ndarray\",\"array\":{\"type\":\"bytes\",\"data\":\"FQAAAAgAAAAZAAAAGwAAACoAAAAWAAAAGQAAABQAAAATAAAAEgAAABEAAAATAAAAIwAAABMAAAASAAAAGwAAABwAAAAYAAAAEAAAAB8AAAAiAAAAFAAAABAAAAATAAAAIgAAAB4AAAAhAAAAIAAAABEAAAAXAAAAHAAAABoAAAAhAAAAIAAAAB0AAAAWAAAAIgAAACQAAAAnAAAAIwAAABcAAAAlAAAAHwAAABwAAAAqAAAAHQAAABwAAAAUAAAAEgAAABgAAAAhAAAAIAAAABgAAAAXAAAAFAAAABoAAAArAAAAHAAAACQAAAAUAAAAIAAAABIAAAAXAAAAIQAAABIAAAAjAAAAHwAAABcAAAATAAAAFwAAABoAAAAeAAAAEwAAABkAAAAhAAAAGgAAABMAAAAaAAAAEgAAACQAAAASAAAADgAAABwAAAAMAAAAKAAAABEAAAARAAAAHwAAABsAAAAUAAAAFwAAABAAAAAXAAAACAAAABEAAAAkAAAAFgAAABcAAAAMAAAAEgAAABEAAAASAAAALQAAABkAAAAbAAAAHQAAACMAAAATAAAADAAAABAAAAAVAAAAFwAAABoAAAAbAAAAEQAAABsAAAAUAAAAEgAAABwAAAAVAAAAEgAAAAsAAAAYAAAAEgAAABYAAAAZAAAAFQAAACMAAAAOAAAAIgAAAA0AAAALAAAACQAAABcAAAASAAAAIwAAABAAAAAWAAAAEgAAABQAAAAXAAAAFgAAABUAAAARAAAAGgAAACAAAAAaAAAAGAAAABMAAAALAAAAEQAAACQAAAAaAAAAHwAAAB8AAAAfAAAAFgAAAA4AAAAXAAAAFgAAAA0AAAATAAAAIQAAABMAAAAbAAAAEQAAABoAAAAaAAAADwAAABcAAAAPAAAAEgAAABkAAAARAAAAEgAAABUAAAAmAAAAEgAAABAAAAAUAAAADAAAABIAAAAQAAAAGgAAACIAAAAiAAAAEgAAACUAAAAYAAAAIAAAABIAAAAfAAAAGQAAABkAAAARAAAAEAAAAB8AAAALAAAAHwAAABsAAAAbAAAAFAAAABYAAAAWAAAAEAAAABcAAAAKAAAAEwAAABUAAAAYAAAAFgAAAA0AAAAOAAAAFAAAABYAAAAWAAAAGgAAABkAAAAUAAAAFgAAABkAAAAVAAAAFAAAABUAAAAgAAAADwAAABIAAAAZAAAAHQAAABEAAAAoAAAAHgAAACcAAAAbAAAAHAAAABYAAABLAAAAJgAAABoAAAAOAAAAFQAAABwAAAAYAAAAEwAAABkAAAAPAAAAJAAAABoAAAAbAAAAGAAAABIAAAATAAAAIwAAACoAAAAaAAAAHwAAABYAAAAZAAAAGgAAACYAAABIAAAAOgAAABYAAABTAAAAQAAAAMgAAAB9AAAAjgAAAHMAAABpAAAAaQAAAIwAAAB1AAAAVwAAAGYAAABcAAAAfQAAAA==\"},\"shape\":[277],\"dtype\":\"int32\",\"order\":\"little\"}]]}}},\"view\":{\"type\":\"object\",\"name\":\"CDSView\",\"id\":\"p1776\",\"attributes\":{\"filter\":{\"type\":\"object\",\"name\":\"AllIndices\",\"id\":\"p1777\"}}},\"glyph\":{\"type\":\"object\",\"name\":\"Line\",\"id\":\"p1772\",\"attributes\":{\"x\":{\"type\":\"field\",\"field\":\"x\"},\"y\":{\"type\":\"field\",\"field\":\"y\"},\"line_width\":2}},\"nonselection_glyph\":{\"type\":\"object\",\"name\":\"Line\",\"id\":\"p1773\",\"attributes\":{\"x\":{\"type\":\"field\",\"field\":\"x\"},\"y\":{\"type\":\"field\",\"field\":\"y\"},\"line_alpha\":0.1,\"line_width\":2}},\"muted_glyph\":{\"type\":\"object\",\"name\":\"Line\",\"id\":\"p1774\",\"attributes\":{\"x\":{\"type\":\"field\",\"field\":\"x\"},\"y\":{\"type\":\"field\",\"field\":\"y\"},\"line_alpha\":0.2,\"line_width\":2}}}},{\"type\":\"object\",\"name\":\"Span\",\"id\":\"p1782\",\"attributes\":{\"location\":1713052800000.0,\"dimension\":\"height\",\"line_color\":\"#C6C6C6\",\"line_width\":2,\"line_dash\":[4,4]}},{\"type\":\"object\",\"name\":\"Span\",\"id\":\"p1784\",\"attributes\":{\"location\":1724544000000.0,\"dimension\":\"height\",\"line_color\":\"#C6C6C6\",\"line_width\":2,\"line_dash\":[4,4]}},{\"type\":\"object\",\"name\":\"Span\",\"id\":\"p1786\",\"attributes\":{\"location\":1727049600000.0,\"dimension\":\"height\",\"line_color\":\"#C6C6C6\",\"line_width\":2,\"line_dash\":[4,4]}}],\"toolbar\":{\"type\":\"object\",\"name\":\"Toolbar\",\"id\":\"p1662\",\"attributes\":{\"tools\":[{\"type\":\"object\",\"name\":\"PanTool\",\"id\":\"p1687\"},{\"type\":\"object\",\"name\":\"BoxZoomTool\",\"id\":\"p1688\",\"attributes\":{\"overlay\":{\"type\":\"object\",\"name\":\"BoxAnnotation\",\"id\":\"p1689\",\"attributes\":{\"syncable\":false,\"level\":\"overlay\",\"visible\":false,\"left\":{\"type\":\"number\",\"value\":\"nan\"},\"right\":{\"type\":\"number\",\"value\":\"nan\"},\"top\":{\"type\":\"number\",\"value\":\"nan\"},\"bottom\":{\"type\":\"number\",\"value\":\"nan\"},\"left_units\":\"canvas\",\"right_units\":\"canvas\",\"top_units\":\"canvas\",\"bottom_units\":\"canvas\",\"line_color\":\"black\",\"line_alpha\":1.0,\"line_width\":2,\"line_dash\":[4,4],\"fill_color\":\"lightgrey\",\"fill_alpha\":0.5}}}},{\"type\":\"object\",\"name\":\"ResetTool\",\"id\":\"p1694\"},{\"type\":\"object\",\"name\":\"SaveTool\",\"id\":\"p1695\"}]}},\"toolbar_location\":\"above\",\"left\":[{\"type\":\"object\",\"name\":\"LinearAxis\",\"id\":\"p1682\",\"attributes\":{\"ticker\":{\"type\":\"object\",\"name\":\"BasicTicker\",\"id\":\"p1683\",\"attributes\":{\"mantissas\":[1,2,5]}},\"formatter\":{\"type\":\"object\",\"name\":\"BasicTickFormatter\",\"id\":\"p1684\"},\"axis_label\":\"Nr Flights\",\"major_label_policy\":{\"type\":\"object\",\"name\":\"AllLabels\",\"id\":\"p1685\"}}}],\"below\":[{\"type\":\"object\",\"name\":\"DatetimeAxis\",\"id\":\"p1665\",\"attributes\":{\"ticker\":{\"type\":\"object\",\"name\":\"FixedTicker\",\"id\":\"p1780\",\"attributes\":{\"ticks\":[1704585600000.0,1705795200000.0,1707004800000.0,1708214400000.0,1709424000000.0,1710633600000.0,1711843200000.0,1713052800000.0,1714262400000.0,1715472000000.0,1716681600000.0,1717891200000.0,1719100800000.0,1720310400000.0,1721520000000.0,1722729600000.0,1723939200000.0,1725148800000.0,1726358400000.0,1727568000000.0],\"minor_ticks\":[]}},\"formatter\":{\"type\":\"object\",\"name\":\"DatetimeTickFormatter\",\"id\":\"p1779\",\"attributes\":{\"days\":\"%d %b %Y\",\"months\":\"%b %Y\"}},\"axis_label\":\"Flight Date\",\"major_label_orientation\":1.2,\"major_label_policy\":{\"type\":\"object\",\"name\":\"AllLabels\",\"id\":\"p1680\"}}},{\"type\":\"object\",\"name\":\"Label\",\"id\":\"p1781\",\"attributes\":{\"text\":\"Source: Flight data from AviationStack and conflict events from ACLED\",\"text_color\":\"gray\",\"text_font_size\":\"10pt\",\"x\":0,\"y\":0,\"x_units\":\"screen\",\"y_units\":\"screen\"}}],\"center\":[{\"type\":\"object\",\"name\":\"Grid\",\"id\":\"p1681\",\"attributes\":{\"axis\":{\"id\":\"p1665\"}}},{\"type\":\"object\",\"name\":\"Grid\",\"id\":\"p1686\",\"attributes\":{\"dimension\":1,\"axis\":{\"id\":\"p1682\"}}},{\"type\":\"object\",\"name\":\"Legend\",\"id\":\"p1717\",\"attributes\":{\"location\":\"top_left\",\"orientation\":\"horizontal\",\"click_policy\":\"mute\",\"items\":[{\"type\":\"object\",\"name\":\"LegendItem\",\"id\":\"p1718\",\"attributes\":{\"label\":{\"type\":\"value\",\"value\":\"active\"},\"renderers\":[{\"id\":\"p1714\"}]}},{\"type\":\"object\",\"name\":\"LegendItem\",\"id\":\"p1728\",\"attributes\":{\"label\":{\"type\":\"value\",\"value\":\"landed\"},\"renderers\":[{\"id\":\"p1725\"}]}},{\"type\":\"object\",\"name\":\"LegendItem\",\"id\":\"p1738\",\"attributes\":{\"label\":{\"type\":\"value\",\"value\":\"scheduled\"},\"renderers\":[{\"id\":\"p1735\"}]}},{\"type\":\"object\",\"name\":\"LegendItem\",\"id\":\"p1748\",\"attributes\":{\"label\":{\"type\":\"value\",\"value\":\"unknown\"},\"renderers\":[{\"id\":\"p1745\"}]}},{\"type\":\"object\",\"name\":\"LegendItem\",\"id\":\"p1758\",\"attributes\":{\"label\":{\"type\":\"value\",\"value\":\"cancelled\"},\"renderers\":[{\"id\":\"p1755\"}]}},{\"type\":\"object\",\"name\":\"LegendItem\",\"id\":\"p1768\",\"attributes\":{\"label\":{\"type\":\"value\",\"value\":\"diverted\"},\"renderers\":[{\"id\":\"p1765\"}]}},{\"type\":\"object\",\"name\":\"LegendItem\",\"id\":\"p1778\",\"attributes\":{\"label\":{\"type\":\"value\",\"value\":\"Number of Conflict Events\"},\"renderers\":[{\"id\":\"p1775\"}]}}]}},{\"type\":\"object\",\"name\":\"Label\",\"id\":\"p1783\",\"attributes\":{\"text\":\"Temporary shutdown of\\nLebanese airspace between\\n7AM and 1PM\",\"text_color\":\"black\",\"text_font_size\":\"10pt\",\"text_align\":\"right\",\"background_fill_color\":\"grey\",\"background_fill_alpha\":0.2,\"x\":1713052800000.0,\"y\":200.0,\"x_offset\":-5}},{\"type\":\"object\",\"name\":\"Label\",\"id\":\"p1785\",\"attributes\":{\"text\":\"Israeli strikes in\\nSouthern Lebanon\",\"text_color\":\"black\",\"text_font_size\":\"10pt\",\"text_align\":\"right\",\"background_fill_color\":\"grey\",\"background_fill_alpha\":0.2,\"x\":1724544000000.0,\"y\":180.0,\"x_offset\":-5}},{\"type\":\"object\",\"name\":\"Label\",\"id\":\"p1787\",\"attributes\":{\"text\":\"Start of the full blown conflict\",\"text_color\":\"black\",\"text_font_size\":\"10pt\",\"text_align\":\"right\",\"background_fill_color\":\"grey\",\"background_fill_alpha\":0.2,\"x\":1727049600000.0,\"y\":160.0,\"x_offset\":-5}}]}}]}};\n  const render_items = [{\"docid\":\"102ecad6-f8a3-448b-bcc3-01a1244542e0\",\"roots\":{\"p1653\":\"c865affe-6bab-4709-b9bb-dba5052e85d1\"},\"root_ids\":[\"p1653\"]}];\n  void root.Bokeh.embed.embed_items_notebook(docs_json, render_items);\n  }\n  if (root.Bokeh !== undefined) {\n    embed_document(root);\n  } else {\n    let attempts = 0;\n    const timer = setInterval(function(root) {\n      if (root.Bokeh !== undefined) {\n        clearInterval(timer);\n        embed_document(root);\n      } else {\n        attempts++;\n        if (attempts > 100) {\n          clearInterval(timer);\n          console.log(\"Bokeh: ERROR: Unable to run BokehJS code because BokehJS library is missing\");\n        }\n      }\n    }, 10, root)\n  }\n})(window);",
      "application/vnd.bokehjs_exec.v0+json": ""
     },
     "metadata": {
      "application/vnd.bokehjs_exec.v0+json": {
       "id": "p1653"
      }
     },
     "output_type": "display_data"
    }
   ],
   "source": [
    "output_notebook()  # Display plots inline in a Jupyter notebook\n",
    "\n",
    "df = df = (\n",
    "    arrivals_exploded.groupby([\"flight_date\", \"flight_status\"])\n",
    "    .count()[[\"iata_arr\"]]\n",
    "    .reset_index()\n",
    ")\n",
    "df[\"flight_date\"] = df[\"flight_date\"].apply(lambda x: pd.to_datetime(x))\n",
    "\n",
    "show(\n",
    "    get_area_plot(\n",
    "        df,\n",
    "        \"Daily Arrivals to BEY\",\n",
    "        \"Source: Flight data from AviationStack and conflict events from ACLED\",\n",
    "        acled_events_daily,\n",
    "        events_dict=events,\n",
    "    )\n",
    ")"
   ]
  },
  {
   "cell_type": "markdown",
   "metadata": {},
   "source": [
    "### Findings\n",
    "\n",
    "- On 14th April 2024, there was a temporary shutdown on Lebanese airspace between 7AM and 1PM. On that day, there were 15 flights that reported as landed. All the flights in the 'Active' status also donot have an 'actual arrival time' recorded which could lead us to assume that some of them were either cancelled or never took off. \n",
    "- There is no flight data on 29th and 30th of January, 29th and 30th of April and 7th to 9th of June 2024. "
   ]
  },
  {
   "cell_type": "code",
   "execution_count": 30,
   "metadata": {
    "tags": [
     "remove-input"
    ]
   },
   "outputs": [
    {
     "data": {
      "text/html": [
       "    <style>\n",
       "        .bk-notebook-logo {\n",
       "            display: block;\n",
       "            width: 20px;\n",
       "            height: 20px;\n",
       "            background-image: url(data:image/png;base64,iVBORw0KGgoAAAANSUhEUgAAABQAAAAUCAYAAACNiR0NAAAABHNCSVQICAgIfAhkiAAAAAlwSFlzAAALEgAACxIB0t1+/AAAABx0RVh0U29mdHdhcmUAQWRvYmUgRmlyZXdvcmtzIENTNui8sowAAAOkSURBVDiNjZRtaJVlGMd/1/08zzln5zjP1LWcU9N0NkN8m2CYjpgQYQXqSs0I84OLIC0hkEKoPtiH3gmKoiJDU7QpLgoLjLIQCpEsNJ1vqUOdO7ppbuec5+V+rj4ctwzd8IIbbi6u+8f1539dt3A78eXC7QizUF7gyV1fD1Yqg4JWz84yffhm0qkFqBogB9rM8tZdtwVsPUhWhGcFJngGeWrPzHm5oaMmkfEg1usvLFyc8jLRqDOMru7AyC8saQr7GG7f5fvDeH7Ej8CM66nIF+8yngt6HWaKh7k49Soy9nXurCi1o3qUbS3zWfrYeQDTB/Qj6kX6Ybhw4B+bOYoLKCC9H3Nu/leUTZ1JdRWkkn2ldcCamzrcf47KKXdAJllSlxAOkRgyHsGC/zRday5Qld9DyoM4/q/rUoy/CXh3jzOu3bHUVZeU+DEn8FInkPBFlu3+nW3Nw0mk6vCDiWg8CeJaxEwuHS3+z5RgY+YBR6V1Z1nxSOfoaPa4LASWxxdNp+VWTk7+4vzaou8v8PN+xo+KY2xsw6une2frhw05CTYOmQvsEhjhWjn0bmXPjpE1+kplmmkP3suftwTubK9Vq22qKmrBhpY4jvd5afdRA3wGjFAgcnTK2s4hY0/GPNIb0nErGMCRxWOOX64Z8RAC4oCXdklmEvcL8o0BfkNK4lUg9HTl+oPlQxdNo3Mg4Nv175e/1LDGzZen30MEjRUtmXSfiTVu1kK8W4txyV6BMKlbgk3lMwYCiusNy9fVfvvwMxv8Ynl6vxoByANLTWplvuj/nF9m2+PDtt1eiHPBr1oIfhCChQMBw6Aw0UulqTKZdfVvfG7VcfIqLG9bcldL/+pdWTLxLUy8Qq38heUIjh4XlzZxzQm19lLFlr8vdQ97rjZVOLf8nclzckbcD4wxXMidpX30sFd37Fv/GtwwhzhxGVAprjbg0gCAEeIgwCZyTV2Z1REEW8O4py0wsjeloKoMr6iCY6dP92H6Vw/oTyICIthibxjm/DfN9lVz8IqtqKYLUXfoKVMVQVVJOElGjrnnUt9T9wbgp8AyYKaGlqingHZU/uG2NTZSVqwHQTWkx9hxjkpWDaCg6Ckj5qebgBVbT3V3NNXMSiWSDdGV3hrtzla7J+duwPOToIg42ChPQOQjspnSlp1V+Gjdged7+8UN5CRAV7a5EdFNwCjEaBR27b3W890TE7g24NAP/mMDXRWrGoFPQI9ls/MWO2dWFAar/xcOIImbbpA3zgAAAABJRU5ErkJggg==);\n",
       "        }\n",
       "    </style>\n",
       "    <div>\n",
       "        <a href=\"https://bokeh.org\" target=\"_blank\" class=\"bk-notebook-logo\"></a>\n",
       "        <span id=\"c1bb6dab-a6ee-4cf8-99d3-951510ebbeeb\">Loading BokehJS ...</span>\n",
       "    </div>\n"
      ]
     },
     "metadata": {},
     "output_type": "display_data"
    },
    {
     "data": {
      "application/javascript": "'use strict';\n(function(root) {\n  function now() {\n    return new Date();\n  }\n\n  const force = true;\n\n  if (typeof root._bokeh_onload_callbacks === \"undefined\" || force === true) {\n    root._bokeh_onload_callbacks = [];\n    root._bokeh_is_loading = undefined;\n  }\n\nconst JS_MIME_TYPE = 'application/javascript';\n  const HTML_MIME_TYPE = 'text/html';\n  const EXEC_MIME_TYPE = 'application/vnd.bokehjs_exec.v0+json';\n  const CLASS_NAME = 'output_bokeh rendered_html';\n\n  /**\n   * Render data to the DOM node\n   */\n  function render(props, node) {\n    const script = document.createElement(\"script\");\n    node.appendChild(script);\n  }\n\n  /**\n   * Handle when an output is cleared or removed\n   */\n  function handleClearOutput(event, handle) {\n    function drop(id) {\n      const view = Bokeh.index.get_by_id(id)\n      if (view != null) {\n        view.model.document.clear()\n        Bokeh.index.delete(view)\n      }\n    }\n\n    const cell = handle.cell;\n\n    const id = cell.output_area._bokeh_element_id;\n    const server_id = cell.output_area._bokeh_server_id;\n\n    // Clean up Bokeh references\n    if (id != null) {\n      drop(id)\n    }\n\n    if (server_id !== undefined) {\n      // Clean up Bokeh references\n      const cmd_clean = \"from bokeh.io.state import curstate; print(curstate().uuid_to_server['\" + server_id + \"'].get_sessions()[0].document.roots[0]._id)\";\n      cell.notebook.kernel.execute(cmd_clean, {\n        iopub: {\n          output: function(msg) {\n            const id = msg.content.text.trim()\n            drop(id)\n          }\n        }\n      });\n      // Destroy server and session\n      const cmd_destroy = \"import bokeh.io.notebook as ion; ion.destroy_server('\" + server_id + \"')\";\n      cell.notebook.kernel.execute(cmd_destroy);\n    }\n  }\n\n  /**\n   * Handle when a new output is added\n   */\n  function handleAddOutput(event, handle) {\n    const output_area = handle.output_area;\n    const output = handle.output;\n\n    // limit handleAddOutput to display_data with EXEC_MIME_TYPE content only\n    if ((output.output_type != \"display_data\") || (!Object.prototype.hasOwnProperty.call(output.data, EXEC_MIME_TYPE))) {\n      return\n    }\n\n    const toinsert = output_area.element.find(\".\" + CLASS_NAME.split(' ')[0]);\n\n    if (output.metadata[EXEC_MIME_TYPE][\"id\"] !== undefined) {\n      toinsert[toinsert.length - 1].firstChild.textContent = output.data[JS_MIME_TYPE];\n      // store reference to embed id on output_area\n      output_area._bokeh_element_id = output.metadata[EXEC_MIME_TYPE][\"id\"];\n    }\n    if (output.metadata[EXEC_MIME_TYPE][\"server_id\"] !== undefined) {\n      const bk_div = document.createElement(\"div\");\n      bk_div.innerHTML = output.data[HTML_MIME_TYPE];\n      const script_attrs = bk_div.children[0].attributes;\n      for (let i = 0; i < script_attrs.length; i++) {\n        toinsert[toinsert.length - 1].firstChild.setAttribute(script_attrs[i].name, script_attrs[i].value);\n        toinsert[toinsert.length - 1].firstChild.textContent = bk_div.children[0].textContent\n      }\n      // store reference to server id on output_area\n      output_area._bokeh_server_id = output.metadata[EXEC_MIME_TYPE][\"server_id\"];\n    }\n  }\n\n  function register_renderer(events, OutputArea) {\n\n    function append_mime(data, metadata, element) {\n      // create a DOM node to render to\n      const toinsert = this.create_output_subarea(\n        metadata,\n        CLASS_NAME,\n        EXEC_MIME_TYPE\n      );\n      this.keyboard_manager.register_events(toinsert);\n      // Render to node\n      const props = {data: data, metadata: metadata[EXEC_MIME_TYPE]};\n      render(props, toinsert[toinsert.length - 1]);\n      element.append(toinsert);\n      return toinsert\n    }\n\n    /* Handle when an output is cleared or removed */\n    events.on('clear_output.CodeCell', handleClearOutput);\n    events.on('delete.Cell', handleClearOutput);\n\n    /* Handle when a new output is added */\n    events.on('output_added.OutputArea', handleAddOutput);\n\n    /**\n     * Register the mime type and append_mime function with output_area\n     */\n    OutputArea.prototype.register_mime_type(EXEC_MIME_TYPE, append_mime, {\n      /* Is output safe? */\n      safe: true,\n      /* Index of renderer in `output_area.display_order` */\n      index: 0\n    });\n  }\n\n  // register the mime type if in Jupyter Notebook environment and previously unregistered\n  if (root.Jupyter !== undefined) {\n    const events = require('base/js/events');\n    const OutputArea = require('notebook/js/outputarea').OutputArea;\n\n    if (OutputArea.prototype.mime_types().indexOf(EXEC_MIME_TYPE) == -1) {\n      register_renderer(events, OutputArea);\n    }\n  }\n  if (typeof (root._bokeh_timeout) === \"undefined\" || force === true) {\n    root._bokeh_timeout = Date.now() + 5000;\n    root._bokeh_failed_load = false;\n  }\n\n  const NB_LOAD_WARNING = {'data': {'text/html':\n     \"<div style='background-color: #fdd'>\\n\"+\n     \"<p>\\n\"+\n     \"BokehJS does not appear to have successfully loaded. If loading BokehJS from CDN, this \\n\"+\n     \"may be due to a slow or bad network connection. Possible fixes:\\n\"+\n     \"</p>\\n\"+\n     \"<ul>\\n\"+\n     \"<li>re-rerun `output_notebook()` to attempt to load from CDN again, or</li>\\n\"+\n     \"<li>use INLINE resources instead, as so:</li>\\n\"+\n     \"</ul>\\n\"+\n     \"<code>\\n\"+\n     \"from bokeh.resources import INLINE\\n\"+\n     \"output_notebook(resources=INLINE)\\n\"+\n     \"</code>\\n\"+\n     \"</div>\"}};\n\n  function display_loaded(error = null) {\n    const el = document.getElementById(\"c1bb6dab-a6ee-4cf8-99d3-951510ebbeeb\");\n    if (el != null) {\n      const html = (() => {\n        if (typeof root.Bokeh === \"undefined\") {\n          if (error == null) {\n            return \"BokehJS is loading ...\";\n          } else {\n            return \"BokehJS failed to load.\";\n          }\n        } else {\n          const prefix = `BokehJS ${root.Bokeh.version}`;\n          if (error == null) {\n            return `${prefix} successfully loaded.`;\n          } else {\n            return `${prefix} <b>encountered errors</b> while loading and may not function as expected.`;\n          }\n        }\n      })();\n      el.innerHTML = html;\n\n      if (error != null) {\n        const wrapper = document.createElement(\"div\");\n        wrapper.style.overflow = \"auto\";\n        wrapper.style.height = \"5em\";\n        wrapper.style.resize = \"vertical\";\n        const content = document.createElement(\"div\");\n        content.style.fontFamily = \"monospace\";\n        content.style.whiteSpace = \"pre-wrap\";\n        content.style.backgroundColor = \"rgb(255, 221, 221)\";\n        content.textContent = error.stack ?? error.toString();\n        wrapper.append(content);\n        el.append(wrapper);\n      }\n    } else if (Date.now() < root._bokeh_timeout) {\n      setTimeout(() => display_loaded(error), 100);\n    }\n  }\n\n  function run_callbacks() {\n    try {\n      root._bokeh_onload_callbacks.forEach(function(callback) {\n        if (callback != null)\n          callback();\n      });\n    } finally {\n      delete root._bokeh_onload_callbacks\n    }\n    console.debug(\"Bokeh: all callbacks have finished\");\n  }\n\n  function load_libs(css_urls, js_urls, callback) {\n    if (css_urls == null) css_urls = [];\n    if (js_urls == null) js_urls = [];\n\n    root._bokeh_onload_callbacks.push(callback);\n    if (root._bokeh_is_loading > 0) {\n      console.debug(\"Bokeh: BokehJS is being loaded, scheduling callback at\", now());\n      return null;\n    }\n    if (js_urls == null || js_urls.length === 0) {\n      run_callbacks();\n      return null;\n    }\n    console.debug(\"Bokeh: BokehJS not loaded, scheduling load and callback at\", now());\n    root._bokeh_is_loading = css_urls.length + js_urls.length;\n\n    function on_load() {\n      root._bokeh_is_loading--;\n      if (root._bokeh_is_loading === 0) {\n        console.debug(\"Bokeh: all BokehJS libraries/stylesheets loaded\");\n        run_callbacks()\n      }\n    }\n\n    function on_error(url) {\n      console.error(\"failed to load \" + url);\n    }\n\n    for (let i = 0; i < css_urls.length; i++) {\n      const url = css_urls[i];\n      const element = document.createElement(\"link\");\n      element.onload = on_load;\n      element.onerror = on_error.bind(null, url);\n      element.rel = \"stylesheet\";\n      element.type = \"text/css\";\n      element.href = url;\n      console.debug(\"Bokeh: injecting link tag for BokehJS stylesheet: \", url);\n      document.body.appendChild(element);\n    }\n\n    for (let i = 0; i < js_urls.length; i++) {\n      const url = js_urls[i];\n      const element = document.createElement('script');\n      element.onload = on_load;\n      element.onerror = on_error.bind(null, url);\n      element.async = false;\n      element.src = url;\n      console.debug(\"Bokeh: injecting script tag for BokehJS library: \", url);\n      document.head.appendChild(element);\n    }\n  };\n\n  function inject_raw_css(css) {\n    const element = document.createElement(\"style\");\n    element.appendChild(document.createTextNode(css));\n    document.body.appendChild(element);\n  }\n\n  const js_urls = [\"https://cdn.bokeh.org/bokeh/release/bokeh-3.4.1.min.js\", \"https://cdn.bokeh.org/bokeh/release/bokeh-gl-3.4.1.min.js\", \"https://cdn.bokeh.org/bokeh/release/bokeh-widgets-3.4.1.min.js\", \"https://cdn.bokeh.org/bokeh/release/bokeh-tables-3.4.1.min.js\", \"https://cdn.bokeh.org/bokeh/release/bokeh-mathjax-3.4.1.min.js\"];\n  const css_urls = [];\n\n  const inline_js = [    function(Bokeh) {\n      Bokeh.set_log_level(\"info\");\n    },\nfunction(Bokeh) {\n    }\n  ];\n\n  function run_inline_js() {\n    if (root.Bokeh !== undefined || force === true) {\n      try {\n            for (let i = 0; i < inline_js.length; i++) {\n      inline_js[i].call(root, root.Bokeh);\n    }\n\n      } catch (error) {display_loaded(error);throw error;\n      }if (force === true) {\n        display_loaded();\n      }} else if (Date.now() < root._bokeh_timeout) {\n      setTimeout(run_inline_js, 100);\n    } else if (!root._bokeh_failed_load) {\n      console.log(\"Bokeh: BokehJS failed to load within specified timeout.\");\n      root._bokeh_failed_load = true;\n    } else if (force !== true) {\n      const cell = $(document.getElementById(\"c1bb6dab-a6ee-4cf8-99d3-951510ebbeeb\")).parents('.cell').data().cell;\n      cell.output_area.append_execute_result(NB_LOAD_WARNING)\n    }\n  }\n\n  if (root._bokeh_is_loading === 0) {\n    console.debug(\"Bokeh: BokehJS loaded, going straight to plotting\");\n    run_inline_js();\n  } else {\n    load_libs(css_urls, js_urls, function() {\n      console.debug(\"Bokeh: BokehJS plotting callback run at\", now());\n      run_inline_js();\n    });\n  }\n}(window));",
      "application/vnd.bokehjs_load.v0+json": ""
     },
     "metadata": {},
     "output_type": "display_data"
    },
    {
     "data": {
      "text/html": [
       "\n",
       "  <div id=\"e71bda3c-0998-41cc-a4b4-271479334341\" data-root-id=\"p1801\" style=\"display: contents;\"></div>\n"
      ]
     },
     "metadata": {},
     "output_type": "display_data"
    },
    {
     "data": {
      "application/javascript": "(function(root) {\n  function embed_document(root) {\n  const docs_json = {\"cf1b224f-593c-4c80-a7a3-543bb8842286\":{\"version\":\"3.4.1\",\"title\":\"Bokeh Application\",\"roots\":[{\"type\":\"object\",\"name\":\"Figure\",\"id\":\"p1801\",\"attributes\":{\"width\":800,\"x_range\":{\"type\":\"object\",\"name\":\"DataRange1d\",\"id\":\"p1802\"},\"y_range\":{\"type\":\"object\",\"name\":\"DataRange1d\",\"id\":\"p1803\",\"attributes\":{\"start\":0,\"end\":1132}},\"x_scale\":{\"type\":\"object\",\"name\":\"LinearScale\",\"id\":\"p1811\"},\"y_scale\":{\"type\":\"object\",\"name\":\"LinearScale\",\"id\":\"p1812\"},\"title\":{\"type\":\"object\",\"name\":\"Title\",\"id\":\"p1804\",\"attributes\":{\"text\":\"Weekly Arrivals to BEY\"}},\"renderers\":[{\"type\":\"object\",\"name\":\"GlyphRenderer\",\"id\":\"p1862\",\"attributes\":{\"name\":\"active\",\"data_source\":{\"type\":\"object\",\"name\":\"ColumnDataSource\",\"id\":\"p1798\",\"attributes\":{\"selected\":{\"type\":\"object\",\"name\":\"Selection\",\"id\":\"p1799\",\"attributes\":{\"indices\":[],\"line_indices\":[]}},\"selection_policy\":{\"type\":\"object\",\"name\":\"UnionRenderers\",\"id\":\"p1800\"},\"data\":{\"type\":\"map\",\"entries\":[[\"index\",{\"type\":\"ndarray\",\"array\":{\"type\":\"bytes\",\"data\":\"AAAAAAEAAAACAAAAAwAAAAQAAAAFAAAABgAAAAcAAAAIAAAACQAAAAoAAAALAAAADAAAAA0AAAAOAAAADwAAABAAAAARAAAAEgAAABMAAAAUAAAAFQAAABYAAAAXAAAAGAAAABkAAAAaAAAAGwAAABwAAAAdAAAAHgAAAB8AAAAgAAAAIQAAACIAAAAjAAAAJAAAACUAAAAmAAAAJwAAACgAAAA=\"},\"shape\":[41],\"dtype\":\"int32\",\"order\":\"little\"}],[\"flight_date\",{\"type\":\"ndarray\",\"array\":{\"type\":\"bytes\",\"data\":\"AADAgRPOeEIAAABKVNB4QgAAQBKV0nhCAACA2tXUeEIAAMCiFtd4QgAAAGtX2XhCAABAM5jbeEIAAID72N14QgAAwMMZ4HhCAAAAjFrieEIAAEBUm+R4QgAAgBzc5nhCAADA5BzpeEIAAACtXet4QgAAQHWe7XhCAACAPd/veEIAAMAFIPJ4QgAAAM5g9HhCAABAlqH2eEIAAIBe4vh4QgAAwCYj+3hCAAAA72P9eEIAAEC3pP94QgAAgH/lAXlCAADARyYEeUIAAAAQZwZ5QgAAQNinCHlCAACAoOgKeUIAAMBoKQ15QgAAADFqD3lCAABA+aoReUIAAIDB6xN5QgAAwIksFnlCAAAAUm0YeUIAAEAarhp5QgAAgOLuHHlCAADAqi8feUIAAABzcCF5QgAAQDuxI3lCAACAA/IleUIAAMDLMih5Qg==\"},\"shape\":[41],\"dtype\":\"float64\",\"order\":\"little\"}],[\"active\",{\"type\":\"ndarray\",\"array\":{\"type\":\"bytes\",\"data\":\"AAAAAABAZUAAAAAAAEBdQAAAAAAAgGFAAAAAAACAWEAAAAAAAIBIQAAAAAAAwFpAAAAAAABAWEAAAAAAAMBYQAAAAAAAgEtAAAAAAACAW0AAAAAAAOBgQAAAAAAAgFRAAAAAAABAVEAAAAAAAGBgQAAAAAAAIGNAAAAAAABAVEAAAAAAAIBUQAAAAAAAwFFAAAAAAADAUEAAAAAAAABUQAAAAAAAQFJAAAAAAAAAU0AAAAAAAAA3QAAAAAAAAFFAAAAAAAAAUEAAAAAAAEBSQAAAAAAAgEFAAAAAAACARkAAAAAAAIBRQAAAAAAAQFFAAAAAAACAWEAAAAAAAABUQAAAAAAAAE5AAAAAAACAU0AAAAAAAMBVQAAAAAAAwFFAAAAAAAAAVkAAAAAAAEBTQAAAAAAAwFlAAAAAAABAUEAAAAAAAAAuQA==\"},\"shape\":[41],\"dtype\":\"float64\",\"order\":\"little\"}],[\"cancelled\",{\"type\":\"ndarray\",\"array\":{\"type\":\"bytes\",\"data\":\"AAAAAAAAAEAAAAAAAAAAAAAAAAAAAPA/AAAAAAAA8D8AAAAAAAAIQAAAAAAAAPA/AAAAAAAA8D8AAAAAAADwPwAAAAAAAAAAAAAAAAAACEAAAAAAAAAQQAAAAAAAAABAAAAAAAAA8D8AAAAAAADwPwAAAAAAADpAAAAAAACARUAAAAAAAAAgQAAAAAAAAABAAAAAAAAAEEAAAAAAAAAQQAAAAAAAAPA/AAAAAAAA8D8AAAAAAADwPwAAAAAAABBAAAAAAAAAAEAAAAAAAAAIQAAAAAAAACRAAAAAAAAAIEAAAAAAAAAQQAAAAAAAABBAAAAAAADAXEAAAAAAAABGQAAAAAAAADZAAAAAAACAQEAAAAAAAAAwQAAAAAAAABhAAAAAAAAACEAAAAAAAAA7QAAAAAAAgGBAAAAAAACAVkAAAAAAAAAQQA==\"},\"shape\":[41],\"dtype\":\"float64\",\"order\":\"little\"}],[\"diverted\",{\"type\":\"ndarray\",\"array\":{\"type\":\"bytes\",\"data\":\"AAAAAAAAAAAAAAAAAAAAAAAAAAAAAAAAAAAAAAAAAAAAAAAAAAAAAAAAAAAAAAAAAAAAAAAAAAAAAAAAAAAAAAAAAAAAAAAAAAAAAAAAAAAAAAAAAADwPwAAAAAAAPA/AAAAAAAA8D8AAAAAAADwPwAAAAAAAAhAAAAAAAAAAEAAAAAAAAAAAAAAAAAAAABAAAAAAAAAFEAAAAAAAAAUQAAAAAAAAPA/AAAAAAAA8D8AAAAAAAAAAAAAAAAAAPA/AAAAAAAAAEAAAAAAAADwPwAAAAAAAABAAAAAAAAA8D8AAAAAAAAYQAAAAAAAAPA/AAAAAAAAAEAAAAAAAAAQQAAAAAAAAABAAAAAAAAATEAAAAAAAABwQAAAAAAAoGZAAAAAAAAgaUAAAAAAAKBjQAAAAAAAAEhAAAAAAACAQ0AAAAAAAAAIQA==\"},\"shape\":[41],\"dtype\":\"float64\",\"order\":\"little\"}],[\"landed\",{\"type\":\"ndarray\",\"array\":{\"type\":\"bytes\",\"data\":\"AAAAAABgbkAAAAAAAMBuQAAAAAAAgGpAAAAAAAAgaEAAAAAAAEBmQAAAAAAAIGxAAAAAAAAAb0AAAAAAAOBtQAAAAAAAgHFAAAAAAADAa0AAAAAAAOBpQAAAAAAAcHFAAAAAAABgdEAAAAAAAABzQAAAAAAA4G1AAAAAAADwckAAAAAAACBzQAAAAAAAYG1AAAAAAABgd0AAAAAAAPB0QAAAAAAA8HZAAAAAAADgdkAAAAAAAABfQAAAAAAAQIBAAAAAAADAf0AAAAAAAFB9QAAAAAAA4H5AAAAAAAAIgUAAAAAAAGB/QAAAAAAASIBAAAAAAABQeEAAAAAAALB6QAAAAAAAAH1AAAAAAABQdkAAAAAAAKBlQAAAAAAAIGZAAAAAAABAZEAAAAAAAABjQAAAAAAAAFNAAAAAAACgZEAAAAAAAAA2QA==\"},\"shape\":[41],\"dtype\":\"float64\",\"order\":\"little\"}],[\"scheduled\",{\"type\":\"ndarray\",\"array\":{\"type\":\"bytes\",\"data\":\"AAAAAABAU0AAAAAAAABPQAAAAAAAgEdAAAAAAACARkAAAAAAAABDQAAAAAAAgFBAAAAAAAAASEAAAAAAAABQQAAAAAAAAFFAAAAAAADAUUAAAAAAAIBDQAAAAAAAAEVAAAAAAAAAR0AAAAAAAABRQAAAAAAAwFVAAAAAAAAAUEAAAAAAAIBSQAAAAAAAgEpAAAAAAACAQkAAAAAAAIBHQAAAAAAAgEJAAAAAAAAAS0AAAAAAAABSQAAAAAAAAE1AAAAAAACASUAAAAAAAMBSQAAAAAAAgFRAAAAAAAAASEAAAAAAAABRQAAAAAAAAEZAAAAAAADAVEAAAAAAAMBUQAAAAAAAwFBAAAAAAADAUEAAAAAAAEBUQAAAAAAAgFdAAAAAAAAAREAAAAAAAABDQAAAAAAAAEZAAAAAAAAASUAAAAAAAAAcQA==\"},\"shape\":[41],\"dtype\":\"float64\",\"order\":\"little\"}],[\"unknown\",{\"type\":\"ndarray\",\"array\":{\"type\":\"bytes\",\"data\":\"AAAAAAAAEEAAAAAAAAAmQAAAAAAAACBAAAAAAAAAKEAAAAAAAAAcQAAAAAAAABxAAAAAAAAAIEAAAAAAAAAmQAAAAAAAAAhAAAAAAAAA8D8AAAAAAAAkQAAAAAAAACJAAAAAAAAAJEAAAAAAAAAQQAAAAAAAACpAAAAAAAAAIEAAAAAAAAAmQAAAAAAAAAhAAAAAAAAAJEAAAAAAAAAqQAAAAAAAACxAAAAAAAAAMUAAAAAAAAAQQAAAAAAAACZAAAAAAAAALkAAAAAAAAAiQAAAAAAAABRAAAAAAAAAIEAAAAAAAAAiQAAAAAAAACJAAAAAAAAAP0AAAAAAAABQQAAAAAAAAExAAAAAAAAAR0AAAAAAAABOQAAAAAAAADdAAAAAAAAAMkAAAAAAAAA9QAAAAAAAgE5AAAAAAABgYEAAAAAAAAA4QA==\"},\"shape\":[41],\"dtype\":\"float64\",\"order\":\"little\"}]]}}},\"view\":{\"type\":\"object\",\"name\":\"CDSView\",\"id\":\"p1863\",\"attributes\":{\"filter\":{\"type\":\"object\",\"name\":\"AllIndices\",\"id\":\"p1864\"}}},\"glyph\":{\"type\":\"object\",\"name\":\"VArea\",\"id\":\"p1859\",\"attributes\":{\"x\":{\"type\":\"field\",\"field\":\"flight_date\"},\"y1\":{\"type\":\"expr\",\"expr\":{\"type\":\"object\",\"name\":\"Stack\",\"id\":\"p1844\",\"attributes\":{\"fields\":[]}}},\"y2\":{\"type\":\"expr\",\"expr\":{\"type\":\"object\",\"name\":\"Stack\",\"id\":\"p1845\",\"attributes\":{\"fields\":[\"active\"]}}},\"fill_color\":\"#3288bd\",\"hatch_color\":{\"type\":\"value\",\"value\":\"#3288bd\"}}},\"nonselection_glyph\":{\"type\":\"object\",\"name\":\"VArea\",\"id\":\"p1860\",\"attributes\":{\"x\":{\"type\":\"field\",\"field\":\"flight_date\"},\"y1\":{\"type\":\"expr\",\"expr\":{\"id\":\"p1844\"}},\"y2\":{\"type\":\"expr\",\"expr\":{\"id\":\"p1845\"}},\"fill_color\":\"#3288bd\",\"fill_alpha\":0.1,\"hatch_color\":{\"type\":\"value\",\"value\":\"#3288bd\"},\"hatch_alpha\":{\"type\":\"value\",\"value\":0.1}}},\"muted_glyph\":{\"type\":\"object\",\"name\":\"VArea\",\"id\":\"p1861\",\"attributes\":{\"x\":{\"type\":\"field\",\"field\":\"flight_date\"},\"y1\":{\"type\":\"expr\",\"expr\":{\"id\":\"p1844\"}},\"y2\":{\"type\":\"expr\",\"expr\":{\"id\":\"p1845\"}},\"fill_color\":\"#3288bd\",\"fill_alpha\":0.2,\"hatch_color\":{\"type\":\"value\",\"value\":\"#3288bd\"},\"hatch_alpha\":{\"type\":\"value\",\"value\":0.2}}}}},{\"type\":\"object\",\"name\":\"GlyphRenderer\",\"id\":\"p1873\",\"attributes\":{\"name\":\"cancelled\",\"data_source\":{\"id\":\"p1798\"},\"view\":{\"type\":\"object\",\"name\":\"CDSView\",\"id\":\"p1874\",\"attributes\":{\"filter\":{\"type\":\"object\",\"name\":\"AllIndices\",\"id\":\"p1875\"}}},\"glyph\":{\"type\":\"object\",\"name\":\"VArea\",\"id\":\"p1870\",\"attributes\":{\"x\":{\"type\":\"field\",\"field\":\"flight_date\"},\"y1\":{\"type\":\"expr\",\"expr\":{\"type\":\"object\",\"name\":\"Stack\",\"id\":\"p1846\",\"attributes\":{\"fields\":[\"active\"]}}},\"y2\":{\"type\":\"expr\",\"expr\":{\"type\":\"object\",\"name\":\"Stack\",\"id\":\"p1847\",\"attributes\":{\"fields\":[\"active\",\"cancelled\"]}}},\"fill_color\":\"#99d594\",\"hatch_color\":{\"type\":\"value\",\"value\":\"#99d594\"}}},\"nonselection_glyph\":{\"type\":\"object\",\"name\":\"VArea\",\"id\":\"p1871\",\"attributes\":{\"x\":{\"type\":\"field\",\"field\":\"flight_date\"},\"y1\":{\"type\":\"expr\",\"expr\":{\"id\":\"p1846\"}},\"y2\":{\"type\":\"expr\",\"expr\":{\"id\":\"p1847\"}},\"fill_color\":\"#99d594\",\"fill_alpha\":0.1,\"hatch_color\":{\"type\":\"value\",\"value\":\"#99d594\"},\"hatch_alpha\":{\"type\":\"value\",\"value\":0.1}}},\"muted_glyph\":{\"type\":\"object\",\"name\":\"VArea\",\"id\":\"p1872\",\"attributes\":{\"x\":{\"type\":\"field\",\"field\":\"flight_date\"},\"y1\":{\"type\":\"expr\",\"expr\":{\"id\":\"p1846\"}},\"y2\":{\"type\":\"expr\",\"expr\":{\"id\":\"p1847\"}},\"fill_color\":\"#99d594\",\"fill_alpha\":0.2,\"hatch_color\":{\"type\":\"value\",\"value\":\"#99d594\"},\"hatch_alpha\":{\"type\":\"value\",\"value\":0.2}}}}},{\"type\":\"object\",\"name\":\"GlyphRenderer\",\"id\":\"p1883\",\"attributes\":{\"name\":\"landed\",\"data_source\":{\"id\":\"p1798\"},\"view\":{\"type\":\"object\",\"name\":\"CDSView\",\"id\":\"p1884\",\"attributes\":{\"filter\":{\"type\":\"object\",\"name\":\"AllIndices\",\"id\":\"p1885\"}}},\"glyph\":{\"type\":\"object\",\"name\":\"VArea\",\"id\":\"p1880\",\"attributes\":{\"x\":{\"type\":\"field\",\"field\":\"flight_date\"},\"y1\":{\"type\":\"expr\",\"expr\":{\"type\":\"object\",\"name\":\"Stack\",\"id\":\"p1848\",\"attributes\":{\"fields\":[\"active\",\"cancelled\"]}}},\"y2\":{\"type\":\"expr\",\"expr\":{\"type\":\"object\",\"name\":\"Stack\",\"id\":\"p1849\",\"attributes\":{\"fields\":[\"active\",\"cancelled\",\"landed\"]}}},\"fill_color\":\"#e6f598\",\"hatch_color\":{\"type\":\"value\",\"value\":\"#e6f598\"}}},\"nonselection_glyph\":{\"type\":\"object\",\"name\":\"VArea\",\"id\":\"p1881\",\"attributes\":{\"x\":{\"type\":\"field\",\"field\":\"flight_date\"},\"y1\":{\"type\":\"expr\",\"expr\":{\"id\":\"p1848\"}},\"y2\":{\"type\":\"expr\",\"expr\":{\"id\":\"p1849\"}},\"fill_color\":\"#e6f598\",\"fill_alpha\":0.1,\"hatch_color\":{\"type\":\"value\",\"value\":\"#e6f598\"},\"hatch_alpha\":{\"type\":\"value\",\"value\":0.1}}},\"muted_glyph\":{\"type\":\"object\",\"name\":\"VArea\",\"id\":\"p1882\",\"attributes\":{\"x\":{\"type\":\"field\",\"field\":\"flight_date\"},\"y1\":{\"type\":\"expr\",\"expr\":{\"id\":\"p1848\"}},\"y2\":{\"type\":\"expr\",\"expr\":{\"id\":\"p1849\"}},\"fill_color\":\"#e6f598\",\"fill_alpha\":0.2,\"hatch_color\":{\"type\":\"value\",\"value\":\"#e6f598\"},\"hatch_alpha\":{\"type\":\"value\",\"value\":0.2}}}}},{\"type\":\"object\",\"name\":\"GlyphRenderer\",\"id\":\"p1893\",\"attributes\":{\"name\":\"scheduled\",\"data_source\":{\"id\":\"p1798\"},\"view\":{\"type\":\"object\",\"name\":\"CDSView\",\"id\":\"p1894\",\"attributes\":{\"filter\":{\"type\":\"object\",\"name\":\"AllIndices\",\"id\":\"p1895\"}}},\"glyph\":{\"type\":\"object\",\"name\":\"VArea\",\"id\":\"p1890\",\"attributes\":{\"x\":{\"type\":\"field\",\"field\":\"flight_date\"},\"y1\":{\"type\":\"expr\",\"expr\":{\"type\":\"object\",\"name\":\"Stack\",\"id\":\"p1850\",\"attributes\":{\"fields\":[\"active\",\"cancelled\",\"landed\"]}}},\"y2\":{\"type\":\"expr\",\"expr\":{\"type\":\"object\",\"name\":\"Stack\",\"id\":\"p1851\",\"attributes\":{\"fields\":[\"active\",\"cancelled\",\"landed\",\"scheduled\"]}}},\"fill_color\":\"#fee08b\",\"hatch_color\":{\"type\":\"value\",\"value\":\"#fee08b\"}}},\"nonselection_glyph\":{\"type\":\"object\",\"name\":\"VArea\",\"id\":\"p1891\",\"attributes\":{\"x\":{\"type\":\"field\",\"field\":\"flight_date\"},\"y1\":{\"type\":\"expr\",\"expr\":{\"id\":\"p1850\"}},\"y2\":{\"type\":\"expr\",\"expr\":{\"id\":\"p1851\"}},\"fill_color\":\"#fee08b\",\"fill_alpha\":0.1,\"hatch_color\":{\"type\":\"value\",\"value\":\"#fee08b\"},\"hatch_alpha\":{\"type\":\"value\",\"value\":0.1}}},\"muted_glyph\":{\"type\":\"object\",\"name\":\"VArea\",\"id\":\"p1892\",\"attributes\":{\"x\":{\"type\":\"field\",\"field\":\"flight_date\"},\"y1\":{\"type\":\"expr\",\"expr\":{\"id\":\"p1850\"}},\"y2\":{\"type\":\"expr\",\"expr\":{\"id\":\"p1851\"}},\"fill_color\":\"#fee08b\",\"fill_alpha\":0.2,\"hatch_color\":{\"type\":\"value\",\"value\":\"#fee08b\"},\"hatch_alpha\":{\"type\":\"value\",\"value\":0.2}}}}},{\"type\":\"object\",\"name\":\"GlyphRenderer\",\"id\":\"p1903\",\"attributes\":{\"name\":\"unknown\",\"data_source\":{\"id\":\"p1798\"},\"view\":{\"type\":\"object\",\"name\":\"CDSView\",\"id\":\"p1904\",\"attributes\":{\"filter\":{\"type\":\"object\",\"name\":\"AllIndices\",\"id\":\"p1905\"}}},\"glyph\":{\"type\":\"object\",\"name\":\"VArea\",\"id\":\"p1900\",\"attributes\":{\"x\":{\"type\":\"field\",\"field\":\"flight_date\"},\"y1\":{\"type\":\"expr\",\"expr\":{\"type\":\"object\",\"name\":\"Stack\",\"id\":\"p1852\",\"attributes\":{\"fields\":[\"active\",\"cancelled\",\"landed\",\"scheduled\"]}}},\"y2\":{\"type\":\"expr\",\"expr\":{\"type\":\"object\",\"name\":\"Stack\",\"id\":\"p1853\",\"attributes\":{\"fields\":[\"active\",\"cancelled\",\"landed\",\"scheduled\",\"unknown\"]}}},\"fill_color\":\"#fc8d59\",\"hatch_color\":{\"type\":\"value\",\"value\":\"#fc8d59\"}}},\"nonselection_glyph\":{\"type\":\"object\",\"name\":\"VArea\",\"id\":\"p1901\",\"attributes\":{\"x\":{\"type\":\"field\",\"field\":\"flight_date\"},\"y1\":{\"type\":\"expr\",\"expr\":{\"id\":\"p1852\"}},\"y2\":{\"type\":\"expr\",\"expr\":{\"id\":\"p1853\"}},\"fill_color\":\"#fc8d59\",\"fill_alpha\":0.1,\"hatch_color\":{\"type\":\"value\",\"value\":\"#fc8d59\"},\"hatch_alpha\":{\"type\":\"value\",\"value\":0.1}}},\"muted_glyph\":{\"type\":\"object\",\"name\":\"VArea\",\"id\":\"p1902\",\"attributes\":{\"x\":{\"type\":\"field\",\"field\":\"flight_date\"},\"y1\":{\"type\":\"expr\",\"expr\":{\"id\":\"p1852\"}},\"y2\":{\"type\":\"expr\",\"expr\":{\"id\":\"p1853\"}},\"fill_color\":\"#fc8d59\",\"fill_alpha\":0.2,\"hatch_color\":{\"type\":\"value\",\"value\":\"#fc8d59\"},\"hatch_alpha\":{\"type\":\"value\",\"value\":0.2}}}}},{\"type\":\"object\",\"name\":\"GlyphRenderer\",\"id\":\"p1913\",\"attributes\":{\"name\":\"diverted\",\"data_source\":{\"id\":\"p1798\"},\"view\":{\"type\":\"object\",\"name\":\"CDSView\",\"id\":\"p1914\",\"attributes\":{\"filter\":{\"type\":\"object\",\"name\":\"AllIndices\",\"id\":\"p1915\"}}},\"glyph\":{\"type\":\"object\",\"name\":\"VArea\",\"id\":\"p1910\",\"attributes\":{\"x\":{\"type\":\"field\",\"field\":\"flight_date\"},\"y1\":{\"type\":\"expr\",\"expr\":{\"type\":\"object\",\"name\":\"Stack\",\"id\":\"p1854\",\"attributes\":{\"fields\":[\"active\",\"cancelled\",\"landed\",\"scheduled\",\"unknown\"]}}},\"y2\":{\"type\":\"expr\",\"expr\":{\"type\":\"object\",\"name\":\"Stack\",\"id\":\"p1855\",\"attributes\":{\"fields\":[\"active\",\"cancelled\",\"landed\",\"scheduled\",\"unknown\",\"diverted\"]}}},\"fill_color\":\"#d53e4f\",\"hatch_color\":{\"type\":\"value\",\"value\":\"#d53e4f\"}}},\"nonselection_glyph\":{\"type\":\"object\",\"name\":\"VArea\",\"id\":\"p1911\",\"attributes\":{\"x\":{\"type\":\"field\",\"field\":\"flight_date\"},\"y1\":{\"type\":\"expr\",\"expr\":{\"id\":\"p1854\"}},\"y2\":{\"type\":\"expr\",\"expr\":{\"id\":\"p1855\"}},\"fill_color\":\"#d53e4f\",\"fill_alpha\":0.1,\"hatch_color\":{\"type\":\"value\",\"value\":\"#d53e4f\"},\"hatch_alpha\":{\"type\":\"value\",\"value\":0.1}}},\"muted_glyph\":{\"type\":\"object\",\"name\":\"VArea\",\"id\":\"p1912\",\"attributes\":{\"x\":{\"type\":\"field\",\"field\":\"flight_date\"},\"y1\":{\"type\":\"expr\",\"expr\":{\"id\":\"p1854\"}},\"y2\":{\"type\":\"expr\",\"expr\":{\"id\":\"p1855\"}},\"fill_color\":\"#d53e4f\",\"fill_alpha\":0.2,\"hatch_color\":{\"type\":\"value\",\"value\":\"#d53e4f\"},\"hatch_alpha\":{\"type\":\"value\",\"value\":0.2}}}}},{\"type\":\"object\",\"name\":\"GlyphRenderer\",\"id\":\"p1923\",\"attributes\":{\"data_source\":{\"type\":\"object\",\"name\":\"ColumnDataSource\",\"id\":\"p1917\",\"attributes\":{\"selected\":{\"type\":\"object\",\"name\":\"Selection\",\"id\":\"p1918\",\"attributes\":{\"indices\":[],\"line_indices\":[]}},\"selection_policy\":{\"type\":\"object\",\"name\":\"UnionRenderers\",\"id\":\"p1919\"},\"data\":{\"type\":\"map\",\"entries\":[[\"x\",{\"type\":\"ndarray\",\"array\":{\"type\":\"bytes\",\"data\":\"AADAgRPOeEIAAABKVNB4QgAAQBKV0nhCAACA2tXUeEIAAMCiFtd4QgAAAGtX2XhCAABAM5jbeEIAAID72N14QgAAwMMZ4HhCAAAAjFrieEIAAEBUm+R4QgAAgBzc5nhCAADA5BzpeEIAAACtXet4QgAAQHWe7XhCAACAPd/veEIAAMAFIPJ4QgAAAM5g9HhCAABAlqH2eEIAAIBe4vh4QgAAwCYj+3hCAAAA72P9eEIAAEC3pP94QgAAgH/lAXlCAADARyYEeUIAAAAQZwZ5QgAAQNinCHlCAACAoOgKeUIAAMBoKQ15QgAAADFqD3lCAABA+aoReUIAAIDB6xN5QgAAwIksFnlCAAAAUm0YeUIAAEAarhp5QgAAgOLuHHlCAADAqi8feUIAAABzcCF5QgAAQDuxI3lCAACAA/IleUI=\"},\"shape\":[40],\"dtype\":\"float64\",\"order\":\"little\"}],[\"y\",{\"type\":\"ndarray\",\"array\":{\"type\":\"bytes\",\"data\":\"kQAAAJkAAACjAAAAugAAAL8AAADaAAAA1wAAAK4AAADLAAAAtgAAALYAAACfAAAApAAAAJEAAACeAAAAnwAAAJ4AAACOAAAAmQAAAI0AAAChAAAAnwAAAK4AAACaAAAAiwAAAI8AAAC3AAAArAAAAKMAAACFAAAAiQAAAJ8AAACdAAAABQEAAKoAAACrAAAAyAAAAGsBAACkAwAACwIAAA==\"},\"shape\":[40],\"dtype\":\"int32\",\"order\":\"little\"}]]}}},\"view\":{\"type\":\"object\",\"name\":\"CDSView\",\"id\":\"p1924\",\"attributes\":{\"filter\":{\"type\":\"object\",\"name\":\"AllIndices\",\"id\":\"p1925\"}}},\"glyph\":{\"type\":\"object\",\"name\":\"Line\",\"id\":\"p1920\",\"attributes\":{\"x\":{\"type\":\"field\",\"field\":\"x\"},\"y\":{\"type\":\"field\",\"field\":\"y\"},\"line_width\":2}},\"nonselection_glyph\":{\"type\":\"object\",\"name\":\"Line\",\"id\":\"p1921\",\"attributes\":{\"x\":{\"type\":\"field\",\"field\":\"x\"},\"y\":{\"type\":\"field\",\"field\":\"y\"},\"line_alpha\":0.1,\"line_width\":2}},\"muted_glyph\":{\"type\":\"object\",\"name\":\"Line\",\"id\":\"p1922\",\"attributes\":{\"x\":{\"type\":\"field\",\"field\":\"x\"},\"y\":{\"type\":\"field\",\"field\":\"y\"},\"line_alpha\":0.2,\"line_width\":2}}}},{\"type\":\"object\",\"name\":\"Span\",\"id\":\"p1930\",\"attributes\":{\"location\":1713052800000.0,\"dimension\":\"height\",\"line_color\":\"#C6C6C6\",\"line_width\":2,\"line_dash\":[4,4]}},{\"type\":\"object\",\"name\":\"Span\",\"id\":\"p1932\",\"attributes\":{\"location\":1724544000000.0,\"dimension\":\"height\",\"line_color\":\"#C6C6C6\",\"line_width\":2,\"line_dash\":[4,4]}},{\"type\":\"object\",\"name\":\"Span\",\"id\":\"p1934\",\"attributes\":{\"location\":1727049600000.0,\"dimension\":\"height\",\"line_color\":\"#C6C6C6\",\"line_width\":2,\"line_dash\":[4,4]}}],\"toolbar\":{\"type\":\"object\",\"name\":\"Toolbar\",\"id\":\"p1810\",\"attributes\":{\"tools\":[{\"type\":\"object\",\"name\":\"PanTool\",\"id\":\"p1835\"},{\"type\":\"object\",\"name\":\"BoxZoomTool\",\"id\":\"p1836\",\"attributes\":{\"overlay\":{\"type\":\"object\",\"name\":\"BoxAnnotation\",\"id\":\"p1837\",\"attributes\":{\"syncable\":false,\"level\":\"overlay\",\"visible\":false,\"left\":{\"type\":\"number\",\"value\":\"nan\"},\"right\":{\"type\":\"number\",\"value\":\"nan\"},\"top\":{\"type\":\"number\",\"value\":\"nan\"},\"bottom\":{\"type\":\"number\",\"value\":\"nan\"},\"left_units\":\"canvas\",\"right_units\":\"canvas\",\"top_units\":\"canvas\",\"bottom_units\":\"canvas\",\"line_color\":\"black\",\"line_alpha\":1.0,\"line_width\":2,\"line_dash\":[4,4],\"fill_color\":\"lightgrey\",\"fill_alpha\":0.5}}}},{\"type\":\"object\",\"name\":\"ResetTool\",\"id\":\"p1842\"},{\"type\":\"object\",\"name\":\"SaveTool\",\"id\":\"p1843\"}]}},\"toolbar_location\":\"above\",\"left\":[{\"type\":\"object\",\"name\":\"LinearAxis\",\"id\":\"p1830\",\"attributes\":{\"ticker\":{\"type\":\"object\",\"name\":\"BasicTicker\",\"id\":\"p1831\",\"attributes\":{\"mantissas\":[1,2,5]}},\"formatter\":{\"type\":\"object\",\"name\":\"BasicTickFormatter\",\"id\":\"p1832\"},\"axis_label\":\"Nr Flights\",\"major_label_policy\":{\"type\":\"object\",\"name\":\"AllLabels\",\"id\":\"p1833\"}}}],\"below\":[{\"type\":\"object\",\"name\":\"DatetimeAxis\",\"id\":\"p1813\",\"attributes\":{\"ticker\":{\"type\":\"object\",\"name\":\"FixedTicker\",\"id\":\"p1928\",\"attributes\":{\"ticks\":[1704585600000.0,1705795200000.0,1707004800000.0,1708214400000.0,1709424000000.0,1710633600000.0,1711843200000.0,1713052800000.0,1714262400000.0,1715472000000.0,1716681600000.0,1717891200000.0,1719100800000.0,1720310400000.0,1721520000000.0,1722729600000.0,1723939200000.0,1725148800000.0,1726358400000.0,1727568000000.0,1728777600000.0],\"minor_ticks\":[]}},\"formatter\":{\"type\":\"object\",\"name\":\"DatetimeTickFormatter\",\"id\":\"p1927\",\"attributes\":{\"days\":\"%d %b %Y\",\"months\":\"%b %Y\"}},\"axis_label\":\"Flight Date\",\"major_label_orientation\":1.2,\"major_label_policy\":{\"type\":\"object\",\"name\":\"AllLabels\",\"id\":\"p1828\"}}},{\"type\":\"object\",\"name\":\"Label\",\"id\":\"p1929\",\"attributes\":{\"text\":\"Source: Flight data from AviationStack and conflict events from ACLED\",\"text_color\":\"gray\",\"text_font_size\":\"10pt\",\"x\":0,\"y\":0,\"x_units\":\"screen\",\"y_units\":\"screen\"}}],\"center\":[{\"type\":\"object\",\"name\":\"Grid\",\"id\":\"p1829\",\"attributes\":{\"axis\":{\"id\":\"p1813\"}}},{\"type\":\"object\",\"name\":\"Grid\",\"id\":\"p1834\",\"attributes\":{\"dimension\":1,\"axis\":{\"id\":\"p1830\"}}},{\"type\":\"object\",\"name\":\"Legend\",\"id\":\"p1865\",\"attributes\":{\"location\":\"top_left\",\"orientation\":\"horizontal\",\"click_policy\":\"mute\",\"items\":[{\"type\":\"object\",\"name\":\"LegendItem\",\"id\":\"p1866\",\"attributes\":{\"label\":{\"type\":\"value\",\"value\":\"active\"},\"renderers\":[{\"id\":\"p1862\"}]}},{\"type\":\"object\",\"name\":\"LegendItem\",\"id\":\"p1876\",\"attributes\":{\"label\":{\"type\":\"value\",\"value\":\"cancelled\"},\"renderers\":[{\"id\":\"p1873\"}]}},{\"type\":\"object\",\"name\":\"LegendItem\",\"id\":\"p1886\",\"attributes\":{\"label\":{\"type\":\"value\",\"value\":\"landed\"},\"renderers\":[{\"id\":\"p1883\"}]}},{\"type\":\"object\",\"name\":\"LegendItem\",\"id\":\"p1896\",\"attributes\":{\"label\":{\"type\":\"value\",\"value\":\"scheduled\"},\"renderers\":[{\"id\":\"p1893\"}]}},{\"type\":\"object\",\"name\":\"LegendItem\",\"id\":\"p1906\",\"attributes\":{\"label\":{\"type\":\"value\",\"value\":\"unknown\"},\"renderers\":[{\"id\":\"p1903\"}]}},{\"type\":\"object\",\"name\":\"LegendItem\",\"id\":\"p1916\",\"attributes\":{\"label\":{\"type\":\"value\",\"value\":\"diverted\"},\"renderers\":[{\"id\":\"p1913\"}]}},{\"type\":\"object\",\"name\":\"LegendItem\",\"id\":\"p1926\",\"attributes\":{\"label\":{\"type\":\"value\",\"value\":\"Number of Conflict Events\"},\"renderers\":[{\"id\":\"p1923\"}]}}]}},{\"type\":\"object\",\"name\":\"Label\",\"id\":\"p1931\",\"attributes\":{\"text\":\"Temporary shutdown of\\nLebanese airspace between\\n7AM and 1PM\",\"text_color\":\"black\",\"text_font_size\":\"10pt\",\"text_align\":\"right\",\"background_fill_color\":\"grey\",\"background_fill_alpha\":0.2,\"x\":1713052800000.0,\"y\":905.6,\"x_offset\":-5}},{\"type\":\"object\",\"name\":\"Label\",\"id\":\"p1933\",\"attributes\":{\"text\":\"Israeli strikes in\\nSouthern Lebanon\",\"text_color\":\"black\",\"text_font_size\":\"10pt\",\"text_align\":\"right\",\"background_fill_color\":\"grey\",\"background_fill_alpha\":0.2,\"x\":1724544000000.0,\"y\":815.04,\"x_offset\":-5}},{\"type\":\"object\",\"name\":\"Label\",\"id\":\"p1935\",\"attributes\":{\"text\":\"Start of the full blown conflict\",\"text_color\":\"black\",\"text_font_size\":\"10pt\",\"text_align\":\"right\",\"background_fill_color\":\"grey\",\"background_fill_alpha\":0.2,\"x\":1727049600000.0,\"y\":724.48,\"x_offset\":-5}}]}}]}};\n  const render_items = [{\"docid\":\"cf1b224f-593c-4c80-a7a3-543bb8842286\",\"roots\":{\"p1801\":\"e71bda3c-0998-41cc-a4b4-271479334341\"},\"root_ids\":[\"p1801\"]}];\n  void root.Bokeh.embed.embed_items_notebook(docs_json, render_items);\n  }\n  if (root.Bokeh !== undefined) {\n    embed_document(root);\n  } else {\n    let attempts = 0;\n    const timer = setInterval(function(root) {\n      if (root.Bokeh !== undefined) {\n        clearInterval(timer);\n        embed_document(root);\n      } else {\n        attempts++;\n        if (attempts > 100) {\n          clearInterval(timer);\n          console.log(\"Bokeh: ERROR: Unable to run BokehJS code because BokehJS library is missing\");\n        }\n      }\n    }, 10, root)\n  }\n})(window);",
      "application/vnd.bokehjs_exec.v0+json": ""
     },
     "metadata": {
      "application/vnd.bokehjs_exec.v0+json": {
       "id": "p1801"
      }
     },
     "output_type": "display_data"
    }
   ],
   "source": [
    "output_notebook()  # Display plots inline in a Jupyter notebook\n",
    "\n",
    "arrivals_exploded[\"flight_date\"] = arrivals_exploded[\"flight_date\"].apply(\n",
    "    lambda x: pd.to_datetime(x)\n",
    ")\n",
    "df = (\n",
    "    arrivals_exploded.groupby(\n",
    "        [pd.Grouper(key=\"flight_date\", freq=\"W\"), \"flight_status\"]\n",
    "    )\n",
    "    .count()[[\"iata_arr\"]]\n",
    "    .reset_index()\n",
    ")\n",
    "\n",
    "show(\n",
    "    get_area_plot(\n",
    "        df,\n",
    "        \"Weekly Arrivals to BEY\",\n",
    "        \"Source: Flight data from AviationStack and conflict events from ACLED\",\n",
    "        acled_events_weekly,\n",
    "        reindex_freq=\"W\",\n",
    "        events_dict=events,\n",
    "    )\n",
    ")"
   ]
  },
  {
   "cell_type": "markdown",
   "metadata": {},
   "source": [
    "### Findings\n",
    "\n",
    "- The number of departures than arrivals from the BEY airport\n",
    "- The number of cancellations, divertions and scheduled flights that were either cancelled or diverted increased since June 2024. "
   ]
  },
  {
   "cell_type": "code",
   "execution_count": 31,
   "metadata": {
    "tags": [
     "remove-cell"
    ]
   },
   "outputs": [],
   "source": [
    "arrivals_exploded[\"airportcity\"] = arrivals_exploded[\"iata_dep\"].map(iata_mapping)\n",
    "most_changed_arrivals = (\n",
    "    pd.DataFrame(\n",
    "        arrivals_exploded[\n",
    "            arrivals_exploded[\"flight_status\"].isin(\n",
    "                [\"scheduled\", \"cancelled\", \"diverted\"]\n",
    "            )\n",
    "        ][\"airportcity\"]\n",
    "        .value_counts()\n",
    "        .head(10)\n",
    "    )\n",
    "    .reset_index()\n",
    "    .sort_values(by=\"count\", ascending=True)\n",
    ")\n",
    "most_cancelled_arrivals = (\n",
    "    pd.DataFrame(\n",
    "        arrivals_exploded[arrivals_exploded[\"flight_status\"].isin([\"cancelled\"])][\n",
    "            \"airportcity\"\n",
    "        ]\n",
    "        .value_counts()\n",
    "        .head(10)\n",
    "    )\n",
    "    .reset_index()\n",
    "    .sort_values(by=\"count\", ascending=True)\n",
    ")\n",
    "most_scheduled_arrivals = (\n",
    "    pd.DataFrame(\n",
    "        arrivals_exploded[arrivals_exploded[\"flight_status\"].isin([\"scheduled\"])][\n",
    "            \"airportcity\"\n",
    "        ]\n",
    "        .value_counts()\n",
    "        .head(10)\n",
    "    )\n",
    "    .reset_index()\n",
    "    .sort_values(by=\"count\", ascending=True)\n",
    ")\n",
    "most_diverted_arrivals = (\n",
    "    pd.DataFrame(\n",
    "        arrivals_exploded[arrivals_exploded[\"flight_status\"].isin([\"diverted\"])][\n",
    "            \"airportcity\"\n",
    "        ]\n",
    "        .value_counts()\n",
    "        .head(10)\n",
    "    )\n",
    "    .reset_index()\n",
    "    .sort_values(by=\"count\", ascending=True)\n",
    ")"
   ]
  },
  {
   "cell_type": "code",
   "execution_count": 32,
   "metadata": {},
   "outputs": [
    {
     "data": {
      "text/html": [
       "    <style>\n",
       "        .bk-notebook-logo {\n",
       "            display: block;\n",
       "            width: 20px;\n",
       "            height: 20px;\n",
       "            background-image: url(data:image/png;base64,iVBORw0KGgoAAAANSUhEUgAAABQAAAAUCAYAAACNiR0NAAAABHNCSVQICAgIfAhkiAAAAAlwSFlzAAALEgAACxIB0t1+/AAAABx0RVh0U29mdHdhcmUAQWRvYmUgRmlyZXdvcmtzIENTNui8sowAAAOkSURBVDiNjZRtaJVlGMd/1/08zzln5zjP1LWcU9N0NkN8m2CYjpgQYQXqSs0I84OLIC0hkEKoPtiH3gmKoiJDU7QpLgoLjLIQCpEsNJ1vqUOdO7ppbuec5+V+rj4ctwzd8IIbbi6u+8f1539dt3A78eXC7QizUF7gyV1fD1Yqg4JWz84yffhm0qkFqBogB9rM8tZdtwVsPUhWhGcFJngGeWrPzHm5oaMmkfEg1usvLFyc8jLRqDOMru7AyC8saQr7GG7f5fvDeH7Ej8CM66nIF+8yngt6HWaKh7k49Soy9nXurCi1o3qUbS3zWfrYeQDTB/Qj6kX6Ybhw4B+bOYoLKCC9H3Nu/leUTZ1JdRWkkn2ldcCamzrcf47KKXdAJllSlxAOkRgyHsGC/zRday5Qld9DyoM4/q/rUoy/CXh3jzOu3bHUVZeU+DEn8FInkPBFlu3+nW3Nw0mk6vCDiWg8CeJaxEwuHS3+z5RgY+YBR6V1Z1nxSOfoaPa4LASWxxdNp+VWTk7+4vzaou8v8PN+xo+KY2xsw6une2frhw05CTYOmQvsEhjhWjn0bmXPjpE1+kplmmkP3suftwTubK9Vq22qKmrBhpY4jvd5afdRA3wGjFAgcnTK2s4hY0/GPNIb0nErGMCRxWOOX64Z8RAC4oCXdklmEvcL8o0BfkNK4lUg9HTl+oPlQxdNo3Mg4Nv175e/1LDGzZen30MEjRUtmXSfiTVu1kK8W4txyV6BMKlbgk3lMwYCiusNy9fVfvvwMxv8Ynl6vxoByANLTWplvuj/nF9m2+PDtt1eiHPBr1oIfhCChQMBw6Aw0UulqTKZdfVvfG7VcfIqLG9bcldL/+pdWTLxLUy8Qq38heUIjh4XlzZxzQm19lLFlr8vdQ97rjZVOLf8nclzckbcD4wxXMidpX30sFd37Fv/GtwwhzhxGVAprjbg0gCAEeIgwCZyTV2Z1REEW8O4py0wsjeloKoMr6iCY6dP92H6Vw/oTyICIthibxjm/DfN9lVz8IqtqKYLUXfoKVMVQVVJOElGjrnnUt9T9wbgp8AyYKaGlqingHZU/uG2NTZSVqwHQTWkx9hxjkpWDaCg6Ckj5qebgBVbT3V3NNXMSiWSDdGV3hrtzla7J+duwPOToIg42ChPQOQjspnSlp1V+Gjdged7+8UN5CRAV7a5EdFNwCjEaBR27b3W890TE7g24NAP/mMDXRWrGoFPQI9ls/MWO2dWFAar/xcOIImbbpA3zgAAAABJRU5ErkJggg==);\n",
       "        }\n",
       "    </style>\n",
       "    <div>\n",
       "        <a href=\"https://bokeh.org\" target=\"_blank\" class=\"bk-notebook-logo\"></a>\n",
       "        <span id=\"b4d7c80f-c2a7-49ae-a7ab-3d14f8dda9c2\">Loading BokehJS ...</span>\n",
       "    </div>\n"
      ]
     },
     "metadata": {},
     "output_type": "display_data"
    },
    {
     "data": {
      "application/javascript": "'use strict';\n(function(root) {\n  function now() {\n    return new Date();\n  }\n\n  const force = true;\n\n  if (typeof root._bokeh_onload_callbacks === \"undefined\" || force === true) {\n    root._bokeh_onload_callbacks = [];\n    root._bokeh_is_loading = undefined;\n  }\n\nconst JS_MIME_TYPE = 'application/javascript';\n  const HTML_MIME_TYPE = 'text/html';\n  const EXEC_MIME_TYPE = 'application/vnd.bokehjs_exec.v0+json';\n  const CLASS_NAME = 'output_bokeh rendered_html';\n\n  /**\n   * Render data to the DOM node\n   */\n  function render(props, node) {\n    const script = document.createElement(\"script\");\n    node.appendChild(script);\n  }\n\n  /**\n   * Handle when an output is cleared or removed\n   */\n  function handleClearOutput(event, handle) {\n    function drop(id) {\n      const view = Bokeh.index.get_by_id(id)\n      if (view != null) {\n        view.model.document.clear()\n        Bokeh.index.delete(view)\n      }\n    }\n\n    const cell = handle.cell;\n\n    const id = cell.output_area._bokeh_element_id;\n    const server_id = cell.output_area._bokeh_server_id;\n\n    // Clean up Bokeh references\n    if (id != null) {\n      drop(id)\n    }\n\n    if (server_id !== undefined) {\n      // Clean up Bokeh references\n      const cmd_clean = \"from bokeh.io.state import curstate; print(curstate().uuid_to_server['\" + server_id + \"'].get_sessions()[0].document.roots[0]._id)\";\n      cell.notebook.kernel.execute(cmd_clean, {\n        iopub: {\n          output: function(msg) {\n            const id = msg.content.text.trim()\n            drop(id)\n          }\n        }\n      });\n      // Destroy server and session\n      const cmd_destroy = \"import bokeh.io.notebook as ion; ion.destroy_server('\" + server_id + \"')\";\n      cell.notebook.kernel.execute(cmd_destroy);\n    }\n  }\n\n  /**\n   * Handle when a new output is added\n   */\n  function handleAddOutput(event, handle) {\n    const output_area = handle.output_area;\n    const output = handle.output;\n\n    // limit handleAddOutput to display_data with EXEC_MIME_TYPE content only\n    if ((output.output_type != \"display_data\") || (!Object.prototype.hasOwnProperty.call(output.data, EXEC_MIME_TYPE))) {\n      return\n    }\n\n    const toinsert = output_area.element.find(\".\" + CLASS_NAME.split(' ')[0]);\n\n    if (output.metadata[EXEC_MIME_TYPE][\"id\"] !== undefined) {\n      toinsert[toinsert.length - 1].firstChild.textContent = output.data[JS_MIME_TYPE];\n      // store reference to embed id on output_area\n      output_area._bokeh_element_id = output.metadata[EXEC_MIME_TYPE][\"id\"];\n    }\n    if (output.metadata[EXEC_MIME_TYPE][\"server_id\"] !== undefined) {\n      const bk_div = document.createElement(\"div\");\n      bk_div.innerHTML = output.data[HTML_MIME_TYPE];\n      const script_attrs = bk_div.children[0].attributes;\n      for (let i = 0; i < script_attrs.length; i++) {\n        toinsert[toinsert.length - 1].firstChild.setAttribute(script_attrs[i].name, script_attrs[i].value);\n        toinsert[toinsert.length - 1].firstChild.textContent = bk_div.children[0].textContent\n      }\n      // store reference to server id on output_area\n      output_area._bokeh_server_id = output.metadata[EXEC_MIME_TYPE][\"server_id\"];\n    }\n  }\n\n  function register_renderer(events, OutputArea) {\n\n    function append_mime(data, metadata, element) {\n      // create a DOM node to render to\n      const toinsert = this.create_output_subarea(\n        metadata,\n        CLASS_NAME,\n        EXEC_MIME_TYPE\n      );\n      this.keyboard_manager.register_events(toinsert);\n      // Render to node\n      const props = {data: data, metadata: metadata[EXEC_MIME_TYPE]};\n      render(props, toinsert[toinsert.length - 1]);\n      element.append(toinsert);\n      return toinsert\n    }\n\n    /* Handle when an output is cleared or removed */\n    events.on('clear_output.CodeCell', handleClearOutput);\n    events.on('delete.Cell', handleClearOutput);\n\n    /* Handle when a new output is added */\n    events.on('output_added.OutputArea', handleAddOutput);\n\n    /**\n     * Register the mime type and append_mime function with output_area\n     */\n    OutputArea.prototype.register_mime_type(EXEC_MIME_TYPE, append_mime, {\n      /* Is output safe? */\n      safe: true,\n      /* Index of renderer in `output_area.display_order` */\n      index: 0\n    });\n  }\n\n  // register the mime type if in Jupyter Notebook environment and previously unregistered\n  if (root.Jupyter !== undefined) {\n    const events = require('base/js/events');\n    const OutputArea = require('notebook/js/outputarea').OutputArea;\n\n    if (OutputArea.prototype.mime_types().indexOf(EXEC_MIME_TYPE) == -1) {\n      register_renderer(events, OutputArea);\n    }\n  }\n  if (typeof (root._bokeh_timeout) === \"undefined\" || force === true) {\n    root._bokeh_timeout = Date.now() + 5000;\n    root._bokeh_failed_load = false;\n  }\n\n  const NB_LOAD_WARNING = {'data': {'text/html':\n     \"<div style='background-color: #fdd'>\\n\"+\n     \"<p>\\n\"+\n     \"BokehJS does not appear to have successfully loaded. If loading BokehJS from CDN, this \\n\"+\n     \"may be due to a slow or bad network connection. Possible fixes:\\n\"+\n     \"</p>\\n\"+\n     \"<ul>\\n\"+\n     \"<li>re-rerun `output_notebook()` to attempt to load from CDN again, or</li>\\n\"+\n     \"<li>use INLINE resources instead, as so:</li>\\n\"+\n     \"</ul>\\n\"+\n     \"<code>\\n\"+\n     \"from bokeh.resources import INLINE\\n\"+\n     \"output_notebook(resources=INLINE)\\n\"+\n     \"</code>\\n\"+\n     \"</div>\"}};\n\n  function display_loaded(error = null) {\n    const el = document.getElementById(\"b4d7c80f-c2a7-49ae-a7ab-3d14f8dda9c2\");\n    if (el != null) {\n      const html = (() => {\n        if (typeof root.Bokeh === \"undefined\") {\n          if (error == null) {\n            return \"BokehJS is loading ...\";\n          } else {\n            return \"BokehJS failed to load.\";\n          }\n        } else {\n          const prefix = `BokehJS ${root.Bokeh.version}`;\n          if (error == null) {\n            return `${prefix} successfully loaded.`;\n          } else {\n            return `${prefix} <b>encountered errors</b> while loading and may not function as expected.`;\n          }\n        }\n      })();\n      el.innerHTML = html;\n\n      if (error != null) {\n        const wrapper = document.createElement(\"div\");\n        wrapper.style.overflow = \"auto\";\n        wrapper.style.height = \"5em\";\n        wrapper.style.resize = \"vertical\";\n        const content = document.createElement(\"div\");\n        content.style.fontFamily = \"monospace\";\n        content.style.whiteSpace = \"pre-wrap\";\n        content.style.backgroundColor = \"rgb(255, 221, 221)\";\n        content.textContent = error.stack ?? error.toString();\n        wrapper.append(content);\n        el.append(wrapper);\n      }\n    } else if (Date.now() < root._bokeh_timeout) {\n      setTimeout(() => display_loaded(error), 100);\n    }\n  }\n\n  function run_callbacks() {\n    try {\n      root._bokeh_onload_callbacks.forEach(function(callback) {\n        if (callback != null)\n          callback();\n      });\n    } finally {\n      delete root._bokeh_onload_callbacks\n    }\n    console.debug(\"Bokeh: all callbacks have finished\");\n  }\n\n  function load_libs(css_urls, js_urls, callback) {\n    if (css_urls == null) css_urls = [];\n    if (js_urls == null) js_urls = [];\n\n    root._bokeh_onload_callbacks.push(callback);\n    if (root._bokeh_is_loading > 0) {\n      console.debug(\"Bokeh: BokehJS is being loaded, scheduling callback at\", now());\n      return null;\n    }\n    if (js_urls == null || js_urls.length === 0) {\n      run_callbacks();\n      return null;\n    }\n    console.debug(\"Bokeh: BokehJS not loaded, scheduling load and callback at\", now());\n    root._bokeh_is_loading = css_urls.length + js_urls.length;\n\n    function on_load() {\n      root._bokeh_is_loading--;\n      if (root._bokeh_is_loading === 0) {\n        console.debug(\"Bokeh: all BokehJS libraries/stylesheets loaded\");\n        run_callbacks()\n      }\n    }\n\n    function on_error(url) {\n      console.error(\"failed to load \" + url);\n    }\n\n    for (let i = 0; i < css_urls.length; i++) {\n      const url = css_urls[i];\n      const element = document.createElement(\"link\");\n      element.onload = on_load;\n      element.onerror = on_error.bind(null, url);\n      element.rel = \"stylesheet\";\n      element.type = \"text/css\";\n      element.href = url;\n      console.debug(\"Bokeh: injecting link tag for BokehJS stylesheet: \", url);\n      document.body.appendChild(element);\n    }\n\n    for (let i = 0; i < js_urls.length; i++) {\n      const url = js_urls[i];\n      const element = document.createElement('script');\n      element.onload = on_load;\n      element.onerror = on_error.bind(null, url);\n      element.async = false;\n      element.src = url;\n      console.debug(\"Bokeh: injecting script tag for BokehJS library: \", url);\n      document.head.appendChild(element);\n    }\n  };\n\n  function inject_raw_css(css) {\n    const element = document.createElement(\"style\");\n    element.appendChild(document.createTextNode(css));\n    document.body.appendChild(element);\n  }\n\n  const js_urls = [\"https://cdn.bokeh.org/bokeh/release/bokeh-3.4.1.min.js\", \"https://cdn.bokeh.org/bokeh/release/bokeh-gl-3.4.1.min.js\", \"https://cdn.bokeh.org/bokeh/release/bokeh-widgets-3.4.1.min.js\", \"https://cdn.bokeh.org/bokeh/release/bokeh-tables-3.4.1.min.js\", \"https://cdn.bokeh.org/bokeh/release/bokeh-mathjax-3.4.1.min.js\"];\n  const css_urls = [];\n\n  const inline_js = [    function(Bokeh) {\n      Bokeh.set_log_level(\"info\");\n    },\nfunction(Bokeh) {\n    }\n  ];\n\n  function run_inline_js() {\n    if (root.Bokeh !== undefined || force === true) {\n      try {\n            for (let i = 0; i < inline_js.length; i++) {\n      inline_js[i].call(root, root.Bokeh);\n    }\n\n      } catch (error) {display_loaded(error);throw error;\n      }if (force === true) {\n        display_loaded();\n      }} else if (Date.now() < root._bokeh_timeout) {\n      setTimeout(run_inline_js, 100);\n    } else if (!root._bokeh_failed_load) {\n      console.log(\"Bokeh: BokehJS failed to load within specified timeout.\");\n      root._bokeh_failed_load = true;\n    } else if (force !== true) {\n      const cell = $(document.getElementById(\"b4d7c80f-c2a7-49ae-a7ab-3d14f8dda9c2\")).parents('.cell').data().cell;\n      cell.output_area.append_execute_result(NB_LOAD_WARNING)\n    }\n  }\n\n  if (root._bokeh_is_loading === 0) {\n    console.debug(\"Bokeh: BokehJS loaded, going straight to plotting\");\n    run_inline_js();\n  } else {\n    load_libs(css_urls, js_urls, function() {\n      console.debug(\"Bokeh: BokehJS plotting callback run at\", now());\n      run_inline_js();\n    });\n  }\n}(window));",
      "application/vnd.bokehjs_load.v0+json": ""
     },
     "metadata": {},
     "output_type": "display_data"
    },
    {
     "data": {
      "text/html": [
       "\n",
       "  <div id=\"e0fa38c4-68c0-43d6-94d4-44ce9631212f\" data-root-id=\"p2140\" style=\"display: contents;\"></div>\n"
      ]
     },
     "metadata": {},
     "output_type": "display_data"
    },
    {
     "data": {
      "application/javascript": "(function(root) {\n  function embed_document(root) {\n  const docs_json = {\"25a798d5-5721-4899-9677-b1c065e45dee\":{\"version\":\"3.4.1\",\"title\":\"Bokeh Application\",\"roots\":[{\"type\":\"object\",\"name\":\"Column\",\"id\":\"p2140\",\"attributes\":{\"children\":[{\"type\":\"object\",\"name\":\"Div\",\"id\":\"p2139\",\"attributes\":{\"width\":800,\"text\":\"<h2>Top 10 Destinations with Changes in Arrivals to BEY in 2024</h2>\"}},{\"type\":\"object\",\"name\":\"Tabs\",\"id\":\"p2138\",\"attributes\":{\"tabs\":[{\"type\":\"object\",\"name\":\"TabPanel\",\"id\":\"p1993\",\"attributes\":{\"title\":\"Most Changed Arrivals\",\"child\":{\"type\":\"object\",\"name\":\"Column\",\"id\":\"p1992\",\"attributes\":{\"children\":[{\"type\":\"object\",\"name\":\"Figure\",\"id\":\"p1949\",\"attributes\":{\"height\":400,\"x_range\":{\"type\":\"object\",\"name\":\"DataRange1d\",\"id\":\"p1951\"},\"y_range\":{\"type\":\"object\",\"name\":\"FactorRange\",\"id\":\"p1959\",\"attributes\":{\"factors\":[\"Larnaca\",\"Frankfurt\",\"Paris (Charles de Gaulle)\",\"Doha\",\"Abu Dhabi\",\"Baghdad\",\"Amman\",\"Cairo\",\"Istanbul\",\"Dubai\"]}},\"x_scale\":{\"type\":\"object\",\"name\":\"LinearScale\",\"id\":\"p1960\"},\"y_scale\":{\"type\":\"object\",\"name\":\"CategoricalScale\",\"id\":\"p1961\"},\"title\":{\"type\":\"object\",\"name\":\"Title\",\"id\":\"p1952\",\"attributes\":{\"text\":\"Most Changed Arrivals in 2024\"}},\"outline_line_color\":null,\"renderers\":[{\"type\":\"object\",\"name\":\"GlyphRenderer\",\"id\":\"p1979\",\"attributes\":{\"data_source\":{\"type\":\"object\",\"name\":\"ColumnDataSource\",\"id\":\"p1946\",\"attributes\":{\"selected\":{\"type\":\"object\",\"name\":\"Selection\",\"id\":\"p1947\",\"attributes\":{\"indices\":[],\"line_indices\":[]}},\"selection_policy\":{\"type\":\"object\",\"name\":\"UnionRenderers\",\"id\":\"p1948\"},\"data\":{\"type\":\"map\",\"entries\":[[\"index\",{\"type\":\"ndarray\",\"array\":{\"type\":\"bytes\",\"data\":\"CQAAAAgAAAAHAAAABgAAAAUAAAAEAAAAAwAAAAIAAAABAAAAAAAAAA==\"},\"shape\":[10],\"dtype\":\"int32\",\"order\":\"little\"}],[\"airportcity\",{\"type\":\"ndarray\",\"array\":[\"Larnaca\",\"Frankfurt\",\"Paris (Charles de Gaulle)\",\"Doha\",\"Abu Dhabi\",\"Baghdad\",\"Amman\",\"Cairo\",\"Istanbul\",\"Dubai\"],\"shape\":[10],\"dtype\":\"object\",\"order\":\"little\"}],[\"count\",{\"type\":\"ndarray\",\"array\":{\"type\":\"bytes\",\"data\":\"fQAAAIMAAACSAAAApwAAAL4AAAC/AAAA1gAAAN8AAAAcAQAAKgEAAA==\"},\"shape\":[10],\"dtype\":\"int32\",\"order\":\"little\"}]]}}},\"view\":{\"type\":\"object\",\"name\":\"CDSView\",\"id\":\"p1980\",\"attributes\":{\"filter\":{\"type\":\"object\",\"name\":\"AllIndices\",\"id\":\"p1981\"}}},\"glyph\":{\"type\":\"object\",\"name\":\"HBar\",\"id\":\"p1976\",\"attributes\":{\"y\":{\"type\":\"field\",\"field\":\"airportcity\"},\"height\":{\"type\":\"value\",\"value\":0.5},\"right\":{\"type\":\"field\",\"field\":\"count\"},\"line_color\":{\"type\":\"value\",\"value\":\"lightblue\"},\"line_alpha\":{\"type\":\"value\",\"value\":0.7},\"fill_color\":{\"type\":\"value\",\"value\":\"lightblue\"},\"fill_alpha\":{\"type\":\"value\",\"value\":0.7},\"hatch_color\":{\"type\":\"value\",\"value\":\"lightblue\"},\"hatch_alpha\":{\"type\":\"value\",\"value\":0.7}}},\"nonselection_glyph\":{\"type\":\"object\",\"name\":\"HBar\",\"id\":\"p1977\",\"attributes\":{\"y\":{\"type\":\"field\",\"field\":\"airportcity\"},\"height\":{\"type\":\"value\",\"value\":0.5},\"right\":{\"type\":\"field\",\"field\":\"count\"},\"line_color\":{\"type\":\"value\",\"value\":\"lightblue\"},\"line_alpha\":{\"type\":\"value\",\"value\":0.1},\"fill_color\":{\"type\":\"value\",\"value\":\"lightblue\"},\"fill_alpha\":{\"type\":\"value\",\"value\":0.1},\"hatch_color\":{\"type\":\"value\",\"value\":\"lightblue\"},\"hatch_alpha\":{\"type\":\"value\",\"value\":0.1}}},\"muted_glyph\":{\"type\":\"object\",\"name\":\"HBar\",\"id\":\"p1978\",\"attributes\":{\"y\":{\"type\":\"field\",\"field\":\"airportcity\"},\"height\":{\"type\":\"value\",\"value\":0.5},\"right\":{\"type\":\"field\",\"field\":\"count\"},\"line_color\":{\"type\":\"value\",\"value\":\"lightblue\"},\"line_alpha\":{\"type\":\"value\",\"value\":0.2},\"fill_color\":{\"type\":\"value\",\"value\":\"lightblue\"},\"fill_alpha\":{\"type\":\"value\",\"value\":0.2},\"hatch_color\":{\"type\":\"value\",\"value\":\"lightblue\"},\"hatch_alpha\":{\"type\":\"value\",\"value\":0.2}}}}},{\"type\":\"object\",\"name\":\"GlyphRenderer\",\"id\":\"p1988\",\"attributes\":{\"data_source\":{\"id\":\"p1946\"},\"view\":{\"type\":\"object\",\"name\":\"CDSView\",\"id\":\"p1989\",\"attributes\":{\"filter\":{\"type\":\"object\",\"name\":\"AllIndices\",\"id\":\"p1990\"}}},\"glyph\":{\"type\":\"object\",\"name\":\"Text\",\"id\":\"p1985\",\"attributes\":{\"x\":{\"type\":\"field\",\"field\":\"count\"},\"y\":{\"type\":\"field\",\"field\":\"airportcity\"},\"text\":{\"type\":\"field\",\"field\":\"count\"},\"x_offset\":{\"type\":\"value\",\"value\":-5},\"y_offset\":{\"type\":\"value\",\"value\":-3},\"text_color\":{\"type\":\"value\",\"value\":\"black\"},\"text_font_size\":{\"type\":\"value\",\"value\":\"10pt\"},\"text_align\":{\"type\":\"value\",\"value\":\"right\"},\"text_baseline\":{\"type\":\"value\",\"value\":\"middle\"}}},\"nonselection_glyph\":{\"type\":\"object\",\"name\":\"Text\",\"id\":\"p1986\",\"attributes\":{\"x\":{\"type\":\"field\",\"field\":\"count\"},\"y\":{\"type\":\"field\",\"field\":\"airportcity\"},\"text\":{\"type\":\"field\",\"field\":\"count\"},\"x_offset\":{\"type\":\"value\",\"value\":-5},\"y_offset\":{\"type\":\"value\",\"value\":-3},\"text_color\":{\"type\":\"value\",\"value\":\"black\"},\"text_alpha\":{\"type\":\"value\",\"value\":0.1},\"text_font_size\":{\"type\":\"value\",\"value\":\"10pt\"},\"text_align\":{\"type\":\"value\",\"value\":\"right\"},\"text_baseline\":{\"type\":\"value\",\"value\":\"middle\"}}},\"muted_glyph\":{\"type\":\"object\",\"name\":\"Text\",\"id\":\"p1987\",\"attributes\":{\"x\":{\"type\":\"field\",\"field\":\"count\"},\"y\":{\"type\":\"field\",\"field\":\"airportcity\"},\"text\":{\"type\":\"field\",\"field\":\"count\"},\"x_offset\":{\"type\":\"value\",\"value\":-5},\"y_offset\":{\"type\":\"value\",\"value\":-3},\"text_color\":{\"type\":\"value\",\"value\":\"black\"},\"text_alpha\":{\"type\":\"value\",\"value\":0.2},\"text_font_size\":{\"type\":\"value\",\"value\":\"10pt\"},\"text_align\":{\"type\":\"value\",\"value\":\"right\"},\"text_baseline\":{\"type\":\"value\",\"value\":\"middle\"}}}}}],\"toolbar\":{\"type\":\"object\",\"name\":\"Toolbar\",\"id\":\"p1958\",\"attributes\":{\"tools\":[{\"type\":\"object\",\"name\":\"SaveTool\",\"id\":\"p1972\"}]}},\"toolbar_location\":\"above\",\"left\":[{\"type\":\"object\",\"name\":\"CategoricalAxis\",\"id\":\"p1967\",\"attributes\":{\"ticker\":{\"type\":\"object\",\"name\":\"CategoricalTicker\",\"id\":\"p1968\"},\"formatter\":{\"type\":\"object\",\"name\":\"CategoricalTickFormatter\",\"id\":\"p1969\"},\"major_label_policy\":{\"type\":\"object\",\"name\":\"AllLabels\",\"id\":\"p1970\"},\"axis_line_color\":null,\"major_tick_line_color\":null,\"minor_tick_line_color\":null}}],\"below\":[{\"type\":\"object\",\"name\":\"LinearAxis\",\"id\":\"p1962\",\"attributes\":{\"visible\":false,\"ticker\":{\"type\":\"object\",\"name\":\"BasicTicker\",\"id\":\"p1963\",\"attributes\":{\"mantissas\":[1,2,5]}},\"formatter\":{\"type\":\"object\",\"name\":\"BasicTickFormatter\",\"id\":\"p1964\"},\"major_label_policy\":{\"type\":\"object\",\"name\":\"AllLabels\",\"id\":\"p1965\"}}}],\"center\":[{\"type\":\"object\",\"name\":\"Grid\",\"id\":\"p1966\",\"attributes\":{\"visible\":false,\"axis\":{\"id\":\"p1962\"}}},{\"type\":\"object\",\"name\":\"Grid\",\"id\":\"p1971\",\"attributes\":{\"visible\":false,\"dimension\":1,\"axis\":{\"id\":\"p1967\"}}}]}},{\"type\":\"object\",\"name\":\"Div\",\"id\":\"p1991\",\"attributes\":{\"width\":600,\"text\":\"<p style='font-size:12px; color:gray;'>Source: AviationStack. Acessed October 7th 2024.</p>\"}}]}}}},{\"type\":\"object\",\"name\":\"TabPanel\",\"id\":\"p2041\",\"attributes\":{\"title\":\"Most Cancelled Arrivals\",\"child\":{\"type\":\"object\",\"name\":\"Column\",\"id\":\"p2040\",\"attributes\":{\"children\":[{\"type\":\"object\",\"name\":\"Figure\",\"id\":\"p1997\",\"attributes\":{\"height\":400,\"x_range\":{\"type\":\"object\",\"name\":\"DataRange1d\",\"id\":\"p1999\"},\"y_range\":{\"type\":\"object\",\"name\":\"FactorRange\",\"id\":\"p2007\",\"attributes\":{\"factors\":[\"Antalya\",\"Larnaca\",\"Doha\",\"Istanbul (Sabiha G\\u00f6k\\u00e7en)\",\"Paris (Charles de Gaulle)\",\"Cairo\",\"Frankfurt\",\"Dubai\",\"Istanbul\",\"Amman\"]}},\"x_scale\":{\"type\":\"object\",\"name\":\"LinearScale\",\"id\":\"p2008\"},\"y_scale\":{\"type\":\"object\",\"name\":\"CategoricalScale\",\"id\":\"p2009\"},\"title\":{\"type\":\"object\",\"name\":\"Title\",\"id\":\"p2000\",\"attributes\":{\"text\":\"Most Cancelled Arrivals in 2024\"}},\"outline_line_color\":null,\"renderers\":[{\"type\":\"object\",\"name\":\"GlyphRenderer\",\"id\":\"p2027\",\"attributes\":{\"data_source\":{\"type\":\"object\",\"name\":\"ColumnDataSource\",\"id\":\"p1994\",\"attributes\":{\"selected\":{\"type\":\"object\",\"name\":\"Selection\",\"id\":\"p1995\",\"attributes\":{\"indices\":[],\"line_indices\":[]}},\"selection_policy\":{\"type\":\"object\",\"name\":\"UnionRenderers\",\"id\":\"p1996\"},\"data\":{\"type\":\"map\",\"entries\":[[\"index\",{\"type\":\"ndarray\",\"array\":{\"type\":\"bytes\",\"data\":\"CQAAAAgAAAAHAAAABgAAAAQAAAAFAAAAAgAAAAMAAAABAAAAAAAAAA==\"},\"shape\":[10],\"dtype\":\"int32\",\"order\":\"little\"}],[\"airportcity\",{\"type\":\"ndarray\",\"array\":[\"Antalya\",\"Larnaca\",\"Doha\",\"Istanbul (Sabiha G\\u00f6k\\u00e7en)\",\"Paris (Charles de Gaulle)\",\"Cairo\",\"Frankfurt\",\"Dubai\",\"Istanbul\",\"Amman\"],\"shape\":[10],\"dtype\":\"object\",\"order\":\"little\"}],[\"count\",{\"type\":\"ndarray\",\"array\":{\"type\":\"bytes\",\"data\":\"FgAAABoAAAAcAAAAHQAAACgAAAAoAAAAMQAAADEAAAA5AAAAOgAAAA==\"},\"shape\":[10],\"dtype\":\"int32\",\"order\":\"little\"}]]}}},\"view\":{\"type\":\"object\",\"name\":\"CDSView\",\"id\":\"p2028\",\"attributes\":{\"filter\":{\"type\":\"object\",\"name\":\"AllIndices\",\"id\":\"p2029\"}}},\"glyph\":{\"type\":\"object\",\"name\":\"HBar\",\"id\":\"p2024\",\"attributes\":{\"y\":{\"type\":\"field\",\"field\":\"airportcity\"},\"height\":{\"type\":\"value\",\"value\":0.5},\"right\":{\"type\":\"field\",\"field\":\"count\"},\"line_color\":{\"type\":\"value\",\"value\":\"orange\"},\"line_alpha\":{\"type\":\"value\",\"value\":0.7},\"fill_color\":{\"type\":\"value\",\"value\":\"orange\"},\"fill_alpha\":{\"type\":\"value\",\"value\":0.7},\"hatch_color\":{\"type\":\"value\",\"value\":\"orange\"},\"hatch_alpha\":{\"type\":\"value\",\"value\":0.7}}},\"nonselection_glyph\":{\"type\":\"object\",\"name\":\"HBar\",\"id\":\"p2025\",\"attributes\":{\"y\":{\"type\":\"field\",\"field\":\"airportcity\"},\"height\":{\"type\":\"value\",\"value\":0.5},\"right\":{\"type\":\"field\",\"field\":\"count\"},\"line_color\":{\"type\":\"value\",\"value\":\"orange\"},\"line_alpha\":{\"type\":\"value\",\"value\":0.1},\"fill_color\":{\"type\":\"value\",\"value\":\"orange\"},\"fill_alpha\":{\"type\":\"value\",\"value\":0.1},\"hatch_color\":{\"type\":\"value\",\"value\":\"orange\"},\"hatch_alpha\":{\"type\":\"value\",\"value\":0.1}}},\"muted_glyph\":{\"type\":\"object\",\"name\":\"HBar\",\"id\":\"p2026\",\"attributes\":{\"y\":{\"type\":\"field\",\"field\":\"airportcity\"},\"height\":{\"type\":\"value\",\"value\":0.5},\"right\":{\"type\":\"field\",\"field\":\"count\"},\"line_color\":{\"type\":\"value\",\"value\":\"orange\"},\"line_alpha\":{\"type\":\"value\",\"value\":0.2},\"fill_color\":{\"type\":\"value\",\"value\":\"orange\"},\"fill_alpha\":{\"type\":\"value\",\"value\":0.2},\"hatch_color\":{\"type\":\"value\",\"value\":\"orange\"},\"hatch_alpha\":{\"type\":\"value\",\"value\":0.2}}}}},{\"type\":\"object\",\"name\":\"GlyphRenderer\",\"id\":\"p2036\",\"attributes\":{\"data_source\":{\"id\":\"p1994\"},\"view\":{\"type\":\"object\",\"name\":\"CDSView\",\"id\":\"p2037\",\"attributes\":{\"filter\":{\"type\":\"object\",\"name\":\"AllIndices\",\"id\":\"p2038\"}}},\"glyph\":{\"type\":\"object\",\"name\":\"Text\",\"id\":\"p2033\",\"attributes\":{\"x\":{\"type\":\"field\",\"field\":\"count\"},\"y\":{\"type\":\"field\",\"field\":\"airportcity\"},\"text\":{\"type\":\"field\",\"field\":\"count\"},\"x_offset\":{\"type\":\"value\",\"value\":-5},\"y_offset\":{\"type\":\"value\",\"value\":-3},\"text_color\":{\"type\":\"value\",\"value\":\"black\"},\"text_font_size\":{\"type\":\"value\",\"value\":\"10pt\"},\"text_align\":{\"type\":\"value\",\"value\":\"right\"},\"text_baseline\":{\"type\":\"value\",\"value\":\"middle\"}}},\"nonselection_glyph\":{\"type\":\"object\",\"name\":\"Text\",\"id\":\"p2034\",\"attributes\":{\"x\":{\"type\":\"field\",\"field\":\"count\"},\"y\":{\"type\":\"field\",\"field\":\"airportcity\"},\"text\":{\"type\":\"field\",\"field\":\"count\"},\"x_offset\":{\"type\":\"value\",\"value\":-5},\"y_offset\":{\"type\":\"value\",\"value\":-3},\"text_color\":{\"type\":\"value\",\"value\":\"black\"},\"text_alpha\":{\"type\":\"value\",\"value\":0.1},\"text_font_size\":{\"type\":\"value\",\"value\":\"10pt\"},\"text_align\":{\"type\":\"value\",\"value\":\"right\"},\"text_baseline\":{\"type\":\"value\",\"value\":\"middle\"}}},\"muted_glyph\":{\"type\":\"object\",\"name\":\"Text\",\"id\":\"p2035\",\"attributes\":{\"x\":{\"type\":\"field\",\"field\":\"count\"},\"y\":{\"type\":\"field\",\"field\":\"airportcity\"},\"text\":{\"type\":\"field\",\"field\":\"count\"},\"x_offset\":{\"type\":\"value\",\"value\":-5},\"y_offset\":{\"type\":\"value\",\"value\":-3},\"text_color\":{\"type\":\"value\",\"value\":\"black\"},\"text_alpha\":{\"type\":\"value\",\"value\":0.2},\"text_font_size\":{\"type\":\"value\",\"value\":\"10pt\"},\"text_align\":{\"type\":\"value\",\"value\":\"right\"},\"text_baseline\":{\"type\":\"value\",\"value\":\"middle\"}}}}}],\"toolbar\":{\"type\":\"object\",\"name\":\"Toolbar\",\"id\":\"p2006\",\"attributes\":{\"tools\":[{\"type\":\"object\",\"name\":\"SaveTool\",\"id\":\"p2020\"}]}},\"toolbar_location\":\"above\",\"left\":[{\"type\":\"object\",\"name\":\"CategoricalAxis\",\"id\":\"p2015\",\"attributes\":{\"ticker\":{\"type\":\"object\",\"name\":\"CategoricalTicker\",\"id\":\"p2016\"},\"formatter\":{\"type\":\"object\",\"name\":\"CategoricalTickFormatter\",\"id\":\"p2017\"},\"major_label_policy\":{\"type\":\"object\",\"name\":\"AllLabels\",\"id\":\"p2018\"},\"axis_line_color\":null,\"major_tick_line_color\":null,\"minor_tick_line_color\":null}}],\"below\":[{\"type\":\"object\",\"name\":\"LinearAxis\",\"id\":\"p2010\",\"attributes\":{\"visible\":false,\"ticker\":{\"type\":\"object\",\"name\":\"BasicTicker\",\"id\":\"p2011\",\"attributes\":{\"mantissas\":[1,2,5]}},\"formatter\":{\"type\":\"object\",\"name\":\"BasicTickFormatter\",\"id\":\"p2012\"},\"major_label_policy\":{\"type\":\"object\",\"name\":\"AllLabels\",\"id\":\"p2013\"}}}],\"center\":[{\"type\":\"object\",\"name\":\"Grid\",\"id\":\"p2014\",\"attributes\":{\"visible\":false,\"axis\":{\"id\":\"p2010\"}}},{\"type\":\"object\",\"name\":\"Grid\",\"id\":\"p2019\",\"attributes\":{\"visible\":false,\"dimension\":1,\"axis\":{\"id\":\"p2015\"}}}]}},{\"type\":\"object\",\"name\":\"Div\",\"id\":\"p2039\",\"attributes\":{\"width\":600,\"text\":\"<p style='font-size:12px; color:gray;'>Source: AviationStack. Acessed October 7th 2024.</p>\"}}]}}}},{\"type\":\"object\",\"name\":\"TabPanel\",\"id\":\"p2089\",\"attributes\":{\"title\":\"Most Scheduled Arrivals\",\"child\":{\"type\":\"object\",\"name\":\"Column\",\"id\":\"p2088\",\"attributes\":{\"children\":[{\"type\":\"object\",\"name\":\"Figure\",\"id\":\"p2045\",\"attributes\":{\"height\":400,\"x_range\":{\"type\":\"object\",\"name\":\"DataRange1d\",\"id\":\"p2047\"},\"y_range\":{\"type\":\"object\",\"name\":\"FactorRange\",\"id\":\"p2055\",\"attributes\":{\"factors\":[\"Larnaca\",\"Paris (Charles de Gaulle)\",\"Doha\",\"Addis Ababa\",\"Antalya\",\"Abu Dhabi\",\"Baghdad\",\"Cairo\",\"Dubai\",\"Istanbul\"]}},\"x_scale\":{\"type\":\"object\",\"name\":\"LinearScale\",\"id\":\"p2056\"},\"y_scale\":{\"type\":\"object\",\"name\":\"CategoricalScale\",\"id\":\"p2057\"},\"title\":{\"type\":\"object\",\"name\":\"Title\",\"id\":\"p2048\",\"attributes\":{\"text\":\"Most Scheduled Arrivals in 2024\"}},\"outline_line_color\":null,\"renderers\":[{\"type\":\"object\",\"name\":\"GlyphRenderer\",\"id\":\"p2075\",\"attributes\":{\"data_source\":{\"type\":\"object\",\"name\":\"ColumnDataSource\",\"id\":\"p2042\",\"attributes\":{\"selected\":{\"type\":\"object\",\"name\":\"Selection\",\"id\":\"p2043\",\"attributes\":{\"indices\":[],\"line_indices\":[]}},\"selection_policy\":{\"type\":\"object\",\"name\":\"UnionRenderers\",\"id\":\"p2044\"},\"data\":{\"type\":\"map\",\"entries\":[[\"index\",{\"type\":\"ndarray\",\"array\":{\"type\":\"bytes\",\"data\":\"CQAAAAgAAAAHAAAABgAAAAUAAAAEAAAAAwAAAAIAAAABAAAAAAAAAA==\"},\"shape\":[10],\"dtype\":\"int32\",\"order\":\"little\"}],[\"airportcity\",{\"type\":\"ndarray\",\"array\":[\"Larnaca\",\"Paris (Charles de Gaulle)\",\"Doha\",\"Addis Ababa\",\"Antalya\",\"Abu Dhabi\",\"Baghdad\",\"Cairo\",\"Dubai\",\"Istanbul\"],\"shape\":[10],\"dtype\":\"object\",\"order\":\"little\"}],[\"count\",{\"type\":\"ndarray\",\"array\":{\"type\":\"bytes\",\"data\":\"SgAAAE4AAABSAAAAVwAAAFgAAAB2AAAAeAAAAHsAAACfAAAAoAAAAA==\"},\"shape\":[10],\"dtype\":\"int32\",\"order\":\"little\"}]]}}},\"view\":{\"type\":\"object\",\"name\":\"CDSView\",\"id\":\"p2076\",\"attributes\":{\"filter\":{\"type\":\"object\",\"name\":\"AllIndices\",\"id\":\"p2077\"}}},\"glyph\":{\"type\":\"object\",\"name\":\"HBar\",\"id\":\"p2072\",\"attributes\":{\"y\":{\"type\":\"field\",\"field\":\"airportcity\"},\"height\":{\"type\":\"value\",\"value\":0.5},\"right\":{\"type\":\"field\",\"field\":\"count\"},\"line_color\":{\"type\":\"value\",\"value\":\"#023436\"},\"line_alpha\":{\"type\":\"value\",\"value\":0.7},\"fill_color\":{\"type\":\"value\",\"value\":\"#023436\"},\"fill_alpha\":{\"type\":\"value\",\"value\":0.7},\"hatch_color\":{\"type\":\"value\",\"value\":\"#023436\"},\"hatch_alpha\":{\"type\":\"value\",\"value\":0.7}}},\"nonselection_glyph\":{\"type\":\"object\",\"name\":\"HBar\",\"id\":\"p2073\",\"attributes\":{\"y\":{\"type\":\"field\",\"field\":\"airportcity\"},\"height\":{\"type\":\"value\",\"value\":0.5},\"right\":{\"type\":\"field\",\"field\":\"count\"},\"line_color\":{\"type\":\"value\",\"value\":\"#023436\"},\"line_alpha\":{\"type\":\"value\",\"value\":0.1},\"fill_color\":{\"type\":\"value\",\"value\":\"#023436\"},\"fill_alpha\":{\"type\":\"value\",\"value\":0.1},\"hatch_color\":{\"type\":\"value\",\"value\":\"#023436\"},\"hatch_alpha\":{\"type\":\"value\",\"value\":0.1}}},\"muted_glyph\":{\"type\":\"object\",\"name\":\"HBar\",\"id\":\"p2074\",\"attributes\":{\"y\":{\"type\":\"field\",\"field\":\"airportcity\"},\"height\":{\"type\":\"value\",\"value\":0.5},\"right\":{\"type\":\"field\",\"field\":\"count\"},\"line_color\":{\"type\":\"value\",\"value\":\"#023436\"},\"line_alpha\":{\"type\":\"value\",\"value\":0.2},\"fill_color\":{\"type\":\"value\",\"value\":\"#023436\"},\"fill_alpha\":{\"type\":\"value\",\"value\":0.2},\"hatch_color\":{\"type\":\"value\",\"value\":\"#023436\"},\"hatch_alpha\":{\"type\":\"value\",\"value\":0.2}}}}},{\"type\":\"object\",\"name\":\"GlyphRenderer\",\"id\":\"p2084\",\"attributes\":{\"data_source\":{\"id\":\"p2042\"},\"view\":{\"type\":\"object\",\"name\":\"CDSView\",\"id\":\"p2085\",\"attributes\":{\"filter\":{\"type\":\"object\",\"name\":\"AllIndices\",\"id\":\"p2086\"}}},\"glyph\":{\"type\":\"object\",\"name\":\"Text\",\"id\":\"p2081\",\"attributes\":{\"x\":{\"type\":\"field\",\"field\":\"count\"},\"y\":{\"type\":\"field\",\"field\":\"airportcity\"},\"text\":{\"type\":\"field\",\"field\":\"count\"},\"x_offset\":{\"type\":\"value\",\"value\":-5},\"y_offset\":{\"type\":\"value\",\"value\":-3},\"text_color\":{\"type\":\"value\",\"value\":\"black\"},\"text_font_size\":{\"type\":\"value\",\"value\":\"10pt\"},\"text_align\":{\"type\":\"value\",\"value\":\"right\"},\"text_baseline\":{\"type\":\"value\",\"value\":\"middle\"}}},\"nonselection_glyph\":{\"type\":\"object\",\"name\":\"Text\",\"id\":\"p2082\",\"attributes\":{\"x\":{\"type\":\"field\",\"field\":\"count\"},\"y\":{\"type\":\"field\",\"field\":\"airportcity\"},\"text\":{\"type\":\"field\",\"field\":\"count\"},\"x_offset\":{\"type\":\"value\",\"value\":-5},\"y_offset\":{\"type\":\"value\",\"value\":-3},\"text_color\":{\"type\":\"value\",\"value\":\"black\"},\"text_alpha\":{\"type\":\"value\",\"value\":0.1},\"text_font_size\":{\"type\":\"value\",\"value\":\"10pt\"},\"text_align\":{\"type\":\"value\",\"value\":\"right\"},\"text_baseline\":{\"type\":\"value\",\"value\":\"middle\"}}},\"muted_glyph\":{\"type\":\"object\",\"name\":\"Text\",\"id\":\"p2083\",\"attributes\":{\"x\":{\"type\":\"field\",\"field\":\"count\"},\"y\":{\"type\":\"field\",\"field\":\"airportcity\"},\"text\":{\"type\":\"field\",\"field\":\"count\"},\"x_offset\":{\"type\":\"value\",\"value\":-5},\"y_offset\":{\"type\":\"value\",\"value\":-3},\"text_color\":{\"type\":\"value\",\"value\":\"black\"},\"text_alpha\":{\"type\":\"value\",\"value\":0.2},\"text_font_size\":{\"type\":\"value\",\"value\":\"10pt\"},\"text_align\":{\"type\":\"value\",\"value\":\"right\"},\"text_baseline\":{\"type\":\"value\",\"value\":\"middle\"}}}}}],\"toolbar\":{\"type\":\"object\",\"name\":\"Toolbar\",\"id\":\"p2054\",\"attributes\":{\"tools\":[{\"type\":\"object\",\"name\":\"SaveTool\",\"id\":\"p2068\"}]}},\"toolbar_location\":\"above\",\"left\":[{\"type\":\"object\",\"name\":\"CategoricalAxis\",\"id\":\"p2063\",\"attributes\":{\"ticker\":{\"type\":\"object\",\"name\":\"CategoricalTicker\",\"id\":\"p2064\"},\"formatter\":{\"type\":\"object\",\"name\":\"CategoricalTickFormatter\",\"id\":\"p2065\"},\"major_label_policy\":{\"type\":\"object\",\"name\":\"AllLabels\",\"id\":\"p2066\"},\"axis_line_color\":null,\"major_tick_line_color\":null,\"minor_tick_line_color\":null}}],\"below\":[{\"type\":\"object\",\"name\":\"LinearAxis\",\"id\":\"p2058\",\"attributes\":{\"visible\":false,\"ticker\":{\"type\":\"object\",\"name\":\"BasicTicker\",\"id\":\"p2059\",\"attributes\":{\"mantissas\":[1,2,5]}},\"formatter\":{\"type\":\"object\",\"name\":\"BasicTickFormatter\",\"id\":\"p2060\"},\"major_label_policy\":{\"type\":\"object\",\"name\":\"AllLabels\",\"id\":\"p2061\"}}}],\"center\":[{\"type\":\"object\",\"name\":\"Grid\",\"id\":\"p2062\",\"attributes\":{\"visible\":false,\"axis\":{\"id\":\"p2058\"}}},{\"type\":\"object\",\"name\":\"Grid\",\"id\":\"p2067\",\"attributes\":{\"visible\":false,\"dimension\":1,\"axis\":{\"id\":\"p2063\"}}}]}},{\"type\":\"object\",\"name\":\"Div\",\"id\":\"p2087\",\"attributes\":{\"width\":600,\"text\":\"<p style='font-size:12px; color:gray;'>Source: AviationStack. Acessed October 7th 2024.</p>\"}}]}}}},{\"type\":\"object\",\"name\":\"TabPanel\",\"id\":\"p2137\",\"attributes\":{\"title\":\"Most Diverted Arrivals\",\"child\":{\"type\":\"object\",\"name\":\"Column\",\"id\":\"p2136\",\"attributes\":{\"children\":[{\"type\":\"object\",\"name\":\"Figure\",\"id\":\"p2093\",\"attributes\":{\"height\":400,\"x_range\":{\"type\":\"object\",\"name\":\"DataRange1d\",\"id\":\"p2095\"},\"y_range\":{\"type\":\"object\",\"name\":\"FactorRange\",\"id\":\"p2103\",\"attributes\":{\"factors\":[\"Najaf\",\"Riyadh\",\"Jeddah\",\"Abu Dhabi\",\"Doha\",\"Cairo\",\"Baghdad\",\"Istanbul\",\"Dubai\",\"Amman\"]}},\"x_scale\":{\"type\":\"object\",\"name\":\"LinearScale\",\"id\":\"p2104\"},\"y_scale\":{\"type\":\"object\",\"name\":\"CategoricalScale\",\"id\":\"p2105\"},\"title\":{\"type\":\"object\",\"name\":\"Title\",\"id\":\"p2096\",\"attributes\":{\"text\":\"Most Diverted Arrivals in 2024\"}},\"outline_line_color\":null,\"renderers\":[{\"type\":\"object\",\"name\":\"GlyphRenderer\",\"id\":\"p2123\",\"attributes\":{\"data_source\":{\"type\":\"object\",\"name\":\"ColumnDataSource\",\"id\":\"p2090\",\"attributes\":{\"selected\":{\"type\":\"object\",\"name\":\"Selection\",\"id\":\"p2091\",\"attributes\":{\"indices\":[],\"line_indices\":[]}},\"selection_policy\":{\"type\":\"object\",\"name\":\"UnionRenderers\",\"id\":\"p2092\"},\"data\":{\"type\":\"map\",\"entries\":[[\"index\",{\"type\":\"ndarray\",\"array\":{\"type\":\"bytes\",\"data\":\"CQAAAAgAAAAGAAAABwAAAAUAAAAEAAAAAwAAAAIAAAABAAAAAAAAAA==\"},\"shape\":[10],\"dtype\":\"int32\",\"order\":\"little\"}],[\"airportcity\",{\"type\":\"ndarray\",\"array\":[\"Najaf\",\"Riyadh\",\"Jeddah\",\"Abu Dhabi\",\"Doha\",\"Cairo\",\"Baghdad\",\"Istanbul\",\"Dubai\",\"Amman\"],\"shape\":[10],\"dtype\":\"object\",\"order\":\"little\"}],[\"count\",{\"type\":\"ndarray\",\"array\":{\"type\":\"bytes\",\"data\":\"KgAAAC4AAAA2AAAANgAAADkAAAA8AAAAPwAAAEMAAABaAAAAXQAAAA==\"},\"shape\":[10],\"dtype\":\"int32\",\"order\":\"little\"}]]}}},\"view\":{\"type\":\"object\",\"name\":\"CDSView\",\"id\":\"p2124\",\"attributes\":{\"filter\":{\"type\":\"object\",\"name\":\"AllIndices\",\"id\":\"p2125\"}}},\"glyph\":{\"type\":\"object\",\"name\":\"HBar\",\"id\":\"p2120\",\"attributes\":{\"y\":{\"type\":\"field\",\"field\":\"airportcity\"},\"height\":{\"type\":\"value\",\"value\":0.5},\"right\":{\"type\":\"field\",\"field\":\"count\"},\"line_color\":{\"type\":\"value\",\"value\":\"#00BFB3\"},\"line_alpha\":{\"type\":\"value\",\"value\":0.7},\"fill_color\":{\"type\":\"value\",\"value\":\"#00BFB3\"},\"fill_alpha\":{\"type\":\"value\",\"value\":0.7},\"hatch_color\":{\"type\":\"value\",\"value\":\"#00BFB3\"},\"hatch_alpha\":{\"type\":\"value\",\"value\":0.7}}},\"nonselection_glyph\":{\"type\":\"object\",\"name\":\"HBar\",\"id\":\"p2121\",\"attributes\":{\"y\":{\"type\":\"field\",\"field\":\"airportcity\"},\"height\":{\"type\":\"value\",\"value\":0.5},\"right\":{\"type\":\"field\",\"field\":\"count\"},\"line_color\":{\"type\":\"value\",\"value\":\"#00BFB3\"},\"line_alpha\":{\"type\":\"value\",\"value\":0.1},\"fill_color\":{\"type\":\"value\",\"value\":\"#00BFB3\"},\"fill_alpha\":{\"type\":\"value\",\"value\":0.1},\"hatch_color\":{\"type\":\"value\",\"value\":\"#00BFB3\"},\"hatch_alpha\":{\"type\":\"value\",\"value\":0.1}}},\"muted_glyph\":{\"type\":\"object\",\"name\":\"HBar\",\"id\":\"p2122\",\"attributes\":{\"y\":{\"type\":\"field\",\"field\":\"airportcity\"},\"height\":{\"type\":\"value\",\"value\":0.5},\"right\":{\"type\":\"field\",\"field\":\"count\"},\"line_color\":{\"type\":\"value\",\"value\":\"#00BFB3\"},\"line_alpha\":{\"type\":\"value\",\"value\":0.2},\"fill_color\":{\"type\":\"value\",\"value\":\"#00BFB3\"},\"fill_alpha\":{\"type\":\"value\",\"value\":0.2},\"hatch_color\":{\"type\":\"value\",\"value\":\"#00BFB3\"},\"hatch_alpha\":{\"type\":\"value\",\"value\":0.2}}}}},{\"type\":\"object\",\"name\":\"GlyphRenderer\",\"id\":\"p2132\",\"attributes\":{\"data_source\":{\"id\":\"p2090\"},\"view\":{\"type\":\"object\",\"name\":\"CDSView\",\"id\":\"p2133\",\"attributes\":{\"filter\":{\"type\":\"object\",\"name\":\"AllIndices\",\"id\":\"p2134\"}}},\"glyph\":{\"type\":\"object\",\"name\":\"Text\",\"id\":\"p2129\",\"attributes\":{\"x\":{\"type\":\"field\",\"field\":\"count\"},\"y\":{\"type\":\"field\",\"field\":\"airportcity\"},\"text\":{\"type\":\"field\",\"field\":\"count\"},\"x_offset\":{\"type\":\"value\",\"value\":-5},\"y_offset\":{\"type\":\"value\",\"value\":-3},\"text_color\":{\"type\":\"value\",\"value\":\"black\"},\"text_font_size\":{\"type\":\"value\",\"value\":\"10pt\"},\"text_align\":{\"type\":\"value\",\"value\":\"right\"},\"text_baseline\":{\"type\":\"value\",\"value\":\"middle\"}}},\"nonselection_glyph\":{\"type\":\"object\",\"name\":\"Text\",\"id\":\"p2130\",\"attributes\":{\"x\":{\"type\":\"field\",\"field\":\"count\"},\"y\":{\"type\":\"field\",\"field\":\"airportcity\"},\"text\":{\"type\":\"field\",\"field\":\"count\"},\"x_offset\":{\"type\":\"value\",\"value\":-5},\"y_offset\":{\"type\":\"value\",\"value\":-3},\"text_color\":{\"type\":\"value\",\"value\":\"black\"},\"text_alpha\":{\"type\":\"value\",\"value\":0.1},\"text_font_size\":{\"type\":\"value\",\"value\":\"10pt\"},\"text_align\":{\"type\":\"value\",\"value\":\"right\"},\"text_baseline\":{\"type\":\"value\",\"value\":\"middle\"}}},\"muted_glyph\":{\"type\":\"object\",\"name\":\"Text\",\"id\":\"p2131\",\"attributes\":{\"x\":{\"type\":\"field\",\"field\":\"count\"},\"y\":{\"type\":\"field\",\"field\":\"airportcity\"},\"text\":{\"type\":\"field\",\"field\":\"count\"},\"x_offset\":{\"type\":\"value\",\"value\":-5},\"y_offset\":{\"type\":\"value\",\"value\":-3},\"text_color\":{\"type\":\"value\",\"value\":\"black\"},\"text_alpha\":{\"type\":\"value\",\"value\":0.2},\"text_font_size\":{\"type\":\"value\",\"value\":\"10pt\"},\"text_align\":{\"type\":\"value\",\"value\":\"right\"},\"text_baseline\":{\"type\":\"value\",\"value\":\"middle\"}}}}}],\"toolbar\":{\"type\":\"object\",\"name\":\"Toolbar\",\"id\":\"p2102\",\"attributes\":{\"tools\":[{\"type\":\"object\",\"name\":\"SaveTool\",\"id\":\"p2116\"}]}},\"toolbar_location\":\"above\",\"left\":[{\"type\":\"object\",\"name\":\"CategoricalAxis\",\"id\":\"p2111\",\"attributes\":{\"ticker\":{\"type\":\"object\",\"name\":\"CategoricalTicker\",\"id\":\"p2112\"},\"formatter\":{\"type\":\"object\",\"name\":\"CategoricalTickFormatter\",\"id\":\"p2113\"},\"major_label_policy\":{\"type\":\"object\",\"name\":\"AllLabels\",\"id\":\"p2114\"},\"axis_line_color\":null,\"major_tick_line_color\":null,\"minor_tick_line_color\":null}}],\"below\":[{\"type\":\"object\",\"name\":\"LinearAxis\",\"id\":\"p2106\",\"attributes\":{\"visible\":false,\"ticker\":{\"type\":\"object\",\"name\":\"BasicTicker\",\"id\":\"p2107\",\"attributes\":{\"mantissas\":[1,2,5]}},\"formatter\":{\"type\":\"object\",\"name\":\"BasicTickFormatter\",\"id\":\"p2108\"},\"major_label_policy\":{\"type\":\"object\",\"name\":\"AllLabels\",\"id\":\"p2109\"}}}],\"center\":[{\"type\":\"object\",\"name\":\"Grid\",\"id\":\"p2110\",\"attributes\":{\"visible\":false,\"axis\":{\"id\":\"p2106\"}}},{\"type\":\"object\",\"name\":\"Grid\",\"id\":\"p2115\",\"attributes\":{\"visible\":false,\"dimension\":1,\"axis\":{\"id\":\"p2111\"}}}]}},{\"type\":\"object\",\"name\":\"Div\",\"id\":\"p2135\",\"attributes\":{\"width\":600,\"text\":\"<p style='font-size:12px; color:gray;'>Source: AviationStack. Acessed October 7th 2024.</p>\"}}]}}}}]}}]}}]}};\n  const render_items = [{\"docid\":\"25a798d5-5721-4899-9677-b1c065e45dee\",\"roots\":{\"p2140\":\"e0fa38c4-68c0-43d6-94d4-44ce9631212f\"},\"root_ids\":[\"p2140\"]}];\n  void root.Bokeh.embed.embed_items_notebook(docs_json, render_items);\n  }\n  if (root.Bokeh !== undefined) {\n    embed_document(root);\n  } else {\n    let attempts = 0;\n    const timer = setInterval(function(root) {\n      if (root.Bokeh !== undefined) {\n        clearInterval(timer);\n        embed_document(root);\n      } else {\n        attempts++;\n        if (attempts > 100) {\n          clearInterval(timer);\n          console.log(\"Bokeh: ERROR: Unable to run BokehJS code because BokehJS library is missing\");\n        }\n      }\n    }, 10, root)\n  }\n})(window);",
      "application/vnd.bokehjs_exec.v0+json": ""
     },
     "metadata": {
      "application/vnd.bokehjs_exec.v0+json": {
       "id": "p2140"
      }
     },
     "output_type": "display_data"
    }
   ],
   "source": [
    "output_notebook()\n",
    "from bokeh.layouts import column\n",
    "from bokeh.models import Div\n",
    "\n",
    "# Example datasets stored in a dictionary\n",
    "datasets = {\n",
    "    \"Most Changed Arrivals\": most_changed_arrivals,\n",
    "    \"Most Cancelled Arrivals\": most_cancelled_arrivals,\n",
    "    \"Most Scheduled Arrivals\": most_scheduled_arrivals,\n",
    "    \"Most Diverted Arrivals\": most_diverted_arrivals\n",
    "}\n",
    "\n",
    "# Initialize an empty list to store the tabs\n",
    "# List of colors to use for each dataset\n",
    "colors = [\"lightblue\", \"orange\", \"#023436\", \"#00BFB3\"]\n",
    "\n",
    "# Initialize an empty list to store the tabs\n",
    "tabs = []\n",
    "\n",
    "# Loop through each dataset and its corresponding color\n",
    "for (title, data), color in zip(datasets.items(), colors):\n",
    "    # Convert data to ColumnDataSource for Bokeh plotting\n",
    "    source = ColumnDataSource(data)\n",
    "\n",
    "    # Create a figure for each dataset\n",
    "    p = figure(y_range=data['airportcity'], width=600, height=400, title=title + \" in 2024\", tools=\"save\", toolbar_location=\"above\")\n",
    "    p.hbar(y='airportcity', right='count', height=0.5, color=color, alpha=0.7, source=source)\n",
    "\n",
    "    # Add text inside the bars (5 points inside the bar)\n",
    "    p.text(x='count', y='airportcity', text='count', source=source, \n",
    "           x_offset=-5,  # This places the text 5 units inside the bar\n",
    "           y_offset=-3,  # Vertical alignment\n",
    "           text_align='right', text_baseline='middle', text_color=\"black\", text_font_size=\"10pt\")\n",
    "\n",
    "    # Customize plot (optional)\n",
    "    p.xaxis.visible = False\n",
    "    p.ygrid.visible = False\n",
    "    p.xgrid.visible = False\n",
    "    p.yaxis.major_tick_line_color = None  # No major ticks\n",
    "    p.yaxis.minor_tick_line_color = None  # No minor ticks\n",
    "    p.yaxis.axis_line_color = None  \n",
    "    p.outline_line_color = None\n",
    "\n",
    "    subtitle = Div(text=f\"<p style='font-size:12px; color:gray;'>Source: AviationStack. Acessed October 7th 2024.</p>\", width=600)\n",
    "\n",
    "    layout = column(p, subtitle)\n",
    "\n",
    "    # Create a panel with the plot and the corresponding title\n",
    "    tab = TabPanel(child=layout, title=title)\n",
    "    \n",
    "    # Append the panel to the list of tabs\n",
    "    tabs.append(tab)\n",
    "\n",
    "# Arrange the tabs in a Tabs layout\n",
    "tabs_layout = Tabs(tabs=tabs)\n",
    "\n",
    "main_title = Div(text=\"<h2>Top 10 Destinations with Changes in Arrivals to BEY in 2024</h2>\", width=800)\n",
    "\n",
    "# Use column layout to stack the title on top of the tabs\n",
    "layout = column(main_title, tabs_layout)\n",
    "\n",
    "# Show the tabs\n",
    "show(layout)"
   ]
  },
  {
   "cell_type": "markdown",
   "metadata": {},
   "source": [
    "### Findings\n",
    "\n",
    "- Flights from Frankfurt were also cancelled the most potentially because of Lufthansa. \n",
    "- There were far fewer flights from Dubai, potentially because Emirates also [shut down their services to Lebanon temporarily](https://www.reuters.com/world/middle-east/emirates-flydubai-latest-airlines-amend-beirut-flights-2024-07-31/). "
   ]
  },
  {
   "cell_type": "code",
   "execution_count": 33,
   "metadata": {
    "tags": [
     "remove-cell"
    ]
   },
   "outputs": [],
   "source": [
    "arrivals_exploded.to_csv(\n",
    "    \"../../data/aviation/processed_arrivals_bey_20240101_2024_1007.csv\"\n",
    ")\n",
    "departures_exploded.to_csv(\n",
    "    \"../../data/aviation/processed_departures_bey_20240101_2024_1007.csv\"\n",
    ")"
   ]
  }
 ],
 "metadata": {
  "kernelspec": {
   "display_name": "data-goods",
   "language": "python",
   "name": "python3"
  },
  "language_info": {
   "codemirror_mode": {
    "name": "ipython",
    "version": 3
   },
   "file_extension": ".py",
   "mimetype": "text/x-python",
   "name": "python",
   "nbconvert_exporter": "python",
   "pygments_lexer": "ipython3",
   "version": "3.11.9"
  }
 },
 "nbformat": 4,
 "nbformat_minor": 2
}
