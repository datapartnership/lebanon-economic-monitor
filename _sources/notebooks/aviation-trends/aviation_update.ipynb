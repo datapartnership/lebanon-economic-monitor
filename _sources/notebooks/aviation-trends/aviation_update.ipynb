{
 "cells": [
  {
   "cell_type": "markdown",
   "metadata": {},
   "source": [
    "# Update on Aviation Trends\n",
    "\n",
    "The dataset used for this update is from [Aviation Stack](https://aviationstack.com/documentation). We used their API layer to extract arrivals and departures from BEY. We plan on validating this data with aviation data from OAG. The data has already been validated with a dataset from FlightRadar for the 16th of August 2024. The numbers on both datasets align. "
   ]
  },
  {
   "cell_type": "code",
   "execution_count": 1,
   "metadata": {
    "tags": [
     "remove-cell"
    ]
   },
   "outputs": [],
   "source": [
    "import pandas as pd\n",
    "import matplotlib.pyplot as plt"
   ]
  },
  {
   "cell_type": "markdown",
   "metadata": {},
   "source": [
    "Define a function to get a range of dates for the desirable date range"
   ]
  },
  {
   "cell_type": "code",
   "execution_count": 2,
   "metadata": {
    "tags": [
     "remove-cell"
    ]
   },
   "outputs": [],
   "source": [
    "from datetime import datetime, timedelta\n",
    "\n",
    "\n",
    "def daterange(start_date, end_date):\n",
    "    for n in range(int((end_date - start_date).days) + 1):\n",
    "        yield (start_date + timedelta(n)).strftime(\"%Y-%m-%d\")\n",
    "\n",
    "\n",
    "# Define the start and end dates\n",
    "start_date = datetime(2024, 8, 15)\n",
    "end_date = datetime(2024, 10, 7)"
   ]
  },
  {
   "cell_type": "code",
   "execution_count": 98,
   "metadata": {
    "tags": [
     "remove-cell"
    ]
   },
   "outputs": [],
   "source": [
    "# Define empty dataset to concat all the arrivals and departures\n",
    "departures = pd.DataFrame()\n",
    "arrivals = pd.DataFrame()"
   ]
  },
  {
   "cell_type": "code",
   "execution_count": 99,
   "metadata": {
    "tags": [
     "remove-cell"
    ]
   },
   "outputs": [
    {
     "name": "stderr",
     "output_type": "stream",
     "text": [
      "54it [03:03,  3.40s/it]\n"
     ]
    }
   ],
   "source": [
    "# run the API to collect arrivals and departures\n",
    "import requests\n",
    "import urllib3\n",
    "from tqdm import tqdm\n",
    "\n",
    "# Suppress only the InsecureRequestWarning from urllib3\n",
    "urllib3.disable_warnings(urllib3.exceptions.InsecureRequestWarning)\n",
    "\n",
    "# arr_iata_values = ['LOS', 'KWI', 'SHJ']\n",
    "# arr_iata_values = ','.join(arr_iata_values)\n",
    "\n",
    "for one_day in tqdm(daterange(start_date, end_date)):\n",
    "    params = {\n",
    "        \"access_key\": \"\",\n",
    "        \"dep_iata\": \"BEY\",\n",
    "        #'arr_iata': 'BEY',\n",
    "        \"limit\": \"100\",\n",
    "        # To get the next 100 flights we need to change the offset\n",
    "        \"offset\": \"100\",\n",
    "        \"flight_date\": one_day,\n",
    "    }\n",
    "\n",
    "    api_result = requests.get(\n",
    "        \"https://api.aviationstack.com/v1/flights\", params, verify=False\n",
    "    )\n",
    "\n",
    "    api_response = api_result.json()\n",
    "\n",
    "    df = pd.DataFrame(api_response[\"data\"])\n",
    "\n",
    "    departures = pd.concat([departures, df])"
   ]
  },
  {
   "cell_type": "code",
   "execution_count": 100,
   "metadata": {
    "tags": [
     "remove-cell"
    ]
   },
   "outputs": [],
   "source": [
    "departures.to_csv(\"../../data/aviation/aviationstack_bey_15082024_07102024_dep2.csv\")\n",
    "# arrivals.to_csv('../../data/aviation/aviationstack_bey_15082024_07102024_arr2.csv')\n",
    "\n",
    "# arrivals.to_csv('../../data/aviation/aviationstack_bey_26082024_01012024_arr.csv')"
   ]
  },
  {
   "cell_type": "markdown",
   "metadata": {
    "tags": [
     "remove-cell"
    ]
   },
   "source": [
    "Functions to clean the database and explode columns"
   ]
  },
  {
   "cell_type": "code",
   "execution_count": 3,
   "metadata": {
    "tags": [
     "remove-cell"
    ]
   },
   "outputs": [],
   "source": [
    "import ast\n",
    "\n",
    "\n",
    "def safe_literal_eval(value):\n",
    "    if isinstance(value, str):\n",
    "        try:\n",
    "            return ast.literal_eval(value)\n",
    "        except (ValueError, SyntaxError):\n",
    "            return value\n",
    "    return value\n",
    "\n",
    "\n",
    "def explode(flights):\n",
    "    flights[\"arrival\"] = flights[\"arrival\"].apply(safe_literal_eval)\n",
    "    flights[\"departure\"] = flights[\"departure\"].apply(safe_literal_eval)\n",
    "\n",
    "    fr1 = pd.json_normalize(flights[\"arrival\"]).add_suffix(\"_arr\")\n",
    "    fr2 = pd.json_normalize(flights[\"departure\"]).add_suffix(\"_dep\")\n",
    "\n",
    "    flights_exploded = pd.concat(\n",
    "        [flights.drop(columns=[\"arrival\", \"departure\"]), fr1, fr2], axis=1\n",
    "    )\n",
    "\n",
    "    return flights_exploded"
   ]
  },
  {
   "cell_type": "code",
   "execution_count": 129,
   "metadata": {
    "tags": [
     "remove-input"
    ]
   },
   "outputs": [],
   "source": [
    "from bokeh.plotting import figure, show\n",
    "from bokeh.io import output_notebook\n",
    "from bokeh.models import (\n",
    "    ColumnDataSource,\n",
    "    DatetimeTickFormatter,\n",
    "    FixedTicker,\n",
    "    HoverTool,\n",
    "    Label,\n",
    "    Span,\n",
    "    Panel,\n",
    "    Tabs,\n",
    "    TabPanel\n",
    ")\n",
    "from bokeh.palettes import Spectral6\n",
    "\n",
    "\n",
    "def get_area_plot(\n",
    "    df, title, source_text, acled_events_daily, reindex_freq=\"D\", events_dict={}\n",
    "):\n",
    "    complete_date_range = pd.date_range(\n",
    "        start=df[\"flight_date\"].min(), end=df[\"flight_date\"].max(), freq=reindex_freq\n",
    "    )\n",
    "    # Pivot the data to have flight_status as columns\n",
    "    df_pivot = df.pivot_table(\n",
    "        index=\"flight_date\", columns=\"flight_status\", values=\"iata_arr\", aggfunc=\"sum\"\n",
    "    )\n",
    "    df_reindexed = df_pivot.reindex(complete_date_range).fillna(0)\n",
    "    df_reindexed = df_reindexed.reset_index().rename(columns={\"index\": \"flight_date\"})\n",
    "\n",
    "    df[\"total_flights\"] = df.groupby(\"flight_date\")[\"iata_arr\"].transform(\"sum\")\n",
    "    if acled_events_daily['nrEvents'].max()<500:\n",
    "        max_flight = acled_events_daily[\"nrEvents\"].max() + 50\n",
    "    else:\n",
    "        max_flight = acled_events_daily[\"nrEvents\"].max() + 200\n",
    "\n",
    "    # Create a ColumnDataSource\n",
    "    source = ColumnDataSource(df_reindexed)\n",
    "\n",
    "    # Create a Bokeh figure\n",
    "    p = figure(\n",
    "        x_axis_type=\"datetime\",\n",
    "        height=600,\n",
    "        width=800,\n",
    "        title=title,\n",
    "        toolbar_location='above',\n",
    "        tools=\"pan,box_zoom,reset,save\",\n",
    "        x_axis_label=\"Flight Date\",\n",
    "        y_axis_label=\"Nr Flights\",\n",
    "    )\n",
    "\n",
    "    # Create a stacked area plot using varea_stack\n",
    "    status_list = list(df[\"flight_status\"].unique())\n",
    "    colors = Spectral6[\n",
    "        : len(status_list)\n",
    "    ]  # Adjust the color palette to the number of flight statuses\n",
    "\n",
    "    p.varea_stack(\n",
    "        stackers=status_list,\n",
    "        x=\"flight_date\",\n",
    "        color=colors,\n",
    "        source=source,\n",
    "        legend_label=status_list,\n",
    "    )\n",
    "    p.line(\n",
    "        x=acled_events_daily[\"event_date\"],\n",
    "        y=acled_events_daily[\"nrEvents\"],\n",
    "        line_width=2,\n",
    "        line_color=\"black\",\n",
    "        legend_label=\"Number of Conflict Events w/o Protests\",\n",
    "    )\n",
    "\n",
    "    # Customize the plot\n",
    "    p.y_range.start = 0\n",
    "    p.y_range.end = max_flight\n",
    "\n",
    "    # Format x-axis to show only the first day of each month\n",
    "    p.xaxis.formatter = DatetimeTickFormatter(months=\"%b %Y\", days=\"%d %b %Y\")\n",
    "\n",
    "    # Limit the number of ticks by using FixedTicker\n",
    "    date_range = pd.date_range(\n",
    "        start=df[\"flight_date\"].min(), end=df[\"flight_date\"].max(), freq=\"W\"\n",
    "    )\n",
    "    ticks = [pd.to_datetime(date).timestamp() * 1000 for date in date_range]\n",
    "\n",
    "    # complete_date_range = pd.date_range(start=df['flight_date'].min(), end=df['flight_date'].max())\n",
    "\n",
    "    # Only keep a few ticks for clarity\n",
    "    p.xaxis.ticker = FixedTicker(\n",
    "        ticks=ticks[::2]\n",
    "    )  # Adjust the slicing (e.g., [::2], [::3]) for more or fewer ticks\n",
    "\n",
    "    # Rotate x-axis labels for better readability\n",
    "    p.xaxis.major_label_orientation = 1.2\n",
    "\n",
    "    # Enable clickable legend\n",
    "    p.legend.click_policy = \"mute\"\n",
    "\n",
    "    hover = p.select(dict(type=HoverTool))\n",
    "    hover.tooltips = [\n",
    "        (\"Flight Date\", \"@flight_date{%F}\"),\n",
    "        (\"Status\", \"$name\"),\n",
    "        (\"Value\", \"@$name\"),\n",
    "    ]\n",
    "    hover.formatters = {\"@flight_date\": \"datetime\"}\n",
    "\n",
    "    # p.legend.title = 'Flight Status'\n",
    "    p.legend.location = \"top_left\"\n",
    "    p.legend.orientation = \"horizontal\"\n",
    "\n",
    "    source_label = Label(\n",
    "        x=0,\n",
    "        y=0,\n",
    "        x_units=\"screen\",\n",
    "        y_units=\"screen\",\n",
    "        text=source_text,\n",
    "        text_font_size=\"10pt\",\n",
    "        text_color=\"gray\",\n",
    "    )\n",
    "\n",
    "    # Add the label to the plot\n",
    "    p.add_layout(source_label, \"below\")\n",
    "\n",
    "    if events_dict:\n",
    "        used_y_positions = []\n",
    "\n",
    "        for index, (event_date, label) in enumerate(events_dict.items()):\n",
    "            # Convert event_date to a timestamp in milliseconds (as expected by Bokeh for datetime axes)\n",
    "            event_date_dt = pd.to_datetime(event_date)\n",
    "            event_timestamp = event_date_dt.timestamp() * 1000\n",
    "\n",
    "            # Create a vertical line (Span) at the event date\n",
    "            span = Span(\n",
    "                location=event_timestamp,\n",
    "                dimension=\"height\",\n",
    "                line_color='#C6C6C6',\n",
    "                line_width=2,\n",
    "                line_dash=(4, 4)\n",
    "            )\n",
    "            p.renderers.append(span)\n",
    "\n",
    "            # Determine a base y position for the label\n",
    "            base_y = max_flight - (max_flight/5)  # Adjust for visibility above the plot\n",
    "            y_position = base_y  # Default position\n",
    "\n",
    "            # Adjust y_position if it overlaps with previous labels\n",
    "            while y_position in used_y_positions:\n",
    "                y_position -= base_y / 10  # Move down until it's free\n",
    "\n",
    "            used_y_positions.append(y_position)  # Store the used position\n",
    "\n",
    "            # Add a label near the vertical line, aligned to the left\n",
    "            event_label = Label(\n",
    "                x=event_timestamp,\n",
    "                y=y_position,\n",
    "                x_offset=-5,  # Offset to move the label to the left of the line\n",
    "                text=label,\n",
    "                text_align=\"right\",  # Align the text to the right so it stays to the left of the line\n",
    "                text_color=\"black\",\n",
    "                text_font_size=\"10pt\",\n",
    "                background_fill_color=\"grey\",\n",
    "                background_fill_alpha=0.2,\n",
    "            )\n",
    "            p.add_layout(event_label)\n",
    "\n",
    "    return p\n",
    "    # Show the plot\n",
    "    # show(p)"
   ]
  },
  {
   "cell_type": "code",
   "execution_count": 46,
   "metadata": {
    "tags": [
     "remove-cell"
    ]
   },
   "outputs": [],
   "source": [
    "departures = pd.concat(\n",
    "    [\n",
    "        pd.read_csv(\"../../data/aviation/aviationstack_bey_14082024_01012024_dep.csv\"),\n",
    "        pd.read_csv(\"../../data/aviation/aviationstack_bey_25082024_15082024_dep.csv\"),\n",
    "        pd.read_csv(\"../../data/aviation/aviationstack_bey_25082024_01012024_dep2.csv\"),\n",
    "        pd.read_csv(\"../../data/aviation/aviationstack_bey_15082024_07102024_dep.csv\"),\n",
    "        pd.read_csv(\"../../data/aviation/aviationstack_bey_15082024_07102024_dep2.csv\"),\n",
    "    ]\n",
    ")\n",
    "departures.drop(columns=\"Unnamed: 0\", inplace=True)\n",
    "departures.drop_duplicates(inplace=True)\n",
    "departures.reset_index(drop=True, inplace=True)"
   ]
  },
  {
   "cell_type": "code",
   "execution_count": 47,
   "metadata": {
    "tags": [
     "remove-cell"
    ]
   },
   "outputs": [
    {
     "name": "stdout",
     "output_type": "stream",
     "text": [
      "Removing the flights which take off and land from Beirut\n"
     ]
    }
   ],
   "source": [
    "print(\"Removing the flights which take off and land from Beirut\")\n",
    "departures_exploded = explode(departures)\n",
    "# departures_exploded = departures_exploded[~(departures_exploded['airport_arr']==departures_exploded['airport_dep'])]"
   ]
  },
  {
   "cell_type": "code",
   "execution_count": 48,
   "metadata": {
    "tags": [
     "remove-input"
    ]
   },
   "outputs": [
    {
     "name": "stdout",
     "output_type": "stream",
     "text": [
      "The following dates are not available in the data. The reasons are unknown.: DatetimeIndex(['2024-01-29', '2024-01-30', '2024-04-29', '2024-04-30',\n",
      "               '2024-06-07', '2024-06-08', '2024-06-09', '2024-09-02'],\n",
      "              dtype='datetime64[ns]', freq=None)\n"
     ]
    }
   ],
   "source": [
    "import pandas as pd\n",
    "\n",
    "df = departures\n",
    "# Assuming df is your DataFrame and 'flight_date' is the column with the dates\n",
    "df[\"flight_date\"] = pd.to_datetime(\n",
    "    df[\"flight_date\"]\n",
    ")  # Ensure 'flight_date' is in datetime format\n",
    "\n",
    "# Generate the complete date range from the minimum to the maximum date\n",
    "complete_date_range = pd.date_range(\n",
    "    start=df[\"flight_date\"].min(), end=df[\"flight_date\"].max()\n",
    ")\n",
    "\n",
    "# Find missing dates by comparing the complete date range with the dates in the DataFrame\n",
    "missing_dates = complete_date_range.difference(df[\"flight_date\"])\n",
    "\n",
    "if missing_dates.empty:\n",
    "    print(\"All dates are present.\")\n",
    "else:\n",
    "    print(\n",
    "        f\"The following dates are not available in the data. The reasons are unknown.: {missing_dates}\"\n",
    "    )"
   ]
  },
  {
   "cell_type": "markdown",
   "metadata": {},
   "source": [
    "## Analysing Number of Departures from Beirut International Airport in 2024"
   ]
  },
  {
   "cell_type": "code",
   "execution_count": 49,
   "metadata": {
    "tags": [
     "remove-input"
    ]
   },
   "outputs": [
    {
     "name": "stdout",
     "output_type": "stream",
     "text": [
      "Data is available from 2024-01-01 00:00:00 to 2024-10-07 00:00:00\n"
     ]
    }
   ],
   "source": [
    "beginning = departures[\"flight_date\"].min()\n",
    "end = departures[\"flight_date\"].max()\n",
    "print(f\"Data is available from {beginning} to {end}\")"
   ]
  },
  {
   "cell_type": "markdown",
   "metadata": {
    "tags": [
     "remove-cell"
    ]
   },
   "source": [
    "Conduct a duplication check for flights. If the flight is taking off from the same place, to the same place at the same time and has two entries, it is a duplicate flight"
   ]
  },
  {
   "cell_type": "code",
   "execution_count": 21,
   "metadata": {},
   "outputs": [],
   "source": [
    "# departures_exploded[departures_exploded['airport_arr']=='Beirut Rafic Hariri Airport']"
   ]
  },
  {
   "cell_type": "code",
   "execution_count": 50,
   "metadata": {
    "tags": [
     "remove-cell"
    ]
   },
   "outputs": [
    {
     "name": "stdout",
     "output_type": "stream",
     "text": [
      "There were 31195 flights before duplication check\n",
      "There are 18418 flights after duplication check. 12777 flights were duplicated\n"
     ]
    }
   ],
   "source": [
    "before = departures_exploded.shape[0]\n",
    "print(f\"There were {before} flights before duplication check\")\n",
    "# check for duplicate flights i.e., flights scheduled to take off at the exact same time from the same place to the same destination\n",
    "departures_exploded = departures_exploded.drop_duplicates(\n",
    "    subset=[\"flight_date\", \"scheduled_arr\", \"iata_arr\", \"iata_dep\", \"scheduled_dep\"]\n",
    ")\n",
    "\n",
    "after = departures_exploded.shape[0]\n",
    "print(\n",
    "    f\"There are {after} flights after duplication check. {before-after} flights were duplicated\"\n",
    ")"
   ]
  },
  {
   "cell_type": "markdown",
   "metadata": {},
   "source": [
    "### Flight Status Legend\n",
    "- Scheduled: A flight that we have a schedule or flight plan for that hasn’t departed or has been canceled.\n",
    "- Active: A flight that either left the gate or the runway and is on its way to its destination.\n",
    "- Landed or Arrived: A flight that landed on the runway or arrived at the gate at the destination.\n",
    "- Canceled: A flight that one or more data sources have indicated is canceled.\n",
    "- Redirected: The flight is being redirected to another airport.\n",
    "- Diverted: A flight that has landed or arrived at the gate of an airport where it wasn’t scheduled to arrive.\n",
    "- Unknown: We were unable to detect the final arrival status."
   ]
  },
  {
   "cell_type": "code",
   "execution_count": 23,
   "metadata": {
    "tags": [
     "remove-cell"
    ]
   },
   "outputs": [],
   "source": [
    "acled_events_daily = pd.read_csv(\n",
    "    \"../../data/conflict/acled_events_without_protests_20120101_20241007.csv\"\n",
    ")\n",
    "acled_events_daily[\"event_date\"] = acled_events_daily[\"event_date\"].apply(\n",
    "    lambda x: pd.to_datetime(x)\n",
    ")\n",
    "acled_events_daily = acled_events_daily[acled_events_daily[\"event_date\"] > \"2024-01-01\"]\n",
    "acled_events_daily.drop(columns=[\"Unnamed: 0\"], inplace=True)"
   ]
  },
  {
   "cell_type": "code",
   "execution_count": 24,
   "metadata": {
    "tags": [
     "remove-cell"
    ]
   },
   "outputs": [],
   "source": [
    "acled_events_daily = (\n",
    "    acled_events_daily.groupby([pd.Grouper(key=\"event_date\", freq=\"D\")])[\n",
    "        [\"nrFatalities\", \"nrEvents\"]\n",
    "    ]\n",
    "    .sum()\n",
    "    .reset_index()\n",
    ")\n",
    "acled_events_weekly = (\n",
    "    acled_events_daily.groupby([pd.Grouper(key=\"event_date\", freq=\"W\")])[\n",
    "        [\"nrFatalities\", \"nrEvents\"]\n",
    "    ]\n",
    "    .sum()\n",
    "    .reset_index()\n",
    ")"
   ]
  },
  {
   "cell_type": "code",
   "execution_count": 25,
   "metadata": {
    "tags": [
     "remove-cell"
    ]
   },
   "outputs": [
    {
     "data": {
      "text/html": [
       "<div>\n",
       "<style scoped>\n",
       "    .dataframe tbody tr th:only-of-type {\n",
       "        vertical-align: middle;\n",
       "    }\n",
       "\n",
       "    .dataframe tbody tr th {\n",
       "        vertical-align: top;\n",
       "    }\n",
       "\n",
       "    .dataframe thead th {\n",
       "        text-align: right;\n",
       "    }\n",
       "</style>\n",
       "<table border=\"1\" class=\"dataframe\">\n",
       "  <thead>\n",
       "    <tr style=\"text-align: right;\">\n",
       "      <th></th>\n",
       "      <th>flight_date</th>\n",
       "      <th>scheduled_arr</th>\n",
       "      <th>iata_arr</th>\n",
       "      <th>iata_dep</th>\n",
       "      <th>scheduled_dep</th>\n",
       "      <th>flight_status</th>\n",
       "    </tr>\n",
       "  </thead>\n",
       "  <tbody>\n",
       "  </tbody>\n",
       "</table>\n",
       "</div>"
      ],
      "text/plain": [
       "Empty DataFrame\n",
       "Columns: [flight_date, scheduled_arr, iata_arr, iata_dep, scheduled_dep, flight_status]\n",
       "Index: []"
      ]
     },
     "execution_count": 25,
     "metadata": {},
     "output_type": "execute_result"
    }
   ],
   "source": [
    "# Test to see if any flight has more than one flight status assoctaed with it.\n",
    "duplicate_status_test = (\n",
    "    departures_exploded.groupby(\n",
    "        [\"flight_date\", \"scheduled_arr\", \"iata_arr\", \"iata_dep\", \"scheduled_dep\"]\n",
    "    )[[\"flight_status\"]]\n",
    "    .count()\n",
    "    .reset_index()\n",
    ")\n",
    "duplicate_status_test[duplicate_status_test[\"flight_status\"] > 1]"
   ]
  },
  {
   "cell_type": "code",
   "execution_count": 99,
   "metadata": {
    "tags": [
     "remove-cell"
    ]
   },
   "outputs": [],
   "source": [
    "['2024-01-29', '2024-01-30', '2024-04-29', '2024-04-30',\n",
    "               '2024-06-07', '2024-06-08', '2024-06-09', '2024-09-02']\n",
    "\n",
    "events = {\n",
    "    \"2024-06-09\":\"Airline data\\nnot available\",\n",
    "        \"2024-04-14\": \"Temporary shutdown of\\nLebanese airspace between\\n7AM and 1PM\",\n",
    "        \"2024-08-25\":\"Israeli strikes in\\nSouthern Lebanon\",\n",
    "          \"2024-09-23\":\"Start of the Israel-Hezboullah\\nConflict\",\n",
    "          }"
   ]
  },
  {
   "cell_type": "code",
   "execution_count": 130,
   "metadata": {
    "tags": [
     "remove-input"
    ]
   },
   "outputs": [
    {
     "data": {
      "text/html": [
       "    <style>\n",
       "        .bk-notebook-logo {\n",
       "            display: block;\n",
       "            width: 20px;\n",
       "            height: 20px;\n",
       "            background-image: url(data:image/png;base64,iVBORw0KGgoAAAANSUhEUgAAABQAAAAUCAYAAACNiR0NAAAABHNCSVQICAgIfAhkiAAAAAlwSFlzAAALEgAACxIB0t1+/AAAABx0RVh0U29mdHdhcmUAQWRvYmUgRmlyZXdvcmtzIENTNui8sowAAAOkSURBVDiNjZRtaJVlGMd/1/08zzln5zjP1LWcU9N0NkN8m2CYjpgQYQXqSs0I84OLIC0hkEKoPtiH3gmKoiJDU7QpLgoLjLIQCpEsNJ1vqUOdO7ppbuec5+V+rj4ctwzd8IIbbi6u+8f1539dt3A78eXC7QizUF7gyV1fD1Yqg4JWz84yffhm0qkFqBogB9rM8tZdtwVsPUhWhGcFJngGeWrPzHm5oaMmkfEg1usvLFyc8jLRqDOMru7AyC8saQr7GG7f5fvDeH7Ej8CM66nIF+8yngt6HWaKh7k49Soy9nXurCi1o3qUbS3zWfrYeQDTB/Qj6kX6Ybhw4B+bOYoLKCC9H3Nu/leUTZ1JdRWkkn2ldcCamzrcf47KKXdAJllSlxAOkRgyHsGC/zRday5Qld9DyoM4/q/rUoy/CXh3jzOu3bHUVZeU+DEn8FInkPBFlu3+nW3Nw0mk6vCDiWg8CeJaxEwuHS3+z5RgY+YBR6V1Z1nxSOfoaPa4LASWxxdNp+VWTk7+4vzaou8v8PN+xo+KY2xsw6une2frhw05CTYOmQvsEhjhWjn0bmXPjpE1+kplmmkP3suftwTubK9Vq22qKmrBhpY4jvd5afdRA3wGjFAgcnTK2s4hY0/GPNIb0nErGMCRxWOOX64Z8RAC4oCXdklmEvcL8o0BfkNK4lUg9HTl+oPlQxdNo3Mg4Nv175e/1LDGzZen30MEjRUtmXSfiTVu1kK8W4txyV6BMKlbgk3lMwYCiusNy9fVfvvwMxv8Ynl6vxoByANLTWplvuj/nF9m2+PDtt1eiHPBr1oIfhCChQMBw6Aw0UulqTKZdfVvfG7VcfIqLG9bcldL/+pdWTLxLUy8Qq38heUIjh4XlzZxzQm19lLFlr8vdQ97rjZVOLf8nclzckbcD4wxXMidpX30sFd37Fv/GtwwhzhxGVAprjbg0gCAEeIgwCZyTV2Z1REEW8O4py0wsjeloKoMr6iCY6dP92H6Vw/oTyICIthibxjm/DfN9lVz8IqtqKYLUXfoKVMVQVVJOElGjrnnUt9T9wbgp8AyYKaGlqingHZU/uG2NTZSVqwHQTWkx9hxjkpWDaCg6Ckj5qebgBVbT3V3NNXMSiWSDdGV3hrtzla7J+duwPOToIg42ChPQOQjspnSlp1V+Gjdged7+8UN5CRAV7a5EdFNwCjEaBR27b3W890TE7g24NAP/mMDXRWrGoFPQI9ls/MWO2dWFAar/xcOIImbbpA3zgAAAABJRU5ErkJggg==);\n",
       "        }\n",
       "    </style>\n",
       "    <div>\n",
       "        <a href=\"https://bokeh.org\" target=\"_blank\" class=\"bk-notebook-logo\"></a>\n",
       "        <span id=\"d7e84fd5-d977-48a2-a85b-89a5018bff54\">Loading BokehJS ...</span>\n",
       "    </div>\n"
      ]
     },
     "metadata": {},
     "output_type": "display_data"
    },
    {
     "data": {
      "application/javascript": "'use strict';\n(function(root) {\n  function now() {\n    return new Date();\n  }\n\n  const force = true;\n\n  if (typeof root._bokeh_onload_callbacks === \"undefined\" || force === true) {\n    root._bokeh_onload_callbacks = [];\n    root._bokeh_is_loading = undefined;\n  }\n\nconst JS_MIME_TYPE = 'application/javascript';\n  const HTML_MIME_TYPE = 'text/html';\n  const EXEC_MIME_TYPE = 'application/vnd.bokehjs_exec.v0+json';\n  const CLASS_NAME = 'output_bokeh rendered_html';\n\n  /**\n   * Render data to the DOM node\n   */\n  function render(props, node) {\n    const script = document.createElement(\"script\");\n    node.appendChild(script);\n  }\n\n  /**\n   * Handle when an output is cleared or removed\n   */\n  function handleClearOutput(event, handle) {\n    function drop(id) {\n      const view = Bokeh.index.get_by_id(id)\n      if (view != null) {\n        view.model.document.clear()\n        Bokeh.index.delete(view)\n      }\n    }\n\n    const cell = handle.cell;\n\n    const id = cell.output_area._bokeh_element_id;\n    const server_id = cell.output_area._bokeh_server_id;\n\n    // Clean up Bokeh references\n    if (id != null) {\n      drop(id)\n    }\n\n    if (server_id !== undefined) {\n      // Clean up Bokeh references\n      const cmd_clean = \"from bokeh.io.state import curstate; print(curstate().uuid_to_server['\" + server_id + \"'].get_sessions()[0].document.roots[0]._id)\";\n      cell.notebook.kernel.execute(cmd_clean, {\n        iopub: {\n          output: function(msg) {\n            const id = msg.content.text.trim()\n            drop(id)\n          }\n        }\n      });\n      // Destroy server and session\n      const cmd_destroy = \"import bokeh.io.notebook as ion; ion.destroy_server('\" + server_id + \"')\";\n      cell.notebook.kernel.execute(cmd_destroy);\n    }\n  }\n\n  /**\n   * Handle when a new output is added\n   */\n  function handleAddOutput(event, handle) {\n    const output_area = handle.output_area;\n    const output = handle.output;\n\n    // limit handleAddOutput to display_data with EXEC_MIME_TYPE content only\n    if ((output.output_type != \"display_data\") || (!Object.prototype.hasOwnProperty.call(output.data, EXEC_MIME_TYPE))) {\n      return\n    }\n\n    const toinsert = output_area.element.find(\".\" + CLASS_NAME.split(' ')[0]);\n\n    if (output.metadata[EXEC_MIME_TYPE][\"id\"] !== undefined) {\n      toinsert[toinsert.length - 1].firstChild.textContent = output.data[JS_MIME_TYPE];\n      // store reference to embed id on output_area\n      output_area._bokeh_element_id = output.metadata[EXEC_MIME_TYPE][\"id\"];\n    }\n    if (output.metadata[EXEC_MIME_TYPE][\"server_id\"] !== undefined) {\n      const bk_div = document.createElement(\"div\");\n      bk_div.innerHTML = output.data[HTML_MIME_TYPE];\n      const script_attrs = bk_div.children[0].attributes;\n      for (let i = 0; i < script_attrs.length; i++) {\n        toinsert[toinsert.length - 1].firstChild.setAttribute(script_attrs[i].name, script_attrs[i].value);\n        toinsert[toinsert.length - 1].firstChild.textContent = bk_div.children[0].textContent\n      }\n      // store reference to server id on output_area\n      output_area._bokeh_server_id = output.metadata[EXEC_MIME_TYPE][\"server_id\"];\n    }\n  }\n\n  function register_renderer(events, OutputArea) {\n\n    function append_mime(data, metadata, element) {\n      // create a DOM node to render to\n      const toinsert = this.create_output_subarea(\n        metadata,\n        CLASS_NAME,\n        EXEC_MIME_TYPE\n      );\n      this.keyboard_manager.register_events(toinsert);\n      // Render to node\n      const props = {data: data, metadata: metadata[EXEC_MIME_TYPE]};\n      render(props, toinsert[toinsert.length - 1]);\n      element.append(toinsert);\n      return toinsert\n    }\n\n    /* Handle when an output is cleared or removed */\n    events.on('clear_output.CodeCell', handleClearOutput);\n    events.on('delete.Cell', handleClearOutput);\n\n    /* Handle when a new output is added */\n    events.on('output_added.OutputArea', handleAddOutput);\n\n    /**\n     * Register the mime type and append_mime function with output_area\n     */\n    OutputArea.prototype.register_mime_type(EXEC_MIME_TYPE, append_mime, {\n      /* Is output safe? */\n      safe: true,\n      /* Index of renderer in `output_area.display_order` */\n      index: 0\n    });\n  }\n\n  // register the mime type if in Jupyter Notebook environment and previously unregistered\n  if (root.Jupyter !== undefined) {\n    const events = require('base/js/events');\n    const OutputArea = require('notebook/js/outputarea').OutputArea;\n\n    if (OutputArea.prototype.mime_types().indexOf(EXEC_MIME_TYPE) == -1) {\n      register_renderer(events, OutputArea);\n    }\n  }\n  if (typeof (root._bokeh_timeout) === \"undefined\" || force === true) {\n    root._bokeh_timeout = Date.now() + 5000;\n    root._bokeh_failed_load = false;\n  }\n\n  const NB_LOAD_WARNING = {'data': {'text/html':\n     \"<div style='background-color: #fdd'>\\n\"+\n     \"<p>\\n\"+\n     \"BokehJS does not appear to have successfully loaded. If loading BokehJS from CDN, this \\n\"+\n     \"may be due to a slow or bad network connection. Possible fixes:\\n\"+\n     \"</p>\\n\"+\n     \"<ul>\\n\"+\n     \"<li>re-rerun `output_notebook()` to attempt to load from CDN again, or</li>\\n\"+\n     \"<li>use INLINE resources instead, as so:</li>\\n\"+\n     \"</ul>\\n\"+\n     \"<code>\\n\"+\n     \"from bokeh.resources import INLINE\\n\"+\n     \"output_notebook(resources=INLINE)\\n\"+\n     \"</code>\\n\"+\n     \"</div>\"}};\n\n  function display_loaded(error = null) {\n    const el = document.getElementById(\"d7e84fd5-d977-48a2-a85b-89a5018bff54\");\n    if (el != null) {\n      const html = (() => {\n        if (typeof root.Bokeh === \"undefined\") {\n          if (error == null) {\n            return \"BokehJS is loading ...\";\n          } else {\n            return \"BokehJS failed to load.\";\n          }\n        } else {\n          const prefix = `BokehJS ${root.Bokeh.version}`;\n          if (error == null) {\n            return `${prefix} successfully loaded.`;\n          } else {\n            return `${prefix} <b>encountered errors</b> while loading and may not function as expected.`;\n          }\n        }\n      })();\n      el.innerHTML = html;\n\n      if (error != null) {\n        const wrapper = document.createElement(\"div\");\n        wrapper.style.overflow = \"auto\";\n        wrapper.style.height = \"5em\";\n        wrapper.style.resize = \"vertical\";\n        const content = document.createElement(\"div\");\n        content.style.fontFamily = \"monospace\";\n        content.style.whiteSpace = \"pre-wrap\";\n        content.style.backgroundColor = \"rgb(255, 221, 221)\";\n        content.textContent = error.stack ?? error.toString();\n        wrapper.append(content);\n        el.append(wrapper);\n      }\n    } else if (Date.now() < root._bokeh_timeout) {\n      setTimeout(() => display_loaded(error), 100);\n    }\n  }\n\n  function run_callbacks() {\n    try {\n      root._bokeh_onload_callbacks.forEach(function(callback) {\n        if (callback != null)\n          callback();\n      });\n    } finally {\n      delete root._bokeh_onload_callbacks\n    }\n    console.debug(\"Bokeh: all callbacks have finished\");\n  }\n\n  function load_libs(css_urls, js_urls, callback) {\n    if (css_urls == null) css_urls = [];\n    if (js_urls == null) js_urls = [];\n\n    root._bokeh_onload_callbacks.push(callback);\n    if (root._bokeh_is_loading > 0) {\n      console.debug(\"Bokeh: BokehJS is being loaded, scheduling callback at\", now());\n      return null;\n    }\n    if (js_urls == null || js_urls.length === 0) {\n      run_callbacks();\n      return null;\n    }\n    console.debug(\"Bokeh: BokehJS not loaded, scheduling load and callback at\", now());\n    root._bokeh_is_loading = css_urls.length + js_urls.length;\n\n    function on_load() {\n      root._bokeh_is_loading--;\n      if (root._bokeh_is_loading === 0) {\n        console.debug(\"Bokeh: all BokehJS libraries/stylesheets loaded\");\n        run_callbacks()\n      }\n    }\n\n    function on_error(url) {\n      console.error(\"failed to load \" + url);\n    }\n\n    for (let i = 0; i < css_urls.length; i++) {\n      const url = css_urls[i];\n      const element = document.createElement(\"link\");\n      element.onload = on_load;\n      element.onerror = on_error.bind(null, url);\n      element.rel = \"stylesheet\";\n      element.type = \"text/css\";\n      element.href = url;\n      console.debug(\"Bokeh: injecting link tag for BokehJS stylesheet: \", url);\n      document.body.appendChild(element);\n    }\n\n    for (let i = 0; i < js_urls.length; i++) {\n      const url = js_urls[i];\n      const element = document.createElement('script');\n      element.onload = on_load;\n      element.onerror = on_error.bind(null, url);\n      element.async = false;\n      element.src = url;\n      console.debug(\"Bokeh: injecting script tag for BokehJS library: \", url);\n      document.head.appendChild(element);\n    }\n  };\n\n  function inject_raw_css(css) {\n    const element = document.createElement(\"style\");\n    element.appendChild(document.createTextNode(css));\n    document.body.appendChild(element);\n  }\n\n  const js_urls = [\"https://cdn.bokeh.org/bokeh/release/bokeh-3.4.1.min.js\", \"https://cdn.bokeh.org/bokeh/release/bokeh-gl-3.4.1.min.js\", \"https://cdn.bokeh.org/bokeh/release/bokeh-widgets-3.4.1.min.js\", \"https://cdn.bokeh.org/bokeh/release/bokeh-tables-3.4.1.min.js\", \"https://cdn.bokeh.org/bokeh/release/bokeh-mathjax-3.4.1.min.js\"];\n  const css_urls = [];\n\n  const inline_js = [    function(Bokeh) {\n      Bokeh.set_log_level(\"info\");\n    },\nfunction(Bokeh) {\n    }\n  ];\n\n  function run_inline_js() {\n    if (root.Bokeh !== undefined || force === true) {\n      try {\n            for (let i = 0; i < inline_js.length; i++) {\n      inline_js[i].call(root, root.Bokeh);\n    }\n\n      } catch (error) {display_loaded(error);throw error;\n      }if (force === true) {\n        display_loaded();\n      }} else if (Date.now() < root._bokeh_timeout) {\n      setTimeout(run_inline_js, 100);\n    } else if (!root._bokeh_failed_load) {\n      console.log(\"Bokeh: BokehJS failed to load within specified timeout.\");\n      root._bokeh_failed_load = true;\n    } else if (force !== true) {\n      const cell = $(document.getElementById(\"d7e84fd5-d977-48a2-a85b-89a5018bff54\")).parents('.cell').data().cell;\n      cell.output_area.append_execute_result(NB_LOAD_WARNING)\n    }\n  }\n\n  if (root._bokeh_is_loading === 0) {\n    console.debug(\"Bokeh: BokehJS loaded, going straight to plotting\");\n    run_inline_js();\n  } else {\n    load_libs(css_urls, js_urls, function() {\n      console.debug(\"Bokeh: BokehJS plotting callback run at\", now());\n      run_inline_js();\n    });\n  }\n}(window));",
      "application/vnd.bokehjs_load.v0+json": ""
     },
     "metadata": {},
     "output_type": "display_data"
    },
    {
     "data": {
      "text/html": [
       "\n",
       "  <div id=\"e9a2d460-d335-42e3-b4e0-5106b88e108a\" data-root-id=\"p8697\" style=\"display: contents;\"></div>\n"
      ]
     },
     "metadata": {},
     "output_type": "display_data"
    },
    {
     "data": {
      "application/javascript": "(function(root) {\n  function embed_document(root) {\n  const docs_json = {\"83d02d17-5554-4be8-8a00-0c7f40b17480\":{\"version\":\"3.4.1\",\"title\":\"Bokeh Application\",\"roots\":[{\"type\":\"object\",\"name\":\"Figure\",\"id\":\"p8697\",\"attributes\":{\"width\":800,\"x_range\":{\"type\":\"object\",\"name\":\"DataRange1d\",\"id\":\"p8698\"},\"y_range\":{\"type\":\"object\",\"name\":\"DataRange1d\",\"id\":\"p8699\",\"attributes\":{\"start\":0,\"end\":250}},\"x_scale\":{\"type\":\"object\",\"name\":\"LinearScale\",\"id\":\"p8707\"},\"y_scale\":{\"type\":\"object\",\"name\":\"LinearScale\",\"id\":\"p8708\"},\"title\":{\"type\":\"object\",\"name\":\"Title\",\"id\":\"p8700\",\"attributes\":{\"text\":\"Daily Departures from BEY\"}},\"renderers\":[{\"type\":\"object\",\"name\":\"GlyphRenderer\",\"id\":\"p8758\",\"attributes\":{\"name\":\"active\",\"data_source\":{\"type\":\"object\",\"name\":\"ColumnDataSource\",\"id\":\"p8694\",\"attributes\":{\"selected\":{\"type\":\"object\",\"name\":\"Selection\",\"id\":\"p8695\",\"attributes\":{\"indices\":[],\"line_indices\":[]}},\"selection_policy\":{\"type\":\"object\",\"name\":\"UnionRenderers\",\"id\":\"p8696\"},\"data\":{\"type\":\"map\",\"entries\":[[\"index\",{\"type\":\"ndarray\",\"array\":{\"type\":\"bytes\",\"data\":\"AAAAAAEAAAACAAAAAwAAAAQAAAAFAAAABgAAAAcAAAAIAAAACQAAAAoAAAALAAAADAAAAA0AAAAOAAAADwAAABAAAAARAAAAEgAAABMAAAAUAAAAFQAAABYAAAAXAAAAGAAAABkAAAAaAAAAGwAAABwAAAAdAAAAHgAAAB8AAAAgAAAAIQAAACIAAAAjAAAAJAAAACUAAAAmAAAAJwAAACgAAAApAAAAKgAAACsAAAAsAAAALQAAAC4AAAAvAAAAMAAAADEAAAAyAAAAMwAAADQAAAA1AAAANgAAADcAAAA4AAAAOQAAADoAAAA7AAAAPAAAAD0AAAA+AAAAPwAAAEAAAABBAAAAQgAAAEMAAABEAAAARQAAAEYAAABHAAAASAAAAEkAAABKAAAASwAAAEwAAABNAAAATgAAAE8AAABQAAAAUQAAAFIAAABTAAAAVAAAAFUAAABWAAAAVwAAAFgAAABZAAAAWgAAAFsAAABcAAAAXQAAAF4AAABfAAAAYAAAAGEAAABiAAAAYwAAAGQAAABlAAAAZgAAAGcAAABoAAAAaQAAAGoAAABrAAAAbAAAAG0AAABuAAAAbwAAAHAAAABxAAAAcgAAAHMAAAB0AAAAdQAAAHYAAAB3AAAAeAAAAHkAAAB6AAAAewAAAHwAAAB9AAAAfgAAAH8AAACAAAAAgQAAAIIAAACDAAAAhAAAAIUAAACGAAAAhwAAAIgAAACJAAAAigAAAIsAAACMAAAAjQAAAI4AAACPAAAAkAAAAJEAAACSAAAAkwAAAJQAAACVAAAAlgAAAJcAAACYAAAAmQAAAJoAAACbAAAAnAAAAJ0AAACeAAAAnwAAAKAAAAChAAAAogAAAKMAAACkAAAApQAAAKYAAACnAAAAqAAAAKkAAACqAAAAqwAAAKwAAACtAAAArgAAAK8AAACwAAAAsQAAALIAAACzAAAAtAAAALUAAAC2AAAAtwAAALgAAAC5AAAAugAAALsAAAC8AAAAvQAAAL4AAAC/AAAAwAAAAMEAAADCAAAAwwAAAMQAAADFAAAAxgAAAMcAAADIAAAAyQAAAMoAAADLAAAAzAAAAM0AAADOAAAAzwAAANAAAADRAAAA0gAAANMAAADUAAAA1QAAANYAAADXAAAA2AAAANkAAADaAAAA2wAAANwAAADdAAAA3gAAAN8AAADgAAAA4QAAAOIAAADjAAAA5AAAAOUAAADmAAAA5wAAAOgAAADpAAAA6gAAAOsAAADsAAAA7QAAAO4AAADvAAAA8AAAAPEAAADyAAAA8wAAAPQAAAD1AAAA9gAAAPcAAAD4AAAA+QAAAPoAAAD7AAAA/AAAAP0AAAD+AAAA/wAAAAABAAABAQAAAgEAAAMBAAAEAQAABQEAAAYBAAAHAQAACAEAAAkBAAAKAQAACwEAAAwBAAANAQAADgEAAA8BAAAQAQAAEQEAABIBAAATAQAAFAEAABUBAAAWAQAAFwEAABgBAAA=\"},\"shape\":[281],\"dtype\":\"int32\",\"order\":\"little\"}],[\"flight_date\",{\"type\":\"ndarray\",\"array\":{\"type\":\"bytes\",\"data\":\"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\"},\"shape\":[281],\"dtype\":\"float64\",\"order\":\"little\"}],[\"active\",{\"type\":\"ndarray\",\"array\":{\"type\":\"bytes\",\"data\":\"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\"},\"shape\":[281],\"dtype\":\"float64\",\"order\":\"little\"}],[\"cancelled\",{\"type\":\"ndarray\",\"array\":{\"type\":\"bytes\",\"data\":\"AAAAAAAAAAAAAAAAAAAAAAAAAAAAAABAAAAAAAAAAAAAAAAAAAAAAAAAAAAAAPA/AAAAAAAAAAAAAAAAAADwPwAAAAAAAAAAAAAAAAAAAAAAAAAAAAAAAAAAAAAAAAAAAAAAAAAAAAAAAAAAAAAAAAAAAAAAAAAAAAAAAAAAAAAAAAAAAAAAAAAAAAAAAAAAAAAAAAAAAAAAAAAAAAAAAAAAAAAAAPA/AAAAAAAA8D8AAAAAAAAAAAAAAAAAAPA/AAAAAAAAAAAAAAAAAAAAAAAAAAAAAAAAAAAAAAAAAAAAAAAAAAAAAAAAAAAAAAAAAAAAAAAAAAAAAAAAAAAIQAAAAAAAAAAAAAAAAAAAAAAAAAAAAAAAAAAAAAAAAAAAAAAAAAAA8D8AAAAAAADwPwAAAAAAAAAAAAAAAAAAAAAAAAAAAAAAAAAAAAAAAAAAAAAAAAAAAAAAAAAAAAAAAAAAAAAAAABAAAAAAAAAAAAAAAAAAAAAAAAAAAAAAAAAAAAAAAAAAAAAAAAAAAAAAAAAAAAAAAAAAAAAAAAAAAAAAAAAAAAAAAAAAAAAAPA/AAAAAAAAAAAAAAAAAAAAAAAAAAAAAAAAAAAAAAAAAAAAAAAAAAAAAAAAAAAAAAAAAAAAAAAAAAAAAAAAAAAAAAAAAAAAAAAAAAAAAAAAAAAAAAAAAADwPwAAAAAAAPA/AAAAAAAAAEAAAAAAAAAAAAAAAAAAAPA/AAAAAAAAAAAAAAAAAAAAAAAAAAAAAPA/AAAAAAAAAAAAAAAAAAAIQAAAAAAAAAAAAAAAAAAAAAAAAAAAAAAAAAAAAAAAAAAAAAAAAAAA8D8AAAAAAAAAAAAAAAAAAPA/AAAAAAAAAAAAAAAAAAAAAAAAAAAAAPA/AAAAAAAAAAAAAAAAAAAAAAAAAAAAAAAAAAAAAAAAAAAAAAAAAADwPwAAAAAAAPA/AAAAAAAAAAAAAAAAAAAAAAAAAAAAAPA/AAAAAAAA8D8AAAAAAADwPwAAAAAAAABAAAAAAAAAAAAAAAAAAAAAAAAAAAAAAAAAAAAAAAAAAAAAAAAAAAAAAAAAAAAAAAAAAAAAAAAAAAAAAAAAAADwPwAAAAAAADVAAAAAAAAAHEAAAAAAAAAkQAAAAAAAABhAAAAAAAAAAEAAAAAAAAAcQAAAAAAAAABAAAAAAAAAAEAAAAAAAAAQQAAAAAAAAAhAAAAAAAAA8D8AAAAAAAAUQAAAAAAAAAAAAAAAAAAAAAAAAAAAAADwPwAAAAAAAAAAAAAAAAAAAAAAAAAAAADwPwAAAAAAAPA/AAAAAAAAAAAAAAAAAAAIQAAAAAAAAPA/AAAAAAAAAAAAAAAAAAAAAAAAAAAAAAAAAAAAAAAAAAAAAAAAAADwPwAAAAAAAAhAAAAAAAAA8D8AAAAAAAAAQAAAAAAAAAhAAAAAAAAA8D8AAAAAAAAAAAAAAAAAAAAAAAAAAAAAAAAAAAAAAAAAAAAAAAAAAPA/AAAAAAAAAEAAAAAAAAAAAAAAAAAAAAAAAAAAAAAA8D8AAAAAAADwPwAAAAAAAPA/AAAAAAAAAAAAAAAAAAAAQAAAAAAAAAAAAAAAAAAAAAAAAAAAAAAAAAAAAAAAAPA/AAAAAAAAAAAAAAAAAAAAAAAAAAAAAAAAAAAAAAAAAAAAAAAAAAAAAAAAAAAAAAAAAAAAAAAAAAAAAAAAAAAAAAAAAAAAAPA/AAAAAAAAAAAAAAAAAAAAAAAAAAAAAAAAAAAAAAAAAAAAAAAAAAAIQAAAAAAAAPA/AAAAAAAACEAAAAAAAADwPwAAAAAAAAAAAAAAAAAAAAAAAAAAAAAAQAAAAAAAAAAAAAAAAAAAAAAAAAAAAAAAAAAAAAAAAAAAAAAAAAAA8D8AAAAAAADwPwAAAAAAAAAAAAAAAAAA8D8AAAAAAAAAQAAAAAAAAABAAAAAAAAACEAAAAAAAAAAAAAAAAAAAABAAAAAAAAAAEAAAAAAAADwPwAAAAAAAPA/AAAAAAAAAEAAAAAAAADwPwAAAAAAAAAAAAAAAAAA8D8AAAAAAAAAAAAAAAAAAAAAAAAAAAAAAEAAAAAAAAAAAAAAAAAAAAAAAAAAAAAA8D8AAAAAAADwPwAAAAAAAAAAAAAAAAAAAAAAAAAAAADwPwAAAAAAAABAAAAAAAAAAAAAAAAAAAAAAAAAAAAAAPA/AAAAAAAAAAAAAAAAAAAAAAAAAAAAAABAAAAAAAAAKkAAAAAAAAAyQAAAAAAAADJAAAAAAAAALkAAAAAAAAAkQAAAAAAAADFAAAAAAAAAJkAAAAAAAAAUQAAAAAAAABhAAAAAAAAAFEAAAAAAAAAIQAAAAAAAACJAAAAAAAAAGEAAAAAAAAAUQAAAAAAAAAhAAAAAAAAAEEAAAAAAAAAUQAAAAAAAABBAAAAAAAAA8D8AAAAAAAAAQAAAAAAAAABAAAAAAAAAAEAAAAAAAAAIQAAAAAAAABRAAAAAAAAAFEAAAAAAAAAIQAAAAAAAAABAAAAAAAAALkAAAAAAAADwPwAAAAAAAPA/AAAAAAAA8D8AAAAAAADwPwAAAAAAAAAAAAAAAAAAAAAAAAAAAAAAAAAAAAAAAAAAAAAAAAAAAAAAAAAAAAAAQAAAAAAAAABAAAAAAAAAAAAAAAAAAAAAAAAAAAAAAAAAAAAAAAAAAAAAAAAAAAAAAAAAAAAAAAAAAAAAAAAAAAAAAAAAAAAAAAAAAAAAAAAAAAAAAAAAAAAAAAAAAAAAAAAAAAAAAAAAAAAAAAAAAEAAAAAAAAAAAAAAAAAAAAAAAAAAAAAA8D8AAAAAAAAAQAAAAAAAAAAAAAAAAAAACEAAAAAAAAAQQAAAAAAAAAhAAAAAAAAACEAAAAAAAAAQQAAAAAAAAABAAAAAAAAACEAAAAAAAAAQQAAAAAAAABBAAAAAAAAAAEAAAAAAAAAAQAAAAAAAAAAAAAAAAAAAAAAAAAAAAAAAQA==\"},\"shape\":[281],\"dtype\":\"float64\",\"order\":\"little\"}],[\"diverted\",{\"type\":\"ndarray\",\"array\":{\"type\":\"bytes\",\"data\":\"AAAAAAAAAAAAAAAAAAAAQAAAAAAAAAAAAAAAAAAAAAAAAAAAAAAAAAAAAAAAAABAAAAAAAAAAAAAAAAAAADwPwAAAAAAAPA/AAAAAAAAAAAAAAAAAAAAAAAAAAAAAAAAAAAAAAAA8D8AAAAAAAAAAAAAAAAAAPA/AAAAAAAAAAAAAAAAAAAAAAAAAAAAAAAAAAAAAAAAAAAAAAAAAAAAAAAAAAAAAAAAAAAAAAAAAAAAAAAAAADwPwAAAAAAAAAAAAAAAAAAAAAAAAAAAAAAAAAAAAAAAAAAAAAAAAAAAAAAAAAAAAAAAAAAAAAAAAAAAAAAAAAAAAAAAAAAAADwPwAAAAAAAAAAAAAAAAAA8D8AAAAAAAAAAAAAAAAAAAAAAAAAAAAAAAAAAAAAAADwPwAAAAAAAAAAAAAAAAAAAAAAAAAAAAAAAAAAAAAAAAAAAAAAAAAAAAAAAAAAAAAAAAAAAAAAAAAAAAAAAAAAAEAAAAAAAAAAAAAAAAAAAABAAAAAAAAAAAAAAAAAAAAAAAAAAAAAAAAAAAAAAAAAAEAAAAAAAAAAAAAAAAAAAAAAAAAAAAAAAAAAAAAAAAAAAAAAAAAAAPA/AAAAAAAAAAAAAAAAAADwPwAAAAAAAABAAAAAAAAAAEAAAAAAAAAAQAAAAAAAAABAAAAAAAAAAEAAAAAAAAAAAAAAAAAAAAAAAAAAAAAAAAAAAAAAAADwPwAAAAAAAABAAAAAAAAA8D8AAAAAAADwPwAAAAAAAPA/AAAAAAAAAEAAAAAAAAAAAAAAAAAAAAAAAAAAAAAAAAAAAAAAAADwPwAAAAAAAPA/AAAAAAAAAAAAAAAAAAAAAAAAAAAAAAAAAAAAAAAA8D8AAAAAAAAUQAAAAAAAAAhAAAAAAAAAAAAAAAAAAAAAQAAAAAAAAAAAAAAAAAAAAEAAAAAAAADwPwAAAAAAAPA/AAAAAAAAAEAAAAAAAADwPwAAAAAAAPA/AAAAAAAA8D8AAAAAAAAAQAAAAAAAABBAAAAAAAAAAAAAAAAAAADwPwAAAAAAAABAAAAAAAAAAEAAAAAAAAAIQAAAAAAAAPA/AAAAAAAAHEAAAAAAAAAcQAAAAAAAAPA/AAAAAAAAAEAAAAAAAAAAQAAAAAAAABBAAAAAAAAAAEAAAAAAAAAQQAAAAAAAABRAAAAAAAAAFEAAAAAAAAAUQAAAAAAAABRAAAAAAAAAEEAAAAAAAAAYQAAAAAAAACJAAAAAAAAAHEAAAAAAAAAAQAAAAAAAAAAAAAAAAAAAAAAAAAAAAAAiQAAAAAAAAABAAAAAAAAAFEAAAAAAAAAUQAAAAAAAABBAAAAAAAAAFEAAAAAAAAAIQAAAAAAAABhAAAAAAAAAEEAAAAAAAAAYQAAAAAAAABhAAAAAAAAAAEAAAAAAAAAYQAAAAAAAAPA/AAAAAAAAEEAAAAAAAAAQQAAAAAAAABhAAAAAAAAACEAAAAAAAAAQQAAAAAAAABxAAAAAAAAA8D8AAAAAAAAiQAAAAAAAACBAAAAAAAAACEAAAAAAAAAYQAAAAAAAAAhAAAAAAAAAGEAAAAAAAADwPwAAAAAAACBAAAAAAAAACEAAAAAAAAAAQAAAAAAAABhAAAAAAAAAAEAAAAAAAAAQQAAAAAAAAAAAAAAAAAAACEAAAAAAAAAAAAAAAAAAAAAAAAAAAAAAAAAAAAAAAAAAAAAAAAAAAAhAAAAAAAAACEAAAAAAAAAQQAAAAAAAABRAAAAAAAAAEEAAAAAAAADwPwAAAAAAAAhAAAAAAAAAEEAAAAAAAAAYQAAAAAAAABRAAAAAAAAAFEAAAAAAAAAQQAAAAAAAABhAAAAAAAAAHEAAAAAAAAAgQAAAAAAAAAhAAAAAAAAAGEAAAAAAAADwPwAAAAAAABBAAAAAAAAAGEAAAAAAAAAAQAAAAAAAAAhAAAAAAAAAAAAAAAAAAAAAQAAAAAAAABRAAAAAAAAAFEAAAAAAAAAUQAAAAAAAABBAAAAAAAAAFEAAAAAAAAAUQAAAAAAAABhAAAAAAAAAGEAAAAAAAAAQQAAAAAAAABRAAAAAAAAAIEAAAAAAAAAcQAAAAAAAABxAAAAAAAAAAEAAAAAAAAAcQAAAAAAAABhAAAAAAAAAFEAAAAAAAAAQQAAAAAAAABxAAAAAAAAAGEAAAAAAAAAQQAAAAAAAABBAAAAAAAAAFEAAAAAAAAAcQAAAAAAAAAhAAAAAAAAAEEAAAAAAAAAQQAAAAAAAAAhAAAAAAAAAFEAAAAAAAAAAQAAAAAAAAAhAAAAAAAAAFEAAAAAAAAAYQAAAAAAAABhAAAAAAAAAAEAAAAAAAAAAQAAAAAAAAPA/AAAAAAAAEEAAAAAAAAAgQAAAAAAAABhAAAAAAAAAEEAAAAAAAAAAQAAAAAAAABBAAAAAAAAAGEAAAAAAAAAQQAAAAAAAABRAAAAAAAAAHEAAAAAAAAAAQAAAAAAAAAhAAAAAAAAAGEAAAAAAAAAcQAAAAAAAAAAAAAAAAAAAAAAAAAAAAADwPwAAAAAAAAAAAAAAAAAA8D8AAAAAAAAIQAAAAAAAAABAAAAAAAAAAEAAAAAAAADwPwAAAAAAAAAAAAAAAAAACEAAAAAAAAAIQAAAAAAAAAAAAAAAAAAA8D8AAAAAAAAAQAAAAAAAAABAAAAAAAAA8D8AAAAAAADwPwAAAAAAAPA/AAAAAAAA8D8AAAAAAAAAAAAAAAAAAPA/AAAAAAAA8D8AAAAAAAAAAAAAAAAAAAAAAAAAAAAA8D8AAAAAAADwPwAAAAAAAAAAAAAAAAAA8D8AAAAAAAAAAAAAAAAAAAAAAAAAAAAAAAAAAAAAAAAAAAAAAAAAAAAAAAAAAAAAAAAAAAAAAAAAAAAAAAAAAAAAAAAAAAAAAAAAAAAAAAAAAAAAAAAAAAAAAAAAAAAAAAAAAAAAAAAAAAAAAAAAAAAAAAAAAAAAAAAAAAAAAAAAAA==\"},\"shape\":[281],\"dtype\":\"float64\",\"order\":\"little\"}],[\"landed\",{\"type\":\"ndarray\",\"array\":{\"type\":\"bytes\",\"data\":\"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\"},\"shape\":[281],\"dtype\":\"float64\",\"order\":\"little\"}],[\"scheduled\",{\"type\":\"ndarray\",\"array\":{\"type\":\"bytes\",\"data\":\"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\"},\"shape\":[281],\"dtype\":\"float64\",\"order\":\"little\"}],[\"unknown\",{\"type\":\"ndarray\",\"array\":{\"type\":\"bytes\",\"data\":\"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\"},\"shape\":[281],\"dtype\":\"float64\",\"order\":\"little\"}]]}}},\"view\":{\"type\":\"object\",\"name\":\"CDSView\",\"id\":\"p8759\",\"attributes\":{\"filter\":{\"type\":\"object\",\"name\":\"AllIndices\",\"id\":\"p8760\"}}},\"glyph\":{\"type\":\"object\",\"name\":\"VArea\",\"id\":\"p8755\",\"attributes\":{\"x\":{\"type\":\"field\",\"field\":\"flight_date\"},\"y1\":{\"type\":\"expr\",\"expr\":{\"type\":\"object\",\"name\":\"Stack\",\"id\":\"p8740\",\"attributes\":{\"fields\":[]}}},\"y2\":{\"type\":\"expr\",\"expr\":{\"type\":\"object\",\"name\":\"Stack\",\"id\":\"p8741\",\"attributes\":{\"fields\":[\"active\"]}}},\"fill_color\":\"#3288bd\",\"hatch_color\":{\"type\":\"value\",\"value\":\"#3288bd\"}}},\"nonselection_glyph\":{\"type\":\"object\",\"name\":\"VArea\",\"id\":\"p8756\",\"attributes\":{\"x\":{\"type\":\"field\",\"field\":\"flight_date\"},\"y1\":{\"type\":\"expr\",\"expr\":{\"id\":\"p8740\"}},\"y2\":{\"type\":\"expr\",\"expr\":{\"id\":\"p8741\"}},\"fill_color\":\"#3288bd\",\"fill_alpha\":0.1,\"hatch_color\":{\"type\":\"value\",\"value\":\"#3288bd\"},\"hatch_alpha\":{\"type\":\"value\",\"value\":0.1}}},\"muted_glyph\":{\"type\":\"object\",\"name\":\"VArea\",\"id\":\"p8757\",\"attributes\":{\"x\":{\"type\":\"field\",\"field\":\"flight_date\"},\"y1\":{\"type\":\"expr\",\"expr\":{\"id\":\"p8740\"}},\"y2\":{\"type\":\"expr\",\"expr\":{\"id\":\"p8741\"}},\"fill_color\":\"#3288bd\",\"fill_alpha\":0.2,\"hatch_color\":{\"type\":\"value\",\"value\":\"#3288bd\"},\"hatch_alpha\":{\"type\":\"value\",\"value\":0.2}}}}},{\"type\":\"object\",\"name\":\"GlyphRenderer\",\"id\":\"p8769\",\"attributes\":{\"name\":\"landed\",\"data_source\":{\"id\":\"p8694\"},\"view\":{\"type\":\"object\",\"name\":\"CDSView\",\"id\":\"p8770\",\"attributes\":{\"filter\":{\"type\":\"object\",\"name\":\"AllIndices\",\"id\":\"p8771\"}}},\"glyph\":{\"type\":\"object\",\"name\":\"VArea\",\"id\":\"p8766\",\"attributes\":{\"x\":{\"type\":\"field\",\"field\":\"flight_date\"},\"y1\":{\"type\":\"expr\",\"expr\":{\"type\":\"object\",\"name\":\"Stack\",\"id\":\"p8742\",\"attributes\":{\"fields\":[\"active\"]}}},\"y2\":{\"type\":\"expr\",\"expr\":{\"type\":\"object\",\"name\":\"Stack\",\"id\":\"p8743\",\"attributes\":{\"fields\":[\"active\",\"landed\"]}}},\"fill_color\":\"#99d594\",\"hatch_color\":{\"type\":\"value\",\"value\":\"#99d594\"}}},\"nonselection_glyph\":{\"type\":\"object\",\"name\":\"VArea\",\"id\":\"p8767\",\"attributes\":{\"x\":{\"type\":\"field\",\"field\":\"flight_date\"},\"y1\":{\"type\":\"expr\",\"expr\":{\"id\":\"p8742\"}},\"y2\":{\"type\":\"expr\",\"expr\":{\"id\":\"p8743\"}},\"fill_color\":\"#99d594\",\"fill_alpha\":0.1,\"hatch_color\":{\"type\":\"value\",\"value\":\"#99d594\"},\"hatch_alpha\":{\"type\":\"value\",\"value\":0.1}}},\"muted_glyph\":{\"type\":\"object\",\"name\":\"VArea\",\"id\":\"p8768\",\"attributes\":{\"x\":{\"type\":\"field\",\"field\":\"flight_date\"},\"y1\":{\"type\":\"expr\",\"expr\":{\"id\":\"p8742\"}},\"y2\":{\"type\":\"expr\",\"expr\":{\"id\":\"p8743\"}},\"fill_color\":\"#99d594\",\"fill_alpha\":0.2,\"hatch_color\":{\"type\":\"value\",\"value\":\"#99d594\"},\"hatch_alpha\":{\"type\":\"value\",\"value\":0.2}}}}},{\"type\":\"object\",\"name\":\"GlyphRenderer\",\"id\":\"p8779\",\"attributes\":{\"name\":\"scheduled\",\"data_source\":{\"id\":\"p8694\"},\"view\":{\"type\":\"object\",\"name\":\"CDSView\",\"id\":\"p8780\",\"attributes\":{\"filter\":{\"type\":\"object\",\"name\":\"AllIndices\",\"id\":\"p8781\"}}},\"glyph\":{\"type\":\"object\",\"name\":\"VArea\",\"id\":\"p8776\",\"attributes\":{\"x\":{\"type\":\"field\",\"field\":\"flight_date\"},\"y1\":{\"type\":\"expr\",\"expr\":{\"type\":\"object\",\"name\":\"Stack\",\"id\":\"p8744\",\"attributes\":{\"fields\":[\"active\",\"landed\"]}}},\"y2\":{\"type\":\"expr\",\"expr\":{\"type\":\"object\",\"name\":\"Stack\",\"id\":\"p8745\",\"attributes\":{\"fields\":[\"active\",\"landed\",\"scheduled\"]}}},\"fill_color\":\"#e6f598\",\"hatch_color\":{\"type\":\"value\",\"value\":\"#e6f598\"}}},\"nonselection_glyph\":{\"type\":\"object\",\"name\":\"VArea\",\"id\":\"p8777\",\"attributes\":{\"x\":{\"type\":\"field\",\"field\":\"flight_date\"},\"y1\":{\"type\":\"expr\",\"expr\":{\"id\":\"p8744\"}},\"y2\":{\"type\":\"expr\",\"expr\":{\"id\":\"p8745\"}},\"fill_color\":\"#e6f598\",\"fill_alpha\":0.1,\"hatch_color\":{\"type\":\"value\",\"value\":\"#e6f598\"},\"hatch_alpha\":{\"type\":\"value\",\"value\":0.1}}},\"muted_glyph\":{\"type\":\"object\",\"name\":\"VArea\",\"id\":\"p8778\",\"attributes\":{\"x\":{\"type\":\"field\",\"field\":\"flight_date\"},\"y1\":{\"type\":\"expr\",\"expr\":{\"id\":\"p8744\"}},\"y2\":{\"type\":\"expr\",\"expr\":{\"id\":\"p8745\"}},\"fill_color\":\"#e6f598\",\"fill_alpha\":0.2,\"hatch_color\":{\"type\":\"value\",\"value\":\"#e6f598\"},\"hatch_alpha\":{\"type\":\"value\",\"value\":0.2}}}}},{\"type\":\"object\",\"name\":\"GlyphRenderer\",\"id\":\"p8789\",\"attributes\":{\"name\":\"diverted\",\"data_source\":{\"id\":\"p8694\"},\"view\":{\"type\":\"object\",\"name\":\"CDSView\",\"id\":\"p8790\",\"attributes\":{\"filter\":{\"type\":\"object\",\"name\":\"AllIndices\",\"id\":\"p8791\"}}},\"glyph\":{\"type\":\"object\",\"name\":\"VArea\",\"id\":\"p8786\",\"attributes\":{\"x\":{\"type\":\"field\",\"field\":\"flight_date\"},\"y1\":{\"type\":\"expr\",\"expr\":{\"type\":\"object\",\"name\":\"Stack\",\"id\":\"p8746\",\"attributes\":{\"fields\":[\"active\",\"landed\",\"scheduled\"]}}},\"y2\":{\"type\":\"expr\",\"expr\":{\"type\":\"object\",\"name\":\"Stack\",\"id\":\"p8747\",\"attributes\":{\"fields\":[\"active\",\"landed\",\"scheduled\",\"diverted\"]}}},\"fill_color\":\"#fee08b\",\"hatch_color\":{\"type\":\"value\",\"value\":\"#fee08b\"}}},\"nonselection_glyph\":{\"type\":\"object\",\"name\":\"VArea\",\"id\":\"p8787\",\"attributes\":{\"x\":{\"type\":\"field\",\"field\":\"flight_date\"},\"y1\":{\"type\":\"expr\",\"expr\":{\"id\":\"p8746\"}},\"y2\":{\"type\":\"expr\",\"expr\":{\"id\":\"p8747\"}},\"fill_color\":\"#fee08b\",\"fill_alpha\":0.1,\"hatch_color\":{\"type\":\"value\",\"value\":\"#fee08b\"},\"hatch_alpha\":{\"type\":\"value\",\"value\":0.1}}},\"muted_glyph\":{\"type\":\"object\",\"name\":\"VArea\",\"id\":\"p8788\",\"attributes\":{\"x\":{\"type\":\"field\",\"field\":\"flight_date\"},\"y1\":{\"type\":\"expr\",\"expr\":{\"id\":\"p8746\"}},\"y2\":{\"type\":\"expr\",\"expr\":{\"id\":\"p8747\"}},\"fill_color\":\"#fee08b\",\"fill_alpha\":0.2,\"hatch_color\":{\"type\":\"value\",\"value\":\"#fee08b\"},\"hatch_alpha\":{\"type\":\"value\",\"value\":0.2}}}}},{\"type\":\"object\",\"name\":\"GlyphRenderer\",\"id\":\"p8799\",\"attributes\":{\"name\":\"unknown\",\"data_source\":{\"id\":\"p8694\"},\"view\":{\"type\":\"object\",\"name\":\"CDSView\",\"id\":\"p8800\",\"attributes\":{\"filter\":{\"type\":\"object\",\"name\":\"AllIndices\",\"id\":\"p8801\"}}},\"glyph\":{\"type\":\"object\",\"name\":\"VArea\",\"id\":\"p8796\",\"attributes\":{\"x\":{\"type\":\"field\",\"field\":\"flight_date\"},\"y1\":{\"type\":\"expr\",\"expr\":{\"type\":\"object\",\"name\":\"Stack\",\"id\":\"p8748\",\"attributes\":{\"fields\":[\"active\",\"landed\",\"scheduled\",\"diverted\"]}}},\"y2\":{\"type\":\"expr\",\"expr\":{\"type\":\"object\",\"name\":\"Stack\",\"id\":\"p8749\",\"attributes\":{\"fields\":[\"active\",\"landed\",\"scheduled\",\"diverted\",\"unknown\"]}}},\"fill_color\":\"#fc8d59\",\"hatch_color\":{\"type\":\"value\",\"value\":\"#fc8d59\"}}},\"nonselection_glyph\":{\"type\":\"object\",\"name\":\"VArea\",\"id\":\"p8797\",\"attributes\":{\"x\":{\"type\":\"field\",\"field\":\"flight_date\"},\"y1\":{\"type\":\"expr\",\"expr\":{\"id\":\"p8748\"}},\"y2\":{\"type\":\"expr\",\"expr\":{\"id\":\"p8749\"}},\"fill_color\":\"#fc8d59\",\"fill_alpha\":0.1,\"hatch_color\":{\"type\":\"value\",\"value\":\"#fc8d59\"},\"hatch_alpha\":{\"type\":\"value\",\"value\":0.1}}},\"muted_glyph\":{\"type\":\"object\",\"name\":\"VArea\",\"id\":\"p8798\",\"attributes\":{\"x\":{\"type\":\"field\",\"field\":\"flight_date\"},\"y1\":{\"type\":\"expr\",\"expr\":{\"id\":\"p8748\"}},\"y2\":{\"type\":\"expr\",\"expr\":{\"id\":\"p8749\"}},\"fill_color\":\"#fc8d59\",\"fill_alpha\":0.2,\"hatch_color\":{\"type\":\"value\",\"value\":\"#fc8d59\"},\"hatch_alpha\":{\"type\":\"value\",\"value\":0.2}}}}},{\"type\":\"object\",\"name\":\"GlyphRenderer\",\"id\":\"p8809\",\"attributes\":{\"name\":\"cancelled\",\"data_source\":{\"id\":\"p8694\"},\"view\":{\"type\":\"object\",\"name\":\"CDSView\",\"id\":\"p8810\",\"attributes\":{\"filter\":{\"type\":\"object\",\"name\":\"AllIndices\",\"id\":\"p8811\"}}},\"glyph\":{\"type\":\"object\",\"name\":\"VArea\",\"id\":\"p8806\",\"attributes\":{\"x\":{\"type\":\"field\",\"field\":\"flight_date\"},\"y1\":{\"type\":\"expr\",\"expr\":{\"type\":\"object\",\"name\":\"Stack\",\"id\":\"p8750\",\"attributes\":{\"fields\":[\"active\",\"landed\",\"scheduled\",\"diverted\",\"unknown\"]}}},\"y2\":{\"type\":\"expr\",\"expr\":{\"type\":\"object\",\"name\":\"Stack\",\"id\":\"p8751\",\"attributes\":{\"fields\":[\"active\",\"landed\",\"scheduled\",\"diverted\",\"unknown\",\"cancelled\"]}}},\"fill_color\":\"#d53e4f\",\"hatch_color\":{\"type\":\"value\",\"value\":\"#d53e4f\"}}},\"nonselection_glyph\":{\"type\":\"object\",\"name\":\"VArea\",\"id\":\"p8807\",\"attributes\":{\"x\":{\"type\":\"field\",\"field\":\"flight_date\"},\"y1\":{\"type\":\"expr\",\"expr\":{\"id\":\"p8750\"}},\"y2\":{\"type\":\"expr\",\"expr\":{\"id\":\"p8751\"}},\"fill_color\":\"#d53e4f\",\"fill_alpha\":0.1,\"hatch_color\":{\"type\":\"value\",\"value\":\"#d53e4f\"},\"hatch_alpha\":{\"type\":\"value\",\"value\":0.1}}},\"muted_glyph\":{\"type\":\"object\",\"name\":\"VArea\",\"id\":\"p8808\",\"attributes\":{\"x\":{\"type\":\"field\",\"field\":\"flight_date\"},\"y1\":{\"type\":\"expr\",\"expr\":{\"id\":\"p8750\"}},\"y2\":{\"type\":\"expr\",\"expr\":{\"id\":\"p8751\"}},\"fill_color\":\"#d53e4f\",\"fill_alpha\":0.2,\"hatch_color\":{\"type\":\"value\",\"value\":\"#d53e4f\"},\"hatch_alpha\":{\"type\":\"value\",\"value\":0.2}}}}},{\"type\":\"object\",\"name\":\"GlyphRenderer\",\"id\":\"p8819\",\"attributes\":{\"data_source\":{\"type\":\"object\",\"name\":\"ColumnDataSource\",\"id\":\"p8813\",\"attributes\":{\"selected\":{\"type\":\"object\",\"name\":\"Selection\",\"id\":\"p8814\",\"attributes\":{\"indices\":[],\"line_indices\":[]}},\"selection_policy\":{\"type\":\"object\",\"name\":\"UnionRenderers\",\"id\":\"p8815\"},\"data\":{\"type\":\"map\",\"entries\":[[\"x\",{\"type\":\"ndarray\",\"array\":{\"type\":\"bytes\",\"data\":\"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\"},\"shape\":[277],\"dtype\":\"float64\",\"order\":\"little\"}],[\"y\",{\"type\":\"ndarray\",\"array\":{\"type\":\"bytes\",\"data\":\"FQAAAAgAAAAZAAAAGwAAACoAAAAWAAAAGQAAABQAAAATAAAAEgAAABEAAAATAAAAIwAAABMAAAASAAAAGwAAABwAAAAYAAAAEAAAAB8AAAAiAAAAFAAAABAAAAATAAAAIgAAAB4AAAAhAAAAIAAAABEAAAAXAAAAHAAAABoAAAAhAAAAIAAAAB0AAAAWAAAAIgAAACQAAAAnAAAAIwAAABcAAAAlAAAAHwAAABwAAAAqAAAAHQAAABwAAAAUAAAAEgAAABgAAAAhAAAAIAAAABgAAAAXAAAAFAAAABoAAAArAAAAHAAAACQAAAAUAAAAIAAAABIAAAAXAAAAIQAAABIAAAAjAAAAHwAAABcAAAATAAAAFwAAABoAAAAeAAAAEwAAABkAAAAhAAAAGgAAABMAAAAaAAAAEgAAACQAAAASAAAADgAAABwAAAAMAAAAKAAAABEAAAARAAAAHwAAABsAAAAUAAAAFwAAABAAAAAXAAAACAAAABEAAAAkAAAAFgAAABcAAAAMAAAAEgAAABEAAAASAAAALQAAABkAAAAbAAAAHQAAACMAAAATAAAADAAAABAAAAAVAAAAFwAAABoAAAAbAAAAEQAAABsAAAAUAAAAEgAAABwAAAAVAAAAEgAAAAsAAAAYAAAAEgAAABYAAAAZAAAAFQAAACMAAAAOAAAAIgAAAA0AAAALAAAACQAAABcAAAASAAAAIwAAABAAAAAWAAAAEgAAABQAAAAXAAAAFgAAABUAAAARAAAAGgAAACAAAAAaAAAAGAAAABMAAAALAAAAEQAAACQAAAAaAAAAHwAAAB8AAAAfAAAAFgAAAA4AAAAXAAAAFgAAAA0AAAATAAAAIQAAABMAAAAbAAAAEQAAABoAAAAaAAAADwAAABcAAAAPAAAAEgAAABkAAAARAAAAEgAAABUAAAAmAAAAEgAAABAAAAAUAAAADAAAABIAAAAQAAAAGgAAACIAAAAiAAAAEgAAACUAAAAYAAAAIAAAABIAAAAfAAAAGQAAABkAAAARAAAAEAAAAB8AAAALAAAAHwAAABsAAAAbAAAAFAAAABYAAAAWAAAAEAAAABcAAAAKAAAAEwAAABUAAAAYAAAAFgAAAA0AAAAOAAAAFAAAABYAAAAWAAAAGgAAABkAAAAUAAAAFgAAABkAAAAVAAAAFAAAABUAAAAgAAAADwAAABIAAAAZAAAAHQAAABEAAAAoAAAAHgAAACcAAAAbAAAAHAAAABYAAABLAAAAJgAAABoAAAAOAAAAFQAAABwAAAAYAAAAEwAAABkAAAAPAAAAJAAAABoAAAAbAAAAGAAAABIAAAATAAAAIwAAACoAAAAaAAAAHwAAABYAAAAZAAAAGgAAACYAAABIAAAAOgAAABYAAABTAAAAQAAAAMgAAAB9AAAAjgAAAHMAAABpAAAAaQAAAIwAAAB1AAAAVwAAAGYAAABcAAAAfQAAAA==\"},\"shape\":[277],\"dtype\":\"int32\",\"order\":\"little\"}]]}}},\"view\":{\"type\":\"object\",\"name\":\"CDSView\",\"id\":\"p8820\",\"attributes\":{\"filter\":{\"type\":\"object\",\"name\":\"AllIndices\",\"id\":\"p8821\"}}},\"glyph\":{\"type\":\"object\",\"name\":\"Line\",\"id\":\"p8816\",\"attributes\":{\"x\":{\"type\":\"field\",\"field\":\"x\"},\"y\":{\"type\":\"field\",\"field\":\"y\"},\"line_width\":2}},\"nonselection_glyph\":{\"type\":\"object\",\"name\":\"Line\",\"id\":\"p8817\",\"attributes\":{\"x\":{\"type\":\"field\",\"field\":\"x\"},\"y\":{\"type\":\"field\",\"field\":\"y\"},\"line_alpha\":0.1,\"line_width\":2}},\"muted_glyph\":{\"type\":\"object\",\"name\":\"Line\",\"id\":\"p8818\",\"attributes\":{\"x\":{\"type\":\"field\",\"field\":\"x\"},\"y\":{\"type\":\"field\",\"field\":\"y\"},\"line_alpha\":0.2,\"line_width\":2}}}},{\"type\":\"object\",\"name\":\"Span\",\"id\":\"p8826\",\"attributes\":{\"location\":1717891200000.0,\"dimension\":\"height\",\"line_color\":\"#C6C6C6\",\"line_width\":2,\"line_dash\":[4,4]}},{\"type\":\"object\",\"name\":\"Span\",\"id\":\"p8828\",\"attributes\":{\"location\":1713052800000.0,\"dimension\":\"height\",\"line_color\":\"#C6C6C6\",\"line_width\":2,\"line_dash\":[4,4]}},{\"type\":\"object\",\"name\":\"Span\",\"id\":\"p8830\",\"attributes\":{\"location\":1724544000000.0,\"dimension\":\"height\",\"line_color\":\"#C6C6C6\",\"line_width\":2,\"line_dash\":[4,4]}},{\"type\":\"object\",\"name\":\"Span\",\"id\":\"p8832\",\"attributes\":{\"location\":1727049600000.0,\"dimension\":\"height\",\"line_color\":\"#C6C6C6\",\"line_width\":2,\"line_dash\":[4,4]}}],\"toolbar\":{\"type\":\"object\",\"name\":\"Toolbar\",\"id\":\"p8706\",\"attributes\":{\"tools\":[{\"type\":\"object\",\"name\":\"PanTool\",\"id\":\"p8731\"},{\"type\":\"object\",\"name\":\"BoxZoomTool\",\"id\":\"p8732\",\"attributes\":{\"overlay\":{\"type\":\"object\",\"name\":\"BoxAnnotation\",\"id\":\"p8733\",\"attributes\":{\"syncable\":false,\"level\":\"overlay\",\"visible\":false,\"left\":{\"type\":\"number\",\"value\":\"nan\"},\"right\":{\"type\":\"number\",\"value\":\"nan\"},\"top\":{\"type\":\"number\",\"value\":\"nan\"},\"bottom\":{\"type\":\"number\",\"value\":\"nan\"},\"left_units\":\"canvas\",\"right_units\":\"canvas\",\"top_units\":\"canvas\",\"bottom_units\":\"canvas\",\"line_color\":\"black\",\"line_alpha\":1.0,\"line_width\":2,\"line_dash\":[4,4],\"fill_color\":\"lightgrey\",\"fill_alpha\":0.5}}}},{\"type\":\"object\",\"name\":\"ResetTool\",\"id\":\"p8738\"},{\"type\":\"object\",\"name\":\"SaveTool\",\"id\":\"p8739\"}]}},\"toolbar_location\":\"above\",\"left\":[{\"type\":\"object\",\"name\":\"LinearAxis\",\"id\":\"p8726\",\"attributes\":{\"ticker\":{\"type\":\"object\",\"name\":\"BasicTicker\",\"id\":\"p8727\",\"attributes\":{\"mantissas\":[1,2,5]}},\"formatter\":{\"type\":\"object\",\"name\":\"BasicTickFormatter\",\"id\":\"p8728\"},\"axis_label\":\"Nr Flights\",\"major_label_policy\":{\"type\":\"object\",\"name\":\"AllLabels\",\"id\":\"p8729\"}}}],\"below\":[{\"type\":\"object\",\"name\":\"DatetimeAxis\",\"id\":\"p8709\",\"attributes\":{\"ticker\":{\"type\":\"object\",\"name\":\"FixedTicker\",\"id\":\"p8824\",\"attributes\":{\"ticks\":[1704585600000.0,1705795200000.0,1707004800000.0,1708214400000.0,1709424000000.0,1710633600000.0,1711843200000.0,1713052800000.0,1714262400000.0,1715472000000.0,1716681600000.0,1717891200000.0,1719100800000.0,1720310400000.0,1721520000000.0,1722729600000.0,1723939200000.0,1725148800000.0,1726358400000.0,1727568000000.0],\"minor_ticks\":[]}},\"formatter\":{\"type\":\"object\",\"name\":\"DatetimeTickFormatter\",\"id\":\"p8823\",\"attributes\":{\"days\":\"%d %b %Y\",\"months\":\"%b %Y\"}},\"axis_label\":\"Flight Date\",\"major_label_orientation\":1.2,\"major_label_policy\":{\"type\":\"object\",\"name\":\"AllLabels\",\"id\":\"p8724\"}}},{\"type\":\"object\",\"name\":\"Label\",\"id\":\"p8825\",\"attributes\":{\"text\":\"Source: Flight data from AviationStack and conflict events from ACLED\",\"text_color\":\"gray\",\"text_font_size\":\"10pt\",\"x\":0,\"y\":0,\"x_units\":\"screen\",\"y_units\":\"screen\"}}],\"center\":[{\"type\":\"object\",\"name\":\"Grid\",\"id\":\"p8725\",\"attributes\":{\"axis\":{\"id\":\"p8709\"}}},{\"type\":\"object\",\"name\":\"Grid\",\"id\":\"p8730\",\"attributes\":{\"dimension\":1,\"axis\":{\"id\":\"p8726\"}}},{\"type\":\"object\",\"name\":\"Legend\",\"id\":\"p8761\",\"attributes\":{\"location\":\"top_left\",\"orientation\":\"horizontal\",\"click_policy\":\"mute\",\"items\":[{\"type\":\"object\",\"name\":\"LegendItem\",\"id\":\"p8762\",\"attributes\":{\"label\":{\"type\":\"value\",\"value\":\"active\"},\"renderers\":[{\"id\":\"p8758\"}]}},{\"type\":\"object\",\"name\":\"LegendItem\",\"id\":\"p8772\",\"attributes\":{\"label\":{\"type\":\"value\",\"value\":\"landed\"},\"renderers\":[{\"id\":\"p8769\"}]}},{\"type\":\"object\",\"name\":\"LegendItem\",\"id\":\"p8782\",\"attributes\":{\"label\":{\"type\":\"value\",\"value\":\"scheduled\"},\"renderers\":[{\"id\":\"p8779\"}]}},{\"type\":\"object\",\"name\":\"LegendItem\",\"id\":\"p8792\",\"attributes\":{\"label\":{\"type\":\"value\",\"value\":\"diverted\"},\"renderers\":[{\"id\":\"p8789\"}]}},{\"type\":\"object\",\"name\":\"LegendItem\",\"id\":\"p8802\",\"attributes\":{\"label\":{\"type\":\"value\",\"value\":\"unknown\"},\"renderers\":[{\"id\":\"p8799\"}]}},{\"type\":\"object\",\"name\":\"LegendItem\",\"id\":\"p8812\",\"attributes\":{\"label\":{\"type\":\"value\",\"value\":\"cancelled\"},\"renderers\":[{\"id\":\"p8809\"}]}},{\"type\":\"object\",\"name\":\"LegendItem\",\"id\":\"p8822\",\"attributes\":{\"label\":{\"type\":\"value\",\"value\":\"Number of Conflict Events w/o Protests\"},\"renderers\":[{\"id\":\"p8819\"}]}}]}},{\"type\":\"object\",\"name\":\"Label\",\"id\":\"p8827\",\"attributes\":{\"text\":\"Airline data\\nnot available\",\"text_color\":\"black\",\"text_font_size\":\"10pt\",\"text_align\":\"right\",\"background_fill_color\":\"grey\",\"background_fill_alpha\":0.2,\"x\":1717891200000.0,\"y\":200.0,\"x_offset\":-5}},{\"type\":\"object\",\"name\":\"Label\",\"id\":\"p8829\",\"attributes\":{\"text\":\"Temporary shutdown of\\nLebanese airspace between\\n7AM and 1PM\",\"text_color\":\"black\",\"text_font_size\":\"10pt\",\"text_align\":\"right\",\"background_fill_color\":\"grey\",\"background_fill_alpha\":0.2,\"x\":1713052800000.0,\"y\":180.0,\"x_offset\":-5}},{\"type\":\"object\",\"name\":\"Label\",\"id\":\"p8831\",\"attributes\":{\"text\":\"Israeli strikes in\\nSouthern Lebanon\",\"text_color\":\"black\",\"text_font_size\":\"10pt\",\"text_align\":\"right\",\"background_fill_color\":\"grey\",\"background_fill_alpha\":0.2,\"x\":1724544000000.0,\"y\":160.0,\"x_offset\":-5}},{\"type\":\"object\",\"name\":\"Label\",\"id\":\"p8833\",\"attributes\":{\"text\":\"Start of the Israel-Hezboullah\\nConflict\",\"text_color\":\"black\",\"text_font_size\":\"10pt\",\"text_align\":\"right\",\"background_fill_color\":\"grey\",\"background_fill_alpha\":0.2,\"x\":1727049600000.0,\"y\":140.0,\"x_offset\":-5}}]}}]}};\n  const render_items = [{\"docid\":\"83d02d17-5554-4be8-8a00-0c7f40b17480\",\"roots\":{\"p8697\":\"e9a2d460-d335-42e3-b4e0-5106b88e108a\"},\"root_ids\":[\"p8697\"]}];\n  void root.Bokeh.embed.embed_items_notebook(docs_json, render_items);\n  }\n  if (root.Bokeh !== undefined) {\n    embed_document(root);\n  } else {\n    let attempts = 0;\n    const timer = setInterval(function(root) {\n      if (root.Bokeh !== undefined) {\n        clearInterval(timer);\n        embed_document(root);\n      } else {\n        attempts++;\n        if (attempts > 100) {\n          clearInterval(timer);\n          console.log(\"Bokeh: ERROR: Unable to run BokehJS code because BokehJS library is missing\");\n        }\n      }\n    }, 10, root)\n  }\n})(window);",
      "application/vnd.bokehjs_exec.v0+json": ""
     },
     "metadata": {
      "application/vnd.bokehjs_exec.v0+json": {
       "id": "p8697"
      }
     },
     "output_type": "display_data"
    }
   ],
   "source": [
    "output_notebook()  # Display plots inline in a Jupyter notebook\n",
    "\n",
    "complete_date_range = pd.date_range(\n",
    "    start=df[\"flight_date\"].min(), end=df[\"flight_date\"].max()\n",
    ")\n",
    "df = (\n",
    "    departures_exploded.groupby([\"flight_date\", \"flight_status\"])\n",
    "    .count()[[\"iata_arr\"]]\n",
    "    .reset_index()\n",
    ")\n",
    "df[\"flight_date\"] = df[\"flight_date\"].apply(lambda x: pd.to_datetime(x))\n",
    "\n",
    "show(\n",
    "    get_area_plot(\n",
    "        df,\n",
    "        \"Daily Departures from BEY\",\n",
    "        \"Source: Flight data from AviationStack and conflict events from ACLED\",\n",
    "        acled_events_daily,\n",
    "        events_dict=events,\n",
    "    )\n",
    ")"
   ]
  },
  {
   "cell_type": "markdown",
   "metadata": {},
   "source": [
    "### Findings\n",
    "\n",
    "- On 14th April 2024, there was a temporary shutdown on Lebanese airspace between 7AM and 1PM. On that day, there were 17 flights that reported as landed. All the flights in the 'Active' status also donot have an 'actual departure time' recorded which could lead us to assume that some of them were either cancelled or never took off. \n",
    "- There is no flight data on 29th and 30th of January, 29th and 30th of April and 7th to 9th of June 2024. "
   ]
  },
  {
   "cell_type": "code",
   "execution_count": 109,
   "metadata": {
    "tags": [
     "remove-cell"
    ]
   },
   "outputs": [],
   "source": [
    "iata_mapping = {\n",
    "    \"BEY\": \"Beirut\",\n",
    "    \"ADA\": \"Adana\",\n",
    "    \"ADD\": \"Addis Ababa\",\n",
    "    \"AMM\": \"Amman\",\n",
    "    \"AUH\": \"Abu Dhabi\",\n",
    "    \"BAH\": \"Bahrain\",\n",
    "    \"BER\": \"Berlin\",\n",
    "    \"BGW\": \"Baghdad\",\n",
    "    \"CAI\": \"Cairo\",\n",
    "    \"CDG\": \"Paris (Charles de Gaulle)\",\n",
    "    \"DOH\": \"Doha\",\n",
    "    \"DUS\": \"Düsseldorf\",\n",
    "    \"DXB\": \"Dubai\",\n",
    "    \"FCO\": \"Rome (Fiumicino)\",\n",
    "    \"FRA\": \"Frankfurt\",\n",
    "    \"GVA\": \"Geneva\",\n",
    "    \"IST\": \"Istanbul\",\n",
    "    \"JED\": \"Jeddah\",\n",
    "    \"KAC\": \"Kuwait City\",\n",
    "    \"KWI\": \"Kuwait City\",\n",
    "    \"LCA\": \"Larnaca\",\n",
    "    \"LHR\": \"London (Heathrow)\",\n",
    "    \"LXR\": \"Luxor\",\n",
    "    \"MAD\": \"Madrid\",\n",
    "    \"NJF\": \"Najaf\",\n",
    "    \"ORY\": \"Paris (Orly)\",\n",
    "    \"ATH\": \"Athens\",\n",
    "    \"AYT\": \"Antalya\",\n",
    "    \"BRU\": \"Brussels\",\n",
    "    \"BSR\": \"Basra\",\n",
    "    \"CMF\": \"Chambéry\",\n",
    "    \"CPH\": \"Copenhagen\",\n",
    "    \"DMM\": \"Dammam\",\n",
    "    \"EBL\": \"Erbil\",\n",
    "    \"ESB\": \"Ankara\",\n",
    "    \"IKA\": \"Tehran\",\n",
    "    \"ACC\": \"Accra\",\n",
    "    \"ADJ\": \"Amman\",\n",
    "    \"ALP\": \"Aleppo\",\n",
    "    \"BRE\": \"Bremen\",\n",
    "    \"DAM\": \"Damascus\",\n",
    "    \"ISU\": \"Sulaymaniyah\",\n",
    "    \"AKT\": \"Akrotiri\",\n",
    "    \"EVN\": \"Yerevan\",\n",
    "    \"ARN\": \"Stockholm\",\n",
    "    \"BZZ\": \"Brize Norton\",\n",
    "    \"AZI\": \"Abu Dhabi (Al Bateen)\",\n",
    "    \"ADB\": \"Izmir\",\n",
    "    \"HAM\": \"Hamburg\",\n",
    "    \"HKG\": \"Hong Kong\",\n",
    "    \"FIH\": \"Kinshasa\",\n",
    "    \"CMB\": \"Colombo\",\n",
    "    \"NCE\": \"Nice\",\n",
    "    \"MFM\": \"Macau\",\n",
    "    \"MNL\": \"Manila\",\n",
    "    \"OTP\": \"Bucharest\",\n",
    "    \"RUH\": \"Riyadh\",\n",
    "    \"LOS\": \"Lagos\",\n",
    "    \"MLA\": \"Malta\",\n",
    "    \"MRS\": \"Marseille\",\n",
    "    \"PSA\": \"Pisa\",\n",
    "    \"ISL\": \"Istanbul (Sabiha Gökçen)\",\n",
    "    \"ALG\": \"Algiers\",\n",
    "    \"SAW\": \"Istanbul (Sabiha Gökçen)\",\n",
    "    \"SHJ\": \"Sharjah\",\n",
    "    \"SSH\": \"Sharm El Sheikh\",\n",
    "    \"DWC\": \"Dubai (Al Maktoum)\",\n",
    "    \"PFO\": \"Paphos\",\n",
    "    \"MCT\": \"Muscat\",\n",
    "    \"CIA\": \"Rome (Ciampino)\",\n",
    "    \"LBG\": \"Paris (Le Bourget)\",\n",
    "    \"LEJ\": \"Leipzig\",\n",
    "    \"BIA\": \"Bastia\",\n",
    "    \"BUD\": \"Budapest\",\n",
    "    \"CHQ\": \"Chania\",\n",
    "    \"HAN\": \"Hanoi\",\n",
    "    \"AMS\": \"Amsterdam\",\n",
    "    \"VIY\": \"Vigo\",\n",
    "    \"PNH\": \"Phnom Penh\",\n",
    "    \"BRI\": \"Bari\",\n",
    "    \"EIN\": \"Eindhoven\",\n",
    "    \"NBO\": \"Nairobi\",\n",
    "    \"CEQ\": \"Cannes\",\n",
    "    \"LYS\": \"Lyon\",\n",
    "    \"KTM\": \"Kathmandu\",\n",
    "    \"SIR\": \"Sion\",\n",
    "    \"BEG\": \"Belgrade\",\n",
    "    \"INI\": \"Niš\",\n",
    "    \"RMS\": \"Ramstein\",\n",
    "    \"ISB\": \"Islamabad\",\n",
    "    \"ZAZ\": \"Zaragoza\",\n",
    "    \"HRG\": \"Hurghada\",\n",
    "    \"KGS\": \"Kos\",\n",
    "    \"MED\": \"Medina\",\n",
    "    \"MHD\": \"Mashhad\",\n",
    "    \"HER\": \"Heraklion\",\n",
    "    \"ASW\": \"Aswan\",\n",
    "    \"DUB\": \"Dublin\",\n",
    "    \"HBE\": \"Alexandria\",\n",
    "    \"ABJ\": \"Abidjan\",\n",
    "    \"CTA\": \"Catania\",\n",
    "    \"BOJ\": \"Burgas\",\n",
    "    \"LDE\": \"Lourdes\",\n",
    "    \"DEL\": \"Delhi\",\n",
    "    \"LAD\": \"Luanda\",\n",
    "    \"BJZ\": \"Badajoz\",\n",
    "    \"MIR\": \"Monastir\",\n",
    "    \"MXP\": \"Milan (Malpensa)\",\n",
    "    \"HYD\": \"Hyderabad\",\n",
    "    \"KRK\": \"Krakow\",\n",
    "    \"BJV\": \"Bodrum\",\n",
    "    \"GYD\": \"Baku\",\n",
    "    \"TLV\": \"Tel Aviv\",\n",
    "    \"WAW\": \"Warsaw\",\n",
    "    \"DLM\": \"Dalaman\",\n",
    "    \"IBZ\": \"Ibiza\",\n",
    "    \"BLQ\": \"Bologna\",\n",
    "    \"FAB\": \"Farnborough\",\n",
    "    \"FLR\": \"Florence\",\n",
    "    \"BRQ\": \"Brno\",\n",
    "    \"BJY\": \"Belgrade (Batajnica)\",\n",
    "    \"GOT\": \"Gothenburg\",\n",
    "    \"DBB\": \"Dabaa\",\n",
    "    \"CGN\": \"Cologne\",\n",
    "    \"FOG\": \"Foggia\",\n",
    "    \"FJR\": \"Fujairah\",\n",
    "    \"CFU\": \"Corfu\",\n",
    "    \"ABV\": \"Abuja\",\n",
    "    \"COV\": \"Coventry\",\n",
    "    \"BUS\": \"Batumi\",\n",
    "    \"ZRH\": \"Zurich\",\n",
    "    \"UAB\": \"Incirlik\",\n",
    "    \"ULH\": \"Al Ula\",\n",
    "    \"TBS\": \"Tbilisi\",\n",
    "    \"STN\": \"London (Stansted)\",\n",
    "    \"XJD\": \"Al Udeid\",\n",
    "    \"TEB\": \"Teterboro\",\n",
    "    \"SPX\": \"Spangdahlem\",\n",
    "    \"VAR\": \"Varna\",\n",
    "    \"LIN\": \"Milan (Linate)\",\n",
    "    \"TMP\": \"Tampere\",\n",
    "    \"VCE\": \"Venice\",\n",
    "    \"LTN\": \"London (Luton)\",\n",
    "    \"SKG\": \"Thessaloniki\",\n",
    "    \"TRN\": \"Turin\",\n",
    "    \"TUN\": \"Tunis\",\n",
    "    \"THR\": \"Tehran\",\n",
    "    \"OSR\": \"Ostrava\",\n",
    "    \"SOF\": \"Sofia\",\n",
    "    \"TRS\": \"Trieste\",\n",
    "    \"LIS\": \"Lisbon\",\n",
    "    \"JMK\": \"Mykonos\",\n",
    "    \"RHO\": \"Rhodes\",\n",
    "    \"KYE\": \"Kiryat Shmona\",\n",
    "    \"RKE\": \"Roskilde\",\n",
    "    \"RIX\": \"Riga\",\n",
    "    \"TIV\": \"Tivat\",\n",
    "    \"NAP\": \"Naples\",\n",
    "    \"OLB\": \"Olbia\",\n",
    "    \"MUH\": \"Marsa Matruh\",\n",
    "    \"VIE\": \"Vienna\",\n",
    "    \"SZX\": \"Shenzhen\",\n",
    "}"
   ]
  },
  {
   "cell_type": "code",
   "execution_count": 110,
   "metadata": {
    "tags": [
     "remove-cell"
    ]
   },
   "outputs": [],
   "source": [
    "departures_exploded[\"airportcity\"] = departures_exploded[\"iata_arr\"].map(iata_mapping)\n",
    "most_changed_departures = (\n",
    "    pd.DataFrame(\n",
    "        departures_exploded[\n",
    "            departures_exploded[\"flight_status\"].isin(\n",
    "                [\"scheduled\", \"cancelled\", \"diverted\"]\n",
    "            )\n",
    "        ][\"airportcity\"]\n",
    "        .value_counts()\n",
    "        .head(10)\n",
    "    )\n",
    "    .reset_index()\n",
    "    .sort_values(by=\"count\", ascending=True)\n",
    ")\n",
    "most_cancelled_departures = (\n",
    "    pd.DataFrame(\n",
    "        departures_exploded[departures_exploded[\"flight_status\"].isin([\"cancelled\"])][\n",
    "            \"airportcity\"\n",
    "        ]\n",
    "        .value_counts()\n",
    "        .head(10)\n",
    "    )\n",
    "    .reset_index()\n",
    "    .sort_values(by=\"count\", ascending=True)\n",
    ")\n",
    "most_scheduled_departures = (\n",
    "    pd.DataFrame(\n",
    "        departures_exploded[departures_exploded[\"flight_status\"].isin([\"scheduled\"])][\n",
    "            \"airportcity\"\n",
    "        ]\n",
    "        .value_counts()\n",
    "        .head(10)\n",
    "    )\n",
    "    .reset_index()\n",
    "    .sort_values(by=\"count\", ascending=True)\n",
    ")\n",
    "most_diverted_departures = (\n",
    "    pd.DataFrame(\n",
    "        departures_exploded[departures_exploded[\"flight_status\"].isin([\"diverted\"])][\n",
    "            \"airportcity\"\n",
    "        ]\n",
    "        .value_counts()\n",
    "        .head(10)\n",
    "    )\n",
    "    .reset_index()\n",
    "    .sort_values(by=\"count\", ascending=True)\n",
    ")"
   ]
  },
  {
   "cell_type": "code",
   "execution_count": 111,
   "metadata": {
    "tags": [
     "remove-input"
    ]
   },
   "outputs": [
    {
     "data": {
      "text/html": [
       "    <style>\n",
       "        .bk-notebook-logo {\n",
       "            display: block;\n",
       "            width: 20px;\n",
       "            height: 20px;\n",
       "            background-image: url(data:image/png;base64,iVBORw0KGgoAAAANSUhEUgAAABQAAAAUCAYAAACNiR0NAAAABHNCSVQICAgIfAhkiAAAAAlwSFlzAAALEgAACxIB0t1+/AAAABx0RVh0U29mdHdhcmUAQWRvYmUgRmlyZXdvcmtzIENTNui8sowAAAOkSURBVDiNjZRtaJVlGMd/1/08zzln5zjP1LWcU9N0NkN8m2CYjpgQYQXqSs0I84OLIC0hkEKoPtiH3gmKoiJDU7QpLgoLjLIQCpEsNJ1vqUOdO7ppbuec5+V+rj4ctwzd8IIbbi6u+8f1539dt3A78eXC7QizUF7gyV1fD1Yqg4JWz84yffhm0qkFqBogB9rM8tZdtwVsPUhWhGcFJngGeWrPzHm5oaMmkfEg1usvLFyc8jLRqDOMru7AyC8saQr7GG7f5fvDeH7Ej8CM66nIF+8yngt6HWaKh7k49Soy9nXurCi1o3qUbS3zWfrYeQDTB/Qj6kX6Ybhw4B+bOYoLKCC9H3Nu/leUTZ1JdRWkkn2ldcCamzrcf47KKXdAJllSlxAOkRgyHsGC/zRday5Qld9DyoM4/q/rUoy/CXh3jzOu3bHUVZeU+DEn8FInkPBFlu3+nW3Nw0mk6vCDiWg8CeJaxEwuHS3+z5RgY+YBR6V1Z1nxSOfoaPa4LASWxxdNp+VWTk7+4vzaou8v8PN+xo+KY2xsw6une2frhw05CTYOmQvsEhjhWjn0bmXPjpE1+kplmmkP3suftwTubK9Vq22qKmrBhpY4jvd5afdRA3wGjFAgcnTK2s4hY0/GPNIb0nErGMCRxWOOX64Z8RAC4oCXdklmEvcL8o0BfkNK4lUg9HTl+oPlQxdNo3Mg4Nv175e/1LDGzZen30MEjRUtmXSfiTVu1kK8W4txyV6BMKlbgk3lMwYCiusNy9fVfvvwMxv8Ynl6vxoByANLTWplvuj/nF9m2+PDtt1eiHPBr1oIfhCChQMBw6Aw0UulqTKZdfVvfG7VcfIqLG9bcldL/+pdWTLxLUy8Qq38heUIjh4XlzZxzQm19lLFlr8vdQ97rjZVOLf8nclzckbcD4wxXMidpX30sFd37Fv/GtwwhzhxGVAprjbg0gCAEeIgwCZyTV2Z1REEW8O4py0wsjeloKoMr6iCY6dP92H6Vw/oTyICIthibxjm/DfN9lVz8IqtqKYLUXfoKVMVQVVJOElGjrnnUt9T9wbgp8AyYKaGlqingHZU/uG2NTZSVqwHQTWkx9hxjkpWDaCg6Ckj5qebgBVbT3V3NNXMSiWSDdGV3hrtzla7J+duwPOToIg42ChPQOQjspnSlp1V+Gjdged7+8UN5CRAV7a5EdFNwCjEaBR27b3W890TE7g24NAP/mMDXRWrGoFPQI9ls/MWO2dWFAar/xcOIImbbpA3zgAAAABJRU5ErkJggg==);\n",
       "        }\n",
       "    </style>\n",
       "    <div>\n",
       "        <a href=\"https://bokeh.org\" target=\"_blank\" class=\"bk-notebook-logo\"></a>\n",
       "        <span id=\"d11df6f9-ed4f-4c3f-ab09-9035526b2e95\">Loading BokehJS ...</span>\n",
       "    </div>\n"
      ]
     },
     "metadata": {},
     "output_type": "display_data"
    },
    {
     "data": {
      "application/javascript": "'use strict';\n(function(root) {\n  function now() {\n    return new Date();\n  }\n\n  const force = true;\n\n  if (typeof root._bokeh_onload_callbacks === \"undefined\" || force === true) {\n    root._bokeh_onload_callbacks = [];\n    root._bokeh_is_loading = undefined;\n  }\n\nconst JS_MIME_TYPE = 'application/javascript';\n  const HTML_MIME_TYPE = 'text/html';\n  const EXEC_MIME_TYPE = 'application/vnd.bokehjs_exec.v0+json';\n  const CLASS_NAME = 'output_bokeh rendered_html';\n\n  /**\n   * Render data to the DOM node\n   */\n  function render(props, node) {\n    const script = document.createElement(\"script\");\n    node.appendChild(script);\n  }\n\n  /**\n   * Handle when an output is cleared or removed\n   */\n  function handleClearOutput(event, handle) {\n    function drop(id) {\n      const view = Bokeh.index.get_by_id(id)\n      if (view != null) {\n        view.model.document.clear()\n        Bokeh.index.delete(view)\n      }\n    }\n\n    const cell = handle.cell;\n\n    const id = cell.output_area._bokeh_element_id;\n    const server_id = cell.output_area._bokeh_server_id;\n\n    // Clean up Bokeh references\n    if (id != null) {\n      drop(id)\n    }\n\n    if (server_id !== undefined) {\n      // Clean up Bokeh references\n      const cmd_clean = \"from bokeh.io.state import curstate; print(curstate().uuid_to_server['\" + server_id + \"'].get_sessions()[0].document.roots[0]._id)\";\n      cell.notebook.kernel.execute(cmd_clean, {\n        iopub: {\n          output: function(msg) {\n            const id = msg.content.text.trim()\n            drop(id)\n          }\n        }\n      });\n      // Destroy server and session\n      const cmd_destroy = \"import bokeh.io.notebook as ion; ion.destroy_server('\" + server_id + \"')\";\n      cell.notebook.kernel.execute(cmd_destroy);\n    }\n  }\n\n  /**\n   * Handle when a new output is added\n   */\n  function handleAddOutput(event, handle) {\n    const output_area = handle.output_area;\n    const output = handle.output;\n\n    // limit handleAddOutput to display_data with EXEC_MIME_TYPE content only\n    if ((output.output_type != \"display_data\") || (!Object.prototype.hasOwnProperty.call(output.data, EXEC_MIME_TYPE))) {\n      return\n    }\n\n    const toinsert = output_area.element.find(\".\" + CLASS_NAME.split(' ')[0]);\n\n    if (output.metadata[EXEC_MIME_TYPE][\"id\"] !== undefined) {\n      toinsert[toinsert.length - 1].firstChild.textContent = output.data[JS_MIME_TYPE];\n      // store reference to embed id on output_area\n      output_area._bokeh_element_id = output.metadata[EXEC_MIME_TYPE][\"id\"];\n    }\n    if (output.metadata[EXEC_MIME_TYPE][\"server_id\"] !== undefined) {\n      const bk_div = document.createElement(\"div\");\n      bk_div.innerHTML = output.data[HTML_MIME_TYPE];\n      const script_attrs = bk_div.children[0].attributes;\n      for (let i = 0; i < script_attrs.length; i++) {\n        toinsert[toinsert.length - 1].firstChild.setAttribute(script_attrs[i].name, script_attrs[i].value);\n        toinsert[toinsert.length - 1].firstChild.textContent = bk_div.children[0].textContent\n      }\n      // store reference to server id on output_area\n      output_area._bokeh_server_id = output.metadata[EXEC_MIME_TYPE][\"server_id\"];\n    }\n  }\n\n  function register_renderer(events, OutputArea) {\n\n    function append_mime(data, metadata, element) {\n      // create a DOM node to render to\n      const toinsert = this.create_output_subarea(\n        metadata,\n        CLASS_NAME,\n        EXEC_MIME_TYPE\n      );\n      this.keyboard_manager.register_events(toinsert);\n      // Render to node\n      const props = {data: data, metadata: metadata[EXEC_MIME_TYPE]};\n      render(props, toinsert[toinsert.length - 1]);\n      element.append(toinsert);\n      return toinsert\n    }\n\n    /* Handle when an output is cleared or removed */\n    events.on('clear_output.CodeCell', handleClearOutput);\n    events.on('delete.Cell', handleClearOutput);\n\n    /* Handle when a new output is added */\n    events.on('output_added.OutputArea', handleAddOutput);\n\n    /**\n     * Register the mime type and append_mime function with output_area\n     */\n    OutputArea.prototype.register_mime_type(EXEC_MIME_TYPE, append_mime, {\n      /* Is output safe? */\n      safe: true,\n      /* Index of renderer in `output_area.display_order` */\n      index: 0\n    });\n  }\n\n  // register the mime type if in Jupyter Notebook environment and previously unregistered\n  if (root.Jupyter !== undefined) {\n    const events = require('base/js/events');\n    const OutputArea = require('notebook/js/outputarea').OutputArea;\n\n    if (OutputArea.prototype.mime_types().indexOf(EXEC_MIME_TYPE) == -1) {\n      register_renderer(events, OutputArea);\n    }\n  }\n  if (typeof (root._bokeh_timeout) === \"undefined\" || force === true) {\n    root._bokeh_timeout = Date.now() + 5000;\n    root._bokeh_failed_load = false;\n  }\n\n  const NB_LOAD_WARNING = {'data': {'text/html':\n     \"<div style='background-color: #fdd'>\\n\"+\n     \"<p>\\n\"+\n     \"BokehJS does not appear to have successfully loaded. If loading BokehJS from CDN, this \\n\"+\n     \"may be due to a slow or bad network connection. Possible fixes:\\n\"+\n     \"</p>\\n\"+\n     \"<ul>\\n\"+\n     \"<li>re-rerun `output_notebook()` to attempt to load from CDN again, or</li>\\n\"+\n     \"<li>use INLINE resources instead, as so:</li>\\n\"+\n     \"</ul>\\n\"+\n     \"<code>\\n\"+\n     \"from bokeh.resources import INLINE\\n\"+\n     \"output_notebook(resources=INLINE)\\n\"+\n     \"</code>\\n\"+\n     \"</div>\"}};\n\n  function display_loaded(error = null) {\n    const el = document.getElementById(\"d11df6f9-ed4f-4c3f-ab09-9035526b2e95\");\n    if (el != null) {\n      const html = (() => {\n        if (typeof root.Bokeh === \"undefined\") {\n          if (error == null) {\n            return \"BokehJS is loading ...\";\n          } else {\n            return \"BokehJS failed to load.\";\n          }\n        } else {\n          const prefix = `BokehJS ${root.Bokeh.version}`;\n          if (error == null) {\n            return `${prefix} successfully loaded.`;\n          } else {\n            return `${prefix} <b>encountered errors</b> while loading and may not function as expected.`;\n          }\n        }\n      })();\n      el.innerHTML = html;\n\n      if (error != null) {\n        const wrapper = document.createElement(\"div\");\n        wrapper.style.overflow = \"auto\";\n        wrapper.style.height = \"5em\";\n        wrapper.style.resize = \"vertical\";\n        const content = document.createElement(\"div\");\n        content.style.fontFamily = \"monospace\";\n        content.style.whiteSpace = \"pre-wrap\";\n        content.style.backgroundColor = \"rgb(255, 221, 221)\";\n        content.textContent = error.stack ?? error.toString();\n        wrapper.append(content);\n        el.append(wrapper);\n      }\n    } else if (Date.now() < root._bokeh_timeout) {\n      setTimeout(() => display_loaded(error), 100);\n    }\n  }\n\n  function run_callbacks() {\n    try {\n      root._bokeh_onload_callbacks.forEach(function(callback) {\n        if (callback != null)\n          callback();\n      });\n    } finally {\n      delete root._bokeh_onload_callbacks\n    }\n    console.debug(\"Bokeh: all callbacks have finished\");\n  }\n\n  function load_libs(css_urls, js_urls, callback) {\n    if (css_urls == null) css_urls = [];\n    if (js_urls == null) js_urls = [];\n\n    root._bokeh_onload_callbacks.push(callback);\n    if (root._bokeh_is_loading > 0) {\n      console.debug(\"Bokeh: BokehJS is being loaded, scheduling callback at\", now());\n      return null;\n    }\n    if (js_urls == null || js_urls.length === 0) {\n      run_callbacks();\n      return null;\n    }\n    console.debug(\"Bokeh: BokehJS not loaded, scheduling load and callback at\", now());\n    root._bokeh_is_loading = css_urls.length + js_urls.length;\n\n    function on_load() {\n      root._bokeh_is_loading--;\n      if (root._bokeh_is_loading === 0) {\n        console.debug(\"Bokeh: all BokehJS libraries/stylesheets loaded\");\n        run_callbacks()\n      }\n    }\n\n    function on_error(url) {\n      console.error(\"failed to load \" + url);\n    }\n\n    for (let i = 0; i < css_urls.length; i++) {\n      const url = css_urls[i];\n      const element = document.createElement(\"link\");\n      element.onload = on_load;\n      element.onerror = on_error.bind(null, url);\n      element.rel = \"stylesheet\";\n      element.type = \"text/css\";\n      element.href = url;\n      console.debug(\"Bokeh: injecting link tag for BokehJS stylesheet: \", url);\n      document.body.appendChild(element);\n    }\n\n    for (let i = 0; i < js_urls.length; i++) {\n      const url = js_urls[i];\n      const element = document.createElement('script');\n      element.onload = on_load;\n      element.onerror = on_error.bind(null, url);\n      element.async = false;\n      element.src = url;\n      console.debug(\"Bokeh: injecting script tag for BokehJS library: \", url);\n      document.head.appendChild(element);\n    }\n  };\n\n  function inject_raw_css(css) {\n    const element = document.createElement(\"style\");\n    element.appendChild(document.createTextNode(css));\n    document.body.appendChild(element);\n  }\n\n  const js_urls = [\"https://cdn.bokeh.org/bokeh/release/bokeh-3.4.1.min.js\", \"https://cdn.bokeh.org/bokeh/release/bokeh-gl-3.4.1.min.js\", \"https://cdn.bokeh.org/bokeh/release/bokeh-widgets-3.4.1.min.js\", \"https://cdn.bokeh.org/bokeh/release/bokeh-tables-3.4.1.min.js\", \"https://cdn.bokeh.org/bokeh/release/bokeh-mathjax-3.4.1.min.js\"];\n  const css_urls = [];\n\n  const inline_js = [    function(Bokeh) {\n      Bokeh.set_log_level(\"info\");\n    },\nfunction(Bokeh) {\n    }\n  ];\n\n  function run_inline_js() {\n    if (root.Bokeh !== undefined || force === true) {\n      try {\n            for (let i = 0; i < inline_js.length; i++) {\n      inline_js[i].call(root, root.Bokeh);\n    }\n\n      } catch (error) {display_loaded(error);throw error;\n      }if (force === true) {\n        display_loaded();\n      }} else if (Date.now() < root._bokeh_timeout) {\n      setTimeout(run_inline_js, 100);\n    } else if (!root._bokeh_failed_load) {\n      console.log(\"Bokeh: BokehJS failed to load within specified timeout.\");\n      root._bokeh_failed_load = true;\n    } else if (force !== true) {\n      const cell = $(document.getElementById(\"d11df6f9-ed4f-4c3f-ab09-9035526b2e95\")).parents('.cell').data().cell;\n      cell.output_area.append_execute_result(NB_LOAD_WARNING)\n    }\n  }\n\n  if (root._bokeh_is_loading === 0) {\n    console.debug(\"Bokeh: BokehJS loaded, going straight to plotting\");\n    run_inline_js();\n  } else {\n    load_libs(css_urls, js_urls, function() {\n      console.debug(\"Bokeh: BokehJS plotting callback run at\", now());\n      run_inline_js();\n    });\n  }\n}(window));",
      "application/vnd.bokehjs_load.v0+json": ""
     },
     "metadata": {},
     "output_type": "display_data"
    },
    {
     "data": {
      "text/html": [
       "\n",
       "  <div id=\"fc8ff9f5-0f81-4543-ac9b-67b6b1a5c8b3\" data-root-id=\"p7935\" style=\"display: contents;\"></div>\n"
      ]
     },
     "metadata": {},
     "output_type": "display_data"
    },
    {
     "data": {
      "application/javascript": "(function(root) {\n  function embed_document(root) {\n  const docs_json = {\"105aaa19-a95f-4774-bdb5-bb7f34760130\":{\"version\":\"3.4.1\",\"title\":\"Bokeh Application\",\"roots\":[{\"type\":\"object\",\"name\":\"Column\",\"id\":\"p7935\",\"attributes\":{\"children\":[{\"type\":\"object\",\"name\":\"Div\",\"id\":\"p7934\",\"attributes\":{\"width\":800,\"text\":\"<h2>Top 10 Destinations with Changes in Departures from BEY in 2024</h2>\"}},{\"type\":\"object\",\"name\":\"Tabs\",\"id\":\"p7933\",\"attributes\":{\"tabs\":[{\"type\":\"object\",\"name\":\"TabPanel\",\"id\":\"p7788\",\"attributes\":{\"title\":\"Most Changed Departures\",\"child\":{\"type\":\"object\",\"name\":\"Column\",\"id\":\"p7787\",\"attributes\":{\"children\":[{\"type\":\"object\",\"name\":\"Figure\",\"id\":\"p7744\",\"attributes\":{\"height\":400,\"x_range\":{\"type\":\"object\",\"name\":\"DataRange1d\",\"id\":\"p7746\"},\"y_range\":{\"type\":\"object\",\"name\":\"FactorRange\",\"id\":\"p7754\",\"attributes\":{\"factors\":[\"Kuwait City\",\"Erbil\",\"Baghdad\",\"Dubai\",\"Sharm El Sheikh\",\"Istanbul\",\"Najaf\",\"Cairo\",\"Larnaca\",\"Amman\"]}},\"x_scale\":{\"type\":\"object\",\"name\":\"LinearScale\",\"id\":\"p7755\"},\"y_scale\":{\"type\":\"object\",\"name\":\"CategoricalScale\",\"id\":\"p7756\"},\"title\":{\"type\":\"object\",\"name\":\"Title\",\"id\":\"p7747\",\"attributes\":{\"text\":\"Most Changed Departures in 2024\"}},\"outline_line_color\":null,\"renderers\":[{\"type\":\"object\",\"name\":\"GlyphRenderer\",\"id\":\"p7774\",\"attributes\":{\"data_source\":{\"type\":\"object\",\"name\":\"ColumnDataSource\",\"id\":\"p7741\",\"attributes\":{\"selected\":{\"type\":\"object\",\"name\":\"Selection\",\"id\":\"p7742\",\"attributes\":{\"indices\":[],\"line_indices\":[]}},\"selection_policy\":{\"type\":\"object\",\"name\":\"UnionRenderers\",\"id\":\"p7743\"},\"data\":{\"type\":\"map\",\"entries\":[[\"index\",{\"type\":\"ndarray\",\"array\":{\"type\":\"bytes\",\"data\":\"CQAAAAgAAAAHAAAABgAAAAQAAAAFAAAAAwAAAAIAAAABAAAAAAAAAA==\"},\"shape\":[10],\"dtype\":\"int32\",\"order\":\"little\"}],[\"airportcity\",{\"type\":\"ndarray\",\"array\":[\"Kuwait City\",\"Erbil\",\"Baghdad\",\"Dubai\",\"Sharm El Sheikh\",\"Istanbul\",\"Najaf\",\"Cairo\",\"Larnaca\",\"Amman\"],\"shape\":[10],\"dtype\":\"object\",\"order\":\"little\"}],[\"count\",{\"type\":\"ndarray\",\"array\":{\"type\":\"bytes\",\"data\":\"UgAAAFoAAABmAAAAagAAAHAAAABwAAAAdwAAAMgAAAA+AQAARQEAAA==\"},\"shape\":[10],\"dtype\":\"int32\",\"order\":\"little\"}]]}}},\"view\":{\"type\":\"object\",\"name\":\"CDSView\",\"id\":\"p7775\",\"attributes\":{\"filter\":{\"type\":\"object\",\"name\":\"AllIndices\",\"id\":\"p7776\"}}},\"glyph\":{\"type\":\"object\",\"name\":\"HBar\",\"id\":\"p7771\",\"attributes\":{\"y\":{\"type\":\"field\",\"field\":\"airportcity\"},\"height\":{\"type\":\"value\",\"value\":0.5},\"right\":{\"type\":\"field\",\"field\":\"count\"},\"line_color\":{\"type\":\"value\",\"value\":\"lightblue\"},\"line_alpha\":{\"type\":\"value\",\"value\":0.7},\"fill_color\":{\"type\":\"value\",\"value\":\"lightblue\"},\"fill_alpha\":{\"type\":\"value\",\"value\":0.7},\"hatch_color\":{\"type\":\"value\",\"value\":\"lightblue\"},\"hatch_alpha\":{\"type\":\"value\",\"value\":0.7}}},\"nonselection_glyph\":{\"type\":\"object\",\"name\":\"HBar\",\"id\":\"p7772\",\"attributes\":{\"y\":{\"type\":\"field\",\"field\":\"airportcity\"},\"height\":{\"type\":\"value\",\"value\":0.5},\"right\":{\"type\":\"field\",\"field\":\"count\"},\"line_color\":{\"type\":\"value\",\"value\":\"lightblue\"},\"line_alpha\":{\"type\":\"value\",\"value\":0.1},\"fill_color\":{\"type\":\"value\",\"value\":\"lightblue\"},\"fill_alpha\":{\"type\":\"value\",\"value\":0.1},\"hatch_color\":{\"type\":\"value\",\"value\":\"lightblue\"},\"hatch_alpha\":{\"type\":\"value\",\"value\":0.1}}},\"muted_glyph\":{\"type\":\"object\",\"name\":\"HBar\",\"id\":\"p7773\",\"attributes\":{\"y\":{\"type\":\"field\",\"field\":\"airportcity\"},\"height\":{\"type\":\"value\",\"value\":0.5},\"right\":{\"type\":\"field\",\"field\":\"count\"},\"line_color\":{\"type\":\"value\",\"value\":\"lightblue\"},\"line_alpha\":{\"type\":\"value\",\"value\":0.2},\"fill_color\":{\"type\":\"value\",\"value\":\"lightblue\"},\"fill_alpha\":{\"type\":\"value\",\"value\":0.2},\"hatch_color\":{\"type\":\"value\",\"value\":\"lightblue\"},\"hatch_alpha\":{\"type\":\"value\",\"value\":0.2}}}}},{\"type\":\"object\",\"name\":\"GlyphRenderer\",\"id\":\"p7783\",\"attributes\":{\"data_source\":{\"id\":\"p7741\"},\"view\":{\"type\":\"object\",\"name\":\"CDSView\",\"id\":\"p7784\",\"attributes\":{\"filter\":{\"type\":\"object\",\"name\":\"AllIndices\",\"id\":\"p7785\"}}},\"glyph\":{\"type\":\"object\",\"name\":\"Text\",\"id\":\"p7780\",\"attributes\":{\"x\":{\"type\":\"field\",\"field\":\"count\"},\"y\":{\"type\":\"field\",\"field\":\"airportcity\"},\"text\":{\"type\":\"field\",\"field\":\"count\"},\"x_offset\":{\"type\":\"value\",\"value\":-5},\"y_offset\":{\"type\":\"value\",\"value\":-3},\"text_color\":{\"type\":\"value\",\"value\":\"black\"},\"text_font_size\":{\"type\":\"value\",\"value\":\"10pt\"},\"text_align\":{\"type\":\"value\",\"value\":\"right\"},\"text_baseline\":{\"type\":\"value\",\"value\":\"middle\"}}},\"nonselection_glyph\":{\"type\":\"object\",\"name\":\"Text\",\"id\":\"p7781\",\"attributes\":{\"x\":{\"type\":\"field\",\"field\":\"count\"},\"y\":{\"type\":\"field\",\"field\":\"airportcity\"},\"text\":{\"type\":\"field\",\"field\":\"count\"},\"x_offset\":{\"type\":\"value\",\"value\":-5},\"y_offset\":{\"type\":\"value\",\"value\":-3},\"text_color\":{\"type\":\"value\",\"value\":\"black\"},\"text_alpha\":{\"type\":\"value\",\"value\":0.1},\"text_font_size\":{\"type\":\"value\",\"value\":\"10pt\"},\"text_align\":{\"type\":\"value\",\"value\":\"right\"},\"text_baseline\":{\"type\":\"value\",\"value\":\"middle\"}}},\"muted_glyph\":{\"type\":\"object\",\"name\":\"Text\",\"id\":\"p7782\",\"attributes\":{\"x\":{\"type\":\"field\",\"field\":\"count\"},\"y\":{\"type\":\"field\",\"field\":\"airportcity\"},\"text\":{\"type\":\"field\",\"field\":\"count\"},\"x_offset\":{\"type\":\"value\",\"value\":-5},\"y_offset\":{\"type\":\"value\",\"value\":-3},\"text_color\":{\"type\":\"value\",\"value\":\"black\"},\"text_alpha\":{\"type\":\"value\",\"value\":0.2},\"text_font_size\":{\"type\":\"value\",\"value\":\"10pt\"},\"text_align\":{\"type\":\"value\",\"value\":\"right\"},\"text_baseline\":{\"type\":\"value\",\"value\":\"middle\"}}}}}],\"toolbar\":{\"type\":\"object\",\"name\":\"Toolbar\",\"id\":\"p7753\",\"attributes\":{\"tools\":[{\"type\":\"object\",\"name\":\"SaveTool\",\"id\":\"p7767\"}]}},\"toolbar_location\":\"above\",\"left\":[{\"type\":\"object\",\"name\":\"CategoricalAxis\",\"id\":\"p7762\",\"attributes\":{\"ticker\":{\"type\":\"object\",\"name\":\"CategoricalTicker\",\"id\":\"p7763\"},\"formatter\":{\"type\":\"object\",\"name\":\"CategoricalTickFormatter\",\"id\":\"p7764\"},\"major_label_policy\":{\"type\":\"object\",\"name\":\"AllLabels\",\"id\":\"p7765\"},\"axis_line_color\":null,\"major_tick_line_color\":null,\"minor_tick_line_color\":null}}],\"below\":[{\"type\":\"object\",\"name\":\"LinearAxis\",\"id\":\"p7757\",\"attributes\":{\"visible\":false,\"ticker\":{\"type\":\"object\",\"name\":\"BasicTicker\",\"id\":\"p7758\",\"attributes\":{\"mantissas\":[1,2,5]}},\"formatter\":{\"type\":\"object\",\"name\":\"BasicTickFormatter\",\"id\":\"p7759\"},\"major_label_policy\":{\"type\":\"object\",\"name\":\"AllLabels\",\"id\":\"p7760\"}}}],\"center\":[{\"type\":\"object\",\"name\":\"Grid\",\"id\":\"p7761\",\"attributes\":{\"visible\":false,\"axis\":{\"id\":\"p7757\"}}},{\"type\":\"object\",\"name\":\"Grid\",\"id\":\"p7766\",\"attributes\":{\"visible\":false,\"dimension\":1,\"axis\":{\"id\":\"p7762\"}}}]}},{\"type\":\"object\",\"name\":\"Div\",\"id\":\"p7786\",\"attributes\":{\"width\":600,\"text\":\"<p style='font-size:12px; color:gray;'>Source: AviationStack. Acessed October 7th 2024.</p>\"}}]}}}},{\"type\":\"object\",\"name\":\"TabPanel\",\"id\":\"p7836\",\"attributes\":{\"title\":\"Most Cancelled Departures\",\"child\":{\"type\":\"object\",\"name\":\"Column\",\"id\":\"p7835\",\"attributes\":{\"children\":[{\"type\":\"object\",\"name\":\"Figure\",\"id\":\"p7792\",\"attributes\":{\"height\":400,\"x_range\":{\"type\":\"object\",\"name\":\"DataRange1d\",\"id\":\"p7794\"},\"y_range\":{\"type\":\"object\",\"name\":\"FactorRange\",\"id\":\"p7802\",\"attributes\":{\"factors\":[\"Athens\",\"Bucharest\",\"Zurich\",\"Antalya\",\"Paris (Charles de Gaulle)\",\"Amman\",\"Dubai\",\"Istanbul\",\"Istanbul (Sabiha G\\u00f6k\\u00e7en)\",\"Frankfurt\"]}},\"x_scale\":{\"type\":\"object\",\"name\":\"LinearScale\",\"id\":\"p7803\"},\"y_scale\":{\"type\":\"object\",\"name\":\"CategoricalScale\",\"id\":\"p7804\"},\"title\":{\"type\":\"object\",\"name\":\"Title\",\"id\":\"p7795\",\"attributes\":{\"text\":\"Most Cancelled Departures in 2024\"}},\"outline_line_color\":null,\"renderers\":[{\"type\":\"object\",\"name\":\"GlyphRenderer\",\"id\":\"p7822\",\"attributes\":{\"data_source\":{\"type\":\"object\",\"name\":\"ColumnDataSource\",\"id\":\"p7789\",\"attributes\":{\"selected\":{\"type\":\"object\",\"name\":\"Selection\",\"id\":\"p7790\",\"attributes\":{\"indices\":[],\"line_indices\":[]}},\"selection_policy\":{\"type\":\"object\",\"name\":\"UnionRenderers\",\"id\":\"p7791\"},\"data\":{\"type\":\"map\",\"entries\":[[\"index\",{\"type\":\"ndarray\",\"array\":{\"type\":\"bytes\",\"data\":\"CQAAAAcAAAAIAAAABgAAAAUAAAADAAAABAAAAAIAAAABAAAAAAAAAA==\"},\"shape\":[10],\"dtype\":\"int32\",\"order\":\"little\"}],[\"airportcity\",{\"type\":\"ndarray\",\"array\":[\"Athens\",\"Bucharest\",\"Zurich\",\"Antalya\",\"Paris (Charles de Gaulle)\",\"Amman\",\"Dubai\",\"Istanbul\",\"Istanbul (Sabiha G\\u00f6k\\u00e7en)\",\"Frankfurt\"],\"shape\":[10],\"dtype\":\"object\",\"order\":\"little\"}],[\"count\",{\"type\":\"ndarray\",\"array\":{\"type\":\"bytes\",\"data\":\"EAAAABEAAAARAAAAEgAAABUAAAAXAAAAFwAAAB4AAAAfAAAAMgAAAA==\"},\"shape\":[10],\"dtype\":\"int32\",\"order\":\"little\"}]]}}},\"view\":{\"type\":\"object\",\"name\":\"CDSView\",\"id\":\"p7823\",\"attributes\":{\"filter\":{\"type\":\"object\",\"name\":\"AllIndices\",\"id\":\"p7824\"}}},\"glyph\":{\"type\":\"object\",\"name\":\"HBar\",\"id\":\"p7819\",\"attributes\":{\"y\":{\"type\":\"field\",\"field\":\"airportcity\"},\"height\":{\"type\":\"value\",\"value\":0.5},\"right\":{\"type\":\"field\",\"field\":\"count\"},\"line_color\":{\"type\":\"value\",\"value\":\"orange\"},\"line_alpha\":{\"type\":\"value\",\"value\":0.7},\"fill_color\":{\"type\":\"value\",\"value\":\"orange\"},\"fill_alpha\":{\"type\":\"value\",\"value\":0.7},\"hatch_color\":{\"type\":\"value\",\"value\":\"orange\"},\"hatch_alpha\":{\"type\":\"value\",\"value\":0.7}}},\"nonselection_glyph\":{\"type\":\"object\",\"name\":\"HBar\",\"id\":\"p7820\",\"attributes\":{\"y\":{\"type\":\"field\",\"field\":\"airportcity\"},\"height\":{\"type\":\"value\",\"value\":0.5},\"right\":{\"type\":\"field\",\"field\":\"count\"},\"line_color\":{\"type\":\"value\",\"value\":\"orange\"},\"line_alpha\":{\"type\":\"value\",\"value\":0.1},\"fill_color\":{\"type\":\"value\",\"value\":\"orange\"},\"fill_alpha\":{\"type\":\"value\",\"value\":0.1},\"hatch_color\":{\"type\":\"value\",\"value\":\"orange\"},\"hatch_alpha\":{\"type\":\"value\",\"value\":0.1}}},\"muted_glyph\":{\"type\":\"object\",\"name\":\"HBar\",\"id\":\"p7821\",\"attributes\":{\"y\":{\"type\":\"field\",\"field\":\"airportcity\"},\"height\":{\"type\":\"value\",\"value\":0.5},\"right\":{\"type\":\"field\",\"field\":\"count\"},\"line_color\":{\"type\":\"value\",\"value\":\"orange\"},\"line_alpha\":{\"type\":\"value\",\"value\":0.2},\"fill_color\":{\"type\":\"value\",\"value\":\"orange\"},\"fill_alpha\":{\"type\":\"value\",\"value\":0.2},\"hatch_color\":{\"type\":\"value\",\"value\":\"orange\"},\"hatch_alpha\":{\"type\":\"value\",\"value\":0.2}}}}},{\"type\":\"object\",\"name\":\"GlyphRenderer\",\"id\":\"p7831\",\"attributes\":{\"data_source\":{\"id\":\"p7789\"},\"view\":{\"type\":\"object\",\"name\":\"CDSView\",\"id\":\"p7832\",\"attributes\":{\"filter\":{\"type\":\"object\",\"name\":\"AllIndices\",\"id\":\"p7833\"}}},\"glyph\":{\"type\":\"object\",\"name\":\"Text\",\"id\":\"p7828\",\"attributes\":{\"x\":{\"type\":\"field\",\"field\":\"count\"},\"y\":{\"type\":\"field\",\"field\":\"airportcity\"},\"text\":{\"type\":\"field\",\"field\":\"count\"},\"x_offset\":{\"type\":\"value\",\"value\":-5},\"y_offset\":{\"type\":\"value\",\"value\":-3},\"text_color\":{\"type\":\"value\",\"value\":\"black\"},\"text_font_size\":{\"type\":\"value\",\"value\":\"10pt\"},\"text_align\":{\"type\":\"value\",\"value\":\"right\"},\"text_baseline\":{\"type\":\"value\",\"value\":\"middle\"}}},\"nonselection_glyph\":{\"type\":\"object\",\"name\":\"Text\",\"id\":\"p7829\",\"attributes\":{\"x\":{\"type\":\"field\",\"field\":\"count\"},\"y\":{\"type\":\"field\",\"field\":\"airportcity\"},\"text\":{\"type\":\"field\",\"field\":\"count\"},\"x_offset\":{\"type\":\"value\",\"value\":-5},\"y_offset\":{\"type\":\"value\",\"value\":-3},\"text_color\":{\"type\":\"value\",\"value\":\"black\"},\"text_alpha\":{\"type\":\"value\",\"value\":0.1},\"text_font_size\":{\"type\":\"value\",\"value\":\"10pt\"},\"text_align\":{\"type\":\"value\",\"value\":\"right\"},\"text_baseline\":{\"type\":\"value\",\"value\":\"middle\"}}},\"muted_glyph\":{\"type\":\"object\",\"name\":\"Text\",\"id\":\"p7830\",\"attributes\":{\"x\":{\"type\":\"field\",\"field\":\"count\"},\"y\":{\"type\":\"field\",\"field\":\"airportcity\"},\"text\":{\"type\":\"field\",\"field\":\"count\"},\"x_offset\":{\"type\":\"value\",\"value\":-5},\"y_offset\":{\"type\":\"value\",\"value\":-3},\"text_color\":{\"type\":\"value\",\"value\":\"black\"},\"text_alpha\":{\"type\":\"value\",\"value\":0.2},\"text_font_size\":{\"type\":\"value\",\"value\":\"10pt\"},\"text_align\":{\"type\":\"value\",\"value\":\"right\"},\"text_baseline\":{\"type\":\"value\",\"value\":\"middle\"}}}}}],\"toolbar\":{\"type\":\"object\",\"name\":\"Toolbar\",\"id\":\"p7801\",\"attributes\":{\"tools\":[{\"type\":\"object\",\"name\":\"SaveTool\",\"id\":\"p7815\"}]}},\"toolbar_location\":\"above\",\"left\":[{\"type\":\"object\",\"name\":\"CategoricalAxis\",\"id\":\"p7810\",\"attributes\":{\"ticker\":{\"type\":\"object\",\"name\":\"CategoricalTicker\",\"id\":\"p7811\"},\"formatter\":{\"type\":\"object\",\"name\":\"CategoricalTickFormatter\",\"id\":\"p7812\"},\"major_label_policy\":{\"type\":\"object\",\"name\":\"AllLabels\",\"id\":\"p7813\"},\"axis_line_color\":null,\"major_tick_line_color\":null,\"minor_tick_line_color\":null}}],\"below\":[{\"type\":\"object\",\"name\":\"LinearAxis\",\"id\":\"p7805\",\"attributes\":{\"visible\":false,\"ticker\":{\"type\":\"object\",\"name\":\"BasicTicker\",\"id\":\"p7806\",\"attributes\":{\"mantissas\":[1,2,5]}},\"formatter\":{\"type\":\"object\",\"name\":\"BasicTickFormatter\",\"id\":\"p7807\"},\"major_label_policy\":{\"type\":\"object\",\"name\":\"AllLabels\",\"id\":\"p7808\"}}}],\"center\":[{\"type\":\"object\",\"name\":\"Grid\",\"id\":\"p7809\",\"attributes\":{\"visible\":false,\"axis\":{\"id\":\"p7805\"}}},{\"type\":\"object\",\"name\":\"Grid\",\"id\":\"p7814\",\"attributes\":{\"visible\":false,\"dimension\":1,\"axis\":{\"id\":\"p7810\"}}}]}},{\"type\":\"object\",\"name\":\"Div\",\"id\":\"p7834\",\"attributes\":{\"width\":600,\"text\":\"<p style='font-size:12px; color:gray;'>Source: AviationStack. Acessed October 7th 2024.</p>\"}}]}}}},{\"type\":\"object\",\"name\":\"TabPanel\",\"id\":\"p7884\",\"attributes\":{\"title\":\"Most Scheduled Departures\",\"child\":{\"type\":\"object\",\"name\":\"Column\",\"id\":\"p7883\",\"attributes\":{\"children\":[{\"type\":\"object\",\"name\":\"Figure\",\"id\":\"p7840\",\"attributes\":{\"height\":400,\"x_range\":{\"type\":\"object\",\"name\":\"DataRange1d\",\"id\":\"p7842\"},\"y_range\":{\"type\":\"object\",\"name\":\"FactorRange\",\"id\":\"p7850\",\"attributes\":{\"factors\":[\"Sharm El Sheikh\",\"Baghdad\",\"Kuwait City\",\"Amman\",\"Istanbul\",\"Dubai\",\"Erbil\",\"Larnaca\",\"Cairo\",\"Najaf\"]}},\"x_scale\":{\"type\":\"object\",\"name\":\"LinearScale\",\"id\":\"p7851\"},\"y_scale\":{\"type\":\"object\",\"name\":\"CategoricalScale\",\"id\":\"p7852\"},\"title\":{\"type\":\"object\",\"name\":\"Title\",\"id\":\"p7843\",\"attributes\":{\"text\":\"Most Scheduled Departures in 2024\"}},\"outline_line_color\":null,\"renderers\":[{\"type\":\"object\",\"name\":\"GlyphRenderer\",\"id\":\"p7870\",\"attributes\":{\"data_source\":{\"type\":\"object\",\"name\":\"ColumnDataSource\",\"id\":\"p7837\",\"attributes\":{\"selected\":{\"type\":\"object\",\"name\":\"Selection\",\"id\":\"p7838\",\"attributes\":{\"indices\":[],\"line_indices\":[]}},\"selection_policy\":{\"type\":\"object\",\"name\":\"UnionRenderers\",\"id\":\"p7839\"},\"data\":{\"type\":\"map\",\"entries\":[[\"index\",{\"type\":\"ndarray\",\"array\":{\"type\":\"bytes\",\"data\":\"CQAAAAgAAAAHAAAABgAAAAUAAAAEAAAAAwAAAAIAAAABAAAAAAAAAA==\"},\"shape\":[10],\"dtype\":\"int32\",\"order\":\"little\"}],[\"airportcity\",{\"type\":\"ndarray\",\"array\":[\"Sharm El Sheikh\",\"Baghdad\",\"Kuwait City\",\"Amman\",\"Istanbul\",\"Dubai\",\"Erbil\",\"Larnaca\",\"Cairo\",\"Najaf\"],\"shape\":[10],\"dtype\":\"object\",\"order\":\"little\"}],[\"count\",{\"type\":\"ndarray\",\"array\":{\"type\":\"bytes\",\"data\":\"PQAAAEMAAABGAAAATgAAAFEAAABSAAAAVQAAAFcAAABnAAAAcAAAAA==\"},\"shape\":[10],\"dtype\":\"int32\",\"order\":\"little\"}]]}}},\"view\":{\"type\":\"object\",\"name\":\"CDSView\",\"id\":\"p7871\",\"attributes\":{\"filter\":{\"type\":\"object\",\"name\":\"AllIndices\",\"id\":\"p7872\"}}},\"glyph\":{\"type\":\"object\",\"name\":\"HBar\",\"id\":\"p7867\",\"attributes\":{\"y\":{\"type\":\"field\",\"field\":\"airportcity\"},\"height\":{\"type\":\"value\",\"value\":0.5},\"right\":{\"type\":\"field\",\"field\":\"count\"},\"line_color\":{\"type\":\"value\",\"value\":\"#023436\"},\"line_alpha\":{\"type\":\"value\",\"value\":0.7},\"fill_color\":{\"type\":\"value\",\"value\":\"#023436\"},\"fill_alpha\":{\"type\":\"value\",\"value\":0.7},\"hatch_color\":{\"type\":\"value\",\"value\":\"#023436\"},\"hatch_alpha\":{\"type\":\"value\",\"value\":0.7}}},\"nonselection_glyph\":{\"type\":\"object\",\"name\":\"HBar\",\"id\":\"p7868\",\"attributes\":{\"y\":{\"type\":\"field\",\"field\":\"airportcity\"},\"height\":{\"type\":\"value\",\"value\":0.5},\"right\":{\"type\":\"field\",\"field\":\"count\"},\"line_color\":{\"type\":\"value\",\"value\":\"#023436\"},\"line_alpha\":{\"type\":\"value\",\"value\":0.1},\"fill_color\":{\"type\":\"value\",\"value\":\"#023436\"},\"fill_alpha\":{\"type\":\"value\",\"value\":0.1},\"hatch_color\":{\"type\":\"value\",\"value\":\"#023436\"},\"hatch_alpha\":{\"type\":\"value\",\"value\":0.1}}},\"muted_glyph\":{\"type\":\"object\",\"name\":\"HBar\",\"id\":\"p7869\",\"attributes\":{\"y\":{\"type\":\"field\",\"field\":\"airportcity\"},\"height\":{\"type\":\"value\",\"value\":0.5},\"right\":{\"type\":\"field\",\"field\":\"count\"},\"line_color\":{\"type\":\"value\",\"value\":\"#023436\"},\"line_alpha\":{\"type\":\"value\",\"value\":0.2},\"fill_color\":{\"type\":\"value\",\"value\":\"#023436\"},\"fill_alpha\":{\"type\":\"value\",\"value\":0.2},\"hatch_color\":{\"type\":\"value\",\"value\":\"#023436\"},\"hatch_alpha\":{\"type\":\"value\",\"value\":0.2}}}}},{\"type\":\"object\",\"name\":\"GlyphRenderer\",\"id\":\"p7879\",\"attributes\":{\"data_source\":{\"id\":\"p7837\"},\"view\":{\"type\":\"object\",\"name\":\"CDSView\",\"id\":\"p7880\",\"attributes\":{\"filter\":{\"type\":\"object\",\"name\":\"AllIndices\",\"id\":\"p7881\"}}},\"glyph\":{\"type\":\"object\",\"name\":\"Text\",\"id\":\"p7876\",\"attributes\":{\"x\":{\"type\":\"field\",\"field\":\"count\"},\"y\":{\"type\":\"field\",\"field\":\"airportcity\"},\"text\":{\"type\":\"field\",\"field\":\"count\"},\"x_offset\":{\"type\":\"value\",\"value\":-5},\"y_offset\":{\"type\":\"value\",\"value\":-3},\"text_color\":{\"type\":\"value\",\"value\":\"black\"},\"text_font_size\":{\"type\":\"value\",\"value\":\"10pt\"},\"text_align\":{\"type\":\"value\",\"value\":\"right\"},\"text_baseline\":{\"type\":\"value\",\"value\":\"middle\"}}},\"nonselection_glyph\":{\"type\":\"object\",\"name\":\"Text\",\"id\":\"p7877\",\"attributes\":{\"x\":{\"type\":\"field\",\"field\":\"count\"},\"y\":{\"type\":\"field\",\"field\":\"airportcity\"},\"text\":{\"type\":\"field\",\"field\":\"count\"},\"x_offset\":{\"type\":\"value\",\"value\":-5},\"y_offset\":{\"type\":\"value\",\"value\":-3},\"text_color\":{\"type\":\"value\",\"value\":\"black\"},\"text_alpha\":{\"type\":\"value\",\"value\":0.1},\"text_font_size\":{\"type\":\"value\",\"value\":\"10pt\"},\"text_align\":{\"type\":\"value\",\"value\":\"right\"},\"text_baseline\":{\"type\":\"value\",\"value\":\"middle\"}}},\"muted_glyph\":{\"type\":\"object\",\"name\":\"Text\",\"id\":\"p7878\",\"attributes\":{\"x\":{\"type\":\"field\",\"field\":\"count\"},\"y\":{\"type\":\"field\",\"field\":\"airportcity\"},\"text\":{\"type\":\"field\",\"field\":\"count\"},\"x_offset\":{\"type\":\"value\",\"value\":-5},\"y_offset\":{\"type\":\"value\",\"value\":-3},\"text_color\":{\"type\":\"value\",\"value\":\"black\"},\"text_alpha\":{\"type\":\"value\",\"value\":0.2},\"text_font_size\":{\"type\":\"value\",\"value\":\"10pt\"},\"text_align\":{\"type\":\"value\",\"value\":\"right\"},\"text_baseline\":{\"type\":\"value\",\"value\":\"middle\"}}}}}],\"toolbar\":{\"type\":\"object\",\"name\":\"Toolbar\",\"id\":\"p7849\",\"attributes\":{\"tools\":[{\"type\":\"object\",\"name\":\"SaveTool\",\"id\":\"p7863\"}]}},\"toolbar_location\":\"above\",\"left\":[{\"type\":\"object\",\"name\":\"CategoricalAxis\",\"id\":\"p7858\",\"attributes\":{\"ticker\":{\"type\":\"object\",\"name\":\"CategoricalTicker\",\"id\":\"p7859\"},\"formatter\":{\"type\":\"object\",\"name\":\"CategoricalTickFormatter\",\"id\":\"p7860\"},\"major_label_policy\":{\"type\":\"object\",\"name\":\"AllLabels\",\"id\":\"p7861\"},\"axis_line_color\":null,\"major_tick_line_color\":null,\"minor_tick_line_color\":null}}],\"below\":[{\"type\":\"object\",\"name\":\"LinearAxis\",\"id\":\"p7853\",\"attributes\":{\"visible\":false,\"ticker\":{\"type\":\"object\",\"name\":\"BasicTicker\",\"id\":\"p7854\",\"attributes\":{\"mantissas\":[1,2,5]}},\"formatter\":{\"type\":\"object\",\"name\":\"BasicTickFormatter\",\"id\":\"p7855\"},\"major_label_policy\":{\"type\":\"object\",\"name\":\"AllLabels\",\"id\":\"p7856\"}}}],\"center\":[{\"type\":\"object\",\"name\":\"Grid\",\"id\":\"p7857\",\"attributes\":{\"visible\":false,\"axis\":{\"id\":\"p7853\"}}},{\"type\":\"object\",\"name\":\"Grid\",\"id\":\"p7862\",\"attributes\":{\"visible\":false,\"dimension\":1,\"axis\":{\"id\":\"p7858\"}}}]}},{\"type\":\"object\",\"name\":\"Div\",\"id\":\"p7882\",\"attributes\":{\"width\":600,\"text\":\"<p style='font-size:12px; color:gray;'>Source: AviationStack. Acessed October 7th 2024.</p>\"}}]}}}},{\"type\":\"object\",\"name\":\"TabPanel\",\"id\":\"p7932\",\"attributes\":{\"title\":\"Most Diverted Departures\",\"child\":{\"type\":\"object\",\"name\":\"Column\",\"id\":\"p7931\",\"attributes\":{\"children\":[{\"type\":\"object\",\"name\":\"Figure\",\"id\":\"p7888\",\"attributes\":{\"height\":400,\"x_range\":{\"type\":\"object\",\"name\":\"DataRange1d\",\"id\":\"p7890\"},\"y_range\":{\"type\":\"object\",\"name\":\"FactorRange\",\"id\":\"p7898\",\"attributes\":{\"factors\":[\"Doha\",\"Kuwait City\",\"Athens\",\"Dalaman\",\"Adana\",\"Baghdad\",\"Sharm El Sheikh\",\"Cairo\",\"Larnaca\",\"Amman\"]}},\"x_scale\":{\"type\":\"object\",\"name\":\"LinearScale\",\"id\":\"p7899\"},\"y_scale\":{\"type\":\"object\",\"name\":\"CategoricalScale\",\"id\":\"p7900\"},\"title\":{\"type\":\"object\",\"name\":\"Title\",\"id\":\"p7891\",\"attributes\":{\"text\":\"Most Diverted Departures in 2024\"}},\"outline_line_color\":null,\"renderers\":[{\"type\":\"object\",\"name\":\"GlyphRenderer\",\"id\":\"p7918\",\"attributes\":{\"data_source\":{\"type\":\"object\",\"name\":\"ColumnDataSource\",\"id\":\"p7885\",\"attributes\":{\"selected\":{\"type\":\"object\",\"name\":\"Selection\",\"id\":\"p7886\",\"attributes\":{\"indices\":[],\"line_indices\":[]}},\"selection_policy\":{\"type\":\"object\",\"name\":\"UnionRenderers\",\"id\":\"p7887\"},\"data\":{\"type\":\"map\",\"entries\":[[\"index\",{\"type\":\"ndarray\",\"array\":{\"type\":\"bytes\",\"data\":\"CQAAAAgAAAAHAAAABgAAAAUAAAAEAAAAAwAAAAIAAAABAAAAAAAAAA==\"},\"shape\":[10],\"dtype\":\"int32\",\"order\":\"little\"}],[\"airportcity\",{\"type\":\"ndarray\",\"array\":[\"Doha\",\"Kuwait City\",\"Athens\",\"Dalaman\",\"Adana\",\"Baghdad\",\"Sharm El Sheikh\",\"Cairo\",\"Larnaca\",\"Amman\"],\"shape\":[10],\"dtype\":\"object\",\"order\":\"little\"}],[\"count\",{\"type\":\"ndarray\",\"array\":{\"type\":\"bytes\",\"data\":\"AwAAAAUAAAAGAAAABwAAAAoAAAATAAAAMAAAAF0AAADbAAAA4AAAAA==\"},\"shape\":[10],\"dtype\":\"int32\",\"order\":\"little\"}]]}}},\"view\":{\"type\":\"object\",\"name\":\"CDSView\",\"id\":\"p7919\",\"attributes\":{\"filter\":{\"type\":\"object\",\"name\":\"AllIndices\",\"id\":\"p7920\"}}},\"glyph\":{\"type\":\"object\",\"name\":\"HBar\",\"id\":\"p7915\",\"attributes\":{\"y\":{\"type\":\"field\",\"field\":\"airportcity\"},\"height\":{\"type\":\"value\",\"value\":0.5},\"right\":{\"type\":\"field\",\"field\":\"count\"},\"line_color\":{\"type\":\"value\",\"value\":\"#00BFB3\"},\"line_alpha\":{\"type\":\"value\",\"value\":0.7},\"fill_color\":{\"type\":\"value\",\"value\":\"#00BFB3\"},\"fill_alpha\":{\"type\":\"value\",\"value\":0.7},\"hatch_color\":{\"type\":\"value\",\"value\":\"#00BFB3\"},\"hatch_alpha\":{\"type\":\"value\",\"value\":0.7}}},\"nonselection_glyph\":{\"type\":\"object\",\"name\":\"HBar\",\"id\":\"p7916\",\"attributes\":{\"y\":{\"type\":\"field\",\"field\":\"airportcity\"},\"height\":{\"type\":\"value\",\"value\":0.5},\"right\":{\"type\":\"field\",\"field\":\"count\"},\"line_color\":{\"type\":\"value\",\"value\":\"#00BFB3\"},\"line_alpha\":{\"type\":\"value\",\"value\":0.1},\"fill_color\":{\"type\":\"value\",\"value\":\"#00BFB3\"},\"fill_alpha\":{\"type\":\"value\",\"value\":0.1},\"hatch_color\":{\"type\":\"value\",\"value\":\"#00BFB3\"},\"hatch_alpha\":{\"type\":\"value\",\"value\":0.1}}},\"muted_glyph\":{\"type\":\"object\",\"name\":\"HBar\",\"id\":\"p7917\",\"attributes\":{\"y\":{\"type\":\"field\",\"field\":\"airportcity\"},\"height\":{\"type\":\"value\",\"value\":0.5},\"right\":{\"type\":\"field\",\"field\":\"count\"},\"line_color\":{\"type\":\"value\",\"value\":\"#00BFB3\"},\"line_alpha\":{\"type\":\"value\",\"value\":0.2},\"fill_color\":{\"type\":\"value\",\"value\":\"#00BFB3\"},\"fill_alpha\":{\"type\":\"value\",\"value\":0.2},\"hatch_color\":{\"type\":\"value\",\"value\":\"#00BFB3\"},\"hatch_alpha\":{\"type\":\"value\",\"value\":0.2}}}}},{\"type\":\"object\",\"name\":\"GlyphRenderer\",\"id\":\"p7927\",\"attributes\":{\"data_source\":{\"id\":\"p7885\"},\"view\":{\"type\":\"object\",\"name\":\"CDSView\",\"id\":\"p7928\",\"attributes\":{\"filter\":{\"type\":\"object\",\"name\":\"AllIndices\",\"id\":\"p7929\"}}},\"glyph\":{\"type\":\"object\",\"name\":\"Text\",\"id\":\"p7924\",\"attributes\":{\"x\":{\"type\":\"field\",\"field\":\"count\"},\"y\":{\"type\":\"field\",\"field\":\"airportcity\"},\"text\":{\"type\":\"field\",\"field\":\"count\"},\"x_offset\":{\"type\":\"value\",\"value\":-5},\"y_offset\":{\"type\":\"value\",\"value\":-3},\"text_color\":{\"type\":\"value\",\"value\":\"black\"},\"text_font_size\":{\"type\":\"value\",\"value\":\"10pt\"},\"text_align\":{\"type\":\"value\",\"value\":\"right\"},\"text_baseline\":{\"type\":\"value\",\"value\":\"middle\"}}},\"nonselection_glyph\":{\"type\":\"object\",\"name\":\"Text\",\"id\":\"p7925\",\"attributes\":{\"x\":{\"type\":\"field\",\"field\":\"count\"},\"y\":{\"type\":\"field\",\"field\":\"airportcity\"},\"text\":{\"type\":\"field\",\"field\":\"count\"},\"x_offset\":{\"type\":\"value\",\"value\":-5},\"y_offset\":{\"type\":\"value\",\"value\":-3},\"text_color\":{\"type\":\"value\",\"value\":\"black\"},\"text_alpha\":{\"type\":\"value\",\"value\":0.1},\"text_font_size\":{\"type\":\"value\",\"value\":\"10pt\"},\"text_align\":{\"type\":\"value\",\"value\":\"right\"},\"text_baseline\":{\"type\":\"value\",\"value\":\"middle\"}}},\"muted_glyph\":{\"type\":\"object\",\"name\":\"Text\",\"id\":\"p7926\",\"attributes\":{\"x\":{\"type\":\"field\",\"field\":\"count\"},\"y\":{\"type\":\"field\",\"field\":\"airportcity\"},\"text\":{\"type\":\"field\",\"field\":\"count\"},\"x_offset\":{\"type\":\"value\",\"value\":-5},\"y_offset\":{\"type\":\"value\",\"value\":-3},\"text_color\":{\"type\":\"value\",\"value\":\"black\"},\"text_alpha\":{\"type\":\"value\",\"value\":0.2},\"text_font_size\":{\"type\":\"value\",\"value\":\"10pt\"},\"text_align\":{\"type\":\"value\",\"value\":\"right\"},\"text_baseline\":{\"type\":\"value\",\"value\":\"middle\"}}}}}],\"toolbar\":{\"type\":\"object\",\"name\":\"Toolbar\",\"id\":\"p7897\",\"attributes\":{\"tools\":[{\"type\":\"object\",\"name\":\"SaveTool\",\"id\":\"p7911\"}]}},\"toolbar_location\":\"above\",\"left\":[{\"type\":\"object\",\"name\":\"CategoricalAxis\",\"id\":\"p7906\",\"attributes\":{\"ticker\":{\"type\":\"object\",\"name\":\"CategoricalTicker\",\"id\":\"p7907\"},\"formatter\":{\"type\":\"object\",\"name\":\"CategoricalTickFormatter\",\"id\":\"p7908\"},\"major_label_policy\":{\"type\":\"object\",\"name\":\"AllLabels\",\"id\":\"p7909\"},\"axis_line_color\":null,\"major_tick_line_color\":null,\"minor_tick_line_color\":null}}],\"below\":[{\"type\":\"object\",\"name\":\"LinearAxis\",\"id\":\"p7901\",\"attributes\":{\"visible\":false,\"ticker\":{\"type\":\"object\",\"name\":\"BasicTicker\",\"id\":\"p7902\",\"attributes\":{\"mantissas\":[1,2,5]}},\"formatter\":{\"type\":\"object\",\"name\":\"BasicTickFormatter\",\"id\":\"p7903\"},\"major_label_policy\":{\"type\":\"object\",\"name\":\"AllLabels\",\"id\":\"p7904\"}}}],\"center\":[{\"type\":\"object\",\"name\":\"Grid\",\"id\":\"p7905\",\"attributes\":{\"visible\":false,\"axis\":{\"id\":\"p7901\"}}},{\"type\":\"object\",\"name\":\"Grid\",\"id\":\"p7910\",\"attributes\":{\"visible\":false,\"dimension\":1,\"axis\":{\"id\":\"p7906\"}}}]}},{\"type\":\"object\",\"name\":\"Div\",\"id\":\"p7930\",\"attributes\":{\"width\":600,\"text\":\"<p style='font-size:12px; color:gray;'>Source: AviationStack. Acessed October 7th 2024.</p>\"}}]}}}}]}}]}}]}};\n  const render_items = [{\"docid\":\"105aaa19-a95f-4774-bdb5-bb7f34760130\",\"roots\":{\"p7935\":\"fc8ff9f5-0f81-4543-ac9b-67b6b1a5c8b3\"},\"root_ids\":[\"p7935\"]}];\n  void root.Bokeh.embed.embed_items_notebook(docs_json, render_items);\n  }\n  if (root.Bokeh !== undefined) {\n    embed_document(root);\n  } else {\n    let attempts = 0;\n    const timer = setInterval(function(root) {\n      if (root.Bokeh !== undefined) {\n        clearInterval(timer);\n        embed_document(root);\n      } else {\n        attempts++;\n        if (attempts > 100) {\n          clearInterval(timer);\n          console.log(\"Bokeh: ERROR: Unable to run BokehJS code because BokehJS library is missing\");\n        }\n      }\n    }, 10, root)\n  }\n})(window);",
      "application/vnd.bokehjs_exec.v0+json": ""
     },
     "metadata": {
      "application/vnd.bokehjs_exec.v0+json": {
       "id": "p7935"
      }
     },
     "output_type": "display_data"
    }
   ],
   "source": [
    "output_notebook()\n",
    "from bokeh.layouts import column\n",
    "from bokeh.models import Div\n",
    "\n",
    "# Example datasets stored in a dictionary\n",
    "datasets = {\n",
    "    \"Most Changed Departures\": most_changed_departures,\n",
    "    \"Most Cancelled Departures\": most_cancelled_departures,\n",
    "    \"Most Scheduled Departures\": most_scheduled_departures,\n",
    "    \"Most Diverted Departures\": most_diverted_departures\n",
    "}\n",
    "\n",
    "# Initialize an empty list to store the tabs\n",
    "# List of colors to use for each dataset\n",
    "colors = [\"lightblue\", \"orange\", \"#023436\", \"#00BFB3\"]\n",
    "\n",
    "# Initialize an empty list to store the tabs\n",
    "tabs = []\n",
    "\n",
    "# Loop through each dataset and its corresponding color\n",
    "for (title, data), color in zip(datasets.items(), colors):\n",
    "    # Convert data to ColumnDataSource for Bokeh plotting\n",
    "    source = ColumnDataSource(data)\n",
    "\n",
    "    # Create a figure for each dataset\n",
    "    p = figure(y_range=data['airportcity'], width=600, height=400, title=title + \" in 2024\", tools=\"save\", toolbar_location=\"above\")\n",
    "    p.hbar(y='airportcity', right='count', height=0.5, color=color, alpha=0.7, source=source)\n",
    "\n",
    "    # Add text inside the bars (5 points inside the bar)\n",
    "    p.text(x='count', y='airportcity', text='count', source=source, \n",
    "           x_offset=-5,  # This places the text 5 units inside the bar\n",
    "           y_offset=-3,  # Vertical alignment\n",
    "           text_align='right', text_baseline='middle', text_color=\"black\", text_font_size=\"10pt\")\n",
    "\n",
    "    # Customize plot (optional)\n",
    "    p.xaxis.visible = False\n",
    "    p.ygrid.visible = False\n",
    "    p.xgrid.visible = False\n",
    "    p.yaxis.major_tick_line_color = None  # No major ticks\n",
    "    p.yaxis.minor_tick_line_color = None  # No minor ticks\n",
    "    p.yaxis.axis_line_color = None  \n",
    "    p.outline_line_color = None\n",
    "\n",
    "    subtitle = Div(text=f\"<p style='font-size:12px; color:gray;'>Source: AviationStack. Acessed October 7th 2024.</p>\", width=600)\n",
    "\n",
    "    layout = column(p, subtitle)\n",
    "\n",
    "    # Create a panel with the plot and the corresponding title\n",
    "    tab = TabPanel(child=layout, title=title)\n",
    "\n",
    "    # Append the panel to the list of tabs\n",
    "    tabs.append(tab)\n",
    "\n",
    "# Arrange the tabs in a Tabs layout\n",
    "tabs_layout = Tabs(tabs=tabs)\n",
    "\n",
    "main_title = Div(text=\"<h2>Top 10 Destinations with Changes in Departures from BEY in 2024</h2>\", width=800)\n",
    "\n",
    "# Use column layout to stack the title on top of the tabs\n",
    "layout = column(main_title, tabs_layout)\n",
    "\n",
    "# Show the tabs\n",
    "show(layout)"
   ]
  },
  {
   "cell_type": "markdown",
   "metadata": {},
   "source": [
    "### Findings \n",
    "\n",
    "- The airport with the most number of diversions is Amman. Flights to Cairo were scheduled but were either cancelled or diverted. \n",
    "- Flights to Frankfurt were cancelled the most. This could be because the Lufthansa group [suspended flight to Lebanon in July](https://www.al-monitor.com/originals/2024/07/lufthansa-cancels-night-flights-lebanon-us-others-issue-travel-warnings)."
   ]
  },
  {
   "cell_type": "code",
   "execution_count": 131,
   "metadata": {
    "tags": [
     "remove-input"
    ]
   },
   "outputs": [
    {
     "data": {
      "text/html": [
       "    <style>\n",
       "        .bk-notebook-logo {\n",
       "            display: block;\n",
       "            width: 20px;\n",
       "            height: 20px;\n",
       "            background-image: url(data:image/png;base64,iVBORw0KGgoAAAANSUhEUgAAABQAAAAUCAYAAACNiR0NAAAABHNCSVQICAgIfAhkiAAAAAlwSFlzAAALEgAACxIB0t1+/AAAABx0RVh0U29mdHdhcmUAQWRvYmUgRmlyZXdvcmtzIENTNui8sowAAAOkSURBVDiNjZRtaJVlGMd/1/08zzln5zjP1LWcU9N0NkN8m2CYjpgQYQXqSs0I84OLIC0hkEKoPtiH3gmKoiJDU7QpLgoLjLIQCpEsNJ1vqUOdO7ppbuec5+V+rj4ctwzd8IIbbi6u+8f1539dt3A78eXC7QizUF7gyV1fD1Yqg4JWz84yffhm0qkFqBogB9rM8tZdtwVsPUhWhGcFJngGeWrPzHm5oaMmkfEg1usvLFyc8jLRqDOMru7AyC8saQr7GG7f5fvDeH7Ej8CM66nIF+8yngt6HWaKh7k49Soy9nXurCi1o3qUbS3zWfrYeQDTB/Qj6kX6Ybhw4B+bOYoLKCC9H3Nu/leUTZ1JdRWkkn2ldcCamzrcf47KKXdAJllSlxAOkRgyHsGC/zRday5Qld9DyoM4/q/rUoy/CXh3jzOu3bHUVZeU+DEn8FInkPBFlu3+nW3Nw0mk6vCDiWg8CeJaxEwuHS3+z5RgY+YBR6V1Z1nxSOfoaPa4LASWxxdNp+VWTk7+4vzaou8v8PN+xo+KY2xsw6une2frhw05CTYOmQvsEhjhWjn0bmXPjpE1+kplmmkP3suftwTubK9Vq22qKmrBhpY4jvd5afdRA3wGjFAgcnTK2s4hY0/GPNIb0nErGMCRxWOOX64Z8RAC4oCXdklmEvcL8o0BfkNK4lUg9HTl+oPlQxdNo3Mg4Nv175e/1LDGzZen30MEjRUtmXSfiTVu1kK8W4txyV6BMKlbgk3lMwYCiusNy9fVfvvwMxv8Ynl6vxoByANLTWplvuj/nF9m2+PDtt1eiHPBr1oIfhCChQMBw6Aw0UulqTKZdfVvfG7VcfIqLG9bcldL/+pdWTLxLUy8Qq38heUIjh4XlzZxzQm19lLFlr8vdQ97rjZVOLf8nclzckbcD4wxXMidpX30sFd37Fv/GtwwhzhxGVAprjbg0gCAEeIgwCZyTV2Z1REEW8O4py0wsjeloKoMr6iCY6dP92H6Vw/oTyICIthibxjm/DfN9lVz8IqtqKYLUXfoKVMVQVVJOElGjrnnUt9T9wbgp8AyYKaGlqingHZU/uG2NTZSVqwHQTWkx9hxjkpWDaCg6Ckj5qebgBVbT3V3NNXMSiWSDdGV3hrtzla7J+duwPOToIg42ChPQOQjspnSlp1V+Gjdged7+8UN5CRAV7a5EdFNwCjEaBR27b3W890TE7g24NAP/mMDXRWrGoFPQI9ls/MWO2dWFAar/xcOIImbbpA3zgAAAABJRU5ErkJggg==);\n",
       "        }\n",
       "    </style>\n",
       "    <div>\n",
       "        <a href=\"https://bokeh.org\" target=\"_blank\" class=\"bk-notebook-logo\"></a>\n",
       "        <span id=\"f0c6a039-ca67-45a3-9298-36bd0f106074\">Loading BokehJS ...</span>\n",
       "    </div>\n"
      ]
     },
     "metadata": {},
     "output_type": "display_data"
    },
    {
     "data": {
      "application/javascript": "'use strict';\n(function(root) {\n  function now() {\n    return new Date();\n  }\n\n  const force = true;\n\n  if (typeof root._bokeh_onload_callbacks === \"undefined\" || force === true) {\n    root._bokeh_onload_callbacks = [];\n    root._bokeh_is_loading = undefined;\n  }\n\nconst JS_MIME_TYPE = 'application/javascript';\n  const HTML_MIME_TYPE = 'text/html';\n  const EXEC_MIME_TYPE = 'application/vnd.bokehjs_exec.v0+json';\n  const CLASS_NAME = 'output_bokeh rendered_html';\n\n  /**\n   * Render data to the DOM node\n   */\n  function render(props, node) {\n    const script = document.createElement(\"script\");\n    node.appendChild(script);\n  }\n\n  /**\n   * Handle when an output is cleared or removed\n   */\n  function handleClearOutput(event, handle) {\n    function drop(id) {\n      const view = Bokeh.index.get_by_id(id)\n      if (view != null) {\n        view.model.document.clear()\n        Bokeh.index.delete(view)\n      }\n    }\n\n    const cell = handle.cell;\n\n    const id = cell.output_area._bokeh_element_id;\n    const server_id = cell.output_area._bokeh_server_id;\n\n    // Clean up Bokeh references\n    if (id != null) {\n      drop(id)\n    }\n\n    if (server_id !== undefined) {\n      // Clean up Bokeh references\n      const cmd_clean = \"from bokeh.io.state import curstate; print(curstate().uuid_to_server['\" + server_id + \"'].get_sessions()[0].document.roots[0]._id)\";\n      cell.notebook.kernel.execute(cmd_clean, {\n        iopub: {\n          output: function(msg) {\n            const id = msg.content.text.trim()\n            drop(id)\n          }\n        }\n      });\n      // Destroy server and session\n      const cmd_destroy = \"import bokeh.io.notebook as ion; ion.destroy_server('\" + server_id + \"')\";\n      cell.notebook.kernel.execute(cmd_destroy);\n    }\n  }\n\n  /**\n   * Handle when a new output is added\n   */\n  function handleAddOutput(event, handle) {\n    const output_area = handle.output_area;\n    const output = handle.output;\n\n    // limit handleAddOutput to display_data with EXEC_MIME_TYPE content only\n    if ((output.output_type != \"display_data\") || (!Object.prototype.hasOwnProperty.call(output.data, EXEC_MIME_TYPE))) {\n      return\n    }\n\n    const toinsert = output_area.element.find(\".\" + CLASS_NAME.split(' ')[0]);\n\n    if (output.metadata[EXEC_MIME_TYPE][\"id\"] !== undefined) {\n      toinsert[toinsert.length - 1].firstChild.textContent = output.data[JS_MIME_TYPE];\n      // store reference to embed id on output_area\n      output_area._bokeh_element_id = output.metadata[EXEC_MIME_TYPE][\"id\"];\n    }\n    if (output.metadata[EXEC_MIME_TYPE][\"server_id\"] !== undefined) {\n      const bk_div = document.createElement(\"div\");\n      bk_div.innerHTML = output.data[HTML_MIME_TYPE];\n      const script_attrs = bk_div.children[0].attributes;\n      for (let i = 0; i < script_attrs.length; i++) {\n        toinsert[toinsert.length - 1].firstChild.setAttribute(script_attrs[i].name, script_attrs[i].value);\n        toinsert[toinsert.length - 1].firstChild.textContent = bk_div.children[0].textContent\n      }\n      // store reference to server id on output_area\n      output_area._bokeh_server_id = output.metadata[EXEC_MIME_TYPE][\"server_id\"];\n    }\n  }\n\n  function register_renderer(events, OutputArea) {\n\n    function append_mime(data, metadata, element) {\n      // create a DOM node to render to\n      const toinsert = this.create_output_subarea(\n        metadata,\n        CLASS_NAME,\n        EXEC_MIME_TYPE\n      );\n      this.keyboard_manager.register_events(toinsert);\n      // Render to node\n      const props = {data: data, metadata: metadata[EXEC_MIME_TYPE]};\n      render(props, toinsert[toinsert.length - 1]);\n      element.append(toinsert);\n      return toinsert\n    }\n\n    /* Handle when an output is cleared or removed */\n    events.on('clear_output.CodeCell', handleClearOutput);\n    events.on('delete.Cell', handleClearOutput);\n\n    /* Handle when a new output is added */\n    events.on('output_added.OutputArea', handleAddOutput);\n\n    /**\n     * Register the mime type and append_mime function with output_area\n     */\n    OutputArea.prototype.register_mime_type(EXEC_MIME_TYPE, append_mime, {\n      /* Is output safe? */\n      safe: true,\n      /* Index of renderer in `output_area.display_order` */\n      index: 0\n    });\n  }\n\n  // register the mime type if in Jupyter Notebook environment and previously unregistered\n  if (root.Jupyter !== undefined) {\n    const events = require('base/js/events');\n    const OutputArea = require('notebook/js/outputarea').OutputArea;\n\n    if (OutputArea.prototype.mime_types().indexOf(EXEC_MIME_TYPE) == -1) {\n      register_renderer(events, OutputArea);\n    }\n  }\n  if (typeof (root._bokeh_timeout) === \"undefined\" || force === true) {\n    root._bokeh_timeout = Date.now() + 5000;\n    root._bokeh_failed_load = false;\n  }\n\n  const NB_LOAD_WARNING = {'data': {'text/html':\n     \"<div style='background-color: #fdd'>\\n\"+\n     \"<p>\\n\"+\n     \"BokehJS does not appear to have successfully loaded. If loading BokehJS from CDN, this \\n\"+\n     \"may be due to a slow or bad network connection. Possible fixes:\\n\"+\n     \"</p>\\n\"+\n     \"<ul>\\n\"+\n     \"<li>re-rerun `output_notebook()` to attempt to load from CDN again, or</li>\\n\"+\n     \"<li>use INLINE resources instead, as so:</li>\\n\"+\n     \"</ul>\\n\"+\n     \"<code>\\n\"+\n     \"from bokeh.resources import INLINE\\n\"+\n     \"output_notebook(resources=INLINE)\\n\"+\n     \"</code>\\n\"+\n     \"</div>\"}};\n\n  function display_loaded(error = null) {\n    const el = document.getElementById(\"f0c6a039-ca67-45a3-9298-36bd0f106074\");\n    if (el != null) {\n      const html = (() => {\n        if (typeof root.Bokeh === \"undefined\") {\n          if (error == null) {\n            return \"BokehJS is loading ...\";\n          } else {\n            return \"BokehJS failed to load.\";\n          }\n        } else {\n          const prefix = `BokehJS ${root.Bokeh.version}`;\n          if (error == null) {\n            return `${prefix} successfully loaded.`;\n          } else {\n            return `${prefix} <b>encountered errors</b> while loading and may not function as expected.`;\n          }\n        }\n      })();\n      el.innerHTML = html;\n\n      if (error != null) {\n        const wrapper = document.createElement(\"div\");\n        wrapper.style.overflow = \"auto\";\n        wrapper.style.height = \"5em\";\n        wrapper.style.resize = \"vertical\";\n        const content = document.createElement(\"div\");\n        content.style.fontFamily = \"monospace\";\n        content.style.whiteSpace = \"pre-wrap\";\n        content.style.backgroundColor = \"rgb(255, 221, 221)\";\n        content.textContent = error.stack ?? error.toString();\n        wrapper.append(content);\n        el.append(wrapper);\n      }\n    } else if (Date.now() < root._bokeh_timeout) {\n      setTimeout(() => display_loaded(error), 100);\n    }\n  }\n\n  function run_callbacks() {\n    try {\n      root._bokeh_onload_callbacks.forEach(function(callback) {\n        if (callback != null)\n          callback();\n      });\n    } finally {\n      delete root._bokeh_onload_callbacks\n    }\n    console.debug(\"Bokeh: all callbacks have finished\");\n  }\n\n  function load_libs(css_urls, js_urls, callback) {\n    if (css_urls == null) css_urls = [];\n    if (js_urls == null) js_urls = [];\n\n    root._bokeh_onload_callbacks.push(callback);\n    if (root._bokeh_is_loading > 0) {\n      console.debug(\"Bokeh: BokehJS is being loaded, scheduling callback at\", now());\n      return null;\n    }\n    if (js_urls == null || js_urls.length === 0) {\n      run_callbacks();\n      return null;\n    }\n    console.debug(\"Bokeh: BokehJS not loaded, scheduling load and callback at\", now());\n    root._bokeh_is_loading = css_urls.length + js_urls.length;\n\n    function on_load() {\n      root._bokeh_is_loading--;\n      if (root._bokeh_is_loading === 0) {\n        console.debug(\"Bokeh: all BokehJS libraries/stylesheets loaded\");\n        run_callbacks()\n      }\n    }\n\n    function on_error(url) {\n      console.error(\"failed to load \" + url);\n    }\n\n    for (let i = 0; i < css_urls.length; i++) {\n      const url = css_urls[i];\n      const element = document.createElement(\"link\");\n      element.onload = on_load;\n      element.onerror = on_error.bind(null, url);\n      element.rel = \"stylesheet\";\n      element.type = \"text/css\";\n      element.href = url;\n      console.debug(\"Bokeh: injecting link tag for BokehJS stylesheet: \", url);\n      document.body.appendChild(element);\n    }\n\n    for (let i = 0; i < js_urls.length; i++) {\n      const url = js_urls[i];\n      const element = document.createElement('script');\n      element.onload = on_load;\n      element.onerror = on_error.bind(null, url);\n      element.async = false;\n      element.src = url;\n      console.debug(\"Bokeh: injecting script tag for BokehJS library: \", url);\n      document.head.appendChild(element);\n    }\n  };\n\n  function inject_raw_css(css) {\n    const element = document.createElement(\"style\");\n    element.appendChild(document.createTextNode(css));\n    document.body.appendChild(element);\n  }\n\n  const js_urls = [\"https://cdn.bokeh.org/bokeh/release/bokeh-3.4.1.min.js\", \"https://cdn.bokeh.org/bokeh/release/bokeh-gl-3.4.1.min.js\", \"https://cdn.bokeh.org/bokeh/release/bokeh-widgets-3.4.1.min.js\", \"https://cdn.bokeh.org/bokeh/release/bokeh-tables-3.4.1.min.js\", \"https://cdn.bokeh.org/bokeh/release/bokeh-mathjax-3.4.1.min.js\"];\n  const css_urls = [];\n\n  const inline_js = [    function(Bokeh) {\n      Bokeh.set_log_level(\"info\");\n    },\nfunction(Bokeh) {\n    }\n  ];\n\n  function run_inline_js() {\n    if (root.Bokeh !== undefined || force === true) {\n      try {\n            for (let i = 0; i < inline_js.length; i++) {\n      inline_js[i].call(root, root.Bokeh);\n    }\n\n      } catch (error) {display_loaded(error);throw error;\n      }if (force === true) {\n        display_loaded();\n      }} else if (Date.now() < root._bokeh_timeout) {\n      setTimeout(run_inline_js, 100);\n    } else if (!root._bokeh_failed_load) {\n      console.log(\"Bokeh: BokehJS failed to load within specified timeout.\");\n      root._bokeh_failed_load = true;\n    } else if (force !== true) {\n      const cell = $(document.getElementById(\"f0c6a039-ca67-45a3-9298-36bd0f106074\")).parents('.cell').data().cell;\n      cell.output_area.append_execute_result(NB_LOAD_WARNING)\n    }\n  }\n\n  if (root._bokeh_is_loading === 0) {\n    console.debug(\"Bokeh: BokehJS loaded, going straight to plotting\");\n    run_inline_js();\n  } else {\n    load_libs(css_urls, js_urls, function() {\n      console.debug(\"Bokeh: BokehJS plotting callback run at\", now());\n      run_inline_js();\n    });\n  }\n}(window));",
      "application/vnd.bokehjs_load.v0+json": ""
     },
     "metadata": {},
     "output_type": "display_data"
    },
    {
     "data": {
      "text/html": [
       "\n",
       "  <div id=\"f19bd328-7e46-4adf-9311-c5c1f72696a0\" data-root-id=\"p8847\" style=\"display: contents;\"></div>\n"
      ]
     },
     "metadata": {},
     "output_type": "display_data"
    },
    {
     "data": {
      "application/javascript": "(function(root) {\n  function embed_document(root) {\n  const docs_json = {\"0603059f-43fe-4dfd-a3b3-937c73c01fa9\":{\"version\":\"3.4.1\",\"title\":\"Bokeh Application\",\"roots\":[{\"type\":\"object\",\"name\":\"Figure\",\"id\":\"p8847\",\"attributes\":{\"width\":800,\"x_range\":{\"type\":\"object\",\"name\":\"DataRange1d\",\"id\":\"p8848\"},\"y_range\":{\"type\":\"object\",\"name\":\"DataRange1d\",\"id\":\"p8849\",\"attributes\":{\"start\":0,\"end\":1132}},\"x_scale\":{\"type\":\"object\",\"name\":\"LinearScale\",\"id\":\"p8857\"},\"y_scale\":{\"type\":\"object\",\"name\":\"LinearScale\",\"id\":\"p8858\"},\"title\":{\"type\":\"object\",\"name\":\"Title\",\"id\":\"p8850\",\"attributes\":{\"text\":\"Weekly Departures from BEY\"}},\"renderers\":[{\"type\":\"object\",\"name\":\"GlyphRenderer\",\"id\":\"p8908\",\"attributes\":{\"name\":\"active\",\"data_source\":{\"type\":\"object\",\"name\":\"ColumnDataSource\",\"id\":\"p8844\",\"attributes\":{\"selected\":{\"type\":\"object\",\"name\":\"Selection\",\"id\":\"p8845\",\"attributes\":{\"indices\":[],\"line_indices\":[]}},\"selection_policy\":{\"type\":\"object\",\"name\":\"UnionRenderers\",\"id\":\"p8846\"},\"data\":{\"type\":\"map\",\"entries\":[[\"index\",{\"type\":\"ndarray\",\"array\":{\"type\":\"bytes\",\"data\":\"AAAAAAEAAAACAAAAAwAAAAQAAAAFAAAABgAAAAcAAAAIAAAACQAAAAoAAAALAAAADAAAAA0AAAAOAAAADwAAABAAAAARAAAAEgAAABMAAAAUAAAAFQAAABYAAAAXAAAAGAAAABkAAAAaAAAAGwAAABwAAAAdAAAAHgAAAB8AAAAgAAAAIQAAACIAAAAjAAAAJAAAACUAAAAmAAAAJwAAACgAAAA=\"},\"shape\":[41],\"dtype\":\"int32\",\"order\":\"little\"}],[\"flight_date\",{\"type\":\"ndarray\",\"array\":{\"type\":\"bytes\",\"data\":\"AADAgRPOeEIAAABKVNB4QgAAQBKV0nhCAACA2tXUeEIAAMCiFtd4QgAAAGtX2XhCAABAM5jbeEIAAID72N14QgAAwMMZ4HhCAAAAjFrieEIAAEBUm+R4QgAAgBzc5nhCAADA5BzpeEIAAACtXet4QgAAQHWe7XhCAACAPd/veEIAAMAFIPJ4QgAAAM5g9HhCAABAlqH2eEIAAIBe4vh4QgAAwCYj+3hCAAAA72P9eEIAAEC3pP94QgAAgH/lAXlCAADARyYEeUIAAAAQZwZ5QgAAQNinCHlCAACAoOgKeUIAAMBoKQ15QgAAADFqD3lCAABA+aoReUIAAIDB6xN5QgAAwIksFnlCAAAAUm0YeUIAAEAarhp5QgAAgOLuHHlCAADAqi8feUIAAABzcCF5QgAAQDuxI3lCAACAA/IleUIAAMDLMih5Qg==\"},\"shape\":[41],\"dtype\":\"float64\",\"order\":\"little\"}],[\"active\",{\"type\":\"ndarray\",\"array\":{\"type\":\"bytes\",\"data\":\"AAAAAAAASkAAAAAAAAA+QAAAAAAAADlAAAAAAAAAOEAAAAAAAAAwQAAAAAAAADJAAAAAAAAAOkAAAAAAAIBJQAAAAAAAAEZAAAAAAAAAPEAAAAAAAIBEQAAAAAAAAD9AAAAAAAAAS0AAAAAAAIBOQAAAAAAAQFNAAAAAAAAATEAAAAAAAIBIQAAAAAAAAENAAAAAAACARkAAAAAAAABKQAAAAAAAAEVAAAAAAACATUAAAAAAAIBDQAAAAAAAQFBAAAAAAACATUAAAAAAAABSQAAAAAAAgFFAAAAAAACASUAAAAAAAIBQQAAAAAAAAFJAAAAAAACAVkAAAAAAAEBSQAAAAAAAgE5AAAAAAABAUUAAAAAAAAAzQAAAAAAAACZAAAAAAAAAM0AAAAAAAAAmQAAAAAAAABxAAAAAAAAAMEAAAAAAAAAiQA==\"},\"shape\":[41],\"dtype\":\"float64\",\"order\":\"little\"}],[\"cancelled\",{\"type\":\"ndarray\",\"array\":{\"type\":\"bytes\",\"data\":\"AAAAAAAACEAAAAAAAADwPwAAAAAAAPA/AAAAAAAAAEAAAAAAAAAIQAAAAAAAAABAAAAAAAAAAEAAAAAAAADwPwAAAAAAAAAAAAAAAAAAFEAAAAAAAAAQQAAAAAAAAAhAAAAAAAAAAEAAAAAAAAAUQAAAAAAAADZAAAAAAAAAQkAAAAAAAAAsQAAAAAAAABhAAAAAAAAAFEAAAAAAAAAYQAAAAAAAABhAAAAAAAAACEAAAAAAAAAAAAAAAAAAABRAAAAAAAAAGEAAAAAAAAAUQAAAAAAAACZAAAAAAAAAGEAAAAAAAAAIQAAAAAAAABRAAAAAAACAWUAAAAAAAIBDQAAAAAAAADVAAAAAAACAQUAAAAAAAAAQQAAAAAAAABBAAAAAAAAAAAAAAAAAAAAUQAAAAAAAADNAAAAAAAAALkAAAAAAAAAAQA==\"},\"shape\":[41],\"dtype\":\"float64\",\"order\":\"little\"}],[\"diverted\",{\"type\":\"ndarray\",\"array\":{\"type\":\"bytes\",\"data\":\"AAAAAAAAEEAAAAAAAAAIQAAAAAAAAPA/AAAAAAAA8D8AAAAAAAAAQAAAAAAAAPA/AAAAAAAAEEAAAAAAAAAAQAAAAAAAACRAAAAAAAAAGEAAAAAAAAAUQAAAAAAAACRAAAAAAAAAIEAAAAAAAAAkQAAAAAAAADdAAAAAAAAAOEAAAAAAAABDQAAAAAAAADlAAAAAAAAAQEAAAAAAAAA8QAAAAAAAgEJAAAAAAAAAPEAAAAAAAAAcQAAAAAAAADdAAAAAAACAQkAAAAAAAAA+QAAAAAAAADhAAAAAAACAQ0AAAAAAAABDQAAAAAAAAEJAAAAAAAAAOkAAAAAAAAA9QAAAAAAAAD9AAAAAAAAAOUAAAAAAAAAkQAAAAAAAACZAAAAAAAAAGEAAAAAAAAAIQAAAAAAAAAAAAAAAAAAAAAAAAAAAAAAAAA==\"},\"shape\":[41],\"dtype\":\"float64\",\"order\":\"little\"}],[\"landed\",{\"type\":\"ndarray\",\"array\":{\"type\":\"bytes\",\"data\":\"AAAAAAAgeEAAAAAAAGB1QAAAAAAAEHZAAAAAAACAcUAAAAAAAEBrQAAAAAAAYHVAAAAAAACwdEAAAAAAAKByQAAAAAAAYHNAAAAAAAAQdEAAAAAAAIBzQAAAAAAAkHRAAAAAAADwdUAAAAAAACB3QAAAAAAAcHVAAAAAAABAdEAAAAAAAOBzQAAAAAAAwHBAAAAAAACQd0AAAAAAAEB3QAAAAAAAsHZAAAAAAADQd0AAAAAAAMBaQAAAAAAAIH5AAAAAAABIgEAAAAAAAECAQAAAAAAAoH5AAAAAAADwgEAAAAAAAACAQAAAAAAAgH9AAAAAAAAQeUAAAAAAAIB5QAAAAAAAUH1AAAAAAADAfUAAAAAAAIBhQAAAAAAAgF1AAAAAAABAV0AAAAAAAABOQAAAAAAAAD1AAAAAAAAASUAAAAAAAIBAQA==\"},\"shape\":[41],\"dtype\":\"float64\",\"order\":\"little\"}],[\"scheduled\",{\"type\":\"ndarray\",\"array\":{\"type\":\"bytes\",\"data\":\"AAAAAAAAS0AAAAAAAIBIQAAAAAAAADlAAAAAAACAQEAAAAAAAAA3QAAAAAAAAEBAAAAAAACAQUAAAAAAAABHQAAAAAAAAEVAAAAAAAAARkAAAAAAAAA9QAAAAAAAgEFAAAAAAAAAP0AAAAAAAABLQAAAAAAAAEtAAAAAAAAAUUAAAAAAAEBQQAAAAAAAADxAAAAAAACAQUAAAAAAAIBDQAAAAAAAAEVAAAAAAAAAR0AAAAAAAIBTQAAAAAAAgFBAAAAAAAAARUAAAAAAAIBJQAAAAAAAgE5AAAAAAACARUAAAAAAAEBRQAAAAAAAAEdAAAAAAAAAVkAAAAAAAEBcQAAAAAAAgFRAAAAAAACATkAAAAAAAAA8QAAAAAAAADJAAAAAAAAAIkAAAAAAAAAUQAAAAAAAABhAAAAAAAAAKkAAAAAAAAAcQA==\"},\"shape\":[41],\"dtype\":\"float64\",\"order\":\"little\"}],[\"unknown\",{\"type\":\"ndarray\",\"array\":{\"type\":\"bytes\",\"data\":\"AAAAAAAAEEAAAAAAAAAkQAAAAAAAABxAAAAAAAAAKkAAAAAAAAAkQAAAAAAAACpAAAAAAAAAJkAAAAAAAAAqQAAAAAAAABhAAAAAAAAAEEAAAAAAAAAcQAAAAAAAACJAAAAAAAAAJkAAAAAAAAAIQAAAAAAAABxAAAAAAAAAGEAAAAAAAAAiQAAAAAAAABRAAAAAAAAAEEAAAAAAAAAUQAAAAAAAACBAAAAAAAAAJEAAAAAAAAAUQAAAAAAAACJAAAAAAAAAM0AAAAAAAAAyQAAAAAAAAAhAAAAAAAAAGEAAAAAAAAAcQAAAAAAAABhAAAAAAAAAM0AAAAAAAABHQAAAAAAAADtAAAAAAAAAPEAAAAAAAAAoQAAAAAAAACBAAAAAAAAAGEAAAAAAAAAcQAAAAAAAADNAAAAAAACAQUAAAAAAAAA4QA==\"},\"shape\":[41],\"dtype\":\"float64\",\"order\":\"little\"}]]}}},\"view\":{\"type\":\"object\",\"name\":\"CDSView\",\"id\":\"p8909\",\"attributes\":{\"filter\":{\"type\":\"object\",\"name\":\"AllIndices\",\"id\":\"p8910\"}}},\"glyph\":{\"type\":\"object\",\"name\":\"VArea\",\"id\":\"p8905\",\"attributes\":{\"x\":{\"type\":\"field\",\"field\":\"flight_date\"},\"y1\":{\"type\":\"expr\",\"expr\":{\"type\":\"object\",\"name\":\"Stack\",\"id\":\"p8890\",\"attributes\":{\"fields\":[]}}},\"y2\":{\"type\":\"expr\",\"expr\":{\"type\":\"object\",\"name\":\"Stack\",\"id\":\"p8891\",\"attributes\":{\"fields\":[\"active\"]}}},\"fill_color\":\"#3288bd\",\"hatch_color\":{\"type\":\"value\",\"value\":\"#3288bd\"}}},\"nonselection_glyph\":{\"type\":\"object\",\"name\":\"VArea\",\"id\":\"p8906\",\"attributes\":{\"x\":{\"type\":\"field\",\"field\":\"flight_date\"},\"y1\":{\"type\":\"expr\",\"expr\":{\"id\":\"p8890\"}},\"y2\":{\"type\":\"expr\",\"expr\":{\"id\":\"p8891\"}},\"fill_color\":\"#3288bd\",\"fill_alpha\":0.1,\"hatch_color\":{\"type\":\"value\",\"value\":\"#3288bd\"},\"hatch_alpha\":{\"type\":\"value\",\"value\":0.1}}},\"muted_glyph\":{\"type\":\"object\",\"name\":\"VArea\",\"id\":\"p8907\",\"attributes\":{\"x\":{\"type\":\"field\",\"field\":\"flight_date\"},\"y1\":{\"type\":\"expr\",\"expr\":{\"id\":\"p8890\"}},\"y2\":{\"type\":\"expr\",\"expr\":{\"id\":\"p8891\"}},\"fill_color\":\"#3288bd\",\"fill_alpha\":0.2,\"hatch_color\":{\"type\":\"value\",\"value\":\"#3288bd\"},\"hatch_alpha\":{\"type\":\"value\",\"value\":0.2}}}}},{\"type\":\"object\",\"name\":\"GlyphRenderer\",\"id\":\"p8919\",\"attributes\":{\"name\":\"cancelled\",\"data_source\":{\"id\":\"p8844\"},\"view\":{\"type\":\"object\",\"name\":\"CDSView\",\"id\":\"p8920\",\"attributes\":{\"filter\":{\"type\":\"object\",\"name\":\"AllIndices\",\"id\":\"p8921\"}}},\"glyph\":{\"type\":\"object\",\"name\":\"VArea\",\"id\":\"p8916\",\"attributes\":{\"x\":{\"type\":\"field\",\"field\":\"flight_date\"},\"y1\":{\"type\":\"expr\",\"expr\":{\"type\":\"object\",\"name\":\"Stack\",\"id\":\"p8892\",\"attributes\":{\"fields\":[\"active\"]}}},\"y2\":{\"type\":\"expr\",\"expr\":{\"type\":\"object\",\"name\":\"Stack\",\"id\":\"p8893\",\"attributes\":{\"fields\":[\"active\",\"cancelled\"]}}},\"fill_color\":\"#99d594\",\"hatch_color\":{\"type\":\"value\",\"value\":\"#99d594\"}}},\"nonselection_glyph\":{\"type\":\"object\",\"name\":\"VArea\",\"id\":\"p8917\",\"attributes\":{\"x\":{\"type\":\"field\",\"field\":\"flight_date\"},\"y1\":{\"type\":\"expr\",\"expr\":{\"id\":\"p8892\"}},\"y2\":{\"type\":\"expr\",\"expr\":{\"id\":\"p8893\"}},\"fill_color\":\"#99d594\",\"fill_alpha\":0.1,\"hatch_color\":{\"type\":\"value\",\"value\":\"#99d594\"},\"hatch_alpha\":{\"type\":\"value\",\"value\":0.1}}},\"muted_glyph\":{\"type\":\"object\",\"name\":\"VArea\",\"id\":\"p8918\",\"attributes\":{\"x\":{\"type\":\"field\",\"field\":\"flight_date\"},\"y1\":{\"type\":\"expr\",\"expr\":{\"id\":\"p8892\"}},\"y2\":{\"type\":\"expr\",\"expr\":{\"id\":\"p8893\"}},\"fill_color\":\"#99d594\",\"fill_alpha\":0.2,\"hatch_color\":{\"type\":\"value\",\"value\":\"#99d594\"},\"hatch_alpha\":{\"type\":\"value\",\"value\":0.2}}}}},{\"type\":\"object\",\"name\":\"GlyphRenderer\",\"id\":\"p8929\",\"attributes\":{\"name\":\"diverted\",\"data_source\":{\"id\":\"p8844\"},\"view\":{\"type\":\"object\",\"name\":\"CDSView\",\"id\":\"p8930\",\"attributes\":{\"filter\":{\"type\":\"object\",\"name\":\"AllIndices\",\"id\":\"p8931\"}}},\"glyph\":{\"type\":\"object\",\"name\":\"VArea\",\"id\":\"p8926\",\"attributes\":{\"x\":{\"type\":\"field\",\"field\":\"flight_date\"},\"y1\":{\"type\":\"expr\",\"expr\":{\"type\":\"object\",\"name\":\"Stack\",\"id\":\"p8894\",\"attributes\":{\"fields\":[\"active\",\"cancelled\"]}}},\"y2\":{\"type\":\"expr\",\"expr\":{\"type\":\"object\",\"name\":\"Stack\",\"id\":\"p8895\",\"attributes\":{\"fields\":[\"active\",\"cancelled\",\"diverted\"]}}},\"fill_color\":\"#e6f598\",\"hatch_color\":{\"type\":\"value\",\"value\":\"#e6f598\"}}},\"nonselection_glyph\":{\"type\":\"object\",\"name\":\"VArea\",\"id\":\"p8927\",\"attributes\":{\"x\":{\"type\":\"field\",\"field\":\"flight_date\"},\"y1\":{\"type\":\"expr\",\"expr\":{\"id\":\"p8894\"}},\"y2\":{\"type\":\"expr\",\"expr\":{\"id\":\"p8895\"}},\"fill_color\":\"#e6f598\",\"fill_alpha\":0.1,\"hatch_color\":{\"type\":\"value\",\"value\":\"#e6f598\"},\"hatch_alpha\":{\"type\":\"value\",\"value\":0.1}}},\"muted_glyph\":{\"type\":\"object\",\"name\":\"VArea\",\"id\":\"p8928\",\"attributes\":{\"x\":{\"type\":\"field\",\"field\":\"flight_date\"},\"y1\":{\"type\":\"expr\",\"expr\":{\"id\":\"p8894\"}},\"y2\":{\"type\":\"expr\",\"expr\":{\"id\":\"p8895\"}},\"fill_color\":\"#e6f598\",\"fill_alpha\":0.2,\"hatch_color\":{\"type\":\"value\",\"value\":\"#e6f598\"},\"hatch_alpha\":{\"type\":\"value\",\"value\":0.2}}}}},{\"type\":\"object\",\"name\":\"GlyphRenderer\",\"id\":\"p8939\",\"attributes\":{\"name\":\"landed\",\"data_source\":{\"id\":\"p8844\"},\"view\":{\"type\":\"object\",\"name\":\"CDSView\",\"id\":\"p8940\",\"attributes\":{\"filter\":{\"type\":\"object\",\"name\":\"AllIndices\",\"id\":\"p8941\"}}},\"glyph\":{\"type\":\"object\",\"name\":\"VArea\",\"id\":\"p8936\",\"attributes\":{\"x\":{\"type\":\"field\",\"field\":\"flight_date\"},\"y1\":{\"type\":\"expr\",\"expr\":{\"type\":\"object\",\"name\":\"Stack\",\"id\":\"p8896\",\"attributes\":{\"fields\":[\"active\",\"cancelled\",\"diverted\"]}}},\"y2\":{\"type\":\"expr\",\"expr\":{\"type\":\"object\",\"name\":\"Stack\",\"id\":\"p8897\",\"attributes\":{\"fields\":[\"active\",\"cancelled\",\"diverted\",\"landed\"]}}},\"fill_color\":\"#fee08b\",\"hatch_color\":{\"type\":\"value\",\"value\":\"#fee08b\"}}},\"nonselection_glyph\":{\"type\":\"object\",\"name\":\"VArea\",\"id\":\"p8937\",\"attributes\":{\"x\":{\"type\":\"field\",\"field\":\"flight_date\"},\"y1\":{\"type\":\"expr\",\"expr\":{\"id\":\"p8896\"}},\"y2\":{\"type\":\"expr\",\"expr\":{\"id\":\"p8897\"}},\"fill_color\":\"#fee08b\",\"fill_alpha\":0.1,\"hatch_color\":{\"type\":\"value\",\"value\":\"#fee08b\"},\"hatch_alpha\":{\"type\":\"value\",\"value\":0.1}}},\"muted_glyph\":{\"type\":\"object\",\"name\":\"VArea\",\"id\":\"p8938\",\"attributes\":{\"x\":{\"type\":\"field\",\"field\":\"flight_date\"},\"y1\":{\"type\":\"expr\",\"expr\":{\"id\":\"p8896\"}},\"y2\":{\"type\":\"expr\",\"expr\":{\"id\":\"p8897\"}},\"fill_color\":\"#fee08b\",\"fill_alpha\":0.2,\"hatch_color\":{\"type\":\"value\",\"value\":\"#fee08b\"},\"hatch_alpha\":{\"type\":\"value\",\"value\":0.2}}}}},{\"type\":\"object\",\"name\":\"GlyphRenderer\",\"id\":\"p8949\",\"attributes\":{\"name\":\"scheduled\",\"data_source\":{\"id\":\"p8844\"},\"view\":{\"type\":\"object\",\"name\":\"CDSView\",\"id\":\"p8950\",\"attributes\":{\"filter\":{\"type\":\"object\",\"name\":\"AllIndices\",\"id\":\"p8951\"}}},\"glyph\":{\"type\":\"object\",\"name\":\"VArea\",\"id\":\"p8946\",\"attributes\":{\"x\":{\"type\":\"field\",\"field\":\"flight_date\"},\"y1\":{\"type\":\"expr\",\"expr\":{\"type\":\"object\",\"name\":\"Stack\",\"id\":\"p8898\",\"attributes\":{\"fields\":[\"active\",\"cancelled\",\"diverted\",\"landed\"]}}},\"y2\":{\"type\":\"expr\",\"expr\":{\"type\":\"object\",\"name\":\"Stack\",\"id\":\"p8899\",\"attributes\":{\"fields\":[\"active\",\"cancelled\",\"diverted\",\"landed\",\"scheduled\"]}}},\"fill_color\":\"#fc8d59\",\"hatch_color\":{\"type\":\"value\",\"value\":\"#fc8d59\"}}},\"nonselection_glyph\":{\"type\":\"object\",\"name\":\"VArea\",\"id\":\"p8947\",\"attributes\":{\"x\":{\"type\":\"field\",\"field\":\"flight_date\"},\"y1\":{\"type\":\"expr\",\"expr\":{\"id\":\"p8898\"}},\"y2\":{\"type\":\"expr\",\"expr\":{\"id\":\"p8899\"}},\"fill_color\":\"#fc8d59\",\"fill_alpha\":0.1,\"hatch_color\":{\"type\":\"value\",\"value\":\"#fc8d59\"},\"hatch_alpha\":{\"type\":\"value\",\"value\":0.1}}},\"muted_glyph\":{\"type\":\"object\",\"name\":\"VArea\",\"id\":\"p8948\",\"attributes\":{\"x\":{\"type\":\"field\",\"field\":\"flight_date\"},\"y1\":{\"type\":\"expr\",\"expr\":{\"id\":\"p8898\"}},\"y2\":{\"type\":\"expr\",\"expr\":{\"id\":\"p8899\"}},\"fill_color\":\"#fc8d59\",\"fill_alpha\":0.2,\"hatch_color\":{\"type\":\"value\",\"value\":\"#fc8d59\"},\"hatch_alpha\":{\"type\":\"value\",\"value\":0.2}}}}},{\"type\":\"object\",\"name\":\"GlyphRenderer\",\"id\":\"p8959\",\"attributes\":{\"name\":\"unknown\",\"data_source\":{\"id\":\"p8844\"},\"view\":{\"type\":\"object\",\"name\":\"CDSView\",\"id\":\"p8960\",\"attributes\":{\"filter\":{\"type\":\"object\",\"name\":\"AllIndices\",\"id\":\"p8961\"}}},\"glyph\":{\"type\":\"object\",\"name\":\"VArea\",\"id\":\"p8956\",\"attributes\":{\"x\":{\"type\":\"field\",\"field\":\"flight_date\"},\"y1\":{\"type\":\"expr\",\"expr\":{\"type\":\"object\",\"name\":\"Stack\",\"id\":\"p8900\",\"attributes\":{\"fields\":[\"active\",\"cancelled\",\"diverted\",\"landed\",\"scheduled\"]}}},\"y2\":{\"type\":\"expr\",\"expr\":{\"type\":\"object\",\"name\":\"Stack\",\"id\":\"p8901\",\"attributes\":{\"fields\":[\"active\",\"cancelled\",\"diverted\",\"landed\",\"scheduled\",\"unknown\"]}}},\"fill_color\":\"#d53e4f\",\"hatch_color\":{\"type\":\"value\",\"value\":\"#d53e4f\"}}},\"nonselection_glyph\":{\"type\":\"object\",\"name\":\"VArea\",\"id\":\"p8957\",\"attributes\":{\"x\":{\"type\":\"field\",\"field\":\"flight_date\"},\"y1\":{\"type\":\"expr\",\"expr\":{\"id\":\"p8900\"}},\"y2\":{\"type\":\"expr\",\"expr\":{\"id\":\"p8901\"}},\"fill_color\":\"#d53e4f\",\"fill_alpha\":0.1,\"hatch_color\":{\"type\":\"value\",\"value\":\"#d53e4f\"},\"hatch_alpha\":{\"type\":\"value\",\"value\":0.1}}},\"muted_glyph\":{\"type\":\"object\",\"name\":\"VArea\",\"id\":\"p8958\",\"attributes\":{\"x\":{\"type\":\"field\",\"field\":\"flight_date\"},\"y1\":{\"type\":\"expr\",\"expr\":{\"id\":\"p8900\"}},\"y2\":{\"type\":\"expr\",\"expr\":{\"id\":\"p8901\"}},\"fill_color\":\"#d53e4f\",\"fill_alpha\":0.2,\"hatch_color\":{\"type\":\"value\",\"value\":\"#d53e4f\"},\"hatch_alpha\":{\"type\":\"value\",\"value\":0.2}}}}},{\"type\":\"object\",\"name\":\"GlyphRenderer\",\"id\":\"p8969\",\"attributes\":{\"data_source\":{\"type\":\"object\",\"name\":\"ColumnDataSource\",\"id\":\"p8963\",\"attributes\":{\"selected\":{\"type\":\"object\",\"name\":\"Selection\",\"id\":\"p8964\",\"attributes\":{\"indices\":[],\"line_indices\":[]}},\"selection_policy\":{\"type\":\"object\",\"name\":\"UnionRenderers\",\"id\":\"p8965\"},\"data\":{\"type\":\"map\",\"entries\":[[\"x\",{\"type\":\"ndarray\",\"array\":{\"type\":\"bytes\",\"data\":\"AADAgRPOeEIAAABKVNB4QgAAQBKV0nhCAACA2tXUeEIAAMCiFtd4QgAAAGtX2XhCAABAM5jbeEIAAID72N14QgAAwMMZ4HhCAAAAjFrieEIAAEBUm+R4QgAAgBzc5nhCAADA5BzpeEIAAACtXet4QgAAQHWe7XhCAACAPd/veEIAAMAFIPJ4QgAAAM5g9HhCAABAlqH2eEIAAIBe4vh4QgAAwCYj+3hCAAAA72P9eEIAAEC3pP94QgAAgH/lAXlCAADARyYEeUIAAAAQZwZ5QgAAQNinCHlCAACAoOgKeUIAAMBoKQ15QgAAADFqD3lCAABA+aoReUIAAIDB6xN5QgAAwIksFnlCAAAAUm0YeUIAAEAarhp5QgAAgOLuHHlCAADAqi8feUIAAABzcCF5QgAAQDuxI3lCAACAA/IleUI=\"},\"shape\":[40],\"dtype\":\"float64\",\"order\":\"little\"}],[\"y\",{\"type\":\"ndarray\",\"array\":{\"type\":\"bytes\",\"data\":\"kQAAAJkAAACjAAAAugAAAL8AAADaAAAA1wAAAK4AAADLAAAAtgAAALYAAACfAAAApAAAAJEAAACeAAAAnwAAAJ4AAACOAAAAmQAAAI0AAAChAAAAnwAAAK4AAACaAAAAiwAAAI8AAAC3AAAArAAAAKMAAACFAAAAiQAAAJ8AAACdAAAABQEAAKoAAACrAAAAyAAAAGsBAACkAwAACwIAAA==\"},\"shape\":[40],\"dtype\":\"int32\",\"order\":\"little\"}]]}}},\"view\":{\"type\":\"object\",\"name\":\"CDSView\",\"id\":\"p8970\",\"attributes\":{\"filter\":{\"type\":\"object\",\"name\":\"AllIndices\",\"id\":\"p8971\"}}},\"glyph\":{\"type\":\"object\",\"name\":\"Line\",\"id\":\"p8966\",\"attributes\":{\"x\":{\"type\":\"field\",\"field\":\"x\"},\"y\":{\"type\":\"field\",\"field\":\"y\"},\"line_width\":2}},\"nonselection_glyph\":{\"type\":\"object\",\"name\":\"Line\",\"id\":\"p8967\",\"attributes\":{\"x\":{\"type\":\"field\",\"field\":\"x\"},\"y\":{\"type\":\"field\",\"field\":\"y\"},\"line_alpha\":0.1,\"line_width\":2}},\"muted_glyph\":{\"type\":\"object\",\"name\":\"Line\",\"id\":\"p8968\",\"attributes\":{\"x\":{\"type\":\"field\",\"field\":\"x\"},\"y\":{\"type\":\"field\",\"field\":\"y\"},\"line_alpha\":0.2,\"line_width\":2}}}},{\"type\":\"object\",\"name\":\"Span\",\"id\":\"p8976\",\"attributes\":{\"location\":1717891200000.0,\"dimension\":\"height\",\"line_color\":\"#C6C6C6\",\"line_width\":2,\"line_dash\":[4,4]}},{\"type\":\"object\",\"name\":\"Span\",\"id\":\"p8978\",\"attributes\":{\"location\":1713052800000.0,\"dimension\":\"height\",\"line_color\":\"#C6C6C6\",\"line_width\":2,\"line_dash\":[4,4]}},{\"type\":\"object\",\"name\":\"Span\",\"id\":\"p8980\",\"attributes\":{\"location\":1724544000000.0,\"dimension\":\"height\",\"line_color\":\"#C6C6C6\",\"line_width\":2,\"line_dash\":[4,4]}},{\"type\":\"object\",\"name\":\"Span\",\"id\":\"p8982\",\"attributes\":{\"location\":1727049600000.0,\"dimension\":\"height\",\"line_color\":\"#C6C6C6\",\"line_width\":2,\"line_dash\":[4,4]}}],\"toolbar\":{\"type\":\"object\",\"name\":\"Toolbar\",\"id\":\"p8856\",\"attributes\":{\"tools\":[{\"type\":\"object\",\"name\":\"PanTool\",\"id\":\"p8881\"},{\"type\":\"object\",\"name\":\"BoxZoomTool\",\"id\":\"p8882\",\"attributes\":{\"overlay\":{\"type\":\"object\",\"name\":\"BoxAnnotation\",\"id\":\"p8883\",\"attributes\":{\"syncable\":false,\"level\":\"overlay\",\"visible\":false,\"left\":{\"type\":\"number\",\"value\":\"nan\"},\"right\":{\"type\":\"number\",\"value\":\"nan\"},\"top\":{\"type\":\"number\",\"value\":\"nan\"},\"bottom\":{\"type\":\"number\",\"value\":\"nan\"},\"left_units\":\"canvas\",\"right_units\":\"canvas\",\"top_units\":\"canvas\",\"bottom_units\":\"canvas\",\"line_color\":\"black\",\"line_alpha\":1.0,\"line_width\":2,\"line_dash\":[4,4],\"fill_color\":\"lightgrey\",\"fill_alpha\":0.5}}}},{\"type\":\"object\",\"name\":\"ResetTool\",\"id\":\"p8888\"},{\"type\":\"object\",\"name\":\"SaveTool\",\"id\":\"p8889\"}]}},\"toolbar_location\":\"above\",\"left\":[{\"type\":\"object\",\"name\":\"LinearAxis\",\"id\":\"p8876\",\"attributes\":{\"ticker\":{\"type\":\"object\",\"name\":\"BasicTicker\",\"id\":\"p8877\",\"attributes\":{\"mantissas\":[1,2,5]}},\"formatter\":{\"type\":\"object\",\"name\":\"BasicTickFormatter\",\"id\":\"p8878\"},\"axis_label\":\"Nr Flights\",\"major_label_policy\":{\"type\":\"object\",\"name\":\"AllLabels\",\"id\":\"p8879\"}}}],\"below\":[{\"type\":\"object\",\"name\":\"DatetimeAxis\",\"id\":\"p8859\",\"attributes\":{\"ticker\":{\"type\":\"object\",\"name\":\"FixedTicker\",\"id\":\"p8974\",\"attributes\":{\"ticks\":[1704585600000.0,1705795200000.0,1707004800000.0,1708214400000.0,1709424000000.0,1710633600000.0,1711843200000.0,1713052800000.0,1714262400000.0,1715472000000.0,1716681600000.0,1717891200000.0,1719100800000.0,1720310400000.0,1721520000000.0,1722729600000.0,1723939200000.0,1725148800000.0,1726358400000.0,1727568000000.0,1728777600000.0],\"minor_ticks\":[]}},\"formatter\":{\"type\":\"object\",\"name\":\"DatetimeTickFormatter\",\"id\":\"p8973\",\"attributes\":{\"days\":\"%d %b %Y\",\"months\":\"%b %Y\"}},\"axis_label\":\"Flight Date\",\"major_label_orientation\":1.2,\"major_label_policy\":{\"type\":\"object\",\"name\":\"AllLabels\",\"id\":\"p8874\"}}},{\"type\":\"object\",\"name\":\"Label\",\"id\":\"p8975\",\"attributes\":{\"text\":\"Source: Flight data from AviationStack and conflict events from ACLED\",\"text_color\":\"gray\",\"text_font_size\":\"10pt\",\"x\":0,\"y\":0,\"x_units\":\"screen\",\"y_units\":\"screen\"}}],\"center\":[{\"type\":\"object\",\"name\":\"Grid\",\"id\":\"p8875\",\"attributes\":{\"axis\":{\"id\":\"p8859\"}}},{\"type\":\"object\",\"name\":\"Grid\",\"id\":\"p8880\",\"attributes\":{\"dimension\":1,\"axis\":{\"id\":\"p8876\"}}},{\"type\":\"object\",\"name\":\"Legend\",\"id\":\"p8911\",\"attributes\":{\"location\":\"top_left\",\"orientation\":\"horizontal\",\"click_policy\":\"mute\",\"items\":[{\"type\":\"object\",\"name\":\"LegendItem\",\"id\":\"p8912\",\"attributes\":{\"label\":{\"type\":\"value\",\"value\":\"active\"},\"renderers\":[{\"id\":\"p8908\"}]}},{\"type\":\"object\",\"name\":\"LegendItem\",\"id\":\"p8922\",\"attributes\":{\"label\":{\"type\":\"value\",\"value\":\"cancelled\"},\"renderers\":[{\"id\":\"p8919\"}]}},{\"type\":\"object\",\"name\":\"LegendItem\",\"id\":\"p8932\",\"attributes\":{\"label\":{\"type\":\"value\",\"value\":\"diverted\"},\"renderers\":[{\"id\":\"p8929\"}]}},{\"type\":\"object\",\"name\":\"LegendItem\",\"id\":\"p8942\",\"attributes\":{\"label\":{\"type\":\"value\",\"value\":\"landed\"},\"renderers\":[{\"id\":\"p8939\"}]}},{\"type\":\"object\",\"name\":\"LegendItem\",\"id\":\"p8952\",\"attributes\":{\"label\":{\"type\":\"value\",\"value\":\"scheduled\"},\"renderers\":[{\"id\":\"p8949\"}]}},{\"type\":\"object\",\"name\":\"LegendItem\",\"id\":\"p8962\",\"attributes\":{\"label\":{\"type\":\"value\",\"value\":\"unknown\"},\"renderers\":[{\"id\":\"p8959\"}]}},{\"type\":\"object\",\"name\":\"LegendItem\",\"id\":\"p8972\",\"attributes\":{\"label\":{\"type\":\"value\",\"value\":\"Number of Conflict Events w/o Protests\"},\"renderers\":[{\"id\":\"p8969\"}]}}]}},{\"type\":\"object\",\"name\":\"Label\",\"id\":\"p8977\",\"attributes\":{\"text\":\"Airline data\\nnot available\",\"text_color\":\"black\",\"text_font_size\":\"10pt\",\"text_align\":\"right\",\"background_fill_color\":\"grey\",\"background_fill_alpha\":0.2,\"x\":1717891200000.0,\"y\":905.6,\"x_offset\":-5}},{\"type\":\"object\",\"name\":\"Label\",\"id\":\"p8979\",\"attributes\":{\"text\":\"Temporary shutdown of\\nLebanese airspace between\\n7AM and 1PM\",\"text_color\":\"black\",\"text_font_size\":\"10pt\",\"text_align\":\"right\",\"background_fill_color\":\"grey\",\"background_fill_alpha\":0.2,\"x\":1713052800000.0,\"y\":815.04,\"x_offset\":-5}},{\"type\":\"object\",\"name\":\"Label\",\"id\":\"p8981\",\"attributes\":{\"text\":\"Israeli strikes in\\nSouthern Lebanon\",\"text_color\":\"black\",\"text_font_size\":\"10pt\",\"text_align\":\"right\",\"background_fill_color\":\"grey\",\"background_fill_alpha\":0.2,\"x\":1724544000000.0,\"y\":724.48,\"x_offset\":-5}},{\"type\":\"object\",\"name\":\"Label\",\"id\":\"p8983\",\"attributes\":{\"text\":\"Start of the Israel-Hezboullah\\nConflict\",\"text_color\":\"black\",\"text_font_size\":\"10pt\",\"text_align\":\"right\",\"background_fill_color\":\"grey\",\"background_fill_alpha\":0.2,\"x\":1727049600000.0,\"y\":633.9200000000001,\"x_offset\":-5}}]}}]}};\n  const render_items = [{\"docid\":\"0603059f-43fe-4dfd-a3b3-937c73c01fa9\",\"roots\":{\"p8847\":\"f19bd328-7e46-4adf-9311-c5c1f72696a0\"},\"root_ids\":[\"p8847\"]}];\n  void root.Bokeh.embed.embed_items_notebook(docs_json, render_items);\n  }\n  if (root.Bokeh !== undefined) {\n    embed_document(root);\n  } else {\n    let attempts = 0;\n    const timer = setInterval(function(root) {\n      if (root.Bokeh !== undefined) {\n        clearInterval(timer);\n        embed_document(root);\n      } else {\n        attempts++;\n        if (attempts > 100) {\n          clearInterval(timer);\n          console.log(\"Bokeh: ERROR: Unable to run BokehJS code because BokehJS library is missing\");\n        }\n      }\n    }, 10, root)\n  }\n})(window);",
      "application/vnd.bokehjs_exec.v0+json": ""
     },
     "metadata": {
      "application/vnd.bokehjs_exec.v0+json": {
       "id": "p8847"
      }
     },
     "output_type": "display_data"
    }
   ],
   "source": [
    "output_notebook()  # Display plots inline in a Jupyter notebook\n",
    "\n",
    "departures_exploded[\"flight_date\"] = departures_exploded[\"flight_date\"].apply(\n",
    "    lambda x: pd.to_datetime(x)\n",
    ")\n",
    "df = (\n",
    "    departures_exploded.groupby(\n",
    "        [pd.Grouper(key=\"flight_date\", freq=\"W\"), \"flight_status\"]\n",
    "    )\n",
    "    .count()[[\"iata_arr\"]]\n",
    "    .reset_index()\n",
    ")\n",
    "\n",
    "show(\n",
    "    get_area_plot(\n",
    "        df,\n",
    "        \"Weekly Departures from BEY\",\n",
    "        \"Source: Flight data from AviationStack and conflict events from ACLED\",\n",
    "        acled_events_weekly,\n",
    "        reindex_freq=\"W\",\n",
    "        events_dict=events,\n",
    "    )\n",
    ")"
   ]
  },
  {
   "cell_type": "code",
   "execution_count": 114,
   "metadata": {
    "tags": [
     "remove-cell"
    ]
   },
   "outputs": [],
   "source": [
    "arrivals = pd.concat(\n",
    "    [\n",
    "        pd.read_csv(\"../../data/aviation/aviationstack_bey_25082024_01012024_arr2.csv\"),\n",
    "        pd.read_csv(\"../../data/aviation/aviationstack_bey_26082024_01012024_arr.csv\"),\n",
    "        pd.read_csv(\"../../data/aviation/aviationstack_bey_15082024_07102024_arr.csv\"),\n",
    "        pd.read_csv(\"../../data/aviation/aviationstack_bey_15082024_07102024_arr2.csv\"),\n",
    "    ]\n",
    ")\n",
    "arrivals.drop(columns=\"Unnamed: 0\", inplace=True)\n",
    "arrivals.drop_duplicates(inplace=True)\n",
    "arrivals.reset_index(drop=True, inplace=True)"
   ]
  },
  {
   "cell_type": "code",
   "execution_count": 115,
   "metadata": {
    "tags": [
     "remove-cell",
     "remove-input"
    ]
   },
   "outputs": [
    {
     "name": "stdout",
     "output_type": "stream",
     "text": [
      "Flights for the following dates are missing in the data, reasons are unknown.: DatetimeIndex(['2024-01-29', '2024-01-30', '2024-04-29', '2024-06-07',\n",
      "               '2024-06-08', '2024-06-09'],\n",
      "              dtype='datetime64[ns]', freq=None)\n"
     ]
    }
   ],
   "source": [
    "import pandas as pd\n",
    "\n",
    "df = arrivals\n",
    "# Assuming df is your DataFrame and 'flight_date' is the column with the dates\n",
    "df[\"flight_date\"] = pd.to_datetime(\n",
    "    df[\"flight_date\"]\n",
    ")  # Ensure 'flight_date' is in datetime format\n",
    "\n",
    "# Generate the complete date range from the minimum to the maximum date\n",
    "complete_date_range = pd.date_range(\n",
    "    start=df[\"flight_date\"].min(), end=df[\"flight_date\"].max()\n",
    ")\n",
    "\n",
    "# Find missing dates by comparing the complete date range with the dates in the DataFrame\n",
    "missing_dates = complete_date_range.difference(df[\"flight_date\"])\n",
    "\n",
    "if missing_dates.empty:\n",
    "    print(\"All dates are present.\")\n",
    "else:\n",
    "    print(\n",
    "        f\"Flights for the following dates are missing in the data, reasons are unknown.: {missing_dates}\"\n",
    "    )"
   ]
  },
  {
   "cell_type": "code",
   "execution_count": 116,
   "metadata": {
    "tags": [
     "remove-cell"
    ]
   },
   "outputs": [],
   "source": [
    "arrivals_exploded = explode(arrivals)"
   ]
  },
  {
   "cell_type": "code",
   "execution_count": 117,
   "metadata": {
    "tags": [
     "remove-cell"
    ]
   },
   "outputs": [
    {
     "name": "stdout",
     "output_type": "stream",
     "text": [
      "There were 34408 flights before duplication check\n",
      "There are 20474 flights after duplication check. 13934 flights were duplicated\n"
     ]
    }
   ],
   "source": [
    "before = arrivals_exploded.shape[0]\n",
    "print(f\"There were {before} flights before duplication check\")\n",
    "# check for duplicate flights i.e., flights scheduled to take off at the exact same time from the same place to the same destination\n",
    "arrivals_exploded = arrivals_exploded.drop_duplicates(\n",
    "    subset=[\"flight_date\", \"scheduled_arr\", \"iata_arr\", \"iata_dep\", \"scheduled_dep\"]\n",
    ")\n",
    "\n",
    "after = arrivals_exploded.shape[0]\n",
    "print(\n",
    "    f\"There are {after} flights after duplication check. {before-after} flights were duplicated\"\n",
    ")"
   ]
  },
  {
   "cell_type": "code",
   "execution_count": 118,
   "metadata": {
    "tags": [
     "remove-cell"
    ]
   },
   "outputs": [
    {
     "data": {
      "text/html": [
       "<div>\n",
       "<style scoped>\n",
       "    .dataframe tbody tr th:only-of-type {\n",
       "        vertical-align: middle;\n",
       "    }\n",
       "\n",
       "    .dataframe tbody tr th {\n",
       "        vertical-align: top;\n",
       "    }\n",
       "\n",
       "    .dataframe thead th {\n",
       "        text-align: right;\n",
       "    }\n",
       "</style>\n",
       "<table border=\"1\" class=\"dataframe\">\n",
       "  <thead>\n",
       "    <tr style=\"text-align: right;\">\n",
       "      <th></th>\n",
       "      <th>flight_date</th>\n",
       "      <th>scheduled_arr</th>\n",
       "      <th>iata_arr</th>\n",
       "      <th>iata_dep</th>\n",
       "      <th>scheduled_dep</th>\n",
       "      <th>flight_status</th>\n",
       "    </tr>\n",
       "  </thead>\n",
       "  <tbody>\n",
       "  </tbody>\n",
       "</table>\n",
       "</div>"
      ],
      "text/plain": [
       "Empty DataFrame\n",
       "Columns: [flight_date, scheduled_arr, iata_arr, iata_dep, scheduled_dep, flight_status]\n",
       "Index: []"
      ]
     },
     "execution_count": 118,
     "metadata": {},
     "output_type": "execute_result"
    }
   ],
   "source": [
    "# Test to see if any flight has more than one flight status assoctaed with it.\n",
    "duplicate_status_test = (\n",
    "    arrivals_exploded.groupby(\n",
    "        [\"flight_date\", \"scheduled_arr\", \"iata_arr\", \"iata_dep\", \"scheduled_dep\"]\n",
    "    )[[\"flight_status\"]]\n",
    "    .count()\n",
    "    .reset_index()\n",
    ")\n",
    "duplicate_status_test[duplicate_status_test[\"flight_status\"] > 1]"
   ]
  },
  {
   "cell_type": "code",
   "execution_count": 119,
   "metadata": {
    "tags": [
     "remove-cell"
    ]
   },
   "outputs": [
    {
     "data": {
      "text/plain": [
       "86"
      ]
     },
     "execution_count": 119,
     "metadata": {},
     "output_type": "execute_result"
    }
   ],
   "source": [
    "arrivals_exploded[arrivals_exploded[\"iata_dep\"] == \"BEY\"].shape[0]"
   ]
  },
  {
   "cell_type": "code",
   "execution_count": 132,
   "metadata": {
    "tags": [
     "remove-input"
    ]
   },
   "outputs": [
    {
     "data": {
      "text/html": [
       "    <style>\n",
       "        .bk-notebook-logo {\n",
       "            display: block;\n",
       "            width: 20px;\n",
       "            height: 20px;\n",
       "            background-image: url(data:image/png;base64,iVBORw0KGgoAAAANSUhEUgAAABQAAAAUCAYAAACNiR0NAAAABHNCSVQICAgIfAhkiAAAAAlwSFlzAAALEgAACxIB0t1+/AAAABx0RVh0U29mdHdhcmUAQWRvYmUgRmlyZXdvcmtzIENTNui8sowAAAOkSURBVDiNjZRtaJVlGMd/1/08zzln5zjP1LWcU9N0NkN8m2CYjpgQYQXqSs0I84OLIC0hkEKoPtiH3gmKoiJDU7QpLgoLjLIQCpEsNJ1vqUOdO7ppbuec5+V+rj4ctwzd8IIbbi6u+8f1539dt3A78eXC7QizUF7gyV1fD1Yqg4JWz84yffhm0qkFqBogB9rM8tZdtwVsPUhWhGcFJngGeWrPzHm5oaMmkfEg1usvLFyc8jLRqDOMru7AyC8saQr7GG7f5fvDeH7Ej8CM66nIF+8yngt6HWaKh7k49Soy9nXurCi1o3qUbS3zWfrYeQDTB/Qj6kX6Ybhw4B+bOYoLKCC9H3Nu/leUTZ1JdRWkkn2ldcCamzrcf47KKXdAJllSlxAOkRgyHsGC/zRday5Qld9DyoM4/q/rUoy/CXh3jzOu3bHUVZeU+DEn8FInkPBFlu3+nW3Nw0mk6vCDiWg8CeJaxEwuHS3+z5RgY+YBR6V1Z1nxSOfoaPa4LASWxxdNp+VWTk7+4vzaou8v8PN+xo+KY2xsw6une2frhw05CTYOmQvsEhjhWjn0bmXPjpE1+kplmmkP3suftwTubK9Vq22qKmrBhpY4jvd5afdRA3wGjFAgcnTK2s4hY0/GPNIb0nErGMCRxWOOX64Z8RAC4oCXdklmEvcL8o0BfkNK4lUg9HTl+oPlQxdNo3Mg4Nv175e/1LDGzZen30MEjRUtmXSfiTVu1kK8W4txyV6BMKlbgk3lMwYCiusNy9fVfvvwMxv8Ynl6vxoByANLTWplvuj/nF9m2+PDtt1eiHPBr1oIfhCChQMBw6Aw0UulqTKZdfVvfG7VcfIqLG9bcldL/+pdWTLxLUy8Qq38heUIjh4XlzZxzQm19lLFlr8vdQ97rjZVOLf8nclzckbcD4wxXMidpX30sFd37Fv/GtwwhzhxGVAprjbg0gCAEeIgwCZyTV2Z1REEW8O4py0wsjeloKoMr6iCY6dP92H6Vw/oTyICIthibxjm/DfN9lVz8IqtqKYLUXfoKVMVQVVJOElGjrnnUt9T9wbgp8AyYKaGlqingHZU/uG2NTZSVqwHQTWkx9hxjkpWDaCg6Ckj5qebgBVbT3V3NNXMSiWSDdGV3hrtzla7J+duwPOToIg42ChPQOQjspnSlp1V+Gjdged7+8UN5CRAV7a5EdFNwCjEaBR27b3W890TE7g24NAP/mMDXRWrGoFPQI9ls/MWO2dWFAar/xcOIImbbpA3zgAAAABJRU5ErkJggg==);\n",
       "        }\n",
       "    </style>\n",
       "    <div>\n",
       "        <a href=\"https://bokeh.org\" target=\"_blank\" class=\"bk-notebook-logo\"></a>\n",
       "        <span id=\"b434128e-298d-466e-80d6-0b7e58db58ed\">Loading BokehJS ...</span>\n",
       "    </div>\n"
      ]
     },
     "metadata": {},
     "output_type": "display_data"
    },
    {
     "data": {
      "application/javascript": "'use strict';\n(function(root) {\n  function now() {\n    return new Date();\n  }\n\n  const force = true;\n\n  if (typeof root._bokeh_onload_callbacks === \"undefined\" || force === true) {\n    root._bokeh_onload_callbacks = [];\n    root._bokeh_is_loading = undefined;\n  }\n\nconst JS_MIME_TYPE = 'application/javascript';\n  const HTML_MIME_TYPE = 'text/html';\n  const EXEC_MIME_TYPE = 'application/vnd.bokehjs_exec.v0+json';\n  const CLASS_NAME = 'output_bokeh rendered_html';\n\n  /**\n   * Render data to the DOM node\n   */\n  function render(props, node) {\n    const script = document.createElement(\"script\");\n    node.appendChild(script);\n  }\n\n  /**\n   * Handle when an output is cleared or removed\n   */\n  function handleClearOutput(event, handle) {\n    function drop(id) {\n      const view = Bokeh.index.get_by_id(id)\n      if (view != null) {\n        view.model.document.clear()\n        Bokeh.index.delete(view)\n      }\n    }\n\n    const cell = handle.cell;\n\n    const id = cell.output_area._bokeh_element_id;\n    const server_id = cell.output_area._bokeh_server_id;\n\n    // Clean up Bokeh references\n    if (id != null) {\n      drop(id)\n    }\n\n    if (server_id !== undefined) {\n      // Clean up Bokeh references\n      const cmd_clean = \"from bokeh.io.state import curstate; print(curstate().uuid_to_server['\" + server_id + \"'].get_sessions()[0].document.roots[0]._id)\";\n      cell.notebook.kernel.execute(cmd_clean, {\n        iopub: {\n          output: function(msg) {\n            const id = msg.content.text.trim()\n            drop(id)\n          }\n        }\n      });\n      // Destroy server and session\n      const cmd_destroy = \"import bokeh.io.notebook as ion; ion.destroy_server('\" + server_id + \"')\";\n      cell.notebook.kernel.execute(cmd_destroy);\n    }\n  }\n\n  /**\n   * Handle when a new output is added\n   */\n  function handleAddOutput(event, handle) {\n    const output_area = handle.output_area;\n    const output = handle.output;\n\n    // limit handleAddOutput to display_data with EXEC_MIME_TYPE content only\n    if ((output.output_type != \"display_data\") || (!Object.prototype.hasOwnProperty.call(output.data, EXEC_MIME_TYPE))) {\n      return\n    }\n\n    const toinsert = output_area.element.find(\".\" + CLASS_NAME.split(' ')[0]);\n\n    if (output.metadata[EXEC_MIME_TYPE][\"id\"] !== undefined) {\n      toinsert[toinsert.length - 1].firstChild.textContent = output.data[JS_MIME_TYPE];\n      // store reference to embed id on output_area\n      output_area._bokeh_element_id = output.metadata[EXEC_MIME_TYPE][\"id\"];\n    }\n    if (output.metadata[EXEC_MIME_TYPE][\"server_id\"] !== undefined) {\n      const bk_div = document.createElement(\"div\");\n      bk_div.innerHTML = output.data[HTML_MIME_TYPE];\n      const script_attrs = bk_div.children[0].attributes;\n      for (let i = 0; i < script_attrs.length; i++) {\n        toinsert[toinsert.length - 1].firstChild.setAttribute(script_attrs[i].name, script_attrs[i].value);\n        toinsert[toinsert.length - 1].firstChild.textContent = bk_div.children[0].textContent\n      }\n      // store reference to server id on output_area\n      output_area._bokeh_server_id = output.metadata[EXEC_MIME_TYPE][\"server_id\"];\n    }\n  }\n\n  function register_renderer(events, OutputArea) {\n\n    function append_mime(data, metadata, element) {\n      // create a DOM node to render to\n      const toinsert = this.create_output_subarea(\n        metadata,\n        CLASS_NAME,\n        EXEC_MIME_TYPE\n      );\n      this.keyboard_manager.register_events(toinsert);\n      // Render to node\n      const props = {data: data, metadata: metadata[EXEC_MIME_TYPE]};\n      render(props, toinsert[toinsert.length - 1]);\n      element.append(toinsert);\n      return toinsert\n    }\n\n    /* Handle when an output is cleared or removed */\n    events.on('clear_output.CodeCell', handleClearOutput);\n    events.on('delete.Cell', handleClearOutput);\n\n    /* Handle when a new output is added */\n    events.on('output_added.OutputArea', handleAddOutput);\n\n    /**\n     * Register the mime type and append_mime function with output_area\n     */\n    OutputArea.prototype.register_mime_type(EXEC_MIME_TYPE, append_mime, {\n      /* Is output safe? */\n      safe: true,\n      /* Index of renderer in `output_area.display_order` */\n      index: 0\n    });\n  }\n\n  // register the mime type if in Jupyter Notebook environment and previously unregistered\n  if (root.Jupyter !== undefined) {\n    const events = require('base/js/events');\n    const OutputArea = require('notebook/js/outputarea').OutputArea;\n\n    if (OutputArea.prototype.mime_types().indexOf(EXEC_MIME_TYPE) == -1) {\n      register_renderer(events, OutputArea);\n    }\n  }\n  if (typeof (root._bokeh_timeout) === \"undefined\" || force === true) {\n    root._bokeh_timeout = Date.now() + 5000;\n    root._bokeh_failed_load = false;\n  }\n\n  const NB_LOAD_WARNING = {'data': {'text/html':\n     \"<div style='background-color: #fdd'>\\n\"+\n     \"<p>\\n\"+\n     \"BokehJS does not appear to have successfully loaded. If loading BokehJS from CDN, this \\n\"+\n     \"may be due to a slow or bad network connection. Possible fixes:\\n\"+\n     \"</p>\\n\"+\n     \"<ul>\\n\"+\n     \"<li>re-rerun `output_notebook()` to attempt to load from CDN again, or</li>\\n\"+\n     \"<li>use INLINE resources instead, as so:</li>\\n\"+\n     \"</ul>\\n\"+\n     \"<code>\\n\"+\n     \"from bokeh.resources import INLINE\\n\"+\n     \"output_notebook(resources=INLINE)\\n\"+\n     \"</code>\\n\"+\n     \"</div>\"}};\n\n  function display_loaded(error = null) {\n    const el = document.getElementById(\"b434128e-298d-466e-80d6-0b7e58db58ed\");\n    if (el != null) {\n      const html = (() => {\n        if (typeof root.Bokeh === \"undefined\") {\n          if (error == null) {\n            return \"BokehJS is loading ...\";\n          } else {\n            return \"BokehJS failed to load.\";\n          }\n        } else {\n          const prefix = `BokehJS ${root.Bokeh.version}`;\n          if (error == null) {\n            return `${prefix} successfully loaded.`;\n          } else {\n            return `${prefix} <b>encountered errors</b> while loading and may not function as expected.`;\n          }\n        }\n      })();\n      el.innerHTML = html;\n\n      if (error != null) {\n        const wrapper = document.createElement(\"div\");\n        wrapper.style.overflow = \"auto\";\n        wrapper.style.height = \"5em\";\n        wrapper.style.resize = \"vertical\";\n        const content = document.createElement(\"div\");\n        content.style.fontFamily = \"monospace\";\n        content.style.whiteSpace = \"pre-wrap\";\n        content.style.backgroundColor = \"rgb(255, 221, 221)\";\n        content.textContent = error.stack ?? error.toString();\n        wrapper.append(content);\n        el.append(wrapper);\n      }\n    } else if (Date.now() < root._bokeh_timeout) {\n      setTimeout(() => display_loaded(error), 100);\n    }\n  }\n\n  function run_callbacks() {\n    try {\n      root._bokeh_onload_callbacks.forEach(function(callback) {\n        if (callback != null)\n          callback();\n      });\n    } finally {\n      delete root._bokeh_onload_callbacks\n    }\n    console.debug(\"Bokeh: all callbacks have finished\");\n  }\n\n  function load_libs(css_urls, js_urls, callback) {\n    if (css_urls == null) css_urls = [];\n    if (js_urls == null) js_urls = [];\n\n    root._bokeh_onload_callbacks.push(callback);\n    if (root._bokeh_is_loading > 0) {\n      console.debug(\"Bokeh: BokehJS is being loaded, scheduling callback at\", now());\n      return null;\n    }\n    if (js_urls == null || js_urls.length === 0) {\n      run_callbacks();\n      return null;\n    }\n    console.debug(\"Bokeh: BokehJS not loaded, scheduling load and callback at\", now());\n    root._bokeh_is_loading = css_urls.length + js_urls.length;\n\n    function on_load() {\n      root._bokeh_is_loading--;\n      if (root._bokeh_is_loading === 0) {\n        console.debug(\"Bokeh: all BokehJS libraries/stylesheets loaded\");\n        run_callbacks()\n      }\n    }\n\n    function on_error(url) {\n      console.error(\"failed to load \" + url);\n    }\n\n    for (let i = 0; i < css_urls.length; i++) {\n      const url = css_urls[i];\n      const element = document.createElement(\"link\");\n      element.onload = on_load;\n      element.onerror = on_error.bind(null, url);\n      element.rel = \"stylesheet\";\n      element.type = \"text/css\";\n      element.href = url;\n      console.debug(\"Bokeh: injecting link tag for BokehJS stylesheet: \", url);\n      document.body.appendChild(element);\n    }\n\n    for (let i = 0; i < js_urls.length; i++) {\n      const url = js_urls[i];\n      const element = document.createElement('script');\n      element.onload = on_load;\n      element.onerror = on_error.bind(null, url);\n      element.async = false;\n      element.src = url;\n      console.debug(\"Bokeh: injecting script tag for BokehJS library: \", url);\n      document.head.appendChild(element);\n    }\n  };\n\n  function inject_raw_css(css) {\n    const element = document.createElement(\"style\");\n    element.appendChild(document.createTextNode(css));\n    document.body.appendChild(element);\n  }\n\n  const js_urls = [\"https://cdn.bokeh.org/bokeh/release/bokeh-3.4.1.min.js\", \"https://cdn.bokeh.org/bokeh/release/bokeh-gl-3.4.1.min.js\", \"https://cdn.bokeh.org/bokeh/release/bokeh-widgets-3.4.1.min.js\", \"https://cdn.bokeh.org/bokeh/release/bokeh-tables-3.4.1.min.js\", \"https://cdn.bokeh.org/bokeh/release/bokeh-mathjax-3.4.1.min.js\"];\n  const css_urls = [];\n\n  const inline_js = [    function(Bokeh) {\n      Bokeh.set_log_level(\"info\");\n    },\nfunction(Bokeh) {\n    }\n  ];\n\n  function run_inline_js() {\n    if (root.Bokeh !== undefined || force === true) {\n      try {\n            for (let i = 0; i < inline_js.length; i++) {\n      inline_js[i].call(root, root.Bokeh);\n    }\n\n      } catch (error) {display_loaded(error);throw error;\n      }if (force === true) {\n        display_loaded();\n      }} else if (Date.now() < root._bokeh_timeout) {\n      setTimeout(run_inline_js, 100);\n    } else if (!root._bokeh_failed_load) {\n      console.log(\"Bokeh: BokehJS failed to load within specified timeout.\");\n      root._bokeh_failed_load = true;\n    } else if (force !== true) {\n      const cell = $(document.getElementById(\"b434128e-298d-466e-80d6-0b7e58db58ed\")).parents('.cell').data().cell;\n      cell.output_area.append_execute_result(NB_LOAD_WARNING)\n    }\n  }\n\n  if (root._bokeh_is_loading === 0) {\n    console.debug(\"Bokeh: BokehJS loaded, going straight to plotting\");\n    run_inline_js();\n  } else {\n    load_libs(css_urls, js_urls, function() {\n      console.debug(\"Bokeh: BokehJS plotting callback run at\", now());\n      run_inline_js();\n    });\n  }\n}(window));",
      "application/vnd.bokehjs_load.v0+json": ""
     },
     "metadata": {},
     "output_type": "display_data"
    },
    {
     "data": {
      "text/html": [
       "\n",
       "  <div id=\"b7b9e156-041d-46b3-b824-953fd62104c6\" data-root-id=\"p8997\" style=\"display: contents;\"></div>\n"
      ]
     },
     "metadata": {},
     "output_type": "display_data"
    },
    {
     "data": {
      "application/javascript": "(function(root) {\n  function embed_document(root) {\n  const docs_json = {\"0b6fa176-e646-42e9-8e4e-a1caba17191d\":{\"version\":\"3.4.1\",\"title\":\"Bokeh Application\",\"roots\":[{\"type\":\"object\",\"name\":\"Figure\",\"id\":\"p8997\",\"attributes\":{\"width\":800,\"x_range\":{\"type\":\"object\",\"name\":\"DataRange1d\",\"id\":\"p8998\"},\"y_range\":{\"type\":\"object\",\"name\":\"DataRange1d\",\"id\":\"p8999\",\"attributes\":{\"start\":0,\"end\":250}},\"x_scale\":{\"type\":\"object\",\"name\":\"LinearScale\",\"id\":\"p9007\"},\"y_scale\":{\"type\":\"object\",\"name\":\"LinearScale\",\"id\":\"p9008\"},\"title\":{\"type\":\"object\",\"name\":\"Title\",\"id\":\"p9000\",\"attributes\":{\"text\":\"Daily Arrivals to BEY\"}},\"renderers\":[{\"type\":\"object\",\"name\":\"GlyphRenderer\",\"id\":\"p9058\",\"attributes\":{\"name\":\"active\",\"data_source\":{\"type\":\"object\",\"name\":\"ColumnDataSource\",\"id\":\"p8994\",\"attributes\":{\"selected\":{\"type\":\"object\",\"name\":\"Selection\",\"id\":\"p8995\",\"attributes\":{\"indices\":[],\"line_indices\":[]}},\"selection_policy\":{\"type\":\"object\",\"name\":\"UnionRenderers\",\"id\":\"p8996\"},\"data\":{\"type\":\"map\",\"entries\":[[\"index\",{\"type\":\"ndarray\",\"array\":{\"type\":\"bytes\",\"data\":\"AAAAAAEAAAACAAAAAwAAAAQAAAAFAAAABgAAAAcAAAAIAAAACQAAAAoAAAALAAAADAAAAA0AAAAOAAAADwAAABAAAAARAAAAEgAAABMAAAAUAAAAFQAAABYAAAAXAAAAGAAAABkAAAAaAAAAGwAAABwAAAAdAAAAHgAAAB8AAAAgAAAAIQAAACIAAAAjAAAAJAAAACUAAAAmAAAAJwAAACgAAAApAAAAKgAAACsAAAAsAAAALQAAAC4AAAAvAAAAMAAAADEAAAAyAAAAMwAAADQAAAA1AAAANgAAADcAAAA4AAAAOQAAADoAAAA7AAAAPAAAAD0AAAA+AAAAPwAAAEAAAABBAAAAQgAAAEMAAABEAAAARQAAAEYAAABHAAAASAAAAEkAAABKAAAASwAAAEwAAABNAAAATgAAAE8AAABQAAAAUQAAAFIAAABTAAAAVAAAAFUAAABWAAAAVwAAAFgAAABZAAAAWgAAAFsAAABcAAAAXQAAAF4AAABfAAAAYAAAAGEAAABiAAAAYwAAAGQAAABlAAAAZgAAAGcAAABoAAAAaQAAAGoAAABrAAAAbAAAAG0AAABuAAAAbwAAAHAAAABxAAAAcgAAAHMAAAB0AAAAdQAAAHYAAAB3AAAAeAAAAHkAAAB6AAAAewAAAHwAAAB9AAAAfgAAAH8AAACAAAAAgQAAAIIAAACDAAAAhAAAAIUAAACGAAAAhwAAAIgAAACJAAAAigAAAIsAAACMAAAAjQAAAI4AAACPAAAAkAAAAJEAAACSAAAAkwAAAJQAAACVAAAAlgAAAJcAAACYAAAAmQAAAJoAAACbAAAAnAAAAJ0AAACeAAAAnwAAAKAAAAChAAAAogAAAKMAAACkAAAApQAAAKYAAACnAAAAqAAAAKkAAACqAAAAqwAAAKwAAACtAAAArgAAAK8AAACwAAAAsQAAALIAAACzAAAAtAAAALUAAAC2AAAAtwAAALgAAAC5AAAAugAAALsAAAC8AAAAvQAAAL4AAAC/AAAAwAAAAMEAAADCAAAAwwAAAMQAAADFAAAAxgAAAMcAAADIAAAAyQAAAMoAAADLAAAAzAAAAM0AAADOAAAAzwAAANAAAADRAAAA0gAAANMAAADUAAAA1QAAANYAAADXAAAA2AAAANkAAADaAAAA2wAAANwAAADdAAAA3gAAAN8AAADgAAAA4QAAAOIAAADjAAAA5AAAAOUAAADmAAAA5wAAAOgAAADpAAAA6gAAAOsAAADsAAAA7QAAAO4AAADvAAAA8AAAAPEAAADyAAAA8wAAAPQAAAD1AAAA9gAAAPcAAAD4AAAA+QAAAPoAAAD7AAAA/AAAAP0AAAD+AAAA/wAAAAABAAABAQAAAgEAAAMBAAAEAQAABQEAAAYBAAAHAQAACAEAAAkBAAAKAQAACwEAAAwBAAANAQAADgEAAA8BAAAQAQAAEQEAABIBAAATAQAAFAEAABUBAAAWAQAAFwEAABgBAAA=\"},\"shape\":[281],\"dtype\":\"int32\",\"order\":\"little\"}],[\"flight_date\",{\"type\":\"ndarray\",\"array\":{\"type\":\"bytes\",\"data\":\"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\"},\"shape\":[281],\"dtype\":\"float64\",\"order\":\"little\"}],[\"active\",{\"type\":\"ndarray\",\"array\":{\"type\":\"bytes\",\"data\":\"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\"},\"shape\":[281],\"dtype\":\"float64\",\"order\":\"little\"}],[\"cancelled\",{\"type\":\"ndarray\",\"array\":{\"type\":\"bytes\",\"data\":\"AAAAAAAAAAAAAAAAAAAAAAAAAAAAAPA/AAAAAAAAAAAAAAAAAAAAAAAAAAAAAPA/AAAAAAAAAAAAAAAAAAAAAAAAAAAAAAAAAAAAAAAAAAAAAAAAAAAAAAAAAAAAAAAAAAAAAAAAAAAAAAAAAAAAAAAAAAAAAAAAAAAAAAAAAAAAAAAAAAAAAAAAAAAAAPA/AAAAAAAAAAAAAAAAAAAAAAAAAAAAAAAAAAAAAAAA8D8AAAAAAAAAAAAAAAAAAAAAAAAAAAAAAAAAAAAAAAAAAAAAAAAAAAAAAAAAAAAAAAAAAAAAAAAAAAAAAAAAAAAAAAAAAAAAAAAAAAAAAAAIQAAAAAAAAAAAAAAAAAAAAAAAAAAAAAAAAAAAAAAAAAAAAAAAAAAAAAAAAAAAAADwPwAAAAAAAAAAAAAAAAAAAAAAAAAAAAAAAAAAAAAAAAAAAAAAAAAAAAAAAAAAAAAAAAAAAAAAAPA/AAAAAAAAAAAAAAAAAAAAAAAAAAAAAAAAAAAAAAAAAAAAAAAAAAAAAAAAAAAAAAAAAAAAAAAAAAAAAAAAAAAAAAAAAAAAAPA/AAAAAAAAAAAAAAAAAAAAAAAAAAAAAAAAAAAAAAAAAAAAAAAAAAAAAAAAAAAAAAAAAAAAAAAAAAAAAAAAAAAAAAAAAAAAAAAAAAAAAAAAAAAAAAAAAADwPwAAAAAAAAAAAAAAAAAA8D8AAAAAAAAAAAAAAAAAAPA/AAAAAAAAAAAAAAAAAAAAAAAAAAAAAPA/AAAAAAAAAAAAAAAAAADwPwAAAAAAAAAAAAAAAAAA8D8AAAAAAADwPwAAAAAAAAAAAAAAAAAA8D8AAAAAAAAAAAAAAAAAAAAAAAAAAAAAAAAAAAAAAADwPwAAAAAAAAAAAAAAAAAAAAAAAAAAAAAAAAAAAAAAAAAAAAAAAAAAAAAAAAAAAAAAAAAAAAAAAPA/AAAAAAAAAAAAAAAAAAAAAAAAAAAAAAAAAAAAAAAAAAAAAAAAAAAAAAAAAAAAAAAAAAAAAAAA8D8AAAAAAAAAAAAAAAAAAAAAAAAAAAAA8D8AAAAAAAAAAAAAAAAAAAAAAAAAAAAAAAAAAAAAAADwPwAAAAAAADhAAAAAAAAAIEAAAAAAAAAiQAAAAAAAABhAAAAAAAAACEAAAAAAAAAgQAAAAAAAABRAAAAAAAAAEEAAAAAAAAAAQAAAAAAAAABAAAAAAAAA8D8AAAAAAAAIQAAAAAAAAAAAAAAAAAAAAAAAAAAAAAAAAAAAAAAAAAAAAAAAAAAAAAAAAAAAAAAAQAAAAAAAAAAAAAAAAAAAAAAAAAAAAAAAAAAAAAAAAAAAAAAAAAAAAAAAAAAAAAAAAAAAAAAAAAAAAAAAAAAA8D8AAAAAAADwPwAAAAAAAPA/AAAAAAAA8D8AAAAAAADwPwAAAAAAAPA/AAAAAAAAAEAAAAAAAAAAAAAAAAAAAAAAAAAAAAAAAAAAAAAAAAAAAAAAAAAAAAAAAAAAAAAAAAAAAAAAAAAAAAAAAAAAAAAAAAAAAAAAAAAAAAAAAADwPwAAAAAAAAAAAAAAAAAA8D8AAAAAAAAAAAAAAAAAAAAAAAAAAAAAAAAAAAAAAAAAAAAAAAAAAAAAAAAAAAAAAAAAAAAAAAAAAAAAAAAAAPA/AAAAAAAAAAAAAAAAAAAAAAAAAAAAAAAAAAAAAAAAAAAAAAAAAAAAAAAAAAAAAAAAAAAAAAAAAAAAAAAAAAAAAAAAAAAAAPA/AAAAAAAAAAAAAAAAAADwPwAAAAAAAABAAAAAAAAAAAAAAAAAAAAAAAAAAAAAAAAAAAAAAAAAAAAAAAAAAADwPwAAAAAAAAAAAAAAAAAA8D8AAAAAAAAAAAAAAAAAAAAAAAAAAAAAAAAAAAAAAAAAAAAAAAAAAAAAAAAAAAAA8D8AAAAAAAAAQAAAAAAAAABAAAAAAAAAAEAAAAAAAAAAAAAAAAAAAAhAAAAAAAAA8D8AAAAAAADwPwAAAAAAAPA/AAAAAAAAAEAAAAAAAADwPwAAAAAAAABAAAAAAAAAAEAAAAAAAAAAAAAAAAAAAAAAAAAAAAAA8D8AAAAAAAAAAAAAAAAAAAAAAAAAAAAA8D8AAAAAAADwPwAAAAAAAPA/AAAAAAAAAAAAAAAAAADwPwAAAAAAAAAAAAAAAAAAAAAAAAAAAAAAAAAAAAAAAAAAAAAAAAAAAAAAAAAAAAAAAAAAAAAAABBAAAAAAAAALEAAAAAAAAAyQAAAAAAAADZAAAAAAAAAMUAAAAAAAAAwQAAAAAAAAC5AAAAAAAAAKkAAAAAAAAAUQAAAAAAAABhAAAAAAAAAHEAAAAAAAAAcQAAAAAAAACRAAAAAAAAAFEAAAAAAAAAQQAAAAAAAAABAAAAAAAAAFEAAAAAAAAAYQAAAAAAAABRAAAAAAAAA8D8AAAAAAAAAQAAAAAAAAPA/AAAAAAAA8D8AAAAAAAAQQAAAAAAAABhAAAAAAAAAFEAAAAAAAAAIQAAAAAAAAABAAAAAAAAAKEAAAAAAAAAYQAAAAAAAAAhAAAAAAAAAAEAAAAAAAAAAQAAAAAAAAPA/AAAAAAAA8D8AAAAAAADwPwAAAAAAAAAAAAAAAAAA8D8AAAAAAAAAQAAAAAAAAPA/AAAAAAAA8D8AAAAAAAAAAAAAAAAAAPA/AAAAAAAAAAAAAAAAAADwPwAAAAAAAAAAAAAAAAAA8D8AAAAAAADwPwAAAAAAAAAAAAAAAAAAAAAAAAAAAADwPwAAAAAAAAAAAAAAAAAAFEAAAAAAAAAAQAAAAAAAABBAAAAAAAAAHEAAAAAAAAAgQAAAAAAAACBAAAAAAAAANUAAAAAAAAA5QAAAAAAAADRAAAAAAAAAOEAAAAAAAAAzQAAAAAAAAC5AAAAAAAAALkAAAAAAAAAzQAAAAAAAADZAAAAAAAAAHEAAAAAAAAAmQAAAAAAAACBAAAAAAAAAIEAAAAAAAAAQQA==\"},\"shape\":[281],\"dtype\":\"float64\",\"order\":\"little\"}],[\"diverted\",{\"type\":\"ndarray\",\"array\":{\"type\":\"bytes\",\"data\":\"AAAAAAAAAAAAAAAAAAAAAAAAAAAAAAAAAAAAAAAAAAAAAAAAAAAAAAAAAAAAAAAAAAAAAAAAAAAAAAAAAAAAAAAAAAAAAAAAAAAAAAAAAAAAAAAAAAAAAAAAAAAAAAAAAAAAAAAAAAAAAAAAAAAAAAAAAAAAAAAAAAAAAAAAAAAAAAAAAAAAAAAAAAAAAAAAAAAAAAAAAAAAAAAAAAAAAAAAAAAAAAAAAAAAAAAAAAAAAAAAAAAAAAAAAAAAAAAAAAAAAAAAAAAAAAAAAAAAAAAAAAAAAAAAAAAAAAAAAAAAAAAAAAAAAAAAAAAAAAAAAAAAAAAAAAAAAAAAAAAAAAAAAAAAAAAAAAAAAAAAAAAAAAAAAAAAAAAAAAAAAAAAAAAAAAAAAAAAAAAAAAAAAAAAAAAAAAAAAAAAAAAAAAAAAAAAAAAAAAAAAAAAAAAAAAAAAAAAAAAAAAAAAAAAAAAAAAAAAAAAAAAAAAAAAAAAAAAAAAAAAAAAAAAAAAAAAAAAAAAAAAAAAAAAAAAAAAAAAAAAAAAAAAAAAAAAAAAAAAAAAAAAAAAAAAAAAAAAAAAAAAAAAAAAAAAAAAAAAAAAAAAAAAAAAAAAAAAAAAAAAAAAAAAAAAAAAAAAAAAAAAAAAAAAAAAAAAAAAAAAAAAAAAAAAAAAAAAAAAAAAAAAAAAAAAAAAAAAAAAAAAAAAAAAAAAAAAAAAAAAAAAAAAAAAAAAAAAAAAAAAAAAAAAAAAAAAAAAAAAAAAAAAAAAAAAAAAAAAAAAAAAAAAAAAAAAAAAAAAAAAAAAAAAA8D8AAAAAAAAAAAAAAAAAAAAAAAAAAAAAAAAAAAAAAAAAAAAAAAAAAAAAAAAAAAAAAAAAAAAAAADwPwAAAAAAAAAAAAAAAAAAAAAAAAAAAADwPwAAAAAAAAAAAAAAAAAAAAAAAAAAAAAAAAAAAAAAAAAAAAAAAAAAAAAAAAAAAAAAAAAAAAAAAAAAAAAAAAAAAAAAAAAAAADwPwAAAAAAAAAAAAAAAAAAAAAAAAAAAAAAAAAAAAAAAAAAAAAAAAAAAAAAAAAAAAAAAAAAAAAAAAAAAAAAAAAAAAAAAAAAAAAIQAAAAAAAAAAAAAAAAAAAAAAAAAAAAAAAAAAAAAAAAAAAAAAAAAAA8D8AAAAAAADwPwAAAAAAAAAAAAAAAAAAAAAAAAAAAAAAAAAAAAAAAAAAAAAAAAAAAAAAAAAAAAAAAAAAAAAAAAAAAAAAAAAAAAAAAAAAAAAAAAAAAAAAAAAAAAAAAAAAAAAAAAAAAAAAAAAAAAAAAPA/AAAAAAAAAAAAAAAAAADwPwAAAAAAAAAAAAAAAAAAAAAAAAAAAAAAAAAAAAAAAPA/AAAAAAAAAAAAAAAAAAAIQAAAAAAAAPA/AAAAAAAAAAAAAAAAAADwPwAAAAAAAPA/AAAAAAAAAAAAAAAAAADwPwAAAAAAAAAAAAAAAAAA8D8AAAAAAADwPwAAAAAAAPA/AAAAAAAAAAAAAAAAAAAAAAAAAAAAAAAAAAAAAAAAAAAAAAAAAAAAAAAAAAAAAAAAAAAAAAAA8D8AAAAAAAAAAAAAAAAAAAAAAAAAAAAAAAAAAAAAAAAAAAAAAAAAAAAAAAAAAAAAAAAAAAAAAAAAAAAAAAAAAAAAAAAAAAAAAAAAAAAAAAAAAAAAAAAAAAAAAAAAAAAAAAAAAAAAAAAAAAAAAAAAAAAAAAAAAAAAAAAAAAAAAAAAAAAAAAAAAPA/AAAAAAAAAAAAAAAAAAAAAAAAAAAAAAAAAAAAAAAA8D8AAAAAAAAAAAAAAAAAAPA/AAAAAAAAAAAAAAAAAAAAAAAAAAAAAAAAAAAAAAAAAAAAAAAAAADwPwAAAAAAAAAAAAAAAAAAAAAAAAAAAAAAAAAAAAAAAAAAAAAAAAAAAAAAAAAAAAAAAAAAAAAAAAAAAAAAAAAAAAAAAAAAAADwPwAAAAAAAAAAAAAAAAAA8D8AAAAAAAAAAAAAAAAAAAAAAAAAAAAAAAAAAAAAAAAAAAAAAAAAAAAAAAAAAAAAAAAAAAAAAAAAAAAAAAAAAAAAAAAAAAAA8D8AAAAAAAAAQAAAAAAAAAAAAAAAAAAAAAAAAAAAAAAAQAAAAAAAAPA/AAAAAAAA8D8AAAAAAAAAAAAAAAAAAAAAAAAAAAAAAAAAAAAAAAAAAAAAAAAAAAAAAAAAAAAA8D8AAAAAAAAAAAAAAAAAAAAAAAAAAAAAAAAAAAAAAAAAAAAAAAAAAPA/AAAAAAAA8D8AAAAAAAAAAAAAAAAAAAAAAAAAAAAAAAAAAAAAAAAAAAAAAAAAAAAAAAAAAAAA8D8AAAAAAAAAQAAAAAAAAAAAAAAAAAAAAAAAAAAAAADwPwAAAAAAAAAAAAAAAAAA8D8AAAAAAAAAAAAAAAAAAAAAAAAAAAAA8D8AAAAAAAAAAAAAAAAAAAAAAAAAAAAAAAAAAAAAAADwPwAAAAAAAPA/AAAAAAAAAEAAAAAAAADwPwAAAAAAADlAAAAAAAAAOkAAAAAAAAA9QAAAAAAAgENAAAAAAACARkAAAAAAAIBBQAAAAAAAAENAAAAAAAAAREAAAAAAAAA+QAAAAAAAAAhAAAAAAAAAQEAAAAAAAAA5QAAAAAAAgEJAAAAAAACAQEAAAAAAAAA6QAAAAAAAADlAAAAAAAAAPEAAAAAAAAA9QAAAAAAAADRAAAAAAAAAQEAAAAAAAABBQAAAAAAAADxAAAAAAAAAPkAAAAAAAAA4QAAAAAAAACpAAAAAAAAAO0AAAAAAAAAzQAAAAAAAAD1AAAAAAAAAPUAAAAAAAAAwQAAAAAAAADBAAAAAAAAAJkAAAAAAAAAIQAAAAAAAACRAAAAAAAAA8D8AAAAAAAAIQAAAAAAAABBAAAAAAAAAAEAAAAAAAAAUQAAAAAAAABBAAAAAAAAAHEAAAAAAAAAgQAAAAAAAACRAAAAAAAAACEAAAAAAAAAIQA==\"},\"shape\":[281],\"dtype\":\"float64\",\"order\":\"little\"}],[\"landed\",{\"type\":\"ndarray\",\"array\":{\"type\":\"bytes\",\"data\":\"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\"},\"shape\":[281],\"dtype\":\"float64\",\"order\":\"little\"}],[\"scheduled\",{\"type\":\"ndarray\",\"array\":{\"type\":\"bytes\",\"data\":\"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\"},\"shape\":[281],\"dtype\":\"float64\",\"order\":\"little\"}],[\"unknown\",{\"type\":\"ndarray\",\"array\":{\"type\":\"bytes\",\"data\":\"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\"},\"shape\":[281],\"dtype\":\"float64\",\"order\":\"little\"}]]}}},\"view\":{\"type\":\"object\",\"name\":\"CDSView\",\"id\":\"p9059\",\"attributes\":{\"filter\":{\"type\":\"object\",\"name\":\"AllIndices\",\"id\":\"p9060\"}}},\"glyph\":{\"type\":\"object\",\"name\":\"VArea\",\"id\":\"p9055\",\"attributes\":{\"x\":{\"type\":\"field\",\"field\":\"flight_date\"},\"y1\":{\"type\":\"expr\",\"expr\":{\"type\":\"object\",\"name\":\"Stack\",\"id\":\"p9040\",\"attributes\":{\"fields\":[]}}},\"y2\":{\"type\":\"expr\",\"expr\":{\"type\":\"object\",\"name\":\"Stack\",\"id\":\"p9041\",\"attributes\":{\"fields\":[\"active\"]}}},\"fill_color\":\"#3288bd\",\"hatch_color\":{\"type\":\"value\",\"value\":\"#3288bd\"}}},\"nonselection_glyph\":{\"type\":\"object\",\"name\":\"VArea\",\"id\":\"p9056\",\"attributes\":{\"x\":{\"type\":\"field\",\"field\":\"flight_date\"},\"y1\":{\"type\":\"expr\",\"expr\":{\"id\":\"p9040\"}},\"y2\":{\"type\":\"expr\",\"expr\":{\"id\":\"p9041\"}},\"fill_color\":\"#3288bd\",\"fill_alpha\":0.1,\"hatch_color\":{\"type\":\"value\",\"value\":\"#3288bd\"},\"hatch_alpha\":{\"type\":\"value\",\"value\":0.1}}},\"muted_glyph\":{\"type\":\"object\",\"name\":\"VArea\",\"id\":\"p9057\",\"attributes\":{\"x\":{\"type\":\"field\",\"field\":\"flight_date\"},\"y1\":{\"type\":\"expr\",\"expr\":{\"id\":\"p9040\"}},\"y2\":{\"type\":\"expr\",\"expr\":{\"id\":\"p9041\"}},\"fill_color\":\"#3288bd\",\"fill_alpha\":0.2,\"hatch_color\":{\"type\":\"value\",\"value\":\"#3288bd\"},\"hatch_alpha\":{\"type\":\"value\",\"value\":0.2}}}}},{\"type\":\"object\",\"name\":\"GlyphRenderer\",\"id\":\"p9069\",\"attributes\":{\"name\":\"landed\",\"data_source\":{\"id\":\"p8994\"},\"view\":{\"type\":\"object\",\"name\":\"CDSView\",\"id\":\"p9070\",\"attributes\":{\"filter\":{\"type\":\"object\",\"name\":\"AllIndices\",\"id\":\"p9071\"}}},\"glyph\":{\"type\":\"object\",\"name\":\"VArea\",\"id\":\"p9066\",\"attributes\":{\"x\":{\"type\":\"field\",\"field\":\"flight_date\"},\"y1\":{\"type\":\"expr\",\"expr\":{\"type\":\"object\",\"name\":\"Stack\",\"id\":\"p9042\",\"attributes\":{\"fields\":[\"active\"]}}},\"y2\":{\"type\":\"expr\",\"expr\":{\"type\":\"object\",\"name\":\"Stack\",\"id\":\"p9043\",\"attributes\":{\"fields\":[\"active\",\"landed\"]}}},\"fill_color\":\"#99d594\",\"hatch_color\":{\"type\":\"value\",\"value\":\"#99d594\"}}},\"nonselection_glyph\":{\"type\":\"object\",\"name\":\"VArea\",\"id\":\"p9067\",\"attributes\":{\"x\":{\"type\":\"field\",\"field\":\"flight_date\"},\"y1\":{\"type\":\"expr\",\"expr\":{\"id\":\"p9042\"}},\"y2\":{\"type\":\"expr\",\"expr\":{\"id\":\"p9043\"}},\"fill_color\":\"#99d594\",\"fill_alpha\":0.1,\"hatch_color\":{\"type\":\"value\",\"value\":\"#99d594\"},\"hatch_alpha\":{\"type\":\"value\",\"value\":0.1}}},\"muted_glyph\":{\"type\":\"object\",\"name\":\"VArea\",\"id\":\"p9068\",\"attributes\":{\"x\":{\"type\":\"field\",\"field\":\"flight_date\"},\"y1\":{\"type\":\"expr\",\"expr\":{\"id\":\"p9042\"}},\"y2\":{\"type\":\"expr\",\"expr\":{\"id\":\"p9043\"}},\"fill_color\":\"#99d594\",\"fill_alpha\":0.2,\"hatch_color\":{\"type\":\"value\",\"value\":\"#99d594\"},\"hatch_alpha\":{\"type\":\"value\",\"value\":0.2}}}}},{\"type\":\"object\",\"name\":\"GlyphRenderer\",\"id\":\"p9079\",\"attributes\":{\"name\":\"scheduled\",\"data_source\":{\"id\":\"p8994\"},\"view\":{\"type\":\"object\",\"name\":\"CDSView\",\"id\":\"p9080\",\"attributes\":{\"filter\":{\"type\":\"object\",\"name\":\"AllIndices\",\"id\":\"p9081\"}}},\"glyph\":{\"type\":\"object\",\"name\":\"VArea\",\"id\":\"p9076\",\"attributes\":{\"x\":{\"type\":\"field\",\"field\":\"flight_date\"},\"y1\":{\"type\":\"expr\",\"expr\":{\"type\":\"object\",\"name\":\"Stack\",\"id\":\"p9044\",\"attributes\":{\"fields\":[\"active\",\"landed\"]}}},\"y2\":{\"type\":\"expr\",\"expr\":{\"type\":\"object\",\"name\":\"Stack\",\"id\":\"p9045\",\"attributes\":{\"fields\":[\"active\",\"landed\",\"scheduled\"]}}},\"fill_color\":\"#e6f598\",\"hatch_color\":{\"type\":\"value\",\"value\":\"#e6f598\"}}},\"nonselection_glyph\":{\"type\":\"object\",\"name\":\"VArea\",\"id\":\"p9077\",\"attributes\":{\"x\":{\"type\":\"field\",\"field\":\"flight_date\"},\"y1\":{\"type\":\"expr\",\"expr\":{\"id\":\"p9044\"}},\"y2\":{\"type\":\"expr\",\"expr\":{\"id\":\"p9045\"}},\"fill_color\":\"#e6f598\",\"fill_alpha\":0.1,\"hatch_color\":{\"type\":\"value\",\"value\":\"#e6f598\"},\"hatch_alpha\":{\"type\":\"value\",\"value\":0.1}}},\"muted_glyph\":{\"type\":\"object\",\"name\":\"VArea\",\"id\":\"p9078\",\"attributes\":{\"x\":{\"type\":\"field\",\"field\":\"flight_date\"},\"y1\":{\"type\":\"expr\",\"expr\":{\"id\":\"p9044\"}},\"y2\":{\"type\":\"expr\",\"expr\":{\"id\":\"p9045\"}},\"fill_color\":\"#e6f598\",\"fill_alpha\":0.2,\"hatch_color\":{\"type\":\"value\",\"value\":\"#e6f598\"},\"hatch_alpha\":{\"type\":\"value\",\"value\":0.2}}}}},{\"type\":\"object\",\"name\":\"GlyphRenderer\",\"id\":\"p9089\",\"attributes\":{\"name\":\"unknown\",\"data_source\":{\"id\":\"p8994\"},\"view\":{\"type\":\"object\",\"name\":\"CDSView\",\"id\":\"p9090\",\"attributes\":{\"filter\":{\"type\":\"object\",\"name\":\"AllIndices\",\"id\":\"p9091\"}}},\"glyph\":{\"type\":\"object\",\"name\":\"VArea\",\"id\":\"p9086\",\"attributes\":{\"x\":{\"type\":\"field\",\"field\":\"flight_date\"},\"y1\":{\"type\":\"expr\",\"expr\":{\"type\":\"object\",\"name\":\"Stack\",\"id\":\"p9046\",\"attributes\":{\"fields\":[\"active\",\"landed\",\"scheduled\"]}}},\"y2\":{\"type\":\"expr\",\"expr\":{\"type\":\"object\",\"name\":\"Stack\",\"id\":\"p9047\",\"attributes\":{\"fields\":[\"active\",\"landed\",\"scheduled\",\"unknown\"]}}},\"fill_color\":\"#fee08b\",\"hatch_color\":{\"type\":\"value\",\"value\":\"#fee08b\"}}},\"nonselection_glyph\":{\"type\":\"object\",\"name\":\"VArea\",\"id\":\"p9087\",\"attributes\":{\"x\":{\"type\":\"field\",\"field\":\"flight_date\"},\"y1\":{\"type\":\"expr\",\"expr\":{\"id\":\"p9046\"}},\"y2\":{\"type\":\"expr\",\"expr\":{\"id\":\"p9047\"}},\"fill_color\":\"#fee08b\",\"fill_alpha\":0.1,\"hatch_color\":{\"type\":\"value\",\"value\":\"#fee08b\"},\"hatch_alpha\":{\"type\":\"value\",\"value\":0.1}}},\"muted_glyph\":{\"type\":\"object\",\"name\":\"VArea\",\"id\":\"p9088\",\"attributes\":{\"x\":{\"type\":\"field\",\"field\":\"flight_date\"},\"y1\":{\"type\":\"expr\",\"expr\":{\"id\":\"p9046\"}},\"y2\":{\"type\":\"expr\",\"expr\":{\"id\":\"p9047\"}},\"fill_color\":\"#fee08b\",\"fill_alpha\":0.2,\"hatch_color\":{\"type\":\"value\",\"value\":\"#fee08b\"},\"hatch_alpha\":{\"type\":\"value\",\"value\":0.2}}}}},{\"type\":\"object\",\"name\":\"GlyphRenderer\",\"id\":\"p9099\",\"attributes\":{\"name\":\"cancelled\",\"data_source\":{\"id\":\"p8994\"},\"view\":{\"type\":\"object\",\"name\":\"CDSView\",\"id\":\"p9100\",\"attributes\":{\"filter\":{\"type\":\"object\",\"name\":\"AllIndices\",\"id\":\"p9101\"}}},\"glyph\":{\"type\":\"object\",\"name\":\"VArea\",\"id\":\"p9096\",\"attributes\":{\"x\":{\"type\":\"field\",\"field\":\"flight_date\"},\"y1\":{\"type\":\"expr\",\"expr\":{\"type\":\"object\",\"name\":\"Stack\",\"id\":\"p9048\",\"attributes\":{\"fields\":[\"active\",\"landed\",\"scheduled\",\"unknown\"]}}},\"y2\":{\"type\":\"expr\",\"expr\":{\"type\":\"object\",\"name\":\"Stack\",\"id\":\"p9049\",\"attributes\":{\"fields\":[\"active\",\"landed\",\"scheduled\",\"unknown\",\"cancelled\"]}}},\"fill_color\":\"#fc8d59\",\"hatch_color\":{\"type\":\"value\",\"value\":\"#fc8d59\"}}},\"nonselection_glyph\":{\"type\":\"object\",\"name\":\"VArea\",\"id\":\"p9097\",\"attributes\":{\"x\":{\"type\":\"field\",\"field\":\"flight_date\"},\"y1\":{\"type\":\"expr\",\"expr\":{\"id\":\"p9048\"}},\"y2\":{\"type\":\"expr\",\"expr\":{\"id\":\"p9049\"}},\"fill_color\":\"#fc8d59\",\"fill_alpha\":0.1,\"hatch_color\":{\"type\":\"value\",\"value\":\"#fc8d59\"},\"hatch_alpha\":{\"type\":\"value\",\"value\":0.1}}},\"muted_glyph\":{\"type\":\"object\",\"name\":\"VArea\",\"id\":\"p9098\",\"attributes\":{\"x\":{\"type\":\"field\",\"field\":\"flight_date\"},\"y1\":{\"type\":\"expr\",\"expr\":{\"id\":\"p9048\"}},\"y2\":{\"type\":\"expr\",\"expr\":{\"id\":\"p9049\"}},\"fill_color\":\"#fc8d59\",\"fill_alpha\":0.2,\"hatch_color\":{\"type\":\"value\",\"value\":\"#fc8d59\"},\"hatch_alpha\":{\"type\":\"value\",\"value\":0.2}}}}},{\"type\":\"object\",\"name\":\"GlyphRenderer\",\"id\":\"p9109\",\"attributes\":{\"name\":\"diverted\",\"data_source\":{\"id\":\"p8994\"},\"view\":{\"type\":\"object\",\"name\":\"CDSView\",\"id\":\"p9110\",\"attributes\":{\"filter\":{\"type\":\"object\",\"name\":\"AllIndices\",\"id\":\"p9111\"}}},\"glyph\":{\"type\":\"object\",\"name\":\"VArea\",\"id\":\"p9106\",\"attributes\":{\"x\":{\"type\":\"field\",\"field\":\"flight_date\"},\"y1\":{\"type\":\"expr\",\"expr\":{\"type\":\"object\",\"name\":\"Stack\",\"id\":\"p9050\",\"attributes\":{\"fields\":[\"active\",\"landed\",\"scheduled\",\"unknown\",\"cancelled\"]}}},\"y2\":{\"type\":\"expr\",\"expr\":{\"type\":\"object\",\"name\":\"Stack\",\"id\":\"p9051\",\"attributes\":{\"fields\":[\"active\",\"landed\",\"scheduled\",\"unknown\",\"cancelled\",\"diverted\"]}}},\"fill_color\":\"#d53e4f\",\"hatch_color\":{\"type\":\"value\",\"value\":\"#d53e4f\"}}},\"nonselection_glyph\":{\"type\":\"object\",\"name\":\"VArea\",\"id\":\"p9107\",\"attributes\":{\"x\":{\"type\":\"field\",\"field\":\"flight_date\"},\"y1\":{\"type\":\"expr\",\"expr\":{\"id\":\"p9050\"}},\"y2\":{\"type\":\"expr\",\"expr\":{\"id\":\"p9051\"}},\"fill_color\":\"#d53e4f\",\"fill_alpha\":0.1,\"hatch_color\":{\"type\":\"value\",\"value\":\"#d53e4f\"},\"hatch_alpha\":{\"type\":\"value\",\"value\":0.1}}},\"muted_glyph\":{\"type\":\"object\",\"name\":\"VArea\",\"id\":\"p9108\",\"attributes\":{\"x\":{\"type\":\"field\",\"field\":\"flight_date\"},\"y1\":{\"type\":\"expr\",\"expr\":{\"id\":\"p9050\"}},\"y2\":{\"type\":\"expr\",\"expr\":{\"id\":\"p9051\"}},\"fill_color\":\"#d53e4f\",\"fill_alpha\":0.2,\"hatch_color\":{\"type\":\"value\",\"value\":\"#d53e4f\"},\"hatch_alpha\":{\"type\":\"value\",\"value\":0.2}}}}},{\"type\":\"object\",\"name\":\"GlyphRenderer\",\"id\":\"p9119\",\"attributes\":{\"data_source\":{\"type\":\"object\",\"name\":\"ColumnDataSource\",\"id\":\"p9113\",\"attributes\":{\"selected\":{\"type\":\"object\",\"name\":\"Selection\",\"id\":\"p9114\",\"attributes\":{\"indices\":[],\"line_indices\":[]}},\"selection_policy\":{\"type\":\"object\",\"name\":\"UnionRenderers\",\"id\":\"p9115\"},\"data\":{\"type\":\"map\",\"entries\":[[\"x\",{\"type\":\"ndarray\",\"array\":{\"type\":\"bytes\",\"data\":\"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\"},\"shape\":[277],\"dtype\":\"float64\",\"order\":\"little\"}],[\"y\",{\"type\":\"ndarray\",\"array\":{\"type\":\"bytes\",\"data\":\"FQAAAAgAAAAZAAAAGwAAACoAAAAWAAAAGQAAABQAAAATAAAAEgAAABEAAAATAAAAIwAAABMAAAASAAAAGwAAABwAAAAYAAAAEAAAAB8AAAAiAAAAFAAAABAAAAATAAAAIgAAAB4AAAAhAAAAIAAAABEAAAAXAAAAHAAAABoAAAAhAAAAIAAAAB0AAAAWAAAAIgAAACQAAAAnAAAAIwAAABcAAAAlAAAAHwAAABwAAAAqAAAAHQAAABwAAAAUAAAAEgAAABgAAAAhAAAAIAAAABgAAAAXAAAAFAAAABoAAAArAAAAHAAAACQAAAAUAAAAIAAAABIAAAAXAAAAIQAAABIAAAAjAAAAHwAAABcAAAATAAAAFwAAABoAAAAeAAAAEwAAABkAAAAhAAAAGgAAABMAAAAaAAAAEgAAACQAAAASAAAADgAAABwAAAAMAAAAKAAAABEAAAARAAAAHwAAABsAAAAUAAAAFwAAABAAAAAXAAAACAAAABEAAAAkAAAAFgAAABcAAAAMAAAAEgAAABEAAAASAAAALQAAABkAAAAbAAAAHQAAACMAAAATAAAADAAAABAAAAAVAAAAFwAAABoAAAAbAAAAEQAAABsAAAAUAAAAEgAAABwAAAAVAAAAEgAAAAsAAAAYAAAAEgAAABYAAAAZAAAAFQAAACMAAAAOAAAAIgAAAA0AAAALAAAACQAAABcAAAASAAAAIwAAABAAAAAWAAAAEgAAABQAAAAXAAAAFgAAABUAAAARAAAAGgAAACAAAAAaAAAAGAAAABMAAAALAAAAEQAAACQAAAAaAAAAHwAAAB8AAAAfAAAAFgAAAA4AAAAXAAAAFgAAAA0AAAATAAAAIQAAABMAAAAbAAAAEQAAABoAAAAaAAAADwAAABcAAAAPAAAAEgAAABkAAAARAAAAEgAAABUAAAAmAAAAEgAAABAAAAAUAAAADAAAABIAAAAQAAAAGgAAACIAAAAiAAAAEgAAACUAAAAYAAAAIAAAABIAAAAfAAAAGQAAABkAAAARAAAAEAAAAB8AAAALAAAAHwAAABsAAAAbAAAAFAAAABYAAAAWAAAAEAAAABcAAAAKAAAAEwAAABUAAAAYAAAAFgAAAA0AAAAOAAAAFAAAABYAAAAWAAAAGgAAABkAAAAUAAAAFgAAABkAAAAVAAAAFAAAABUAAAAgAAAADwAAABIAAAAZAAAAHQAAABEAAAAoAAAAHgAAACcAAAAbAAAAHAAAABYAAABLAAAAJgAAABoAAAAOAAAAFQAAABwAAAAYAAAAEwAAABkAAAAPAAAAJAAAABoAAAAbAAAAGAAAABIAAAATAAAAIwAAACoAAAAaAAAAHwAAABYAAAAZAAAAGgAAACYAAABIAAAAOgAAABYAAABTAAAAQAAAAMgAAAB9AAAAjgAAAHMAAABpAAAAaQAAAIwAAAB1AAAAVwAAAGYAAABcAAAAfQAAAA==\"},\"shape\":[277],\"dtype\":\"int32\",\"order\":\"little\"}]]}}},\"view\":{\"type\":\"object\",\"name\":\"CDSView\",\"id\":\"p9120\",\"attributes\":{\"filter\":{\"type\":\"object\",\"name\":\"AllIndices\",\"id\":\"p9121\"}}},\"glyph\":{\"type\":\"object\",\"name\":\"Line\",\"id\":\"p9116\",\"attributes\":{\"x\":{\"type\":\"field\",\"field\":\"x\"},\"y\":{\"type\":\"field\",\"field\":\"y\"},\"line_width\":2}},\"nonselection_glyph\":{\"type\":\"object\",\"name\":\"Line\",\"id\":\"p9117\",\"attributes\":{\"x\":{\"type\":\"field\",\"field\":\"x\"},\"y\":{\"type\":\"field\",\"field\":\"y\"},\"line_alpha\":0.1,\"line_width\":2}},\"muted_glyph\":{\"type\":\"object\",\"name\":\"Line\",\"id\":\"p9118\",\"attributes\":{\"x\":{\"type\":\"field\",\"field\":\"x\"},\"y\":{\"type\":\"field\",\"field\":\"y\"},\"line_alpha\":0.2,\"line_width\":2}}}},{\"type\":\"object\",\"name\":\"Span\",\"id\":\"p9126\",\"attributes\":{\"location\":1717891200000.0,\"dimension\":\"height\",\"line_color\":\"#C6C6C6\",\"line_width\":2,\"line_dash\":[4,4]}},{\"type\":\"object\",\"name\":\"Span\",\"id\":\"p9128\",\"attributes\":{\"location\":1713052800000.0,\"dimension\":\"height\",\"line_color\":\"#C6C6C6\",\"line_width\":2,\"line_dash\":[4,4]}},{\"type\":\"object\",\"name\":\"Span\",\"id\":\"p9130\",\"attributes\":{\"location\":1724544000000.0,\"dimension\":\"height\",\"line_color\":\"#C6C6C6\",\"line_width\":2,\"line_dash\":[4,4]}},{\"type\":\"object\",\"name\":\"Span\",\"id\":\"p9132\",\"attributes\":{\"location\":1727049600000.0,\"dimension\":\"height\",\"line_color\":\"#C6C6C6\",\"line_width\":2,\"line_dash\":[4,4]}}],\"toolbar\":{\"type\":\"object\",\"name\":\"Toolbar\",\"id\":\"p9006\",\"attributes\":{\"tools\":[{\"type\":\"object\",\"name\":\"PanTool\",\"id\":\"p9031\"},{\"type\":\"object\",\"name\":\"BoxZoomTool\",\"id\":\"p9032\",\"attributes\":{\"overlay\":{\"type\":\"object\",\"name\":\"BoxAnnotation\",\"id\":\"p9033\",\"attributes\":{\"syncable\":false,\"level\":\"overlay\",\"visible\":false,\"left\":{\"type\":\"number\",\"value\":\"nan\"},\"right\":{\"type\":\"number\",\"value\":\"nan\"},\"top\":{\"type\":\"number\",\"value\":\"nan\"},\"bottom\":{\"type\":\"number\",\"value\":\"nan\"},\"left_units\":\"canvas\",\"right_units\":\"canvas\",\"top_units\":\"canvas\",\"bottom_units\":\"canvas\",\"line_color\":\"black\",\"line_alpha\":1.0,\"line_width\":2,\"line_dash\":[4,4],\"fill_color\":\"lightgrey\",\"fill_alpha\":0.5}}}},{\"type\":\"object\",\"name\":\"ResetTool\",\"id\":\"p9038\"},{\"type\":\"object\",\"name\":\"SaveTool\",\"id\":\"p9039\"}]}},\"toolbar_location\":\"above\",\"left\":[{\"type\":\"object\",\"name\":\"LinearAxis\",\"id\":\"p9026\",\"attributes\":{\"ticker\":{\"type\":\"object\",\"name\":\"BasicTicker\",\"id\":\"p9027\",\"attributes\":{\"mantissas\":[1,2,5]}},\"formatter\":{\"type\":\"object\",\"name\":\"BasicTickFormatter\",\"id\":\"p9028\"},\"axis_label\":\"Nr Flights\",\"major_label_policy\":{\"type\":\"object\",\"name\":\"AllLabels\",\"id\":\"p9029\"}}}],\"below\":[{\"type\":\"object\",\"name\":\"DatetimeAxis\",\"id\":\"p9009\",\"attributes\":{\"ticker\":{\"type\":\"object\",\"name\":\"FixedTicker\",\"id\":\"p9124\",\"attributes\":{\"ticks\":[1704585600000.0,1705795200000.0,1707004800000.0,1708214400000.0,1709424000000.0,1710633600000.0,1711843200000.0,1713052800000.0,1714262400000.0,1715472000000.0,1716681600000.0,1717891200000.0,1719100800000.0,1720310400000.0,1721520000000.0,1722729600000.0,1723939200000.0,1725148800000.0,1726358400000.0,1727568000000.0],\"minor_ticks\":[]}},\"formatter\":{\"type\":\"object\",\"name\":\"DatetimeTickFormatter\",\"id\":\"p9123\",\"attributes\":{\"days\":\"%d %b %Y\",\"months\":\"%b %Y\"}},\"axis_label\":\"Flight Date\",\"major_label_orientation\":1.2,\"major_label_policy\":{\"type\":\"object\",\"name\":\"AllLabels\",\"id\":\"p9024\"}}},{\"type\":\"object\",\"name\":\"Label\",\"id\":\"p9125\",\"attributes\":{\"text\":\"Source: Flight data from AviationStack and conflict events from ACLED\",\"text_color\":\"gray\",\"text_font_size\":\"10pt\",\"x\":0,\"y\":0,\"x_units\":\"screen\",\"y_units\":\"screen\"}}],\"center\":[{\"type\":\"object\",\"name\":\"Grid\",\"id\":\"p9025\",\"attributes\":{\"axis\":{\"id\":\"p9009\"}}},{\"type\":\"object\",\"name\":\"Grid\",\"id\":\"p9030\",\"attributes\":{\"dimension\":1,\"axis\":{\"id\":\"p9026\"}}},{\"type\":\"object\",\"name\":\"Legend\",\"id\":\"p9061\",\"attributes\":{\"location\":\"top_left\",\"orientation\":\"horizontal\",\"click_policy\":\"mute\",\"items\":[{\"type\":\"object\",\"name\":\"LegendItem\",\"id\":\"p9062\",\"attributes\":{\"label\":{\"type\":\"value\",\"value\":\"active\"},\"renderers\":[{\"id\":\"p9058\"}]}},{\"type\":\"object\",\"name\":\"LegendItem\",\"id\":\"p9072\",\"attributes\":{\"label\":{\"type\":\"value\",\"value\":\"landed\"},\"renderers\":[{\"id\":\"p9069\"}]}},{\"type\":\"object\",\"name\":\"LegendItem\",\"id\":\"p9082\",\"attributes\":{\"label\":{\"type\":\"value\",\"value\":\"scheduled\"},\"renderers\":[{\"id\":\"p9079\"}]}},{\"type\":\"object\",\"name\":\"LegendItem\",\"id\":\"p9092\",\"attributes\":{\"label\":{\"type\":\"value\",\"value\":\"unknown\"},\"renderers\":[{\"id\":\"p9089\"}]}},{\"type\":\"object\",\"name\":\"LegendItem\",\"id\":\"p9102\",\"attributes\":{\"label\":{\"type\":\"value\",\"value\":\"cancelled\"},\"renderers\":[{\"id\":\"p9099\"}]}},{\"type\":\"object\",\"name\":\"LegendItem\",\"id\":\"p9112\",\"attributes\":{\"label\":{\"type\":\"value\",\"value\":\"diverted\"},\"renderers\":[{\"id\":\"p9109\"}]}},{\"type\":\"object\",\"name\":\"LegendItem\",\"id\":\"p9122\",\"attributes\":{\"label\":{\"type\":\"value\",\"value\":\"Number of Conflict Events w/o Protests\"},\"renderers\":[{\"id\":\"p9119\"}]}}]}},{\"type\":\"object\",\"name\":\"Label\",\"id\":\"p9127\",\"attributes\":{\"text\":\"Airline data\\nnot available\",\"text_color\":\"black\",\"text_font_size\":\"10pt\",\"text_align\":\"right\",\"background_fill_color\":\"grey\",\"background_fill_alpha\":0.2,\"x\":1717891200000.0,\"y\":200.0,\"x_offset\":-5}},{\"type\":\"object\",\"name\":\"Label\",\"id\":\"p9129\",\"attributes\":{\"text\":\"Temporary shutdown of\\nLebanese airspace between\\n7AM and 1PM\",\"text_color\":\"black\",\"text_font_size\":\"10pt\",\"text_align\":\"right\",\"background_fill_color\":\"grey\",\"background_fill_alpha\":0.2,\"x\":1713052800000.0,\"y\":180.0,\"x_offset\":-5}},{\"type\":\"object\",\"name\":\"Label\",\"id\":\"p9131\",\"attributes\":{\"text\":\"Israeli strikes in\\nSouthern Lebanon\",\"text_color\":\"black\",\"text_font_size\":\"10pt\",\"text_align\":\"right\",\"background_fill_color\":\"grey\",\"background_fill_alpha\":0.2,\"x\":1724544000000.0,\"y\":160.0,\"x_offset\":-5}},{\"type\":\"object\",\"name\":\"Label\",\"id\":\"p9133\",\"attributes\":{\"text\":\"Start of the Israel-Hezboullah\\nConflict\",\"text_color\":\"black\",\"text_font_size\":\"10pt\",\"text_align\":\"right\",\"background_fill_color\":\"grey\",\"background_fill_alpha\":0.2,\"x\":1727049600000.0,\"y\":140.0,\"x_offset\":-5}}]}}]}};\n  const render_items = [{\"docid\":\"0b6fa176-e646-42e9-8e4e-a1caba17191d\",\"roots\":{\"p8997\":\"b7b9e156-041d-46b3-b824-953fd62104c6\"},\"root_ids\":[\"p8997\"]}];\n  void root.Bokeh.embed.embed_items_notebook(docs_json, render_items);\n  }\n  if (root.Bokeh !== undefined) {\n    embed_document(root);\n  } else {\n    let attempts = 0;\n    const timer = setInterval(function(root) {\n      if (root.Bokeh !== undefined) {\n        clearInterval(timer);\n        embed_document(root);\n      } else {\n        attempts++;\n        if (attempts > 100) {\n          clearInterval(timer);\n          console.log(\"Bokeh: ERROR: Unable to run BokehJS code because BokehJS library is missing\");\n        }\n      }\n    }, 10, root)\n  }\n})(window);",
      "application/vnd.bokehjs_exec.v0+json": ""
     },
     "metadata": {
      "application/vnd.bokehjs_exec.v0+json": {
       "id": "p8997"
      }
     },
     "output_type": "display_data"
    }
   ],
   "source": [
    "output_notebook()  # Display plots inline in a Jupyter notebook\n",
    "\n",
    "df = df = (\n",
    "    arrivals_exploded.groupby([\"flight_date\", \"flight_status\"])\n",
    "    .count()[[\"iata_arr\"]]\n",
    "    .reset_index()\n",
    ")\n",
    "df[\"flight_date\"] = df[\"flight_date\"].apply(lambda x: pd.to_datetime(x))\n",
    "\n",
    "show(\n",
    "    get_area_plot(\n",
    "        df,\n",
    "        \"Daily Arrivals to BEY\",\n",
    "        \"Source: Flight data from AviationStack and conflict events from ACLED\",\n",
    "        acled_events_daily,\n",
    "        events_dict=events,\n",
    "    )\n",
    ")"
   ]
  },
  {
   "cell_type": "markdown",
   "metadata": {},
   "source": [
    "### Findings\n",
    "\n",
    "- On 14th April 2024, there was a temporary shutdown on Lebanese airspace between 7AM and 1PM. On that day, there were 15 flights that reported as landed. All the flights in the 'Active' status also donot have an 'actual arrival time' recorded which could lead us to assume that some of them were either cancelled or never took off. \n",
    "- There is no flight data on 29th and 30th of January, 29th and 30th of April and 7th to 9th of June 2024. "
   ]
  },
  {
   "cell_type": "code",
   "execution_count": 133,
   "metadata": {
    "tags": [
     "remove-input"
    ]
   },
   "outputs": [
    {
     "data": {
      "text/html": [
       "    <style>\n",
       "        .bk-notebook-logo {\n",
       "            display: block;\n",
       "            width: 20px;\n",
       "            height: 20px;\n",
       "            background-image: url(data:image/png;base64,iVBORw0KGgoAAAANSUhEUgAAABQAAAAUCAYAAACNiR0NAAAABHNCSVQICAgIfAhkiAAAAAlwSFlzAAALEgAACxIB0t1+/AAAABx0RVh0U29mdHdhcmUAQWRvYmUgRmlyZXdvcmtzIENTNui8sowAAAOkSURBVDiNjZRtaJVlGMd/1/08zzln5zjP1LWcU9N0NkN8m2CYjpgQYQXqSs0I84OLIC0hkEKoPtiH3gmKoiJDU7QpLgoLjLIQCpEsNJ1vqUOdO7ppbuec5+V+rj4ctwzd8IIbbi6u+8f1539dt3A78eXC7QizUF7gyV1fD1Yqg4JWz84yffhm0qkFqBogB9rM8tZdtwVsPUhWhGcFJngGeWrPzHm5oaMmkfEg1usvLFyc8jLRqDOMru7AyC8saQr7GG7f5fvDeH7Ej8CM66nIF+8yngt6HWaKh7k49Soy9nXurCi1o3qUbS3zWfrYeQDTB/Qj6kX6Ybhw4B+bOYoLKCC9H3Nu/leUTZ1JdRWkkn2ldcCamzrcf47KKXdAJllSlxAOkRgyHsGC/zRday5Qld9DyoM4/q/rUoy/CXh3jzOu3bHUVZeU+DEn8FInkPBFlu3+nW3Nw0mk6vCDiWg8CeJaxEwuHS3+z5RgY+YBR6V1Z1nxSOfoaPa4LASWxxdNp+VWTk7+4vzaou8v8PN+xo+KY2xsw6une2frhw05CTYOmQvsEhjhWjn0bmXPjpE1+kplmmkP3suftwTubK9Vq22qKmrBhpY4jvd5afdRA3wGjFAgcnTK2s4hY0/GPNIb0nErGMCRxWOOX64Z8RAC4oCXdklmEvcL8o0BfkNK4lUg9HTl+oPlQxdNo3Mg4Nv175e/1LDGzZen30MEjRUtmXSfiTVu1kK8W4txyV6BMKlbgk3lMwYCiusNy9fVfvvwMxv8Ynl6vxoByANLTWplvuj/nF9m2+PDtt1eiHPBr1oIfhCChQMBw6Aw0UulqTKZdfVvfG7VcfIqLG9bcldL/+pdWTLxLUy8Qq38heUIjh4XlzZxzQm19lLFlr8vdQ97rjZVOLf8nclzckbcD4wxXMidpX30sFd37Fv/GtwwhzhxGVAprjbg0gCAEeIgwCZyTV2Z1REEW8O4py0wsjeloKoMr6iCY6dP92H6Vw/oTyICIthibxjm/DfN9lVz8IqtqKYLUXfoKVMVQVVJOElGjrnnUt9T9wbgp8AyYKaGlqingHZU/uG2NTZSVqwHQTWkx9hxjkpWDaCg6Ckj5qebgBVbT3V3NNXMSiWSDdGV3hrtzla7J+duwPOToIg42ChPQOQjspnSlp1V+Gjdged7+8UN5CRAV7a5EdFNwCjEaBR27b3W890TE7g24NAP/mMDXRWrGoFPQI9ls/MWO2dWFAar/xcOIImbbpA3zgAAAABJRU5ErkJggg==);\n",
       "        }\n",
       "    </style>\n",
       "    <div>\n",
       "        <a href=\"https://bokeh.org\" target=\"_blank\" class=\"bk-notebook-logo\"></a>\n",
       "        <span id=\"bef7cb4d-01f4-44a8-bd28-fe3088154bf3\">Loading BokehJS ...</span>\n",
       "    </div>\n"
      ]
     },
     "metadata": {},
     "output_type": "display_data"
    },
    {
     "data": {
      "application/javascript": "'use strict';\n(function(root) {\n  function now() {\n    return new Date();\n  }\n\n  const force = true;\n\n  if (typeof root._bokeh_onload_callbacks === \"undefined\" || force === true) {\n    root._bokeh_onload_callbacks = [];\n    root._bokeh_is_loading = undefined;\n  }\n\nconst JS_MIME_TYPE = 'application/javascript';\n  const HTML_MIME_TYPE = 'text/html';\n  const EXEC_MIME_TYPE = 'application/vnd.bokehjs_exec.v0+json';\n  const CLASS_NAME = 'output_bokeh rendered_html';\n\n  /**\n   * Render data to the DOM node\n   */\n  function render(props, node) {\n    const script = document.createElement(\"script\");\n    node.appendChild(script);\n  }\n\n  /**\n   * Handle when an output is cleared or removed\n   */\n  function handleClearOutput(event, handle) {\n    function drop(id) {\n      const view = Bokeh.index.get_by_id(id)\n      if (view != null) {\n        view.model.document.clear()\n        Bokeh.index.delete(view)\n      }\n    }\n\n    const cell = handle.cell;\n\n    const id = cell.output_area._bokeh_element_id;\n    const server_id = cell.output_area._bokeh_server_id;\n\n    // Clean up Bokeh references\n    if (id != null) {\n      drop(id)\n    }\n\n    if (server_id !== undefined) {\n      // Clean up Bokeh references\n      const cmd_clean = \"from bokeh.io.state import curstate; print(curstate().uuid_to_server['\" + server_id + \"'].get_sessions()[0].document.roots[0]._id)\";\n      cell.notebook.kernel.execute(cmd_clean, {\n        iopub: {\n          output: function(msg) {\n            const id = msg.content.text.trim()\n            drop(id)\n          }\n        }\n      });\n      // Destroy server and session\n      const cmd_destroy = \"import bokeh.io.notebook as ion; ion.destroy_server('\" + server_id + \"')\";\n      cell.notebook.kernel.execute(cmd_destroy);\n    }\n  }\n\n  /**\n   * Handle when a new output is added\n   */\n  function handleAddOutput(event, handle) {\n    const output_area = handle.output_area;\n    const output = handle.output;\n\n    // limit handleAddOutput to display_data with EXEC_MIME_TYPE content only\n    if ((output.output_type != \"display_data\") || (!Object.prototype.hasOwnProperty.call(output.data, EXEC_MIME_TYPE))) {\n      return\n    }\n\n    const toinsert = output_area.element.find(\".\" + CLASS_NAME.split(' ')[0]);\n\n    if (output.metadata[EXEC_MIME_TYPE][\"id\"] !== undefined) {\n      toinsert[toinsert.length - 1].firstChild.textContent = output.data[JS_MIME_TYPE];\n      // store reference to embed id on output_area\n      output_area._bokeh_element_id = output.metadata[EXEC_MIME_TYPE][\"id\"];\n    }\n    if (output.metadata[EXEC_MIME_TYPE][\"server_id\"] !== undefined) {\n      const bk_div = document.createElement(\"div\");\n      bk_div.innerHTML = output.data[HTML_MIME_TYPE];\n      const script_attrs = bk_div.children[0].attributes;\n      for (let i = 0; i < script_attrs.length; i++) {\n        toinsert[toinsert.length - 1].firstChild.setAttribute(script_attrs[i].name, script_attrs[i].value);\n        toinsert[toinsert.length - 1].firstChild.textContent = bk_div.children[0].textContent\n      }\n      // store reference to server id on output_area\n      output_area._bokeh_server_id = output.metadata[EXEC_MIME_TYPE][\"server_id\"];\n    }\n  }\n\n  function register_renderer(events, OutputArea) {\n\n    function append_mime(data, metadata, element) {\n      // create a DOM node to render to\n      const toinsert = this.create_output_subarea(\n        metadata,\n        CLASS_NAME,\n        EXEC_MIME_TYPE\n      );\n      this.keyboard_manager.register_events(toinsert);\n      // Render to node\n      const props = {data: data, metadata: metadata[EXEC_MIME_TYPE]};\n      render(props, toinsert[toinsert.length - 1]);\n      element.append(toinsert);\n      return toinsert\n    }\n\n    /* Handle when an output is cleared or removed */\n    events.on('clear_output.CodeCell', handleClearOutput);\n    events.on('delete.Cell', handleClearOutput);\n\n    /* Handle when a new output is added */\n    events.on('output_added.OutputArea', handleAddOutput);\n\n    /**\n     * Register the mime type and append_mime function with output_area\n     */\n    OutputArea.prototype.register_mime_type(EXEC_MIME_TYPE, append_mime, {\n      /* Is output safe? */\n      safe: true,\n      /* Index of renderer in `output_area.display_order` */\n      index: 0\n    });\n  }\n\n  // register the mime type if in Jupyter Notebook environment and previously unregistered\n  if (root.Jupyter !== undefined) {\n    const events = require('base/js/events');\n    const OutputArea = require('notebook/js/outputarea').OutputArea;\n\n    if (OutputArea.prototype.mime_types().indexOf(EXEC_MIME_TYPE) == -1) {\n      register_renderer(events, OutputArea);\n    }\n  }\n  if (typeof (root._bokeh_timeout) === \"undefined\" || force === true) {\n    root._bokeh_timeout = Date.now() + 5000;\n    root._bokeh_failed_load = false;\n  }\n\n  const NB_LOAD_WARNING = {'data': {'text/html':\n     \"<div style='background-color: #fdd'>\\n\"+\n     \"<p>\\n\"+\n     \"BokehJS does not appear to have successfully loaded. If loading BokehJS from CDN, this \\n\"+\n     \"may be due to a slow or bad network connection. Possible fixes:\\n\"+\n     \"</p>\\n\"+\n     \"<ul>\\n\"+\n     \"<li>re-rerun `output_notebook()` to attempt to load from CDN again, or</li>\\n\"+\n     \"<li>use INLINE resources instead, as so:</li>\\n\"+\n     \"</ul>\\n\"+\n     \"<code>\\n\"+\n     \"from bokeh.resources import INLINE\\n\"+\n     \"output_notebook(resources=INLINE)\\n\"+\n     \"</code>\\n\"+\n     \"</div>\"}};\n\n  function display_loaded(error = null) {\n    const el = document.getElementById(\"bef7cb4d-01f4-44a8-bd28-fe3088154bf3\");\n    if (el != null) {\n      const html = (() => {\n        if (typeof root.Bokeh === \"undefined\") {\n          if (error == null) {\n            return \"BokehJS is loading ...\";\n          } else {\n            return \"BokehJS failed to load.\";\n          }\n        } else {\n          const prefix = `BokehJS ${root.Bokeh.version}`;\n          if (error == null) {\n            return `${prefix} successfully loaded.`;\n          } else {\n            return `${prefix} <b>encountered errors</b> while loading and may not function as expected.`;\n          }\n        }\n      })();\n      el.innerHTML = html;\n\n      if (error != null) {\n        const wrapper = document.createElement(\"div\");\n        wrapper.style.overflow = \"auto\";\n        wrapper.style.height = \"5em\";\n        wrapper.style.resize = \"vertical\";\n        const content = document.createElement(\"div\");\n        content.style.fontFamily = \"monospace\";\n        content.style.whiteSpace = \"pre-wrap\";\n        content.style.backgroundColor = \"rgb(255, 221, 221)\";\n        content.textContent = error.stack ?? error.toString();\n        wrapper.append(content);\n        el.append(wrapper);\n      }\n    } else if (Date.now() < root._bokeh_timeout) {\n      setTimeout(() => display_loaded(error), 100);\n    }\n  }\n\n  function run_callbacks() {\n    try {\n      root._bokeh_onload_callbacks.forEach(function(callback) {\n        if (callback != null)\n          callback();\n      });\n    } finally {\n      delete root._bokeh_onload_callbacks\n    }\n    console.debug(\"Bokeh: all callbacks have finished\");\n  }\n\n  function load_libs(css_urls, js_urls, callback) {\n    if (css_urls == null) css_urls = [];\n    if (js_urls == null) js_urls = [];\n\n    root._bokeh_onload_callbacks.push(callback);\n    if (root._bokeh_is_loading > 0) {\n      console.debug(\"Bokeh: BokehJS is being loaded, scheduling callback at\", now());\n      return null;\n    }\n    if (js_urls == null || js_urls.length === 0) {\n      run_callbacks();\n      return null;\n    }\n    console.debug(\"Bokeh: BokehJS not loaded, scheduling load and callback at\", now());\n    root._bokeh_is_loading = css_urls.length + js_urls.length;\n\n    function on_load() {\n      root._bokeh_is_loading--;\n      if (root._bokeh_is_loading === 0) {\n        console.debug(\"Bokeh: all BokehJS libraries/stylesheets loaded\");\n        run_callbacks()\n      }\n    }\n\n    function on_error(url) {\n      console.error(\"failed to load \" + url);\n    }\n\n    for (let i = 0; i < css_urls.length; i++) {\n      const url = css_urls[i];\n      const element = document.createElement(\"link\");\n      element.onload = on_load;\n      element.onerror = on_error.bind(null, url);\n      element.rel = \"stylesheet\";\n      element.type = \"text/css\";\n      element.href = url;\n      console.debug(\"Bokeh: injecting link tag for BokehJS stylesheet: \", url);\n      document.body.appendChild(element);\n    }\n\n    for (let i = 0; i < js_urls.length; i++) {\n      const url = js_urls[i];\n      const element = document.createElement('script');\n      element.onload = on_load;\n      element.onerror = on_error.bind(null, url);\n      element.async = false;\n      element.src = url;\n      console.debug(\"Bokeh: injecting script tag for BokehJS library: \", url);\n      document.head.appendChild(element);\n    }\n  };\n\n  function inject_raw_css(css) {\n    const element = document.createElement(\"style\");\n    element.appendChild(document.createTextNode(css));\n    document.body.appendChild(element);\n  }\n\n  const js_urls = [\"https://cdn.bokeh.org/bokeh/release/bokeh-3.4.1.min.js\", \"https://cdn.bokeh.org/bokeh/release/bokeh-gl-3.4.1.min.js\", \"https://cdn.bokeh.org/bokeh/release/bokeh-widgets-3.4.1.min.js\", \"https://cdn.bokeh.org/bokeh/release/bokeh-tables-3.4.1.min.js\", \"https://cdn.bokeh.org/bokeh/release/bokeh-mathjax-3.4.1.min.js\"];\n  const css_urls = [];\n\n  const inline_js = [    function(Bokeh) {\n      Bokeh.set_log_level(\"info\");\n    },\nfunction(Bokeh) {\n    }\n  ];\n\n  function run_inline_js() {\n    if (root.Bokeh !== undefined || force === true) {\n      try {\n            for (let i = 0; i < inline_js.length; i++) {\n      inline_js[i].call(root, root.Bokeh);\n    }\n\n      } catch (error) {display_loaded(error);throw error;\n      }if (force === true) {\n        display_loaded();\n      }} else if (Date.now() < root._bokeh_timeout) {\n      setTimeout(run_inline_js, 100);\n    } else if (!root._bokeh_failed_load) {\n      console.log(\"Bokeh: BokehJS failed to load within specified timeout.\");\n      root._bokeh_failed_load = true;\n    } else if (force !== true) {\n      const cell = $(document.getElementById(\"bef7cb4d-01f4-44a8-bd28-fe3088154bf3\")).parents('.cell').data().cell;\n      cell.output_area.append_execute_result(NB_LOAD_WARNING)\n    }\n  }\n\n  if (root._bokeh_is_loading === 0) {\n    console.debug(\"Bokeh: BokehJS loaded, going straight to plotting\");\n    run_inline_js();\n  } else {\n    load_libs(css_urls, js_urls, function() {\n      console.debug(\"Bokeh: BokehJS plotting callback run at\", now());\n      run_inline_js();\n    });\n  }\n}(window));",
      "application/vnd.bokehjs_load.v0+json": ""
     },
     "metadata": {},
     "output_type": "display_data"
    },
    {
     "data": {
      "text/html": [
       "\n",
       "  <div id=\"f4c3b3b1-0c81-4348-9f0d-83dda093285c\" data-root-id=\"p9147\" style=\"display: contents;\"></div>\n"
      ]
     },
     "metadata": {},
     "output_type": "display_data"
    },
    {
     "data": {
      "application/javascript": "(function(root) {\n  function embed_document(root) {\n  const docs_json = {\"6b14823c-216e-46a5-a380-db1121abfc7c\":{\"version\":\"3.4.1\",\"title\":\"Bokeh Application\",\"roots\":[{\"type\":\"object\",\"name\":\"Figure\",\"id\":\"p9147\",\"attributes\":{\"width\":800,\"x_range\":{\"type\":\"object\",\"name\":\"DataRange1d\",\"id\":\"p9148\"},\"y_range\":{\"type\":\"object\",\"name\":\"DataRange1d\",\"id\":\"p9149\",\"attributes\":{\"start\":0,\"end\":1132}},\"x_scale\":{\"type\":\"object\",\"name\":\"LinearScale\",\"id\":\"p9157\"},\"y_scale\":{\"type\":\"object\",\"name\":\"LinearScale\",\"id\":\"p9158\"},\"title\":{\"type\":\"object\",\"name\":\"Title\",\"id\":\"p9150\",\"attributes\":{\"text\":\"Weekly Arrivals to BEY\"}},\"renderers\":[{\"type\":\"object\",\"name\":\"GlyphRenderer\",\"id\":\"p9208\",\"attributes\":{\"name\":\"active\",\"data_source\":{\"type\":\"object\",\"name\":\"ColumnDataSource\",\"id\":\"p9144\",\"attributes\":{\"selected\":{\"type\":\"object\",\"name\":\"Selection\",\"id\":\"p9145\",\"attributes\":{\"indices\":[],\"line_indices\":[]}},\"selection_policy\":{\"type\":\"object\",\"name\":\"UnionRenderers\",\"id\":\"p9146\"},\"data\":{\"type\":\"map\",\"entries\":[[\"index\",{\"type\":\"ndarray\",\"array\":{\"type\":\"bytes\",\"data\":\"AAAAAAEAAAACAAAAAwAAAAQAAAAFAAAABgAAAAcAAAAIAAAACQAAAAoAAAALAAAADAAAAA0AAAAOAAAADwAAABAAAAARAAAAEgAAABMAAAAUAAAAFQAAABYAAAAXAAAAGAAAABkAAAAaAAAAGwAAABwAAAAdAAAAHgAAAB8AAAAgAAAAIQAAACIAAAAjAAAAJAAAACUAAAAmAAAAJwAAACgAAAA=\"},\"shape\":[41],\"dtype\":\"int32\",\"order\":\"little\"}],[\"flight_date\",{\"type\":\"ndarray\",\"array\":{\"type\":\"bytes\",\"data\":\"AADAgRPOeEIAAABKVNB4QgAAQBKV0nhCAACA2tXUeEIAAMCiFtd4QgAAAGtX2XhCAABAM5jbeEIAAID72N14QgAAwMMZ4HhCAAAAjFrieEIAAEBUm+R4QgAAgBzc5nhCAADA5BzpeEIAAACtXet4QgAAQHWe7XhCAACAPd/veEIAAMAFIPJ4QgAAAM5g9HhCAABAlqH2eEIAAIBe4vh4QgAAwCYj+3hCAAAA72P9eEIAAEC3pP94QgAAgH/lAXlCAADARyYEeUIAAAAQZwZ5QgAAQNinCHlCAACAoOgKeUIAAMBoKQ15QgAAADFqD3lCAABA+aoReUIAAIDB6xN5QgAAwIksFnlCAAAAUm0YeUIAAEAarhp5QgAAgOLuHHlCAADAqi8feUIAAABzcCF5QgAAQDuxI3lCAACAA/IleUIAAMDLMih5Qg==\"},\"shape\":[41],\"dtype\":\"float64\",\"order\":\"little\"}],[\"active\",{\"type\":\"ndarray\",\"array\":{\"type\":\"bytes\",\"data\":\"AAAAAABAZUAAAAAAAEBdQAAAAAAAgGFAAAAAAACAWEAAAAAAAIBIQAAAAAAAwFpAAAAAAABAWEAAAAAAAMBYQAAAAAAAgEtAAAAAAACAW0AAAAAAAOBgQAAAAAAAgFRAAAAAAABAVEAAAAAAAGBgQAAAAAAAIGNAAAAAAABAVEAAAAAAAIBUQAAAAAAAwFFAAAAAAADAUEAAAAAAAABUQAAAAAAAQFJAAAAAAAAAU0AAAAAAAAA3QAAAAAAAAFFAAAAAAAAAUEAAAAAAAEBSQAAAAAAAgEFAAAAAAACARkAAAAAAAIBRQAAAAAAAQFFAAAAAAACAWEAAAAAAAABUQAAAAAAAAE5AAAAAAACAU0AAAAAAAMBVQAAAAAAAwFFAAAAAAAAAVkAAAAAAAEBTQAAAAAAAwFlAAAAAAABAUEAAAAAAAAAuQA==\"},\"shape\":[41],\"dtype\":\"float64\",\"order\":\"little\"}],[\"cancelled\",{\"type\":\"ndarray\",\"array\":{\"type\":\"bytes\",\"data\":\"AAAAAAAAAEAAAAAAAAAAAAAAAAAAAPA/AAAAAAAA8D8AAAAAAAAIQAAAAAAAAPA/AAAAAAAA8D8AAAAAAADwPwAAAAAAAAAAAAAAAAAACEAAAAAAAAAQQAAAAAAAAABAAAAAAAAA8D8AAAAAAADwPwAAAAAAADpAAAAAAACARUAAAAAAAAAgQAAAAAAAAABAAAAAAAAAEEAAAAAAAAAQQAAAAAAAAPA/AAAAAAAA8D8AAAAAAADwPwAAAAAAABBAAAAAAAAAAEAAAAAAAAAIQAAAAAAAACRAAAAAAAAAIEAAAAAAAAAQQAAAAAAAABBAAAAAAADAXEAAAAAAAABGQAAAAAAAADZAAAAAAACAQEAAAAAAAAAwQAAAAAAAABhAAAAAAAAACEAAAAAAAAA7QAAAAAAAgGBAAAAAAACAVkAAAAAAAAAQQA==\"},\"shape\":[41],\"dtype\":\"float64\",\"order\":\"little\"}],[\"diverted\",{\"type\":\"ndarray\",\"array\":{\"type\":\"bytes\",\"data\":\"AAAAAAAAAAAAAAAAAAAAAAAAAAAAAAAAAAAAAAAAAAAAAAAAAAAAAAAAAAAAAAAAAAAAAAAAAAAAAAAAAAAAAAAAAAAAAAAAAAAAAAAAAAAAAAAAAADwPwAAAAAAAPA/AAAAAAAA8D8AAAAAAADwPwAAAAAAAAhAAAAAAAAAAEAAAAAAAAAAAAAAAAAAAABAAAAAAAAAFEAAAAAAAAAUQAAAAAAAAPA/AAAAAAAA8D8AAAAAAAAAAAAAAAAAAPA/AAAAAAAAAEAAAAAAAADwPwAAAAAAAABAAAAAAAAA8D8AAAAAAAAYQAAAAAAAAPA/AAAAAAAAAEAAAAAAAAAQQAAAAAAAAABAAAAAAAAATEAAAAAAAABwQAAAAAAAoGZAAAAAAAAgaUAAAAAAAKBjQAAAAAAAAEhAAAAAAACAQ0AAAAAAAAAIQA==\"},\"shape\":[41],\"dtype\":\"float64\",\"order\":\"little\"}],[\"landed\",{\"type\":\"ndarray\",\"array\":{\"type\":\"bytes\",\"data\":\"AAAAAABgbkAAAAAAAMBuQAAAAAAAgGpAAAAAAAAgaEAAAAAAAEBmQAAAAAAAIGxAAAAAAAAAb0AAAAAAAOBtQAAAAAAAgHFAAAAAAADAa0AAAAAAAOBpQAAAAAAAcHFAAAAAAABgdEAAAAAAAABzQAAAAAAA4G1AAAAAAADwckAAAAAAACBzQAAAAAAAYG1AAAAAAABgd0AAAAAAAPB0QAAAAAAA8HZAAAAAAADgdkAAAAAAAABfQAAAAAAAQIBAAAAAAADAf0AAAAAAAFB9QAAAAAAA4H5AAAAAAAAIgUAAAAAAAGB/QAAAAAAASIBAAAAAAABQeEAAAAAAALB6QAAAAAAAAH1AAAAAAABQdkAAAAAAAKBlQAAAAAAAIGZAAAAAAABAZEAAAAAAAABjQAAAAAAAAFNAAAAAAACgZEAAAAAAAAA2QA==\"},\"shape\":[41],\"dtype\":\"float64\",\"order\":\"little\"}],[\"scheduled\",{\"type\":\"ndarray\",\"array\":{\"type\":\"bytes\",\"data\":\"AAAAAABAU0AAAAAAAABPQAAAAAAAgEdAAAAAAACARkAAAAAAAABDQAAAAAAAgFBAAAAAAAAASEAAAAAAAABQQAAAAAAAAFFAAAAAAADAUUAAAAAAAIBDQAAAAAAAAEVAAAAAAAAAR0AAAAAAAABRQAAAAAAAwFVAAAAAAAAAUEAAAAAAAIBSQAAAAAAAgEpAAAAAAACAQkAAAAAAAIBHQAAAAAAAgEJAAAAAAAAAS0AAAAAAAABSQAAAAAAAAE1AAAAAAACASUAAAAAAAMBSQAAAAAAAgFRAAAAAAAAASEAAAAAAAABRQAAAAAAAAEZAAAAAAADAVEAAAAAAAMBUQAAAAAAAwFBAAAAAAADAUEAAAAAAAEBUQAAAAAAAgFdAAAAAAAAAREAAAAAAAABDQAAAAAAAAEZAAAAAAAAASUAAAAAAAAAcQA==\"},\"shape\":[41],\"dtype\":\"float64\",\"order\":\"little\"}],[\"unknown\",{\"type\":\"ndarray\",\"array\":{\"type\":\"bytes\",\"data\":\"AAAAAAAAEEAAAAAAAAAmQAAAAAAAACBAAAAAAAAAKEAAAAAAAAAcQAAAAAAAABxAAAAAAAAAIEAAAAAAAAAmQAAAAAAAAAhAAAAAAAAA8D8AAAAAAAAkQAAAAAAAACJAAAAAAAAAJEAAAAAAAAAQQAAAAAAAACpAAAAAAAAAIEAAAAAAAAAmQAAAAAAAAAhAAAAAAAAAJEAAAAAAAAAqQAAAAAAAACxAAAAAAAAAMUAAAAAAAAAQQAAAAAAAACZAAAAAAAAALkAAAAAAAAAiQAAAAAAAABRAAAAAAAAAIEAAAAAAAAAiQAAAAAAAACJAAAAAAAAAP0AAAAAAAABQQAAAAAAAAExAAAAAAAAAR0AAAAAAAABOQAAAAAAAADdAAAAAAAAAMkAAAAAAAAA9QAAAAAAAgE5AAAAAAABgYEAAAAAAAAA4QA==\"},\"shape\":[41],\"dtype\":\"float64\",\"order\":\"little\"}]]}}},\"view\":{\"type\":\"object\",\"name\":\"CDSView\",\"id\":\"p9209\",\"attributes\":{\"filter\":{\"type\":\"object\",\"name\":\"AllIndices\",\"id\":\"p9210\"}}},\"glyph\":{\"type\":\"object\",\"name\":\"VArea\",\"id\":\"p9205\",\"attributes\":{\"x\":{\"type\":\"field\",\"field\":\"flight_date\"},\"y1\":{\"type\":\"expr\",\"expr\":{\"type\":\"object\",\"name\":\"Stack\",\"id\":\"p9190\",\"attributes\":{\"fields\":[]}}},\"y2\":{\"type\":\"expr\",\"expr\":{\"type\":\"object\",\"name\":\"Stack\",\"id\":\"p9191\",\"attributes\":{\"fields\":[\"active\"]}}},\"fill_color\":\"#3288bd\",\"hatch_color\":{\"type\":\"value\",\"value\":\"#3288bd\"}}},\"nonselection_glyph\":{\"type\":\"object\",\"name\":\"VArea\",\"id\":\"p9206\",\"attributes\":{\"x\":{\"type\":\"field\",\"field\":\"flight_date\"},\"y1\":{\"type\":\"expr\",\"expr\":{\"id\":\"p9190\"}},\"y2\":{\"type\":\"expr\",\"expr\":{\"id\":\"p9191\"}},\"fill_color\":\"#3288bd\",\"fill_alpha\":0.1,\"hatch_color\":{\"type\":\"value\",\"value\":\"#3288bd\"},\"hatch_alpha\":{\"type\":\"value\",\"value\":0.1}}},\"muted_glyph\":{\"type\":\"object\",\"name\":\"VArea\",\"id\":\"p9207\",\"attributes\":{\"x\":{\"type\":\"field\",\"field\":\"flight_date\"},\"y1\":{\"type\":\"expr\",\"expr\":{\"id\":\"p9190\"}},\"y2\":{\"type\":\"expr\",\"expr\":{\"id\":\"p9191\"}},\"fill_color\":\"#3288bd\",\"fill_alpha\":0.2,\"hatch_color\":{\"type\":\"value\",\"value\":\"#3288bd\"},\"hatch_alpha\":{\"type\":\"value\",\"value\":0.2}}}}},{\"type\":\"object\",\"name\":\"GlyphRenderer\",\"id\":\"p9219\",\"attributes\":{\"name\":\"cancelled\",\"data_source\":{\"id\":\"p9144\"},\"view\":{\"type\":\"object\",\"name\":\"CDSView\",\"id\":\"p9220\",\"attributes\":{\"filter\":{\"type\":\"object\",\"name\":\"AllIndices\",\"id\":\"p9221\"}}},\"glyph\":{\"type\":\"object\",\"name\":\"VArea\",\"id\":\"p9216\",\"attributes\":{\"x\":{\"type\":\"field\",\"field\":\"flight_date\"},\"y1\":{\"type\":\"expr\",\"expr\":{\"type\":\"object\",\"name\":\"Stack\",\"id\":\"p9192\",\"attributes\":{\"fields\":[\"active\"]}}},\"y2\":{\"type\":\"expr\",\"expr\":{\"type\":\"object\",\"name\":\"Stack\",\"id\":\"p9193\",\"attributes\":{\"fields\":[\"active\",\"cancelled\"]}}},\"fill_color\":\"#99d594\",\"hatch_color\":{\"type\":\"value\",\"value\":\"#99d594\"}}},\"nonselection_glyph\":{\"type\":\"object\",\"name\":\"VArea\",\"id\":\"p9217\",\"attributes\":{\"x\":{\"type\":\"field\",\"field\":\"flight_date\"},\"y1\":{\"type\":\"expr\",\"expr\":{\"id\":\"p9192\"}},\"y2\":{\"type\":\"expr\",\"expr\":{\"id\":\"p9193\"}},\"fill_color\":\"#99d594\",\"fill_alpha\":0.1,\"hatch_color\":{\"type\":\"value\",\"value\":\"#99d594\"},\"hatch_alpha\":{\"type\":\"value\",\"value\":0.1}}},\"muted_glyph\":{\"type\":\"object\",\"name\":\"VArea\",\"id\":\"p9218\",\"attributes\":{\"x\":{\"type\":\"field\",\"field\":\"flight_date\"},\"y1\":{\"type\":\"expr\",\"expr\":{\"id\":\"p9192\"}},\"y2\":{\"type\":\"expr\",\"expr\":{\"id\":\"p9193\"}},\"fill_color\":\"#99d594\",\"fill_alpha\":0.2,\"hatch_color\":{\"type\":\"value\",\"value\":\"#99d594\"},\"hatch_alpha\":{\"type\":\"value\",\"value\":0.2}}}}},{\"type\":\"object\",\"name\":\"GlyphRenderer\",\"id\":\"p9229\",\"attributes\":{\"name\":\"landed\",\"data_source\":{\"id\":\"p9144\"},\"view\":{\"type\":\"object\",\"name\":\"CDSView\",\"id\":\"p9230\",\"attributes\":{\"filter\":{\"type\":\"object\",\"name\":\"AllIndices\",\"id\":\"p9231\"}}},\"glyph\":{\"type\":\"object\",\"name\":\"VArea\",\"id\":\"p9226\",\"attributes\":{\"x\":{\"type\":\"field\",\"field\":\"flight_date\"},\"y1\":{\"type\":\"expr\",\"expr\":{\"type\":\"object\",\"name\":\"Stack\",\"id\":\"p9194\",\"attributes\":{\"fields\":[\"active\",\"cancelled\"]}}},\"y2\":{\"type\":\"expr\",\"expr\":{\"type\":\"object\",\"name\":\"Stack\",\"id\":\"p9195\",\"attributes\":{\"fields\":[\"active\",\"cancelled\",\"landed\"]}}},\"fill_color\":\"#e6f598\",\"hatch_color\":{\"type\":\"value\",\"value\":\"#e6f598\"}}},\"nonselection_glyph\":{\"type\":\"object\",\"name\":\"VArea\",\"id\":\"p9227\",\"attributes\":{\"x\":{\"type\":\"field\",\"field\":\"flight_date\"},\"y1\":{\"type\":\"expr\",\"expr\":{\"id\":\"p9194\"}},\"y2\":{\"type\":\"expr\",\"expr\":{\"id\":\"p9195\"}},\"fill_color\":\"#e6f598\",\"fill_alpha\":0.1,\"hatch_color\":{\"type\":\"value\",\"value\":\"#e6f598\"},\"hatch_alpha\":{\"type\":\"value\",\"value\":0.1}}},\"muted_glyph\":{\"type\":\"object\",\"name\":\"VArea\",\"id\":\"p9228\",\"attributes\":{\"x\":{\"type\":\"field\",\"field\":\"flight_date\"},\"y1\":{\"type\":\"expr\",\"expr\":{\"id\":\"p9194\"}},\"y2\":{\"type\":\"expr\",\"expr\":{\"id\":\"p9195\"}},\"fill_color\":\"#e6f598\",\"fill_alpha\":0.2,\"hatch_color\":{\"type\":\"value\",\"value\":\"#e6f598\"},\"hatch_alpha\":{\"type\":\"value\",\"value\":0.2}}}}},{\"type\":\"object\",\"name\":\"GlyphRenderer\",\"id\":\"p9239\",\"attributes\":{\"name\":\"scheduled\",\"data_source\":{\"id\":\"p9144\"},\"view\":{\"type\":\"object\",\"name\":\"CDSView\",\"id\":\"p9240\",\"attributes\":{\"filter\":{\"type\":\"object\",\"name\":\"AllIndices\",\"id\":\"p9241\"}}},\"glyph\":{\"type\":\"object\",\"name\":\"VArea\",\"id\":\"p9236\",\"attributes\":{\"x\":{\"type\":\"field\",\"field\":\"flight_date\"},\"y1\":{\"type\":\"expr\",\"expr\":{\"type\":\"object\",\"name\":\"Stack\",\"id\":\"p9196\",\"attributes\":{\"fields\":[\"active\",\"cancelled\",\"landed\"]}}},\"y2\":{\"type\":\"expr\",\"expr\":{\"type\":\"object\",\"name\":\"Stack\",\"id\":\"p9197\",\"attributes\":{\"fields\":[\"active\",\"cancelled\",\"landed\",\"scheduled\"]}}},\"fill_color\":\"#fee08b\",\"hatch_color\":{\"type\":\"value\",\"value\":\"#fee08b\"}}},\"nonselection_glyph\":{\"type\":\"object\",\"name\":\"VArea\",\"id\":\"p9237\",\"attributes\":{\"x\":{\"type\":\"field\",\"field\":\"flight_date\"},\"y1\":{\"type\":\"expr\",\"expr\":{\"id\":\"p9196\"}},\"y2\":{\"type\":\"expr\",\"expr\":{\"id\":\"p9197\"}},\"fill_color\":\"#fee08b\",\"fill_alpha\":0.1,\"hatch_color\":{\"type\":\"value\",\"value\":\"#fee08b\"},\"hatch_alpha\":{\"type\":\"value\",\"value\":0.1}}},\"muted_glyph\":{\"type\":\"object\",\"name\":\"VArea\",\"id\":\"p9238\",\"attributes\":{\"x\":{\"type\":\"field\",\"field\":\"flight_date\"},\"y1\":{\"type\":\"expr\",\"expr\":{\"id\":\"p9196\"}},\"y2\":{\"type\":\"expr\",\"expr\":{\"id\":\"p9197\"}},\"fill_color\":\"#fee08b\",\"fill_alpha\":0.2,\"hatch_color\":{\"type\":\"value\",\"value\":\"#fee08b\"},\"hatch_alpha\":{\"type\":\"value\",\"value\":0.2}}}}},{\"type\":\"object\",\"name\":\"GlyphRenderer\",\"id\":\"p9249\",\"attributes\":{\"name\":\"unknown\",\"data_source\":{\"id\":\"p9144\"},\"view\":{\"type\":\"object\",\"name\":\"CDSView\",\"id\":\"p9250\",\"attributes\":{\"filter\":{\"type\":\"object\",\"name\":\"AllIndices\",\"id\":\"p9251\"}}},\"glyph\":{\"type\":\"object\",\"name\":\"VArea\",\"id\":\"p9246\",\"attributes\":{\"x\":{\"type\":\"field\",\"field\":\"flight_date\"},\"y1\":{\"type\":\"expr\",\"expr\":{\"type\":\"object\",\"name\":\"Stack\",\"id\":\"p9198\",\"attributes\":{\"fields\":[\"active\",\"cancelled\",\"landed\",\"scheduled\"]}}},\"y2\":{\"type\":\"expr\",\"expr\":{\"type\":\"object\",\"name\":\"Stack\",\"id\":\"p9199\",\"attributes\":{\"fields\":[\"active\",\"cancelled\",\"landed\",\"scheduled\",\"unknown\"]}}},\"fill_color\":\"#fc8d59\",\"hatch_color\":{\"type\":\"value\",\"value\":\"#fc8d59\"}}},\"nonselection_glyph\":{\"type\":\"object\",\"name\":\"VArea\",\"id\":\"p9247\",\"attributes\":{\"x\":{\"type\":\"field\",\"field\":\"flight_date\"},\"y1\":{\"type\":\"expr\",\"expr\":{\"id\":\"p9198\"}},\"y2\":{\"type\":\"expr\",\"expr\":{\"id\":\"p9199\"}},\"fill_color\":\"#fc8d59\",\"fill_alpha\":0.1,\"hatch_color\":{\"type\":\"value\",\"value\":\"#fc8d59\"},\"hatch_alpha\":{\"type\":\"value\",\"value\":0.1}}},\"muted_glyph\":{\"type\":\"object\",\"name\":\"VArea\",\"id\":\"p9248\",\"attributes\":{\"x\":{\"type\":\"field\",\"field\":\"flight_date\"},\"y1\":{\"type\":\"expr\",\"expr\":{\"id\":\"p9198\"}},\"y2\":{\"type\":\"expr\",\"expr\":{\"id\":\"p9199\"}},\"fill_color\":\"#fc8d59\",\"fill_alpha\":0.2,\"hatch_color\":{\"type\":\"value\",\"value\":\"#fc8d59\"},\"hatch_alpha\":{\"type\":\"value\",\"value\":0.2}}}}},{\"type\":\"object\",\"name\":\"GlyphRenderer\",\"id\":\"p9259\",\"attributes\":{\"name\":\"diverted\",\"data_source\":{\"id\":\"p9144\"},\"view\":{\"type\":\"object\",\"name\":\"CDSView\",\"id\":\"p9260\",\"attributes\":{\"filter\":{\"type\":\"object\",\"name\":\"AllIndices\",\"id\":\"p9261\"}}},\"glyph\":{\"type\":\"object\",\"name\":\"VArea\",\"id\":\"p9256\",\"attributes\":{\"x\":{\"type\":\"field\",\"field\":\"flight_date\"},\"y1\":{\"type\":\"expr\",\"expr\":{\"type\":\"object\",\"name\":\"Stack\",\"id\":\"p9200\",\"attributes\":{\"fields\":[\"active\",\"cancelled\",\"landed\",\"scheduled\",\"unknown\"]}}},\"y2\":{\"type\":\"expr\",\"expr\":{\"type\":\"object\",\"name\":\"Stack\",\"id\":\"p9201\",\"attributes\":{\"fields\":[\"active\",\"cancelled\",\"landed\",\"scheduled\",\"unknown\",\"diverted\"]}}},\"fill_color\":\"#d53e4f\",\"hatch_color\":{\"type\":\"value\",\"value\":\"#d53e4f\"}}},\"nonselection_glyph\":{\"type\":\"object\",\"name\":\"VArea\",\"id\":\"p9257\",\"attributes\":{\"x\":{\"type\":\"field\",\"field\":\"flight_date\"},\"y1\":{\"type\":\"expr\",\"expr\":{\"id\":\"p9200\"}},\"y2\":{\"type\":\"expr\",\"expr\":{\"id\":\"p9201\"}},\"fill_color\":\"#d53e4f\",\"fill_alpha\":0.1,\"hatch_color\":{\"type\":\"value\",\"value\":\"#d53e4f\"},\"hatch_alpha\":{\"type\":\"value\",\"value\":0.1}}},\"muted_glyph\":{\"type\":\"object\",\"name\":\"VArea\",\"id\":\"p9258\",\"attributes\":{\"x\":{\"type\":\"field\",\"field\":\"flight_date\"},\"y1\":{\"type\":\"expr\",\"expr\":{\"id\":\"p9200\"}},\"y2\":{\"type\":\"expr\",\"expr\":{\"id\":\"p9201\"}},\"fill_color\":\"#d53e4f\",\"fill_alpha\":0.2,\"hatch_color\":{\"type\":\"value\",\"value\":\"#d53e4f\"},\"hatch_alpha\":{\"type\":\"value\",\"value\":0.2}}}}},{\"type\":\"object\",\"name\":\"GlyphRenderer\",\"id\":\"p9269\",\"attributes\":{\"data_source\":{\"type\":\"object\",\"name\":\"ColumnDataSource\",\"id\":\"p9263\",\"attributes\":{\"selected\":{\"type\":\"object\",\"name\":\"Selection\",\"id\":\"p9264\",\"attributes\":{\"indices\":[],\"line_indices\":[]}},\"selection_policy\":{\"type\":\"object\",\"name\":\"UnionRenderers\",\"id\":\"p9265\"},\"data\":{\"type\":\"map\",\"entries\":[[\"x\",{\"type\":\"ndarray\",\"array\":{\"type\":\"bytes\",\"data\":\"AADAgRPOeEIAAABKVNB4QgAAQBKV0nhCAACA2tXUeEIAAMCiFtd4QgAAAGtX2XhCAABAM5jbeEIAAID72N14QgAAwMMZ4HhCAAAAjFrieEIAAEBUm+R4QgAAgBzc5nhCAADA5BzpeEIAAACtXet4QgAAQHWe7XhCAACAPd/veEIAAMAFIPJ4QgAAAM5g9HhCAABAlqH2eEIAAIBe4vh4QgAAwCYj+3hCAAAA72P9eEIAAEC3pP94QgAAgH/lAXlCAADARyYEeUIAAAAQZwZ5QgAAQNinCHlCAACAoOgKeUIAAMBoKQ15QgAAADFqD3lCAABA+aoReUIAAIDB6xN5QgAAwIksFnlCAAAAUm0YeUIAAEAarhp5QgAAgOLuHHlCAADAqi8feUIAAABzcCF5QgAAQDuxI3lCAACAA/IleUI=\"},\"shape\":[40],\"dtype\":\"float64\",\"order\":\"little\"}],[\"y\",{\"type\":\"ndarray\",\"array\":{\"type\":\"bytes\",\"data\":\"kQAAAJkAAACjAAAAugAAAL8AAADaAAAA1wAAAK4AAADLAAAAtgAAALYAAACfAAAApAAAAJEAAACeAAAAnwAAAJ4AAACOAAAAmQAAAI0AAAChAAAAnwAAAK4AAACaAAAAiwAAAI8AAAC3AAAArAAAAKMAAACFAAAAiQAAAJ8AAACdAAAABQEAAKoAAACrAAAAyAAAAGsBAACkAwAACwIAAA==\"},\"shape\":[40],\"dtype\":\"int32\",\"order\":\"little\"}]]}}},\"view\":{\"type\":\"object\",\"name\":\"CDSView\",\"id\":\"p9270\",\"attributes\":{\"filter\":{\"type\":\"object\",\"name\":\"AllIndices\",\"id\":\"p9271\"}}},\"glyph\":{\"type\":\"object\",\"name\":\"Line\",\"id\":\"p9266\",\"attributes\":{\"x\":{\"type\":\"field\",\"field\":\"x\"},\"y\":{\"type\":\"field\",\"field\":\"y\"},\"line_width\":2}},\"nonselection_glyph\":{\"type\":\"object\",\"name\":\"Line\",\"id\":\"p9267\",\"attributes\":{\"x\":{\"type\":\"field\",\"field\":\"x\"},\"y\":{\"type\":\"field\",\"field\":\"y\"},\"line_alpha\":0.1,\"line_width\":2}},\"muted_glyph\":{\"type\":\"object\",\"name\":\"Line\",\"id\":\"p9268\",\"attributes\":{\"x\":{\"type\":\"field\",\"field\":\"x\"},\"y\":{\"type\":\"field\",\"field\":\"y\"},\"line_alpha\":0.2,\"line_width\":2}}}},{\"type\":\"object\",\"name\":\"Span\",\"id\":\"p9276\",\"attributes\":{\"location\":1717891200000.0,\"dimension\":\"height\",\"line_color\":\"#C6C6C6\",\"line_width\":2,\"line_dash\":[4,4]}},{\"type\":\"object\",\"name\":\"Span\",\"id\":\"p9278\",\"attributes\":{\"location\":1713052800000.0,\"dimension\":\"height\",\"line_color\":\"#C6C6C6\",\"line_width\":2,\"line_dash\":[4,4]}},{\"type\":\"object\",\"name\":\"Span\",\"id\":\"p9280\",\"attributes\":{\"location\":1724544000000.0,\"dimension\":\"height\",\"line_color\":\"#C6C6C6\",\"line_width\":2,\"line_dash\":[4,4]}},{\"type\":\"object\",\"name\":\"Span\",\"id\":\"p9282\",\"attributes\":{\"location\":1727049600000.0,\"dimension\":\"height\",\"line_color\":\"#C6C6C6\",\"line_width\":2,\"line_dash\":[4,4]}}],\"toolbar\":{\"type\":\"object\",\"name\":\"Toolbar\",\"id\":\"p9156\",\"attributes\":{\"tools\":[{\"type\":\"object\",\"name\":\"PanTool\",\"id\":\"p9181\"},{\"type\":\"object\",\"name\":\"BoxZoomTool\",\"id\":\"p9182\",\"attributes\":{\"overlay\":{\"type\":\"object\",\"name\":\"BoxAnnotation\",\"id\":\"p9183\",\"attributes\":{\"syncable\":false,\"level\":\"overlay\",\"visible\":false,\"left\":{\"type\":\"number\",\"value\":\"nan\"},\"right\":{\"type\":\"number\",\"value\":\"nan\"},\"top\":{\"type\":\"number\",\"value\":\"nan\"},\"bottom\":{\"type\":\"number\",\"value\":\"nan\"},\"left_units\":\"canvas\",\"right_units\":\"canvas\",\"top_units\":\"canvas\",\"bottom_units\":\"canvas\",\"line_color\":\"black\",\"line_alpha\":1.0,\"line_width\":2,\"line_dash\":[4,4],\"fill_color\":\"lightgrey\",\"fill_alpha\":0.5}}}},{\"type\":\"object\",\"name\":\"ResetTool\",\"id\":\"p9188\"},{\"type\":\"object\",\"name\":\"SaveTool\",\"id\":\"p9189\"}]}},\"toolbar_location\":\"above\",\"left\":[{\"type\":\"object\",\"name\":\"LinearAxis\",\"id\":\"p9176\",\"attributes\":{\"ticker\":{\"type\":\"object\",\"name\":\"BasicTicker\",\"id\":\"p9177\",\"attributes\":{\"mantissas\":[1,2,5]}},\"formatter\":{\"type\":\"object\",\"name\":\"BasicTickFormatter\",\"id\":\"p9178\"},\"axis_label\":\"Nr Flights\",\"major_label_policy\":{\"type\":\"object\",\"name\":\"AllLabels\",\"id\":\"p9179\"}}}],\"below\":[{\"type\":\"object\",\"name\":\"DatetimeAxis\",\"id\":\"p9159\",\"attributes\":{\"ticker\":{\"type\":\"object\",\"name\":\"FixedTicker\",\"id\":\"p9274\",\"attributes\":{\"ticks\":[1704585600000.0,1705795200000.0,1707004800000.0,1708214400000.0,1709424000000.0,1710633600000.0,1711843200000.0,1713052800000.0,1714262400000.0,1715472000000.0,1716681600000.0,1717891200000.0,1719100800000.0,1720310400000.0,1721520000000.0,1722729600000.0,1723939200000.0,1725148800000.0,1726358400000.0,1727568000000.0,1728777600000.0],\"minor_ticks\":[]}},\"formatter\":{\"type\":\"object\",\"name\":\"DatetimeTickFormatter\",\"id\":\"p9273\",\"attributes\":{\"days\":\"%d %b %Y\",\"months\":\"%b %Y\"}},\"axis_label\":\"Flight Date\",\"major_label_orientation\":1.2,\"major_label_policy\":{\"type\":\"object\",\"name\":\"AllLabels\",\"id\":\"p9174\"}}},{\"type\":\"object\",\"name\":\"Label\",\"id\":\"p9275\",\"attributes\":{\"text\":\"Source: Flight data from AviationStack and conflict events from ACLED\",\"text_color\":\"gray\",\"text_font_size\":\"10pt\",\"x\":0,\"y\":0,\"x_units\":\"screen\",\"y_units\":\"screen\"}}],\"center\":[{\"type\":\"object\",\"name\":\"Grid\",\"id\":\"p9175\",\"attributes\":{\"axis\":{\"id\":\"p9159\"}}},{\"type\":\"object\",\"name\":\"Grid\",\"id\":\"p9180\",\"attributes\":{\"dimension\":1,\"axis\":{\"id\":\"p9176\"}}},{\"type\":\"object\",\"name\":\"Legend\",\"id\":\"p9211\",\"attributes\":{\"location\":\"top_left\",\"orientation\":\"horizontal\",\"click_policy\":\"mute\",\"items\":[{\"type\":\"object\",\"name\":\"LegendItem\",\"id\":\"p9212\",\"attributes\":{\"label\":{\"type\":\"value\",\"value\":\"active\"},\"renderers\":[{\"id\":\"p9208\"}]}},{\"type\":\"object\",\"name\":\"LegendItem\",\"id\":\"p9222\",\"attributes\":{\"label\":{\"type\":\"value\",\"value\":\"cancelled\"},\"renderers\":[{\"id\":\"p9219\"}]}},{\"type\":\"object\",\"name\":\"LegendItem\",\"id\":\"p9232\",\"attributes\":{\"label\":{\"type\":\"value\",\"value\":\"landed\"},\"renderers\":[{\"id\":\"p9229\"}]}},{\"type\":\"object\",\"name\":\"LegendItem\",\"id\":\"p9242\",\"attributes\":{\"label\":{\"type\":\"value\",\"value\":\"scheduled\"},\"renderers\":[{\"id\":\"p9239\"}]}},{\"type\":\"object\",\"name\":\"LegendItem\",\"id\":\"p9252\",\"attributes\":{\"label\":{\"type\":\"value\",\"value\":\"unknown\"},\"renderers\":[{\"id\":\"p9249\"}]}},{\"type\":\"object\",\"name\":\"LegendItem\",\"id\":\"p9262\",\"attributes\":{\"label\":{\"type\":\"value\",\"value\":\"diverted\"},\"renderers\":[{\"id\":\"p9259\"}]}},{\"type\":\"object\",\"name\":\"LegendItem\",\"id\":\"p9272\",\"attributes\":{\"label\":{\"type\":\"value\",\"value\":\"Number of Conflict Events w/o Protests\"},\"renderers\":[{\"id\":\"p9269\"}]}}]}},{\"type\":\"object\",\"name\":\"Label\",\"id\":\"p9277\",\"attributes\":{\"text\":\"Airline data\\nnot available\",\"text_color\":\"black\",\"text_font_size\":\"10pt\",\"text_align\":\"right\",\"background_fill_color\":\"grey\",\"background_fill_alpha\":0.2,\"x\":1717891200000.0,\"y\":905.6,\"x_offset\":-5}},{\"type\":\"object\",\"name\":\"Label\",\"id\":\"p9279\",\"attributes\":{\"text\":\"Temporary shutdown of\\nLebanese airspace between\\n7AM and 1PM\",\"text_color\":\"black\",\"text_font_size\":\"10pt\",\"text_align\":\"right\",\"background_fill_color\":\"grey\",\"background_fill_alpha\":0.2,\"x\":1713052800000.0,\"y\":815.04,\"x_offset\":-5}},{\"type\":\"object\",\"name\":\"Label\",\"id\":\"p9281\",\"attributes\":{\"text\":\"Israeli strikes in\\nSouthern Lebanon\",\"text_color\":\"black\",\"text_font_size\":\"10pt\",\"text_align\":\"right\",\"background_fill_color\":\"grey\",\"background_fill_alpha\":0.2,\"x\":1724544000000.0,\"y\":724.48,\"x_offset\":-5}},{\"type\":\"object\",\"name\":\"Label\",\"id\":\"p9283\",\"attributes\":{\"text\":\"Start of the Israel-Hezboullah\\nConflict\",\"text_color\":\"black\",\"text_font_size\":\"10pt\",\"text_align\":\"right\",\"background_fill_color\":\"grey\",\"background_fill_alpha\":0.2,\"x\":1727049600000.0,\"y\":633.9200000000001,\"x_offset\":-5}}]}}]}};\n  const render_items = [{\"docid\":\"6b14823c-216e-46a5-a380-db1121abfc7c\",\"roots\":{\"p9147\":\"f4c3b3b1-0c81-4348-9f0d-83dda093285c\"},\"root_ids\":[\"p9147\"]}];\n  void root.Bokeh.embed.embed_items_notebook(docs_json, render_items);\n  }\n  if (root.Bokeh !== undefined) {\n    embed_document(root);\n  } else {\n    let attempts = 0;\n    const timer = setInterval(function(root) {\n      if (root.Bokeh !== undefined) {\n        clearInterval(timer);\n        embed_document(root);\n      } else {\n        attempts++;\n        if (attempts > 100) {\n          clearInterval(timer);\n          console.log(\"Bokeh: ERROR: Unable to run BokehJS code because BokehJS library is missing\");\n        }\n      }\n    }, 10, root)\n  }\n})(window);",
      "application/vnd.bokehjs_exec.v0+json": ""
     },
     "metadata": {
      "application/vnd.bokehjs_exec.v0+json": {
       "id": "p9147"
      }
     },
     "output_type": "display_data"
    }
   ],
   "source": [
    "output_notebook()  # Display plots inline in a Jupyter notebook\n",
    "\n",
    "arrivals_exploded[\"flight_date\"] = arrivals_exploded[\"flight_date\"].apply(\n",
    "    lambda x: pd.to_datetime(x)\n",
    ")\n",
    "df = (\n",
    "    arrivals_exploded.groupby(\n",
    "        [pd.Grouper(key=\"flight_date\", freq=\"W\"), \"flight_status\"]\n",
    "    )\n",
    "    .count()[[\"iata_arr\"]]\n",
    "    .reset_index()\n",
    ")\n",
    "\n",
    "show(\n",
    "    get_area_plot(\n",
    "        df,\n",
    "        \"Weekly Arrivals to BEY\",\n",
    "        \"Source: Flight data from AviationStack and conflict events from ACLED\",\n",
    "        acled_events_weekly,\n",
    "        reindex_freq=\"W\",\n",
    "        events_dict=events,\n",
    "    )\n",
    ")"
   ]
  },
  {
   "cell_type": "markdown",
   "metadata": {},
   "source": [
    "### Findings\n",
    "\n",
    "- The number of departures than arrivals from the BEY airport\n",
    "- The number of cancellations, divertions and scheduled flights that were either cancelled or diverted increased since June 2024. "
   ]
  },
  {
   "cell_type": "code",
   "execution_count": null,
   "metadata": {
    "tags": [
     "remove-cell"
    ]
   },
   "outputs": [],
   "source": [
    "arrivals_exploded[\"airportcity\"] = arrivals_exploded[\"iata_dep\"].map(iata_mapping)\n",
    "most_changed_arrivals = (\n",
    "    pd.DataFrame(\n",
    "        arrivals_exploded[\n",
    "            arrivals_exploded[\"flight_status\"].isin(\n",
    "                [\"scheduled\", \"cancelled\", \"diverted\"]\n",
    "            )\n",
    "        ][\"airportcity\"]\n",
    "        .value_counts()\n",
    "        .head(10)\n",
    "    )\n",
    "    .reset_index()\n",
    "    .sort_values(by=\"count\", ascending=True)\n",
    ")\n",
    "most_cancelled_arrivals = (\n",
    "    pd.DataFrame(\n",
    "        arrivals_exploded[arrivals_exploded[\"flight_status\"].isin([\"cancelled\"])][\n",
    "            \"airportcity\"\n",
    "        ]\n",
    "        .value_counts()\n",
    "        .head(10)\n",
    "    )\n",
    "    .reset_index()\n",
    "    .sort_values(by=\"count\", ascending=True)\n",
    ")\n",
    "most_scheduled_arrivals = (\n",
    "    pd.DataFrame(\n",
    "        arrivals_exploded[arrivals_exploded[\"flight_status\"].isin([\"scheduled\"])][\n",
    "            \"airportcity\"\n",
    "        ]\n",
    "        .value_counts()\n",
    "        .head(10)\n",
    "    )\n",
    "    .reset_index()\n",
    "    .sort_values(by=\"count\", ascending=True)\n",
    ")\n",
    "most_diverted_arrivals = (\n",
    "    pd.DataFrame(\n",
    "        arrivals_exploded[arrivals_exploded[\"flight_status\"].isin([\"diverted\"])][\n",
    "            \"airportcity\"\n",
    "        ]\n",
    "        .value_counts()\n",
    "        .head(10)\n",
    "    )\n",
    "    .reset_index()\n",
    "    .sort_values(by=\"count\", ascending=True)\n",
    ")"
   ]
  },
  {
   "cell_type": "code",
   "execution_count": null,
   "metadata": {},
   "outputs": [
    {
     "data": {
      "text/html": [
       "    <style>\n",
       "        .bk-notebook-logo {\n",
       "            display: block;\n",
       "            width: 20px;\n",
       "            height: 20px;\n",
       "            background-image: url(data:image/png;base64,iVBORw0KGgoAAAANSUhEUgAAABQAAAAUCAYAAACNiR0NAAAABHNCSVQICAgIfAhkiAAAAAlwSFlzAAALEgAACxIB0t1+/AAAABx0RVh0U29mdHdhcmUAQWRvYmUgRmlyZXdvcmtzIENTNui8sowAAAOkSURBVDiNjZRtaJVlGMd/1/08zzln5zjP1LWcU9N0NkN8m2CYjpgQYQXqSs0I84OLIC0hkEKoPtiH3gmKoiJDU7QpLgoLjLIQCpEsNJ1vqUOdO7ppbuec5+V+rj4ctwzd8IIbbi6u+8f1539dt3A78eXC7QizUF7gyV1fD1Yqg4JWz84yffhm0qkFqBogB9rM8tZdtwVsPUhWhGcFJngGeWrPzHm5oaMmkfEg1usvLFyc8jLRqDOMru7AyC8saQr7GG7f5fvDeH7Ej8CM66nIF+8yngt6HWaKh7k49Soy9nXurCi1o3qUbS3zWfrYeQDTB/Qj6kX6Ybhw4B+bOYoLKCC9H3Nu/leUTZ1JdRWkkn2ldcCamzrcf47KKXdAJllSlxAOkRgyHsGC/zRday5Qld9DyoM4/q/rUoy/CXh3jzOu3bHUVZeU+DEn8FInkPBFlu3+nW3Nw0mk6vCDiWg8CeJaxEwuHS3+z5RgY+YBR6V1Z1nxSOfoaPa4LASWxxdNp+VWTk7+4vzaou8v8PN+xo+KY2xsw6une2frhw05CTYOmQvsEhjhWjn0bmXPjpE1+kplmmkP3suftwTubK9Vq22qKmrBhpY4jvd5afdRA3wGjFAgcnTK2s4hY0/GPNIb0nErGMCRxWOOX64Z8RAC4oCXdklmEvcL8o0BfkNK4lUg9HTl+oPlQxdNo3Mg4Nv175e/1LDGzZen30MEjRUtmXSfiTVu1kK8W4txyV6BMKlbgk3lMwYCiusNy9fVfvvwMxv8Ynl6vxoByANLTWplvuj/nF9m2+PDtt1eiHPBr1oIfhCChQMBw6Aw0UulqTKZdfVvfG7VcfIqLG9bcldL/+pdWTLxLUy8Qq38heUIjh4XlzZxzQm19lLFlr8vdQ97rjZVOLf8nclzckbcD4wxXMidpX30sFd37Fv/GtwwhzhxGVAprjbg0gCAEeIgwCZyTV2Z1REEW8O4py0wsjeloKoMr6iCY6dP92H6Vw/oTyICIthibxjm/DfN9lVz8IqtqKYLUXfoKVMVQVVJOElGjrnnUt9T9wbgp8AyYKaGlqingHZU/uG2NTZSVqwHQTWkx9hxjkpWDaCg6Ckj5qebgBVbT3V3NNXMSiWSDdGV3hrtzla7J+duwPOToIg42ChPQOQjspnSlp1V+Gjdged7+8UN5CRAV7a5EdFNwCjEaBR27b3W890TE7g24NAP/mMDXRWrGoFPQI9ls/MWO2dWFAar/xcOIImbbpA3zgAAAABJRU5ErkJggg==);\n",
       "        }\n",
       "    </style>\n",
       "    <div>\n",
       "        <a href=\"https://bokeh.org\" target=\"_blank\" class=\"bk-notebook-logo\"></a>\n",
       "        <span id=\"eb88bd52-6846-40e9-90f5-e6737f1bbf1b\">Loading BokehJS ...</span>\n",
       "    </div>\n"
      ]
     },
     "metadata": {},
     "output_type": "display_data"
    },
    {
     "data": {
      "application/javascript": "'use strict';\n(function(root) {\n  function now() {\n    return new Date();\n  }\n\n  const force = true;\n\n  if (typeof root._bokeh_onload_callbacks === \"undefined\" || force === true) {\n    root._bokeh_onload_callbacks = [];\n    root._bokeh_is_loading = undefined;\n  }\n\nconst JS_MIME_TYPE = 'application/javascript';\n  const HTML_MIME_TYPE = 'text/html';\n  const EXEC_MIME_TYPE = 'application/vnd.bokehjs_exec.v0+json';\n  const CLASS_NAME = 'output_bokeh rendered_html';\n\n  /**\n   * Render data to the DOM node\n   */\n  function render(props, node) {\n    const script = document.createElement(\"script\");\n    node.appendChild(script);\n  }\n\n  /**\n   * Handle when an output is cleared or removed\n   */\n  function handleClearOutput(event, handle) {\n    function drop(id) {\n      const view = Bokeh.index.get_by_id(id)\n      if (view != null) {\n        view.model.document.clear()\n        Bokeh.index.delete(view)\n      }\n    }\n\n    const cell = handle.cell;\n\n    const id = cell.output_area._bokeh_element_id;\n    const server_id = cell.output_area._bokeh_server_id;\n\n    // Clean up Bokeh references\n    if (id != null) {\n      drop(id)\n    }\n\n    if (server_id !== undefined) {\n      // Clean up Bokeh references\n      const cmd_clean = \"from bokeh.io.state import curstate; print(curstate().uuid_to_server['\" + server_id + \"'].get_sessions()[0].document.roots[0]._id)\";\n      cell.notebook.kernel.execute(cmd_clean, {\n        iopub: {\n          output: function(msg) {\n            const id = msg.content.text.trim()\n            drop(id)\n          }\n        }\n      });\n      // Destroy server and session\n      const cmd_destroy = \"import bokeh.io.notebook as ion; ion.destroy_server('\" + server_id + \"')\";\n      cell.notebook.kernel.execute(cmd_destroy);\n    }\n  }\n\n  /**\n   * Handle when a new output is added\n   */\n  function handleAddOutput(event, handle) {\n    const output_area = handle.output_area;\n    const output = handle.output;\n\n    // limit handleAddOutput to display_data with EXEC_MIME_TYPE content only\n    if ((output.output_type != \"display_data\") || (!Object.prototype.hasOwnProperty.call(output.data, EXEC_MIME_TYPE))) {\n      return\n    }\n\n    const toinsert = output_area.element.find(\".\" + CLASS_NAME.split(' ')[0]);\n\n    if (output.metadata[EXEC_MIME_TYPE][\"id\"] !== undefined) {\n      toinsert[toinsert.length - 1].firstChild.textContent = output.data[JS_MIME_TYPE];\n      // store reference to embed id on output_area\n      output_area._bokeh_element_id = output.metadata[EXEC_MIME_TYPE][\"id\"];\n    }\n    if (output.metadata[EXEC_MIME_TYPE][\"server_id\"] !== undefined) {\n      const bk_div = document.createElement(\"div\");\n      bk_div.innerHTML = output.data[HTML_MIME_TYPE];\n      const script_attrs = bk_div.children[0].attributes;\n      for (let i = 0; i < script_attrs.length; i++) {\n        toinsert[toinsert.length - 1].firstChild.setAttribute(script_attrs[i].name, script_attrs[i].value);\n        toinsert[toinsert.length - 1].firstChild.textContent = bk_div.children[0].textContent\n      }\n      // store reference to server id on output_area\n      output_area._bokeh_server_id = output.metadata[EXEC_MIME_TYPE][\"server_id\"];\n    }\n  }\n\n  function register_renderer(events, OutputArea) {\n\n    function append_mime(data, metadata, element) {\n      // create a DOM node to render to\n      const toinsert = this.create_output_subarea(\n        metadata,\n        CLASS_NAME,\n        EXEC_MIME_TYPE\n      );\n      this.keyboard_manager.register_events(toinsert);\n      // Render to node\n      const props = {data: data, metadata: metadata[EXEC_MIME_TYPE]};\n      render(props, toinsert[toinsert.length - 1]);\n      element.append(toinsert);\n      return toinsert\n    }\n\n    /* Handle when an output is cleared or removed */\n    events.on('clear_output.CodeCell', handleClearOutput);\n    events.on('delete.Cell', handleClearOutput);\n\n    /* Handle when a new output is added */\n    events.on('output_added.OutputArea', handleAddOutput);\n\n    /**\n     * Register the mime type and append_mime function with output_area\n     */\n    OutputArea.prototype.register_mime_type(EXEC_MIME_TYPE, append_mime, {\n      /* Is output safe? */\n      safe: true,\n      /* Index of renderer in `output_area.display_order` */\n      index: 0\n    });\n  }\n\n  // register the mime type if in Jupyter Notebook environment and previously unregistered\n  if (root.Jupyter !== undefined) {\n    const events = require('base/js/events');\n    const OutputArea = require('notebook/js/outputarea').OutputArea;\n\n    if (OutputArea.prototype.mime_types().indexOf(EXEC_MIME_TYPE) == -1) {\n      register_renderer(events, OutputArea);\n    }\n  }\n  if (typeof (root._bokeh_timeout) === \"undefined\" || force === true) {\n    root._bokeh_timeout = Date.now() + 5000;\n    root._bokeh_failed_load = false;\n  }\n\n  const NB_LOAD_WARNING = {'data': {'text/html':\n     \"<div style='background-color: #fdd'>\\n\"+\n     \"<p>\\n\"+\n     \"BokehJS does not appear to have successfully loaded. If loading BokehJS from CDN, this \\n\"+\n     \"may be due to a slow or bad network connection. Possible fixes:\\n\"+\n     \"</p>\\n\"+\n     \"<ul>\\n\"+\n     \"<li>re-rerun `output_notebook()` to attempt to load from CDN again, or</li>\\n\"+\n     \"<li>use INLINE resources instead, as so:</li>\\n\"+\n     \"</ul>\\n\"+\n     \"<code>\\n\"+\n     \"from bokeh.resources import INLINE\\n\"+\n     \"output_notebook(resources=INLINE)\\n\"+\n     \"</code>\\n\"+\n     \"</div>\"}};\n\n  function display_loaded(error = null) {\n    const el = document.getElementById(\"eb88bd52-6846-40e9-90f5-e6737f1bbf1b\");\n    if (el != null) {\n      const html = (() => {\n        if (typeof root.Bokeh === \"undefined\") {\n          if (error == null) {\n            return \"BokehJS is loading ...\";\n          } else {\n            return \"BokehJS failed to load.\";\n          }\n        } else {\n          const prefix = `BokehJS ${root.Bokeh.version}`;\n          if (error == null) {\n            return `${prefix} successfully loaded.`;\n          } else {\n            return `${prefix} <b>encountered errors</b> while loading and may not function as expected.`;\n          }\n        }\n      })();\n      el.innerHTML = html;\n\n      if (error != null) {\n        const wrapper = document.createElement(\"div\");\n        wrapper.style.overflow = \"auto\";\n        wrapper.style.height = \"5em\";\n        wrapper.style.resize = \"vertical\";\n        const content = document.createElement(\"div\");\n        content.style.fontFamily = \"monospace\";\n        content.style.whiteSpace = \"pre-wrap\";\n        content.style.backgroundColor = \"rgb(255, 221, 221)\";\n        content.textContent = error.stack ?? error.toString();\n        wrapper.append(content);\n        el.append(wrapper);\n      }\n    } else if (Date.now() < root._bokeh_timeout) {\n      setTimeout(() => display_loaded(error), 100);\n    }\n  }\n\n  function run_callbacks() {\n    try {\n      root._bokeh_onload_callbacks.forEach(function(callback) {\n        if (callback != null)\n          callback();\n      });\n    } finally {\n      delete root._bokeh_onload_callbacks\n    }\n    console.debug(\"Bokeh: all callbacks have finished\");\n  }\n\n  function load_libs(css_urls, js_urls, callback) {\n    if (css_urls == null) css_urls = [];\n    if (js_urls == null) js_urls = [];\n\n    root._bokeh_onload_callbacks.push(callback);\n    if (root._bokeh_is_loading > 0) {\n      console.debug(\"Bokeh: BokehJS is being loaded, scheduling callback at\", now());\n      return null;\n    }\n    if (js_urls == null || js_urls.length === 0) {\n      run_callbacks();\n      return null;\n    }\n    console.debug(\"Bokeh: BokehJS not loaded, scheduling load and callback at\", now());\n    root._bokeh_is_loading = css_urls.length + js_urls.length;\n\n    function on_load() {\n      root._bokeh_is_loading--;\n      if (root._bokeh_is_loading === 0) {\n        console.debug(\"Bokeh: all BokehJS libraries/stylesheets loaded\");\n        run_callbacks()\n      }\n    }\n\n    function on_error(url) {\n      console.error(\"failed to load \" + url);\n    }\n\n    for (let i = 0; i < css_urls.length; i++) {\n      const url = css_urls[i];\n      const element = document.createElement(\"link\");\n      element.onload = on_load;\n      element.onerror = on_error.bind(null, url);\n      element.rel = \"stylesheet\";\n      element.type = \"text/css\";\n      element.href = url;\n      console.debug(\"Bokeh: injecting link tag for BokehJS stylesheet: \", url);\n      document.body.appendChild(element);\n    }\n\n    for (let i = 0; i < js_urls.length; i++) {\n      const url = js_urls[i];\n      const element = document.createElement('script');\n      element.onload = on_load;\n      element.onerror = on_error.bind(null, url);\n      element.async = false;\n      element.src = url;\n      console.debug(\"Bokeh: injecting script tag for BokehJS library: \", url);\n      document.head.appendChild(element);\n    }\n  };\n\n  function inject_raw_css(css) {\n    const element = document.createElement(\"style\");\n    element.appendChild(document.createTextNode(css));\n    document.body.appendChild(element);\n  }\n\n  const js_urls = [\"https://cdn.bokeh.org/bokeh/release/bokeh-3.4.1.min.js\", \"https://cdn.bokeh.org/bokeh/release/bokeh-gl-3.4.1.min.js\", \"https://cdn.bokeh.org/bokeh/release/bokeh-widgets-3.4.1.min.js\", \"https://cdn.bokeh.org/bokeh/release/bokeh-tables-3.4.1.min.js\", \"https://cdn.bokeh.org/bokeh/release/bokeh-mathjax-3.4.1.min.js\"];\n  const css_urls = [];\n\n  const inline_js = [    function(Bokeh) {\n      Bokeh.set_log_level(\"info\");\n    },\nfunction(Bokeh) {\n    }\n  ];\n\n  function run_inline_js() {\n    if (root.Bokeh !== undefined || force === true) {\n      try {\n            for (let i = 0; i < inline_js.length; i++) {\n      inline_js[i].call(root, root.Bokeh);\n    }\n\n      } catch (error) {display_loaded(error);throw error;\n      }if (force === true) {\n        display_loaded();\n      }} else if (Date.now() < root._bokeh_timeout) {\n      setTimeout(run_inline_js, 100);\n    } else if (!root._bokeh_failed_load) {\n      console.log(\"Bokeh: BokehJS failed to load within specified timeout.\");\n      root._bokeh_failed_load = true;\n    } else if (force !== true) {\n      const cell = $(document.getElementById(\"eb88bd52-6846-40e9-90f5-e6737f1bbf1b\")).parents('.cell').data().cell;\n      cell.output_area.append_execute_result(NB_LOAD_WARNING)\n    }\n  }\n\n  if (root._bokeh_is_loading === 0) {\n    console.debug(\"Bokeh: BokehJS loaded, going straight to plotting\");\n    run_inline_js();\n  } else {\n    load_libs(css_urls, js_urls, function() {\n      console.debug(\"Bokeh: BokehJS plotting callback run at\", now());\n      run_inline_js();\n    });\n  }\n}(window));",
      "application/vnd.bokehjs_load.v0+json": ""
     },
     "metadata": {},
     "output_type": "display_data"
    },
    {
     "data": {
      "text/html": [
       "\n",
       "  <div id=\"ef3f4370-7b84-474c-8e30-5e730d6b8b25\" data-root-id=\"p5030\" style=\"display: contents;\"></div>\n"
      ]
     },
     "metadata": {},
     "output_type": "display_data"
    },
    {
     "data": {
      "application/javascript": "(function(root) {\n  function embed_document(root) {\n  const docs_json = {\"e3db2544-f9ef-4c80-a273-e27541a010d6\":{\"version\":\"3.4.1\",\"title\":\"Bokeh Application\",\"roots\":[{\"type\":\"object\",\"name\":\"Column\",\"id\":\"p5030\",\"attributes\":{\"children\":[{\"type\":\"object\",\"name\":\"Div\",\"id\":\"p5029\",\"attributes\":{\"width\":800,\"text\":\"<h2>Top 10 Destinations with Changes in Arrivals to BEY in 2024</h2>\"}},{\"type\":\"object\",\"name\":\"Tabs\",\"id\":\"p5028\",\"attributes\":{\"tabs\":[{\"type\":\"object\",\"name\":\"TabPanel\",\"id\":\"p4883\",\"attributes\":{\"title\":\"Most Changed Arrivals\",\"child\":{\"type\":\"object\",\"name\":\"Column\",\"id\":\"p4882\",\"attributes\":{\"children\":[{\"type\":\"object\",\"name\":\"Figure\",\"id\":\"p4839\",\"attributes\":{\"height\":400,\"x_range\":{\"type\":\"object\",\"name\":\"DataRange1d\",\"id\":\"p4841\"},\"y_range\":{\"type\":\"object\",\"name\":\"FactorRange\",\"id\":\"p4849\",\"attributes\":{\"factors\":[\"Larnaca\",\"Frankfurt\",\"Paris (Charles de Gaulle)\",\"Doha\",\"Abu Dhabi\",\"Baghdad\",\"Amman\",\"Cairo\",\"Istanbul\",\"Dubai\"]}},\"x_scale\":{\"type\":\"object\",\"name\":\"LinearScale\",\"id\":\"p4850\"},\"y_scale\":{\"type\":\"object\",\"name\":\"CategoricalScale\",\"id\":\"p4851\"},\"title\":{\"type\":\"object\",\"name\":\"Title\",\"id\":\"p4842\",\"attributes\":{\"text\":\"Most Changed Arrivals in 2024\"}},\"outline_line_color\":null,\"renderers\":[{\"type\":\"object\",\"name\":\"GlyphRenderer\",\"id\":\"p4869\",\"attributes\":{\"data_source\":{\"type\":\"object\",\"name\":\"ColumnDataSource\",\"id\":\"p4836\",\"attributes\":{\"selected\":{\"type\":\"object\",\"name\":\"Selection\",\"id\":\"p4837\",\"attributes\":{\"indices\":[],\"line_indices\":[]}},\"selection_policy\":{\"type\":\"object\",\"name\":\"UnionRenderers\",\"id\":\"p4838\"},\"data\":{\"type\":\"map\",\"entries\":[[\"index\",{\"type\":\"ndarray\",\"array\":{\"type\":\"bytes\",\"data\":\"CQAAAAgAAAAHAAAABgAAAAUAAAAEAAAAAwAAAAIAAAABAAAAAAAAAA==\"},\"shape\":[10],\"dtype\":\"int32\",\"order\":\"little\"}],[\"airportcity\",{\"type\":\"ndarray\",\"array\":[\"Larnaca\",\"Frankfurt\",\"Paris (Charles de Gaulle)\",\"Doha\",\"Abu Dhabi\",\"Baghdad\",\"Amman\",\"Cairo\",\"Istanbul\",\"Dubai\"],\"shape\":[10],\"dtype\":\"object\",\"order\":\"little\"}],[\"count\",{\"type\":\"ndarray\",\"array\":{\"type\":\"bytes\",\"data\":\"fQAAAIMAAACSAAAApwAAAL4AAAC/AAAA1gAAAN8AAAAcAQAAKgEAAA==\"},\"shape\":[10],\"dtype\":\"int32\",\"order\":\"little\"}]]}}},\"view\":{\"type\":\"object\",\"name\":\"CDSView\",\"id\":\"p4870\",\"attributes\":{\"filter\":{\"type\":\"object\",\"name\":\"AllIndices\",\"id\":\"p4871\"}}},\"glyph\":{\"type\":\"object\",\"name\":\"HBar\",\"id\":\"p4866\",\"attributes\":{\"y\":{\"type\":\"field\",\"field\":\"airportcity\"},\"height\":{\"type\":\"value\",\"value\":0.5},\"right\":{\"type\":\"field\",\"field\":\"count\"},\"line_color\":{\"type\":\"value\",\"value\":\"lightblue\"},\"line_alpha\":{\"type\":\"value\",\"value\":0.7},\"fill_color\":{\"type\":\"value\",\"value\":\"lightblue\"},\"fill_alpha\":{\"type\":\"value\",\"value\":0.7},\"hatch_color\":{\"type\":\"value\",\"value\":\"lightblue\"},\"hatch_alpha\":{\"type\":\"value\",\"value\":0.7}}},\"nonselection_glyph\":{\"type\":\"object\",\"name\":\"HBar\",\"id\":\"p4867\",\"attributes\":{\"y\":{\"type\":\"field\",\"field\":\"airportcity\"},\"height\":{\"type\":\"value\",\"value\":0.5},\"right\":{\"type\":\"field\",\"field\":\"count\"},\"line_color\":{\"type\":\"value\",\"value\":\"lightblue\"},\"line_alpha\":{\"type\":\"value\",\"value\":0.1},\"fill_color\":{\"type\":\"value\",\"value\":\"lightblue\"},\"fill_alpha\":{\"type\":\"value\",\"value\":0.1},\"hatch_color\":{\"type\":\"value\",\"value\":\"lightblue\"},\"hatch_alpha\":{\"type\":\"value\",\"value\":0.1}}},\"muted_glyph\":{\"type\":\"object\",\"name\":\"HBar\",\"id\":\"p4868\",\"attributes\":{\"y\":{\"type\":\"field\",\"field\":\"airportcity\"},\"height\":{\"type\":\"value\",\"value\":0.5},\"right\":{\"type\":\"field\",\"field\":\"count\"},\"line_color\":{\"type\":\"value\",\"value\":\"lightblue\"},\"line_alpha\":{\"type\":\"value\",\"value\":0.2},\"fill_color\":{\"type\":\"value\",\"value\":\"lightblue\"},\"fill_alpha\":{\"type\":\"value\",\"value\":0.2},\"hatch_color\":{\"type\":\"value\",\"value\":\"lightblue\"},\"hatch_alpha\":{\"type\":\"value\",\"value\":0.2}}}}},{\"type\":\"object\",\"name\":\"GlyphRenderer\",\"id\":\"p4878\",\"attributes\":{\"data_source\":{\"id\":\"p4836\"},\"view\":{\"type\":\"object\",\"name\":\"CDSView\",\"id\":\"p4879\",\"attributes\":{\"filter\":{\"type\":\"object\",\"name\":\"AllIndices\",\"id\":\"p4880\"}}},\"glyph\":{\"type\":\"object\",\"name\":\"Text\",\"id\":\"p4875\",\"attributes\":{\"x\":{\"type\":\"field\",\"field\":\"count\"},\"y\":{\"type\":\"field\",\"field\":\"airportcity\"},\"text\":{\"type\":\"field\",\"field\":\"count\"},\"x_offset\":{\"type\":\"value\",\"value\":-5},\"y_offset\":{\"type\":\"value\",\"value\":-3},\"text_color\":{\"type\":\"value\",\"value\":\"black\"},\"text_font_size\":{\"type\":\"value\",\"value\":\"10pt\"},\"text_align\":{\"type\":\"value\",\"value\":\"right\"},\"text_baseline\":{\"type\":\"value\",\"value\":\"middle\"}}},\"nonselection_glyph\":{\"type\":\"object\",\"name\":\"Text\",\"id\":\"p4876\",\"attributes\":{\"x\":{\"type\":\"field\",\"field\":\"count\"},\"y\":{\"type\":\"field\",\"field\":\"airportcity\"},\"text\":{\"type\":\"field\",\"field\":\"count\"},\"x_offset\":{\"type\":\"value\",\"value\":-5},\"y_offset\":{\"type\":\"value\",\"value\":-3},\"text_color\":{\"type\":\"value\",\"value\":\"black\"},\"text_alpha\":{\"type\":\"value\",\"value\":0.1},\"text_font_size\":{\"type\":\"value\",\"value\":\"10pt\"},\"text_align\":{\"type\":\"value\",\"value\":\"right\"},\"text_baseline\":{\"type\":\"value\",\"value\":\"middle\"}}},\"muted_glyph\":{\"type\":\"object\",\"name\":\"Text\",\"id\":\"p4877\",\"attributes\":{\"x\":{\"type\":\"field\",\"field\":\"count\"},\"y\":{\"type\":\"field\",\"field\":\"airportcity\"},\"text\":{\"type\":\"field\",\"field\":\"count\"},\"x_offset\":{\"type\":\"value\",\"value\":-5},\"y_offset\":{\"type\":\"value\",\"value\":-3},\"text_color\":{\"type\":\"value\",\"value\":\"black\"},\"text_alpha\":{\"type\":\"value\",\"value\":0.2},\"text_font_size\":{\"type\":\"value\",\"value\":\"10pt\"},\"text_align\":{\"type\":\"value\",\"value\":\"right\"},\"text_baseline\":{\"type\":\"value\",\"value\":\"middle\"}}}}}],\"toolbar\":{\"type\":\"object\",\"name\":\"Toolbar\",\"id\":\"p4848\",\"attributes\":{\"tools\":[{\"type\":\"object\",\"name\":\"SaveTool\",\"id\":\"p4862\"}]}},\"toolbar_location\":\"above\",\"left\":[{\"type\":\"object\",\"name\":\"CategoricalAxis\",\"id\":\"p4857\",\"attributes\":{\"ticker\":{\"type\":\"object\",\"name\":\"CategoricalTicker\",\"id\":\"p4858\"},\"formatter\":{\"type\":\"object\",\"name\":\"CategoricalTickFormatter\",\"id\":\"p4859\"},\"major_label_policy\":{\"type\":\"object\",\"name\":\"AllLabels\",\"id\":\"p4860\"},\"axis_line_color\":null,\"major_tick_line_color\":null,\"minor_tick_line_color\":null}}],\"below\":[{\"type\":\"object\",\"name\":\"LinearAxis\",\"id\":\"p4852\",\"attributes\":{\"visible\":false,\"ticker\":{\"type\":\"object\",\"name\":\"BasicTicker\",\"id\":\"p4853\",\"attributes\":{\"mantissas\":[1,2,5]}},\"formatter\":{\"type\":\"object\",\"name\":\"BasicTickFormatter\",\"id\":\"p4854\"},\"major_label_policy\":{\"type\":\"object\",\"name\":\"AllLabels\",\"id\":\"p4855\"}}}],\"center\":[{\"type\":\"object\",\"name\":\"Grid\",\"id\":\"p4856\",\"attributes\":{\"visible\":false,\"axis\":{\"id\":\"p4852\"}}},{\"type\":\"object\",\"name\":\"Grid\",\"id\":\"p4861\",\"attributes\":{\"visible\":false,\"dimension\":1,\"axis\":{\"id\":\"p4857\"}}}]}},{\"type\":\"object\",\"name\":\"Div\",\"id\":\"p4881\",\"attributes\":{\"width\":600,\"text\":\"<p style='font-size:12px; color:gray;'>Source: AviationStack. Acessed October 7th 2024.</p>\"}}]}}}},{\"type\":\"object\",\"name\":\"TabPanel\",\"id\":\"p4931\",\"attributes\":{\"title\":\"Most Cancelled Arrivals\",\"child\":{\"type\":\"object\",\"name\":\"Column\",\"id\":\"p4930\",\"attributes\":{\"children\":[{\"type\":\"object\",\"name\":\"Figure\",\"id\":\"p4887\",\"attributes\":{\"height\":400,\"x_range\":{\"type\":\"object\",\"name\":\"DataRange1d\",\"id\":\"p4889\"},\"y_range\":{\"type\":\"object\",\"name\":\"FactorRange\",\"id\":\"p4897\",\"attributes\":{\"factors\":[\"Antalya\",\"Larnaca\",\"Doha\",\"Istanbul (Sabiha G\\u00f6k\\u00e7en)\",\"Paris (Charles de Gaulle)\",\"Cairo\",\"Frankfurt\",\"Dubai\",\"Istanbul\",\"Amman\"]}},\"x_scale\":{\"type\":\"object\",\"name\":\"LinearScale\",\"id\":\"p4898\"},\"y_scale\":{\"type\":\"object\",\"name\":\"CategoricalScale\",\"id\":\"p4899\"},\"title\":{\"type\":\"object\",\"name\":\"Title\",\"id\":\"p4890\",\"attributes\":{\"text\":\"Most Cancelled Arrivals in 2024\"}},\"outline_line_color\":null,\"renderers\":[{\"type\":\"object\",\"name\":\"GlyphRenderer\",\"id\":\"p4917\",\"attributes\":{\"data_source\":{\"type\":\"object\",\"name\":\"ColumnDataSource\",\"id\":\"p4884\",\"attributes\":{\"selected\":{\"type\":\"object\",\"name\":\"Selection\",\"id\":\"p4885\",\"attributes\":{\"indices\":[],\"line_indices\":[]}},\"selection_policy\":{\"type\":\"object\",\"name\":\"UnionRenderers\",\"id\":\"p4886\"},\"data\":{\"type\":\"map\",\"entries\":[[\"index\",{\"type\":\"ndarray\",\"array\":{\"type\":\"bytes\",\"data\":\"CQAAAAgAAAAHAAAABgAAAAQAAAAFAAAAAgAAAAMAAAABAAAAAAAAAA==\"},\"shape\":[10],\"dtype\":\"int32\",\"order\":\"little\"}],[\"airportcity\",{\"type\":\"ndarray\",\"array\":[\"Antalya\",\"Larnaca\",\"Doha\",\"Istanbul (Sabiha G\\u00f6k\\u00e7en)\",\"Paris (Charles de Gaulle)\",\"Cairo\",\"Frankfurt\",\"Dubai\",\"Istanbul\",\"Amman\"],\"shape\":[10],\"dtype\":\"object\",\"order\":\"little\"}],[\"count\",{\"type\":\"ndarray\",\"array\":{\"type\":\"bytes\",\"data\":\"FgAAABoAAAAcAAAAHQAAACgAAAAoAAAAMQAAADEAAAA5AAAAOgAAAA==\"},\"shape\":[10],\"dtype\":\"int32\",\"order\":\"little\"}]]}}},\"view\":{\"type\":\"object\",\"name\":\"CDSView\",\"id\":\"p4918\",\"attributes\":{\"filter\":{\"type\":\"object\",\"name\":\"AllIndices\",\"id\":\"p4919\"}}},\"glyph\":{\"type\":\"object\",\"name\":\"HBar\",\"id\":\"p4914\",\"attributes\":{\"y\":{\"type\":\"field\",\"field\":\"airportcity\"},\"height\":{\"type\":\"value\",\"value\":0.5},\"right\":{\"type\":\"field\",\"field\":\"count\"},\"line_color\":{\"type\":\"value\",\"value\":\"orange\"},\"line_alpha\":{\"type\":\"value\",\"value\":0.7},\"fill_color\":{\"type\":\"value\",\"value\":\"orange\"},\"fill_alpha\":{\"type\":\"value\",\"value\":0.7},\"hatch_color\":{\"type\":\"value\",\"value\":\"orange\"},\"hatch_alpha\":{\"type\":\"value\",\"value\":0.7}}},\"nonselection_glyph\":{\"type\":\"object\",\"name\":\"HBar\",\"id\":\"p4915\",\"attributes\":{\"y\":{\"type\":\"field\",\"field\":\"airportcity\"},\"height\":{\"type\":\"value\",\"value\":0.5},\"right\":{\"type\":\"field\",\"field\":\"count\"},\"line_color\":{\"type\":\"value\",\"value\":\"orange\"},\"line_alpha\":{\"type\":\"value\",\"value\":0.1},\"fill_color\":{\"type\":\"value\",\"value\":\"orange\"},\"fill_alpha\":{\"type\":\"value\",\"value\":0.1},\"hatch_color\":{\"type\":\"value\",\"value\":\"orange\"},\"hatch_alpha\":{\"type\":\"value\",\"value\":0.1}}},\"muted_glyph\":{\"type\":\"object\",\"name\":\"HBar\",\"id\":\"p4916\",\"attributes\":{\"y\":{\"type\":\"field\",\"field\":\"airportcity\"},\"height\":{\"type\":\"value\",\"value\":0.5},\"right\":{\"type\":\"field\",\"field\":\"count\"},\"line_color\":{\"type\":\"value\",\"value\":\"orange\"},\"line_alpha\":{\"type\":\"value\",\"value\":0.2},\"fill_color\":{\"type\":\"value\",\"value\":\"orange\"},\"fill_alpha\":{\"type\":\"value\",\"value\":0.2},\"hatch_color\":{\"type\":\"value\",\"value\":\"orange\"},\"hatch_alpha\":{\"type\":\"value\",\"value\":0.2}}}}},{\"type\":\"object\",\"name\":\"GlyphRenderer\",\"id\":\"p4926\",\"attributes\":{\"data_source\":{\"id\":\"p4884\"},\"view\":{\"type\":\"object\",\"name\":\"CDSView\",\"id\":\"p4927\",\"attributes\":{\"filter\":{\"type\":\"object\",\"name\":\"AllIndices\",\"id\":\"p4928\"}}},\"glyph\":{\"type\":\"object\",\"name\":\"Text\",\"id\":\"p4923\",\"attributes\":{\"x\":{\"type\":\"field\",\"field\":\"count\"},\"y\":{\"type\":\"field\",\"field\":\"airportcity\"},\"text\":{\"type\":\"field\",\"field\":\"count\"},\"x_offset\":{\"type\":\"value\",\"value\":-5},\"y_offset\":{\"type\":\"value\",\"value\":-3},\"text_color\":{\"type\":\"value\",\"value\":\"black\"},\"text_font_size\":{\"type\":\"value\",\"value\":\"10pt\"},\"text_align\":{\"type\":\"value\",\"value\":\"right\"},\"text_baseline\":{\"type\":\"value\",\"value\":\"middle\"}}},\"nonselection_glyph\":{\"type\":\"object\",\"name\":\"Text\",\"id\":\"p4924\",\"attributes\":{\"x\":{\"type\":\"field\",\"field\":\"count\"},\"y\":{\"type\":\"field\",\"field\":\"airportcity\"},\"text\":{\"type\":\"field\",\"field\":\"count\"},\"x_offset\":{\"type\":\"value\",\"value\":-5},\"y_offset\":{\"type\":\"value\",\"value\":-3},\"text_color\":{\"type\":\"value\",\"value\":\"black\"},\"text_alpha\":{\"type\":\"value\",\"value\":0.1},\"text_font_size\":{\"type\":\"value\",\"value\":\"10pt\"},\"text_align\":{\"type\":\"value\",\"value\":\"right\"},\"text_baseline\":{\"type\":\"value\",\"value\":\"middle\"}}},\"muted_glyph\":{\"type\":\"object\",\"name\":\"Text\",\"id\":\"p4925\",\"attributes\":{\"x\":{\"type\":\"field\",\"field\":\"count\"},\"y\":{\"type\":\"field\",\"field\":\"airportcity\"},\"text\":{\"type\":\"field\",\"field\":\"count\"},\"x_offset\":{\"type\":\"value\",\"value\":-5},\"y_offset\":{\"type\":\"value\",\"value\":-3},\"text_color\":{\"type\":\"value\",\"value\":\"black\"},\"text_alpha\":{\"type\":\"value\",\"value\":0.2},\"text_font_size\":{\"type\":\"value\",\"value\":\"10pt\"},\"text_align\":{\"type\":\"value\",\"value\":\"right\"},\"text_baseline\":{\"type\":\"value\",\"value\":\"middle\"}}}}}],\"toolbar\":{\"type\":\"object\",\"name\":\"Toolbar\",\"id\":\"p4896\",\"attributes\":{\"tools\":[{\"type\":\"object\",\"name\":\"SaveTool\",\"id\":\"p4910\"}]}},\"toolbar_location\":\"above\",\"left\":[{\"type\":\"object\",\"name\":\"CategoricalAxis\",\"id\":\"p4905\",\"attributes\":{\"ticker\":{\"type\":\"object\",\"name\":\"CategoricalTicker\",\"id\":\"p4906\"},\"formatter\":{\"type\":\"object\",\"name\":\"CategoricalTickFormatter\",\"id\":\"p4907\"},\"major_label_policy\":{\"type\":\"object\",\"name\":\"AllLabels\",\"id\":\"p4908\"},\"axis_line_color\":null,\"major_tick_line_color\":null,\"minor_tick_line_color\":null}}],\"below\":[{\"type\":\"object\",\"name\":\"LinearAxis\",\"id\":\"p4900\",\"attributes\":{\"visible\":false,\"ticker\":{\"type\":\"object\",\"name\":\"BasicTicker\",\"id\":\"p4901\",\"attributes\":{\"mantissas\":[1,2,5]}},\"formatter\":{\"type\":\"object\",\"name\":\"BasicTickFormatter\",\"id\":\"p4902\"},\"major_label_policy\":{\"type\":\"object\",\"name\":\"AllLabels\",\"id\":\"p4903\"}}}],\"center\":[{\"type\":\"object\",\"name\":\"Grid\",\"id\":\"p4904\",\"attributes\":{\"visible\":false,\"axis\":{\"id\":\"p4900\"}}},{\"type\":\"object\",\"name\":\"Grid\",\"id\":\"p4909\",\"attributes\":{\"visible\":false,\"dimension\":1,\"axis\":{\"id\":\"p4905\"}}}]}},{\"type\":\"object\",\"name\":\"Div\",\"id\":\"p4929\",\"attributes\":{\"width\":600,\"text\":\"<p style='font-size:12px; color:gray;'>Source: AviationStack. Acessed October 7th 2024.</p>\"}}]}}}},{\"type\":\"object\",\"name\":\"TabPanel\",\"id\":\"p4979\",\"attributes\":{\"title\":\"Most Scheduled Arrivals\",\"child\":{\"type\":\"object\",\"name\":\"Column\",\"id\":\"p4978\",\"attributes\":{\"children\":[{\"type\":\"object\",\"name\":\"Figure\",\"id\":\"p4935\",\"attributes\":{\"height\":400,\"x_range\":{\"type\":\"object\",\"name\":\"DataRange1d\",\"id\":\"p4937\"},\"y_range\":{\"type\":\"object\",\"name\":\"FactorRange\",\"id\":\"p4945\",\"attributes\":{\"factors\":[\"Larnaca\",\"Paris (Charles de Gaulle)\",\"Doha\",\"Addis Ababa\",\"Antalya\",\"Abu Dhabi\",\"Baghdad\",\"Cairo\",\"Dubai\",\"Istanbul\"]}},\"x_scale\":{\"type\":\"object\",\"name\":\"LinearScale\",\"id\":\"p4946\"},\"y_scale\":{\"type\":\"object\",\"name\":\"CategoricalScale\",\"id\":\"p4947\"},\"title\":{\"type\":\"object\",\"name\":\"Title\",\"id\":\"p4938\",\"attributes\":{\"text\":\"Most Scheduled Arrivals in 2024\"}},\"outline_line_color\":null,\"renderers\":[{\"type\":\"object\",\"name\":\"GlyphRenderer\",\"id\":\"p4965\",\"attributes\":{\"data_source\":{\"type\":\"object\",\"name\":\"ColumnDataSource\",\"id\":\"p4932\",\"attributes\":{\"selected\":{\"type\":\"object\",\"name\":\"Selection\",\"id\":\"p4933\",\"attributes\":{\"indices\":[],\"line_indices\":[]}},\"selection_policy\":{\"type\":\"object\",\"name\":\"UnionRenderers\",\"id\":\"p4934\"},\"data\":{\"type\":\"map\",\"entries\":[[\"index\",{\"type\":\"ndarray\",\"array\":{\"type\":\"bytes\",\"data\":\"CQAAAAgAAAAHAAAABgAAAAUAAAAEAAAAAwAAAAIAAAABAAAAAAAAAA==\"},\"shape\":[10],\"dtype\":\"int32\",\"order\":\"little\"}],[\"airportcity\",{\"type\":\"ndarray\",\"array\":[\"Larnaca\",\"Paris (Charles de Gaulle)\",\"Doha\",\"Addis Ababa\",\"Antalya\",\"Abu Dhabi\",\"Baghdad\",\"Cairo\",\"Dubai\",\"Istanbul\"],\"shape\":[10],\"dtype\":\"object\",\"order\":\"little\"}],[\"count\",{\"type\":\"ndarray\",\"array\":{\"type\":\"bytes\",\"data\":\"SgAAAE4AAABSAAAAVwAAAFgAAAB2AAAAeAAAAHsAAACfAAAAoAAAAA==\"},\"shape\":[10],\"dtype\":\"int32\",\"order\":\"little\"}]]}}},\"view\":{\"type\":\"object\",\"name\":\"CDSView\",\"id\":\"p4966\",\"attributes\":{\"filter\":{\"type\":\"object\",\"name\":\"AllIndices\",\"id\":\"p4967\"}}},\"glyph\":{\"type\":\"object\",\"name\":\"HBar\",\"id\":\"p4962\",\"attributes\":{\"y\":{\"type\":\"field\",\"field\":\"airportcity\"},\"height\":{\"type\":\"value\",\"value\":0.5},\"right\":{\"type\":\"field\",\"field\":\"count\"},\"line_color\":{\"type\":\"value\",\"value\":\"#023436\"},\"line_alpha\":{\"type\":\"value\",\"value\":0.7},\"fill_color\":{\"type\":\"value\",\"value\":\"#023436\"},\"fill_alpha\":{\"type\":\"value\",\"value\":0.7},\"hatch_color\":{\"type\":\"value\",\"value\":\"#023436\"},\"hatch_alpha\":{\"type\":\"value\",\"value\":0.7}}},\"nonselection_glyph\":{\"type\":\"object\",\"name\":\"HBar\",\"id\":\"p4963\",\"attributes\":{\"y\":{\"type\":\"field\",\"field\":\"airportcity\"},\"height\":{\"type\":\"value\",\"value\":0.5},\"right\":{\"type\":\"field\",\"field\":\"count\"},\"line_color\":{\"type\":\"value\",\"value\":\"#023436\"},\"line_alpha\":{\"type\":\"value\",\"value\":0.1},\"fill_color\":{\"type\":\"value\",\"value\":\"#023436\"},\"fill_alpha\":{\"type\":\"value\",\"value\":0.1},\"hatch_color\":{\"type\":\"value\",\"value\":\"#023436\"},\"hatch_alpha\":{\"type\":\"value\",\"value\":0.1}}},\"muted_glyph\":{\"type\":\"object\",\"name\":\"HBar\",\"id\":\"p4964\",\"attributes\":{\"y\":{\"type\":\"field\",\"field\":\"airportcity\"},\"height\":{\"type\":\"value\",\"value\":0.5},\"right\":{\"type\":\"field\",\"field\":\"count\"},\"line_color\":{\"type\":\"value\",\"value\":\"#023436\"},\"line_alpha\":{\"type\":\"value\",\"value\":0.2},\"fill_color\":{\"type\":\"value\",\"value\":\"#023436\"},\"fill_alpha\":{\"type\":\"value\",\"value\":0.2},\"hatch_color\":{\"type\":\"value\",\"value\":\"#023436\"},\"hatch_alpha\":{\"type\":\"value\",\"value\":0.2}}}}},{\"type\":\"object\",\"name\":\"GlyphRenderer\",\"id\":\"p4974\",\"attributes\":{\"data_source\":{\"id\":\"p4932\"},\"view\":{\"type\":\"object\",\"name\":\"CDSView\",\"id\":\"p4975\",\"attributes\":{\"filter\":{\"type\":\"object\",\"name\":\"AllIndices\",\"id\":\"p4976\"}}},\"glyph\":{\"type\":\"object\",\"name\":\"Text\",\"id\":\"p4971\",\"attributes\":{\"x\":{\"type\":\"field\",\"field\":\"count\"},\"y\":{\"type\":\"field\",\"field\":\"airportcity\"},\"text\":{\"type\":\"field\",\"field\":\"count\"},\"x_offset\":{\"type\":\"value\",\"value\":-5},\"y_offset\":{\"type\":\"value\",\"value\":-3},\"text_color\":{\"type\":\"value\",\"value\":\"black\"},\"text_font_size\":{\"type\":\"value\",\"value\":\"10pt\"},\"text_align\":{\"type\":\"value\",\"value\":\"right\"},\"text_baseline\":{\"type\":\"value\",\"value\":\"middle\"}}},\"nonselection_glyph\":{\"type\":\"object\",\"name\":\"Text\",\"id\":\"p4972\",\"attributes\":{\"x\":{\"type\":\"field\",\"field\":\"count\"},\"y\":{\"type\":\"field\",\"field\":\"airportcity\"},\"text\":{\"type\":\"field\",\"field\":\"count\"},\"x_offset\":{\"type\":\"value\",\"value\":-5},\"y_offset\":{\"type\":\"value\",\"value\":-3},\"text_color\":{\"type\":\"value\",\"value\":\"black\"},\"text_alpha\":{\"type\":\"value\",\"value\":0.1},\"text_font_size\":{\"type\":\"value\",\"value\":\"10pt\"},\"text_align\":{\"type\":\"value\",\"value\":\"right\"},\"text_baseline\":{\"type\":\"value\",\"value\":\"middle\"}}},\"muted_glyph\":{\"type\":\"object\",\"name\":\"Text\",\"id\":\"p4973\",\"attributes\":{\"x\":{\"type\":\"field\",\"field\":\"count\"},\"y\":{\"type\":\"field\",\"field\":\"airportcity\"},\"text\":{\"type\":\"field\",\"field\":\"count\"},\"x_offset\":{\"type\":\"value\",\"value\":-5},\"y_offset\":{\"type\":\"value\",\"value\":-3},\"text_color\":{\"type\":\"value\",\"value\":\"black\"},\"text_alpha\":{\"type\":\"value\",\"value\":0.2},\"text_font_size\":{\"type\":\"value\",\"value\":\"10pt\"},\"text_align\":{\"type\":\"value\",\"value\":\"right\"},\"text_baseline\":{\"type\":\"value\",\"value\":\"middle\"}}}}}],\"toolbar\":{\"type\":\"object\",\"name\":\"Toolbar\",\"id\":\"p4944\",\"attributes\":{\"tools\":[{\"type\":\"object\",\"name\":\"SaveTool\",\"id\":\"p4958\"}]}},\"toolbar_location\":\"above\",\"left\":[{\"type\":\"object\",\"name\":\"CategoricalAxis\",\"id\":\"p4953\",\"attributes\":{\"ticker\":{\"type\":\"object\",\"name\":\"CategoricalTicker\",\"id\":\"p4954\"},\"formatter\":{\"type\":\"object\",\"name\":\"CategoricalTickFormatter\",\"id\":\"p4955\"},\"major_label_policy\":{\"type\":\"object\",\"name\":\"AllLabels\",\"id\":\"p4956\"},\"axis_line_color\":null,\"major_tick_line_color\":null,\"minor_tick_line_color\":null}}],\"below\":[{\"type\":\"object\",\"name\":\"LinearAxis\",\"id\":\"p4948\",\"attributes\":{\"visible\":false,\"ticker\":{\"type\":\"object\",\"name\":\"BasicTicker\",\"id\":\"p4949\",\"attributes\":{\"mantissas\":[1,2,5]}},\"formatter\":{\"type\":\"object\",\"name\":\"BasicTickFormatter\",\"id\":\"p4950\"},\"major_label_policy\":{\"type\":\"object\",\"name\":\"AllLabels\",\"id\":\"p4951\"}}}],\"center\":[{\"type\":\"object\",\"name\":\"Grid\",\"id\":\"p4952\",\"attributes\":{\"visible\":false,\"axis\":{\"id\":\"p4948\"}}},{\"type\":\"object\",\"name\":\"Grid\",\"id\":\"p4957\",\"attributes\":{\"visible\":false,\"dimension\":1,\"axis\":{\"id\":\"p4953\"}}}]}},{\"type\":\"object\",\"name\":\"Div\",\"id\":\"p4977\",\"attributes\":{\"width\":600,\"text\":\"<p style='font-size:12px; color:gray;'>Source: AviationStack. Acessed October 7th 2024.</p>\"}}]}}}},{\"type\":\"object\",\"name\":\"TabPanel\",\"id\":\"p5027\",\"attributes\":{\"title\":\"Most Diverted Arrivals\",\"child\":{\"type\":\"object\",\"name\":\"Column\",\"id\":\"p5026\",\"attributes\":{\"children\":[{\"type\":\"object\",\"name\":\"Figure\",\"id\":\"p4983\",\"attributes\":{\"height\":400,\"x_range\":{\"type\":\"object\",\"name\":\"DataRange1d\",\"id\":\"p4985\"},\"y_range\":{\"type\":\"object\",\"name\":\"FactorRange\",\"id\":\"p4993\",\"attributes\":{\"factors\":[\"Najaf\",\"Riyadh\",\"Jeddah\",\"Abu Dhabi\",\"Doha\",\"Cairo\",\"Baghdad\",\"Istanbul\",\"Dubai\",\"Amman\"]}},\"x_scale\":{\"type\":\"object\",\"name\":\"LinearScale\",\"id\":\"p4994\"},\"y_scale\":{\"type\":\"object\",\"name\":\"CategoricalScale\",\"id\":\"p4995\"},\"title\":{\"type\":\"object\",\"name\":\"Title\",\"id\":\"p4986\",\"attributes\":{\"text\":\"Most Diverted Arrivals in 2024\"}},\"outline_line_color\":null,\"renderers\":[{\"type\":\"object\",\"name\":\"GlyphRenderer\",\"id\":\"p5013\",\"attributes\":{\"data_source\":{\"type\":\"object\",\"name\":\"ColumnDataSource\",\"id\":\"p4980\",\"attributes\":{\"selected\":{\"type\":\"object\",\"name\":\"Selection\",\"id\":\"p4981\",\"attributes\":{\"indices\":[],\"line_indices\":[]}},\"selection_policy\":{\"type\":\"object\",\"name\":\"UnionRenderers\",\"id\":\"p4982\"},\"data\":{\"type\":\"map\",\"entries\":[[\"index\",{\"type\":\"ndarray\",\"array\":{\"type\":\"bytes\",\"data\":\"CQAAAAgAAAAGAAAABwAAAAUAAAAEAAAAAwAAAAIAAAABAAAAAAAAAA==\"},\"shape\":[10],\"dtype\":\"int32\",\"order\":\"little\"}],[\"airportcity\",{\"type\":\"ndarray\",\"array\":[\"Najaf\",\"Riyadh\",\"Jeddah\",\"Abu Dhabi\",\"Doha\",\"Cairo\",\"Baghdad\",\"Istanbul\",\"Dubai\",\"Amman\"],\"shape\":[10],\"dtype\":\"object\",\"order\":\"little\"}],[\"count\",{\"type\":\"ndarray\",\"array\":{\"type\":\"bytes\",\"data\":\"KgAAAC4AAAA2AAAANgAAADkAAAA8AAAAPwAAAEMAAABaAAAAXQAAAA==\"},\"shape\":[10],\"dtype\":\"int32\",\"order\":\"little\"}]]}}},\"view\":{\"type\":\"object\",\"name\":\"CDSView\",\"id\":\"p5014\",\"attributes\":{\"filter\":{\"type\":\"object\",\"name\":\"AllIndices\",\"id\":\"p5015\"}}},\"glyph\":{\"type\":\"object\",\"name\":\"HBar\",\"id\":\"p5010\",\"attributes\":{\"y\":{\"type\":\"field\",\"field\":\"airportcity\"},\"height\":{\"type\":\"value\",\"value\":0.5},\"right\":{\"type\":\"field\",\"field\":\"count\"},\"line_color\":{\"type\":\"value\",\"value\":\"#00BFB3\"},\"line_alpha\":{\"type\":\"value\",\"value\":0.7},\"fill_color\":{\"type\":\"value\",\"value\":\"#00BFB3\"},\"fill_alpha\":{\"type\":\"value\",\"value\":0.7},\"hatch_color\":{\"type\":\"value\",\"value\":\"#00BFB3\"},\"hatch_alpha\":{\"type\":\"value\",\"value\":0.7}}},\"nonselection_glyph\":{\"type\":\"object\",\"name\":\"HBar\",\"id\":\"p5011\",\"attributes\":{\"y\":{\"type\":\"field\",\"field\":\"airportcity\"},\"height\":{\"type\":\"value\",\"value\":0.5},\"right\":{\"type\":\"field\",\"field\":\"count\"},\"line_color\":{\"type\":\"value\",\"value\":\"#00BFB3\"},\"line_alpha\":{\"type\":\"value\",\"value\":0.1},\"fill_color\":{\"type\":\"value\",\"value\":\"#00BFB3\"},\"fill_alpha\":{\"type\":\"value\",\"value\":0.1},\"hatch_color\":{\"type\":\"value\",\"value\":\"#00BFB3\"},\"hatch_alpha\":{\"type\":\"value\",\"value\":0.1}}},\"muted_glyph\":{\"type\":\"object\",\"name\":\"HBar\",\"id\":\"p5012\",\"attributes\":{\"y\":{\"type\":\"field\",\"field\":\"airportcity\"},\"height\":{\"type\":\"value\",\"value\":0.5},\"right\":{\"type\":\"field\",\"field\":\"count\"},\"line_color\":{\"type\":\"value\",\"value\":\"#00BFB3\"},\"line_alpha\":{\"type\":\"value\",\"value\":0.2},\"fill_color\":{\"type\":\"value\",\"value\":\"#00BFB3\"},\"fill_alpha\":{\"type\":\"value\",\"value\":0.2},\"hatch_color\":{\"type\":\"value\",\"value\":\"#00BFB3\"},\"hatch_alpha\":{\"type\":\"value\",\"value\":0.2}}}}},{\"type\":\"object\",\"name\":\"GlyphRenderer\",\"id\":\"p5022\",\"attributes\":{\"data_source\":{\"id\":\"p4980\"},\"view\":{\"type\":\"object\",\"name\":\"CDSView\",\"id\":\"p5023\",\"attributes\":{\"filter\":{\"type\":\"object\",\"name\":\"AllIndices\",\"id\":\"p5024\"}}},\"glyph\":{\"type\":\"object\",\"name\":\"Text\",\"id\":\"p5019\",\"attributes\":{\"x\":{\"type\":\"field\",\"field\":\"count\"},\"y\":{\"type\":\"field\",\"field\":\"airportcity\"},\"text\":{\"type\":\"field\",\"field\":\"count\"},\"x_offset\":{\"type\":\"value\",\"value\":-5},\"y_offset\":{\"type\":\"value\",\"value\":-3},\"text_color\":{\"type\":\"value\",\"value\":\"black\"},\"text_font_size\":{\"type\":\"value\",\"value\":\"10pt\"},\"text_align\":{\"type\":\"value\",\"value\":\"right\"},\"text_baseline\":{\"type\":\"value\",\"value\":\"middle\"}}},\"nonselection_glyph\":{\"type\":\"object\",\"name\":\"Text\",\"id\":\"p5020\",\"attributes\":{\"x\":{\"type\":\"field\",\"field\":\"count\"},\"y\":{\"type\":\"field\",\"field\":\"airportcity\"},\"text\":{\"type\":\"field\",\"field\":\"count\"},\"x_offset\":{\"type\":\"value\",\"value\":-5},\"y_offset\":{\"type\":\"value\",\"value\":-3},\"text_color\":{\"type\":\"value\",\"value\":\"black\"},\"text_alpha\":{\"type\":\"value\",\"value\":0.1},\"text_font_size\":{\"type\":\"value\",\"value\":\"10pt\"},\"text_align\":{\"type\":\"value\",\"value\":\"right\"},\"text_baseline\":{\"type\":\"value\",\"value\":\"middle\"}}},\"muted_glyph\":{\"type\":\"object\",\"name\":\"Text\",\"id\":\"p5021\",\"attributes\":{\"x\":{\"type\":\"field\",\"field\":\"count\"},\"y\":{\"type\":\"field\",\"field\":\"airportcity\"},\"text\":{\"type\":\"field\",\"field\":\"count\"},\"x_offset\":{\"type\":\"value\",\"value\":-5},\"y_offset\":{\"type\":\"value\",\"value\":-3},\"text_color\":{\"type\":\"value\",\"value\":\"black\"},\"text_alpha\":{\"type\":\"value\",\"value\":0.2},\"text_font_size\":{\"type\":\"value\",\"value\":\"10pt\"},\"text_align\":{\"type\":\"value\",\"value\":\"right\"},\"text_baseline\":{\"type\":\"value\",\"value\":\"middle\"}}}}}],\"toolbar\":{\"type\":\"object\",\"name\":\"Toolbar\",\"id\":\"p4992\",\"attributes\":{\"tools\":[{\"type\":\"object\",\"name\":\"SaveTool\",\"id\":\"p5006\"}]}},\"toolbar_location\":\"above\",\"left\":[{\"type\":\"object\",\"name\":\"CategoricalAxis\",\"id\":\"p5001\",\"attributes\":{\"ticker\":{\"type\":\"object\",\"name\":\"CategoricalTicker\",\"id\":\"p5002\"},\"formatter\":{\"type\":\"object\",\"name\":\"CategoricalTickFormatter\",\"id\":\"p5003\"},\"major_label_policy\":{\"type\":\"object\",\"name\":\"AllLabels\",\"id\":\"p5004\"},\"axis_line_color\":null,\"major_tick_line_color\":null,\"minor_tick_line_color\":null}}],\"below\":[{\"type\":\"object\",\"name\":\"LinearAxis\",\"id\":\"p4996\",\"attributes\":{\"visible\":false,\"ticker\":{\"type\":\"object\",\"name\":\"BasicTicker\",\"id\":\"p4997\",\"attributes\":{\"mantissas\":[1,2,5]}},\"formatter\":{\"type\":\"object\",\"name\":\"BasicTickFormatter\",\"id\":\"p4998\"},\"major_label_policy\":{\"type\":\"object\",\"name\":\"AllLabels\",\"id\":\"p4999\"}}}],\"center\":[{\"type\":\"object\",\"name\":\"Grid\",\"id\":\"p5000\",\"attributes\":{\"visible\":false,\"axis\":{\"id\":\"p4996\"}}},{\"type\":\"object\",\"name\":\"Grid\",\"id\":\"p5005\",\"attributes\":{\"visible\":false,\"dimension\":1,\"axis\":{\"id\":\"p5001\"}}}]}},{\"type\":\"object\",\"name\":\"Div\",\"id\":\"p5025\",\"attributes\":{\"width\":600,\"text\":\"<p style='font-size:12px; color:gray;'>Source: AviationStack. Acessed October 7th 2024.</p>\"}}]}}}}]}}]}}]}};\n  const render_items = [{\"docid\":\"e3db2544-f9ef-4c80-a273-e27541a010d6\",\"roots\":{\"p5030\":\"ef3f4370-7b84-474c-8e30-5e730d6b8b25\"},\"root_ids\":[\"p5030\"]}];\n  void root.Bokeh.embed.embed_items_notebook(docs_json, render_items);\n  }\n  if (root.Bokeh !== undefined) {\n    embed_document(root);\n  } else {\n    let attempts = 0;\n    const timer = setInterval(function(root) {\n      if (root.Bokeh !== undefined) {\n        clearInterval(timer);\n        embed_document(root);\n      } else {\n        attempts++;\n        if (attempts > 100) {\n          clearInterval(timer);\n          console.log(\"Bokeh: ERROR: Unable to run BokehJS code because BokehJS library is missing\");\n        }\n      }\n    }, 10, root)\n  }\n})(window);",
      "application/vnd.bokehjs_exec.v0+json": ""
     },
     "metadata": {
      "application/vnd.bokehjs_exec.v0+json": {
       "id": "p5030"
      }
     },
     "output_type": "display_data"
    }
   ],
   "source": [
    "output_notebook()\n",
    "from bokeh.layouts import column\n",
    "from bokeh.models import Div\n",
    "\n",
    "# Example datasets stored in a dictionary\n",
    "datasets = {\n",
    "    \"Most Changed Arrivals\": most_changed_arrivals,\n",
    "    \"Most Cancelled Arrivals\": most_cancelled_arrivals,\n",
    "    \"Most Scheduled Arrivals\": most_scheduled_arrivals,\n",
    "    \"Most Diverted Arrivals\": most_diverted_arrivals\n",
    "}\n",
    "\n",
    "# Initialize an empty list to store the tabs\n",
    "# List of colors to use for each dataset\n",
    "colors = [\"lightblue\", \"orange\", \"#023436\", \"#00BFB3\"]\n",
    "\n",
    "# Initialize an empty list to store the tabs\n",
    "tabs = []\n",
    "\n",
    "# Loop through each dataset and its corresponding color\n",
    "for (title, data), color in zip(datasets.items(), colors):\n",
    "    # Convert data to ColumnDataSource for Bokeh plotting\n",
    "    source = ColumnDataSource(data)\n",
    "\n",
    "    # Create a figure for each dataset\n",
    "    p = figure(y_range=data['airportcity'], width=600, height=400, title=title + \" in 2024\", tools=\"save\", toolbar_location=\"above\")\n",
    "    p.hbar(y='airportcity', right='count', height=0.5, color=color, alpha=0.7, source=source)\n",
    "\n",
    "    # Add text inside the bars (5 points inside the bar)\n",
    "    p.text(x='count', y='airportcity', text='count', source=source, \n",
    "           x_offset=-5,  # This places the text 5 units inside the bar\n",
    "           y_offset=-3,  # Vertical alignment\n",
    "           text_align='right', text_baseline='middle', text_color=\"black\", text_font_size=\"10pt\")\n",
    "\n",
    "    # Customize plot (optional)\n",
    "    p.xaxis.visible = False\n",
    "    p.ygrid.visible = False\n",
    "    p.xgrid.visible = False\n",
    "    p.yaxis.major_tick_line_color = None  # No major ticks\n",
    "    p.yaxis.minor_tick_line_color = None  # No minor ticks\n",
    "    p.yaxis.axis_line_color = None  \n",
    "    p.outline_line_color = None\n",
    "\n",
    "    subtitle = Div(text=f\"<p style='font-size:12px; color:gray;'>Source: AviationStack. Acessed October 7th 2024.</p>\", width=600)\n",
    "\n",
    "    layout = column(p, subtitle)\n",
    "\n",
    "    # Create a panel with the plot and the corresponding title\n",
    "    tab = TabPanel(child=layout, title=title)\n",
    "    \n",
    "    # Append the panel to the list of tabs\n",
    "    tabs.append(tab)\n",
    "\n",
    "# Arrange the tabs in a Tabs layout\n",
    "tabs_layout = Tabs(tabs=tabs)\n",
    "\n",
    "main_title = Div(text=\"<h2>Top 10 Destinations with Changes in Arrivals to BEY in 2024</h2>\", width=800)\n",
    "\n",
    "# Use column layout to stack the title on top of the tabs\n",
    "layout = column(main_title, tabs_layout)\n",
    "\n",
    "# Show the tabs\n",
    "show(layout)"
   ]
  },
  {
   "cell_type": "markdown",
   "metadata": {},
   "source": [
    "### Findings\n",
    "\n",
    "- Flights from Frankfurt were also cancelled the most potentially because of Lufthansa. \n",
    "- There were far fewer flights from Dubai, potentially because Emirates also [shut down their services to Lebanon temporarily](https://www.reuters.com/world/middle-east/emirates-flydubai-latest-airlines-amend-beirut-flights-2024-07-31/). "
   ]
  },
  {
   "cell_type": "code",
   "execution_count": null,
   "metadata": {
    "tags": [
     "remove-cell"
    ]
   },
   "outputs": [],
   "source": [
    "arrivals_exploded.to_csv(\n",
    "    \"../../data/aviation/processed_arrivals_bey_20240101_2024_1007.csv\"\n",
    ")\n",
    "departures_exploded.to_csv(\n",
    "    \"../../data/aviation/processed_departures_bey_20240101_2024_1007.csv\"\n",
    ")"
   ]
  }
 ],
 "metadata": {
  "kernelspec": {
   "display_name": "data-goods",
   "language": "python",
   "name": "python3"
  },
  "language_info": {
   "codemirror_mode": {
    "name": "ipython",
    "version": 3
   },
   "file_extension": ".py",
   "mimetype": "text/x-python",
   "name": "python",
   "nbconvert_exporter": "python",
   "pygments_lexer": "ipython3",
   "version": "3.11.9"
  }
 },
 "nbformat": 4,
 "nbformat_minor": 2
}
